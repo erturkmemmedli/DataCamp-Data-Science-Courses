{
 "cells": [
  {
   "cell_type": "markdown",
   "id": "e83ec9a2",
   "metadata": {},
   "source": [
    "# Working with Dates and Times in Python"
   ]
  },
  {
   "cell_type": "markdown",
   "id": "0c7fd1f0",
   "metadata": {},
   "source": [
    "## 1. Dates and Calendars"
   ]
  },
  {
   "cell_type": "code",
   "execution_count": 1,
   "id": "43f2593e",
   "metadata": {},
   "outputs": [
    {
     "name": "stdout",
     "output_type": "stream",
     "text": [
      "0\n"
     ]
    }
   ],
   "source": [
    "# Import date from datetime\n",
    "from datetime import date\n",
    "\n",
    "# Create a date object\n",
    "hurricane_andrew = date(1992, 8, 24)\n",
    "\n",
    "# Which day of the week is the date?\n",
    "print(hurricane_andrew.weekday())"
   ]
  },
  {
   "cell_type": "code",
   "execution_count": 5,
   "id": "6754ef7b",
   "metadata": {},
   "outputs": [
    {
     "data": {
      "text/plain": [
       "[datetime.date(1988, 8, 4),\n",
       " datetime.date(1990, 10, 12),\n",
       " datetime.date(2003, 4, 20),\n",
       " datetime.date(1971, 9, 1),\n",
       " datetime.date(1988, 8, 23)]"
      ]
     },
     "execution_count": 5,
     "metadata": {},
     "output_type": "execute_result"
    }
   ],
   "source": [
    "import pandas as pd\n",
    "\n",
    "florida_hurricane_dates = pd.read_pickle(\"florida_hurricane_dates.pkl\")\n",
    "florida_hurricane_dates[:5]"
   ]
  },
  {
   "cell_type": "code",
   "execution_count": 6,
   "id": "c164275a",
   "metadata": {},
   "outputs": [
    {
     "name": "stdout",
     "output_type": "stream",
     "text": [
      "10\n"
     ]
    }
   ],
   "source": [
    "# Counter for how many before June 1\n",
    "early_hurricanes = 0\n",
    "\n",
    "# We loop over the dates\n",
    "for hurricane in florida_hurricane_dates:\n",
    "  # Check if the month is before June (month number 6)\n",
    "  if hurricane.month < 6:\n",
    "    early_hurricanes = early_hurricanes + 1\n",
    "    \n",
    "print(early_hurricanes)"
   ]
  },
  {
   "cell_type": "code",
   "execution_count": 7,
   "id": "0dea90d7",
   "metadata": {},
   "outputs": [
    {
     "name": "stdout",
     "output_type": "stream",
     "text": [
      "218\n"
     ]
    }
   ],
   "source": [
    "# Import date\n",
    "from datetime import date\n",
    "\n",
    "# Create a date object for May 9th, 2007\n",
    "start = date(2007, 5, 9)\n",
    "\n",
    "# Create a date object for December 13th, 2007\n",
    "end = date(2007, 12, 13)\n",
    "\n",
    "# Subtract the two dates and print the number of days\n",
    "print((end - start).days)"
   ]
  },
  {
   "cell_type": "code",
   "execution_count": 9,
   "id": "a95c46a4",
   "metadata": {},
   "outputs": [
    {
     "name": "stdout",
     "output_type": "stream",
     "text": [
      "{1: 0, 2: 1, 3: 0, 4: 1, 5: 8, 6: 32, 7: 21, 8: 49, 9: 70, 10: 43, 11: 9, 12: 1}\n"
     ]
    }
   ],
   "source": [
    "# A dictionary to count hurricanes per calendar month\n",
    "hurricanes_each_month = {1: 0, 2: 0, 3: 0, 4: 0, 5: 0, 6: 0, 7: 0, 8:0, 9:0, 10:0, 11:0, 12:0}\n",
    "\n",
    "# Loop over all hurricanes\n",
    "for hurricane in florida_hurricane_dates:\n",
    "    # Pull out the month\n",
    "    month = hurricane.month\n",
    "    # Increment the count in your dictionary by one\n",
    "    hurricanes_each_month[month] += 1\n",
    "\n",
    "print(hurricanes_each_month)"
   ]
  },
  {
   "cell_type": "code",
   "execution_count": 14,
   "id": "26151a0b",
   "metadata": {},
   "outputs": [],
   "source": [
    "import datetime\n",
    "\n",
    "dates_scrambled = [datetime.date(1988, 8, 4), datetime.date(1990, 10, 12), datetime.date(2003, 4, 20), datetime.date(1971, 9, 1),\n",
    "                   datetime.date(1988, 8, 23), datetime.date(1994, 8, 15), datetime.date(2002, 8, 4), datetime.date(1988, 5, 30),\n",
    "                   datetime.date(2003, 9, 13), datetime.date(2009, 8, 21), datetime.date(1978, 6, 22), datetime.date(1969, 6, 9), \n",
    "                   datetime.date(1976, 6, 11), datetime.date(1976, 8, 19), datetime.date(1966, 6, 9), datetime.date(1968, 7, 5), \n",
    "                   datetime.date(1987, 11, 4), datetime.date(1988, 8, 13), datetime.date(2007, 12, 13), datetime.date(1994, 11, 16), \n",
    "                   datetime.date(2003, 9, 6), datetime.date(1971, 8, 13), datetime.date(1981, 8, 17), datetime.date(1998, 9, 25), \n",
    "                   datetime.date(1968, 9, 26), datetime.date(1968, 6, 4), datetime.date(1998, 11, 5), datetime.date(2008, 8, 18), \n",
    "                   datetime.date(1987, 8, 14), datetime.date(1988, 11, 23), datetime.date(2010, 9, 29), datetime.date(1985, 7, 23), \n",
    "                   datetime.date(2017, 7, 31), datetime.date(1955, 8, 21), datetime.date(1986, 6, 26), datetime.date(1963, 10, 21), \n",
    "                   datetime.date(2011, 10, 28), datetime.date(2011, 11, 9), datetime.date(1997, 7, 19), datetime.date(2007, 6, 2), \n",
    "                   datetime.date(2002, 9, 14), datetime.date(1992, 9, 29), datetime.date(1971, 10, 13), datetime.date(1962, 8, 26), \n",
    "                   datetime.date(1964, 8, 27), datetime.date(1984, 9, 27), datetime.date(1973, 9, 25), datetime.date(1969, 10, 21), \n",
    "                   datetime.date(1994, 7, 3), datetime.date(1958, 9, 4), datetime.date(1985, 11, 21), datetime.date(2011, 9, 3), \n",
    "                   datetime.date(1972, 6, 19), datetime.date(1991, 6, 30), datetime.date(2004, 8, 12), datetime.date(2007, 9, 8), \n",
    "                   datetime.date(1952, 2, 3), datetime.date(1965, 9, 30), datetime.date(2000, 9, 22), datetime.date(2002, 9, 26), \n",
    "                   datetime.date(1950, 9, 5), datetime.date(1966, 10, 4), datetime.date(1970, 5, 25), datetime.date(1979, 9, 24), \n",
    "                   datetime.date(1960, 9, 23), datetime.date(2007, 8, 23), datetime.date(2009, 8, 16), datetime.date(1996, 10, 18), \n",
    "                   datetime.date(2012, 10, 25), datetime.date(2011, 8, 25), datetime.date(1951, 5, 18), datetime.date(1980, 8, 7), \n",
    "                   datetime.date(1979, 9, 3), datetime.date(1953, 9, 26), datetime.date(1968, 10, 19), datetime.date(2009, 11, 9), \n",
    "                   datetime.date(1999, 8, 29), datetime.date(2015, 10, 1), datetime.date(2008, 9, 2), datetime.date(2004, 10, 10), \n",
    "                   datetime.date(2004, 9, 16), datetime.date(1992, 8, 24), datetime.date(2000, 9, 9), datetime.date(1971, 9, 16), \n",
    "                   datetime.date(1996, 9, 2), datetime.date(1998, 9, 3), datetime.date(1951, 10, 2), datetime.date(1979, 9, 12), \n",
    "                   datetime.date(2007, 10, 31), datetime.date(1953, 10, 9), datetime.date(1952, 8, 30), datetime.date(1969, 9, 7), \n",
    "                   datetime.date(2015, 8, 30), datetime.date(1959, 10, 8), datetime.date(2002, 7, 13), datetime.date(1961, 10, 29), \n",
    "                   datetime.date(2007, 5, 9), datetime.date(2016, 10, 7), datetime.date(1964, 9, 20), datetime.date(1979, 7, 11), \n",
    "                   datetime.date(1950, 10, 18), datetime.date(2008, 8, 31), datetime.date(2012, 8, 25), datetime.date(1966, 7, 24), \n",
    "                   datetime.date(2010, 8, 10), datetime.date(2005, 8, 25), datetime.date(2003, 6, 30), datetime.date(1956, 7, 6), \n",
    "                   datetime.date(1974, 9, 8), datetime.date(1966, 6, 30), datetime.date(2016, 9, 14), datetime.date(1968, 6, 18), \n",
    "                   datetime.date(1982, 9, 11), datetime.date(1976, 9, 13), datetime.date(1975, 7, 29), datetime.date(2007, 9, 13), \n",
    "                   datetime.date(1970, 9, 27), datetime.date(1969, 10, 2), datetime.date(2010, 8, 31), datetime.date(1995, 10, 4), \n",
    "                   datetime.date(1969, 8, 29), datetime.date(1984, 10, 26), datetime.date(1973, 9, 3), datetime.date(1976, 5, 23), \n",
    "                   datetime.date(2001, 11, 5), datetime.date(2010, 6, 30), datetime.date(1985, 10, 10), datetime.date(1970, 7, 22), \n",
    "                   datetime.date(1972, 5, 28), datetime.date(1982, 6, 18), datetime.date(2001, 8, 6), datetime.date(1953, 8, 29), \n",
    "                   datetime.date(1965, 9, 8), datetime.date(1964, 9, 10), datetime.date(1959, 10, 18), datetime.date(1957, 6, 8), \n",
    "                   datetime.date(1988, 9, 10), datetime.date(2005, 6, 11), datetime.date(1953, 6, 6), datetime.date(2003, 8, 30), \n",
    "                   datetime.date(2002, 10, 3), datetime.date(1968, 8, 10), datetime.date(1999, 10, 15), datetime.date(2002, 9, 4), \n",
    "                   datetime.date(2001, 6, 12), datetime.date(2017, 9, 10), datetime.date(2005, 10, 5), datetime.date(2005, 7, 10), \n",
    "                   datetime.date(1973, 6, 7), datetime.date(1999, 9, 15), datetime.date(2005, 9, 20), datetime.date(1995, 6, 5), \n",
    "                   datetime.date(2003, 7, 25), datetime.date(2004, 9, 13), datetime.date(1964, 6, 6), datetime.date(1973, 6, 23), \n",
    "                   datetime.date(2005, 9, 12), datetime.date(2012, 6, 23), datetime.date(1961, 9, 11), datetime.date(1990, 5, 25), \n",
    "                   datetime.date(2017, 6, 21), datetime.date(1975, 6, 27), datetime.date(1959, 6, 18), datetime.date(2004, 9, 5), \n",
    "                   datetime.date(1987, 10, 12), datetime.date(1995, 7, 27), datetime.date(1964, 10, 14), datetime.date(1970, 8, 6), \n",
    "                   datetime.date(1969, 10, 1), datetime.date(1996, 10, 8), datetime.date(1968, 8, 28), datetime.date(1956, 10, 15), \n",
    "                   datetime.date(1975, 9, 23), datetime.date(1970, 9, 13), datetime.date(1975, 10, 16), datetime.date(1990, 10, 9), \n",
    "                   datetime.date(2005, 10, 24), datetime.date(1950, 8, 31), datetime.date(2000, 10, 3), datetime.date(2002, 10, 11), \n",
    "                   datetime.date(1983, 8, 28), datetime.date(1960, 7, 29), datetime.date(1950, 10, 21), datetime.date(1995, 8, 2), \n",
    "                   datetime.date(1956, 9, 24), datetime.date(2016, 9, 1), datetime.date(1993, 6, 1), datetime.date(1987, 9, 7), \n",
    "                   datetime.date(2012, 5, 28), datetime.date(1995, 8, 23), datetime.date(1969, 8, 18), datetime.date(2001, 9, 14), \n",
    "                   datetime.date(2000, 8, 23), datetime.date(1974, 10, 7), datetime.date(1986, 8, 13), datetime.date(1977, 8, 27), \n",
    "                   datetime.date(2008, 7, 16), datetime.date(1996, 7, 11), datetime.date(1988, 9, 4), datetime.date(1975, 10, 1), \n",
    "                   datetime.date(2003, 8, 14), datetime.date(1957, 9, 8), datetime.date(2005, 7, 6), datetime.date(1960, 9, 15), \n",
    "                   datetime.date(1974, 9, 27), datetime.date(1965, 6, 15), datetime.date(1999, 9, 21), datetime.date(2004, 8, 13), \n",
    "                   datetime.date(1994, 10, 2), datetime.date(1971, 8, 10), datetime.date(2008, 7, 22), datetime.date(2000, 9, 18), \n",
    "                   datetime.date(1960, 9, 10), datetime.date(2006, 6, 13), datetime.date(2017, 10, 29), datetime.date(1972, 9, 5), \n",
    "                   datetime.date(1964, 10, 5), datetime.date(1991, 10, 16), datetime.date(1969, 9, 21), datetime.date(1998, 9, 20), \n",
    "                   datetime.date(1977, 9, 5), datetime.date(1988, 9, 13), datetime.date(1974, 6, 25), datetime.date(2010, 7, 23), \n",
    "                   datetime.date(2007, 9, 22), datetime.date(1984, 9, 9), datetime.date(1989, 9, 22), datetime.date(1992, 6, 25), \n",
    "                   datetime.date(1971, 8, 29), datetime.date(1953, 9, 20), datetime.date(1985, 8, 15), datetime.date(2016, 6, 6), \n",
    "                   datetime.date(2006, 8, 30), datetime.date(1980, 11, 18), datetime.date(2011, 7, 18)]"
   ]
  },
  {
   "cell_type": "code",
   "execution_count": 16,
   "id": "3e908ba5",
   "metadata": {},
   "outputs": [
    {
     "name": "stdout",
     "output_type": "stream",
     "text": [
      "1988-08-04\n",
      "2011-07-18\n"
     ]
    }
   ],
   "source": [
    "# Print the first and last scrambled dates\n",
    "print(dates_scrambled[0])\n",
    "print(dates_scrambled[-1])"
   ]
  },
  {
   "cell_type": "code",
   "execution_count": 17,
   "id": "ed006191",
   "metadata": {},
   "outputs": [
    {
     "name": "stdout",
     "output_type": "stream",
     "text": [
      "1950-08-31\n",
      "2017-10-29\n"
     ]
    }
   ],
   "source": [
    "# Put the dates in order\n",
    "dates_ordered = sorted(dates_scrambled)\n",
    "\n",
    "# Print the first and last ordered dates\n",
    "print(dates_ordered[0])\n",
    "print(dates_ordered[-1])"
   ]
  },
  {
   "cell_type": "code",
   "execution_count": 18,
   "id": "a5364876",
   "metadata": {},
   "outputs": [
    {
     "name": "stdout",
     "output_type": "stream",
     "text": [
      "ISO: Our earliest hurricane date: 1950-08-31\n",
      "US: Our earliest hurricane date: 08/31/1950\n"
     ]
    }
   ],
   "source": [
    "# Assign the earliest date to first_date\n",
    "first_date = sorted(florida_hurricane_dates)[0]\n",
    "\n",
    "# Convert to ISO and US formats\n",
    "iso = \"Our earliest hurricane date: \" + first_date.isoformat()\n",
    "us = \"Our earliest hurricane date: \" + first_date.strftime(\"%m/%d/%Y\")\n",
    "\n",
    "print(\"ISO: \" + iso)\n",
    "print(\"US: \" + us)"
   ]
  },
  {
   "cell_type": "code",
   "execution_count": 19,
   "id": "08800bc0",
   "metadata": {},
   "outputs": [
    {
     "name": "stdout",
     "output_type": "stream",
     "text": [
      "1992-08\n"
     ]
    }
   ],
   "source": [
    "# Import date\n",
    "from datetime import date\n",
    "\n",
    "# Create a date object\n",
    "andrew = date(1992, 8, 26)\n",
    "\n",
    "# Print the date in the format 'YYYY-MM'\n",
    "print(andrew.strftime('%Y-%m'))"
   ]
  },
  {
   "cell_type": "code",
   "execution_count": 20,
   "id": "fc380e14",
   "metadata": {},
   "outputs": [
    {
     "name": "stdout",
     "output_type": "stream",
     "text": [
      "August (1992)\n"
     ]
    }
   ],
   "source": [
    "# Import date\n",
    "from datetime import date\n",
    "\n",
    "# Create a date object\n",
    "andrew = date(1992, 8, 26)\n",
    "\n",
    "# Print the date in the format 'MONTH (YYYY)'\n",
    "print(andrew.strftime('%B (%Y)'))"
   ]
  },
  {
   "cell_type": "code",
   "execution_count": 21,
   "id": "82a39704",
   "metadata": {},
   "outputs": [
    {
     "name": "stdout",
     "output_type": "stream",
     "text": [
      "1992-239\n"
     ]
    }
   ],
   "source": [
    "# Import date\n",
    "from datetime import date\n",
    "\n",
    "# Create a date object\n",
    "andrew = date(1992, 8, 26)\n",
    "\n",
    "# Print the date in the format 'YYYY-DDD'\n",
    "print(andrew.strftime('%Y-%j'))"
   ]
  },
  {
   "cell_type": "markdown",
   "id": "255f7186",
   "metadata": {},
   "source": [
    "## 2. Combining Dates and Times"
   ]
  },
  {
   "cell_type": "code",
   "execution_count": 22,
   "id": "f1fbdcfd",
   "metadata": {},
   "outputs": [
    {
     "name": "stdout",
     "output_type": "stream",
     "text": [
      "2017-10-01T15:26:26\n"
     ]
    }
   ],
   "source": [
    "# Import datetime\n",
    "from datetime import datetime\n",
    "\n",
    "# Create a datetime object\n",
    "dt = datetime(year=2017,\n",
    "              month=10,\n",
    "              day=1,\n",
    "              hour=15,\n",
    "              minute=26,\n",
    "              second=26)\n",
    "\n",
    "# Print the results in ISO 8601 format\n",
    "print(dt.isoformat())"
   ]
  },
  {
   "cell_type": "code",
   "execution_count": 23,
   "id": "bd382a63",
   "metadata": {},
   "outputs": [
    {
     "name": "stdout",
     "output_type": "stream",
     "text": [
      "2017-12-31T15:19:13\n"
     ]
    }
   ],
   "source": [
    "# Import datetime\n",
    "from datetime import datetime\n",
    "\n",
    "# Create a datetime object\n",
    "dt = datetime(2017, 12, 31, 15, 19, 13)\n",
    "\n",
    "# Print the results in ISO 8601 format\n",
    "print(dt.isoformat())"
   ]
  },
  {
   "cell_type": "code",
   "execution_count": 24,
   "id": "f2076039",
   "metadata": {},
   "outputs": [
    {
     "name": "stdout",
     "output_type": "stream",
     "text": [
      "1917-12-31 15:19:13\n"
     ]
    }
   ],
   "source": [
    "# Import datetime\n",
    "from datetime import datetime\n",
    "\n",
    "# Create a datetime object\n",
    "dt = datetime(2017, 12, 31, 15, 19, 13)\n",
    "\n",
    "# Replace the year with 1917\n",
    "dt_old = dt.replace(year=1917)\n",
    "\n",
    "# Print the results in ISO 8601 format\n",
    "print(dt_old)"
   ]
  },
  {
   "cell_type": "code",
   "execution_count": 29,
   "id": "771f7e50",
   "metadata": {},
   "outputs": [],
   "source": [
    "import datetime\n",
    "\n",
    "onebike_datetimes = [{'start': datetime.datetime(2017, 10, 1, 15, 23, 25), 'end': datetime.datetime(2017, 10, 1, 15, 26, 26)}, {'start': datetime.datetime(2017, 10, 1, 15, 42, 57), 'end': datetime.datetime(2017, 10, 1, 17, 49, 59)}, {'start': datetime.datetime(2017, 10, 2, 6, 37, 10), 'end': datetime.datetime(2017, 10, 2, 6, 42, 53)}, {'start': datetime.datetime(2017, 10, 2, 8, 56, 45), 'end': datetime.datetime(2017, 10, 2, 9, 18, 3)}, {'start': datetime.datetime(2017, 10, 2, 18, 23, 48), 'end': datetime.datetime(2017, 10, 2, 18, 45, 5)}, {'start': datetime.datetime(2017, 10, 2, 18, 48, 8), 'end': datetime.datetime(2017, 10, 2, 19, 10, 54)}, {'start': datetime.datetime(2017, 10, 2, 19, 18, 10), 'end': datetime.datetime(2017, 10, 2, 19, 31, 45)}, {'start': datetime.datetime(2017, 10, 2, 19, 37, 32), 'end': datetime.datetime(2017, 10, 2, 19, 46, 37)}, {'start': datetime.datetime(2017, 10, 3, 8, 24, 16), 'end': datetime.datetime(2017, 10, 3, 8, 32, 27)}, {'start': datetime.datetime(2017, 10, 3, 18, 17, 7), 'end': datetime.datetime(2017, 10, 3, 18, 27, 46)}, {'start': datetime.datetime(2017, 10, 3, 19, 24, 10), 'end': datetime.datetime(2017, 10, 3, 19, 52, 8)}, {'start': datetime.datetime(2017, 10, 3, 20, 17, 6), 'end': datetime.datetime(2017, 10, 3, 20, 23, 52)}, {'start': datetime.datetime(2017, 10, 3, 20, 45, 21), 'end': datetime.datetime(2017, 10, 3, 20, 57, 10)}, {'start': datetime.datetime(2017, 10, 4, 7, 4, 57), 'end': datetime.datetime(2017, 10, 4, 7, 13, 31)}, {'start': datetime.datetime(2017, 10, 4, 7, 13, 42), 'end': datetime.datetime(2017, 10, 4, 7, 21, 54)}, {'start': datetime.datetime(2017, 10, 4, 14, 22, 12), 'end': datetime.datetime(2017, 10, 4, 14, 50)}, {'start': datetime.datetime(2017, 10, 4, 15, 7, 27), 'end': datetime.datetime(2017, 10, 4, 15, 44, 49)}, {'start': datetime.datetime(2017, 10, 4, 15, 46, 41), 'end': datetime.datetime(2017, 10, 4, 16, 32, 33)}, {'start': datetime.datetime(2017, 10, 4, 16, 34, 44), 'end': datetime.datetime(2017, 10, 4, 16, 46, 59)}, {'start': datetime.datetime(2017, 10, 4, 17, 26, 6), 'end': datetime.datetime(2017, 10, 4, 17, 31, 36)}, {'start': datetime.datetime(2017, 10, 4, 17, 42, 3), 'end': datetime.datetime(2017, 10, 4, 17, 50, 41)}, {'start': datetime.datetime(2017, 10, 5, 7, 49, 2), 'end': datetime.datetime(2017, 10, 5, 8, 12, 55)}, {'start': datetime.datetime(2017, 10, 5, 8, 26, 21), 'end': datetime.datetime(2017, 10, 5, 8, 29, 45)}, {'start': datetime.datetime(2017, 10, 5, 8, 33, 27), 'end': datetime.datetime(2017, 10, 5, 8, 38, 31)}, {'start': datetime.datetime(2017, 10, 5, 16, 35, 35), 'end': datetime.datetime(2017, 10, 5, 16, 51, 52)}, {'start': datetime.datetime(2017, 10, 5, 17, 53, 31), 'end': datetime.datetime(2017, 10, 5, 18, 16, 50)}, {'start': datetime.datetime(2017, 10, 6, 8, 17, 17), 'end': datetime.datetime(2017, 10, 6, 8, 38, 1)}, {'start': datetime.datetime(2017, 10, 6, 11, 39, 40), 'end': datetime.datetime(2017, 10, 6, 11, 50, 38)}, {'start': datetime.datetime(2017, 10, 6, 12, 59, 54), 'end': datetime.datetime(2017, 10, 6, 13, 13, 14)}, {'start': datetime.datetime(2017, 10, 6, 13, 43, 5), 'end': datetime.datetime(2017, 10, 6, 14, 14, 56)}, {'start': datetime.datetime(2017, 10, 6, 14, 28, 15), 'end': datetime.datetime(2017, 10, 6, 15, 9, 26)}, {'start': datetime.datetime(2017, 10, 6, 15, 50, 10), 'end': datetime.datetime(2017, 10, 6, 16, 12, 34)}, {'start': datetime.datetime(2017, 10, 6, 16, 32, 16), 'end': datetime.datetime(2017, 10, 6, 16, 39, 31)}, {'start': datetime.datetime(2017, 10, 6, 16, 44, 8), 'end': datetime.datetime(2017, 10, 6, 16, 48, 39)}, {'start': datetime.datetime(2017, 10, 6, 16, 53, 43), 'end': datetime.datetime(2017, 10, 6, 17, 9, 3)}, {'start': datetime.datetime(2017, 10, 7, 11, 38, 55), 'end': datetime.datetime(2017, 10, 7, 11, 53, 6)}, {'start': datetime.datetime(2017, 10, 7, 14, 3, 36), 'end': datetime.datetime(2017, 10, 7, 14, 7, 5)}, {'start': datetime.datetime(2017, 10, 7, 14, 20, 3), 'end': datetime.datetime(2017, 10, 7, 14, 27, 36)}, {'start': datetime.datetime(2017, 10, 7, 14, 30, 50), 'end': datetime.datetime(2017, 10, 7, 14, 44, 51)}, {'start': datetime.datetime(2017, 10, 8, 0, 28, 26), 'end': datetime.datetime(2017, 10, 8, 0, 30, 48)}, {'start': datetime.datetime(2017, 10, 8, 11, 16, 21), 'end': datetime.datetime(2017, 10, 8, 11, 33, 24)}, {'start': datetime.datetime(2017, 10, 8, 12, 37, 3), 'end': datetime.datetime(2017, 10, 8, 13, 1, 29)}, {'start': datetime.datetime(2017, 10, 8, 13, 30, 37), 'end': datetime.datetime(2017, 10, 8, 13, 57, 53)}, {'start': datetime.datetime(2017, 10, 8, 14, 16, 40), 'end': datetime.datetime(2017, 10, 8, 15, 7, 19)}, \n",
    "                    {'start': datetime.datetime(2017, 10, 8, 15, 23, 50), 'end': datetime.datetime(2017, 10, 8, 15, 50, 1)}, {'start': datetime.datetime(2017, 10, 8, 15, 54, 12), 'end': datetime.datetime(2017, 10, 8, 16, 17, 42)}, {'start': datetime.datetime(2017, 10, 8, 16, 28, 52), 'end': datetime.datetime(2017, 10, 8, 16, 35, 18)}, {'start': datetime.datetime(2017, 10, 8, 23, 8, 14), 'end': datetime.datetime(2017, 10, 8, 23, 33, 41)}, {'start': datetime.datetime(2017, 10, 8, 23, 34, 49), 'end': datetime.datetime(2017, 10, 8, 23, 45, 11)}, {'start': datetime.datetime(2017, 10, 8, 23, 46, 47), 'end': datetime.datetime(2017, 10, 9, 0, 10, 57)}, {'start': datetime.datetime(2017, 10, 9, 0, 12, 58), 'end': datetime.datetime(2017, 10, 9, 0, 36, 40)}, {'start': datetime.datetime(2017, 10, 9, 0, 37, 2), 'end': datetime.datetime(2017, 10, 9, 0, 53, 33)}, {'start': datetime.datetime(2017, 10, 9, 1, 23, 29), 'end': datetime.datetime(2017, 10, 9, 1, 48, 13)}, {'start': datetime.datetime(2017, 10, 9, 1, 49, 25), 'end': datetime.datetime(2017, 10, 9, 2, 13, 35)}, {'start': datetime.datetime(2017, 10, 9, 2, 14, 11), 'end': datetime.datetime(2017, 10, 9, 2, 29, 40)}, {'start': datetime.datetime(2017, 10, 9, 13, 4, 32), 'end': datetime.datetime(2017, 10, 9, 13, 13, 25)}, {'start': datetime.datetime(2017, 10, 9, 14, 30, 10), 'end': datetime.datetime(2017, 10, 9, 14, 38, 55)}, {'start': datetime.datetime(2017, 10, 9, 15, 6, 47), 'end': datetime.datetime(2017, 10, 9, 15, 11, 30)}, {'start': datetime.datetime(2017, 10, 9, 16, 43, 25), 'end': datetime.datetime(2017, 10, 9, 16, 45, 38)}, {'start': datetime.datetime(2017, 10, 10, 15, 32, 58), 'end': datetime.datetime(2017, 10, 10, 15, 51, 24)}, {'start': datetime.datetime(2017, 10, 10, 16, 47, 55), 'end': datetime.datetime(2017, 10, 10, 17, 3, 47)}, {'start': datetime.datetime(2017, 10, 10, 17, 51, 5), 'end': datetime.datetime(2017, 10, 10, 18, 0, 18)}, {'start': datetime.datetime(2017, 10, 10, 18, 8, 12), 'end': datetime.datetime(2017, 10, 10, 18, 19, 11)}, {'start': datetime.datetime(2017, 10, 10, 19, 9, 35), 'end': datetime.datetime(2017, 10, 10, 19, 14, 32)}, {'start': datetime.datetime(2017, 10, 10, 19, 17, 11), 'end': datetime.datetime(2017, 10, 10, 19, 23, 8)}, {'start': datetime.datetime(2017, 10, 10, 19, 28, 11), 'end': datetime.datetime(2017, 10, 10, 19, 44, 40)}, {'start': datetime.datetime(2017, 10, 10, 19, 55, 35), 'end': datetime.datetime(2017, 10, 10, 20, 11, 54)}, {'start': datetime.datetime(2017, 10, 10, 22, 20, 43), 'end': datetime.datetime(2017, 10, 10, 22, 33, 23)}, {'start': datetime.datetime(2017, 10, 11, 4, 40, 52), 'end': datetime.datetime(2017, 10, 11, 4, 59, 22)}, {'start': datetime.datetime(2017, 10, 11, 6, 28, 58), 'end': datetime.datetime(2017, 10, 11, 6, 40, 13)}, {'start': datetime.datetime(2017, 10, 11, 16, 41, 7), 'end': datetime.datetime(2017, 10, 11, 17, 1, 14)}, {'start': datetime.datetime(2017, 10, 12, 8, 8, 30), 'end': datetime.datetime(2017, 10, 12, 8, 35, 3)}, {'start': datetime.datetime(2017, 10, 12, 8, 47, 2), 'end': datetime.datetime(2017, 10, 12, 8, 59, 50)}, {'start': datetime.datetime(2017, 10, 12, 13, 13, 39), 'end': datetime.datetime(2017, 10, 12, 13, 37, 45)}, {'start': datetime.datetime(2017, 10, 12, 13, 40, 12), 'end': datetime.datetime(2017, 10, 12, 13, 48, 17)}, {'start': datetime.datetime(2017, 10, 12, 13, 49, 56), 'end': datetime.datetime(2017, 10, 12, 13, 53, 16)}, {'start': datetime.datetime(2017, 10, 12, 14, 33, 18), 'end': datetime.datetime(2017, 10, 12, 14, 39, 57)}, {'start': datetime.datetime(2017, 10, 13, 15, 55, 39), 'end': datetime.datetime(2017, 10, 13, 15, 59, 41)}, {'start': datetime.datetime(2017, 10, 17, 17, 58, 48), 'end': datetime.datetime(2017, 10, 17, 18, 1, 38)}, {'start': datetime.datetime(2017, 10, 19, 20, 21, 45), 'end': datetime.datetime(2017, 10, 19, 20, 29, 15)}, {'start': datetime.datetime(2017, 10, 19, 21, 11, 39), 'end': datetime.datetime(2017, 10, 19, 21, 29, 37)}, {'start': datetime.datetime(2017, 10, 19, 21, 30, 1), 'end': datetime.datetime(2017, 10, 19, 21, 47, 23)}, {'start': datetime.datetime(2017, 10, 19, 21, 47, 34), 'end': datetime.datetime(2017, 10, 19, 21, 57, 7)}, {'start': datetime.datetime(2017, 10, 19, 21, 57, 24), 'end': datetime.datetime(2017, 10, 19, 22, 9, 52)}, {'start': datetime.datetime(2017, 10, 21, 12, 24, 9), 'end': datetime.datetime(2017, 10, 21, 12, 36, 24)}, {'start': datetime.datetime(2017, 10, 21, 12, 36, 37), 'end': datetime.datetime(2017, 10, 21, 12, 42, 13)}, {'start': datetime.datetime(2017, 10, 21, 13, 47, 43), 'end': datetime.datetime(2017, 10, 22, 11, 9, 36)}, \n",
    "                    {'start': datetime.datetime(2017, 10, 22, 13, 28, 53), 'end': datetime.datetime(2017, 10, 22, 13, 31, 44)}, {'start': datetime.datetime(2017, 10, 22, 13, 47, 5), 'end': datetime.datetime(2017, 10, 22, 13, 56, 33)}, {'start': datetime.datetime(2017, 10, 22, 14, 26, 41), 'end': datetime.datetime(2017, 10, 22, 14, 32, 39)}, {'start': datetime.datetime(2017, 10, 22, 14, 54, 41), 'end': datetime.datetime(2017, 10, 22, 15, 9, 58)}, {'start': datetime.datetime(2017, 10, 22, 16, 40, 29), 'end': datetime.datetime(2017, 10, 22, 16, 51, 40)}, {'start': datetime.datetime(2017, 10, 22, 17, 58, 46), 'end': datetime.datetime(2017, 10, 22, 18, 28, 37)}, {'start': datetime.datetime(2017, 10, 22, 18, 45, 16), 'end': datetime.datetime(2017, 10, 22, 18, 50, 34)}, {'start': datetime.datetime(2017, 10, 22, 18, 56, 22), 'end': datetime.datetime(2017, 10, 22, 19, 11, 10)}, {'start': datetime.datetime(2017, 10, 23, 10, 14, 8), 'end': datetime.datetime(2017, 10, 23, 10, 35, 32)}, {'start': datetime.datetime(2017, 10, 23, 11, 29, 36), 'end': datetime.datetime(2017, 10, 23, 14, 38, 34)}, {'start': datetime.datetime(2017, 10, 23, 15, 4, 52), 'end': datetime.datetime(2017, 10, 23, 15, 32, 58)}, {'start': datetime.datetime(2017, 10, 23, 15, 33, 48), 'end': datetime.datetime(2017, 10, 23, 17, 6, 47)}, {'start': datetime.datetime(2017, 10, 23, 17, 13, 16), 'end': datetime.datetime(2017, 10, 23, 19, 31, 26)}, {'start': datetime.datetime(2017, 10, 23, 19, 55, 3), 'end': datetime.datetime(2017, 10, 23, 20, 25, 53)}, {'start': datetime.datetime(2017, 10, 23, 21, 47, 54), 'end': datetime.datetime(2017, 10, 23, 22, 18, 4)}, {'start': datetime.datetime(2017, 10, 23, 22, 34, 12), 'end': datetime.datetime(2017, 10, 23, 22, 48, 42)}, {'start': datetime.datetime(2017, 10, 24, 6, 55, 1), 'end': datetime.datetime(2017, 10, 24, 7, 2, 17)}, {'start': datetime.datetime(2017, 10, 24, 14, 56, 7), 'end': datetime.datetime(2017, 10, 24, 15, 3, 16)}, {'start': datetime.datetime(2017, 10, 24, 15, 51, 36), 'end': datetime.datetime(2017, 10, 24, 15, 59, 50)}, {'start': datetime.datetime(2017, 10, 24, 16, 31, 10), 'end': datetime.datetime(2017, 10, 24, 16, 55, 9)}, {'start': datetime.datetime(2017, 10, 28, 14, 26, 14), 'end': datetime.datetime(2017, 10, 28, 14, 32, 34)}, {'start': datetime.datetime(2017, 11, 1, 9, 41, 54), 'end': datetime.datetime(2017, 11, 1, 9, 52, 23)}, {'start': datetime.datetime(2017, 11, 1, 20, 16, 11), 'end': datetime.datetime(2017, 11, 1, 20, 32, 13)}, {'start': datetime.datetime(2017, 11, 2, 19, 44, 29), 'end': datetime.datetime(2017, 11, 2, 19, 50, 56)}, {'start': datetime.datetime(2017, 11, 2, 20, 14, 37), 'end': datetime.datetime(2017, 11, 2, 20, 30, 29)}, {'start': datetime.datetime(2017, 11, 2, 21, 35, 47), 'end': datetime.datetime(2017, 11, 2, 21, 38, 57)}, {'start': datetime.datetime(2017, 11, 3, 9, 59, 27), 'end': datetime.datetime(2017, 11, 3, 10, 11, 46)}, {'start': datetime.datetime(2017, 11, 3, 10, 13, 22), 'end': datetime.datetime(2017, 11, 3, 10, 32, 2)}, {'start': datetime.datetime(2017, 11, 3, 10, 44, 25), 'end': datetime.datetime(2017, 11, 3, 10, 50, 34)}, {'start': datetime.datetime(2017, 11, 3, 16, 6, 43), 'end': datetime.datetime(2017, 11, 3, 16, 44, 38)}, {'start': datetime.datetime(2017, 11, 3, 16, 45, 54), 'end': datetime.datetime(2017, 11, 3, 17, 0, 27)}, {'start': datetime.datetime(2017, 11, 3, 17, 7, 15), 'end': datetime.datetime(2017, 11, 3, 17, 35, 5)}, {'start': datetime.datetime(2017, 11, 3, 17, 36, 5), 'end': datetime.datetime(2017, 11, 3, 17, 46, 48)}, {'start': datetime.datetime(2017, 11, 3, 17, 50, 31), 'end': datetime.datetime(2017, 11, 3, 18, 0, 3)}, {'start': datetime.datetime(2017, 11, 3, 19, 22, 56), 'end': datetime.datetime(2017, 11, 3, 19, 45, 51)}, {'start': datetime.datetime(2017, 11, 4, 13, 14, 10), 'end': datetime.datetime(2017, 11, 4, 13, 26, 15)}, {'start': datetime.datetime(2017, 11, 4, 14, 18, 37), 'end': datetime.datetime(2017, 11, 4, 14, 30, 5)}, {'start': datetime.datetime(2017, 11, 4, 14, 45, 59), 'end': datetime.datetime(2017, 11, 4, 15, 3, 20)}, {'start': datetime.datetime(2017, 11, 4, 15, 16, 3), 'end': datetime.datetime(2017, 11, 4, 15, 44, 30)}, {'start': datetime.datetime(2017, 11, 4, 16, 37, 46), 'end': datetime.datetime(2017, 11, 4, 16, 58, 22)}, {'start': datetime.datetime(2017, 11, 4, 17, 13, 19), 'end': datetime.datetime(2017, 11, 4, 17, 34, 50)}, {'start': datetime.datetime(2017, 11, 4, 18, 10, 34), 'end': datetime.datetime(2017, 11, 4, 18, 58, 44)}, {'start': datetime.datetime(2017, 11, 5, 1, 56, 50), 'end': datetime.datetime(2017, 11, 5, 1, 1, 4)}, \n",
    "                    {'start': datetime.datetime(2017, 11, 5, 8, 33, 33), 'end': datetime.datetime(2017, 11, 5, 8, 53, 46)}, {'start': datetime.datetime(2017, 11, 5, 8, 58, 8), 'end': datetime.datetime(2017, 11, 5, 9, 3, 39)}, {'start': datetime.datetime(2017, 11, 5, 11, 5, 8), 'end': datetime.datetime(2017, 11, 5, 11, 30, 5)}, {'start': datetime.datetime(2017, 11, 6, 8, 50, 18), 'end': datetime.datetime(2017, 11, 6, 8, 59, 5)}, {'start': datetime.datetime(2017, 11, 6, 9, 4, 3), 'end': datetime.datetime(2017, 11, 6, 9, 13, 47)}, {'start': datetime.datetime(2017, 11, 6, 16, 19, 36), 'end': datetime.datetime(2017, 11, 6, 17, 2, 55)}, {'start': datetime.datetime(2017, 11, 6, 17, 21, 27), 'end': datetime.datetime(2017, 11, 6, 17, 34, 6)}, {'start': datetime.datetime(2017, 11, 6, 17, 36, 1), 'end': datetime.datetime(2017, 11, 6, 17, 57, 32)}, {'start': datetime.datetime(2017, 11, 6, 17, 59, 52), 'end': datetime.datetime(2017, 11, 6, 18, 15, 8)}, {'start': datetime.datetime(2017, 11, 6, 18, 18, 36), 'end': datetime.datetime(2017, 11, 6, 18, 21, 17)}, {'start': datetime.datetime(2017, 11, 6, 19, 24, 31), 'end': datetime.datetime(2017, 11, 6, 19, 37, 57)}, {'start': datetime.datetime(2017, 11, 6, 19, 49, 16), 'end': datetime.datetime(2017, 11, 6, 20, 3, 14)}, {'start': datetime.datetime(2017, 11, 7, 7, 50, 48), 'end': datetime.datetime(2017, 11, 7, 8, 1, 32)}, {'start': datetime.datetime(2017, 11, 8, 13, 11, 51), 'end': datetime.datetime(2017, 11, 8, 13, 18, 5)}, {'start': datetime.datetime(2017, 11, 8, 21, 34, 47), 'end': datetime.datetime(2017, 11, 8, 21, 46, 5)}, {'start': datetime.datetime(2017, 11, 8, 22, 2, 30), 'end': datetime.datetime(2017, 11, 8, 22, 4, 47)}, {'start': datetime.datetime(2017, 11, 9, 7, 1, 11), 'end': datetime.datetime(2017, 11, 9, 7, 12, 10)}, {'start': datetime.datetime(2017, 11, 9, 8, 2, 2), 'end': datetime.datetime(2017, 11, 9, 8, 8, 28)}, {'start': datetime.datetime(2017, 11, 9, 8, 19, 59), 'end': datetime.datetime(2017, 11, 9, 8, 32, 24)}, {'start': datetime.datetime(2017, 11, 9, 8, 41, 31), 'end': datetime.datetime(2017, 11, 9, 8, 48, 59)}, {'start': datetime.datetime(2017, 11, 9, 9, 0, 6), 'end': datetime.datetime(2017, 11, 9, 9, 9, 24)}, {'start': datetime.datetime(2017, 11, 9, 9, 9, 37), 'end': datetime.datetime(2017, 11, 9, 9, 24, 25)}, {'start': datetime.datetime(2017, 11, 9, 13, 14, 37), 'end': datetime.datetime(2017, 11, 9, 13, 25, 39)}, {'start': datetime.datetime(2017, 11, 9, 15, 20, 7), 'end': datetime.datetime(2017, 11, 9, 15, 31, 10)}, {'start': datetime.datetime(2017, 11, 9, 18, 47, 8), 'end': datetime.datetime(2017, 11, 9, 18, 53, 10)}, {'start': datetime.datetime(2017, 11, 9, 23, 35, 2), 'end': datetime.datetime(2017, 11, 9, 23, 43, 35)}, {'start': datetime.datetime(2017, 11, 10, 7, 51, 33), 'end': datetime.datetime(2017, 11, 10, 8, 2, 28)}, {'start': datetime.datetime(2017, 11, 10, 8, 38, 28), 'end': datetime.datetime(2017, 11, 10, 8, 42, 9)}, {'start': datetime.datetime(2017, 11, 11, 18, 5, 25), 'end': datetime.datetime(2017, 11, 11, 18, 13, 14)}, {'start': datetime.datetime(2017, 11, 11, 19, 39, 12), 'end': datetime.datetime(2017, 11, 11, 19, 46, 22)}, {'start': datetime.datetime(2017, 11, 11, 21, 13, 19), 'end': datetime.datetime(2017, 11, 11, 21, 16, 31)}, {'start': datetime.datetime(2017, 11, 12, 9, 46, 19), 'end': datetime.datetime(2017, 11, 12, 9, 51, 43)}, {'start': datetime.datetime(2017, 11, 13, 13, 33, 42), 'end': datetime.datetime(2017, 11, 13, 13, 54, 15)}, {'start': datetime.datetime(2017, 11, 14, 8, 40, 29), 'end': datetime.datetime(2017, 11, 14, 8, 55, 52)}, {'start': datetime.datetime(2017, 11, 15, 6, 14, 5), 'end': datetime.datetime(2017, 11, 15, 6, 30, 6)}, {'start': datetime.datetime(2017, 11, 15, 8, 14, 59), 'end': datetime.datetime(2017, 11, 15, 8, 23, 44)}, {'start': datetime.datetime(2017, 11, 15, 10, 16, 44), 'end': datetime.datetime(2017, 11, 15, 10, 33, 41)}, {'start': datetime.datetime(2017, 11, 15, 10, 33, 58), 'end': datetime.datetime(2017, 11, 15, 10, 54, 14)}, {'start': datetime.datetime(2017, 11, 15, 11, 2, 15), 'end': datetime.datetime(2017, 11, 15, 11, 14, 42)}, {'start': datetime.datetime(2017, 11, 16, 9, 27, 41), 'end': datetime.datetime(2017, 11, 16, 9, 38, 49)}, {'start': datetime.datetime(2017, 11, 16, 9, 57, 41), 'end': datetime.datetime(2017, 11, 16, 10, 18)}, {'start': datetime.datetime(2017, 11, 16, 17, 25, 5), 'end': datetime.datetime(2017, 11, 16, 17, 44, 47)}, {'start': datetime.datetime(2017, 11, 17, 13, 45, 54), 'end': datetime.datetime(2017, 11, 17, 16, 36, 56)}, \n",
    "                    {'start': datetime.datetime(2017, 11, 17, 19, 12, 49), 'end': datetime.datetime(2017, 11, 17, 19, 31, 15)}, {'start': datetime.datetime(2017, 11, 18, 10, 49, 6), 'end': datetime.datetime(2017, 11, 18, 10, 55, 45)}, {'start': datetime.datetime(2017, 11, 18, 11, 32, 12), 'end': datetime.datetime(2017, 11, 18, 11, 44, 16)}, {'start': datetime.datetime(2017, 11, 18, 18, 9, 1), 'end': datetime.datetime(2017, 11, 18, 18, 14, 31)}, {'start': datetime.datetime(2017, 11, 18, 18, 53, 10), 'end': datetime.datetime(2017, 11, 18, 19, 1, 29)}, {'start': datetime.datetime(2017, 11, 19, 14, 15, 41), 'end': datetime.datetime(2017, 11, 19, 14, 31, 49)}, {'start': datetime.datetime(2017, 11, 20, 21, 19, 19), 'end': datetime.datetime(2017, 11, 20, 21, 41, 9)}, {'start': datetime.datetime(2017, 11, 20, 22, 39, 48), 'end': datetime.datetime(2017, 11, 20, 23, 23, 37)}, {'start': datetime.datetime(2017, 11, 21, 17, 44, 25), 'end': datetime.datetime(2017, 11, 21, 17, 51, 32)}, {'start': datetime.datetime(2017, 11, 21, 18, 20, 52), 'end': datetime.datetime(2017, 11, 21, 18, 34, 51)}, {'start': datetime.datetime(2017, 11, 21, 18, 47, 32), 'end': datetime.datetime(2017, 11, 21, 18, 51, 50)}, {'start': datetime.datetime(2017, 11, 21, 19, 7, 57), 'end': datetime.datetime(2017, 11, 21, 19, 14, 33)}, {'start': datetime.datetime(2017, 11, 21, 20, 4, 56), 'end': datetime.datetime(2017, 11, 21, 20, 8, 54)}, {'start': datetime.datetime(2017, 11, 21, 21, 55, 47), 'end': datetime.datetime(2017, 11, 21, 22, 8, 12)}, {'start': datetime.datetime(2017, 11, 23, 23, 47, 43), 'end': datetime.datetime(2017, 11, 23, 23, 57, 56)}, {'start': datetime.datetime(2017, 11, 24, 6, 41, 25), 'end': datetime.datetime(2017, 11, 24, 6, 53, 15)}, {'start': datetime.datetime(2017, 11, 24, 6, 58, 56), 'end': datetime.datetime(2017, 11, 24, 7, 33, 24)}, {'start': datetime.datetime(2017, 11, 26, 12, 25, 49), 'end': datetime.datetime(2017, 11, 26, 12, 41, 36)}, {'start': datetime.datetime(2017, 11, 27, 5, 29, 4), 'end': datetime.datetime(2017, 11, 27, 5, 54, 13)}, {'start': datetime.datetime(2017, 11, 27, 6, 6, 47), 'end': datetime.datetime(2017, 11, 27, 6, 11, 1)}, {'start': datetime.datetime(2017, 11, 27, 6, 45, 14), 'end': datetime.datetime(2017, 11, 27, 6, 55, 39)}, {'start': datetime.datetime(2017, 11, 27, 9, 39, 44), 'end': datetime.datetime(2017, 11, 27, 9, 47, 43)}, {'start': datetime.datetime(2017, 11, 27, 11, 9, 18), 'end': datetime.datetime(2017, 11, 27, 11, 20, 46)}, {'start': datetime.datetime(2017, 11, 27, 11, 31, 46), 'end': datetime.datetime(2017, 11, 27, 11, 35, 44)}, {'start': datetime.datetime(2017, 11, 27, 12, 7, 14), 'end': datetime.datetime(2017, 11, 27, 12, 12, 36)}, {'start': datetime.datetime(2017, 11, 27, 12, 21, 40), 'end': datetime.datetime(2017, 11, 27, 12, 26, 44)}, {'start': datetime.datetime(2017, 11, 27, 17, 26, 31), 'end': datetime.datetime(2017, 11, 27, 17, 36, 7)}, {'start': datetime.datetime(2017, 11, 27, 18, 11, 49), 'end': datetime.datetime(2017, 11, 27, 18, 29, 4)}, {'start': datetime.datetime(2017, 11, 27, 19, 36, 16), 'end': datetime.datetime(2017, 11, 27, 19, 47, 17)}, {'start': datetime.datetime(2017, 11, 27, 20, 12, 57), 'end': datetime.datetime(2017, 11, 27, 20, 17, 33)}, {'start': datetime.datetime(2017, 11, 28, 8, 18, 6), 'end': datetime.datetime(2017, 11, 28, 8, 41, 53)}, {'start': datetime.datetime(2017, 11, 28, 19, 17, 23), 'end': datetime.datetime(2017, 11, 28, 19, 34, 1)}, {'start': datetime.datetime(2017, 11, 28, 19, 34, 15), 'end': datetime.datetime(2017, 11, 28, 19, 46, 24)}, {'start': datetime.datetime(2017, 11, 28, 21, 27, 29), 'end': datetime.datetime(2017, 11, 28, 21, 39, 32)}, {'start': datetime.datetime(2017, 11, 29, 7, 47, 38), 'end': datetime.datetime(2017, 11, 29, 7, 51, 18)}, {'start': datetime.datetime(2017, 11, 29, 9, 50, 12), 'end': datetime.datetime(2017, 11, 29, 9, 53, 44)}, {'start': datetime.datetime(2017, 11, 29, 17, 3, 42), 'end': datetime.datetime(2017, 11, 29, 17, 16, 21)}, {'start': datetime.datetime(2017, 11, 29, 18, 19, 15), 'end': datetime.datetime(2017, 11, 29, 18, 23, 43)}, {'start': datetime.datetime(2017, 12, 1, 17, 3, 58), 'end': datetime.datetime(2017, 12, 1, 17, 10, 12)}, {'start': datetime.datetime(2017, 12, 2, 7, 55, 56), 'end': datetime.datetime(2017, 12, 2, 8, 1, 1)}, {'start': datetime.datetime(2017, 12, 2, 9, 16, 14), 'end': datetime.datetime(2017, 12, 2, 9, 21, 18)}, {'start': datetime.datetime(2017, 12, 2, 19, 48, 29), 'end': datetime.datetime(2017, 12, 2, 19, 53, 18)}, {'start': datetime.datetime(2017, 12, 3, 14, 36, 29), 'end': datetime.datetime(2017, 12, 3, 15, 20, 9)}, \n",
    "                    {'start': datetime.datetime(2017, 12, 3, 16, 4, 2), 'end': datetime.datetime(2017, 12, 3, 16, 25, 30)}, {'start': datetime.datetime(2017, 12, 3, 16, 40, 26), 'end': datetime.datetime(2017, 12, 3, 16, 43, 58)}, {'start': datetime.datetime(2017, 12, 3, 17, 20, 17), 'end': datetime.datetime(2017, 12, 3, 18, 4, 33)}, {'start': datetime.datetime(2017, 12, 4, 8, 34, 24), 'end': datetime.datetime(2017, 12, 4, 8, 51)}, {'start': datetime.datetime(2017, 12, 4, 17, 49, 26), 'end': datetime.datetime(2017, 12, 4, 17, 53, 57)}, {'start': datetime.datetime(2017, 12, 4, 18, 38, 52), 'end': datetime.datetime(2017, 12, 4, 18, 50, 33)}, {'start': datetime.datetime(2017, 12, 4, 21, 39, 20), 'end': datetime.datetime(2017, 12, 4, 21, 46, 58)}, {'start': datetime.datetime(2017, 12, 4, 21, 54, 21), 'end': datetime.datetime(2017, 12, 4, 21, 56, 17)}, {'start': datetime.datetime(2017, 12, 5, 8, 50, 50), 'end': datetime.datetime(2017, 12, 5, 8, 52, 54)}, {'start': datetime.datetime(2017, 12, 6, 8, 19, 38), 'end': datetime.datetime(2017, 12, 6, 8, 24, 14)}, {'start': datetime.datetime(2017, 12, 6, 18, 19, 19), 'end': datetime.datetime(2017, 12, 6, 18, 28, 11)}, {'start': datetime.datetime(2017, 12, 6, 18, 28, 55), 'end': datetime.datetime(2017, 12, 6, 18, 33, 12)}, {'start': datetime.datetime(2017, 12, 6, 20, 3, 29), 'end': datetime.datetime(2017, 12, 6, 20, 21, 38)}, {'start': datetime.datetime(2017, 12, 6, 20, 36, 42), 'end': datetime.datetime(2017, 12, 6, 20, 39, 57)}, {'start': datetime.datetime(2017, 12, 7, 5, 54, 51), 'end': datetime.datetime(2017, 12, 7, 6, 1, 15)}, {'start': datetime.datetime(2017, 12, 8, 16, 47, 18), 'end': datetime.datetime(2017, 12, 8, 16, 55, 49)}, {'start': datetime.datetime(2017, 12, 8, 19, 15, 2), 'end': datetime.datetime(2017, 12, 8, 19, 29, 12)}, {'start': datetime.datetime(2017, 12, 9, 22, 39, 37), 'end': datetime.datetime(2017, 12, 9, 22, 47, 19)}, {'start': datetime.datetime(2017, 12, 9, 23, 0, 10), 'end': datetime.datetime(2017, 12, 9, 23, 5, 32)}, {'start': datetime.datetime(2017, 12, 10, 0, 39, 24), 'end': datetime.datetime(2017, 12, 10, 0, 56, 2)}, {'start': datetime.datetime(2017, 12, 10, 1, 2, 42), 'end': datetime.datetime(2017, 12, 10, 1, 8, 9)}, {'start': datetime.datetime(2017, 12, 10, 1, 8, 57), 'end': datetime.datetime(2017, 12, 10, 1, 11, 30)}, {'start': datetime.datetime(2017, 12, 10, 13, 49, 9), 'end': datetime.datetime(2017, 12, 10, 13, 51, 41)}, {'start': datetime.datetime(2017, 12, 10, 15, 14, 29), 'end': datetime.datetime(2017, 12, 10, 15, 18, 19)}, {'start': datetime.datetime(2017, 12, 10, 15, 31, 7), 'end': datetime.datetime(2017, 12, 10, 15, 36, 28)}, {'start': datetime.datetime(2017, 12, 10, 16, 20, 6), 'end': datetime.datetime(2017, 12, 10, 16, 30, 31)}, {'start': datetime.datetime(2017, 12, 10, 17, 7, 54), 'end': datetime.datetime(2017, 12, 10, 17, 14, 25)}, {'start': datetime.datetime(2017, 12, 10, 17, 23, 47), 'end': datetime.datetime(2017, 12, 10, 17, 45, 25)}, {'start': datetime.datetime(2017, 12, 11, 6, 17, 6), 'end': datetime.datetime(2017, 12, 11, 6, 34, 4)}, {'start': datetime.datetime(2017, 12, 11, 9, 8, 41), 'end': datetime.datetime(2017, 12, 11, 9, 12, 21)}, {'start': datetime.datetime(2017, 12, 11, 9, 15, 41), 'end': datetime.datetime(2017, 12, 11, 9, 20, 18)}, {'start': datetime.datetime(2017, 12, 12, 8, 55, 53), 'end': datetime.datetime(2017, 12, 12, 8, 59, 34)}, {'start': datetime.datetime(2017, 12, 13, 17, 14, 56), 'end': datetime.datetime(2017, 12, 13, 17, 18, 32)}, {'start': datetime.datetime(2017, 12, 13, 18, 52, 16), 'end': datetime.datetime(2017, 12, 13, 19, 0, 45)}, {'start': datetime.datetime(2017, 12, 14, 9, 1, 10), 'end': datetime.datetime(2017, 12, 14, 9, 11, 6)}, {'start': datetime.datetime(2017, 12, 14, 9, 12, 59), 'end': datetime.datetime(2017, 12, 14, 9, 19, 6)}, {'start': datetime.datetime(2017, 12, 14, 11, 54, 33), 'end': datetime.datetime(2017, 12, 14, 12, 2)}, {'start': datetime.datetime(2017, 12, 14, 14, 40, 23), 'end': datetime.datetime(2017, 12, 14, 14, 44, 40)}, {'start': datetime.datetime(2017, 12, 14, 15, 8, 55), 'end': datetime.datetime(2017, 12, 14, 15, 26, 24)}, {'start': datetime.datetime(2017, 12, 14, 17, 46, 17), 'end': datetime.datetime(2017, 12, 14, 18, 9, 4)}, {'start': datetime.datetime(2017, 12, 15, 9, 8, 12), 'end': datetime.datetime(2017, 12, 15, 9, 23, 45)}, {'start': datetime.datetime(2017, 12, 16, 9, 33, 46), 'end': datetime.datetime(2017, 12, 16, 9, 36, 17)}, {'start': datetime.datetime(2017, 12, 16, 11, 2, 31), 'end': datetime.datetime(2017, 12, 16, 11, 5, 4)}, \n",
    "                    {'start': datetime.datetime(2017, 12, 17, 10, 9, 47), 'end': datetime.datetime(2017, 12, 17, 10, 32, 3)}, {'start': datetime.datetime(2017, 12, 18, 8, 2, 36), 'end': datetime.datetime(2017, 12, 18, 8, 7, 34)}, {'start': datetime.datetime(2017, 12, 18, 16, 3), 'end': datetime.datetime(2017, 12, 18, 16, 9, 20)}, {'start': datetime.datetime(2017, 12, 18, 16, 30, 7), 'end': datetime.datetime(2017, 12, 18, 16, 53, 12)}, {'start': datetime.datetime(2017, 12, 18, 19, 18, 23), 'end': datetime.datetime(2017, 12, 18, 19, 22, 8)}, {'start': datetime.datetime(2017, 12, 18, 20, 14, 46), 'end': datetime.datetime(2017, 12, 18, 20, 17, 47)}, {'start': datetime.datetime(2017, 12, 19, 19, 14, 8), 'end': datetime.datetime(2017, 12, 19, 19, 23, 49)}, {'start': datetime.datetime(2017, 12, 19, 19, 39, 36), 'end': datetime.datetime(2017, 12, 19, 19, 43, 46)}, {'start': datetime.datetime(2017, 12, 20, 8, 5, 14), 'end': datetime.datetime(2017, 12, 20, 8, 10, 46)}, {'start': datetime.datetime(2017, 12, 20, 8, 15, 45), 'end': datetime.datetime(2017, 12, 20, 8, 29, 50)}, {'start': datetime.datetime(2017, 12, 20, 8, 33, 32), 'end': datetime.datetime(2017, 12, 20, 8, 38, 9)}, {'start': datetime.datetime(2017, 12, 20, 13, 43, 36), 'end': datetime.datetime(2017, 12, 20, 13, 54, 39)}, {'start': datetime.datetime(2017, 12, 20, 18, 57, 53), 'end': datetime.datetime(2017, 12, 20, 19, 6, 54)}, {'start': datetime.datetime(2017, 12, 21, 7, 21, 11), 'end': datetime.datetime(2017, 12, 21, 7, 32, 3)}, {'start': datetime.datetime(2017, 12, 21, 8, 1, 58), 'end': datetime.datetime(2017, 12, 21, 8, 6, 15)}, {'start': datetime.datetime(2017, 12, 21, 13, 20, 54), 'end': datetime.datetime(2017, 12, 21, 13, 33, 49)}, {'start': datetime.datetime(2017, 12, 21, 15, 26, 8), 'end': datetime.datetime(2017, 12, 21, 15, 34, 27)}, {'start': datetime.datetime(2017, 12, 21, 18, 9, 46), 'end': datetime.datetime(2017, 12, 21, 18, 38, 50)}, {'start': datetime.datetime(2017, 12, 22, 16, 14, 21), 'end': datetime.datetime(2017, 12, 22, 16, 21, 46)}, {'start': datetime.datetime(2017, 12, 22, 16, 29, 17), 'end': datetime.datetime(2017, 12, 22, 16, 34, 14)}, {'start': datetime.datetime(2017, 12, 25, 12, 49, 51), 'end': datetime.datetime(2017, 12, 25, 13, 18, 27)}, {'start': datetime.datetime(2017, 12, 25, 13, 46, 44), 'end': datetime.datetime(2017, 12, 25, 14, 20, 50)}, {'start': datetime.datetime(2017, 12, 26, 10, 40, 16), 'end': datetime.datetime(2017, 12, 26, 10, 53, 45)}, {'start': datetime.datetime(2017, 12, 27, 16, 56, 12), 'end': datetime.datetime(2017, 12, 27, 17, 17, 39)}, {'start': datetime.datetime(2017, 12, 29, 6, 2, 34), 'end': datetime.datetime(2017, 12, 29, 6, 12, 30)}, {'start': datetime.datetime(2017, 12, 29, 12, 21, 3), 'end': datetime.datetime(2017, 12, 29, 12, 46, 16)}, {'start': datetime.datetime(2017, 12, 29, 14, 32, 55), 'end': datetime.datetime(2017, 12, 29, 14, 43, 46)}, {'start': datetime.datetime(2017, 12, 29, 15, 8, 26), 'end': datetime.datetime(2017, 12, 29, 15, 18, 51)}, {'start': datetime.datetime(2017, 12, 29, 20, 33, 34), 'end': datetime.datetime(2017, 12, 29, 20, 38, 13)}, {'start': datetime.datetime(2017, 12, 30, 13, 51, 3), 'end': datetime.datetime(2017, 12, 30, 13, 54, 33)}, {'start': datetime.datetime(2017, 12, 30, 15, 9, 3), 'end': datetime.datetime(2017, 12, 30, 15, 19, 13)}]"
   ]
  },
  {
   "cell_type": "code",
   "execution_count": 30,
   "id": "ceb77161",
   "metadata": {},
   "outputs": [
    {
     "name": "stdout",
     "output_type": "stream",
     "text": [
      "{'AM': 94, 'PM': 196}\n"
     ]
    }
   ],
   "source": [
    "# Create dictionary to hold results\n",
    "trip_counts = {'AM': 0, 'PM': 0}\n",
    "  \n",
    "# Loop over all trips\n",
    "for trip in onebike_datetimes:\n",
    "    # Check to see if the trip starts before noon\n",
    "    if trip['start'].hour < 12:\n",
    "        # Increment the counter for before noon\n",
    "        trip_counts['AM'] += 1\n",
    "    else:\n",
    "        # Increment the counter for after noon\n",
    "        trip_counts['PM'] += 1\n",
    "\n",
    "print(trip_counts)"
   ]
  },
  {
   "cell_type": "code",
   "execution_count": 31,
   "id": "f4f92ec3",
   "metadata": {},
   "outputs": [
    {
     "name": "stdout",
     "output_type": "stream",
     "text": [
      "2017-02-03 00:00:01\n"
     ]
    }
   ],
   "source": [
    "# Import the datetime class\n",
    "from datetime import datetime\n",
    "\n",
    "# Starting string, in YYYY-MM-DD HH:MM:SS format\n",
    "s = '2017-02-03 00:00:01'\n",
    "\n",
    "# Write a format string to parse s\n",
    "fmt = '%Y-%m-%d %H:%M:%S'\n",
    "\n",
    "# Create a datetime object d\n",
    "d = datetime.strptime(s, fmt)\n",
    "\n",
    "# Print d\n",
    "print(d)"
   ]
  },
  {
   "cell_type": "code",
   "execution_count": 32,
   "id": "80ab14f2",
   "metadata": {},
   "outputs": [
    {
     "name": "stdout",
     "output_type": "stream",
     "text": [
      "2030-10-15 00:00:00\n"
     ]
    }
   ],
   "source": [
    "# Import the datetime class\n",
    "from datetime import datetime\n",
    "\n",
    "# Starting string, in YYYY-MM-DD format\n",
    "s = '2030-10-15'\n",
    "\n",
    "# Write a format string to parse s\n",
    "fmt = '%Y-%m-%d'\n",
    "\n",
    "# Create a datetime object d\n",
    "d = datetime.strptime(s, fmt)\n",
    "\n",
    "# Print d\n",
    "print(d)"
   ]
  },
  {
   "cell_type": "code",
   "execution_count": 33,
   "id": "6b3331bb",
   "metadata": {},
   "outputs": [
    {
     "name": "stdout",
     "output_type": "stream",
     "text": [
      "1986-12-15 08:00:00\n"
     ]
    }
   ],
   "source": [
    "# Import the datetime class\n",
    "from datetime import datetime\n",
    "\n",
    "# Starting string, in MM/DD/YYYY HH:MM:SS format\n",
    "s = '12/15/1986 08:00:00'\n",
    "\n",
    "# Write a format string to parse s\n",
    "fmt = '%m/%d/%Y %H:%M:%S'\n",
    "\n",
    "# Create a datetime object d\n",
    "d = datetime.strptime(s, fmt)\n",
    "\n",
    "# Print d\n",
    "print(d)"
   ]
  },
  {
   "cell_type": "code",
   "execution_count": 35,
   "id": "5f6404e2",
   "metadata": {},
   "outputs": [],
   "source": [
    "onebike_datetime_strings = [('2017-10-01 15:23:25', '2017-10-01 15:26:26'), ('2017-10-01 15:42:57', '2017-10-01 17:49:59'), ('2017-10-02 06:37:10', '2017-10-02 06:42:53'), ('2017-10-02 08:56:45', '2017-10-02 09:18:03'), ('2017-10-02 18:23:48', '2017-10-02 18:45:05'), ('2017-10-02 18:48:08', '2017-10-02 19:10:54'), ('2017-10-02 19:18:10', '2017-10-02 19:31:45'), ('2017-10-02 19:37:32', '2017-10-02 19:46:37'), ('2017-10-03 08:24:16', '2017-10-03 08:32:27'), ('2017-10-03 18:17:07', '2017-10-03 18:27:46'), ('2017-10-03 19:24:10', '2017-10-03 19:52:08'), ('2017-10-03 20:17:06', '2017-10-03 20:23:52'), ('2017-10-03 20:45:21', '2017-10-03 20:57:10'), ('2017-10-04 07:04:57', '2017-10-04 07:13:31'), ('2017-10-04 07:13:42', '2017-10-04 07:21:54'), ('2017-10-04 14:22:12', '2017-10-04 14:50:00'), ('2017-10-04 15:07:27', '2017-10-04 15:44:49'), ('2017-10-04 15:46:41', '2017-10-04 16:32:33'), ('2017-10-04 16:34:44', '2017-10-04 16:46:59'), ('2017-10-04 17:26:06', '2017-10-04 17:31:36'), ('2017-10-04 17:42:03', '2017-10-04 17:50:41'), ('2017-10-05 07:49:02', '2017-10-05 08:12:55'), ('2017-10-05 08:26:21', '2017-10-05 08:29:45'), ('2017-10-05 08:33:27', '2017-10-05 08:38:31'), ('2017-10-05 16:35:35', '2017-10-05 16:51:52'), ('2017-10-05 17:53:31', '2017-10-05 18:16:50'), ('2017-10-06 08:17:17', '2017-10-06 08:38:01'), ('2017-10-06 11:39:40', '2017-10-06 11:50:38'), ('2017-10-06 12:59:54', '2017-10-06 13:13:14'), ('2017-10-06 13:43:05', '2017-10-06 14:14:56'), ('2017-10-06 14:28:15', '2017-10-06 15:09:26'), ('2017-10-06 15:50:10', '2017-10-06 16:12:34'), ('2017-10-06 16:32:16', '2017-10-06 16:39:31'), ('2017-10-06 16:44:08', '2017-10-06 16:48:39'), ('2017-10-06 16:53:43', '2017-10-06 17:09:03'), ('2017-10-07 11:38:55', '2017-10-07 11:53:06'), ('2017-10-07 14:03:36', '2017-10-07 14:07:05'), ('2017-10-07 14:20:03', '2017-10-07 14:27:36'), ('2017-10-07 14:30:50', '2017-10-07 14:44:51'), ('2017-10-08 00:28:26', '2017-10-08 00:30:48'), ('2017-10-08 11:16:21', '2017-10-08 11:33:24'), ('2017-10-08 12:37:03', '2017-10-08 13:01:29'), \n",
    "                            ('2017-10-08 13:30:37', '2017-10-08 13:57:53'), ('2017-10-08 14:16:40', '2017-10-08 15:07:19'), ('2017-10-08 15:23:50', '2017-10-08 15:50:01'), ('2017-10-08 15:54:12', '2017-10-08 16:17:42'), ('2017-10-08 16:28:52', '2017-10-08 16:35:18'), ('2017-10-08 23:08:14', '2017-10-08 23:33:41'), ('2017-10-08 23:34:49', '2017-10-08 23:45:11'), ('2017-10-08 23:46:47', '2017-10-09 00:10:57'), ('2017-10-09 00:12:58', '2017-10-09 00:36:40'), ('2017-10-09 00:37:02', '2017-10-09 00:53:33'), ('2017-10-09 01:23:29', '2017-10-09 01:48:13'), ('2017-10-09 01:49:25', '2017-10-09 02:13:35'), ('2017-10-09 02:14:11', '2017-10-09 02:29:40'), ('2017-10-09 13:04:32', '2017-10-09 13:13:25'), ('2017-10-09 14:30:10', '2017-10-09 14:38:55'), ('2017-10-09 15:06:47', '2017-10-09 15:11:30'), ('2017-10-09 16:43:25', '2017-10-09 16:45:38'), ('2017-10-10 15:32:58', '2017-10-10 15:51:24'), ('2017-10-10 16:47:55', '2017-10-10 17:03:47'), ('2017-10-10 17:51:05', '2017-10-10 18:00:18'), ('2017-10-10 18:08:12', '2017-10-10 18:19:11'), ('2017-10-10 19:09:35', '2017-10-10 19:14:32'), ('2017-10-10 19:17:11', '2017-10-10 19:23:08'), ('2017-10-10 19:28:11', '2017-10-10 19:44:40'), ('2017-10-10 19:55:35', '2017-10-10 20:11:54'), ('2017-10-10 22:20:43', '2017-10-10 22:33:23'), ('2017-10-11 04:40:52', '2017-10-11 04:59:22'), ('2017-10-11 06:28:58', '2017-10-11 06:40:13'), ('2017-10-11 16:41:07', '2017-10-11 17:01:14'), ('2017-10-12 08:08:30', '2017-10-12 08:35:03'), ('2017-10-12 08:47:02', '2017-10-12 08:59:50'), ('2017-10-12 13:13:39', '2017-10-12 13:37:45'), ('2017-10-12 13:40:12', '2017-10-12 13:48:17'), ('2017-10-12 13:49:56', '2017-10-12 13:53:16'), ('2017-10-12 14:33:18', '2017-10-12 14:39:57'), ('2017-10-13 15:55:39', '2017-10-13 15:59:41'), ('2017-10-17 17:58:48', '2017-10-17 18:01:38'), ('2017-10-19 20:21:45', '2017-10-19 20:29:15'), ('2017-10-19 21:11:39', '2017-10-19 21:29:37'), ('2017-10-19 21:30:01', '2017-10-19 21:47:23'), ('2017-10-19 21:47:34', '2017-10-19 21:57:07'), ('2017-10-19 21:57:24', '2017-10-19 22:09:52'), \n",
    "                            ('2017-10-21 12:24:09', '2017-10-21 12:36:24'), ('2017-10-21 12:36:37', '2017-10-21 12:42:13'), ('2017-10-21 13:47:43', '2017-10-22 11:09:36'), ('2017-10-22 13:28:53', '2017-10-22 13:31:44'), ('2017-10-22 13:47:05', '2017-10-22 13:56:33'), ('2017-10-22 14:26:41', '2017-10-22 14:32:39'), ('2017-10-22 14:54:41', '2017-10-22 15:09:58'), ('2017-10-22 16:40:29', '2017-10-22 16:51:40'), ('2017-10-22 17:58:46', '2017-10-22 18:28:37'), ('2017-10-22 18:45:16', '2017-10-22 18:50:34'), ('2017-10-22 18:56:22', '2017-10-22 19:11:10'), ('2017-10-23 10:14:08', '2017-10-23 10:35:32'), ('2017-10-23 11:29:36', '2017-10-23 14:38:34'), ('2017-10-23 15:04:52', '2017-10-23 15:32:58'), ('2017-10-23 15:33:48', '2017-10-23 17:06:47'), ('2017-10-23 17:13:16', '2017-10-23 19:31:26'), ('2017-10-23 19:55:03', '2017-10-23 20:25:53'), ('2017-10-23 21:47:54', '2017-10-23 22:18:04'), ('2017-10-23 22:34:12', '2017-10-23 22:48:42'), ('2017-10-24 06:55:01', '2017-10-24 07:02:17'), ('2017-10-24 14:56:07', '2017-10-24 15:03:16'), ('2017-10-24 15:51:36', '2017-10-24 15:59:50'), ('2017-10-24 16:31:10', '2017-10-24 16:55:09'), ('2017-10-28 14:26:14', '2017-10-28 14:32:34'), ('2017-11-01 09:41:54', '2017-11-01 09:52:23'), ('2017-11-01 20:16:11', '2017-11-01 20:32:13'), ('2017-11-02 19:44:29', '2017-11-02 19:50:56'), ('2017-11-02 20:14:37', '2017-11-02 20:30:29'), ('2017-11-02 21:35:47', '2017-11-02 21:38:57'), ('2017-11-03 09:59:27', '2017-11-03 10:11:46'), ('2017-11-03 10:13:22', '2017-11-03 10:32:02'), ('2017-11-03 10:44:25', '2017-11-03 10:50:34'), ('2017-11-03 16:06:43', '2017-11-03 16:44:38'), ('2017-11-03 16:45:54', '2017-11-03 17:00:27'), ('2017-11-03 17:07:15', '2017-11-03 17:35:05'), ('2017-11-03 17:36:05', '2017-11-03 17:46:48'), ('2017-11-03 17:50:31', '2017-11-03 18:00:03'), ('2017-11-03 19:22:56', '2017-11-03 19:45:51'), ('2017-11-04 13:14:10', '2017-11-04 13:26:15'), ('2017-11-04 14:18:37', '2017-11-04 14:30:05'), ('2017-11-04 14:45:59', '2017-11-04 15:03:20'), ('2017-11-04 15:16:03', '2017-11-04 15:44:30'), \n",
    "                            ('2017-11-04 16:37:46', '2017-11-04 16:58:22'), ('2017-11-04 17:13:19', '2017-11-04 17:34:50'), ('2017-11-04 18:10:34', '2017-11-04 18:58:44'), ('2017-11-05 01:56:50', '2017-11-05 01:01:04'), ('2017-11-05 08:33:33', '2017-11-05 08:53:46'), ('2017-11-05 08:58:08', '2017-11-05 09:03:39'), ('2017-11-05 11:05:08', '2017-11-05 11:30:05'), ('2017-11-06 08:50:18', '2017-11-06 08:59:05'), ('2017-11-06 09:04:03', '2017-11-06 09:13:47'), ('2017-11-06 16:19:36', '2017-11-06 17:02:55'), ('2017-11-06 17:21:27', '2017-11-06 17:34:06'), ('2017-11-06 17:36:01', '2017-11-06 17:57:32'), ('2017-11-06 17:59:52', '2017-11-06 18:15:08'), ('2017-11-06 18:18:36', '2017-11-06 18:21:17'), ('2017-11-06 19:24:31', '2017-11-06 19:37:57'), ('2017-11-06 19:49:16', '2017-11-06 20:03:14'), ('2017-11-07 07:50:48', '2017-11-07 08:01:32'), ('2017-11-08 13:11:51', '2017-11-08 13:18:05'), ('2017-11-08 21:34:47', '2017-11-08 21:46:05'), ('2017-11-08 22:02:30', '2017-11-08 22:04:47'), ('2017-11-09 07:01:11', '2017-11-09 07:12:10'), ('2017-11-09 08:02:02', '2017-11-09 08:08:28'), ('2017-11-09 08:19:59', '2017-11-09 08:32:24'), ('2017-11-09 08:41:31', '2017-11-09 08:48:59'), ('2017-11-09 09:00:06', '2017-11-09 09:09:24'), ('2017-11-09 09:09:37', '2017-11-09 09:24:25'), ('2017-11-09 13:14:37', '2017-11-09 13:25:39'), ('2017-11-09 15:20:07', '2017-11-09 15:31:10'), ('2017-11-09 18:47:08', '2017-11-09 18:53:10'), ('2017-11-09 23:35:02', '2017-11-09 23:43:35'), ('2017-11-10 07:51:33', '2017-11-10 08:02:28'), ('2017-11-10 08:38:28', '2017-11-10 08:42:09'), ('2017-11-11 18:05:25', '2017-11-11 18:13:14'), ('2017-11-11 19:39:12', '2017-11-11 19:46:22'), ('2017-11-11 21:13:19', '2017-11-11 21:16:31'), ('2017-11-12 09:46:19', '2017-11-12 09:51:43'), ('2017-11-13 13:33:42', '2017-11-13 13:54:15'), ('2017-11-14 08:40:29', '2017-11-14 08:55:52'), ('2017-11-15 06:14:05', '2017-11-15 06:30:06'), ('2017-11-15 08:14:59', '2017-11-15 08:23:44'), ('2017-11-15 10:16:44', '2017-11-15 10:33:41'), ('2017-11-15 10:33:58', '2017-11-15 10:54:14'), \n",
    "                            ('2017-11-15 11:02:15', '2017-11-15 11:14:42'), ('2017-11-16 09:27:41', '2017-11-16 09:38:49'), ('2017-11-16 09:57:41', '2017-11-16 10:18:00'), ('2017-11-16 17:25:05', '2017-11-16 17:44:47'), ('2017-11-17 13:45:54', '2017-11-17 16:36:56'), ('2017-11-17 19:12:49', '2017-11-17 19:31:15'), ('2017-11-18 10:49:06', '2017-11-18 10:55:45'), ('2017-11-18 11:32:12', '2017-11-18 11:44:16'), ('2017-11-18 18:09:01', '2017-11-18 18:14:31'), ('2017-11-18 18:53:10', '2017-11-18 19:01:29'), ('2017-11-19 14:15:41', '2017-11-19 14:31:49'), ('2017-11-20 21:19:19', '2017-11-20 21:41:09'), ('2017-11-20 22:39:48', '2017-11-20 23:23:37'), ('2017-11-21 17:44:25', '2017-11-21 17:51:32'), ('2017-11-21 18:20:52', '2017-11-21 18:34:51'), ('2017-11-21 18:47:32', '2017-11-21 18:51:50'), ('2017-11-21 19:07:57', '2017-11-21 19:14:33'), ('2017-11-21 20:04:56', '2017-11-21 20:08:54'), ('2017-11-21 21:55:47', '2017-11-21 22:08:12'), ('2017-11-23 23:47:43', '2017-11-23 23:57:56'), ('2017-11-24 06:41:25', '2017-11-24 06:53:15'), ('2017-11-24 06:58:56', '2017-11-24 07:33:24'), ('2017-11-26 12:25:49', '2017-11-26 12:41:36'), ('2017-11-27 05:29:04', '2017-11-27 05:54:13'), ('2017-11-27 06:06:47', '2017-11-27 06:11:01'), ('2017-11-27 06:45:14', '2017-11-27 06:55:39'), ('2017-11-27 09:39:44', '2017-11-27 09:47:43'), ('2017-11-27 11:09:18', '2017-11-27 11:20:46'), ('2017-11-27 11:31:46', '2017-11-27 11:35:44'), ('2017-11-27 12:07:14', '2017-11-27 12:12:36'), ('2017-11-27 12:21:40', '2017-11-27 12:26:44'), ('2017-11-27 17:26:31', '2017-11-27 17:36:07'), ('2017-11-27 18:11:49', '2017-11-27 18:29:04'), ('2017-11-27 19:36:16', '2017-11-27 19:47:17'), ('2017-11-27 20:12:57', '2017-11-27 20:17:33'), ('2017-11-28 08:18:06', '2017-11-28 08:41:53'), ('2017-11-28 19:17:23', '2017-11-28 19:34:01'), ('2017-11-28 19:34:15', '2017-11-28 19:46:24'), ('2017-11-28 21:27:29', '2017-11-28 21:39:32'), ('2017-11-29 07:47:38', '2017-11-29 07:51:18'), ('2017-11-29 09:50:12', '2017-11-29 09:53:44'), ('2017-11-29 17:03:42', '2017-11-29 17:16:21'), \n",
    "                            ('2017-11-29 18:19:15', '2017-11-29 18:23:43'), ('2017-12-01 17:03:58', '2017-12-01 17:10:12'), ('2017-12-02 07:55:56', '2017-12-02 08:01:01'), ('2017-12-02 09:16:14', '2017-12-02 09:21:18'), ('2017-12-02 19:48:29', '2017-12-02 19:53:18'), ('2017-12-03 14:36:29', '2017-12-03 15:20:09'), ('2017-12-03 16:04:02', '2017-12-03 16:25:30'), ('2017-12-03 16:40:26', '2017-12-03 16:43:58'), ('2017-12-03 17:20:17', '2017-12-03 18:04:33'), ('2017-12-04 08:34:24', '2017-12-04 08:51:00'), ('2017-12-04 17:49:26', '2017-12-04 17:53:57'), ('2017-12-04 18:38:52', '2017-12-04 18:50:33'), ('2017-12-04 21:39:20', '2017-12-04 21:46:58'), ('2017-12-04 21:54:21', '2017-12-04 21:56:17'), ('2017-12-05 08:50:50', '2017-12-05 08:52:54'), ('2017-12-06 08:19:38', '2017-12-06 08:24:14'), ('2017-12-06 18:19:19', '2017-12-06 18:28:11'), ('2017-12-06 18:28:55', '2017-12-06 18:33:12'), ('2017-12-06 20:03:29', '2017-12-06 20:21:38'), ('2017-12-06 20:36:42', '2017-12-06 20:39:57'), ('2017-12-07 05:54:51', '2017-12-07 06:01:15'), ('2017-12-08 16:47:18', '2017-12-08 16:55:49'), ('2017-12-08 19:15:02', '2017-12-08 19:29:12'), ('2017-12-09 22:39:37', '2017-12-09 22:47:19'), ('2017-12-09 23:00:10', '2017-12-09 23:05:32'), ('2017-12-10 00:39:24', '2017-12-10 00:56:02'), ('2017-12-10 01:02:42', '2017-12-10 01:08:09'), ('2017-12-10 01:08:57', '2017-12-10 01:11:30'), ('2017-12-10 13:49:09', '2017-12-10 13:51:41'), ('2017-12-10 15:14:29', '2017-12-10 15:18:19'), ('2017-12-10 15:31:07', '2017-12-10 15:36:28'), ('2017-12-10 16:20:06', '2017-12-10 16:30:31'), ('2017-12-10 17:07:54', '2017-12-10 17:14:25'), ('2017-12-10 17:23:47', '2017-12-10 17:45:25'), ('2017-12-11 06:17:06', '2017-12-11 06:34:04'), ('2017-12-11 09:08:41', '2017-12-11 09:12:21'), ('2017-12-11 09:15:41', '2017-12-11 09:20:18'), ('2017-12-12 08:55:53', '2017-12-12 08:59:34'), ('2017-12-13 17:14:56', '2017-12-13 17:18:32'), ('2017-12-13 18:52:16', '2017-12-13 19:00:45'), ('2017-12-14 09:01:10', '2017-12-14 09:11:06'), ('2017-12-14 09:12:59', '2017-12-14 09:19:06'), \n",
    "                            ('2017-12-14 11:54:33', '2017-12-14 12:02:00'), ('2017-12-14 14:40:23', '2017-12-14 14:44:40'), ('2017-12-14 15:08:55', '2017-12-14 15:26:24'), ('2017-12-14 17:46:17', '2017-12-14 18:09:04'), ('2017-12-15 09:08:12', '2017-12-15 09:23:45'), ('2017-12-16 09:33:46', '2017-12-16 09:36:17'), ('2017-12-16 11:02:31', '2017-12-16 11:05:04'), ('2017-12-17 10:09:47', '2017-12-17 10:32:03'), ('2017-12-18 08:02:36', '2017-12-18 08:07:34'), ('2017-12-18 16:03:00', '2017-12-18 16:09:20'), ('2017-12-18 16:30:07', '2017-12-18 16:53:12'), ('2017-12-18 19:18:23', '2017-12-18 19:22:08'), ('2017-12-18 20:14:46', '2017-12-18 20:17:47'), ('2017-12-19 19:14:08', '2017-12-19 19:23:49'), ('2017-12-19 19:39:36', '2017-12-19 19:43:46'), ('2017-12-20 08:05:14', '2017-12-20 08:10:46'), ('2017-12-20 08:15:45', '2017-12-20 08:29:50'), ('2017-12-20 08:33:32', '2017-12-20 08:38:09'), ('2017-12-20 13:43:36', '2017-12-20 13:54:39'), ('2017-12-20 18:57:53', '2017-12-20 19:06:54'), ('2017-12-21 07:21:11', '2017-12-21 07:32:03'), ('2017-12-21 08:01:58', '2017-12-21 08:06:15'), ('2017-12-21 13:20:54', '2017-12-21 13:33:49'), ('2017-12-21 15:26:08', '2017-12-21 15:34:27'), ('2017-12-21 18:09:46', '2017-12-21 18:38:50'), ('2017-12-22 16:14:21', '2017-12-22 16:21:46'), ('2017-12-22 16:29:17', '2017-12-22 16:34:14'), ('2017-12-25 12:49:51', '2017-12-25 13:18:27'), ('2017-12-25 13:46:44', '2017-12-25 14:20:50'), ('2017-12-26 10:40:16', '2017-12-26 10:53:45'), ('2017-12-27 16:56:12', '2017-12-27 17:17:39'), ('2017-12-29 06:02:34', '2017-12-29 06:12:30'), ('2017-12-29 12:21:03', '2017-12-29 12:46:16'), ('2017-12-29 14:32:55', '2017-12-29 14:43:46'), ('2017-12-29 15:08:26', '2017-12-29 15:18:51'), ('2017-12-29 20:33:34', '2017-12-29 20:38:13'), ('2017-12-30 13:51:03', '2017-12-30 13:54:33'), ('2017-12-30 15:09:03', '2017-12-30 15:19:13')]"
   ]
  },
  {
   "cell_type": "code",
   "execution_count": 37,
   "id": "9acf8c34",
   "metadata": {},
   "outputs": [],
   "source": [
    "# Write down the format string\n",
    "fmt = \"%Y-%m-%d %H:%M:%S\"\n",
    "\n",
    "# Initialize a list for holding the pairs of datetime objects\n",
    "onebike_datetimes = []\n",
    "\n",
    "# Loop over all trips\n",
    "for (start, end) in onebike_datetime_strings:\n",
    "    trip = {'start': datetime.strptime(start, fmt),\n",
    "            'end': datetime.strptime(end, fmt)}\n",
    "\n",
    "    # Append the trip\n",
    "    onebike_datetimes.append(trip)\n",
    "\n",
    "# or one-line with list comprehension\n",
    "# onebike_datetimes = [{'start': datetime.strptime(start, fmt), 'end': datetime.strptime(end, fmt)} for start, end in onebike_datetime_strings]"
   ]
  },
  {
   "cell_type": "code",
   "execution_count": 38,
   "id": "4ce64a0f",
   "metadata": {},
   "outputs": [
    {
     "name": "stdout",
     "output_type": "stream",
     "text": [
      "2017-10-01T15:23:25\n",
      "2017-10-01T15:23:25\n"
     ]
    }
   ],
   "source": [
    "# Import datetime\n",
    "from datetime import datetime\n",
    "\n",
    "# Pull out the start of the first trip\n",
    "first_start = onebike_datetimes[0]['start']\n",
    "\n",
    "# Format to feed to strftime()\n",
    "fmt = \"%Y-%m-%dT%H:%M:%S\"\n",
    "\n",
    "# Print out date with .isoformat(), then with .strftime() to compare\n",
    "print(first_start.isoformat())\n",
    "print(first_start.strftime(fmt))"
   ]
  },
  {
   "cell_type": "code",
   "execution_count": 39,
   "id": "fb8d0cbb",
   "metadata": {},
   "outputs": [
    {
     "name": "stdout",
     "output_type": "stream",
     "text": [
      "[datetime.datetime(2017, 12, 31, 0, 19, 13), datetime.datetime(2017, 12, 31, 0, 9, 3)]\n"
     ]
    }
   ],
   "source": [
    "# Import datetime\n",
    "from datetime import datetime\n",
    "\n",
    "# Starting timestamps\n",
    "timestamps = [1514665153, 1514664543]\n",
    "\n",
    "# Datetime objects\n",
    "dts = []\n",
    "\n",
    "# Loop\n",
    "for ts in timestamps:\n",
    "  dts.append(datetime.fromtimestamp(ts))\n",
    "  \n",
    "# Print results\n",
    "print(dts)"
   ]
  },
  {
   "cell_type": "code",
   "execution_count": 40,
   "id": "2aaf619e",
   "metadata": {},
   "outputs": [],
   "source": [
    "# Initialize a list for all the trip durations\n",
    "onebike_durations = []\n",
    "\n",
    "for trip in onebike_datetimes:\n",
    "    # Create a timedelta object corresponding to the length of the trip\n",
    "    trip_duration = trip['end'] - trip['start']\n",
    "\n",
    "    # Get the total elapsed seconds in trip_duration\n",
    "    trip_length_seconds = trip_duration.total_seconds()\n",
    "\n",
    "    # Append the results to our list\n",
    "    onebike_durations.append(trip_length_seconds)"
   ]
  },
  {
   "cell_type": "code",
   "execution_count": 41,
   "id": "59c838cf",
   "metadata": {},
   "outputs": [
    {
     "name": "stdout",
     "output_type": "stream",
     "text": [
      "1178.9310344827586\n"
     ]
    }
   ],
   "source": [
    "# What was the total duration of all trips?\n",
    "total_elapsed_time = sum(onebike_durations)\n",
    "\n",
    "# What was the total number of trips?\n",
    "number_of_trips = len(onebike_durations)\n",
    "  \n",
    "# Divide the total duration by the number of trips\n",
    "print(total_elapsed_time / number_of_trips)"
   ]
  },
  {
   "cell_type": "code",
   "execution_count": 42,
   "id": "6d1ffd0e",
   "metadata": {},
   "outputs": [
    {
     "name": "stdout",
     "output_type": "stream",
     "text": [
      "The shortest trip was -3346.0 seconds\n",
      "The longest trip was 76913.0 seconds\n"
     ]
    }
   ],
   "source": [
    "# Calculate shortest and longest trips\n",
    "shortest_trip = min(onebike_durations)\n",
    "longest_trip = max(onebike_durations)\n",
    "\n",
    "# Print out the results\n",
    "print(\"The shortest trip was \" + str(shortest_trip) + \" seconds\")\n",
    "print(\"The longest trip was \" + str(longest_trip) + \" seconds\")"
   ]
  },
  {
   "cell_type": "markdown",
   "id": "f4601e97",
   "metadata": {},
   "source": [
    "## 3. Time Zones and Daylight Saving"
   ]
  },
  {
   "cell_type": "code",
   "execution_count": 43,
   "id": "ebeb3afe",
   "metadata": {},
   "outputs": [
    {
     "name": "stdout",
     "output_type": "stream",
     "text": [
      "2017-10-01T15:26:26+00:00\n"
     ]
    }
   ],
   "source": [
    "# Import datetime, timezone\n",
    "from datetime import datetime, timezone\n",
    "\n",
    "# October 1, 2017 at 15:26:26, UTC\n",
    "dt = datetime(2017, 10, 1, 15, 26, 26, tzinfo=timezone.utc)\n",
    "\n",
    "# Print results\n",
    "print(dt.isoformat())"
   ]
  },
  {
   "cell_type": "code",
   "execution_count": 44,
   "id": "f235c9c1",
   "metadata": {},
   "outputs": [
    {
     "name": "stdout",
     "output_type": "stream",
     "text": [
      "2017-10-01T15:26:26-08:00\n"
     ]
    }
   ],
   "source": [
    "# Import datetime, timedelta, timezone\n",
    "from datetime import datetime, timedelta, timezone\n",
    "\n",
    "# Create a timezone for Pacific Standard Time, or UTC-8\n",
    "pst = timezone(timedelta(hours=-8))\n",
    "\n",
    "# October 1, 2017 at 15:26:26, UTC-8\n",
    "dt = datetime(2017, 10, 1, 15, 26, 26, tzinfo=pst)\n",
    "\n",
    "# Print results\n",
    "print(dt.isoformat())"
   ]
  },
  {
   "cell_type": "code",
   "execution_count": 45,
   "id": "74cf2731",
   "metadata": {},
   "outputs": [
    {
     "name": "stdout",
     "output_type": "stream",
     "text": [
      "2017-10-01T15:26:26+11:00\n"
     ]
    }
   ],
   "source": [
    "# Import datetime, timedelta, timezone\n",
    "from datetime import datetime, timedelta, timezone\n",
    "\n",
    "# Create a timezone for Australian Eastern Daylight Time, or UTC+11\n",
    "aedt = timezone(timedelta(hours=11))\n",
    "\n",
    "# October 1, 2017 at 15:26:26, UTC+11\n",
    "dt = datetime(2017, 10, 1, 15, 26, 26, tzinfo=aedt)\n",
    "\n",
    "# Print results\n",
    "print(dt.isoformat())"
   ]
  },
  {
   "cell_type": "code",
   "execution_count": 47,
   "id": "af21ddcf",
   "metadata": {},
   "outputs": [],
   "source": [
    "# Create a timezone object corresponding to UTC-4\n",
    "edt = timezone(timedelta(hours=-4))\n",
    "\n",
    "# Loop over trips, updating the start and end datetimes to be in UTC-4\n",
    "for trip in onebike_datetimes[:10]:\n",
    "    # Update trip['start'] and trip['end']\n",
    "    trip['start'] = trip['start'].replace(tzinfo=edt)\n",
    "    trip['end'] = trip['end'].replace(tzinfo=edt)"
   ]
  },
  {
   "cell_type": "code",
   "execution_count": 48,
   "id": "c2a0229e",
   "metadata": {},
   "outputs": [
    {
     "name": "stdout",
     "output_type": "stream",
     "text": [
      "Original: 2017-10-01 15:23:25-04:00 | UTC: 2017-10-01T19:23:25+00:00\n",
      "Original: 2017-10-01 15:42:57-04:00 | UTC: 2017-10-01T19:42:57+00:00\n",
      "Original: 2017-10-02 06:37:10-04:00 | UTC: 2017-10-02T10:37:10+00:00\n",
      "Original: 2017-10-02 08:56:45-04:00 | UTC: 2017-10-02T12:56:45+00:00\n",
      "Original: 2017-10-02 18:23:48-04:00 | UTC: 2017-10-02T22:23:48+00:00\n",
      "Original: 2017-10-02 18:48:08-04:00 | UTC: 2017-10-02T22:48:08+00:00\n",
      "Original: 2017-10-02 19:18:10-04:00 | UTC: 2017-10-02T23:18:10+00:00\n",
      "Original: 2017-10-02 19:37:32-04:00 | UTC: 2017-10-02T23:37:32+00:00\n",
      "Original: 2017-10-03 08:24:16-04:00 | UTC: 2017-10-03T12:24:16+00:00\n",
      "Original: 2017-10-03 18:17:07-04:00 | UTC: 2017-10-03T22:17:07+00:00\n"
     ]
    }
   ],
   "source": [
    "# Loop over the trips\n",
    "for trip in onebike_datetimes[:10]:\n",
    "    # Pull out the start\n",
    "    dt = trip['start']\n",
    "    # Move dt to be in UTC\n",
    "    dt = dt.astimezone(timezone.utc)\n",
    "\n",
    "    # Print the start time in UTC\n",
    "    print('Original:', trip['start'], '| UTC:', dt.isoformat())"
   ]
  },
  {
   "cell_type": "code",
   "execution_count": 50,
   "id": "4a95fd0b",
   "metadata": {},
   "outputs": [],
   "source": [
    "# Import tz\n",
    "from dateutil import tz\n",
    "\n",
    "# Create a timezone object for Eastern Time\n",
    "et = tz.gettz('America/New_York')\n",
    "\n",
    "# Loop over trips, updating the datetimes to be in Eastern Time\n",
    "for trip in onebike_datetimes[:10]:\n",
    "    # Update trip['start'] and trip['end']\n",
    "    trip['start'] = trip['start'].replace(tzinfo=et)\n",
    "    trip['end'] = trip['end'].replace(tzinfo=et)"
   ]
  },
  {
   "cell_type": "code",
   "execution_count": 51,
   "id": "d97413c3",
   "metadata": {},
   "outputs": [
    {
     "name": "stdout",
     "output_type": "stream",
     "text": [
      "2017-10-01T15:23:25-04:00\n",
      "2017-10-01T20:23:25+01:00\n"
     ]
    }
   ],
   "source": [
    "# Create the timezone object\n",
    "uk = tz.gettz('Europe/London')\n",
    "\n",
    "# Pull out the start of the first trip\n",
    "local = onebike_datetimes[0]['start']\n",
    "\n",
    "# What time was it in the UK?\n",
    "notlocal = local.astimezone(uk)\n",
    "\n",
    "# Print them out and see the difference\n",
    "print(local.isoformat())\n",
    "print(notlocal.isoformat())"
   ]
  },
  {
   "cell_type": "code",
   "execution_count": 52,
   "id": "b905aa71",
   "metadata": {},
   "outputs": [
    {
     "name": "stdout",
     "output_type": "stream",
     "text": [
      "2017-10-01T15:23:25-04:00\n",
      "2017-10-02T00:53:25+05:30\n"
     ]
    }
   ],
   "source": [
    "# Create the timezone object\n",
    "ist = tz.gettz('Asia/Kolkata')\n",
    "\n",
    "# Pull out the start of the first trip\n",
    "local = onebike_datetimes[0]['start']\n",
    "\n",
    "# What time was it in India?\n",
    "notlocal = local.astimezone(ist)\n",
    "\n",
    "# Print them out and see the difference\n",
    "print(local.isoformat())\n",
    "print(notlocal.isoformat())"
   ]
  },
  {
   "cell_type": "code",
   "execution_count": 53,
   "id": "b62aaf21",
   "metadata": {},
   "outputs": [
    {
     "name": "stdout",
     "output_type": "stream",
     "text": [
      "2017-10-01T15:23:25-04:00\n",
      "2017-10-02T09:23:25+14:00\n"
     ]
    }
   ],
   "source": [
    "# Create the timezone object\n",
    "sm = tz.gettz('Pacific/Apia')\n",
    "\n",
    "# Pull out the start of the first trip\n",
    "local = onebike_datetimes[0]['start']\n",
    "\n",
    "# What time was it in Samoa?\n",
    "notlocal = local.astimezone(sm)\n",
    "\n",
    "# Print them out and see the difference\n",
    "print(local.isoformat())\n",
    "print(notlocal.isoformat())"
   ]
  },
  {
   "cell_type": "code",
   "execution_count": 55,
   "id": "c0218b4b",
   "metadata": {},
   "outputs": [
    {
     "name": "stdout",
     "output_type": "stream",
     "text": [
      "2017-03-12T00:00:00-05:00 to 2017-03-12T06:00:00-04:00\n",
      "6.0\n",
      "5.0\n"
     ]
    }
   ],
   "source": [
    "# Import datetime, timedelta, tz, timezone\n",
    "from datetime import datetime, timedelta, timezone\n",
    "from dateutil import tz\n",
    "\n",
    "# Start on March 12, 2017, midnight, then add 6 hours\n",
    "start = datetime(2017, 3, 12, tzinfo = tz.gettz('America/New_York'))\n",
    "end = start + timedelta(hours=6)\n",
    "print(start.isoformat() + \" to \" + end.isoformat())\n",
    "\n",
    "# How many hours have elapsed?\n",
    "print((end - start).total_seconds()/(60*60))\n",
    "\n",
    "# What if we move to UTC?\n",
    "print((end.astimezone(timezone.utc) - start.astimezone(timezone.utc))\\\n",
    "      .total_seconds()/(60*60))"
   ]
  },
  {
   "cell_type": "code",
   "execution_count": 57,
   "id": "ddcdb15a",
   "metadata": {},
   "outputs": [
    {
     "name": "stdout",
     "output_type": "stream",
     "text": [
      "2000-03-29T00:00:00+01:00\n",
      "2001-03-29T00:00:00+01:00\n",
      "2002-03-29T00:00:00+00:00\n",
      "2003-03-29T00:00:00+00:00\n",
      "2004-03-29T00:00:00+01:00\n",
      "2005-03-29T00:00:00+01:00\n",
      "2006-03-29T00:00:00+01:00\n",
      "2007-03-29T00:00:00+01:00\n",
      "2008-03-29T00:00:00+00:00\n",
      "2009-03-29T00:00:00+00:00\n",
      "2010-03-29T00:00:00+01:00\n"
     ]
    }
   ],
   "source": [
    "# Import datetime and tz\n",
    "from datetime import datetime\n",
    "from dateutil import tz\n",
    "\n",
    "# Create starting date\n",
    "dt = datetime(2000, 3, 29, tzinfo = tz.gettz('Europe/London'))\n",
    "\n",
    "# Loop over the dates, replacing the year, and print the ISO timestamp\n",
    "for y in range(2000, 2011):\n",
    "    print(dt.replace(year=y).isoformat())"
   ]
  },
  {
   "cell_type": "code",
   "execution_count": 61,
   "id": "7ee14227",
   "metadata": {},
   "outputs": [],
   "source": [
    "import datetime\n",
    "\n",
    "onebike_datetimes = [{'start': datetime.datetime(2017, 10, 1, 15, 23, 25, tzinfo=tz.gettz('America/New_York')),\n",
    "                      'end': datetime.datetime(2017, 10, 1, 15, 26, 26, tzinfo=tz.gettz('America/New_York'))},\n",
    "                     {'start': datetime.datetime(2017, 10, 1, 15, 42, 57, tzinfo=tz.gettz('America/New_York')),\n",
    "                      'end': datetime.datetime(2017, 10, 1, 17, 49, 59, tzinfo=tz.gettz('America/New_York'))},\n",
    "                     {'start': datetime.datetime(2017, 10, 2, 6, 37, 10, tzinfo=tz.gettz('America/New_York')),\n",
    "                      'end': datetime.datetime(2017, 10, 2, 6, 42, 53, tzinfo=tz.gettz('America/New_York'))},\n",
    "                     {'start': datetime.datetime(2017, 10, 2, 8, 56, 45, tzinfo=tz.gettz('America/New_York')),\n",
    "                      'end': datetime.datetime(2017, 10, 2, 9, 18, 3, tzinfo=tz.gettz('America/New_York'))},\n",
    "                     {'start': datetime.datetime(2017, 10, 2, 18, 23, 48, tzinfo=tz.gettz('America/New_York')),\n",
    "                      'end': datetime.datetime(2017, 10, 2, 18, 45, 5, tzinfo=tz.gettz('America/New_York'))},\n",
    "                     {'start': datetime.datetime(2017, 10, 2, 18, 48, 8, tzinfo=tz.gettz('America/New_York')),\n",
    "                      'end': datetime.datetime(2017, 10, 2, 19, 10, 54, tzinfo=tz.gettz('America/New_York'))},\n",
    "                     {'start': datetime.datetime(2017, 10, 2, 19, 18, 10, tzinfo=tz.gettz('America/New_York')),\n",
    "                      'end': datetime.datetime(2017, 10, 2, 19, 31, 45, tzinfo=tz.gettz('America/New_York'))},\n",
    "                     {'start': datetime.datetime(2017, 10, 2, 19, 37, 32, tzinfo=tz.gettz('America/New_York')),\n",
    "                      'end': datetime.datetime(2017, 10, 2, 19, 46, 37, tzinfo=tz.gettz('America/New_York'))},\n",
    "                     {'start': datetime.datetime(2017, 10, 3, 8, 24, 16, tzinfo=tz.gettz('America/New_York')),\n",
    "                      'end': datetime.datetime(2017, 10, 3, 8, 32, 27, tzinfo=tz.gettz('America/New_York'))},\n",
    "                     {'start': datetime.datetime(2017, 10, 3, 18, 17, 7, tzinfo=tz.gettz('America/New_York')),\n",
    "                      'end': datetime.datetime(2017, 10, 3, 18, 27, 46, tzinfo=tz.gettz('America/New_York'))},\n",
    "                     {'start': datetime.datetime(2017, 10, 3, 19, 24, 10, tzinfo=tz.gettz('America/New_York')),\n",
    "                      'end': datetime.datetime(2017, 10, 3, 19, 52, 8, tzinfo=tz.gettz('America/New_York'))},\n",
    "                     {'start': datetime.datetime(2017, 10, 3, 20, 17, 6, tzinfo=tz.gettz('America/New_York')),\n",
    "                      'end': datetime.datetime(2017, 10, 3, 20, 23, 52, tzinfo=tz.gettz('America/New_York'))},\n",
    "                     {'start': datetime.datetime(2017, 10, 3, 20, 45, 21, tzinfo=tz.gettz('America/New_York')),\n",
    "                      'end': datetime.datetime(2017, 10, 3, 20, 57, 10, tzinfo=tz.gettz('America/New_York'))},\n",
    "                     {'start': datetime.datetime(2017, 10, 4, 7, 4, 57, tzinfo=tz.gettz('America/New_York')),\n",
    "                      'end': datetime.datetime(2017, 10, 4, 7, 13, 31, tzinfo=tz.gettz('America/New_York'))},\n",
    "                     {'start': datetime.datetime(2017, 10, 4, 7, 13, 42, tzinfo=tz.gettz('America/New_York')),\n",
    "                      'end': datetime.datetime(2017, 10, 4, 7, 21, 54, tzinfo=tz.gettz('America/New_York'))},\n",
    "                     {'start': datetime.datetime(2017, 10, 4, 14, 22, 12, tzinfo=tz.gettz('America/New_York')),\n",
    "                      'end': datetime.datetime(2017, 10, 4, 14, 50, tzinfo=tz.gettz('America/New_York'))},\n",
    "                     {'start': datetime.datetime(2017, 10, 4, 15, 7, 27, tzinfo=tz.gettz('America/New_York')),\n",
    "                      'end': datetime.datetime(2017, 10, 4, 15, 44, 49, tzinfo=tz.gettz('America/New_York'))},\n",
    "                     {'start': datetime.datetime(2017, 10, 4, 15, 46, 41, tzinfo=tz.gettz('America/New_York')),\n",
    "                      'end': datetime.datetime(2017, 10, 4, 16, 32, 33, tzinfo=tz.gettz('America/New_York'))},\n",
    "                     {'start': datetime.datetime(2017, 10, 4, 16, 34, 44, tzinfo=tz.gettz('America/New_York')),\n",
    "                      'end': datetime.datetime(2017, 10, 4, 16, 46, 59, tzinfo=tz.gettz('America/New_York'))},\n",
    "                     {'start': datetime.datetime(2017, 10, 4, 17, 26, 6, tzinfo=tz.gettz('America/New_York')),\n",
    "                      'end': datetime.datetime(2017, 10, 4, 17, 31, 36, tzinfo=tz.gettz('America/New_York'))},\n",
    "                     {'start': datetime.datetime(2017, 10, 4, 17, 42, 3, tzinfo=tz.gettz('America/New_York')),\n",
    "                      'end': datetime.datetime(2017, 10, 4, 17, 50, 41, tzinfo=tz.gettz('America/New_York'))},\n",
    "                     {'start': datetime.datetime(2017, 10, 5, 7, 49, 2, tzinfo=tz.gettz('America/New_York')),\n",
    "                      'end': datetime.datetime(2017, 10, 5, 8, 12, 55, tzinfo=tz.gettz('America/New_York'))},\n",
    "                     {'start': datetime.datetime(2017, 10, 5, 8, 26, 21, tzinfo=tz.gettz('America/New_York')),\n",
    "                      'end': datetime.datetime(2017, 10, 5, 8, 29, 45, tzinfo=tz.gettz('America/New_York'))},\n",
    "                     {'start': datetime.datetime(2017, 10, 5, 8, 33, 27, tzinfo=tz.gettz('America/New_York')),\n",
    "                      'end': datetime.datetime(2017, 10, 5, 8, 38, 31, tzinfo=tz.gettz('America/New_York'))},\n",
    "                     {'start': datetime.datetime(2017, 10, 5, 16, 35, 35, tzinfo=tz.gettz('America/New_York')),\n",
    "                      'end': datetime.datetime(2017, 10, 5, 16, 51, 52, tzinfo=tz.gettz('America/New_York'))},\n",
    "                     {'start': datetime.datetime(2017, 10, 5, 17, 53, 31, tzinfo=tz.gettz('America/New_York')),\n",
    "                      'end': datetime.datetime(2017, 10, 5, 18, 16, 50, tzinfo=tz.gettz('America/New_York'))},\n",
    "                     {'start': datetime.datetime(2017, 10, 6, 8, 17, 17, tzinfo=tz.gettz('America/New_York')),\n",
    "                      'end': datetime.datetime(2017, 10, 6, 8, 38, 1, tzinfo=tz.gettz('America/New_York'))},\n",
    "                     {'start': datetime.datetime(2017, 10, 6, 11, 39, 40, tzinfo=tz.gettz('America/New_York')),\n",
    "                      'end': datetime.datetime(2017, 10, 6, 11, 50, 38, tzinfo=tz.gettz('America/New_York'))},\n",
    "                     {'start': datetime.datetime(2017, 10, 6, 12, 59, 54, tzinfo=tz.gettz('America/New_York')),\n",
    "                      'end': datetime.datetime(2017, 10, 6, 13, 13, 14, tzinfo=tz.gettz('America/New_York'))},\n",
    "                     {'start': datetime.datetime(2017, 10, 6, 13, 43, 5, tzinfo=tz.gettz('America/New_York')),\n",
    "                      'end': datetime.datetime(2017, 10, 6, 14, 14, 56, tzinfo=tz.gettz('America/New_York'))},\n",
    "                     {'start': datetime.datetime(2017, 10, 6, 14, 28, 15, tzinfo=tz.gettz('America/New_York')),\n",
    "                      'end': datetime.datetime(2017, 10, 6, 15, 9, 26, tzinfo=tz.gettz('America/New_York'))},\n",
    "                     {'start': datetime.datetime(2017, 10, 6, 15, 50, 10, tzinfo=tz.gettz('America/New_York')),\n",
    "                      'end': datetime.datetime(2017, 10, 6, 16, 12, 34, tzinfo=tz.gettz('America/New_York'))},\n",
    "                     {'start': datetime.datetime(2017, 10, 6, 16, 32, 16, tzinfo=tz.gettz('America/New_York')),\n",
    "                      'end': datetime.datetime(2017, 10, 6, 16, 39, 31, tzinfo=tz.gettz('America/New_York'))},\n",
    "                     {'start': datetime.datetime(2017, 10, 6, 16, 44, 8, tzinfo=tz.gettz('America/New_York')),\n",
    "                      'end': datetime.datetime(2017, 10, 6, 16, 48, 39, tzinfo=tz.gettz('America/New_York'))},\n",
    "                     {'start': datetime.datetime(2017, 10, 6, 16, 53, 43, tzinfo=tz.gettz('America/New_York')),\n",
    "                      'end': datetime.datetime(2017, 10, 6, 17, 9, 3, tzinfo=tz.gettz('America/New_York'))},\n",
    "                     {'start': datetime.datetime(2017, 10, 7, 11, 38, 55, tzinfo=tz.gettz('America/New_York')),\n",
    "                      'end': datetime.datetime(2017, 10, 7, 11, 53, 6, tzinfo=tz.gettz('America/New_York'))},\n",
    "                     {'start': datetime.datetime(2017, 10, 7, 14, 3, 36, tzinfo=tz.gettz('America/New_York')),\n",
    "                      'end': datetime.datetime(2017, 10, 7, 14, 7, 5, tzinfo=tz.gettz('America/New_York'))},\n",
    "                     {'start': datetime.datetime(2017, 10, 7, 14, 20, 3, tzinfo=tz.gettz('America/New_York')),\n",
    "                      'end': datetime.datetime(2017, 10, 7, 14, 27, 36, tzinfo=tz.gettz('America/New_York'))},\n",
    "                     {'start': datetime.datetime(2017, 10, 7, 14, 30, 50, tzinfo=tz.gettz('America/New_York')),\n",
    "                      'end': datetime.datetime(2017, 10, 7, 14, 44, 51, tzinfo=tz.gettz('America/New_York'))},\n",
    "                     {'start': datetime.datetime(2017, 10, 8, 0, 28, 26, tzinfo=tz.gettz('America/New_York')),\n",
    "                      'end': datetime.datetime(2017, 10, 8, 0, 30, 48, tzinfo=tz.gettz('America/New_York'))},\n",
    "                     {'start': datetime.datetime(2017, 10, 8, 11, 16, 21, tzinfo=tz.gettz('America/New_York')),\n",
    "                      'end': datetime.datetime(2017, 10, 8, 11, 33, 24, tzinfo=tz.gettz('America/New_York'))},\n",
    "                     {'start': datetime.datetime(2017, 10, 8, 12, 37, 3, tzinfo=tz.gettz('America/New_York')),\n",
    "                      'end': datetime.datetime(2017, 10, 8, 13, 1, 29, tzinfo=tz.gettz('America/New_York'))},\n",
    "                     {'start': datetime.datetime(2017, 10, 8, 13, 30, 37, tzinfo=tz.gettz('America/New_York')),\n",
    "                      'end': datetime.datetime(2017, 10, 8, 13, 57, 53, tzinfo=tz.gettz('America/New_York'))},\n",
    "                     {'start': datetime.datetime(2017, 10, 8, 14, 16, 40, tzinfo=tz.gettz('America/New_York')),\n",
    "                      'end': datetime.datetime(2017, 10, 8, 15, 7, 19, tzinfo=tz.gettz('America/New_York'))},\n",
    "                     {'start': datetime.datetime(2017, 10, 8, 15, 23, 50, tzinfo=tz.gettz('America/New_York')),\n",
    "                      'end': datetime.datetime(2017, 10, 8, 15, 50, 1, tzinfo=tz.gettz('America/New_York'))},\n",
    "                     {'start': datetime.datetime(2017, 10, 8, 15, 54, 12, tzinfo=tz.gettz('America/New_York')),\n",
    "                      'end': datetime.datetime(2017, 10, 8, 16, 17, 42, tzinfo=tz.gettz('America/New_York'))},\n",
    "                     {'start': datetime.datetime(2017, 10, 8, 16, 28, 52, tzinfo=tz.gettz('America/New_York')),\n",
    "                      'end': datetime.datetime(2017, 10, 8, 16, 35, 18, tzinfo=tz.gettz('America/New_York'))},\n",
    "                     {'start': datetime.datetime(2017, 10, 8, 23, 8, 14, tzinfo=tz.gettz('America/New_York')),\n",
    "                      'end': datetime.datetime(2017, 10, 8, 23, 33, 41, tzinfo=tz.gettz('America/New_York'))},\n",
    "                     {'start': datetime.datetime(2017, 10, 8, 23, 34, 49, tzinfo=tz.gettz('America/New_York')),\n",
    "                      'end': datetime.datetime(2017, 10, 8, 23, 45, 11, tzinfo=tz.gettz('America/New_York'))},\n",
    "                     {'start': datetime.datetime(2017, 10, 8, 23, 46, 47, tzinfo=tz.gettz('America/New_York')),\n",
    "                      'end': datetime.datetime(2017, 10, 9, 0, 10, 57, tzinfo=tz.gettz('America/New_York'))},\n",
    "                     {'start': datetime.datetime(2017, 10, 9, 0, 12, 58, tzinfo=tz.gettz('America/New_York')),\n",
    "                      'end': datetime.datetime(2017, 10, 9, 0, 36, 40, tzinfo=tz.gettz('America/New_York'))},\n",
    "                     {'start': datetime.datetime(2017, 10, 9, 0, 37, 2, tzinfo=tz.gettz('America/New_York')),\n",
    "                      'end': datetime.datetime(2017, 10, 9, 0, 53, 33, tzinfo=tz.gettz('America/New_York'))},\n",
    "                     {'start': datetime.datetime(2017, 10, 9, 1, 23, 29, tzinfo=tz.gettz('America/New_York')),\n",
    "                      'end': datetime.datetime(2017, 10, 9, 1, 48, 13, tzinfo=tz.gettz('America/New_York'))},\n",
    "                     {'start': datetime.datetime(2017, 10, 9, 1, 49, 25, tzinfo=tz.gettz('America/New_York')),\n",
    "                      'end': datetime.datetime(2017, 10, 9, 2, 13, 35, tzinfo=tz.gettz('America/New_York'))},\n",
    "                     {'start': datetime.datetime(2017, 10, 9, 2, 14, 11, tzinfo=tz.gettz('America/New_York')),\n",
    "                      'end': datetime.datetime(2017, 10, 9, 2, 29, 40, tzinfo=tz.gettz('America/New_York'))},\n",
    "                     {'start': datetime.datetime(2017, 10, 9, 13, 4, 32, tzinfo=tz.gettz('America/New_York')),\n",
    "                      'end': datetime.datetime(2017, 10, 9, 13, 13, 25, tzinfo=tz.gettz('America/New_York'))},\n",
    "                     {'start': datetime.datetime(2017, 10, 9, 14, 30, 10, tzinfo=tz.gettz('America/New_York')),\n",
    "                      'end': datetime.datetime(2017, 10, 9, 14, 38, 55, tzinfo=tz.gettz('America/New_York'))},\n",
    "                     {'start': datetime.datetime(2017, 10, 9, 15, 6, 47, tzinfo=tz.gettz('America/New_York')),\n",
    "                      'end': datetime.datetime(2017, 10, 9, 15, 11, 30, tzinfo=tz.gettz('America/New_York'))},\n",
    "                     {'start': datetime.datetime(2017, 10, 9, 16, 43, 25, tzinfo=tz.gettz('America/New_York')),\n",
    "                      'end': datetime.datetime(2017, 10, 9, 16, 45, 38, tzinfo=tz.gettz('America/New_York'))},\n",
    "                     {'start': datetime.datetime(2017, 10, 10, 15, 32, 58, tzinfo=tz.gettz('America/New_York')),\n",
    "                      'end': datetime.datetime(2017, 10, 10, 15, 51, 24, tzinfo=tz.gettz('America/New_York'))},\n",
    "                     {'start': datetime.datetime(2017, 10, 10, 16, 47, 55, tzinfo=tz.gettz('America/New_York')),\n",
    "                      'end': datetime.datetime(2017, 10, 10, 17, 3, 47, tzinfo=tz.gettz('America/New_York'))},\n",
    "                     {'start': datetime.datetime(2017, 10, 10, 17, 51, 5, tzinfo=tz.gettz('America/New_York')),\n",
    "                      'end': datetime.datetime(2017, 10, 10, 18, 0, 18, tzinfo=tz.gettz('America/New_York'))},\n",
    "                     {'start': datetime.datetime(2017, 10, 10, 18, 8, 12, tzinfo=tz.gettz('America/New_York')),\n",
    "                      'end': datetime.datetime(2017, 10, 10, 18, 19, 11, tzinfo=tz.gettz('America/New_York'))},\n",
    "                     {'start': datetime.datetime(2017, 10, 10, 19, 9, 35, tzinfo=tz.gettz('America/New_York')),\n",
    "                      'end': datetime.datetime(2017, 10, 10, 19, 14, 32, tzinfo=tz.gettz('America/New_York'))},\n",
    "                     {'start': datetime.datetime(2017, 10, 10, 19, 17, 11, tzinfo=tz.gettz('America/New_York')),\n",
    "                      'end': datetime.datetime(2017, 10, 10, 19, 23, 8, tzinfo=tz.gettz('America/New_York'))},\n",
    "                     {'start': datetime.datetime(2017, 10, 10, 19, 28, 11, tzinfo=tz.gettz('America/New_York')),\n",
    "                      'end': datetime.datetime(2017, 10, 10, 19, 44, 40, tzinfo=tz.gettz('America/New_York'))},\n",
    "                     {'start': datetime.datetime(2017, 10, 10, 19, 55, 35, tzinfo=tz.gettz('America/New_York')),\n",
    "                      'end': datetime.datetime(2017, 10, 10, 20, 11, 54, tzinfo=tz.gettz('America/New_York'))},\n",
    "                     {'start': datetime.datetime(2017, 10, 10, 22, 20, 43, tzinfo=tz.gettz('America/New_York')),\n",
    "                      'end': datetime.datetime(2017, 10, 10, 22, 33, 23, tzinfo=tz.gettz('America/New_York'))},\n",
    "                     {'start': datetime.datetime(2017, 10, 11, 4, 40, 52, tzinfo=tz.gettz('America/New_York')),\n",
    "                      'end': datetime.datetime(2017, 10, 11, 4, 59, 22, tzinfo=tz.gettz('America/New_York'))},\n",
    "                     {'start': datetime.datetime(2017, 10, 11, 6, 28, 58, tzinfo=tz.gettz('America/New_York')),\n",
    "                      'end': datetime.datetime(2017, 10, 11, 6, 40, 13, tzinfo=tz.gettz('America/New_York'))},\n",
    "                     {'start': datetime.datetime(2017, 10, 11, 16, 41, 7, tzinfo=tz.gettz('America/New_York')),\n",
    "                      'end': datetime.datetime(2017, 10, 11, 17, 1, 14, tzinfo=tz.gettz('America/New_York'))},\n",
    "                     {'start': datetime.datetime(2017, 10, 12, 8, 8, 30, tzinfo=tz.gettz('America/New_York')),\n",
    "                      'end': datetime.datetime(2017, 10, 12, 8, 35, 3, tzinfo=tz.gettz('America/New_York'))},\n",
    "                     {'start': datetime.datetime(2017, 10, 12, 8, 47, 2, tzinfo=tz.gettz('America/New_York')),\n",
    "                      'end': datetime.datetime(2017, 10, 12, 8, 59, 50, tzinfo=tz.gettz('America/New_York'))},\n",
    "                     {'start': datetime.datetime(2017, 10, 12, 13, 13, 39, tzinfo=tz.gettz('America/New_York')),\n",
    "                      'end': datetime.datetime(2017, 10, 12, 13, 37, 45, tzinfo=tz.gettz('America/New_York'))},\n",
    "                     {'start': datetime.datetime(2017, 10, 12, 13, 40, 12, tzinfo=tz.gettz('America/New_York')),\n",
    "                      'end': datetime.datetime(2017, 10, 12, 13, 48, 17, tzinfo=tz.gettz('America/New_York'))},\n",
    "                     {'start': datetime.datetime(2017, 10, 12, 13, 49, 56, tzinfo=tz.gettz('America/New_York')),\n",
    "                      'end': datetime.datetime(2017, 10, 12, 13, 53, 16, tzinfo=tz.gettz('America/New_York'))},\n",
    "                     {'start': datetime.datetime(2017, 10, 12, 14, 33, 18, tzinfo=tz.gettz('America/New_York')),\n",
    "                      'end': datetime.datetime(2017, 10, 12, 14, 39, 57, tzinfo=tz.gettz('America/New_York'))},\n",
    "                     {'start': datetime.datetime(2017, 10, 13, 15, 55, 39, tzinfo=tz.gettz('America/New_York')),\n",
    "                      'end': datetime.datetime(2017, 10, 13, 15, 59, 41, tzinfo=tz.gettz('America/New_York'))},\n",
    "                     {'start': datetime.datetime(2017, 10, 17, 17, 58, 48, tzinfo=tz.gettz('America/New_York')),\n",
    "                      'end': datetime.datetime(2017, 10, 17, 18, 1, 38, tzinfo=tz.gettz('America/New_York'))},\n",
    "                     {'start': datetime.datetime(2017, 10, 19, 20, 21, 45, tzinfo=tz.gettz('America/New_York')),\n",
    "                      'end': datetime.datetime(2017, 10, 19, 20, 29, 15, tzinfo=tz.gettz('America/New_York'))},\n",
    "                     {'start': datetime.datetime(2017, 10, 19, 21, 11, 39, tzinfo=tz.gettz('America/New_York')),\n",
    "                      'end': datetime.datetime(2017, 10, 19, 21, 29, 37, tzinfo=tz.gettz('America/New_York'))},\n",
    "                     {'start': datetime.datetime(2017, 10, 19, 21, 30, 1, tzinfo=tz.gettz('America/New_York')),\n",
    "                      'end': datetime.datetime(2017, 10, 19, 21, 47, 23, tzinfo=tz.gettz('America/New_York'))},\n",
    "                     {'start': datetime.datetime(2017, 10, 19, 21, 47, 34, tzinfo=tz.gettz('America/New_York')),\n",
    "                      'end': datetime.datetime(2017, 10, 19, 21, 57, 7, tzinfo=tz.gettz('America/New_York'))},\n",
    "                     {'start': datetime.datetime(2017, 10, 19, 21, 57, 24, tzinfo=tz.gettz('America/New_York')),\n",
    "                      'end': datetime.datetime(2017, 10, 19, 22, 9, 52, tzinfo=tz.gettz('America/New_York'))},\n",
    "                     {'start': datetime.datetime(2017, 10, 21, 12, 24, 9, tzinfo=tz.gettz('America/New_York')),\n",
    "                      'end': datetime.datetime(2017, 10, 21, 12, 36, 24, tzinfo=tz.gettz('America/New_York'))},\n",
    "                     {'start': datetime.datetime(2017, 10, 21, 12, 36, 37, tzinfo=tz.gettz('America/New_York')),\n",
    "                      'end': datetime.datetime(2017, 10, 21, 12, 42, 13, tzinfo=tz.gettz('America/New_York'))},\n",
    "                     {'start': datetime.datetime(2017, 10, 21, 13, 47, 43, tzinfo=tz.gettz('America/New_York')),\n",
    "                      'end': datetime.datetime(2017, 10, 22, 11, 9, 36, tzinfo=tz.gettz('America/New_York'))},\n",
    "                     {'start': datetime.datetime(2017, 10, 22, 13, 28, 53, tzinfo=tz.gettz('America/New_York')),\n",
    "                      'end': datetime.datetime(2017, 10, 22, 13, 31, 44, tzinfo=tz.gettz('America/New_York'))},\n",
    "                     {'start': datetime.datetime(2017, 10, 22, 13, 47, 5, tzinfo=tz.gettz('America/New_York')),\n",
    "                      'end': datetime.datetime(2017, 10, 22, 13, 56, 33, tzinfo=tz.gettz('America/New_York'))},\n",
    "                     {'start': datetime.datetime(2017, 10, 22, 14, 26, 41, tzinfo=tz.gettz('America/New_York')),\n",
    "                      'end': datetime.datetime(2017, 10, 22, 14, 32, 39, tzinfo=tz.gettz('America/New_York'))},\n",
    "                     {'start': datetime.datetime(2017, 10, 22, 14, 54, 41, tzinfo=tz.gettz('America/New_York')),\n",
    "                      'end': datetime.datetime(2017, 10, 22, 15, 9, 58, tzinfo=tz.gettz('America/New_York'))},\n",
    "                     {'start': datetime.datetime(2017, 10, 22, 16, 40, 29, tzinfo=tz.gettz('America/New_York')),\n",
    "                      'end': datetime.datetime(2017, 10, 22, 16, 51, 40, tzinfo=tz.gettz('America/New_York'))},\n",
    "                     {'start': datetime.datetime(2017, 10, 22, 17, 58, 46, tzinfo=tz.gettz('America/New_York')),\n",
    "                      'end': datetime.datetime(2017, 10, 22, 18, 28, 37, tzinfo=tz.gettz('America/New_York'))},\n",
    "                     {'start': datetime.datetime(2017, 10, 22, 18, 45, 16, tzinfo=tz.gettz('America/New_York')),\n",
    "                      'end': datetime.datetime(2017, 10, 22, 18, 50, 34, tzinfo=tz.gettz('America/New_York'))},\n",
    "                     {'start': datetime.datetime(2017, 10, 22, 18, 56, 22, tzinfo=tz.gettz('America/New_York')),\n",
    "                      'end': datetime.datetime(2017, 10, 22, 19, 11, 10, tzinfo=tz.gettz('America/New_York'))},\n",
    "                     {'start': datetime.datetime(2017, 10, 23, 10, 14, 8, tzinfo=tz.gettz('America/New_York')),\n",
    "                      'end': datetime.datetime(2017, 10, 23, 10, 35, 32, tzinfo=tz.gettz('America/New_York'))},\n",
    "                     {'start': datetime.datetime(2017, 10, 23, 11, 29, 36, tzinfo=tz.gettz('America/New_York')),\n",
    "                      'end': datetime.datetime(2017, 10, 23, 14, 38, 34, tzinfo=tz.gettz('America/New_York'))},\n",
    "                     {'start': datetime.datetime(2017, 10, 23, 15, 4, 52, tzinfo=tz.gettz('America/New_York')),\n",
    "                      'end': datetime.datetime(2017, 10, 23, 15, 32, 58, tzinfo=tz.gettz('America/New_York'))},\n",
    "                     {'start': datetime.datetime(2017, 10, 23, 15, 33, 48, tzinfo=tz.gettz('America/New_York')),\n",
    "                      'end': datetime.datetime(2017, 10, 23, 17, 6, 47, tzinfo=tz.gettz('America/New_York'))},\n",
    "                     {'start': datetime.datetime(2017, 10, 23, 17, 13, 16, tzinfo=tz.gettz('America/New_York')),\n",
    "                      'end': datetime.datetime(2017, 10, 23, 19, 31, 26, tzinfo=tz.gettz('America/New_York'))},\n",
    "                     {'start': datetime.datetime(2017, 10, 23, 19, 55, 3, tzinfo=tz.gettz('America/New_York')),\n",
    "                      'end': datetime.datetime(2017, 10, 23, 20, 25, 53, tzinfo=tz.gettz('America/New_York'))},\n",
    "                     {'start': datetime.datetime(2017, 10, 23, 21, 47, 54, tzinfo=tz.gettz('America/New_York')),\n",
    "                      'end': datetime.datetime(2017, 10, 23, 22, 18, 4, tzinfo=tz.gettz('America/New_York'))},\n",
    "                     {'start': datetime.datetime(2017, 10, 23, 22, 34, 12, tzinfo=tz.gettz('America/New_York')),\n",
    "                      'end': datetime.datetime(2017, 10, 23, 22, 48, 42, tzinfo=tz.gettz('America/New_York'))},\n",
    "                     {'start': datetime.datetime(2017, 10, 24, 6, 55, 1, tzinfo=tz.gettz('America/New_York')),\n",
    "                      'end': datetime.datetime(2017, 10, 24, 7, 2, 17, tzinfo=tz.gettz('America/New_York'))},\n",
    "                     {'start': datetime.datetime(2017, 10, 24, 14, 56, 7, tzinfo=tz.gettz('America/New_York')),\n",
    "                      'end': datetime.datetime(2017, 10, 24, 15, 3, 16, tzinfo=tz.gettz('America/New_York'))},\n",
    "                     {'start': datetime.datetime(2017, 10, 24, 15, 51, 36, tzinfo=tz.gettz('America/New_York')),\n",
    "                      'end': datetime.datetime(2017, 10, 24, 15, 59, 50, tzinfo=tz.gettz('America/New_York'))},\n",
    "                     {'start': datetime.datetime(2017, 10, 24, 16, 31, 10, tzinfo=tz.gettz('America/New_York')),\n",
    "                      'end': datetime.datetime(2017, 10, 24, 16, 55, 9, tzinfo=tz.gettz('America/New_York'))},\n",
    "                     {'start': datetime.datetime(2017, 10, 28, 14, 26, 14, tzinfo=tz.gettz('America/New_York')),\n",
    "                      'end': datetime.datetime(2017, 10, 28, 14, 32, 34, tzinfo=tz.gettz('America/New_York'))},\n",
    "                     {'start': datetime.datetime(2017, 11, 1, 9, 41, 54, tzinfo=tz.gettz('America/New_York')),\n",
    "                      'end': datetime.datetime(2017, 11, 1, 9, 52, 23, tzinfo=tz.gettz('America/New_York'))},\n",
    "                     {'start': datetime.datetime(2017, 11, 1, 20, 16, 11, tzinfo=tz.gettz('America/New_York')),\n",
    "                      'end': datetime.datetime(2017, 11, 1, 20, 32, 13, tzinfo=tz.gettz('America/New_York'))},\n",
    "                     {'start': datetime.datetime(2017, 11, 2, 19, 44, 29, tzinfo=tz.gettz('America/New_York')),\n",
    "                      'end': datetime.datetime(2017, 11, 2, 19, 50, 56, tzinfo=tz.gettz('America/New_York'))},\n",
    "                     {'start': datetime.datetime(2017, 11, 2, 20, 14, 37, tzinfo=tz.gettz('America/New_York')),\n",
    "                      'end': datetime.datetime(2017, 11, 2, 20, 30, 29, tzinfo=tz.gettz('America/New_York'))},\n",
    "                     {'start': datetime.datetime(2017, 11, 2, 21, 35, 47, tzinfo=tz.gettz('America/New_York')),\n",
    "                      'end': datetime.datetime(2017, 11, 2, 21, 38, 57, tzinfo=tz.gettz('America/New_York'))},\n",
    "                     {'start': datetime.datetime(2017, 11, 3, 9, 59, 27, tzinfo=tz.gettz('America/New_York')),\n",
    "                      'end': datetime.datetime(2017, 11, 3, 10, 11, 46, tzinfo=tz.gettz('America/New_York'))},\n",
    "                     {'start': datetime.datetime(2017, 11, 3, 10, 13, 22, tzinfo=tz.gettz('America/New_York')),\n",
    "                      'end': datetime.datetime(2017, 11, 3, 10, 32, 2, tzinfo=tz.gettz('America/New_York'))},\n",
    "                     {'start': datetime.datetime(2017, 11, 3, 10, 44, 25, tzinfo=tz.gettz('America/New_York')),\n",
    "                      'end': datetime.datetime(2017, 11, 3, 10, 50, 34, tzinfo=tz.gettz('America/New_York'))},\n",
    "                     {'start': datetime.datetime(2017, 11, 3, 16, 6, 43, tzinfo=tz.gettz('America/New_York')),\n",
    "                      'end': datetime.datetime(2017, 11, 3, 16, 44, 38, tzinfo=tz.gettz('America/New_York'))},\n",
    "                     {'start': datetime.datetime(2017, 11, 3, 16, 45, 54, tzinfo=tz.gettz('America/New_York')),\n",
    "                      'end': datetime.datetime(2017, 11, 3, 17, 0, 27, tzinfo=tz.gettz('America/New_York'))},\n",
    "                     {'start': datetime.datetime(2017, 11, 3, 17, 7, 15, tzinfo=tz.gettz('America/New_York')),\n",
    "                      'end': datetime.datetime(2017, 11, 3, 17, 35, 5, tzinfo=tz.gettz('America/New_York'))},\n",
    "                     {'start': datetime.datetime(2017, 11, 3, 17, 36, 5, tzinfo=tz.gettz('America/New_York')),\n",
    "                      'end': datetime.datetime(2017, 11, 3, 17, 46, 48, tzinfo=tz.gettz('America/New_York'))},\n",
    "                     {'start': datetime.datetime(2017, 11, 3, 17, 50, 31, tzinfo=tz.gettz('America/New_York')),\n",
    "                      'end': datetime.datetime(2017, 11, 3, 18, 0, 3, tzinfo=tz.gettz('America/New_York'))},\n",
    "                     {'start': datetime.datetime(2017, 11, 3, 19, 22, 56, tzinfo=tz.gettz('America/New_York')),\n",
    "                      'end': datetime.datetime(2017, 11, 3, 19, 45, 51, tzinfo=tz.gettz('America/New_York'))},\n",
    "                     {'start': datetime.datetime(2017, 11, 4, 13, 14, 10, tzinfo=tz.gettz('America/New_York')),\n",
    "                      'end': datetime.datetime(2017, 11, 4, 13, 26, 15, tzinfo=tz.gettz('America/New_York'))},\n",
    "                     {'start': datetime.datetime(2017, 11, 4, 14, 18, 37, tzinfo=tz.gettz('America/New_York')),\n",
    "                      'end': datetime.datetime(2017, 11, 4, 14, 30, 5, tzinfo=tz.gettz('America/New_York'))},\n",
    "                     {'start': datetime.datetime(2017, 11, 4, 14, 45, 59, tzinfo=tz.gettz('America/New_York')),\n",
    "                      'end': datetime.datetime(2017, 11, 4, 15, 3, 20, tzinfo=tz.gettz('America/New_York'))},\n",
    "                     {'start': datetime.datetime(2017, 11, 4, 15, 16, 3, tzinfo=tz.gettz('America/New_York')),\n",
    "                      'end': datetime.datetime(2017, 11, 4, 15, 44, 30, tzinfo=tz.gettz('America/New_York'))},\n",
    "                     {'start': datetime.datetime(2017, 11, 4, 16, 37, 46, tzinfo=tz.gettz('America/New_York')),\n",
    "                      'end': datetime.datetime(2017, 11, 4, 16, 58, 22, tzinfo=tz.gettz('America/New_York'))},\n",
    "                     {'start': datetime.datetime(2017, 11, 4, 17, 13, 19, tzinfo=tz.gettz('America/New_York')),\n",
    "                      'end': datetime.datetime(2017, 11, 4, 17, 34, 50, tzinfo=tz.gettz('America/New_York'))},\n",
    "                     {'start': datetime.datetime(2017, 11, 4, 18, 10, 34, tzinfo=tz.gettz('America/New_York')),\n",
    "                      'end': datetime.datetime(2017, 11, 4, 18, 58, 44, tzinfo=tz.gettz('America/New_York'))},\n",
    "                     {'start': datetime.datetime(2017, 11, 5, 1, 56, 50, tzinfo=tz.gettz('America/New_York')),\n",
    "                      'end': datetime.datetime(2017, 11, 5, 1, 1, 4, tzinfo=tz.gettz('America/New_York'))},\n",
    "                     {'start': datetime.datetime(2017, 11, 5, 8, 33, 33, tzinfo=tz.gettz('America/New_York')),\n",
    "                      'end': datetime.datetime(2017, 11, 5, 8, 53, 46, tzinfo=tz.gettz('America/New_York'))},\n",
    "                     {'start': datetime.datetime(2017, 11, 5, 8, 58, 8, tzinfo=tz.gettz('America/New_York')),\n",
    "                      'end': datetime.datetime(2017, 11, 5, 9, 3, 39, tzinfo=tz.gettz('America/New_York'))},\n",
    "                     {'start': datetime.datetime(2017, 11, 5, 11, 5, 8, tzinfo=tz.gettz('America/New_York')),\n",
    "                      'end': datetime.datetime(2017, 11, 5, 11, 30, 5, tzinfo=tz.gettz('America/New_York'))},\n",
    "                     {'start': datetime.datetime(2017, 11, 6, 8, 50, 18, tzinfo=tz.gettz('America/New_York')),\n",
    "                      'end': datetime.datetime(2017, 11, 6, 8, 59, 5, tzinfo=tz.gettz('America/New_York'))},\n",
    "                     {'start': datetime.datetime(2017, 11, 6, 9, 4, 3, tzinfo=tz.gettz('America/New_York')),\n",
    "                      'end': datetime.datetime(2017, 11, 6, 9, 13, 47, tzinfo=tz.gettz('America/New_York'))},\n",
    "                     {'start': datetime.datetime(2017, 11, 6, 16, 19, 36, tzinfo=tz.gettz('America/New_York')),\n",
    "                      'end': datetime.datetime(2017, 11, 6, 17, 2, 55, tzinfo=tz.gettz('America/New_York'))},\n",
    "                     {'start': datetime.datetime(2017, 11, 6, 17, 21, 27, tzinfo=tz.gettz('America/New_York')),\n",
    "                      'end': datetime.datetime(2017, 11, 6, 17, 34, 6, tzinfo=tz.gettz('America/New_York'))},\n",
    "                     {'start': datetime.datetime(2017, 11, 6, 17, 36, 1, tzinfo=tz.gettz('America/New_York')),\n",
    "                      'end': datetime.datetime(2017, 11, 6, 17, 57, 32, tzinfo=tz.gettz('America/New_York'))},\n",
    "                     {'start': datetime.datetime(2017, 11, 6, 17, 59, 52, tzinfo=tz.gettz('America/New_York')),\n",
    "                      'end': datetime.datetime(2017, 11, 6, 18, 15, 8, tzinfo=tz.gettz('America/New_York'))},\n",
    "                     {'start': datetime.datetime(2017, 11, 6, 18, 18, 36, tzinfo=tz.gettz('America/New_York')),\n",
    "                      'end': datetime.datetime(2017, 11, 6, 18, 21, 17, tzinfo=tz.gettz('America/New_York'))},\n",
    "                     {'start': datetime.datetime(2017, 11, 6, 19, 24, 31, tzinfo=tz.gettz('America/New_York')),\n",
    "                      'end': datetime.datetime(2017, 11, 6, 19, 37, 57, tzinfo=tz.gettz('America/New_York'))},\n",
    "                     {'start': datetime.datetime(2017, 11, 6, 19, 49, 16, tzinfo=tz.gettz('America/New_York')),\n",
    "                      'end': datetime.datetime(2017, 11, 6, 20, 3, 14, tzinfo=tz.gettz('America/New_York'))},\n",
    "                     {'start': datetime.datetime(2017, 11, 7, 7, 50, 48, tzinfo=tz.gettz('America/New_York')),\n",
    "                      'end': datetime.datetime(2017, 11, 7, 8, 1, 32, tzinfo=tz.gettz('America/New_York'))},\n",
    "                     {'start': datetime.datetime(2017, 11, 8, 13, 11, 51, tzinfo=tz.gettz('America/New_York')),\n",
    "                      'end': datetime.datetime(2017, 11, 8, 13, 18, 5, tzinfo=tz.gettz('America/New_York'))},\n",
    "                     {'start': datetime.datetime(2017, 11, 8, 21, 34, 47, tzinfo=tz.gettz('America/New_York')),\n",
    "                      'end': datetime.datetime(2017, 11, 8, 21, 46, 5, tzinfo=tz.gettz('America/New_York'))},\n",
    "                     {'start': datetime.datetime(2017, 11, 8, 22, 2, 30, tzinfo=tz.gettz('America/New_York')),\n",
    "                      'end': datetime.datetime(2017, 11, 8, 22, 4, 47, tzinfo=tz.gettz('America/New_York'))},\n",
    "                     {'start': datetime.datetime(2017, 11, 9, 7, 1, 11, tzinfo=tz.gettz('America/New_York')),\n",
    "                      'end': datetime.datetime(2017, 11, 9, 7, 12, 10, tzinfo=tz.gettz('America/New_York'))},\n",
    "                     {'start': datetime.datetime(2017, 11, 9, 8, 2, 2, tzinfo=tz.gettz('America/New_York')),\n",
    "                      'end': datetime.datetime(2017, 11, 9, 8, 8, 28, tzinfo=tz.gettz('America/New_York'))},\n",
    "                     {'start': datetime.datetime(2017, 11, 9, 8, 19, 59, tzinfo=tz.gettz('America/New_York')),\n",
    "                      'end': datetime.datetime(2017, 11, 9, 8, 32, 24, tzinfo=tz.gettz('America/New_York'))},\n",
    "                     {'start': datetime.datetime(2017, 11, 9, 8, 41, 31, tzinfo=tz.gettz('America/New_York')),\n",
    "                      'end': datetime.datetime(2017, 11, 9, 8, 48, 59, tzinfo=tz.gettz('America/New_York'))},\n",
    "                     {'start': datetime.datetime(2017, 11, 9, 9, 0, 6, tzinfo=tz.gettz('America/New_York')),\n",
    "                      'end': datetime.datetime(2017, 11, 9, 9, 9, 24, tzinfo=tz.gettz('America/New_York'))},\n",
    "                     {'start': datetime.datetime(2017, 11, 9, 9, 9, 37, tzinfo=tz.gettz('America/New_York')),\n",
    "                      'end': datetime.datetime(2017, 11, 9, 9, 24, 25, tzinfo=tz.gettz('America/New_York'))},\n",
    "                     {'start': datetime.datetime(2017, 11, 9, 13, 14, 37, tzinfo=tz.gettz('America/New_York')),\n",
    "                      'end': datetime.datetime(2017, 11, 9, 13, 25, 39, tzinfo=tz.gettz('America/New_York'))},\n",
    "                     {'start': datetime.datetime(2017, 11, 9, 15, 20, 7, tzinfo=tz.gettz('America/New_York')),\n",
    "                      'end': datetime.datetime(2017, 11, 9, 15, 31, 10, tzinfo=tz.gettz('America/New_York'))},\n",
    "                     {'start': datetime.datetime(2017, 11, 9, 18, 47, 8, tzinfo=tz.gettz('America/New_York')),\n",
    "                      'end': datetime.datetime(2017, 11, 9, 18, 53, 10, tzinfo=tz.gettz('America/New_York'))},\n",
    "                     {'start': datetime.datetime(2017, 11, 9, 23, 35, 2, tzinfo=tz.gettz('America/New_York')),\n",
    "                      'end': datetime.datetime(2017, 11, 9, 23, 43, 35, tzinfo=tz.gettz('America/New_York'))},\n",
    "                     {'start': datetime.datetime(2017, 11, 10, 7, 51, 33, tzinfo=tz.gettz('America/New_York')),\n",
    "                      'end': datetime.datetime(2017, 11, 10, 8, 2, 28, tzinfo=tz.gettz('America/New_York'))},\n",
    "                     {'start': datetime.datetime(2017, 11, 10, 8, 38, 28, tzinfo=tz.gettz('America/New_York')),\n",
    "                      'end': datetime.datetime(2017, 11, 10, 8, 42, 9, tzinfo=tz.gettz('America/New_York'))},\n",
    "                     {'start': datetime.datetime(2017, 11, 11, 18, 5, 25, tzinfo=tz.gettz('America/New_York')),\n",
    "                      'end': datetime.datetime(2017, 11, 11, 18, 13, 14, tzinfo=tz.gettz('America/New_York'))},\n",
    "                     {'start': datetime.datetime(2017, 11, 11, 19, 39, 12, tzinfo=tz.gettz('America/New_York')),\n",
    "                      'end': datetime.datetime(2017, 11, 11, 19, 46, 22, tzinfo=tz.gettz('America/New_York'))},\n",
    "                     {'start': datetime.datetime(2017, 11, 11, 21, 13, 19, tzinfo=tz.gettz('America/New_York')),\n",
    "                      'end': datetime.datetime(2017, 11, 11, 21, 16, 31, tzinfo=tz.gettz('America/New_York'))},\n",
    "                     {'start': datetime.datetime(2017, 11, 12, 9, 46, 19, tzinfo=tz.gettz('America/New_York')),\n",
    "                      'end': datetime.datetime(2017, 11, 12, 9, 51, 43, tzinfo=tz.gettz('America/New_York'))},\n",
    "                     {'start': datetime.datetime(2017, 11, 13, 13, 33, 42, tzinfo=tz.gettz('America/New_York')),\n",
    "                      'end': datetime.datetime(2017, 11, 13, 13, 54, 15, tzinfo=tz.gettz('America/New_York'))},\n",
    "                     {'start': datetime.datetime(2017, 11, 14, 8, 40, 29, tzinfo=tz.gettz('America/New_York')),\n",
    "                      'end': datetime.datetime(2017, 11, 14, 8, 55, 52, tzinfo=tz.gettz('America/New_York'))},\n",
    "                     {'start': datetime.datetime(2017, 11, 15, 6, 14, 5, tzinfo=tz.gettz('America/New_York')),\n",
    "                      'end': datetime.datetime(2017, 11, 15, 6, 30, 6, tzinfo=tz.gettz('America/New_York'))},\n",
    "                     {'start': datetime.datetime(2017, 11, 15, 8, 14, 59, tzinfo=tz.gettz('America/New_York')),\n",
    "                      'end': datetime.datetime(2017, 11, 15, 8, 23, 44, tzinfo=tz.gettz('America/New_York'))},\n",
    "                     {'start': datetime.datetime(2017, 11, 15, 10, 16, 44, tzinfo=tz.gettz('America/New_York')),\n",
    "                      'end': datetime.datetime(2017, 11, 15, 10, 33, 41, tzinfo=tz.gettz('America/New_York'))},\n",
    "                     {'start': datetime.datetime(2017, 11, 15, 10, 33, 58, tzinfo=tz.gettz('America/New_York')),\n",
    "                      'end': datetime.datetime(2017, 11, 15, 10, 54, 14, tzinfo=tz.gettz('America/New_York'))},\n",
    "                     {'start': datetime.datetime(2017, 11, 15, 11, 2, 15, tzinfo=tz.gettz('America/New_York')),\n",
    "                      'end': datetime.datetime(2017, 11, 15, 11, 14, 42, tzinfo=tz.gettz('America/New_York'))},\n",
    "                     {'start': datetime.datetime(2017, 11, 16, 9, 27, 41, tzinfo=tz.gettz('America/New_York')),\n",
    "                      'end': datetime.datetime(2017, 11, 16, 9, 38, 49, tzinfo=tz.gettz('America/New_York'))},\n",
    "                     {'start': datetime.datetime(2017, 11, 16, 9, 57, 41, tzinfo=tz.gettz('America/New_York')),\n",
    "                      'end': datetime.datetime(2017, 11, 16, 10, 18, tzinfo=tz.gettz('America/New_York'))},\n",
    "                     {'start': datetime.datetime(2017, 11, 16, 17, 25, 5, tzinfo=tz.gettz('America/New_York')),\n",
    "                      'end': datetime.datetime(2017, 11, 16, 17, 44, 47, tzinfo=tz.gettz('America/New_York'))},\n",
    "                     {'start': datetime.datetime(2017, 11, 17, 13, 45, 54, tzinfo=tz.gettz('America/New_York')),\n",
    "                      'end': datetime.datetime(2017, 11, 17, 16, 36, 56, tzinfo=tz.gettz('America/New_York'))},\n",
    "                     {'start': datetime.datetime(2017, 11, 17, 19, 12, 49, tzinfo=tz.gettz('America/New_York')),\n",
    "                      'end': datetime.datetime(2017, 11, 17, 19, 31, 15, tzinfo=tz.gettz('America/New_York'))},\n",
    "                     {'start': datetime.datetime(2017, 11, 18, 10, 49, 6, tzinfo=tz.gettz('America/New_York')),\n",
    "                      'end': datetime.datetime(2017, 11, 18, 10, 55, 45, tzinfo=tz.gettz('America/New_York'))},\n",
    "                     {'start': datetime.datetime(2017, 11, 18, 11, 32, 12, tzinfo=tz.gettz('America/New_York')),\n",
    "                      'end': datetime.datetime(2017, 11, 18, 11, 44, 16, tzinfo=tz.gettz('America/New_York'))},\n",
    "                     {'start': datetime.datetime(2017, 11, 18, 18, 9, 1, tzinfo=tz.gettz('America/New_York')),\n",
    "                      'end': datetime.datetime(2017, 11, 18, 18, 14, 31, tzinfo=tz.gettz('America/New_York'))},\n",
    "                     {'start': datetime.datetime(2017, 11, 18, 18, 53, 10, tzinfo=tz.gettz('America/New_York')),\n",
    "                      'end': datetime.datetime(2017, 11, 18, 19, 1, 29, tzinfo=tz.gettz('America/New_York'))},\n",
    "                     {'start': datetime.datetime(2017, 11, 19, 14, 15, 41, tzinfo=tz.gettz('America/New_York')),\n",
    "                      'end': datetime.datetime(2017, 11, 19, 14, 31, 49, tzinfo=tz.gettz('America/New_York'))},\n",
    "                     {'start': datetime.datetime(2017, 11, 20, 21, 19, 19, tzinfo=tz.gettz('America/New_York')),\n",
    "                      'end': datetime.datetime(2017, 11, 20, 21, 41, 9, tzinfo=tz.gettz('America/New_York'))},\n",
    "                     {'start': datetime.datetime(2017, 11, 20, 22, 39, 48, tzinfo=tz.gettz('America/New_York')),\n",
    "                      'end': datetime.datetime(2017, 11, 20, 23, 23, 37, tzinfo=tz.gettz('America/New_York'))},\n",
    "                     {'start': datetime.datetime(2017, 11, 21, 17, 44, 25, tzinfo=tz.gettz('America/New_York')),\n",
    "                      'end': datetime.datetime(2017, 11, 21, 17, 51, 32, tzinfo=tz.gettz('America/New_York'))},\n",
    "                     {'start': datetime.datetime(2017, 11, 21, 18, 20, 52, tzinfo=tz.gettz('America/New_York')),\n",
    "                      'end': datetime.datetime(2017, 11, 21, 18, 34, 51, tzinfo=tz.gettz('America/New_York'))},\n",
    "                     {'start': datetime.datetime(2017, 11, 21, 18, 47, 32, tzinfo=tz.gettz('America/New_York')),\n",
    "                      'end': datetime.datetime(2017, 11, 21, 18, 51, 50, tzinfo=tz.gettz('America/New_York'))},\n",
    "                     {'start': datetime.datetime(2017, 11, 21, 19, 7, 57, tzinfo=tz.gettz('America/New_York')),\n",
    "                      'end': datetime.datetime(2017, 11, 21, 19, 14, 33, tzinfo=tz.gettz('America/New_York'))},\n",
    "                     {'start': datetime.datetime(2017, 11, 21, 20, 4, 56, tzinfo=tz.gettz('America/New_York')),\n",
    "                      'end': datetime.datetime(2017, 11, 21, 20, 8, 54, tzinfo=tz.gettz('America/New_York'))},\n",
    "                     {'start': datetime.datetime(2017, 11, 21, 21, 55, 47, tzinfo=tz.gettz('America/New_York')),\n",
    "                      'end': datetime.datetime(2017, 11, 21, 22, 8, 12, tzinfo=tz.gettz('America/New_York'))},\n",
    "                     {'start': datetime.datetime(2017, 11, 23, 23, 47, 43, tzinfo=tz.gettz('America/New_York')),\n",
    "                      'end': datetime.datetime(2017, 11, 23, 23, 57, 56, tzinfo=tz.gettz('America/New_York'))},\n",
    "                     {'start': datetime.datetime(2017, 11, 24, 6, 41, 25, tzinfo=tz.gettz('America/New_York')),\n",
    "                      'end': datetime.datetime(2017, 11, 24, 6, 53, 15, tzinfo=tz.gettz('America/New_York'))},\n",
    "                     {'start': datetime.datetime(2017, 11, 24, 6, 58, 56, tzinfo=tz.gettz('America/New_York')),\n",
    "                      'end': datetime.datetime(2017, 11, 24, 7, 33, 24, tzinfo=tz.gettz('America/New_York'))},\n",
    "                     {'start': datetime.datetime(2017, 11, 26, 12, 25, 49, tzinfo=tz.gettz('America/New_York')),\n",
    "                      'end': datetime.datetime(2017, 11, 26, 12, 41, 36, tzinfo=tz.gettz('America/New_York'))},\n",
    "                     {'start': datetime.datetime(2017, 11, 27, 5, 29, 4, tzinfo=tz.gettz('America/New_York')),\n",
    "                      'end': datetime.datetime(2017, 11, 27, 5, 54, 13, tzinfo=tz.gettz('America/New_York'))},\n",
    "                     {'start': datetime.datetime(2017, 11, 27, 6, 6, 47, tzinfo=tz.gettz('America/New_York')),\n",
    "                      'end': datetime.datetime(2017, 11, 27, 6, 11, 1, tzinfo=tz.gettz('America/New_York'))},\n",
    "                     {'start': datetime.datetime(2017, 11, 27, 6, 45, 14, tzinfo=tz.gettz('America/New_York')),\n",
    "                      'end': datetime.datetime(2017, 11, 27, 6, 55, 39, tzinfo=tz.gettz('America/New_York'))},\n",
    "                     {'start': datetime.datetime(2017, 11, 27, 9, 39, 44, tzinfo=tz.gettz('America/New_York')),\n",
    "                      'end': datetime.datetime(2017, 11, 27, 9, 47, 43, tzinfo=tz.gettz('America/New_York'))},\n",
    "                     {'start': datetime.datetime(2017, 11, 27, 11, 9, 18, tzinfo=tz.gettz('America/New_York')),\n",
    "                      'end': datetime.datetime(2017, 11, 27, 11, 20, 46, tzinfo=tz.gettz('America/New_York'))},\n",
    "                     {'start': datetime.datetime(2017, 11, 27, 11, 31, 46, tzinfo=tz.gettz('America/New_York')),\n",
    "                      'end': datetime.datetime(2017, 11, 27, 11, 35, 44, tzinfo=tz.gettz('America/New_York'))},\n",
    "                     {'start': datetime.datetime(2017, 11, 27, 12, 7, 14, tzinfo=tz.gettz('America/New_York')),\n",
    "                      'end': datetime.datetime(2017, 11, 27, 12, 12, 36, tzinfo=tz.gettz('America/New_York'))},\n",
    "                     {'start': datetime.datetime(2017, 11, 27, 12, 21, 40, tzinfo=tz.gettz('America/New_York')),\n",
    "                      'end': datetime.datetime(2017, 11, 27, 12, 26, 44, tzinfo=tz.gettz('America/New_York'))},\n",
    "                     {'start': datetime.datetime(2017, 11, 27, 17, 26, 31, tzinfo=tz.gettz('America/New_York')),\n",
    "                      'end': datetime.datetime(2017, 11, 27, 17, 36, 7, tzinfo=tz.gettz('America/New_York'))},\n",
    "                     {'start': datetime.datetime(2017, 11, 27, 18, 11, 49, tzinfo=tz.gettz('America/New_York')),\n",
    "                      'end': datetime.datetime(2017, 11, 27, 18, 29, 4, tzinfo=tz.gettz('America/New_York'))},\n",
    "                     {'start': datetime.datetime(2017, 11, 27, 19, 36, 16, tzinfo=tz.gettz('America/New_York')),\n",
    "                      'end': datetime.datetime(2017, 11, 27, 19, 47, 17, tzinfo=tz.gettz('America/New_York'))},\n",
    "                     {'start': datetime.datetime(2017, 11, 27, 20, 12, 57, tzinfo=tz.gettz('America/New_York')),\n",
    "                      'end': datetime.datetime(2017, 11, 27, 20, 17, 33, tzinfo=tz.gettz('America/New_York'))},\n",
    "                     {'start': datetime.datetime(2017, 11, 28, 8, 18, 6, tzinfo=tz.gettz('America/New_York')),\n",
    "                      'end': datetime.datetime(2017, 11, 28, 8, 41, 53, tzinfo=tz.gettz('America/New_York'))},\n",
    "                     {'start': datetime.datetime(2017, 11, 28, 19, 17, 23, tzinfo=tz.gettz('America/New_York')),\n",
    "                      'end': datetime.datetime(2017, 11, 28, 19, 34, 1, tzinfo=tz.gettz('America/New_York'))},\n",
    "                     {'start': datetime.datetime(2017, 11, 28, 19, 34, 15, tzinfo=tz.gettz('America/New_York')),\n",
    "                      'end': datetime.datetime(2017, 11, 28, 19, 46, 24, tzinfo=tz.gettz('America/New_York'))},\n",
    "                     {'start': datetime.datetime(2017, 11, 28, 21, 27, 29, tzinfo=tz.gettz('America/New_York')),\n",
    "                      'end': datetime.datetime(2017, 11, 28, 21, 39, 32, tzinfo=tz.gettz('America/New_York'))},\n",
    "                     {'start': datetime.datetime(2017, 11, 29, 7, 47, 38, tzinfo=tz.gettz('America/New_York')),\n",
    "                      'end': datetime.datetime(2017, 11, 29, 7, 51, 18, tzinfo=tz.gettz('America/New_York'))},\n",
    "                     {'start': datetime.datetime(2017, 11, 29, 9, 50, 12, tzinfo=tz.gettz('America/New_York')),\n",
    "                      'end': datetime.datetime(2017, 11, 29, 9, 53, 44, tzinfo=tz.gettz('America/New_York'))},\n",
    "                     {'start': datetime.datetime(2017, 11, 29, 17, 3, 42, tzinfo=tz.gettz('America/New_York')),\n",
    "                      'end': datetime.datetime(2017, 11, 29, 17, 16, 21, tzinfo=tz.gettz('America/New_York'))},\n",
    "                     {'start': datetime.datetime(2017, 11, 29, 18, 19, 15, tzinfo=tz.gettz('America/New_York')),\n",
    "                      'end': datetime.datetime(2017, 11, 29, 18, 23, 43, tzinfo=tz.gettz('America/New_York'))},\n",
    "                     {'start': datetime.datetime(2017, 12, 1, 17, 3, 58, tzinfo=tz.gettz('America/New_York')),\n",
    "                      'end': datetime.datetime(2017, 12, 1, 17, 10, 12, tzinfo=tz.gettz('America/New_York'))},\n",
    "                     {'start': datetime.datetime(2017, 12, 2, 7, 55, 56, tzinfo=tz.gettz('America/New_York')),\n",
    "                      'end': datetime.datetime(2017, 12, 2, 8, 1, 1, tzinfo=tz.gettz('America/New_York'))},\n",
    "                     {'start': datetime.datetime(2017, 12, 2, 9, 16, 14, tzinfo=tz.gettz('America/New_York')),\n",
    "                      'end': datetime.datetime(2017, 12, 2, 9, 21, 18, tzinfo=tz.gettz('America/New_York'))},\n",
    "                     {'start': datetime.datetime(2017, 12, 2, 19, 48, 29, tzinfo=tz.gettz('America/New_York')),\n",
    "                      'end': datetime.datetime(2017, 12, 2, 19, 53, 18, tzinfo=tz.gettz('America/New_York'))},\n",
    "                     {'start': datetime.datetime(2017, 12, 3, 14, 36, 29, tzinfo=tz.gettz('America/New_York')),\n",
    "                      'end': datetime.datetime(2017, 12, 3, 15, 20, 9, tzinfo=tz.gettz('America/New_York'))},\n",
    "                     {'start': datetime.datetime(2017, 12, 3, 16, 4, 2, tzinfo=tz.gettz('America/New_York')),\n",
    "                      'end': datetime.datetime(2017, 12, 3, 16, 25, 30, tzinfo=tz.gettz('America/New_York'))},\n",
    "                     {'start': datetime.datetime(2017, 12, 3, 16, 40, 26, tzinfo=tz.gettz('America/New_York')),\n",
    "                      'end': datetime.datetime(2017, 12, 3, 16, 43, 58, tzinfo=tz.gettz('America/New_York'))},\n",
    "                     {'start': datetime.datetime(2017, 12, 3, 17, 20, 17, tzinfo=tz.gettz('America/New_York')),\n",
    "                      'end': datetime.datetime(2017, 12, 3, 18, 4, 33, tzinfo=tz.gettz('America/New_York'))},\n",
    "                     {'start': datetime.datetime(2017, 12, 4, 8, 34, 24, tzinfo=tz.gettz('America/New_York')),\n",
    "                      'end': datetime.datetime(2017, 12, 4, 8, 51, tzinfo=tz.gettz('America/New_York'))},\n",
    "                     {'start': datetime.datetime(2017, 12, 4, 17, 49, 26, tzinfo=tz.gettz('America/New_York')),\n",
    "                      'end': datetime.datetime(2017, 12, 4, 17, 53, 57, tzinfo=tz.gettz('America/New_York'))},\n",
    "                     {'start': datetime.datetime(2017, 12, 4, 18, 38, 52, tzinfo=tz.gettz('America/New_York')),\n",
    "                      'end': datetime.datetime(2017, 12, 4, 18, 50, 33, tzinfo=tz.gettz('America/New_York'))},\n",
    "                     {'start': datetime.datetime(2017, 12, 4, 21, 39, 20, tzinfo=tz.gettz('America/New_York')),\n",
    "                      'end': datetime.datetime(2017, 12, 4, 21, 46, 58, tzinfo=tz.gettz('America/New_York'))},\n",
    "                     {'start': datetime.datetime(2017, 12, 4, 21, 54, 21, tzinfo=tz.gettz('America/New_York')),\n",
    "                      'end': datetime.datetime(2017, 12, 4, 21, 56, 17, tzinfo=tz.gettz('America/New_York'))},\n",
    "                     {'start': datetime.datetime(2017, 12, 5, 8, 50, 50, tzinfo=tz.gettz('America/New_York')),\n",
    "                      'end': datetime.datetime(2017, 12, 5, 8, 52, 54, tzinfo=tz.gettz('America/New_York'))},\n",
    "                     {'start': datetime.datetime(2017, 12, 6, 8, 19, 38, tzinfo=tz.gettz('America/New_York')),\n",
    "                      'end': datetime.datetime(2017, 12, 6, 8, 24, 14, tzinfo=tz.gettz('America/New_York'))},\n",
    "                     {'start': datetime.datetime(2017, 12, 6, 18, 19, 19, tzinfo=tz.gettz('America/New_York')),\n",
    "                      'end': datetime.datetime(2017, 12, 6, 18, 28, 11, tzinfo=tz.gettz('America/New_York'))},\n",
    "                     {'start': datetime.datetime(2017, 12, 6, 18, 28, 55, tzinfo=tz.gettz('America/New_York')),\n",
    "                      'end': datetime.datetime(2017, 12, 6, 18, 33, 12, tzinfo=tz.gettz('America/New_York'))},\n",
    "                     {'start': datetime.datetime(2017, 12, 6, 20, 3, 29, tzinfo=tz.gettz('America/New_York')),\n",
    "                      'end': datetime.datetime(2017, 12, 6, 20, 21, 38, tzinfo=tz.gettz('America/New_York'))},\n",
    "                     {'start': datetime.datetime(2017, 12, 6, 20, 36, 42, tzinfo=tz.gettz('America/New_York')),\n",
    "                      'end': datetime.datetime(2017, 12, 6, 20, 39, 57, tzinfo=tz.gettz('America/New_York'))},\n",
    "                     {'start': datetime.datetime(2017, 12, 7, 5, 54, 51, tzinfo=tz.gettz('America/New_York')),\n",
    "                      'end': datetime.datetime(2017, 12, 7, 6, 1, 15, tzinfo=tz.gettz('America/New_York'))},\n",
    "                     {'start': datetime.datetime(2017, 12, 8, 16, 47, 18, tzinfo=tz.gettz('America/New_York')),\n",
    "                      'end': datetime.datetime(2017, 12, 8, 16, 55, 49, tzinfo=tz.gettz('America/New_York'))},\n",
    "                     {'start': datetime.datetime(2017, 12, 8, 19, 15, 2, tzinfo=tz.gettz('America/New_York')),\n",
    "                      'end': datetime.datetime(2017, 12, 8, 19, 29, 12, tzinfo=tz.gettz('America/New_York'))},\n",
    "                     {'start': datetime.datetime(2017, 12, 9, 22, 39, 37, tzinfo=tz.gettz('America/New_York')),\n",
    "                      'end': datetime.datetime(2017, 12, 9, 22, 47, 19, tzinfo=tz.gettz('America/New_York'))},\n",
    "                     {'start': datetime.datetime(2017, 12, 9, 23, 0, 10, tzinfo=tz.gettz('America/New_York')),\n",
    "                      'end': datetime.datetime(2017, 12, 9, 23, 5, 32, tzinfo=tz.gettz('America/New_York'))},\n",
    "                     {'start': datetime.datetime(2017, 12, 10, 0, 39, 24, tzinfo=tz.gettz('America/New_York')),\n",
    "                      'end': datetime.datetime(2017, 12, 10, 0, 56, 2, tzinfo=tz.gettz('America/New_York'))},\n",
    "                     {'start': datetime.datetime(2017, 12, 10, 1, 2, 42, tzinfo=tz.gettz('America/New_York')),\n",
    "                      'end': datetime.datetime(2017, 12, 10, 1, 8, 9, tzinfo=tz.gettz('America/New_York'))},\n",
    "                     {'start': datetime.datetime(2017, 12, 10, 1, 8, 57, tzinfo=tz.gettz('America/New_York')),\n",
    "                      'end': datetime.datetime(2017, 12, 10, 1, 11, 30, tzinfo=tz.gettz('America/New_York'))},\n",
    "                     {'start': datetime.datetime(2017, 12, 10, 13, 49, 9, tzinfo=tz.gettz('America/New_York')),\n",
    "                      'end': datetime.datetime(2017, 12, 10, 13, 51, 41, tzinfo=tz.gettz('America/New_York'))},\n",
    "                     {'start': datetime.datetime(2017, 12, 10, 15, 14, 29, tzinfo=tz.gettz('America/New_York')),\n",
    "                      'end': datetime.datetime(2017, 12, 10, 15, 18, 19, tzinfo=tz.gettz('America/New_York'))},\n",
    "                     {'start': datetime.datetime(2017, 12, 10, 15, 31, 7, tzinfo=tz.gettz('America/New_York')),\n",
    "                      'end': datetime.datetime(2017, 12, 10, 15, 36, 28, tzinfo=tz.gettz('America/New_York'))},\n",
    "                     {'start': datetime.datetime(2017, 12, 10, 16, 20, 6, tzinfo=tz.gettz('America/New_York')),\n",
    "                      'end': datetime.datetime(2017, 12, 10, 16, 30, 31, tzinfo=tz.gettz('America/New_York'))},\n",
    "                     {'start': datetime.datetime(2017, 12, 10, 17, 7, 54, tzinfo=tz.gettz('America/New_York')),\n",
    "                      'end': datetime.datetime(2017, 12, 10, 17, 14, 25, tzinfo=tz.gettz('America/New_York'))},\n",
    "                     {'start': datetime.datetime(2017, 12, 10, 17, 23, 47, tzinfo=tz.gettz('America/New_York')),\n",
    "                      'end': datetime.datetime(2017, 12, 10, 17, 45, 25, tzinfo=tz.gettz('America/New_York'))},\n",
    "                     {'start': datetime.datetime(2017, 12, 11, 6, 17, 6, tzinfo=tz.gettz('America/New_York')),\n",
    "                      'end': datetime.datetime(2017, 12, 11, 6, 34, 4, tzinfo=tz.gettz('America/New_York'))},\n",
    "                     {'start': datetime.datetime(2017, 12, 11, 9, 8, 41, tzinfo=tz.gettz('America/New_York')),\n",
    "                      'end': datetime.datetime(2017, 12, 11, 9, 12, 21, tzinfo=tz.gettz('America/New_York'))},\n",
    "                     {'start': datetime.datetime(2017, 12, 11, 9, 15, 41, tzinfo=tz.gettz('America/New_York')),\n",
    "                      'end': datetime.datetime(2017, 12, 11, 9, 20, 18, tzinfo=tz.gettz('America/New_York'))},\n",
    "                     {'start': datetime.datetime(2017, 12, 12, 8, 55, 53, tzinfo=tz.gettz('America/New_York')),\n",
    "                      'end': datetime.datetime(2017, 12, 12, 8, 59, 34, tzinfo=tz.gettz('America/New_York'))},\n",
    "                     {'start': datetime.datetime(2017, 12, 13, 17, 14, 56, tzinfo=tz.gettz('America/New_York')),\n",
    "                      'end': datetime.datetime(2017, 12, 13, 17, 18, 32, tzinfo=tz.gettz('America/New_York'))},\n",
    "                     {'start': datetime.datetime(2017, 12, 13, 18, 52, 16, tzinfo=tz.gettz('America/New_York')),\n",
    "                      'end': datetime.datetime(2017, 12, 13, 19, 0, 45, tzinfo=tz.gettz('America/New_York'))},\n",
    "                     {'start': datetime.datetime(2017, 12, 14, 9, 1, 10, tzinfo=tz.gettz('America/New_York')),\n",
    "                      'end': datetime.datetime(2017, 12, 14, 9, 11, 6, tzinfo=tz.gettz('America/New_York'))},\n",
    "                     {'start': datetime.datetime(2017, 12, 14, 9, 12, 59, tzinfo=tz.gettz('America/New_York')),\n",
    "                      'end': datetime.datetime(2017, 12, 14, 9, 19, 6, tzinfo=tz.gettz('America/New_York'))},\n",
    "                     {'start': datetime.datetime(2017, 12, 14, 11, 54, 33, tzinfo=tz.gettz('America/New_York')),\n",
    "                      'end': datetime.datetime(2017, 12, 14, 12, 2, tzinfo=tz.gettz('America/New_York'))},\n",
    "                     {'start': datetime.datetime(2017, 12, 14, 14, 40, 23, tzinfo=tz.gettz('America/New_York')),\n",
    "                      'end': datetime.datetime(2017, 12, 14, 14, 44, 40, tzinfo=tz.gettz('America/New_York'))},\n",
    "                     {'start': datetime.datetime(2017, 12, 14, 15, 8, 55, tzinfo=tz.gettz('America/New_York')),\n",
    "                      'end': datetime.datetime(2017, 12, 14, 15, 26, 24, tzinfo=tz.gettz('America/New_York'))},\n",
    "                     {'start': datetime.datetime(2017, 12, 14, 17, 46, 17, tzinfo=tz.gettz('America/New_York')),\n",
    "                      'end': datetime.datetime(2017, 12, 14, 18, 9, 4, tzinfo=tz.gettz('America/New_York'))},\n",
    "                     {'start': datetime.datetime(2017, 12, 15, 9, 8, 12, tzinfo=tz.gettz('America/New_York')),\n",
    "                      'end': datetime.datetime(2017, 12, 15, 9, 23, 45, tzinfo=tz.gettz('America/New_York'))},\n",
    "                     {'start': datetime.datetime(2017, 12, 16, 9, 33, 46, tzinfo=tz.gettz('America/New_York')),\n",
    "                      'end': datetime.datetime(2017, 12, 16, 9, 36, 17, tzinfo=tz.gettz('America/New_York'))},\n",
    "                     {'start': datetime.datetime(2017, 12, 16, 11, 2, 31, tzinfo=tz.gettz('America/New_York')),\n",
    "                      'end': datetime.datetime(2017, 12, 16, 11, 5, 4, tzinfo=tz.gettz('America/New_York'))},\n",
    "                     {'start': datetime.datetime(2017, 12, 17, 10, 9, 47, tzinfo=tz.gettz('America/New_York')),\n",
    "                      'end': datetime.datetime(2017, 12, 17, 10, 32, 3, tzinfo=tz.gettz('America/New_York'))},\n",
    "                     {'start': datetime.datetime(2017, 12, 18, 8, 2, 36, tzinfo=tz.gettz('America/New_York')),\n",
    "                      'end': datetime.datetime(2017, 12, 18, 8, 7, 34, tzinfo=tz.gettz('America/New_York'))},\n",
    "                     {'start': datetime.datetime(2017, 12, 18, 16, 3, tzinfo=tz.gettz('America/New_York')),\n",
    "                      'end': datetime.datetime(2017, 12, 18, 16, 9, 20, tzinfo=tz.gettz('America/New_York'))},\n",
    "                     {'start': datetime.datetime(2017, 12, 18, 16, 30, 7, tzinfo=tz.gettz('America/New_York')),\n",
    "                      'end': datetime.datetime(2017, 12, 18, 16, 53, 12, tzinfo=tz.gettz('America/New_York'))},\n",
    "                     {'start': datetime.datetime(2017, 12, 18, 19, 18, 23, tzinfo=tz.gettz('America/New_York')),\n",
    "                      'end': datetime.datetime(2017, 12, 18, 19, 22, 8, tzinfo=tz.gettz('America/New_York'))},\n",
    "                     {'start': datetime.datetime(2017, 12, 18, 20, 14, 46, tzinfo=tz.gettz('America/New_York')),\n",
    "                      'end': datetime.datetime(2017, 12, 18, 20, 17, 47, tzinfo=tz.gettz('America/New_York'))},\n",
    "                     {'start': datetime.datetime(2017, 12, 19, 19, 14, 8, tzinfo=tz.gettz('America/New_York')),\n",
    "                      'end': datetime.datetime(2017, 12, 19, 19, 23, 49, tzinfo=tz.gettz('America/New_York'))},\n",
    "                     {'start': datetime.datetime(2017, 12, 19, 19, 39, 36, tzinfo=tz.gettz('America/New_York')),\n",
    "                      'end': datetime.datetime(2017, 12, 19, 19, 43, 46, tzinfo=tz.gettz('America/New_York'))},\n",
    "                     {'start': datetime.datetime(2017, 12, 20, 8, 5, 14, tzinfo=tz.gettz('America/New_York')),\n",
    "                      'end': datetime.datetime(2017, 12, 20, 8, 10, 46, tzinfo=tz.gettz('America/New_York'))},\n",
    "                     {'start': datetime.datetime(2017, 12, 20, 8, 15, 45, tzinfo=tz.gettz('America/New_York')),\n",
    "                      'end': datetime.datetime(2017, 12, 20, 8, 29, 50, tzinfo=tz.gettz('America/New_York'))},\n",
    "                     {'start': datetime.datetime(2017, 12, 20, 8, 33, 32, tzinfo=tz.gettz('America/New_York')),\n",
    "                      'end': datetime.datetime(2017, 12, 20, 8, 38, 9, tzinfo=tz.gettz('America/New_York'))},\n",
    "                     {'start': datetime.datetime(2017, 12, 20, 13, 43, 36, tzinfo=tz.gettz('America/New_York')),\n",
    "                      'end': datetime.datetime(2017, 12, 20, 13, 54, 39, tzinfo=tz.gettz('America/New_York'))},\n",
    "                     {'start': datetime.datetime(2017, 12, 20, 18, 57, 53, tzinfo=tz.gettz('America/New_York')),\n",
    "                      'end': datetime.datetime(2017, 12, 20, 19, 6, 54, tzinfo=tz.gettz('America/New_York'))},\n",
    "                     {'start': datetime.datetime(2017, 12, 21, 7, 21, 11, tzinfo=tz.gettz('America/New_York')),\n",
    "                      'end': datetime.datetime(2017, 12, 21, 7, 32, 3, tzinfo=tz.gettz('America/New_York'))},\n",
    "                     {'start': datetime.datetime(2017, 12, 21, 8, 1, 58, tzinfo=tz.gettz('America/New_York')),\n",
    "                      'end': datetime.datetime(2017, 12, 21, 8, 6, 15, tzinfo=tz.gettz('America/New_York'))},\n",
    "                     {'start': datetime.datetime(2017, 12, 21, 13, 20, 54, tzinfo=tz.gettz('America/New_York')),\n",
    "                      'end': datetime.datetime(2017, 12, 21, 13, 33, 49, tzinfo=tz.gettz('America/New_York'))},\n",
    "                     {'start': datetime.datetime(2017, 12, 21, 15, 26, 8, tzinfo=tz.gettz('America/New_York')),\n",
    "                      'end': datetime.datetime(2017, 12, 21, 15, 34, 27, tzinfo=tz.gettz('America/New_York'))},\n",
    "                     {'start': datetime.datetime(2017, 12, 21, 18, 9, 46, tzinfo=tz.gettz('America/New_York')),\n",
    "                      'end': datetime.datetime(2017, 12, 21, 18, 38, 50, tzinfo=tz.gettz('America/New_York'))},\n",
    "                     {'start': datetime.datetime(2017, 12, 22, 16, 14, 21, tzinfo=tz.gettz('America/New_York')),\n",
    "                      'end': datetime.datetime(2017, 12, 22, 16, 21, 46, tzinfo=tz.gettz('America/New_York'))},\n",
    "                     {'start': datetime.datetime(2017, 12, 22, 16, 29, 17, tzinfo=tz.gettz('America/New_York')),\n",
    "                      'end': datetime.datetime(2017, 12, 22, 16, 34, 14, tzinfo=tz.gettz('America/New_York'))},\n",
    "                     {'start': datetime.datetime(2017, 12, 25, 12, 49, 51, tzinfo=tz.gettz('America/New_York')),\n",
    "                      'end': datetime.datetime(2017, 12, 25, 13, 18, 27, tzinfo=tz.gettz('America/New_York'))},\n",
    "                     {'start': datetime.datetime(2017, 12, 25, 13, 46, 44, tzinfo=tz.gettz('America/New_York')),\n",
    "                      'end': datetime.datetime(2017, 12, 25, 14, 20, 50, tzinfo=tz.gettz('America/New_York'))},\n",
    "                     {'start': datetime.datetime(2017, 12, 26, 10, 40, 16, tzinfo=tz.gettz('America/New_York')),\n",
    "                      'end': datetime.datetime(2017, 12, 26, 10, 53, 45, tzinfo=tz.gettz('America/New_York'))},\n",
    "                     {'start': datetime.datetime(2017, 12, 27, 16, 56, 12, tzinfo=tz.gettz('America/New_York')),\n",
    "                      'end': datetime.datetime(2017, 12, 27, 17, 17, 39, tzinfo=tz.gettz('America/New_York'))},\n",
    "                     {'start': datetime.datetime(2017, 12, 29, 6, 2, 34, tzinfo=tz.gettz('America/New_York')),\n",
    "                      'end': datetime.datetime(2017, 12, 29, 6, 12, 30, tzinfo=tz.gettz('America/New_York'))},\n",
    "                     {'start': datetime.datetime(2017, 12, 29, 12, 21, 3, tzinfo=tz.gettz('America/New_York')),\n",
    "                      'end': datetime.datetime(2017, 12, 29, 12, 46, 16, tzinfo=tz.gettz('America/New_York'))},\n",
    "                     {'start': datetime.datetime(2017, 12, 29, 14, 32, 55, tzinfo=tz.gettz('America/New_York')),\n",
    "                      'end': datetime.datetime(2017, 12, 29, 14, 43, 46, tzinfo=tz.gettz('America/New_York'))},\n",
    "                     {'start': datetime.datetime(2017, 12, 29, 15, 8, 26, tzinfo=tz.gettz('America/New_York')),\n",
    "                      'end': datetime.datetime(2017, 12, 29, 15, 18, 51, tzinfo=tz.gettz('America/New_York'))},\n",
    "                     {'start': datetime.datetime(2017, 12, 29, 20, 33, 34, tzinfo=tz.gettz('America/New_York')),\n",
    "                      'end': datetime.datetime(2017, 12, 29, 20, 38, 13, tzinfo=tz.gettz('America/New_York'))},\n",
    "                     {'start': datetime.datetime(2017, 12, 30, 13, 51, 3, tzinfo=tz.gettz('America/New_York')),\n",
    "                      'end': datetime.datetime(2017, 12, 30, 13, 54, 33, tzinfo=tz.gettz('America/New_York'))},\n",
    "                     {'start': datetime.datetime(2017, 12, 30, 15, 9, 3, tzinfo=tz.gettz('America/New_York')),\n",
    "                      'end': datetime.datetime(2017, 12, 30, 15, 19, 13, tzinfo=tz.gettz('America/New_York'))}]"
   ]
  },
  {
   "cell_type": "code",
   "execution_count": 62,
   "id": "92f70be5",
   "metadata": {},
   "outputs": [
    {
     "name": "stdout",
     "output_type": "stream",
     "text": [
      "Ambiguous start at 2017-11-05 01:56:50-04:00\n",
      "Ambiguous end at 2017-11-05 01:01:04-04:00\n"
     ]
    }
   ],
   "source": [
    "# Loop over trips\n",
    "for trip in onebike_datetimes:\n",
    "    # Rides with ambiguous start\n",
    "    if tz.datetime_ambiguous(trip['start']):\n",
    "        print(\"Ambiguous start at \" + str(trip['start']))\n",
    "    # Rides with ambiguous end\n",
    "    if tz.datetime_ambiguous(trip['end']):\n",
    "        print(\"Ambiguous end at \" + str(trip['end']))"
   ]
  },
  {
   "cell_type": "code",
   "execution_count": 64,
   "id": "106c3d4b",
   "metadata": {},
   "outputs": [
    {
     "name": "stdout",
     "output_type": "stream",
     "text": [
      "Shortest trip: 116.0\n"
     ]
    }
   ],
   "source": [
    "trip_durations = []\n",
    "for trip in onebike_datetimes:\n",
    "    # When the start is later than the end, set the fold to be 1\n",
    "    if trip['start'] > trip['end']:\n",
    "        trip['end'] = tz.enfold(trip['end'])\n",
    "    # Convert to UTC\n",
    "    start = trip['start'].astimezone(timezone.utc)\n",
    "    end = trip['end'].astimezone(timezone.utc)\n",
    "\n",
    "    # Subtract the difference\n",
    "    trip_length_seconds = (end-start).total_seconds()\n",
    "    trip_durations.append(trip_length_seconds)\n",
    "\n",
    "# Take the shortest trip duration\n",
    "print(\"Shortest trip: \" + str(min(trip_durations)))"
   ]
  },
  {
   "cell_type": "markdown",
   "id": "5804924d",
   "metadata": {},
   "source": [
    "## 4. Easy and Powerful: Dates and Times in Pandas"
   ]
  },
  {
   "cell_type": "code",
   "execution_count": 65,
   "id": "65e0999a",
   "metadata": {},
   "outputs": [
    {
     "name": "stdout",
     "output_type": "stream",
     "text": [
      "Start date                        2017-10-01 15:23:25\n",
      "End date                          2017-10-01 15:26:26\n",
      "Start station number                            31038\n",
      "Start station                    Glebe Rd & 11th St N\n",
      "End station number                              31036\n",
      "End station             George Mason Dr & Wilson Blvd\n",
      "Bike number                                    W20529\n",
      "Member type                                    Member\n",
      "Name: 0, dtype: object\n"
     ]
    }
   ],
   "source": [
    "# Import pandas\n",
    "import pandas as pd\n",
    "\n",
    "# Load CSV into the rides variable\n",
    "rides = pd.read_csv('capital-onebike.csv', \n",
    "                    parse_dates = ['Start date', 'End date'])\n",
    "\n",
    "# Print the initial (0th) row\n",
    "print(rides.iloc[0])"
   ]
  },
  {
   "cell_type": "code",
   "execution_count": 66,
   "id": "b2cc7e32",
   "metadata": {},
   "outputs": [
    {
     "data": {
      "text/plain": [
       "0     181.0\n",
       "1    7622.0\n",
       "2     343.0\n",
       "3    1278.0\n",
       "4    1277.0\n",
       "Name: Duration, dtype: float64"
      ]
     },
     "execution_count": 66,
     "metadata": {},
     "output_type": "execute_result"
    }
   ],
   "source": [
    "# Subtract the start date from the end date\n",
    "ride_durations = rides['End date'] - rides['Start date']\n",
    "\n",
    "# Convert the results to seconds\n",
    "rides['Duration'] = ride_durations.dt.total_seconds()\n",
    "\n",
    "rides['Duration'].head()"
   ]
  },
  {
   "cell_type": "code",
   "execution_count": 67,
   "id": "fde0642b",
   "metadata": {},
   "outputs": [
    {
     "name": "stdout",
     "output_type": "stream",
     "text": [
      "6 rides were joyrides\n",
      "The median duration overall was 660.00 seconds\n",
      "The median duration for joyrides was 2642.50 seconds\n"
     ]
    }
   ],
   "source": [
    "# Create joyrides\n",
    "joyrides = (rides['Start station'] == rides['End station'])\n",
    "\n",
    "# Total number of joyrides\n",
    "print(\"{} rides were joyrides\".format(joyrides.sum()))\n",
    "\n",
    "# Median of all rides\n",
    "print(\"The median duration overall was {:.2f} seconds\"\\\n",
    "      .format(rides['Duration'].median()))\n",
    "\n",
    "# Median of joyrides\n",
    "print(\"The median duration for joyrides was {:.2f} seconds\"\\\n",
    "      .format(rides[joyrides]['Duration'].median()))"
   ]
  },
  {
   "cell_type": "code",
   "execution_count": 68,
   "id": "5a63623a",
   "metadata": {},
   "outputs": [
    {
     "data": {
      "image/png": "[encoded data removed]",
      "text/plain": [
       "<Figure size 432x288 with 1 Axes>"
      ]
     },
     "metadata": {
      "needs_background": "light"
     },
     "output_type": "display_data"
    }
   ],
   "source": [
    "# Import matplotlib\n",
    "import matplotlib.pyplot as plt\n",
    "\n",
    "# Resample rides to daily, take the size, plot the results\n",
    "rides.resample('D', on = 'Start date')\\\n",
    "  .size()\\\n",
    "  .plot(ylim = [0, 15])\n",
    "\n",
    "# Show the results\n",
    "plt.show()"
   ]
  },
  {
   "cell_type": "code",
   "execution_count": 69,
   "id": "833bd6ff",
   "metadata": {},
   "outputs": [
    {
     "data": {
      "image/png": "[encoded data removed]",
      "text/plain": [
       "<Figure size 432x288 with 1 Axes>"
      ]
     },
     "metadata": {
      "needs_background": "light"
     },
     "output_type": "display_data"
    }
   ],
   "source": [
    "# Import matplotlib\n",
    "import matplotlib.pyplot as plt\n",
    "\n",
    "# Resample rides to monthly, take the size, plot the results\n",
    "rides.resample('M', on = 'Start date')\\\n",
    "  .size()\\\n",
    "  .plot(ylim = [0, 150])\n",
    "\n",
    "# Show the results\n",
    "plt.show()"
   ]
  },
  {
   "cell_type": "code",
   "execution_count": 71,
   "id": "cf7efb3a",
   "metadata": {},
   "outputs": [
    {
     "data": {
      "text/plain": [
       "Start date  Member type\n",
       "2017-10-31  Member         0.768519\n",
       "            Casual         0.231481\n",
       "2017-11-30  Member         0.825243\n",
       "            Casual         0.174757\n",
       "2017-12-31  Member         0.860759\n",
       "            Casual         0.139241\n",
       "Name: Member type, dtype: float64"
      ]
     },
     "execution_count": 71,
     "metadata": {},
     "output_type": "execute_result"
    }
   ],
   "source": [
    "# Resample rides to be monthly on the basis of Start date\n",
    "monthly_rides = rides.resample('M', on='Start date')['Member type']\n",
    "\n",
    "# Take the ratio of the .value_counts() over the total number of rides\n",
    "monthly_rides.value_counts() / monthly_rides.size()"
   ]
  },
  {
   "cell_type": "code",
   "execution_count": 72,
   "id": "7c1e6280",
   "metadata": {},
   "outputs": [
    {
     "data": {
      "text/plain": [
       "Member type  Start date\n",
       "Casual       2017-10-31    1636.0\n",
       "             2017-11-30    1159.5\n",
       "             2017-12-31     850.0\n",
       "Member       2017-10-31     671.0\n",
       "             2017-11-30     655.0\n",
       "             2017-12-31     387.5\n",
       "Name: Duration, dtype: float64"
      ]
     },
     "execution_count": 72,
     "metadata": {},
     "output_type": "execute_result"
    }
   ],
   "source": [
    "# Group rides by member type, and resample to the month\n",
    "grouped = rides.groupby('Member type')\\\n",
    "  .resample('M', on=\"Start date\")\n",
    "\n",
    "# Print the median duration for each group\n",
    "grouped['Duration'].median()"
   ]
  },
  {
   "cell_type": "code",
   "execution_count": 73,
   "id": "fdce6080",
   "metadata": {},
   "outputs": [
    {
     "name": "stdout",
     "output_type": "stream",
     "text": [
      "2017-10-01 15:23:25-04:00\n"
     ]
    }
   ],
   "source": [
    "# Localize the Start date column to America/New_York\n",
    "rides['Start date'] = rides['Start date'].dt.tz_localize('America/New_York', ambiguous='NaT')\n",
    "\n",
    "# Print first value\n",
    "print(rides['Start date'].iloc[0])"
   ]
  },
  {
   "cell_type": "code",
   "execution_count": 77,
   "id": "0bdf97ac",
   "metadata": {},
   "outputs": [
    {
     "name": "stdout",
     "output_type": "stream",
     "text": [
      "2017-10-01 20:23:25+01:00\n"
     ]
    }
   ],
   "source": [
    "# Convert the Start date column to Europe/London\n",
    "rides['Start date'] = rides['Start date'].dt.tz_convert('Europe/London')\n",
    "\n",
    "# Print the new value\n",
    "print(rides['Start date'].iloc[0])"
   ]
  },
  {
   "cell_type": "code",
   "execution_count": 79,
   "id": "52dc3bb9",
   "metadata": {},
   "outputs": [
    {
     "data": {
      "text/plain": [
       "Ride start weekday\n",
       "Friday       684.0\n",
       "Monday       922.5\n",
       "Saturday     610.0\n",
       "Sunday       625.0\n",
       "Thursday     659.0\n",
       "Tuesday      644.0\n",
       "Wednesday    629.0\n",
       "Name: Duration, dtype: float64"
      ]
     },
     "execution_count": 79,
     "metadata": {},
     "output_type": "execute_result"
    }
   ],
   "source": [
    "# Add a column for the weekday of the start of the ride\n",
    "rides['Ride start weekday'] = rides['Start date'].dt.day_name()\n",
    "\n",
    "# Print the median trip time per weekday\n",
    "rides.groupby('Ride start weekday')['Duration'].median()"
   ]
  },
  {
   "cell_type": "code",
   "execution_count": 81,
   "id": "13a27d03",
   "metadata": {},
   "outputs": [],
   "source": [
    "rides['End date'] = rides['End date'].dt.tz_localize('Europe/London', ambiguous='NaT')"
   ]
  },
  {
   "cell_type": "code",
   "execution_count": 82,
   "id": "e66d2a63",
   "metadata": {},
   "outputs": [
    {
     "name": "stdout",
     "output_type": "stream",
     "text": [
      "Start date\n",
      "2017-10-31 00:00:00+00:00    10.519242\n",
      "2017-11-30 00:00:00+00:00    12.063189\n",
      "2017-12-31 00:00:00+00:00    14.202380\n",
      "Name: Time since, dtype: float64\n"
     ]
    }
   ],
   "source": [
    "# Shift the index of the end date up one; now subract it from the start date\n",
    "rides['Time since'] = rides['Start date'] - (rides['End date'].shift(1))\n",
    "\n",
    "# Move from a timedelta to a number of seconds, which is easier to work with\n",
    "rides['Time since'] = rides['Time since'].dt.total_seconds()\n",
    "\n",
    "# Resample to the month\n",
    "monthly = rides.resample('M', on='Start date')\n",
    "\n",
    "# Print the average hours between rides each month\n",
    "print(monthly['Time since'].mean()/(60*60))"
   ]
  }
 ],
 "metadata": {
  "kernelspec": {
   "display_name": "Python 3 (ipykernel)",
   "language": "python",
   "name": "python3"
  },
  "language_info": {
   "codemirror_mode": {
    "name": "ipython",
    "version": 3
   },
   "file_extension": ".py",
   "mimetype": "text/x-python",
   "name": "python",
   "nbconvert_exporter": "python",
   "pygments_lexer": "ipython3",
   "version": "3.10.5"
  }
 },
 "nbformat": 4,
 "nbformat_minor": 5
}
