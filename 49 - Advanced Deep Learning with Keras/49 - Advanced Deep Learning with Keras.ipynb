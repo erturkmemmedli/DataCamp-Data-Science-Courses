{
 "cells": [
  {
   "cell_type": "markdown",
   "id": "11e0bd74",
   "metadata": {},
   "source": [
    "# Advanced Deep Learning with Keras"
   ]
  },
  {
   "cell_type": "markdown",
   "id": "ea4fbe3e",
   "metadata": {},
   "source": [
    "## 1. The Keras Functional API\n"
   ]
  },
  {
   "cell_type": "code",
   "execution_count": 1,
   "id": "80fb70bd",
   "metadata": {},
   "outputs": [],
   "source": [
    "# Import Input from tensorflow.keras.layers\n",
    "from tensorflow.keras.layers import Input\n",
    "\n",
    "# Create an input layer of shape 1\n",
    "input_tensor = Input(shape=(1,))"
   ]
  },
  {
   "cell_type": "code",
   "execution_count": 2,
   "id": "cdb385f4",
   "metadata": {},
   "outputs": [],
   "source": [
    "# Load layers\n",
    "from tensorflow.keras.layers import Input, Dense\n",
    "\n",
    "# Input layer\n",
    "input_tensor = Input(shape=(1,))\n",
    "\n",
    "# Dense layer\n",
    "output_layer = Dense(1)\n",
    "\n",
    "# Connect the dense layer to the input_tensor\n",
    "output_tensor = output_layer(input_tensor)"
   ]
  },
  {
   "cell_type": "code",
   "execution_count": 3,
   "id": "2dd8d6df",
   "metadata": {},
   "outputs": [],
   "source": [
    "# Load layers\n",
    "from tensorflow.keras.layers import Input, Dense\n",
    "\n",
    "# Input layer\n",
    "input_tensor = Input(shape=(1,))\n",
    "\n",
    "# Create a dense layer and connect the dense layer to the input_tensor in one step\n",
    "# Note that we did this in 2 steps in the previous exercise, but are doing it in one step now\n",
    "output_tensor = Dense(1)(input_tensor)"
   ]
  },
  {
   "cell_type": "code",
   "execution_count": 4,
   "id": "472e7f50",
   "metadata": {},
   "outputs": [],
   "source": [
    "# Input/dense/output layers\n",
    "from tensorflow.keras.layers import Input, Dense\n",
    "input_tensor = Input(shape=(1,))\n",
    "output_tensor = Dense(1)(input_tensor)\n",
    "\n",
    "# Build the model\n",
    "from tensorflow.keras.models import Model\n",
    "model = Model(input_tensor, output_tensor)"
   ]
  },
  {
   "cell_type": "code",
   "execution_count": 5,
   "id": "e6432163",
   "metadata": {},
   "outputs": [],
   "source": [
    "# Compile the model\n",
    "model.compile(optimizer='adam', loss='mean_absolute_error')"
   ]
  },
  {
   "cell_type": "code",
   "execution_count": 6,
   "id": "87118642",
   "metadata": {},
   "outputs": [
    {
     "name": "stdout",
     "output_type": "stream",
     "text": [
      "Requirement already satisfied: pydot in c:\\users\\erturk memmedli\\appdata\\local\\programs\\python\\python310\\lib\\site-packages (1.4.2)\n",
      "Requirement already satisfied: pyparsing>=2.1.4 in c:\\users\\erturk memmedli\\appdata\\local\\programs\\python\\python310\\lib\\site-packages (from pydot) (3.0.9)\n",
      "Note: you may need to restart the kernel to use updated packages.\n"
     ]
    }
   ],
   "source": [
    "pip install pydot"
   ]
  },
  {
   "cell_type": "code",
   "execution_count": 7,
   "id": "b9f8c1b1",
   "metadata": {},
   "outputs": [
    {
     "name": "stdout",
     "output_type": "stream",
     "text": [
      "Requirement already satisfied: graphviz in c:\\users\\erturk memmedli\\appdata\\local\\programs\\python\\python310\\lib\\site-packages (0.20.1)\n",
      "Note: you may need to restart the kernel to use updated packages.\n"
     ]
    }
   ],
   "source": [
    "pip install graphviz "
   ]
  },
  {
   "cell_type": "code",
   "execution_count": null,
   "id": "74dea8d0",
   "metadata": {},
   "outputs": [],
   "source": [
    "# Import the plotting function\n",
    "from tensorflow.keras.utils import plot_model\n",
    "import matplotlib.pyplot as plt\n",
    "\n",
    "# Summarize the model\n",
    "model.summary()\n",
    "\n",
    "# Plot the model\n",
    "plot_model(model, to_file='model.png')\n",
    "\n",
    "# Display the image\n",
    "data = plt.imread('model.png')\n",
    "plt.imshow(data)\n",
    "plt.show()"
   ]
  },
  {
   "cell_type": "code",
   "execution_count": 8,
   "id": "8fdaf096",
   "metadata": {},
   "outputs": [],
   "source": [
    "import pandas as pd\n",
    "from sklearn.model_selection import train_test_split\n",
    "\n",
    "games_tourney = pd.read_csv('games_tourney.csv')\n",
    "games_tourney_train, games_tourney_test = train_test_split(games_tourney, test_size=0.19, random_state=42)"
   ]
  },
  {
   "cell_type": "code",
   "execution_count": 9,
   "id": "a1ad8eed",
   "metadata": {},
   "outputs": [
    {
     "name": "stdout",
     "output_type": "stream",
     "text": [
      "25/25 [==============================] - 1s 8ms/step - loss: 12.8051 - val_loss: 11.7803\n"
     ]
    },
    {
     "data": {
      "text/plain": [
       "<keras.src.callbacks.History at 0x21d2a78cf10>"
      ]
     },
     "execution_count": 9,
     "metadata": {},
     "output_type": "execute_result"
    }
   ],
   "source": [
    "# Now fit the model\n",
    "model.fit(games_tourney_train['seed_diff'], games_tourney_train['score_diff'],\n",
    "          epochs=1,\n",
    "          batch_size=128,\n",
    "          validation_split=0.1,\n",
    "          verbose=True)"
   ]
  },
  {
   "cell_type": "code",
   "execution_count": 10,
   "id": "d32f4a7f",
   "metadata": {},
   "outputs": [
    {
     "name": "stdout",
     "output_type": "stream",
     "text": [
      "12.856620788574219\n"
     ]
    }
   ],
   "source": [
    "# Load the X variable from the test data\n",
    "X_test = games_tourney_test['seed_diff']\n",
    "\n",
    "# Load the y variable from the test data\n",
    "y_test = games_tourney_test['score_diff']\n",
    "\n",
    "# Evaluate the model on the test data\n",
    "print(model.evaluate(X_test, y_test, verbose=False))"
   ]
  },
  {
   "cell_type": "markdown",
   "id": "98d0ba81",
   "metadata": {},
   "source": [
    "## 2. Two Input Networks Using Categorical Embeddings, Shared Layers, and Merge Layers\n"
   ]
  },
  {
   "cell_type": "code",
   "execution_count": 11,
   "id": "1c895010",
   "metadata": {},
   "outputs": [
    {
     "data": {
      "text/html": [
       "<div>\n",
       "<style scoped>\n",
       "    .dataframe tbody tr th:only-of-type {\n",
       "        vertical-align: middle;\n",
       "    }\n",
       "\n",
       "    .dataframe tbody tr th {\n",
       "        vertical-align: top;\n",
       "    }\n",
       "\n",
       "    .dataframe thead th {\n",
       "        text-align: right;\n",
       "    }\n",
       "</style>\n",
       "<table border=\"1\" class=\"dataframe\">\n",
       "  <thead>\n",
       "    <tr style=\"text-align: right;\">\n",
       "      <th></th>\n",
       "      <th>season</th>\n",
       "      <th>team_1</th>\n",
       "      <th>team_2</th>\n",
       "      <th>home</th>\n",
       "      <th>score_diff</th>\n",
       "      <th>score_1</th>\n",
       "      <th>score_2</th>\n",
       "      <th>won</th>\n",
       "    </tr>\n",
       "  </thead>\n",
       "  <tbody>\n",
       "    <tr>\n",
       "      <th>0</th>\n",
       "      <td>1985</td>\n",
       "      <td>3745</td>\n",
       "      <td>6664</td>\n",
       "      <td>0</td>\n",
       "      <td>17</td>\n",
       "      <td>81</td>\n",
       "      <td>64</td>\n",
       "      <td>1</td>\n",
       "    </tr>\n",
       "    <tr>\n",
       "      <th>1</th>\n",
       "      <td>1985</td>\n",
       "      <td>126</td>\n",
       "      <td>7493</td>\n",
       "      <td>1</td>\n",
       "      <td>7</td>\n",
       "      <td>77</td>\n",
       "      <td>70</td>\n",
       "      <td>1</td>\n",
       "    </tr>\n",
       "    <tr>\n",
       "      <th>2</th>\n",
       "      <td>1985</td>\n",
       "      <td>288</td>\n",
       "      <td>3593</td>\n",
       "      <td>1</td>\n",
       "      <td>7</td>\n",
       "      <td>63</td>\n",
       "      <td>56</td>\n",
       "      <td>1</td>\n",
       "    </tr>\n",
       "    <tr>\n",
       "      <th>3</th>\n",
       "      <td>1985</td>\n",
       "      <td>1846</td>\n",
       "      <td>9881</td>\n",
       "      <td>1</td>\n",
       "      <td>16</td>\n",
       "      <td>70</td>\n",
       "      <td>54</td>\n",
       "      <td>1</td>\n",
       "    </tr>\n",
       "    <tr>\n",
       "      <th>4</th>\n",
       "      <td>1985</td>\n",
       "      <td>2675</td>\n",
       "      <td>10298</td>\n",
       "      <td>1</td>\n",
       "      <td>12</td>\n",
       "      <td>86</td>\n",
       "      <td>74</td>\n",
       "      <td>1</td>\n",
       "    </tr>\n",
       "    <tr>\n",
       "      <th>...</th>\n",
       "      <td>...</td>\n",
       "      <td>...</td>\n",
       "      <td>...</td>\n",
       "      <td>...</td>\n",
       "      <td>...</td>\n",
       "      <td>...</td>\n",
       "      <td>...</td>\n",
       "      <td>...</td>\n",
       "    </tr>\n",
       "    <tr>\n",
       "      <th>312173</th>\n",
       "      <td>2018</td>\n",
       "      <td>3592</td>\n",
       "      <td>1481</td>\n",
       "      <td>1</td>\n",
       "      <td>-1</td>\n",
       "      <td>55</td>\n",
       "      <td>56</td>\n",
       "      <td>0</td>\n",
       "    </tr>\n",
       "    <tr>\n",
       "      <th>312174</th>\n",
       "      <td>2018</td>\n",
       "      <td>7322</td>\n",
       "      <td>2081</td>\n",
       "      <td>1</td>\n",
       "      <td>-1</td>\n",
       "      <td>57</td>\n",
       "      <td>58</td>\n",
       "      <td>0</td>\n",
       "    </tr>\n",
       "    <tr>\n",
       "      <th>312175</th>\n",
       "      <td>2018</td>\n",
       "      <td>9730</td>\n",
       "      <td>3233</td>\n",
       "      <td>1</td>\n",
       "      <td>-13</td>\n",
       "      <td>61</td>\n",
       "      <td>74</td>\n",
       "      <td>0</td>\n",
       "    </tr>\n",
       "    <tr>\n",
       "      <th>312176</th>\n",
       "      <td>2018</td>\n",
       "      <td>8813</td>\n",
       "      <td>4297</td>\n",
       "      <td>1</td>\n",
       "      <td>-5</td>\n",
       "      <td>72</td>\n",
       "      <td>77</td>\n",
       "      <td>0</td>\n",
       "    </tr>\n",
       "    <tr>\n",
       "      <th>312177</th>\n",
       "      <td>2018</td>\n",
       "      <td>3437</td>\n",
       "      <td>6931</td>\n",
       "      <td>1</td>\n",
       "      <td>-3</td>\n",
       "      <td>65</td>\n",
       "      <td>68</td>\n",
       "      <td>0</td>\n",
       "    </tr>\n",
       "  </tbody>\n",
       "</table>\n",
       "<p>312178 rows × 8 columns</p>\n",
       "</div>"
      ],
      "text/plain": [
       "        season  team_1  team_2  home  score_diff  score_1  score_2  won\n",
       "0         1985    3745    6664     0          17       81       64    1\n",
       "1         1985     126    7493     1           7       77       70    1\n",
       "2         1985     288    3593     1           7       63       56    1\n",
       "3         1985    1846    9881     1          16       70       54    1\n",
       "4         1985    2675   10298     1          12       86       74    1\n",
       "...        ...     ...     ...   ...         ...      ...      ...  ...\n",
       "312173    2018    3592    1481     1          -1       55       56    0\n",
       "312174    2018    7322    2081     1          -1       57       58    0\n",
       "312175    2018    9730    3233     1         -13       61       74    0\n",
       "312176    2018    8813    4297     1          -5       72       77    0\n",
       "312177    2018    3437    6931     1          -3       65       68    0\n",
       "\n",
       "[312178 rows x 8 columns]"
      ]
     },
     "execution_count": 11,
     "metadata": {},
     "output_type": "execute_result"
    }
   ],
   "source": [
    "import pandas as pd\n",
    "\n",
    "games_season = pd.read_csv('games_season.csv')\n",
    "games_season"
   ]
  },
  {
   "cell_type": "code",
   "execution_count": 12,
   "id": "0ba274cf",
   "metadata": {},
   "outputs": [],
   "source": [
    "# Imports\n",
    "from tensorflow.keras.layers import Embedding\n",
    "from numpy import unique\n",
    "\n",
    "# Count the unique number of teams\n",
    "n_teams = unique(games_season['team_1']).shape[0]\n",
    "\n",
    "# Create an embedding layer\n",
    "team_lookup = Embedding(input_dim=n_teams,\n",
    "                        output_dim=1,\n",
    "                        input_length=1,\n",
    "                        name='Team-Strength')"
   ]
  },
  {
   "cell_type": "code",
   "execution_count": 13,
   "id": "543ba845",
   "metadata": {},
   "outputs": [],
   "source": [
    "# Imports\n",
    "from tensorflow.keras.layers import Input, Embedding, Flatten\n",
    "from tensorflow.keras.models import Model\n",
    "\n",
    "# Create an input layer for the team ID\n",
    "teamid_in = Input(shape=(1,))\n",
    "\n",
    "# Lookup the input in the team strength embedding layer\n",
    "strength_lookup = team_lookup(teamid_in)\n",
    "\n",
    "# Flatten the output\n",
    "strength_lookup_flat = Flatten()(strength_lookup)\n",
    "\n",
    "# Combine the operations into a single, re-usable model\n",
    "team_strength_model = Model(teamid_in, strength_lookup_flat, name='Team-Strength-Model')"
   ]
  },
  {
   "cell_type": "code",
   "execution_count": 14,
   "id": "8cdf1020",
   "metadata": {},
   "outputs": [],
   "source": [
    "# Load the input layer from tensorflow.keras.layers\n",
    "from tensorflow.keras.layers import Input\n",
    "\n",
    "# Input layer for team 1\n",
    "team_in_1 = Input((1,), name='Team-1-In')\n",
    "\n",
    "# Separate input layer for team 2\n",
    "team_in_2 = Input((1,), name='Team-2-In')"
   ]
  },
  {
   "cell_type": "code",
   "execution_count": 15,
   "id": "d6681b41",
   "metadata": {},
   "outputs": [],
   "source": [
    "# Lookup team 1 in the team strength model\n",
    "team_1_strength = team_strength_model(team_in_1)\n",
    "\n",
    "# Lookup team 2 in the team strength model\n",
    "team_2_strength = team_strength_model(team_in_2)"
   ]
  },
  {
   "cell_type": "code",
   "execution_count": 16,
   "id": "e5e3ffc2",
   "metadata": {},
   "outputs": [],
   "source": [
    "# Import the Subtract layer from tensorflow.keras\n",
    "from tensorflow.keras.layers import Subtract\n",
    "\n",
    "# Create a subtract layer using the inputs from the previous exercise\n",
    "score_diff = Subtract()([team_1_strength, team_2_strength])"
   ]
  },
  {
   "cell_type": "code",
   "execution_count": 17,
   "id": "a9a19d69",
   "metadata": {},
   "outputs": [],
   "source": [
    "# Imports\n",
    "from tensorflow.keras.layers import Subtract\n",
    "from tensorflow.keras.models import Model\n",
    "\n",
    "# Subtraction layer from previous exercise\n",
    "score_diff = Subtract()([team_1_strength, team_2_strength])\n",
    "\n",
    "# Create the model\n",
    "model = Model([team_in_1, team_in_2], score_diff)\n",
    "\n",
    "# Compile the model\n",
    "model.compile(optimizer='adam', loss='mean_absolute_error')"
   ]
  },
  {
   "cell_type": "code",
   "execution_count": 18,
   "id": "ce70671d",
   "metadata": {},
   "outputs": [
    {
     "name": "stdout",
     "output_type": "stream",
     "text": [
      "138/138 [==============================] - 1s 3ms/step - loss: 12.1204 - val_loss: 11.8385\n"
     ]
    },
    {
     "data": {
      "text/plain": [
       "<keras.src.callbacks.History at 0x21d2ba12c50>"
      ]
     },
     "execution_count": 18,
     "metadata": {},
     "output_type": "execute_result"
    }
   ],
   "source": [
    "# Get the team_1 column from the regular season data\n",
    "input_1 = games_season['team_1']\n",
    "\n",
    "# Get the team_2 column from the regular season data\n",
    "input_2 = games_season['team_2']\n",
    "\n",
    "# Fit the model to input 1 and 2, using score diff as a target\n",
    "model.fit([input_1, input_2],\n",
    "          games_season['score_diff'],\n",
    "          epochs=1,\n",
    "          batch_size=2048,\n",
    "          validation_split=0.1,\n",
    "          verbose=True)"
   ]
  },
  {
   "cell_type": "code",
   "execution_count": 19,
   "id": "9d1463d9",
   "metadata": {},
   "outputs": [
    {
     "name": "stdout",
     "output_type": "stream",
     "text": [
      "11.681172370910645\n"
     ]
    }
   ],
   "source": [
    "# Get team_1 from the tournament data\n",
    "input_1 = games_tourney['team_1']\n",
    "\n",
    "# Get team_2 from the tournament data\n",
    "input_2 = games_tourney['team_2']\n",
    "\n",
    "# Evaluate the model using these inputs\n",
    "print(model.evaluate([input_1, input_2], games_tourney['score_diff'], verbose=False))"
   ]
  },
  {
   "cell_type": "markdown",
   "id": "a9ae013d",
   "metadata": {},
   "source": [
    "## 3. Multiple Inputs: 3 Inputs (and Beyond!)\n"
   ]
  },
  {
   "cell_type": "code",
   "execution_count": 20,
   "id": "8ac661ca",
   "metadata": {},
   "outputs": [],
   "source": [
    "from tensorflow.keras.layers import Concatenate\n",
    "\n",
    "# Create an Input for each team\n",
    "team_in_1 = Input(shape=(1,), name='Team-1-In')\n",
    "team_in_2 = Input(shape=(1,), name='Team-2-In')\n",
    "\n",
    "# Create an input for home vs away\n",
    "home_in = Input(shape=(1,), name='Home-In')\n",
    "\n",
    "# Lookup the team inputs in the team strength model\n",
    "team_1_strength = team_strength_model(team_in_1)\n",
    "team_2_strength = team_strength_model(team_in_2)\n",
    "\n",
    "# Combine the team strengths with the home input using a Concatenate layer, then add a Dense layer\n",
    "out = Concatenate()([team_1_strength, team_2_strength, home_in])\n",
    "out = Dense(1)(out)"
   ]
  },
  {
   "cell_type": "code",
   "execution_count": 21,
   "id": "9615c15e",
   "metadata": {},
   "outputs": [],
   "source": [
    "# Import the model class\n",
    "from tensorflow.keras.models import Model\n",
    "\n",
    "# Make a Model\n",
    "model = Model([team_in_1, team_in_2, home_in], out)\n",
    "\n",
    "# Compile the model\n",
    "model.compile(optimizer='adam', loss='mean_absolute_error')"
   ]
  },
  {
   "cell_type": "code",
   "execution_count": 22,
   "id": "d2123e9b",
   "metadata": {},
   "outputs": [
    {
     "name": "stdout",
     "output_type": "stream",
     "text": [
      "138/138 [==============================] - 1s 3ms/step - loss: 12.1774 - val_loss: 11.8428\n",
      "11.684207916259766\n"
     ]
    }
   ],
   "source": [
    "# Fit the model to the games_season dataset\n",
    "model.fit([games_season['team_1'], games_season['team_2'], games_season['home']],\n",
    "          games_season['score_diff'],\n",
    "          epochs=1,\n",
    "          verbose=True,\n",
    "          validation_split=0.1,\n",
    "          batch_size=2048)\n",
    "\n",
    "# Evaluate the model on the games_tourney dataset\n",
    "print(model.evaluate([games_tourney['team_1'], games_tourney['team_2'], games_tourney['home']], \n",
    "                     games_tourney['score_diff'], verbose=False))"
   ]
  },
  {
   "cell_type": "code",
   "execution_count": 23,
   "id": "38fba02e",
   "metadata": {},
   "outputs": [
    {
     "name": "stdout",
     "output_type": "stream",
     "text": [
      "Model: \"model_2\"\n",
      "__________________________________________________________________________________________________\n",
      " Layer (type)                Output Shape                 Param #   Connected to                  \n",
      "==================================================================================================\n",
      " Team-1-In (InputLayer)      [(None, 1)]                  0         []                            \n",
      "                                                                                                  \n",
      " Team-2-In (InputLayer)      [(None, 1)]                  0         []                            \n",
      "                                                                                                  \n",
      " Team-Strength-Model (Funct  (None, 1)                    10888     ['Team-1-In[0][0]',           \n",
      " ional)                                                              'Team-2-In[0][0]']           \n",
      "                                                                                                  \n",
      " Home-In (InputLayer)        [(None, 1)]                  0         []                            \n",
      "                                                                                                  \n",
      " concatenate (Concatenate)   (None, 3)                    0         ['Team-Strength-Model[2][0]', \n",
      "                                                                     'Team-Strength-Model[3][0]', \n",
      "                                                                     'Home-In[0][0]']             \n",
      "                                                                                                  \n",
      " dense_3 (Dense)             (None, 1)                    4         ['concatenate[0][0]']         \n",
      "                                                                                                  \n",
      "==================================================================================================\n",
      "Total params: 10892 (42.55 KB)\n",
      "Trainable params: 10892 (42.55 KB)\n",
      "Non-trainable params: 0 (0.00 Byte)\n",
      "__________________________________________________________________________________________________\n"
     ]
    }
   ],
   "source": [
    "model.summary()"
   ]
  },
  {
   "cell_type": "markdown",
   "id": "ec1b8e83",
   "metadata": {},
   "source": [
    "Answer: 10,892"
   ]
  },
  {
   "cell_type": "markdown",
   "id": "21996409",
   "metadata": {},
   "source": [
    "Answer: 10,892"
   ]
  },
  {
   "cell_type": "markdown",
   "id": "c56a629f",
   "metadata": {},
   "source": [
    "Answer: Team-Strength (Model)"
   ]
  },
  {
   "cell_type": "code",
   "execution_count": null,
   "id": "e2c1fb12",
   "metadata": {},
   "outputs": [],
   "source": [
    "# Imports\n",
    "import matplotlib.pyplot as plt\n",
    "from tensorflow.keras.utils import plot_model\n",
    "\n",
    "# Plot the model\n",
    "plot_model(model, to_file='model.png')\n",
    "\n",
    "# Display the image\n",
    "data = plt.imread('model.png')\n",
    "plt.imshow(data)\n",
    "plt.show()"
   ]
  },
  {
   "cell_type": "markdown",
   "id": "cac06623",
   "metadata": {},
   "source": [
    "Answer: 3"
   ]
  },
  {
   "cell_type": "markdown",
   "id": "25beee95",
   "metadata": {},
   "source": [
    "Answer: 1"
   ]
  },
  {
   "cell_type": "markdown",
   "id": "e21b6914",
   "metadata": {},
   "source": [
    "Answer: Team-Strength"
   ]
  },
  {
   "cell_type": "code",
   "execution_count": 24,
   "id": "b27b16e0",
   "metadata": {},
   "outputs": [
    {
     "name": "stdout",
     "output_type": "stream",
     "text": [
      "133/133 [==============================] - 0s 2ms/step\n"
     ]
    }
   ],
   "source": [
    "# Predict\n",
    "games_tourney['pred'] = model.predict([games_tourney['team_1'], games_tourney['team_2'], games_tourney['home']])"
   ]
  },
  {
   "cell_type": "code",
   "execution_count": 25,
   "id": "a9188dbd",
   "metadata": {},
   "outputs": [],
   "source": [
    "games_tourney_train, games_tourney_test = train_test_split(games_tourney, test_size=0.19, random_state=42)"
   ]
  },
  {
   "cell_type": "code",
   "execution_count": 26,
   "id": "d91d871e",
   "metadata": {},
   "outputs": [],
   "source": [
    "# Create an input layer with 3 columns\n",
    "input_tensor = Input((3,))\n",
    "\n",
    "# Pass it to a Dense layer with 1 unit\n",
    "output_tensor = Dense(1)(input_tensor)\n",
    "\n",
    "# Create a model\n",
    "model = Model(input_tensor, output_tensor)\n",
    "\n",
    "# Compile the model\n",
    "model.compile(optimizer='adam', loss='mean_absolute_error')"
   ]
  },
  {
   "cell_type": "code",
   "execution_count": 27,
   "id": "601b3992",
   "metadata": {},
   "outputs": [
    {
     "name": "stdout",
     "output_type": "stream",
     "text": [
      "108/108 [==============================] - 0s 1ms/step - loss: 16.4852\n"
     ]
    },
    {
     "data": {
      "text/plain": [
       "<keras.src.callbacks.History at 0x21d2cdc2f20>"
      ]
     },
     "execution_count": 27,
     "metadata": {},
     "output_type": "execute_result"
    }
   ],
   "source": [
    "# Fit the model\n",
    "model.fit(games_tourney_train[['home', 'seed_diff', 'pred']],\n",
    "          games_tourney_train['score_diff'],\n",
    "          epochs=1,\n",
    "          verbose=True)"
   ]
  },
  {
   "cell_type": "code",
   "execution_count": 29,
   "id": "65b9e86d",
   "metadata": {},
   "outputs": [
    {
     "name": "stdout",
     "output_type": "stream",
     "text": [
      "16.004404067993164\n"
     ]
    }
   ],
   "source": [
    "# Evaluate the model on the games_tourney_test dataset\n",
    "print(model.evaluate(games_tourney_test[['home', 'seed_diff', 'pred']],\n",
    "                     games_tourney_test['score_diff'], verbose=False))"
   ]
  },
  {
   "cell_type": "markdown",
   "id": "e3e20cf2",
   "metadata": {},
   "source": [
    "## 4. Multiple Outputs\n"
   ]
  },
  {
   "cell_type": "code",
   "execution_count": 30,
   "id": "ba6b7381",
   "metadata": {},
   "outputs": [],
   "source": [
    "# Define the input\n",
    "input_tensor = Input((2,))\n",
    "\n",
    "# Define the output\n",
    "output_tensor = Dense(2)(input_tensor)\n",
    "\n",
    "# Create a model\n",
    "model = Model(input_tensor, output_tensor)\n",
    "\n",
    "# Compile the model\n",
    "model.compile(optimizer='adam', loss='mean_absolute_error')"
   ]
  },
  {
   "cell_type": "code",
   "execution_count": 31,
   "id": "0eebe5e3",
   "metadata": {
    "scrolled": false
   },
   "outputs": [
    {
     "name": "stdout",
     "output_type": "stream",
     "text": [
      "Epoch 1/100\n",
      "1/1 [==============================] - 0s 334ms/step - loss: 70.9587\n",
      "Epoch 2/100\n",
      "1/1 [==============================] - 0s 6ms/step - loss: 70.9575\n",
      "Epoch 3/100\n",
      "1/1 [==============================] - 0s 0s/step - loss: 70.9563\n",
      "Epoch 4/100\n",
      "1/1 [==============================] - 0s 0s/step - loss: 70.9551\n",
      "Epoch 5/100\n",
      "1/1 [==============================] - 0s 16ms/step - loss: 70.9539\n",
      "Epoch 6/100\n",
      "1/1 [==============================] - 0s 16ms/step - loss: 70.9528\n",
      "Epoch 7/100\n",
      "1/1 [==============================] - 0s 17ms/step - loss: 70.9516\n",
      "Epoch 8/100\n",
      "1/1 [==============================] - 0s 0s/step - loss: 70.9504\n",
      "Epoch 9/100\n",
      "1/1 [==============================] - 0s 0s/step - loss: 70.9492\n",
      "Epoch 10/100\n",
      "1/1 [==============================] - 0s 17ms/step - loss: 70.9481\n",
      "Epoch 11/100\n",
      "1/1 [==============================] - 0s 18ms/step - loss: 70.9469\n",
      "Epoch 12/100\n",
      "1/1 [==============================] - 0s 0s/step - loss: 70.9457\n",
      "Epoch 13/100\n",
      "1/1 [==============================] - 0s 0s/step - loss: 70.9445\n",
      "Epoch 14/100\n",
      "1/1 [==============================] - 0s 17ms/step - loss: 70.9434\n",
      "Epoch 15/100\n",
      "1/1 [==============================] - 0s 0s/step - loss: 70.9422\n",
      "Epoch 16/100\n",
      "1/1 [==============================] - 0s 0s/step - loss: 70.9410\n",
      "Epoch 17/100\n",
      "1/1 [==============================] - 0s 0s/step - loss: 70.9398\n",
      "Epoch 18/100\n",
      "1/1 [==============================] - 0s 6ms/step - loss: 70.9386\n",
      "Epoch 19/100\n",
      "1/1 [==============================] - 0s 10ms/step - loss: 70.9375\n",
      "Epoch 20/100\n",
      "1/1 [==============================] - 0s 10ms/step - loss: 70.9363\n",
      "Epoch 21/100\n",
      "1/1 [==============================] - 0s 0s/step - loss: 70.9351\n",
      "Epoch 22/100\n",
      "1/1 [==============================] - 0s 15ms/step - loss: 70.9340\n",
      "Epoch 23/100\n",
      "1/1 [==============================] - 0s 15ms/step - loss: 70.9328\n",
      "Epoch 24/100\n",
      "1/1 [==============================] - 0s 7ms/step - loss: 70.9316\n",
      "Epoch 25/100\n",
      "1/1 [==============================] - 0s 4ms/step - loss: 70.9304\n",
      "Epoch 26/100\n",
      "1/1 [==============================] - 0s 18ms/step - loss: 70.9292\n",
      "Epoch 27/100\n",
      "1/1 [==============================] - 0s 6ms/step - loss: 70.9281\n",
      "Epoch 28/100\n",
      "1/1 [==============================] - 0s 12ms/step - loss: 70.9269\n",
      "Epoch 29/100\n",
      "1/1 [==============================] - 0s 11ms/step - loss: 70.9257\n",
      "Epoch 30/100\n",
      "1/1 [==============================] - 0s 8ms/step - loss: 70.9245\n",
      "Epoch 31/100\n",
      "1/1 [==============================] - 0s 7ms/step - loss: 70.9233\n",
      "Epoch 32/100\n",
      "1/1 [==============================] - 0s 12ms/step - loss: 70.9222\n",
      "Epoch 33/100\n",
      "1/1 [==============================] - 0s 6ms/step - loss: 70.9210\n",
      "Epoch 34/100\n",
      "1/1 [==============================] - 0s 8ms/step - loss: 70.9198\n",
      "Epoch 35/100\n",
      "1/1 [==============================] - 0s 12ms/step - loss: 70.9186\n",
      "Epoch 36/100\n",
      "1/1 [==============================] - 0s 13ms/step - loss: 70.9175\n",
      "Epoch 37/100\n",
      "1/1 [==============================] - 0s 8ms/step - loss: 70.9163\n",
      "Epoch 38/100\n",
      "1/1 [==============================] - 0s 8ms/step - loss: 70.9151\n",
      "Epoch 39/100\n",
      "1/1 [==============================] - 0s 6ms/step - loss: 70.9139\n",
      "Epoch 40/100\n",
      "1/1 [==============================] - 0s 13ms/step - loss: 70.9128\n",
      "Epoch 41/100\n",
      "1/1 [==============================] - 0s 16ms/step - loss: 70.9116\n",
      "Epoch 42/100\n",
      "1/1 [==============================] - 0s 17ms/step - loss: 70.9104\n",
      "Epoch 43/100\n",
      "1/1 [==============================] - 0s 0s/step - loss: 70.9092\n",
      "Epoch 44/100\n",
      "1/1 [==============================] - 0s 0s/step - loss: 70.9080\n",
      "Epoch 45/100\n",
      "1/1 [==============================] - 0s 16ms/step - loss: 70.9069\n",
      "Epoch 46/100\n",
      "1/1 [==============================] - 0s 18ms/step - loss: 70.9057\n",
      "Epoch 47/100\n",
      "1/1 [==============================] - 0s 0s/step - loss: 70.9045\n",
      "Epoch 48/100\n",
      "1/1 [==============================] - 0s 0s/step - loss: 70.9033\n",
      "Epoch 49/100\n",
      "1/1 [==============================] - 0s 14ms/step - loss: 70.9022\n",
      "Epoch 50/100\n",
      "1/1 [==============================] - 0s 21ms/step - loss: 70.9010\n",
      "Epoch 51/100\n",
      "1/1 [==============================] - 0s 0s/step - loss: 70.8998\n",
      "Epoch 52/100\n",
      "1/1 [==============================] - 0s 2ms/step - loss: 70.8986\n",
      "Epoch 53/100\n",
      "1/1 [==============================] - 0s 15ms/step - loss: 70.8974\n",
      "Epoch 54/100\n",
      "1/1 [==============================] - 0s 15ms/step - loss: 70.8963\n",
      "Epoch 55/100\n",
      "1/1 [==============================] - 0s 23ms/step - loss: 70.8951\n",
      "Epoch 56/100\n",
      "1/1 [==============================] - 0s 15ms/step - loss: 70.8939\n",
      "Epoch 57/100\n",
      "1/1 [==============================] - 0s 10ms/step - loss: 70.8927\n",
      "Epoch 58/100\n",
      "1/1 [==============================] - 0s 11ms/step - loss: 70.8916\n",
      "Epoch 59/100\n",
      "1/1 [==============================] - 0s 0s/step - loss: 70.8904\n",
      "Epoch 60/100\n",
      "1/1 [==============================] - 0s 18ms/step - loss: 70.8892\n",
      "Epoch 61/100\n",
      "1/1 [==============================] - 0s 0s/step - loss: 70.8880\n",
      "Epoch 62/100\n",
      "1/1 [==============================] - 0s 6ms/step - loss: 70.8868\n",
      "Epoch 63/100\n",
      "1/1 [==============================] - 0s 11ms/step - loss: 70.8857\n",
      "Epoch 64/100\n",
      "1/1 [==============================] - 0s 3ms/step - loss: 70.8845\n",
      "Epoch 65/100\n",
      "1/1 [==============================] - 0s 7ms/step - loss: 70.8833\n",
      "Epoch 66/100\n",
      "1/1 [==============================] - 0s 12ms/step - loss: 70.8821\n",
      "Epoch 67/100\n",
      "1/1 [==============================] - 0s 3ms/step - loss: 70.8810\n",
      "Epoch 68/100\n",
      "1/1 [==============================] - 0s 6ms/step - loss: 70.8798\n",
      "Epoch 69/100\n",
      "1/1 [==============================] - 0s 9ms/step - loss: 70.8786\n",
      "Epoch 70/100\n",
      "1/1 [==============================] - 0s 5ms/step - loss: 70.8774\n",
      "Epoch 71/100\n",
      "1/1 [==============================] - 0s 12ms/step - loss: 70.8762\n",
      "Epoch 72/100\n",
      "1/1 [==============================] - 0s 4ms/step - loss: 70.8751\n",
      "Epoch 73/100\n",
      "1/1 [==============================] - 0s 7ms/step - loss: 70.8739\n",
      "Epoch 74/100\n",
      "1/1 [==============================] - 0s 13ms/step - loss: 70.8727\n",
      "Epoch 75/100\n",
      "1/1 [==============================] - 0s 11ms/step - loss: 70.8715\n",
      "Epoch 76/100\n",
      "1/1 [==============================] - 0s 8ms/step - loss: 70.8704\n",
      "Epoch 77/100\n",
      "1/1 [==============================] - 0s 9ms/step - loss: 70.8692\n",
      "Epoch 78/100\n",
      "1/1 [==============================] - 0s 8ms/step - loss: 70.8680\n",
      "Epoch 79/100\n",
      "1/1 [==============================] - 0s 6ms/step - loss: 70.8668\n",
      "Epoch 80/100\n",
      "1/1 [==============================] - 0s 12ms/step - loss: 70.8657\n",
      "Epoch 81/100\n",
      "1/1 [==============================] - 0s 2ms/step - loss: 70.8645\n",
      "Epoch 82/100\n",
      "1/1 [==============================] - 0s 7ms/step - loss: 70.8633\n",
      "Epoch 83/100\n",
      "1/1 [==============================] - 0s 10ms/step - loss: 70.8621\n",
      "Epoch 84/100\n",
      "1/1 [==============================] - 0s 5ms/step - loss: 70.8610\n",
      "Epoch 85/100\n",
      "1/1 [==============================] - 0s 7ms/step - loss: 70.8598\n",
      "Epoch 86/100\n",
      "1/1 [==============================] - 0s 9ms/step - loss: 70.8586\n",
      "Epoch 87/100\n",
      "1/1 [==============================] - 0s 5ms/step - loss: 70.8574\n",
      "Epoch 88/100\n",
      "1/1 [==============================] - 0s 12ms/step - loss: 70.8562\n",
      "Epoch 89/100\n",
      "1/1 [==============================] - 0s 6ms/step - loss: 70.8551\n",
      "Epoch 90/100\n",
      "1/1 [==============================] - 0s 6ms/step - loss: 70.8539\n",
      "Epoch 91/100\n",
      "1/1 [==============================] - 0s 9ms/step - loss: 70.8527\n",
      "Epoch 92/100\n",
      "1/1 [==============================] - 0s 6ms/step - loss: 70.8515\n",
      "Epoch 93/100\n",
      "1/1 [==============================] - 0s 11ms/step - loss: 70.8503\n",
      "Epoch 94/100\n",
      "1/1 [==============================] - 0s 5ms/step - loss: 70.8492\n",
      "Epoch 95/100\n",
      "1/1 [==============================] - 0s 6ms/step - loss: 70.8480\n",
      "Epoch 96/100\n",
      "1/1 [==============================] - 0s 9ms/step - loss: 70.8468\n",
      "Epoch 97/100\n",
      "1/1 [==============================] - 0s 6ms/step - loss: 70.8456\n",
      "Epoch 98/100\n",
      "1/1 [==============================] - 0s 10ms/step - loss: 70.8445\n",
      "Epoch 99/100\n",
      "1/1 [==============================] - 0s 4ms/step - loss: 70.8433\n",
      "Epoch 100/100\n",
      "1/1 [==============================] - 0s 6ms/step - loss: 70.8421\n"
     ]
    },
    {
     "data": {
      "text/plain": [
       "<keras.src.callbacks.History at 0x21d33e1ead0>"
      ]
     },
     "execution_count": 31,
     "metadata": {},
     "output_type": "execute_result"
    }
   ],
   "source": [
    "# Fit the model\n",
    "model.fit(games_tourney_train[['seed_diff', 'pred']],\n",
    "          games_tourney_train[['score_1', 'score_2']],\n",
    "          verbose=True,\n",
    "          epochs=100,\n",
    "          batch_size=16384)"
   ]
  },
  {
   "cell_type": "code",
   "execution_count": 32,
   "id": "23339363",
   "metadata": {},
   "outputs": [
    {
     "name": "stdout",
     "output_type": "stream",
     "text": [
      "[array([[-0.8972172,  1.2215649],\n",
      "       [ 1.2616904, -0.930591 ]], dtype=float32), array([0.09999933, 0.09999933], dtype=float32)]\n",
      "season        2001.397492\n",
      "team_1        5593.078449\n",
      "team_2        5616.694955\n",
      "home             0.000000\n",
      "seed_diff        0.053952\n",
      "score_diff      -0.070283\n",
      "score_1         70.934966\n",
      "score_2         71.005249\n",
      "won              0.500437\n",
      "pred             0.123378\n",
      "dtype: float64\n"
     ]
    }
   ],
   "source": [
    "# Print the model's weights\n",
    "print(model.get_weights())\n",
    "\n",
    "# Print the column means of the training data\n",
    "print(games_tourney_train.mean())"
   ]
  },
  {
   "cell_type": "code",
   "execution_count": 33,
   "id": "7c0604d9",
   "metadata": {},
   "outputs": [
    {
     "name": "stdout",
     "output_type": "stream",
     "text": [
      "71.73503875732422\n"
     ]
    }
   ],
   "source": [
    "# Evaluate the model on the tournament test data\n",
    "print(model.evaluate(games_tourney_test[['seed_diff', 'pred']], games_tourney_test[['score_1', 'score_2']], verbose=False))"
   ]
  },
  {
   "cell_type": "code",
   "execution_count": 34,
   "id": "89231e3c",
   "metadata": {},
   "outputs": [],
   "source": [
    "# Create an input layer with 2 columns\n",
    "input_tensor = Input((2,))\n",
    "\n",
    "# Create the first output\n",
    "output_tensor_1 = Dense(1, activation='linear', use_bias=False)(input_tensor)\n",
    "\n",
    "# Create the second output (use the first output as input here)\n",
    "output_tensor_2 = Dense(1, activation='sigmoid', use_bias=False)(output_tensor_1)\n",
    "\n",
    "# Create a model with 2 outputs\n",
    "model = Model(input_tensor, [output_tensor_1, output_tensor_2])"
   ]
  },
  {
   "cell_type": "code",
   "execution_count": 35,
   "id": "4017689b",
   "metadata": {},
   "outputs": [
    {
     "name": "stdout",
     "output_type": "stream",
     "text": [
      "Epoch 1/10\n",
      "1/1 [==============================] - 1s 604ms/step - loss: 12.7892 - dense_6_loss: 11.8458 - dense_7_loss: 0.9434\n",
      "Epoch 2/10\n",
      "1/1 [==============================] - 0s 11ms/step - loss: 12.6973 - dense_6_loss: 11.8074 - dense_7_loss: 0.8899\n",
      "Epoch 3/10\n",
      "1/1 [==============================] - 0s 14ms/step - loss: 12.6097 - dense_6_loss: 11.7690 - dense_7_loss: 0.8407\n",
      "Epoch 4/10\n",
      "1/1 [==============================] - 0s 12ms/step - loss: 12.5265 - dense_6_loss: 11.7307 - dense_7_loss: 0.7959\n",
      "Epoch 5/10\n",
      "1/1 [==============================] - 0s 13ms/step - loss: 12.4479 - dense_6_loss: 11.6925 - dense_7_loss: 0.7555\n",
      "Epoch 6/10\n",
      "1/1 [==============================] - 0s 16ms/step - loss: 12.3739 - dense_6_loss: 11.6545 - dense_7_loss: 0.7195\n",
      "Epoch 7/10\n",
      "1/1 [==============================] - 0s 16ms/step - loss: 12.3045 - dense_6_loss: 11.6167 - dense_7_loss: 0.6878\n",
      "Epoch 8/10\n",
      "1/1 [==============================] - 0s 12ms/step - loss: 12.2395 - dense_6_loss: 11.5792 - dense_7_loss: 0.6603\n",
      "Epoch 9/10\n",
      "1/1 [==============================] - 0s 14ms/step - loss: 12.1787 - dense_6_loss: 11.5420 - dense_7_loss: 0.6366\n",
      "Epoch 10/10\n",
      "1/1 [==============================] - 0s 12ms/step - loss: 12.1219 - dense_6_loss: 11.5052 - dense_7_loss: 0.6167\n"
     ]
    },
    {
     "data": {
      "text/plain": [
       "<keras.src.callbacks.History at 0x21d33efa4d0>"
      ]
     },
     "execution_count": 35,
     "metadata": {},
     "output_type": "execute_result"
    }
   ],
   "source": [
    "# Import the Adam optimizer\n",
    "from tensorflow.keras.optimizers import Adam\n",
    "\n",
    "# Compile the model with 2 losses and the Adam optimzer with a higher learning rate\n",
    "model.compile(loss=['mean_absolute_error', 'binary_crossentropy'], optimizer=Adam(learning_rate=0.01))\n",
    "\n",
    "# Fit the model to the tournament training data, with 2 inputs and 2 outputs\n",
    "model.fit(games_tourney_train[['seed_diff', 'pred']],\n",
    "          [games_tourney_train[['score_diff']], games_tourney_train[['won']]],\n",
    "          epochs=10,\n",
    "          verbose=True,\n",
    "          batch_size=16384)"
   ]
  },
  {
   "cell_type": "code",
   "execution_count": 36,
   "id": "6fd2597c",
   "metadata": {},
   "outputs": [
    {
     "name": "stdout",
     "output_type": "stream",
     "text": [
      "[array([[ 0.0435918],\n",
      "       [-1.0518106]], dtype=float32), array([[1.6181574]], dtype=float32)]\n",
      "season        2001.397492\n",
      "team_1        5593.078449\n",
      "team_2        5616.694955\n",
      "home             0.000000\n",
      "seed_diff        0.053952\n",
      "score_diff      -0.070283\n",
      "score_1         70.934966\n",
      "score_2         71.005249\n",
      "won              0.500437\n",
      "pred             0.123378\n",
      "dtype: float64\n"
     ]
    }
   ],
   "source": [
    "# Print the model weights\n",
    "print(model.get_weights())\n",
    "\n",
    "# Print the training data means\n",
    "print(games_tourney_train.mean())"
   ]
  },
  {
   "cell_type": "code",
   "execution_count": 37,
   "id": "25a00e79",
   "metadata": {},
   "outputs": [
    {
     "name": "stdout",
     "output_type": "stream",
     "text": [
      "0.5349429451582145\n",
      "0.8021838885585818\n"
     ]
    }
   ],
   "source": [
    "# Import the sigmoid function from scipy\n",
    "from scipy.special import expit as sigmoid\n",
    "\n",
    "# Weight from the model\n",
    "weight = 0.14\n",
    "\n",
    "# Print the approximate win probability predicted close game\n",
    "print(sigmoid(1 * weight))\n",
    "\n",
    "# Print the approximate win probability predicted blowout game\n",
    "print(sigmoid(10 * weight))"
   ]
  },
  {
   "cell_type": "code",
   "execution_count": 38,
   "id": "0bcb859d",
   "metadata": {},
   "outputs": [
    {
     "name": "stdout",
     "output_type": "stream",
     "text": [
      "[12.397934913635254, 11.788229942321777, 0.6097074747085571]\n"
     ]
    }
   ],
   "source": [
    "# Evaluate the model on new data\n",
    "print(model.evaluate(games_tourney_test[['seed_diff', 'pred']],\n",
    "               [games_tourney_test[['score_diff']], games_tourney_test[['won']]], verbose=False))"
   ]
  }
 ],
 "metadata": {
  "kernelspec": {
   "display_name": "Python 3 (ipykernel)",
   "language": "python",
   "name": "python3"
  },
  "language_info": {
   "codemirror_mode": {
    "name": "ipython",
    "version": 3
   },
   "file_extension": ".py",
   "mimetype": "text/x-python",
   "name": "python",
   "nbconvert_exporter": "python",
   "pygments_lexer": "ipython3",
   "version": "3.10.5"
  }
 },
 "nbformat": 4,
 "nbformat_minor": 5
}
