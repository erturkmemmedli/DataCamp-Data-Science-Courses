{
 "cells": [
  {
   "cell_type": "markdown",
   "id": "55b652f4",
   "metadata": {},
   "source": [
    "# Working with Categorical Data in Python"
   ]
  },
  {
   "cell_type": "markdown",
   "id": "b3384a8f",
   "metadata": {},
   "source": [
    "## 1. Introduction to Categorical Data"
   ]
  },
  {
   "cell_type": "markdown",
   "id": "ad0bcf03",
   "metadata": {},
   "source": [
    "Answer:\n",
    "\n",
    "Categorical\n",
    "1. Education Number: The level of highest education a person has reached.\n",
    "2. Country: The country the person lives in.\n",
    "3. Race: The race of the person.\n",
    "\n",
    "Numerical\n",
    "1. Income: The number of dollars a person earned.\n",
    "2. Hours/Week: The number of hours worked each week.\n",
    "3. Age: The age (in years) of the person."
   ]
  },
  {
   "cell_type": "code",
   "execution_count": 2,
   "id": "28f06e1a",
   "metadata": {},
   "outputs": [
    {
     "data": {
      "text/html": [
       "<div>\n",
       "<style scoped>\n",
       "    .dataframe tbody tr th:only-of-type {\n",
       "        vertical-align: middle;\n",
       "    }\n",
       "\n",
       "    .dataframe tbody tr th {\n",
       "        vertical-align: top;\n",
       "    }\n",
       "\n",
       "    .dataframe thead th {\n",
       "        text-align: right;\n",
       "    }\n",
       "</style>\n",
       "<table border=\"1\" class=\"dataframe\">\n",
       "  <thead>\n",
       "    <tr style=\"text-align: right;\">\n",
       "      <th></th>\n",
       "      <th>Age</th>\n",
       "      <th>Workclass</th>\n",
       "      <th>fnlgwt</th>\n",
       "      <th>Education</th>\n",
       "      <th>Education Num</th>\n",
       "      <th>Marital Status</th>\n",
       "      <th>Occupation</th>\n",
       "      <th>Relationship</th>\n",
       "      <th>Race</th>\n",
       "      <th>Sex</th>\n",
       "      <th>Capital Gain</th>\n",
       "      <th>Capital Loss</th>\n",
       "      <th>Hours/Week</th>\n",
       "      <th>Country</th>\n",
       "      <th>Above/Below 50k</th>\n",
       "    </tr>\n",
       "  </thead>\n",
       "  <tbody>\n",
       "    <tr>\n",
       "      <th>0</th>\n",
       "      <td>39</td>\n",
       "      <td>State-gov</td>\n",
       "      <td>77516</td>\n",
       "      <td>Bachelors</td>\n",
       "      <td>13</td>\n",
       "      <td>Never-married</td>\n",
       "      <td>Adm-clerical</td>\n",
       "      <td>Not-in-family</td>\n",
       "      <td>White</td>\n",
       "      <td>Male</td>\n",
       "      <td>2174</td>\n",
       "      <td>0</td>\n",
       "      <td>40</td>\n",
       "      <td>United-States</td>\n",
       "      <td>&lt;=50K</td>\n",
       "    </tr>\n",
       "    <tr>\n",
       "      <th>1</th>\n",
       "      <td>50</td>\n",
       "      <td>Self-emp-not-inc</td>\n",
       "      <td>83311</td>\n",
       "      <td>Bachelors</td>\n",
       "      <td>13</td>\n",
       "      <td>Married-civ-spouse</td>\n",
       "      <td>Exec-managerial</td>\n",
       "      <td>Husband</td>\n",
       "      <td>White</td>\n",
       "      <td>Male</td>\n",
       "      <td>0</td>\n",
       "      <td>0</td>\n",
       "      <td>13</td>\n",
       "      <td>United-States</td>\n",
       "      <td>&lt;=50K</td>\n",
       "    </tr>\n",
       "    <tr>\n",
       "      <th>2</th>\n",
       "      <td>38</td>\n",
       "      <td>Private</td>\n",
       "      <td>215646</td>\n",
       "      <td>HS-grad</td>\n",
       "      <td>9</td>\n",
       "      <td>Divorced</td>\n",
       "      <td>Handlers-cleaners</td>\n",
       "      <td>Not-in-family</td>\n",
       "      <td>White</td>\n",
       "      <td>Male</td>\n",
       "      <td>0</td>\n",
       "      <td>0</td>\n",
       "      <td>40</td>\n",
       "      <td>United-States</td>\n",
       "      <td>&lt;=50K</td>\n",
       "    </tr>\n",
       "    <tr>\n",
       "      <th>3</th>\n",
       "      <td>53</td>\n",
       "      <td>Private</td>\n",
       "      <td>234721</td>\n",
       "      <td>11th</td>\n",
       "      <td>7</td>\n",
       "      <td>Married-civ-spouse</td>\n",
       "      <td>Handlers-cleaners</td>\n",
       "      <td>Husband</td>\n",
       "      <td>Black</td>\n",
       "      <td>Male</td>\n",
       "      <td>0</td>\n",
       "      <td>0</td>\n",
       "      <td>40</td>\n",
       "      <td>United-States</td>\n",
       "      <td>&lt;=50K</td>\n",
       "    </tr>\n",
       "    <tr>\n",
       "      <th>4</th>\n",
       "      <td>28</td>\n",
       "      <td>Private</td>\n",
       "      <td>338409</td>\n",
       "      <td>Bachelors</td>\n",
       "      <td>13</td>\n",
       "      <td>Married-civ-spouse</td>\n",
       "      <td>Prof-specialty</td>\n",
       "      <td>Wife</td>\n",
       "      <td>Black</td>\n",
       "      <td>Female</td>\n",
       "      <td>0</td>\n",
       "      <td>0</td>\n",
       "      <td>40</td>\n",
       "      <td>Cuba</td>\n",
       "      <td>&lt;=50K</td>\n",
       "    </tr>\n",
       "  </tbody>\n",
       "</table>\n",
       "</div>"
      ],
      "text/plain": [
       "   Age          Workclass  fnlgwt   Education  Education Num  \\\n",
       "0   39          State-gov   77516   Bachelors             13   \n",
       "1   50   Self-emp-not-inc   83311   Bachelors             13   \n",
       "2   38            Private  215646     HS-grad              9   \n",
       "3   53            Private  234721        11th              7   \n",
       "4   28            Private  338409   Bachelors             13   \n",
       "\n",
       "        Marital Status          Occupation    Relationship    Race      Sex  \\\n",
       "0        Never-married        Adm-clerical   Not-in-family   White     Male   \n",
       "1   Married-civ-spouse     Exec-managerial         Husband   White     Male   \n",
       "2             Divorced   Handlers-cleaners   Not-in-family   White     Male   \n",
       "3   Married-civ-spouse   Handlers-cleaners         Husband   Black     Male   \n",
       "4   Married-civ-spouse      Prof-specialty            Wife   Black   Female   \n",
       "\n",
       "   Capital Gain  Capital Loss  Hours/Week         Country Above/Below 50k  \n",
       "0          2174             0          40   United-States           <=50K  \n",
       "1             0             0          13   United-States           <=50K  \n",
       "2             0             0          40   United-States           <=50K  \n",
       "3             0             0          40   United-States           <=50K  \n",
       "4             0             0          40            Cuba           <=50K  "
      ]
     },
     "execution_count": 2,
     "metadata": {},
     "output_type": "execute_result"
    }
   ],
   "source": [
    "import pandas as pd\n",
    "\n",
    "adult = pd.read_csv('adult.csv')\n",
    "adult.head()"
   ]
  },
  {
   "cell_type": "code",
   "execution_count": 5,
   "id": "c0ea3bc5",
   "metadata": {},
   "outputs": [
    {
     "name": "stdout",
     "output_type": "stream",
     "text": [
      "count      32561\n",
      "unique         2\n",
      "top        <=50K\n",
      "freq       24720\n",
      "Name: Above/Below 50k, dtype: object\n",
      " <=50K    24720\n",
      " >50K      7841\n",
      "Name: Above/Below 50k, dtype: int64\n",
      " <=50K    0.75919\n",
      " >50K     0.24081\n",
      "Name: Above/Below 50k, dtype: float64\n"
     ]
    }
   ],
   "source": [
    "# Explore the Above/Below 50k variable\n",
    "print(adult[\"Above/Below 50k\"].describe())\n",
    "\n",
    "# Print a frequency table of \"Above/Below 50k\"\n",
    "print(adult[\"Above/Below 50k\"].value_counts())\n",
    "\n",
    "# Print relative frequency values\n",
    "print(adult[\"Above/Below 50k\"].value_counts(normalize=True))"
   ]
  },
  {
   "cell_type": "markdown",
   "id": "cb9c118a",
   "metadata": {},
   "source": [
    "Answer: Less than $50,000"
   ]
  },
  {
   "cell_type": "code",
   "execution_count": 6,
   "id": "deb712e7",
   "metadata": {},
   "outputs": [],
   "source": [
    "list_of_occupations = ['Data Scientist', 'Data Analyst', 'Data Scientist', 'Statistician', 'Data Scientist', 'Data Scientist', 'Statistician', 'Data Scientist', 'Data Analyst', 'Data Analyst', 'Data Scientist', 'Data Scientist', 'Data Scientist', 'Data Scientist', 'Data Scientist', 'Data Analyst', 'Data Scientist', 'Data Scientist', 'Data Analyst', 'Data Scientist', 'Data Scientist', 'Data Scientist', 'Data Scientist', 'Data Scientist', 'Data Scientist', 'Data Analyst', 'Data Scientist', 'Data Scientist', 'Data Scientist', 'Data Scientist', 'Data Analyst', 'Data Scientist', 'Data Scientist', 'Data Scientist', 'Data Scientist', 'Data Scientist', 'Statistician', 'Data Analyst', 'Data Scientist', 'Data Scientist', 'Data Scientist', 'Data Analyst', 'Data Scientist', 'Data Scientist', 'Data Analyst', 'Data Scientist', 'Data Scientist', 'Data Analyst', 'Data Analyst', 'Data Scientist', 'Data Analyst', 'Data Scientist', 'Statistician', 'Data Scientist', 'Data Scientist', 'Statistician', 'Data Scientist', 'Data Scientist', 'Statistician', 'Data Scientist', 'Data Scientist', 'Data Scientist', 'Statistician', 'Statistician', 'Data Analyst', 'Data Analyst', 'Data Scientist', 'Data Scientist', 'Data Scientist', 'Data Scientist', 'Data Scientist', 'Data Scientist', 'Data Scientist', 'Statistician', 'Statistician', 'Data Scientist', 'Data Scientist', 'Data Scientist', 'Data Scientist', 'Data Scientist', 'Data Scientist', 'Data Scientist', 'Data Analyst', 'Data Scientist', 'Data Scientist', 'Data Scientist', 'Data Analyst', 'Statistician', 'Data Analyst', 'Data Scientist', 'Data Analyst', 'Data Scientist', 'Data Scientist', 'Data Scientist', 'Data Scientist', 'Statistician', 'Data Scientist', 'Data Scientist', 'Data Analyst', 'Data Analyst', 'Data Analyst', 'Data Scientist', 'Data Scientist', 'Data Scientist', 'Data Analyst', 'Data Analyst', 'Data Analyst', 'Data Scientist', 'Data Analyst', 'Data Analyst', 'Data Scientist', 'Data Scientist', 'Data Scientist', 'Data Scientist', 'Data Scientist', 'Data Scientist', 'Data Scientist', 'Statistician', 'Data Analyst', 'Data Scientist', 'Data Scientist', 'Statistician', 'Statistician', 'Data Scientist', 'Data Scientist', 'Statistician', 'Data Analyst', 'Data Scientist', 'Data Scientist', 'Data Scientist', 'Data Scientist', 'Statistician', 'Statistician', 'Data Analyst', 'Data Scientist', 'Data Analyst', 'Data Scientist', 'Data Scientist', 'Data Scientist', 'Data Scientist', 'Data Scientist', 'Data Scientist', 'Data Scientist', 'Data Scientist', 'Data Analyst', 'Data Scientist', 'Data Scientist', 'Statistician', 'Data Analyst', 'Data Scientist', 'Data Scientist', 'Data Scientist', 'Statistician', 'Data Scientist', 'Data Scientist', 'Data Scientist', 'Data Analyst', 'Data Scientist', 'Data Analyst', 'Data Scientist', 'Statistician', 'Data Scientist', 'Data Scientist', 'Data Analyst', 'Data Scientist', 'Statistician', 'Data Scientist', 'Data Scientist', 'Data Scientist', 'Statistician', 'Statistician', 'Statistician', 'Data Scientist', 'Data Analyst', 'Statistician', 'Data Analyst', 'Data Scientist', 'Data Scientist', 'Data Analyst', 'Data Scientist', 'Data Analyst', 'Data Scientist', 'Data Scientist', 'Data Scientist', 'Data Scientist', 'Data Scientist', 'Data Scientist', 'Data Scientist', 'Statistician', 'Data Scientist', 'Data Scientist', 'Data Scientist', 'Data Scientist', 'Data Scientist', 'Data Analyst', 'Data Scientist', 'Data Scientist', 'Data Analyst', 'Data Analyst', 'Data Analyst', 'Data Analyst', 'Data Scientist', 'Data Analyst', 'Data Scientist', 'Data Analyst', 'Data Scientist', 'Data Scientist', 'Data Scientist', 'Data Scientist', 'Data Scientist', 'Data Scientist', 'Data Scientist', 'Statistician', 'Data Scientist', 'Statistician', 'Data Scientist', 'Statistician', 'Data Analyst', 'Data Analyst', 'Data Scientist', 'Data Analyst', 'Data Analyst', 'Data Scientist', 'Statistician', 'Data Analyst', 'Data Analyst', 'Data Scientist', 'Data Analyst', 'Data Scientist', 'Data Scientist', 'Data Scientist', 'Data Analyst', 'Data Analyst', 'Data Scientist', 'Data Analyst', 'Data Scientist', 'Data Scientist', 'Data Scientist', 'Data Scientist', 'Data Scientist', 'Data Analyst', 'Data Scientist', 'Data Scientist', 'Data Scientist', 'Data Scientist', 'Data Scientist', 'Data Scientist', 'Data Scientist', 'Statistician', 'Data Scientist', 'Data Analyst', 'Data Scientist', 'Statistician', 'Statistician', 'Data Scientist', 'Statistician', 'Data Scientist', 'Data Scientist', 'Data Scientist', 'Data Scientist', 'Data Scientist', 'Statistician', 'Data Analyst', 'Data Scientist', 'Data Scientist', 'Data Scientist', 'Data Scientist', 'Data Scientist', 'Data Scientist', 'Data Analyst', 'Data Scientist', 'Data Scientist', 'Data Scientist', 'Data Scientist', 'Data Scientist', 'Statistician', 'Data Scientist', 'Data Scientist', 'Data Scientist', 'Data Scientist', 'Data Analyst', 'Data Scientist', 'Data Scientist', 'Data Analyst', 'Statistician', 'Data Scientist', 'Statistician', 'Data Scientist', 'Data Scientist', 'Statistician', 'Data Scientist', 'Data Scientist', 'Data Scientist', 'Data Scientist', 'Data Scientist', 'Data Analyst', 'Data Scientist', 'Data Analyst', 'Data Scientist', 'Data Scientist', 'Statistician', 'Data Scientist', 'Data Scientist', 'Data Analyst', 'Data Scientist', 'Data Scientist', 'Data Scientist', 'Data Analyst', 'Data Scientist', 'Data Scientist', 'Data Scientist', 'Data Analyst', 'Data Scientist', 'Data Scientist', 'Data Scientist', 'Data Scientist', 'Data Scientist', 'Data Scientist', 'Data Analyst', 'Data Scientist', 'Data Scientist', 'Data Analyst', 'Data Scientist', 'Data Scientist', 'Data Analyst', 'Data Analyst', 'Data Analyst', 'Data Scientist', 'Data Scientist', 'Data Scientist', 'Data Scientist', 'Data Scientist', 'Data Analyst', 'Statistician', 'Data Scientist', 'Data Scientist', 'Data Scientist', 'Data Scientist', 'Data Scientist', 'Statistician', 'Data Scientist', 'Data Analyst', 'Data Scientist', 'Data Scientist', 'Statistician', 'Data Analyst', 'Data Scientist', 'Data Analyst', 'Data Analyst', 'Data Analyst', 'Data Scientist', 'Data Scientist', 'Statistician', 'Statistician', 'Data Scientist', 'Data Scientist', 'Data Scientist', 'Data Scientist', 'Data Scientist', 'Data Analyst', 'Data Analyst', 'Data Scientist', 'Data Scientist', 'Data Scientist', 'Data Analyst', 'Data Analyst', 'Data Scientist', 'Data Scientist', 'Data Analyst', 'Data Scientist', 'Data Scientist', 'Data Scientist', 'Data Analyst', 'Data Analyst', 'Data Scientist', 'Data Scientist', 'Data Analyst', 'Data Scientist', 'Data Analyst', 'Data Scientist', 'Data Scientist', 'Data Scientist', 'Data Scientist', 'Data Analyst', 'Data Scientist', 'Data Scientist', 'Data Scientist', 'Statistician', 'Data Scientist', 'Data Scientist', 'Statistician', 'Data Analyst', 'Data Scientist', 'Data Analyst', 'Data Scientist', 'Data Analyst', 'Statistician', 'Data Scientist', 'Statistician', 'Data Analyst', 'Data Scientist', 'Data Scientist', 'Data Scientist', 'Data Scientist', 'Data Scientist', 'Data Scientist', 'Data Scientist', 'Data Analyst', 'Data Analyst', 'Statistician', 'Data Scientist', 'Data Analyst', 'Data Scientist', 'Statistician', 'Data Analyst', 'Data Scientist', 'Data Scientist', 'Data Scientist', 'Data Scientist', 'Data Scientist', 'Statistician', 'Data Scientist', 'Data Scientist', 'Data Scientist', 'Data Scientist', 'Data Scientist', 'Statistician', 'Data Analyst', 'Statistician', 'Data Scientist', 'Statistician', 'Data Scientist', 'Data Analyst', 'Data Scientist', 'Data Analyst', 'Data Analyst', 'Data Scientist', 'Statistician', 'Data Scientist', 'Data Scientist', 'Data Scientist', 'Data Scientist', 'Data Scientist', 'Data Analyst', 'Statistician', 'Data Scientist', 'Statistician', 'Data Scientist', 'Data Analyst', 'Statistician', 'Data Scientist', 'Data Scientist', 'Data Scientist', 'Data Scientist', 'Data Scientist', 'Data Scientist', 'Data Scientist', 'Statistician', 'Statistician', 'Data Scientist', 'Data Scientist', 'Data Scientist', 'Statistician', 'Data Scientist', 'Data Analyst', 'Data Scientist', 'Data Scientist', 'Data Analyst', 'Data Analyst', 'Data Scientist', 'Data Scientist', 'Data Scientist', 'Data Analyst', 'Data Scientist', 'Statistician', 'Data Analyst', 'Data Scientist', 'Data Scientist', 'Statistician', 'Data Scientist', 'Data Scientist', 'Data Scientist', 'Data Scientist', 'Data Scientist', 'Data Scientist', 'Data Scientist', 'Data Analyst', 'Data Analyst', 'Data Scientist', 'Data Scientist', 'Data Scientist', 'Data Scientist', 'Data Scientist', 'Data Scientist', 'Data Scientist', 'Data Scientist', 'Statistician', 'Data Scientist', 'Data Analyst', 'Data Scientist',\n",
    "                       'Data Analyst', 'Statistician', 'Statistician', 'Data Scientist', 'Data Scientist', 'Data Scientist', 'Statistician', 'Data Scientist', 'Data Analyst', 'Data Scientist', 'Data Scientist', 'Data Scientist', 'Data Scientist', 'Data Scientist', 'Data Analyst', 'Data Analyst', 'Data Scientist', 'Data Scientist', 'Data Scientist', 'Data Analyst', 'Statistician', 'Data Scientist', 'Data Scientist', 'Data Scientist', 'Statistician', 'Data Scientist', 'Statistician', 'Data Scientist', 'Data Scientist', 'Data Scientist', 'Data Analyst', 'Data Analyst', 'Data Analyst', 'Data Scientist', 'Statistician', 'Data Scientist', 'Statistician', 'Data Scientist', 'Data Scientist', 'Statistician', 'Data Scientist', 'Data Analyst', 'Data Scientist', 'Data Scientist', 'Data Scientist', 'Data Scientist', 'Statistician', 'Data Scientist', 'Data Scientist', 'Data Scientist', 'Data Scientist', 'Data Scientist', 'Data Scientist', 'Data Analyst', 'Data Analyst', 'Data Scientist', 'Data Scientist', 'Data Scientist', 'Data Scientist', 'Data Scientist', 'Statistician', 'Data Scientist', 'Data Analyst', 'Data Scientist', 'Data Scientist', 'Data Analyst', 'Data Analyst', 'Statistician', 'Data Scientist', 'Data Scientist', 'Statistician', 'Data Scientist', 'Data Analyst', 'Data Scientist', 'Data Scientist', 'Data Scientist', 'Data Analyst', 'Statistician', 'Data Scientist', 'Data Scientist', 'Statistician', 'Data Analyst', 'Data Analyst', 'Data Analyst', 'Data Scientist', 'Data Scientist', 'Data Analyst', 'Data Scientist', 'Data Scientist', 'Statistician', 'Data Analyst', 'Data Scientist', 'Statistician', 'Data Scientist', 'Data Scientist', 'Data Scientist', 'Data Scientist', 'Data Scientist', 'Data Analyst', 'Data Analyst', 'Data Scientist', 'Data Scientist', 'Data Scientist', 'Data Scientist', 'Statistician', 'Data Scientist', 'Data Analyst', 'Data Scientist', 'Data Scientist', 'Data Scientist', 'Data Scientist', 'Data Scientist', 'Data Scientist', 'Data Scientist', 'Data Scientist', 'Statistician', 'Data Scientist', 'Data Scientist', 'Data Scientist', 'Data Analyst', 'Data Scientist', 'Statistician', 'Statistician', 'Data Scientist', 'Data Scientist', 'Data Scientist', 'Data Analyst', 'Statistician', 'Data Scientist', 'Statistician', 'Data Analyst', 'Data Analyst', 'Data Scientist', 'Data Analyst', 'Data Scientist', 'Statistician', 'Statistician', 'Data Scientist', 'Data Scientist', 'Statistician', 'Data Scientist', 'Data Analyst', 'Data Scientist', 'Data Analyst', 'Statistician', 'Data Analyst', 'Data Scientist', 'Data Scientist', 'Data Scientist', 'Data Scientist', 'Data Scientist', 'Data Scientist', 'Data Scientist', 'Data Scientist', 'Data Scientist', 'Data Analyst', 'Data Scientist', 'Data Analyst', 'Data Scientist', 'Data Scientist', 'Data Scientist', 'Data Scientist', 'Data Analyst', 'Data Scientist', 'Statistician', 'Data Scientist', 'Data Scientist', 'Data Scientist', 'Data Scientist', 'Data Analyst', 'Data Scientist', 'Data Scientist', 'Data Analyst', 'Data Scientist', 'Data Analyst', 'Data Scientist', 'Data Scientist', 'Data Scientist', 'Data Scientist', 'Data Analyst', 'Data Analyst', 'Data Analyst', 'Data Analyst', 'Data Scientist', 'Data Scientist', 'Data Analyst', 'Data Scientist', 'Data Scientist', 'Data Scientist', 'Data Scientist', 'Data Scientist', 'Data Scientist', 'Data Scientist', 'Data Analyst', 'Statistician', 'Data Scientist', 'Data Scientist', 'Data Scientist', 'Data Analyst', 'Data Scientist', 'Data Scientist', 'Data Scientist', 'Data Scientist', 'Data Scientist', 'Data Analyst', 'Statistician', 'Data Scientist', 'Data Scientist', 'Data Scientist', 'Statistician', 'Data Scientist', 'Data Scientist', 'Statistician', 'Data Scientist', 'Data Analyst', 'Data Analyst', 'Data Scientist', 'Data Scientist', 'Data Analyst', 'Data Scientist', 'Data Analyst', 'Data Scientist', 'Statistician', 'Data Scientist', 'Data Scientist', 'Data Scientist', 'Data Scientist', 'Data Scientist', 'Data Analyst', 'Data Scientist', 'Data Scientist', 'Data Scientist', 'Data Scientist', 'Statistician', 'Statistician', 'Statistician', 'Data Scientist', 'Data Scientist', 'Data Analyst', 'Statistician', 'Data Scientist', 'Data Scientist', 'Statistician', 'Data Analyst', 'Data Scientist', 'Data Analyst', 'Data Scientist', 'Data Scientist', 'Data Scientist', 'Data Analyst', 'Data Scientist', 'Statistician', 'Data Scientist', 'Data Analyst', 'Data Scientist', 'Data Scientist', 'Data Scientist', 'Data Scientist', 'Data Scientist', 'Data Analyst', 'Data Scientist', 'Data Scientist', 'Data Scientist', 'Statistician', 'Data Scientist', 'Data Analyst', 'Data Analyst', 'Data Scientist', 'Data Scientist', 'Data Scientist', 'Statistician', 'Data Scientist', 'Data Scientist', 'Data Analyst', 'Data Scientist', 'Data Scientist', 'Data Analyst', 'Statistician', 'Data Scientist', 'Statistician', 'Data Scientist', 'Data Analyst', 'Data Analyst', 'Data Scientist', 'Data Analyst', 'Statistician', 'Statistician', 'Data Analyst', 'Data Scientist', 'Data Analyst', 'Data Analyst', 'Data Scientist', 'Data Scientist', 'Data Scientist', 'Data Scientist', 'Statistician', 'Data Scientist', 'Data Scientist', 'Data Scientist', 'Data Scientist', 'Data Analyst', 'Data Analyst', 'Data Scientist', 'Data Scientist', 'Data Scientist', 'Data Scientist', 'Data Scientist', 'Data Scientist', 'Data Analyst', 'Data Analyst', 'Statistician', 'Data Scientist', 'Data Analyst', 'Data Scientist', 'Data Scientist', 'Data Scientist', 'Data Scientist', 'Statistician', 'Data Scientist', 'Data Scientist', 'Statistician', 'Data Scientist', 'Statistician', 'Data Scientist', 'Data Scientist', 'Data Analyst', 'Data Scientist', 'Data Analyst', 'Statistician', 'Data Scientist', 'Data Scientist', 'Data Scientist', 'Data Scientist', 'Data Scientist', 'Data Scientist', 'Data Scientist', 'Data Scientist', 'Data Scientist', 'Data Scientist', 'Data Scientist', 'Data Analyst', 'Statistician', 'Data Scientist', 'Data Analyst', 'Data Analyst', 'Data Scientist', 'Data Scientist', 'Data Analyst', 'Data Scientist', 'Data Analyst', 'Data Scientist', 'Data Analyst', 'Data Scientist', 'Data Analyst', 'Data Scientist', 'Data Analyst', 'Data Scientist', 'Data Analyst', 'Data Scientist', 'Data Analyst', 'Statistician', 'Statistician', 'Statistician', 'Data Scientist', 'Data Scientist', 'Data Scientist', 'Data Scientist', 'Statistician', 'Data Scientist', 'Data Scientist', 'Data Scientist', 'Data Scientist', 'Data Scientist', 'Data Scientist', 'Data Scientist', 'Statistician', 'Statistician', 'Data Scientist', 'Data Scientist', 'Data Scientist', 'Statistician', 'Data Scientist', 'Data Scientist', 'Data Scientist', 'Data Scientist', 'Data Analyst', 'Data Scientist', 'Data Scientist', 'Data Scientist', 'Data Scientist', 'Data Scientist', 'Data Scientist', 'Data Scientist', 'Data Scientist', 'Statistician', 'Data Analyst', 'Statistician', 'Data Scientist', 'Data Scientist', 'Statistician', 'Statistician', 'Data Analyst', 'Data Scientist', 'Data Scientist', 'Data Analyst', 'Data Analyst', 'Data Analyst', 'Data Scientist', 'Data Analyst', 'Data Scientist', 'Data Scientist', 'Data Scientist', 'Data Scientist', 'Statistician', 'Data Scientist', 'Statistician', 'Data Scientist', 'Data Analyst', 'Data Scientist', 'Data Scientist', 'Data Scientist', 'Data Scientist', 'Statistician', 'Data Analyst', 'Data Scientist', 'Data Analyst', 'Data Scientist', 'Data Scientist', 'Data Analyst', 'Statistician', 'Statistician', 'Data Scientist', 'Data Scientist', 'Data Scientist', 'Data Scientist', 'Data Scientist', 'Data Analyst', 'Data Scientist', 'Statistician', 'Data Scientist', 'Data Scientist', 'Data Analyst', 'Data Analyst', 'Data Analyst', 'Data Analyst', 'Data Scientist', 'Data Scientist', 'Data Analyst', 'Data Analyst', 'Data Scientist', 'Data Scientist', 'Data Analyst', 'Data Analyst', 'Statistician', 'Data Scientist', 'Data Scientist', 'Data Scientist', 'Data Scientist', 'Data Scientist', 'Data Scientist', 'Statistician', 'Data Scientist', 'Data Scientist', 'Data Scientist', 'Statistician', 'Data Analyst', 'Data Scientist', 'Data Scientist', 'Data Scientist', 'Data Scientist', 'Data Analyst', 'Data Analyst', 'Statistician', 'Data Scientist', 'Data Scientist', 'Data Scientist', 'Data Scientist', 'Data Analyst', 'Data Scientist', 'Data Analyst', 'Data Scientist', 'Data Scientist', 'Data Scientist', 'Statistician', 'Statistician', 'Data Scientist', 'Data Scientist', 'Data Analyst', 'Data Scientist', 'Data Scientist', 'Data Scientist', 'Data Analyst', 'Data Scientist', 'Data Scientist', 'Data Scientist', 'Data Scientist', 'Data Scientist', 'Data Scientist', 'Data Scientist', 'Data Scientist','Data Analyst', \n",
    "                       'Data Scientist', 'Statistician', 'Data Analyst', 'Data Scientist', 'Data Scientist', 'Data Scientist', 'Data Scientist', 'Data Scientist', 'Data Analyst', 'Data Scientist', 'Data Scientist', 'Data Scientist', 'Data Scientist', 'Data Scientist', 'Data Scientist', 'Data Scientist', 'Data Analyst', 'Data Analyst', 'Data Analyst', 'Data Scientist', 'Data Analyst', 'Data Scientist', 'Data Scientist', 'Data Analyst', 'Data Scientist', 'Statistician', 'Statistician', 'Data Scientist', 'Data Scientist', 'Data Scientist', 'Data Scientist', 'Data Scientist', 'Data Scientist', 'Data Analyst', 'Statistician', 'Data Scientist', 'Data Scientist', 'Data Scientist', 'Data Analyst', 'Data Scientist', 'Data Scientist', 'Statistician', 'Data Scientist', 'Statistician', 'Data Analyst', 'Data Scientist', 'Data Scientist', 'Data Scientist', 'Data Scientist', 'Data Scientist', 'Data Analyst', 'Data Scientist', 'Data Analyst', 'Data Scientist', 'Data Scientist', 'Data Scientist', 'Data Scientist', 'Data Scientist', 'Data Analyst', 'Data Scientist', 'Data Analyst', 'Statistician', 'Data Scientist', 'Data Scientist', 'Data Analyst', 'Data Scientist', 'Data Analyst', 'Statistician', 'Data Analyst', 'Statistician', 'Statistician', 'Data Analyst', 'Statistician', 'Data Scientist', 'Statistician', 'Data Analyst', 'Data Scientist', 'Data Scientist', 'Data Scientist', 'Data Analyst', 'Data Scientist', 'Data Analyst', 'Data Scientist', 'Statistician', 'Data Analyst', 'Data Scientist', 'Data Scientist', 'Data Analyst', 'Data Scientist', 'Data Scientist', 'Data Scientist', 'Data Scientist', 'Data Analyst', 'Data Analyst', 'Data Scientist', 'Data Scientist', 'Data Scientist', 'Data Scientist', 'Data Analyst', 'Data Scientist', 'Data Analyst', 'Data Scientist', 'Data Scientist', 'Data Scientist', 'Data Analyst', 'Data Scientist', 'Data Scientist', 'Statistician', 'Data Scientist', 'Data Scientist', 'Data Analyst', 'Data Scientist', 'Data Scientist', 'Data Scientist', 'Data Scientist', 'Statistician', 'Data Scientist', 'Statistician', 'Data Scientist', 'Data Analyst', 'Data Scientist', 'Data Scientist', 'Data Scientist', 'Data Scientist', 'Data Analyst', 'Data Scientist', 'Statistician', 'Data Scientist', 'Data Scientist', 'Data Analyst', 'Data Analyst', 'Statistician', 'Data Scientist', 'Data Scientist', 'Data Analyst', 'Statistician', 'Data Scientist', 'Data Scientist', 'Data Scientist', 'Data Scientist', 'Data Scientist', 'Data Scientist', 'Data Scientist', 'Data Analyst', 'Data Scientist', 'Data Analyst', 'Statistician', 'Data Scientist', 'Data Scientist', 'Data Scientist', 'Data Scientist', 'Data Scientist', 'Statistician', 'Data Scientist', 'Data Analyst', 'Data Scientist', 'Data Analyst', 'Data Analyst', 'Data Scientist', 'Data Analyst', 'Statistician', 'Data Analyst', 'Data Scientist', 'Data Scientist', 'Data Scientist', 'Data Analyst', 'Data Analyst', 'Statistician', 'Statistician', 'Statistician', 'Data Scientist', 'Data Scientist', 'Data Scientist', 'Data Scientist', 'Data Scientist', 'Data Scientist', 'Data Scientist', 'Data Scientist', 'Data Scientist', 'Data Scientist', 'Data Scientist', 'Data Analyst', 'Data Scientist', 'Data Scientist', 'Statistician', 'Data Scientist', 'Data Scientist', 'Data Scientist', 'Data Analyst', 'Statistician', 'Data Scientist', 'Data Scientist', 'Data Analyst', 'Data Scientist', 'Data Scientist', 'Data Scientist', 'Data Analyst', 'Data Scientist', 'Data Analyst', 'Data Scientist', 'Statistician', 'Data Scientist', 'Data Scientist', 'Statistician', 'Data Scientist', 'Data Analyst', 'Data Scientist', 'Data Analyst', 'Data Scientist', 'Data Scientist', 'Data Scientist', 'Data Scientist', 'Data Scientist', 'Data Analyst', 'Data Scientist', 'Data Scientist', 'Data Scientist', 'Data Scientist', 'Data Scientist', 'Data Scientist', 'Data Scientist', 'Data Scientist', 'Data Scientist', 'Data Scientist', 'Data Scientist', 'Data Scientist', 'Data Scientist', 'Data Scientist', 'Statistician', 'Data Scientist', 'Data Scientist', 'Data Scientist', 'Data Scientist', 'Data Analyst', 'Data Scientist', 'Data Scientist', 'Data Analyst', 'Statistician', 'Data Scientist', 'Statistician', 'Data Scientist', 'Data Scientist', 'Data Analyst', 'Data Scientist', 'Data Scientist', 'Statistician', 'Data Analyst', 'Statistician', 'Statistician', 'Data Scientist', 'Data Scientist', 'Data Scientist', 'Data Scientist', 'Statistician', 'Data Scientist', 'Data Scientist', 'Data Scientist', 'Data Scientist', 'Data Scientist', 'Data Scientist', 'Data Scientist', 'Statistician', 'Data Scientist', 'Statistician', 'Data Scientist', 'Data Scientist', 'Statistician', 'Data Analyst', 'Data Scientist', 'Statistician', 'Statistician', 'Data Scientist', 'Data Scientist', 'Data Analyst', 'Data Analyst', 'Data Scientist', 'Data Scientist', 'Data Scientist', 'Statistician', 'Data Scientist', 'Data Analyst', 'Data Scientist', 'Data Scientist', 'Data Scientist', 'Data Analyst', 'Data Scientist', 'Data Scientist', 'Data Analyst', 'Data Scientist', 'Statistician', 'Data Scientist', 'Data Scientist', 'Data Analyst', 'Data Scientist', 'Data Analyst', 'Data Analyst', 'Data Analyst', 'Data Scientist', 'Data Analyst', 'Data Scientist', 'Data Scientist', 'Statistician', 'Data Scientist', 'Statistician', 'Data Analyst', 'Data Scientist', 'Data Scientist', 'Statistician', 'Data Scientist', 'Data Scientist', 'Data Scientist', 'Data Scientist', 'Data Scientist', 'Data Scientist', 'Data Scientist', 'Data Scientist', 'Statistician', 'Data Scientist', 'Data Scientist', 'Data Scientist', 'Data Analyst', 'Data Scientist', 'Data Scientist', 'Data Scientist', 'Data Analyst', 'Data Scientist', 'Data Scientist', 'Data Scientist', 'Data Scientist', 'Data Scientist', 'Data Scientist', 'Data Analyst', 'Statistician', 'Data Scientist', 'Statistician', 'Data Analyst', 'Data Scientist', 'Data Analyst', 'Data Scientist', 'Data Scientist', 'Statistician', 'Data Scientist', 'Data Scientist', 'Data Scientist', 'Data Analyst', 'Data Scientist', 'Data Analyst', 'Statistician', 'Statistician', 'Data Analyst', 'Data Scientist', 'Data Analyst', 'Data Scientist', 'Data Analyst', 'Data Scientist', 'Data Scientist', 'Data Scientist', 'Statistician', 'Data Scientist', 'Data Scientist', 'Data Scientist', 'Data Scientist', 'Data Scientist', 'Data Scientist', 'Data Analyst', 'Data Scientist', 'Data Scientist', 'Data Analyst', 'Data Scientist', 'Data Scientist', 'Data Analyst', 'Data Analyst', 'Data Scientist', 'Data Scientist', 'Data Scientist', 'Data Scientist', 'Data Analyst', 'Data Scientist', 'Statistician', 'Data Scientist', 'Data Scientist', 'Data Scientist', 'Data Scientist', 'Data Analyst', 'Data Analyst', 'Data Analyst', 'Data Scientist', 'Data Scientist', 'Data Analyst', 'Statistician', 'Data Scientist', 'Data Analyst', 'Data Scientist', 'Data Scientist', 'Statistician', 'Data Scientist', 'Data Scientist', 'Statistician', 'Data Scientist', 'Statistician', 'Data Analyst', 'Data Analyst', 'Data Analyst', 'Data Analyst', 'Data Scientist', 'Data Analyst', 'Data Scientist', 'Data Scientist', 'Data Scientist', 'Data Analyst', 'Data Scientist', 'Data Scientist', 'Data Scientist', 'Data Scientist', 'Data Scientist', 'Data Scientist', 'Data Scientist', 'Data Analyst', 'Data Scientist', 'Data Analyst', 'Data Scientist', 'Data Scientist', 'Statistician', 'Data Scientist', 'Data Scientist', 'Data Scientist', 'Data Scientist', 'Data Scientist', 'Data Scientist', 'Data Analyst', 'Data Scientist', 'Data Analyst', 'Data Scientist', 'Data Scientist', 'Data Analyst', 'Statistician', 'Data Scientist', 'Data Analyst', 'Data Scientist', 'Data Analyst', 'Data Scientist', 'Data Scientist', 'Data Scientist', 'Data Scientist', 'Data Scientist', 'Statistician', 'Data Scientist', 'Statistician', 'Data Scientist', 'Data Scientist', 'Data Analyst', 'Data Scientist', 'Data Scientist', 'Data Scientist', 'Data Scientist', 'Data Analyst', 'Statistician', 'Data Scientist', 'Data Scientist', 'Data Scientist', 'Data Analyst', 'Data Scientist', 'Statistician', 'Statistician', 'Data Scientist', 'Statistician', 'Data Scientist', 'Data Scientist', 'Data Scientist', 'Data Scientist', 'Statistician', 'Data Scientist', 'Data Scientist', 'Data Analyst', 'Data Analyst', 'Data Scientist', 'Data Analyst', 'Data Analyst', 'Data Analyst', 'Data Scientist', 'Data Scientist', 'Data Scientist', 'Data Scientist', 'Data Scientist', 'Data Scientist', 'Data Analyst', 'Data Scientist', 'Data Scientist', 'Data Scientist', 'Statistician', 'Data Analyst', 'Data Scientist', 'Data Scientist', 'Data Analyst', 'Statistician', 'Statistician', 'Data Scientist', 'Data Scientist', 'Data Analyst', 'Data Scientist', \n",
    "                       'Data Scientist', 'Data Scientist', 'Data Scientist', 'Data Scientist', 'Data Scientist', 'Data Scientist', 'Data Analyst', 'Data Scientist', 'Data Analyst', 'Data Scientist', 'Statistician', 'Data Analyst', 'Data Scientist', 'Statistician', 'Data Scientist', 'Data Scientist', 'Statistician', 'Data Scientist', 'Data Scientist', 'Data Analyst', 'Data Scientist', 'Data Scientist', 'Statistician', 'Data Scientist', 'Data Analyst', 'Data Scientist', 'Statistician', 'Data Scientist', 'Data Scientist', 'Data Scientist', 'Data Analyst', 'Data Scientist', 'Data Scientist', 'Data Scientist', 'Data Scientist', 'Statistician', 'Data Scientist', 'Data Scientist', 'Statistician', 'Data Scientist', 'Data Scientist', 'Data Scientist', 'Data Scientist', 'Data Scientist', 'Statistician', 'Data Scientist', 'Data Scientist', 'Data Scientist', 'Data Scientist', 'Data Scientist', 'Data Analyst', 'Data Scientist', 'Data Scientist', 'Data Analyst', 'Statistician', 'Statistician', 'Data Scientist', 'Data Scientist', 'Data Scientist', 'Data Scientist', 'Data Scientist', 'Data Analyst', 'Data Scientist', 'Data Analyst', 'Data Scientist', 'Data Scientist', 'Data Scientist', 'Data Analyst', 'Data Analyst', 'Data Scientist', 'Data Scientist', 'Data Scientist', 'Data Analyst', 'Data Scientist', 'Data Scientist', 'Data Scientist', 'Data Analyst', 'Data Scientist', 'Data Scientist', 'Data Analyst', 'Data Scientist', 'Data Scientist', 'Data Scientist', 'Data Scientist', 'Data Scientist', 'Data Analyst', 'Data Scientist', 'Data Scientist', 'Data Scientist', 'Data Scientist', 'Data Analyst', 'Data Analyst', 'Data Scientist', 'Data Analyst', 'Statistician', 'Data Scientist', 'Statistician', 'Data Scientist', 'Data Scientist', 'Data Analyst', 'Data Analyst', 'Data Scientist', 'Data Scientist', 'Data Scientist', 'Data Analyst', 'Statistician', 'Data Scientist', 'Data Scientist', 'Data Scientist', 'Data Scientist', 'Data Scientist', 'Data Scientist', 'Data Scientist', 'Data Scientist', 'Statistician', 'Data Scientist', 'Statistician', 'Data Scientist', 'Data Analyst', 'Data Analyst', 'Data Analyst', 'Statistician', 'Data Analyst', 'Data Analyst', 'Statistician', 'Data Scientist', 'Data Scientist', 'Data Analyst', 'Data Analyst', 'Data Scientist', 'Data Scientist', 'Data Scientist', 'Statistician', 'Data Scientist', 'Data Analyst', 'Data Scientist', 'Data Scientist', 'Data Scientist', 'Data Analyst', 'Data Scientist', 'Data Analyst', 'Data Scientist', 'Data Scientist', 'Statistician', 'Data Analyst', 'Data Scientist', 'Statistician', 'Data Scientist', 'Data Analyst', 'Data Scientist', 'Data Analyst', 'Data Analyst', 'Data Scientist', 'Data Scientist', 'Data Analyst', 'Statistician', 'Data Analyst', 'Data Scientist', 'Data Scientist', 'Data Scientist', 'Data Scientist', 'Data Analyst', 'Data Analyst', 'Data Analyst', 'Data Scientist', 'Data Analyst', 'Data Scientist', 'Data Scientist', 'Data Scientist', 'Data Analyst', 'Data Scientist', 'Statistician', 'Data Scientist', 'Data Scientist', 'Data Analyst', 'Data Scientist', 'Data Scientist', 'Data Scientist', 'Data Scientist', 'Data Scientist', 'Data Scientist', 'Data Scientist', 'Data Analyst', 'Data Scientist', 'Data Scientist', 'Data Scientist', 'Data Analyst', 'Data Analyst', 'Data Scientist', 'Data Scientist', 'Data Scientist', 'Data Analyst', 'Data Scientist', 'Data Scientist', 'Statistician', 'Data Scientist', 'Data Scientist', 'Data Scientist', 'Statistician', 'Data Scientist', 'Data Scientist', 'Data Scientist', 'Data Scientist', 'Data Scientist', 'Data Scientist', 'Data Analyst', 'Data Scientist', 'Data Scientist', 'Data Scientist', 'Data Scientist', 'Data Scientist', 'Data Scientist', 'Data Scientist', 'Data Analyst', 'Data Scientist', 'Data Scientist', 'Data Scientist', 'Data Analyst', 'Data Scientist', 'Data Scientist', 'Statistician', 'Data Scientist', 'Data Scientist', 'Data Scientist', 'Data Analyst', 'Data Scientist', 'Data Analyst', 'Data Scientist', 'Statistician', 'Data Scientist', 'Data Scientist', 'Statistician', 'Data Scientist', 'Data Scientist', 'Data Scientist', 'Data Scientist', 'Data Scientist', 'Data Scientist', 'Data Scientist', 'Data Scientist', 'Data Scientist', 'Data Scientist', 'Data Analyst', 'Data Scientist', 'Data Scientist', 'Data Scientist', 'Data Scientist', 'Data Scientist', 'Data Scientist', 'Data Scientist', 'Statistician', 'Data Scientist', 'Data Analyst', 'Statistician', 'Data Analyst', 'Data Scientist', 'Data Scientist', 'Data Analyst', 'Data Scientist', 'Data Analyst', 'Statistician', 'Data Scientist', 'Data Scientist', 'Data Analyst', 'Statistician', 'Data Scientist', 'Statistician', 'Data Analyst', 'Data Scientist', 'Data Scientist', 'Data Analyst', 'Data Analyst', 'Statistician', 'Data Analyst', 'Data Analyst', 'Data Scientist', 'Data Scientist', 'Data Scientist', 'Data Analyst', 'Data Scientist', 'Data Scientist', 'Data Scientist', 'Data Scientist', 'Data Scientist', 'Data Analyst', 'Data Scientist', 'Statistician', 'Data Scientist', 'Data Scientist', 'Data Scientist', 'Data Scientist', 'Data Scientist', 'Data Analyst', 'Statistician', 'Data Scientist', 'Data Analyst', 'Data Scientist', 'Data Analyst', 'Data Scientist', 'Data Scientist', 'Data Analyst', 'Data Analyst', 'Data Analyst', 'Data Scientist', 'Data Scientist', 'Data Scientist', 'Data Scientist', 'Data Scientist', 'Data Analyst', 'Data Analyst', 'Statistician', 'Data Scientist', 'Data Scientist', 'Data Analyst', 'Data Scientist', 'Data Scientist', 'Data Scientist', 'Data Scientist', 'Data Scientist', 'Data Analyst', 'Data Scientist', 'Data Scientist', 'Data Scientist', 'Data Scientist', 'Data Scientist', 'Data Analyst', 'Data Scientist', 'Data Scientist', 'Data Scientist', 'Statistician', 'Data Scientist', 'Data Scientist', 'Data Scientist', 'Data Scientist', 'Data Analyst', 'Data Scientist', 'Data Scientist', 'Data Scientist', 'Statistician', 'Data Scientist', 'Data Scientist', 'Data Scientist', 'Data Scientist', 'Data Scientist', 'Statistician', 'Data Scientist', 'Data Scientist', 'Data Scientist', 'Data Analyst', 'Data Scientist', 'Data Scientist', 'Data Scientist', 'Data Analyst', 'Data Analyst', 'Data Scientist', 'Data Analyst', 'Statistician', 'Data Scientist', 'Data Scientist', 'Data Scientist', 'Data Analyst', 'Data Scientist', 'Data Scientist', 'Data Scientist', 'Data Scientist', 'Data Analyst', 'Data Analyst', 'Data Scientist', 'Data Scientist', 'Data Scientist']"
   ]
  },
  {
   "cell_type": "code",
   "execution_count": 7,
   "id": "f232733c",
   "metadata": {},
   "outputs": [
    {
     "name": "stdout",
     "output_type": "stream",
     "text": [
      "series1 data type: object\n",
      "series1 number of bytes: 14968\n",
      "series2 data type: category\n",
      "series2 number of bytes: 1895\n"
     ]
    }
   ],
   "source": [
    "# Create a Series, default dtype\n",
    "series1 = pd.Series(list_of_occupations)\n",
    "\n",
    "# Print out the data type and number of bytes for series1\n",
    "print(\"series1 data type:\", series1.dtype)\n",
    "print(\"series1 number of bytes:\", series1.nbytes)\n",
    "\n",
    "# Create a Series, \"category\" dtype\n",
    "series2 = pd.Series(list_of_occupations, dtype=\"category\")\n",
    "\n",
    "# Print out the data type and number of bytes for series2\n",
    "print(\"series2 data type:\", series2.dtype)\n",
    "print(\"series2 number of bytes:\", series2.nbytes)"
   ]
  },
  {
   "cell_type": "code",
   "execution_count": 8,
   "id": "e0052adc",
   "metadata": {},
   "outputs": [],
   "source": [
    "medals_won = ['Silver','Silver','Bronze','Silver','Gold','Silver','Silver','Gold','Gold','Bronze','Bronze','Gold','Silver','Silver','Silver','Gold','Gold','Bronze','Silver','Gold','Bronze','Gold','Silver','Silver','Silver','Bronze','Gold','Gold','Silver','Gold','Silver','Silver','Silver','Gold','Gold','Silver','Silver','Silver','Silver','Silver','Gold','Gold','Gold','Silver','Silver','Gold','Gold','Gold','Silver','Bronze','Silver','Silver','Gold','Silver','Bronze','Silver','Bronze','Bronze','Gold','Silver','Gold','Bronze','Gold','Bronze','Bronze','Gold','Gold','Gold','Gold','Silver','Silver','Bronze','Gold','Silver','Gold','Bronze','Silver','Silver','Gold','Silver','Silver','Silver','Bronze','Gold','Gold','Gold','Silver','Silver','Bronze','Bronze','Gold','Bronze','Silver','Silver','Silver','Silver','Gold','Bronze','Bronze','Gold','Gold','Gold','Silver','Silver','Bronze','Bronze','Gold','Silver','Gold','Bronze','Bronze','Silver','Gold','Silver','Silver','Gold','Silver','Gold','Bronze','Silver','Gold','Silver','Gold','Silver','Bronze','Silver','Bronze','Gold','Gold','Gold','Silver','Bronze','Silver','Bronze','Gold','Silver','Gold','Bronze','Gold','Silver','Gold','Silver','Bronze','Silver','Gold','Gold','Silver','Gold','Gold','Silver','Bronze','Gold','Silver','Silver','Gold','Gold','Bronze','Silver','Silver','Bronze','Bronze','Gold','Gold','Silver','Bronze','Gold','Gold','Bronze','Silver','Gold','Silver','Gold','Gold','Silver','Silver','Bronze','Gold','Gold','Gold','Silver','Gold','Silver','Silver','Gold','Gold','Gold','Bronze','Bronze','Silver','Bronze','Gold','Gold','Bronze','Silver','Silver','Gold','Silver','Bronze','Bronze','Bronze','Bronze','Gold','Gold','Gold','Silver','Silver','Bronze','Gold','Bronze','Gold','Gold','Silver','Gold','Bronze','Bronze','Silver','Gold','Gold','Gold','Silver','Gold','Bronze','Gold','Gold','Silver','Bronze','Gold','Bronze','Gold','Gold','Bronze','Bronze','Silver','Bronze','Gold','Silver','Gold','Gold','Gold','Bronze','Gold','Silver','Gold','Silver','Silver','Bronze','Gold','Bronze','Silver','Silver','Silver','Bronze','Gold','Bronze','Gold','Gold','Silver','Bronze','Bronze','Bronze','Bronze','Bronze','Silver','Bronze','Gold','Silver','Gold','Gold','Gold','Bronze','Gold','Bronze','Silver','Gold','Gold','Gold','Silver','Silver','Bronze','Bronze','Bronze','Bronze','Silver','Gold','Bronze','Gold','Gold','Silver','Gold','Bronze','Gold','Gold','Bronze','Gold','Gold','Silver','Bronze','Gold','Gold','Gold','Bronze','Silver','Bronze','Gold','Gold','Bronze','Bronze','Silver','Silver','Gold','Silver','Silver','Gold','Gold','Gold','Gold','Bronze','Bronze','Bronze','Gold','Bronze','Bronze','Bronze','Gold','Silver','Bronze','Silver','Bronze','Gold','Bronze','Gold','Silver','Silver','Silver','Silver','Bronze','Bronze','Gold','Silver','Silver','Silver','Silver','Gold','Bronze','Gold','Gold','Silver','Bronze','Silver','Bronze','Gold','Silver','Gold','Gold','Silver','Silver','Bronze','Silver','Bronze','Gold','Silver','Silver','Silver','Gold','Silver','Gold','Silver','Bronze','Bronze','Gold','Silver','Bronze','Bronze','Silver','Bronze','Gold','Bronze','Bronze','Gold','Silver','Silver','Gold','Gold','Gold','Gold','Silver','Gold','Gold','Gold','Gold','Gold','Bronze','Gold','Bronze','Bronze','Silver','Silver','Silver','Gold','Bronze','Gold','Gold','Silver','Bronze','Silver','Gold','Silver','Silver','Bronze','Gold','Silver','Gold','Gold','Bronze','Bronze','Gold','Gold','Gold','Silver','Silver','Silver','Silver','Gold','Gold','Gold','Bronze','Gold','Gold','Gold','Gold','Gold','Bronze','Bronze','Gold','Gold','Gold','Gold','Bronze','Bronze','Bronze','Bronze','Bronze','Silver','Gold','Silver','Gold','Gold','Bronze','Silver','Silver','Bronze','Silver','Silver','Bronze','Gold','Gold','Gold','Gold','Bronze','Bronze','Bronze','Gold','Silver','Silver','Gold','Gold','Silver','Silver','Gold','Bronze','Gold','Gold','Silver','Bronze','Silver','Bronze','Gold','Silver','Gold','Gold','Silver','Bronze','Gold','Bronze','Silver','Gold','Silver','Gold','Bronze','Gold','Silver','Gold','Gold','Gold','Gold','Silver','Silver','Gold','Bronze','Silver','Silver','Bronze','Gold','Gold','Silver','Bronze','Bronze','Gold','Bronze','Bronze','Gold','Gold','Silver','Gold','Gold','Gold','Silver','Gold','Gold','Silver','Silver','Gold','Bronze','Bronze','Gold','Silver','Bronze','Bronze','Silver','Gold','Silver','Gold','Silver','Silver','Bronze','Bronze','Gold','Gold','Bronze','Silver','Silver','Gold','Silver','Bronze','Bronze','Bronze','Silver','Silver','Silver','Gold','Silver','Bronze','Bronze','Gold','Bronze','Bronze','Silver','Gold','Bronze','Bronze','Bronze','Bronze','Bronze','Silver','Gold','Gold','Gold','Bronze','Gold','Gold','Gold','Gold','Bronze','Silver','Silver','Silver','Bronze','Silver','Silver','Silver','Gold','Gold','Bronze','Gold','Gold','Gold','Gold','Bronze','Bronze','Bronze','Gold','Bronze','Gold','Silver','Gold','Silver','Silver','Silver','Gold','Gold','Silver','Silver','Gold','Gold','Silver','Bronze','Gold','Silver','Gold','Gold','Gold','Silver','Silver','Silver','Bronze','Bronze','Gold','Silver','Bronze','Silver','Gold','Silver','Gold','Silver','Silver','Gold','Silver','Silver','Bronze','Bronze','Bronze','Bronze','Silver','Silver','Silver','Gold','Silver','Gold','Gold','Bronze','Gold','Silver','Silver','Bronze','Silver','Gold','Bronze','Gold','Silver','Silver','Bronze','Bronze','Bronze','Silver','Silver','Gold','Gold','Gold','Silver','Bronze','Silver','Gold','Bronze','Silver','Gold','Bronze','Gold','Gold','Silver','Gold','Gold','Silver','Gold','Gold','Gold','Silver','Silver','Bronze','Gold','Gold','Bronze','Gold','Gold','Silver','Bronze','Bronze','Gold','Silver','Silver','Bronze','Bronze','Bronze','Silver','Gold','Silver','Silver','Bronze','Silver','Bronze','Bronze','Silver','Bronze','Gold','Silver','Silver','Gold','Bronze','Silver','Silver','Bronze','Silver','Silver','Silver','Gold','Gold','Gold','Silver','Gold','Gold','Gold','Gold','Silver','Silver','Gold','Silver','Gold','Bronze','Gold','Bronze','Gold','Silver','Bronze','Silver','Bronze','Bronze','Bronze','Bronze','Silver','Bronze','Silver','Gold','Silver','Silver','Silver','Gold','Bronze','Silver','Gold','Bronze','Bronze','Gold','Gold','Silver','Bronze','Gold','Bronze','Gold','Bronze','Gold','Silver','Gold','Silver','Gold','Bronze','Silver','Silver','Gold','Bronze','Gold','Gold','Gold','Bronze','Gold','Silver','Gold','Bronze','Gold','Gold','Silver','Silver','Bronze','Silver','Silver','Silver','Gold','Bronze','Gold','Gold','Gold','Bronze','Bronze','Gold','Silver','Bronze','Silver','Gold','Bronze','Silver','Silver','Gold','Gold','Silver','Gold','Gold','Silver','Gold','Silver','Silver','Bronze','Gold','Silver','Silver','Silver','Silver','Bronze','Gold','Gold','Bronze','Silver','Gold','Gold','Silver','Gold','Gold','Bronze','Gold','Bronze','Gold','Gold','Bronze','Silver','Gold','Silver','Silver','Gold','Gold','Bronze','Bronze','Bronze','Gold','Silver','Bronze','Gold','Silver','Silver','Gold','Bronze','Gold','Silver','Silver','Silver','Bronze','Bronze','Bronze','Gold','Bronze','Bronze','Bronze','Bronze','Silver','Bronze','Bronze','Gold','Bronze','Gold','Gold','Bronze','Bronze','Silver','Bronze','Gold','Silver','Bronze','Silver','Gold','Silver','Gold','Gold','Bronze','Silver','Bronze','Bronze','Silver','Silver','Silver','Gold','Bronze','Bronze','Bronze','Gold','Silver','Gold','Gold','Bronze','Bronze','Silver','Bronze','Gold','Silver','Silver','Silver','Gold','Gold','Silver','Silver','Gold','Bronze','Silver','Gold','Bronze','Bronze','Silver','Silver','Gold','Bronze','Gold','Silver','Gold','Silver','Gold','Gold','Gold','Silver','Silver','Gold','Gold','Bronze','Silver','Bronze','Bronze','Silver','Bronze','Bronze','Gold','Silver','Bronze','Gold','Gold','Gold','Silver','Silver','Bronze','Gold','Bronze','Bronze','Silver','Silver','Bronze','Bronze','Gold','Bronze','Gold','Gold','Gold','Gold','Bronze','Bronze','Bronze','Gold','Silver','Bronze','Gold','Bronze','Bronze','Gold','Gold','Gold','Bronze','Gold','Gold','Silver','Bronze','Bronze','Bronze','Silver','Bronze','Bronze','Bronze','Gold','Bronze','Bronze','Silver','Gold','Bronze','Gold','Silver','Gold','Silver','Silver','Gold','Gold','Gold','Bronze','Gold','Gold','Silver','Bronze','Gold','Gold','Gold',\n",
    "              'Bronze','Gold','Gold','Silver','Bronze','Bronze','Gold','Gold','Bronze','Silver','Gold','Silver','Silver','Bronze','Gold','Gold','Bronze','Bronze','Gold','Gold','Bronze','Gold','Gold','Bronze','Bronze','Bronze','Bronze','Gold','Silver','Silver','Gold','Silver','Gold','Gold','Bronze','Silver','Silver','Silver','Bronze','Bronze','Silver','Bronze','Gold','Silver','Bronze','Gold','Silver','Bronze','Gold','Bronze','Silver','Gold','Silver','Silver','Gold','Gold','Bronze','Bronze','Silver','Silver','Bronze','Bronze','Silver','Bronze','Gold','Gold','Bronze','Gold','Gold','Silver','Gold','Bronze','Bronze','Silver','Bronze','Silver','Gold','Silver','Gold','Gold','Gold','Bronze','Silver','Gold','Silver','Bronze','Gold','Bronze','Gold','Gold','Gold','Gold','Gold','Silver','Gold','Silver','Silver','Bronze','Silver','Silver','Silver','Bronze','Silver','Bronze','Gold','Bronze','Gold','Silver','Gold','Gold','Bronze','Silver','Gold','Gold','Bronze','Silver','Silver','Gold','Silver','Gold','Gold','Gold','Bronze','Silver','Silver','Bronze','Gold','Gold','Silver','Gold','Silver','Bronze','Gold','Bronze','Bronze','Gold','Gold','Bronze','Gold','Bronze','Silver','Gold','Silver','Silver','Silver','Bronze','Bronze','Bronze','Bronze','Silver','Silver','Silver','Bronze','Bronze','Gold','Bronze','Silver','Silver','Bronze','Gold','Bronze','Bronze','Silver','Bronze','Bronze','Gold','Bronze','Bronze','Bronze','Silver','Silver','Silver','Silver','Bronze','Silver','Silver','Bronze','Bronze','Gold','Silver','Silver','Gold','Gold','Gold','Gold','Bronze','Silver','Silver','Gold','Bronze','Gold','Gold','Gold','Silver','Silver','Gold','Bronze','Bronze','Silver','Gold','Silver','Gold','Gold','Gold','Gold','Gold','Silver','Bronze','Silver','Gold','Gold','Gold','Gold','Gold','Silver','Gold','Gold','Gold','Bronze','Gold','Silver','Silver','Gold','Bronze','Gold','Bronze','Bronze','Silver','Gold','Gold','Silver','Silver','Gold','Silver','Bronze','Silver','Silver','Bronze','Silver','Gold','Gold','Bronze','Bronze','Silver','Gold','Gold','Gold','Gold','Gold','Gold','Gold','Gold','Silver','Bronze','Silver','Silver','Silver','Gold','Gold','Bronze','Gold','Bronze','Gold','Silver','Silver','Bronze','Silver','Silver','Silver','Bronze','Silver','Gold','Silver','Bronze','Bronze','Bronze','Silver','Bronze','Bronze','Gold','Silver','Gold','Gold','Silver','Silver','Silver','Gold','Gold','Bronze','Gold','Gold','Bronze','Gold','Bronze','Bronze','Gold','Silver','Bronze','Bronze','Silver','Gold','Gold','Silver','Silver','Silver','Bronze','Silver','Gold','Bronze','Gold','Bronze','Silver','Gold','Silver','Silver','Gold','Silver','Bronze','Silver','Bronze','Gold','Bronze','Gold','Bronze','Silver','Bronze','Bronze','Silver','Bronze','Bronze','Gold','Bronze','Silver','Gold','Gold','Silver','Bronze','Silver','Silver','Gold','Gold','Gold','Bronze','Gold','Bronze','Silver','Gold','Gold','Gold','Silver','Bronze','Bronze','Silver','Gold','Gold','Silver','Bronze','Silver','Gold','Gold','Gold','Silver','Silver','Gold','Gold','Gold','Silver','Gold','Silver','Gold','Gold','Bronze','Bronze','Bronze','Gold','Gold','Silver','Gold','Silver','Silver','Gold','Gold','Gold','Bronze','Gold','Silver','Gold','Silver','Gold','Bronze','Gold','Bronze','Gold','Gold','Silver','Silver','Gold','Bronze','Gold','Silver','Gold','Bronze','Bronze','Silver','Bronze','Bronze','Bronze','Silver','Gold','Silver','Silver','Silver','Silver','Gold','Gold','Bronze','Silver','Bronze','Silver','Bronze','Gold','Bronze','Silver','Bronze','Gold','Gold','Gold','Gold','Silver','Gold','Silver','Gold','Bronze','Silver','Bronze','Silver','Gold','Bronze','Silver','Silver','Bronze','Silver','Silver','Bronze','Bronze','Gold','Bronze','Gold','Gold','Bronze','Gold','Silver','Silver','Bronze','Gold','Bronze','Bronze','Bronze','Gold','Bronze','Silver','Gold','Gold','Gold','Silver','Gold','Silver','Silver','Gold','Bronze','Bronze','Gold','Silver','Gold','Silver','Gold','Silver','Gold','Bronze','Gold','Gold','Gold','Gold','Gold','Bronze','Silver','Gold','Gold','Bronze','Gold','Bronze','Silver','Gold','Silver','Silver','Silver','Silver','Bronze','Gold','Gold','Bronze','Bronze','Gold','Gold','Gold','Gold','Gold','Gold','Bronze','Silver','Gold','Silver','Silver','Bronze','Bronze','Gold','Gold','Silver','Silver','Silver','Bronze','Gold','Silver','Bronze','Silver','Gold','Gold','Silver','Silver','Gold','Silver','Silver','Gold','Gold','Bronze','Silver','Silver','Gold','Gold','Silver','Bronze','Gold','Gold','Bronze','Bronze','Silver','Gold','Gold','Silver','Silver','Silver','Silver','Gold','Gold','Silver','Gold','Gold','Silver','Bronze','Gold','Bronze','Gold','Bronze','Silver','Gold','Gold','Gold','Gold','Bronze','Bronze','Bronze','Gold','Bronze','Bronze','Silver','Gold','Gold','Gold','Gold','Gold','Bronze','Gold','Bronze','Silver','Gold','Bronze','Silver','Gold','Gold','Gold','Bronze','Gold','Silver','Gold','Silver','Gold','Gold','Bronze','Gold','Bronze','Gold','Gold','Bronze','Gold','Silver','Silver','Silver','Bronze','Silver','Silver','Silver','Silver','Bronze','Gold','Silver','Silver','Bronze','Gold','Silver','Silver','Gold','Silver','Gold','Silver','Gold','Gold','Gold','Gold','Gold','Gold','Gold','Gold','Gold','Silver','Gold','Silver','Silver','Bronze','Gold','Gold','Bronze','Silver','Gold','Bronze','Bronze','Gold','Bronze','Bronze','Gold','Gold','Gold','Silver','Bronze','Bronze','Silver','Gold','Bronze','Bronze','Silver','Silver','Bronze','Gold','Bronze','Gold','Gold','Bronze','Bronze','Bronze','Gold','Bronze','Silver','Bronze','Gold','Gold','Bronze','Gold','Silver','Silver','Silver','Gold','Gold','Gold','Silver','Bronze','Gold','Gold','Bronze','Silver','Bronze','Silver','Bronze','Gold','Gold','Gold','Gold','Bronze','Silver','Bronze','Silver','Gold','Gold','Silver','Gold','Bronze','Gold','Bronze','Gold','Gold','Gold','Bronze','Gold','Bronze','Bronze','Bronze','Gold','Bronze','Silver','Silver','Gold','Bronze','Bronze','Gold','Silver','Silver','Silver','Silver','Bronze','Silver','Gold','Bronze','Silver','Gold','Silver','Gold','Silver','Silver','Gold','Bronze','Silver','Gold','Gold','Gold','Gold','Bronze','Silver','Gold','Silver','Gold','Gold','Gold','Bronze','Bronze','Gold','Gold','Gold','Gold','Bronze','Gold','Gold','Bronze','Bronze','Gold','Gold','Gold','Silver','Silver','Silver','Gold','Gold','Silver','Gold','Gold','Silver','Gold','Gold','Gold','Gold','Silver','Bronze','Bronze','Bronze','Gold','Gold','Gold','Bronze','Bronze','Gold','Gold','Bronze','Silver','Silver','Gold','Gold','Bronze','Bronze','Silver','Silver','Silver','Bronze','Silver','Gold','Bronze','Silver','Gold','Gold','Gold','Silver','Bronze','Silver','Bronze','Gold','Silver','Gold','Gold','Gold','Bronze','Gold','Bronze','Gold','Bronze','Gold','Bronze','Silver','Bronze','Gold','Gold','Bronze','Gold','Gold','Bronze','Gold','Gold','Bronze','Gold','Silver','Silver','Gold','Bronze','Bronze','Gold','Silver','Silver','Gold','Gold','Bronze','Bronze','Bronze','Silver','Bronze','Gold','Silver','Gold','Bronze','Gold','Bronze','Bronze','Gold','Gold','Silver','Gold','Bronze','Gold','Silver','Gold','Silver','Gold','Bronze','Silver','Gold','Bronze','Bronze','Bronze','Silver','Gold','Gold','Gold','Gold','Gold','Bronze','Gold','Gold','Gold','Gold','Silver','Gold','Silver','Gold','Gold','Gold','Bronze','Bronze','Bronze','Bronze','Silver','Gold','Gold','Silver','Bronze','Silver','Silver','Gold','Gold','Silver','Silver','Gold','Silver','Silver','Gold','Silver','Silver','Bronze','Bronze','Bronze','Bronze','Gold','Gold','Bronze','Silver','Bronze','Gold','Bronze','Bronze','Bronze','Silver','Bronze','Bronze','Silver','Silver','Bronze','Bronze','Bronze','Bronze','Silver','Gold','Silver','Gold','Silver','Gold','Bronze','Silver','Silver','Silver','Gold','Silver','Bronze','Silver','Silver','Silver','Silver','Bronze','Gold','Gold','Silver','Gold','Bronze','Gold','Gold','Silver','Silver','Bronze','Gold','Silver','Silver','Gold','Gold','Gold','Bronze','Gold','Gold','Bronze','Bronze','Silver','Gold','Bronze','Bronze','Silver','Bronze','Silver','Silver','Bronze','Bronze','Bronze','Gold','Bronze','Silver','Bronze','Silver','Silver','Silver','Gold','Silver','Bronze','Gold','Silver','Silver','Bronze','Gold','Silver','Gold','Silver', 'Gold','Bronze','Bronze','Bronze',\n",
    "              'Gold','Silver','Gold','Bronze','Bronze','Bronze','Bronze','Gold','Silver','Bronze','Gold','Bronze','Silver','Gold','Gold','Bronze','Silver','Gold','Silver','Bronze','Silver','Gold','Silver','Gold','Gold','Silver','Gold','Gold','Gold','Gold','Gold','Silver','Gold','Bronze','Gold','Bronze','Gold','Bronze','Bronze','Gold','Silver','Silver','Gold','Gold','Gold','Gold','Silver','Bronze','Gold','Bronze','Silver','Bronze','Gold','Gold','Gold','Gold','Gold','Gold','Silver','Silver','Silver','Silver','Gold','Silver','Gold','Silver','Silver','Gold','Gold','Gold','Gold','Silver','Gold','Gold','Bronze','Gold','Gold','Gold','Bronze','Bronze','Gold','Silver','Gold','Bronze','Silver','Gold','Silver','Gold','Silver','Gold','Bronze','Gold','Silver','Bronze','Bronze','Gold','Gold','Silver','Silver','Silver','Bronze','Bronze','Gold','Gold','Gold','Silver','Gold','Bronze','Gold','Silver','Silver','Silver','Silver','Gold','Gold','Silver','Silver','Gold','Bronze','Gold','Silver','Silver','Silver','Bronze','Bronze','Silver','Gold','Silver','Gold','Bronze','Silver','Bronze','Silver','Gold','Silver','Silver','Bronze','Silver','Bronze','Silver','Gold','Bronze','Silver','Gold','Bronze','Silver','Silver','Bronze','Silver','Gold','Bronze','Silver','Silver','Silver','Silver','Silver','Silver','Bronze','Gold','Silver','Silver','Bronze','Silver','Gold','Bronze','Silver','Bronze','Silver','Silver','Silver','Bronze','Gold','Gold','Gold','Gold','Silver','Bronze','Silver','Silver','Silver','Gold','Gold','Silver','Bronze','Silver','Bronze','Gold','Bronze','Bronze','Silver','Silver','Gold','Gold','Gold','Gold','Silver','Silver','Silver','Silver','Gold','Bronze','Gold','Bronze','Gold','Gold','Gold','Silver','Bronze','Gold','Gold','Gold','Bronze','Bronze','Bronze','Gold','Bronze','Gold','Gold','Gold','Silver','Silver','Bronze','Bronze','Silver','Bronze','Silver','Gold','Silver','Gold','Silver','Gold','Gold','Gold','Silver','Bronze','Gold','Gold','Silver','Silver','Gold','Gold','Silver','Silver','Bronze','Gold','Silver','Bronze','Gold','Gold','Silver','Bronze','Silver','Bronze','Silver','Gold','Gold','Silver','Silver','Bronze','Bronze','Silver','Gold','Gold','Gold','Gold','Bronze','Silver','Silver','Gold','Gold','Gold','Silver','Silver','Silver','Silver','Gold','Gold','Silver','Silver','Gold','Gold','Gold','Silver','Silver','Bronze','Gold','Silver','Bronze','Silver','Gold','Silver','Silver','Silver','Bronze','Bronze','Gold','Bronze','Gold','Silver','Bronze','Gold','Silver','Gold','Silver','Silver','Gold','Silver','Gold','Gold','Gold','Bronze','Silver','Gold','Gold','Bronze','Silver','Bronze','Silver','Bronze','Gold','Silver','Silver','Gold','Silver','Bronze','Bronze','Silver','Silver','Gold','Bronze','Silver','Gold','Bronze','Gold','Silver','Gold','Gold','Silver','Bronze','Gold','Gold','Gold','Silver','Silver','Gold','Silver','Bronze','Silver','Silver','Gold','Bronze','Gold','Gold','Silver','Silver','Silver','Gold','Gold','Silver','Gold','Gold','Silver','Bronze','Gold','Gold','Silver','Gold','Bronze','Bronze','Silver','Gold','Bronze','Gold','Bronze','Silver','Gold','Gold','Gold','Gold','Silver','Silver','Silver','Bronze','Bronze','Bronze','Gold','Silver','Gold','Silver','Gold','Bronze','Bronze','Bronze','Bronze','Bronze','Silver','Gold','Gold','Bronze','Gold','Gold','Silver','Gold','Gold','Silver','Silver','Silver','Silver','Gold','Silver','Bronze','Gold','Gold','Gold','Gold','Silver','Gold','Gold','Silver','Silver','Silver','Silver','Silver','Silver','Gold','Gold','Gold','Gold','Bronze','Bronze','Bronze','Gold','Bronze','Gold','Silver','Bronze','Bronze','Bronze','Silver','Gold','Silver','Gold','Gold','Silver','Gold','Bronze','Bronze','Bronze','Silver','Bronze','Gold','Gold','Gold','Gold','Gold','Gold','Bronze','Silver','Bronze','Bronze','Silver','Gold','Bronze','Gold','Bronze','Bronze','Silver','Silver','Gold','Gold','Gold','Gold','Silver','Bronze','Gold','Gold','Gold','Silver','Bronze','Silver','Bronze','Silver','Silver','Gold','Silver','Bronze','Gold','Gold','Gold','Silver','Silver','Gold','Gold','Gold','Silver','Bronze','Gold','Gold','Gold','Gold','Silver','Bronze','Gold','Silver','Silver','Bronze','Gold','Gold','Gold','Gold','Silver','Silver','Gold','Gold','Silver','Silver','Silver','Gold','Bronze','Bronze','Gold','Bronze','Bronze','Gold','Bronze','Gold','Bronze','Gold','Gold','Bronze','Gold','Gold','Bronze','Silver','Gold','Bronze','Silver','Bronze','Silver','Bronze','Gold','Gold','Gold','Silver','Bronze','Gold','Silver','Bronze','Bronze','Gold','Bronze','Silver','Gold','Silver','Gold','Gold','Bronze','Silver','Gold','Silver','Silver','Silver','Bronze','Bronze','Bronze','Bronze','Gold','Silver','Gold','Bronze','Gold','Gold','Gold','Bronze','Gold','Gold','Silver','Gold','Silver','Silver','Gold','Silver','Gold','Bronze','Gold','Bronze','Silver','Bronze','Gold','Silver','Bronze','Gold','Gold','Silver','Silver','Bronze','Silver','Gold','Gold','Bronze','Gold','Gold','Gold','Bronze','Gold','Bronze','Gold','Silver','Gold','Gold','Silver','Silver','Gold','Gold','Gold','Gold','Bronze','Silver','Bronze','Bronze','Silver','Gold','Bronze','Silver','Bronze','Silver','Gold','Gold','Silver','Silver','Gold','Silver','Gold','Bronze','Silver','Bronze','Bronze','Bronze','Gold','Bronze','Gold','Gold','Bronze','Bronze','Gold','Silver','Gold','Gold','Bronze','Bronze','Silver','Silver','Gold','Gold','Gold','Silver','Silver','Silver','Bronze','Gold','Bronze','Gold','Bronze','Bronze','Gold','Gold','Silver','Bronze','Silver','Silver','Silver','Bronze','Bronze','Gold','Silver','Silver','Bronze','Bronze','Gold','Gold','Silver','Silver','Gold','Silver','Bronze','Silver','Silver','Gold','Gold','Gold','Gold','Silver','Gold','Silver','Silver','Bronze','Silver','Silver','Gold','Gold','Bronze','Bronze','Silver','Gold','Gold','Bronze','Bronze','Gold','Gold','Gold','Silver','Silver','Bronze','Gold','Gold','Gold','Bronze','Silver','Bronze','Silver','Gold','Silver','Silver','Gold','Bronze','Silver','Bronze','Bronze','Bronze','Silver','Bronze','Bronze','Gold','Bronze','Gold','Gold','Gold','Gold','Bronze','Silver','Silver','Bronze','Gold','Gold','Gold','Silver','Gold','Gold','Gold','Silver','Bronze','Silver','Silver','Silver','Silver','Gold','Silver','Bronze','Bronze','Gold','Bronze','Gold','Bronze','Bronze','Bronze','Bronze','Silver','Gold','Silver','Silver','Gold','Bronze','Gold','Gold','Bronze','Gold','Bronze','Gold','Silver','Gold','Gold','Silver','Silver','Gold','Gold','Bronze','Silver','Gold','Silver','Silver','Silver','Bronze','Bronze','Bronze','Gold','Gold','Silver','Silver','Silver','Silver','Silver','Gold','Gold','Gold','Bronze','Bronze','Gold','Silver','Gold','Bronze','Bronze','Silver','Bronze','Gold','Gold','Bronze','Gold','Silver','Silver','Gold','Bronze','Silver','Gold','Gold']"
   ]
  },
  {
   "cell_type": "code",
   "execution_count": 9,
   "id": "dc0c5d7e",
   "metadata": {},
   "outputs": [
    {
     "name": "stdout",
     "output_type": "stream",
     "text": [
      "['Silver', 'Silver', 'Bronze', 'Silver', 'Gold', ..., 'Gold', 'Bronze', 'Silver', 'Gold', 'Gold']\n",
      "Length: 2828\n",
      "Categories (3, object): ['Bronze' < 'Silver' < 'Gold']\n"
     ]
    }
   ],
   "source": [
    "# Create a categorical Series and specify the categories (let pandas know the order matters!)\n",
    "medals = pd.Categorical(medals_won, categories=[\"Bronze\", \"Silver\", \"Gold\"], ordered=True)\n",
    "print(medals)"
   ]
  },
  {
   "cell_type": "code",
   "execution_count": 10,
   "id": "029c0a02",
   "metadata": {},
   "outputs": [
    {
     "name": "stdout",
     "output_type": "stream",
     "text": [
      "Age                 int64\n",
      "Workclass          object\n",
      "fnlgwt              int64\n",
      "Education          object\n",
      "Education Num       int64\n",
      "Marital Status     object\n",
      "Occupation         object\n",
      "Relationship       object\n",
      "Race               object\n",
      "Sex                object\n",
      "Capital Gain        int64\n",
      "Capital Loss        int64\n",
      "Hours/Week          int64\n",
      "Country            object\n",
      "Above/Below 50k    object\n",
      "dtype: object\n"
     ]
    }
   ],
   "source": [
    "# Check the dtypes\n",
    "print(adult.dtypes)"
   ]
  },
  {
   "cell_type": "markdown",
   "id": "485930bb",
   "metadata": {},
   "source": [
    "Answer: \"Workclass\", \"Education\", \"Relationship\", \"Above/Below 50k\""
   ]
  },
  {
   "cell_type": "code",
   "execution_count": 11,
   "id": "405a0f13",
   "metadata": {},
   "outputs": [
    {
     "name": "stdout",
     "output_type": "stream",
     "text": [
      "Age                   int64\n",
      "Workclass          category\n",
      "fnlgwt                int64\n",
      "Education          category\n",
      "Education Num         int64\n",
      "Marital Status       object\n",
      "Occupation           object\n",
      "Relationship       category\n",
      "Race                 object\n",
      "Sex                  object\n",
      "Capital Gain          int64\n",
      "Capital Loss          int64\n",
      "Hours/Week            int64\n",
      "Country              object\n",
      "Above/Below 50k    category\n",
      "dtype: object\n"
     ]
    }
   ],
   "source": [
    "# Create a dictionary with column names as keys and \"category\" as values\n",
    "adult_dtypes = {\n",
    "  \"Workclass\" : \"category\", \n",
    "  \"Education\" : \"category\", \n",
    "  \"Relationship\" : \"category\",\n",
    "  \"Above/Below 50k\" : \"category\"\n",
    "}\n",
    "\n",
    "# Read in the CSV using the dtypes parameter\n",
    "adult2 = pd.read_csv(\n",
    "  \"adult.csv\",\n",
    "  dtype=adult_dtypes\n",
    ")\n",
    "print(adult2.dtypes)"
   ]
  },
  {
   "cell_type": "code",
   "execution_count": null,
   "id": "0c649e28",
   "metadata": {},
   "outputs": [],
   "source": [
    "gb = adult.groupby(by=[ \"Workclass\",\n",
    "                        \"Above/Below 50k\", \n",
    "                        \"Education\"])\n",
    "gb.max()"
   ]
  },
  {
   "cell_type": "markdown",
   "id": "07b56d50",
   "metadata": {},
   "source": [
    "Answer: 208 are created out of 288 possible groups."
   ]
  },
  {
   "cell_type": "code",
   "execution_count": 14,
   "id": "dd679999",
   "metadata": {},
   "outputs": [
    {
     "name": "stdout",
     "output_type": "stream",
     "text": [
      "Sex      Above/Below 50k\n",
      " Female   <=50K              9592\n",
      "          >50K               1179\n",
      " Male     <=50K             15128\n",
      "          >50K               6662\n",
      "dtype: int64\n",
      "                               Age         fnlgwt  Education Num  \\\n",
      "Sex     Above/Below 50k                                            \n",
      " Female  <=50K           36.210801  185999.381359       9.820475   \n",
      "         >50K            42.125530  183687.406277      11.787108   \n",
      " Male    <=50K           37.147012  193093.609268       9.452142   \n",
      "         >50K            44.625788  188769.101321      11.580606   \n",
      "\n",
      "                         Capital Gain  Capital Loss  Hours/Week  \n",
      "Sex     Above/Below 50k                                          \n",
      " Female  <=50K             121.986134     47.364470   35.916701  \n",
      "         >50K             4200.389313    173.648855   40.426633  \n",
      " Male    <=50K             165.723823     56.806782   40.693879  \n",
      "         >50K             3971.765836    198.780396   46.366106  \n"
     ]
    },
    {
     "name": "stderr",
     "output_type": "stream",
     "text": [
      "C:\\Users\\Erturk Memmedli\\AppData\\Local\\Temp\\ipykernel_9208\\2598845881.py:8: FutureWarning: The default value of numeric_only in DataFrameGroupBy.mean is deprecated. In a future version, numeric_only will default to False. Either specify numeric_only or select only columns which should be valid for the function.\n",
      "  print(gb.mean())\n"
     ]
    }
   ],
   "source": [
    "# Group the adult dataset by \"Sex\" and \"Above/Below 50k\"\n",
    "gb = adult.groupby(by=['Sex', 'Above/Below 50k'])\n",
    "\n",
    "# Print out how many rows are in each created group\n",
    "print(gb.size())\n",
    "\n",
    "# Print out the mean of each group for all columns\n",
    "print(gb.mean())"
   ]
  },
  {
   "cell_type": "code",
   "execution_count": 15,
   "id": "97442e8f",
   "metadata": {},
   "outputs": [
    {
     "name": "stdout",
     "output_type": "stream",
     "text": [
      "Education      Above/Below 50k\n",
      " 10th           <=50K             36.574053\n",
      "                >50K              43.774194\n",
      " 11th           <=50K             33.322870\n",
      "                >50K              45.133333\n",
      " 12th           <=50K             35.035000\n",
      "                >50K              44.818182\n",
      " 1st-4th        <=50K             37.864198\n",
      "                >50K              48.833333\n",
      " 5th-6th        <=50K             38.539432\n",
      "                >50K              46.000000\n",
      " 7th-8th        <=50K             38.830033\n",
      "                >50K              47.500000\n",
      " 9th            <=50K             37.667351\n",
      "                >50K              44.851852\n",
      " Assoc-acdm     <=50K             39.264339\n",
      "                >50K              44.256604\n",
      " Assoc-voc      <=50K             40.817826\n",
      "                >50K              43.853186\n",
      " Bachelors      <=50K             40.586152\n",
      "                >50K              45.475462\n",
      " Doctorate      <=50K             45.429907\n",
      "                >50K              47.513072\n",
      " HS-grad        <=50K             39.727510\n",
      "                >50K              45.042985\n",
      " Masters        <=50K             41.223822\n",
      "                >50K              45.917623\n",
      " Preschool      <=50K             36.647059\n",
      " Prof-school    <=50K             42.816993\n",
      "                >50K              49.092199\n",
      " Some-college   <=50K             37.450203\n",
      "                >50K              44.820476\n",
      "Name: Hours/Week, dtype: float64\n"
     ]
    }
   ],
   "source": [
    "# Create a list of user-selected variables\n",
    "user_list = [\"Education\", \"Above/Below 50k\"]\n",
    "\n",
    "# Create a GroupBy object using this list\n",
    "gb = adult.groupby(user_list)\n",
    "\n",
    "# Find the mean for the variable \"Hours/Week\" for each group - Be efficient!\n",
    "print(gb[\"Hours/Week\"].mean())"
   ]
  },
  {
   "cell_type": "markdown",
   "id": "363cc6bb",
   "metadata": {},
   "source": [
    "## 2. Categorical pandas Series"
   ]
  },
  {
   "cell_type": "markdown",
   "id": "62d8f224",
   "metadata": {},
   "source": [
    "Answer:\n",
    "1. Convert the Series using .astype(\"category\")\n",
    "2. Access the cat object uasing dogs[\"size\"].cat\n",
    "3. Set the categories using .set_categories([\"small\", \"medium\", \"large\"])\n",
    "4. Set the ordered parameter to True"
   ]
  },
  {
   "cell_type": "code",
   "execution_count": 42,
   "id": "23b846a3",
   "metadata": {},
   "outputs": [
    {
     "data": {
      "text/html": [
       "<div>\n",
       "<style scoped>\n",
       "    .dataframe tbody tr th:only-of-type {\n",
       "        vertical-align: middle;\n",
       "    }\n",
       "\n",
       "    .dataframe tbody tr th {\n",
       "        vertical-align: top;\n",
       "    }\n",
       "\n",
       "    .dataframe thead th {\n",
       "        text-align: right;\n",
       "    }\n",
       "</style>\n",
       "<table border=\"1\" class=\"dataframe\">\n",
       "  <thead>\n",
       "    <tr style=\"text-align: right;\">\n",
       "      <th></th>\n",
       "      <th>ID</th>\n",
       "      <th>name</th>\n",
       "      <th>age</th>\n",
       "      <th>sex</th>\n",
       "      <th>breed</th>\n",
       "      <th>date_found</th>\n",
       "      <th>adoptable_from</th>\n",
       "      <th>posted</th>\n",
       "      <th>color</th>\n",
       "      <th>coat</th>\n",
       "      <th>size</th>\n",
       "      <th>neutered</th>\n",
       "      <th>housebroken</th>\n",
       "      <th>likes_people</th>\n",
       "      <th>likes_children</th>\n",
       "      <th>get_along_males</th>\n",
       "      <th>get_along_females</th>\n",
       "      <th>get_along_cats</th>\n",
       "      <th>keep_in</th>\n",
       "    </tr>\n",
       "  </thead>\n",
       "  <tbody>\n",
       "    <tr>\n",
       "      <th>0</th>\n",
       "      <td>23807</td>\n",
       "      <td>Gida</td>\n",
       "      <td>0.25</td>\n",
       "      <td>female</td>\n",
       "      <td>Unknown Mix</td>\n",
       "      <td>12/10/19</td>\n",
       "      <td>12/11/19</td>\n",
       "      <td>12/11/19</td>\n",
       "      <td>red</td>\n",
       "      <td>short</td>\n",
       "      <td>small</td>\n",
       "      <td>no</td>\n",
       "      <td>NaN</td>\n",
       "      <td>NaN</td>\n",
       "      <td>NaN</td>\n",
       "      <td>NaN</td>\n",
       "      <td>NaN</td>\n",
       "      <td>NaN</td>\n",
       "      <td>NaN</td>\n",
       "    </tr>\n",
       "    <tr>\n",
       "      <th>1</th>\n",
       "      <td>533</td>\n",
       "      <td>Frida És Ricsi</td>\n",
       "      <td>0.17</td>\n",
       "      <td>female</td>\n",
       "      <td>Unknown Mix</td>\n",
       "      <td>12/1/19</td>\n",
       "      <td>12/1/19</td>\n",
       "      <td>12/9/19</td>\n",
       "      <td>black and white</td>\n",
       "      <td>short</td>\n",
       "      <td>small</td>\n",
       "      <td>no</td>\n",
       "      <td>NaN</td>\n",
       "      <td>yes</td>\n",
       "      <td>yes</td>\n",
       "      <td>yes</td>\n",
       "      <td>yes</td>\n",
       "      <td>yes</td>\n",
       "      <td>NaN</td>\n",
       "    </tr>\n",
       "    <tr>\n",
       "      <th>2</th>\n",
       "      <td>23793</td>\n",
       "      <td>NaN</td>\n",
       "      <td>4.00</td>\n",
       "      <td>male</td>\n",
       "      <td>Unknown Mix</td>\n",
       "      <td>12/8/19</td>\n",
       "      <td>12/23/19</td>\n",
       "      <td>12/8/19</td>\n",
       "      <td>saddle back</td>\n",
       "      <td>short</td>\n",
       "      <td>medium</td>\n",
       "      <td>no</td>\n",
       "      <td>NaN</td>\n",
       "      <td>NaN</td>\n",
       "      <td>NaN</td>\n",
       "      <td>NaN</td>\n",
       "      <td>NaN</td>\n",
       "      <td>NaN</td>\n",
       "      <td>NaN</td>\n",
       "    </tr>\n",
       "    <tr>\n",
       "      <th>3</th>\n",
       "      <td>23795</td>\n",
       "      <td>NaN</td>\n",
       "      <td>1.00</td>\n",
       "      <td>male</td>\n",
       "      <td>Unknown Mix</td>\n",
       "      <td>12/8/19</td>\n",
       "      <td>12/23/19</td>\n",
       "      <td>12/8/19</td>\n",
       "      <td>yellow-brown</td>\n",
       "      <td>medium</td>\n",
       "      <td>medium</td>\n",
       "      <td>no</td>\n",
       "      <td>NaN</td>\n",
       "      <td>NaN</td>\n",
       "      <td>NaN</td>\n",
       "      <td>NaN</td>\n",
       "      <td>NaN</td>\n",
       "      <td>NaN</td>\n",
       "      <td>NaN</td>\n",
       "    </tr>\n",
       "    <tr>\n",
       "      <th>4</th>\n",
       "      <td>23806</td>\n",
       "      <td>Amy</td>\n",
       "      <td>2.00</td>\n",
       "      <td>female</td>\n",
       "      <td>French Bulldog Mix</td>\n",
       "      <td>12/10/19</td>\n",
       "      <td>12/11/19</td>\n",
       "      <td>12/11/19</td>\n",
       "      <td>black</td>\n",
       "      <td>short</td>\n",
       "      <td>small</td>\n",
       "      <td>no</td>\n",
       "      <td>NaN</td>\n",
       "      <td>NaN</td>\n",
       "      <td>NaN</td>\n",
       "      <td>NaN</td>\n",
       "      <td>NaN</td>\n",
       "      <td>NaN</td>\n",
       "      <td>NaN</td>\n",
       "    </tr>\n",
       "  </tbody>\n",
       "</table>\n",
       "</div>"
      ],
      "text/plain": [
       "      ID            name   age     sex               breed date_found  \\\n",
       "0  23807            Gida  0.25  female         Unknown Mix   12/10/19   \n",
       "1    533  Frida És Ricsi  0.17  female         Unknown Mix    12/1/19   \n",
       "2  23793             NaN  4.00    male         Unknown Mix    12/8/19   \n",
       "3  23795             NaN  1.00    male         Unknown Mix    12/8/19   \n",
       "4  23806             Amy  2.00  female  French Bulldog Mix   12/10/19   \n",
       "\n",
       "  adoptable_from    posted            color    coat    size neutered  \\\n",
       "0       12/11/19  12/11/19              red   short   small       no   \n",
       "1        12/1/19   12/9/19  black and white   short   small       no   \n",
       "2       12/23/19   12/8/19      saddle back   short  medium       no   \n",
       "3       12/23/19   12/8/19     yellow-brown  medium  medium       no   \n",
       "4       12/11/19  12/11/19            black   short   small       no   \n",
       "\n",
       "  housebroken likes_people likes_children get_along_males get_along_females  \\\n",
       "0         NaN          NaN            NaN             NaN               NaN   \n",
       "1         NaN          yes            yes             yes               yes   \n",
       "2         NaN          NaN            NaN             NaN               NaN   \n",
       "3         NaN          NaN            NaN             NaN               NaN   \n",
       "4         NaN          NaN            NaN             NaN               NaN   \n",
       "\n",
       "  get_along_cats keep_in  \n",
       "0            NaN     NaN  \n",
       "1            yes     NaN  \n",
       "2            NaN     NaN  \n",
       "3            NaN     NaN  \n",
       "4            NaN     NaN  "
      ]
     },
     "execution_count": 42,
     "metadata": {},
     "output_type": "execute_result"
    }
   ],
   "source": [
    "dogs = pd.read_csv(\"ShelterDogs.csv\")\n",
    "dogs.head()"
   ]
  },
  {
   "cell_type": "code",
   "execution_count": 43,
   "id": "8ea4ecc1",
   "metadata": {},
   "outputs": [
    {
     "name": "stdout",
     "output_type": "stream",
     "text": [
      "both flat and garden    1224\n",
      "NaN                     1021\n",
      "garden                   510\n",
      "flat                     182\n",
      "Name: keep_in, dtype: int64\n",
      "both flat and garden       1224\n",
      "NaN                        1021\n",
      "garden                      510\n",
      "flat                        182\n",
      "Unknown History               0\n",
      "Open Yard (Countryside)       0\n",
      "Name: keep_in, dtype: int64\n"
     ]
    }
   ],
   "source": [
    "# Check frequency counts while also printing the NaN count\n",
    "print(dogs[\"keep_in\"].value_counts(dropna=False))\n",
    "\n",
    "# Switch to a categorical variable\n",
    "dogs[\"keep_in\"] = dogs[\"keep_in\"].astype(\"category\")\n",
    "\n",
    "# Add new categories\n",
    "new_categories = [\"Unknown History\", \"Open Yard (Countryside)\"]\n",
    "dogs[\"keep_in\"] = dogs[\"keep_in\"].cat.add_categories(new_categories)\n",
    "\n",
    "# Check frequency counts one more time\n",
    "print(dogs[\"keep_in\"].value_counts(dropna=False))"
   ]
  },
  {
   "cell_type": "code",
   "execution_count": 44,
   "id": "2bd15cf5",
   "metadata": {},
   "outputs": [],
   "source": [
    "dogs[\"likes_children\"] = dogs[\"likes_children\"].astype(\"category\")\n",
    "dogs[\"likes_children\"] = dogs[\"likes_children\"].cat.add_categories(\"maybe\")\n",
    "dogs.loc[dogs[\"likes_children\"].isna(), \"likes_children\"] = \"maybe\""
   ]
  },
  {
   "cell_type": "code",
   "execution_count": 45,
   "id": "d96ffbe0",
   "metadata": {},
   "outputs": [
    {
     "name": "stdout",
     "output_type": "stream",
     "text": [
      "Index(['no', 'yes', 'maybe'], dtype='object')\n",
      "no       1765\n",
      "yes      1172\n",
      "maybe       0\n",
      "Name: likes_children, dtype: int64\n"
     ]
    }
   ],
   "source": [
    "# Set \"maybe\" to be \"no\"\n",
    "dogs.loc[dogs[\"likes_children\"] == \"maybe\", \"likes_children\"] = \"no\"\n",
    "\n",
    "# Print out categories\n",
    "print(dogs[\"likes_children\"].cat.categories)\n",
    "\n",
    "# Print the frequency table\n",
    "print(dogs[\"likes_children\"].value_counts(dropna=False))"
   ]
  },
  {
   "cell_type": "code",
   "execution_count": 46,
   "id": "b805cd68",
   "metadata": {},
   "outputs": [
    {
     "name": "stdout",
     "output_type": "stream",
     "text": [
      "Index(['no', 'yes', 'maybe'], dtype='object')\n",
      "no       1765\n",
      "yes      1172\n",
      "maybe       0\n",
      "Name: likes_children, dtype: int64\n",
      "no     1765\n",
      "yes    1172\n",
      "Name: likes_children, dtype: int64\n",
      "Index(['no', 'yes'], dtype='object')\n"
     ]
    }
   ],
   "source": [
    "# Set \"maybe\" to be \"no\"\n",
    "dogs.loc[dogs[\"likes_children\"] == \"maybe\", \"likes_children\"] = \"no\"\n",
    "\n",
    "# Print out categories\n",
    "print(dogs[\"likes_children\"].cat.categories)\n",
    "\n",
    "# Print the frequency table\n",
    "print(dogs[\"likes_children\"].value_counts())\n",
    "\n",
    "# Remove the `\"maybe\" category\n",
    "dogs[\"likes_children\"] = dogs[\"likes_children\"].cat.remove_categories([\"maybe\"])\n",
    "print(dogs[\"likes_children\"].value_counts())\n",
    "\n",
    "# Print the categories one more time\n",
    "print(dogs[\"likes_children\"].cat.categories)"
   ]
  },
  {
   "cell_type": "markdown",
   "id": "fdf4d2f1",
   "metadata": {},
   "source": [
    "Answer: Use pd.Series().cat.rename_categories() and then convert the column back to categorical using .astype('category')."
   ]
  },
  {
   "cell_type": "code",
   "execution_count": 50,
   "id": "66afffc5",
   "metadata": {},
   "outputs": [
    {
     "data": {
      "text/plain": [
       "Maybe?    1718\n",
       "yes       1172\n",
       "no          47\n",
       "Name: likes_children, dtype: int64"
      ]
     },
     "execution_count": 50,
     "metadata": {},
     "output_type": "execute_result"
    }
   ],
   "source": [
    "dogs = pd.read_csv(\"ShelterDogs.csv\")\n",
    "dogs[\"likes_children\"] = dogs[\"likes_children\"].astype(\"category\")\n",
    "dogs[\"likes_children\"] = dogs[\"likes_children\"].cat.add_categories(\"Maybe?\")\n",
    "dogs.loc[dogs[\"likes_children\"].isna(), \"likes_children\"] = \"Maybe?\"\n",
    "dogs[\"likes_children\"].value_counts()"
   ]
  },
  {
   "cell_type": "code",
   "execution_count": 51,
   "id": "fcc9e079",
   "metadata": {},
   "outputs": [
    {
     "name": "stdout",
     "output_type": "stream",
     "text": [
      "Index(['NO', 'YES', 'MAYBE'], dtype='object')\n"
     ]
    }
   ],
   "source": [
    "# Create the my_changes dictionary\n",
    "my_changes = {'Maybe?': 'Maybe'}\n",
    "\n",
    "# Rename the categories listed in the my_changes dictionary\n",
    "dogs[\"likes_children\"] = dogs[\"likes_children\"].cat.rename_categories(my_changes)\n",
    "\n",
    "# Use a lambda function to convert all categories to uppercase using upper()\n",
    "dogs[\"likes_children\"] =  dogs[\"likes_children\"].cat.rename_categories(lambda c: c.upper())\n",
    "\n",
    "# Print the list of categories\n",
    "print(dogs[\"likes_children\"].cat.categories)"
   ]
  },
  {
   "cell_type": "code",
   "execution_count": 55,
   "id": "0849f29a",
   "metadata": {},
   "outputs": [
    {
     "name": "stdout",
     "output_type": "stream",
     "text": [
      "short     1972\n",
      "medium     785\n",
      "long       180\n",
      "Name: coat_collapsed, dtype: int64\n"
     ]
    }
   ],
   "source": [
    "# Create the update_coats dictionary\n",
    "update_coats = {'wirehaired' : 'medium', \n",
    "                'medium-long' : 'medium'}\n",
    "\n",
    "# Create a new column, coat_collapsed\n",
    "dogs[\"coat_collapsed\"] = dogs['coat'].replace(update_coats)\n",
    "\n",
    "# Convert the column to categorical\n",
    "dogs[\"coat_collapsed\"] = dogs[\"coat_collapsed\"].astype(\"category\")\n",
    "\n",
    "# Print the frequency table\n",
    "print(dogs[\"coat_collapsed\"].value_counts())"
   ]
  },
  {
   "cell_type": "code",
   "execution_count": 57,
   "id": "fa5f44ad",
   "metadata": {},
   "outputs": [
    {
     "name": "stdout",
     "output_type": "stream",
     "text": [
      "Index(['large', 'medium', 'small'], dtype='object')\n"
     ]
    }
   ],
   "source": [
    "dogs[\"size\"] = dogs[\"size\"].astype(\"category\")\n",
    "\n",
    "# Print out the current categories of the size variable\n",
    "print(dogs[\"size\"].cat.categories)\n",
    "\n",
    "# Reorder the categories using the list provided\n",
    "dogs[\"size\"] = dogs['size'].cat.reorder_categories(new_categories=[\"small\", \"medium\", \"large\"])"
   ]
  },
  {
   "cell_type": "code",
   "execution_count": 58,
   "id": "d19565ae",
   "metadata": {},
   "outputs": [
    {
     "name": "stdout",
     "output_type": "stream",
     "text": [
      "Index(['small', 'medium', 'large'], dtype='object')\n"
     ]
    }
   ],
   "source": [
    "# Print out the current categories of the size variable\n",
    "print(dogs[\"size\"].cat.categories)\n",
    "\n",
    "# Reorder the categories, specifying the Series is ordinal\n",
    "dogs[\"size\"] = dogs[\"size\"].cat.reorder_categories(\n",
    "  new_categories=[\"small\", \"medium\", \"large\"],\n",
    "  ordered=True\n",
    ")"
   ]
  },
  {
   "cell_type": "code",
   "execution_count": 59,
   "id": "ea49849c",
   "metadata": {},
   "outputs": [
    {
     "name": "stdout",
     "output_type": "stream",
     "text": [
      "Index(['small', 'medium', 'large'], dtype='object')\n"
     ]
    },
    {
     "name": "stderr",
     "output_type": "stream",
     "text": [
      "C:\\Users\\Erturk Memmedli\\AppData\\Local\\Temp\\ipykernel_9208\\65567079.py:5: FutureWarning: The `inplace` parameter in pandas.Categorical.reorder_categories is deprecated and will be removed in a future version. Reordering categories will always return a new Categorical object.\n",
      "  dogs[\"size\"].cat.reorder_categories(\n"
     ]
    }
   ],
   "source": [
    "# Print out the current categories of the size variable\n",
    "print(dogs[\"size\"].cat.categories)\n",
    "\n",
    "# Reorder the categories, specifying the Series is ordinal, and overwriting the original series\n",
    "dogs[\"size\"].cat.reorder_categories(\n",
    "  new_categories=[\"small\", \"medium\", \"large\"],\n",
    "  ordered=True,\n",
    "  inplace=True\n",
    ")"
   ]
  },
  {
   "cell_type": "code",
   "execution_count": 60,
   "id": "df84babe",
   "metadata": {},
   "outputs": [
    {
     "name": "stdout",
     "output_type": "stream",
     "text": [
      "size    sex   \n",
      "small   male       260\n",
      "        female     214\n",
      "medium  male      1090\n",
      "        female     854\n",
      "large   male       331\n",
      "        female     188\n",
      "Name: sex, dtype: int64\n",
      "size    keep_in             \n",
      "small   both flat and garden    238\n",
      "        flat                     80\n",
      "        garden                   21\n",
      "medium  both flat and garden    795\n",
      "        garden                  317\n",
      "        flat                     97\n",
      "large   both flat and garden    191\n",
      "        garden                  172\n",
      "        flat                      5\n",
      "Name: keep_in, dtype: int64\n"
     ]
    },
    {
     "name": "stderr",
     "output_type": "stream",
     "text": [
      "C:\\Users\\Erturk Memmedli\\AppData\\Local\\Temp\\ipykernel_9208\\1010200173.py:2: FutureWarning: The `inplace` parameter in pandas.Categorical.reorder_categories is deprecated and will be removed in a future version. Reordering categories will always return a new Categorical object.\n",
      "  dogs[\"size\"].cat.reorder_categories(\n"
     ]
    }
   ],
   "source": [
    "# Previous code\n",
    "dogs[\"size\"].cat.reorder_categories(\n",
    "  new_categories=[\"small\", \"medium\", \"large\"],\n",
    "  ordered=True,\n",
    "  inplace=True\n",
    ")\n",
    "\n",
    "# How many Male/Female dogs are available of each size?\n",
    "print(dogs.groupby('size')['sex'].value_counts())\n",
    "\n",
    "# Do larger dogs need more room to roam?\n",
    "print(dogs.groupby('size')['keep_in'].value_counts())"
   ]
  },
  {
   "cell_type": "code",
   "execution_count": 61,
   "id": "3166baf4",
   "metadata": {},
   "outputs": [
    {
     "name": "stdout",
     "output_type": "stream",
     "text": [
      "male      1681\n",
      "female    1256\n",
      "Name: sex, dtype: int64\n"
     ]
    }
   ],
   "source": [
    "# Fix the misspelled word \n",
    "replace_map = {\"Malez\": \"male\"}\n",
    "\n",
    "# Update the sex column using the created map\n",
    "dogs[\"sex\"] = dogs['sex'].replace(replace_map)\n",
    "\n",
    "print(dogs[\"sex\"].value_counts())"
   ]
  },
  {
   "cell_type": "code",
   "execution_count": 62,
   "id": "b9c8eaa1",
   "metadata": {},
   "outputs": [
    {
     "name": "stdout",
     "output_type": "stream",
     "text": [
      "male      1681\n",
      "female    1256\n",
      "Name: sex, dtype: int64\n"
     ]
    }
   ],
   "source": [
    "# Fix the misspelled word\n",
    "replace_map = {\"Malez\": \"male\"}\n",
    "\n",
    "# Update the sex column using the created map\n",
    "dogs[\"sex\"] = dogs[\"sex\"].replace(replace_map)\n",
    "\n",
    "# Strip away leading whitespace\n",
    "dogs[\"sex\"] = dogs['sex'].str.strip()\n",
    "\n",
    "print(dogs[\"sex\"].value_counts())"
   ]
  },
  {
   "cell_type": "code",
   "execution_count": 63,
   "id": "4144b537",
   "metadata": {},
   "outputs": [
    {
     "name": "stdout",
     "output_type": "stream",
     "text": [
      "male      1681\n",
      "female    1256\n",
      "Name: sex, dtype: int64\n"
     ]
    }
   ],
   "source": [
    "# Fix the misspelled word\n",
    "replace_map = {\"Malez\": \"male\"}\n",
    "\n",
    "# Update the sex column using the created map\n",
    "dogs[\"sex\"] = dogs[\"sex\"].replace(replace_map)\n",
    "\n",
    "# Strip away leading whitespace\n",
    "dogs[\"sex\"] = dogs[\"sex\"].str.strip()\n",
    "\n",
    "# Make all responses lowercase\n",
    "dogs[\"sex\"] = dogs['sex'].str.lower()\n",
    "\n",
    "print(dogs[\"sex\"].value_counts())"
   ]
  },
  {
   "cell_type": "code",
   "execution_count": 64,
   "id": "a00145e5",
   "metadata": {},
   "outputs": [
    {
     "name": "stdout",
     "output_type": "stream",
     "text": [
      "male      1681\n",
      "female    1256\n",
      "Name: sex, dtype: int64\n"
     ]
    }
   ],
   "source": [
    "# Fix the misspelled word\n",
    "replace_map = {\"Malez\": \"male\"}\n",
    "\n",
    "# Update the sex column using the created map\n",
    "dogs[\"sex\"] = dogs[\"sex\"].replace(replace_map)\n",
    "\n",
    "# Strip away leading whitespace\n",
    "dogs[\"sex\"] = dogs[\"sex\"].str.strip()\n",
    "\n",
    "# Make all responses lowercase\n",
    "dogs[\"sex\"] = dogs[\"sex\"].str.lower()\n",
    "\n",
    "# Convert to a categorical Series\n",
    "dogs[\"sex\"] = dogs['sex'].astype('category')\n",
    "\n",
    "print(dogs[\"sex\"].value_counts())"
   ]
  },
  {
   "cell_type": "code",
   "execution_count": 65,
   "id": "6a8315f5",
   "metadata": {},
   "outputs": [
    {
     "name": "stdout",
     "output_type": "stream",
     "text": [
      "Series([], Name: coat, dtype: category\n",
      "Categories (5, object): ['long', 'medium', 'short', 'wirehaired', 'medium-long'])\n"
     ]
    }
   ],
   "source": [
    "# Print the category of the coat for ID 23807\n",
    "print(dogs.loc[dogs.index==23807, 'coat'])"
   ]
  },
  {
   "cell_type": "code",
   "execution_count": 66,
   "id": "b6c3fe3c",
   "metadata": {},
   "outputs": [
    {
     "name": "stdout",
     "output_type": "stream",
     "text": [
      "male      124\n",
      "female     56\n",
      "Name: sex, dtype: int64\n"
     ]
    }
   ],
   "source": [
    "# Find the count of male and female dogs who have a \"long\" coat\n",
    "print(dogs.loc[dogs['coat']=='long', 'sex'].value_counts())"
   ]
  },
  {
   "cell_type": "code",
   "execution_count": 67,
   "id": "0aea1e1e",
   "metadata": {},
   "outputs": [
    {
     "name": "stdout",
     "output_type": "stream",
     "text": [
      "8.186153846153847\n"
     ]
    }
   ],
   "source": [
    "# Print the mean age of dogs with a breed of \"English Cocker Spaniel\"\n",
    "print(dogs.loc[dogs['breed']==\"English Cocker Spaniel\", 'age'].mean())"
   ]
  },
  {
   "cell_type": "code",
   "execution_count": 68,
   "id": "2ba10807",
   "metadata": {},
   "outputs": [
    {
     "name": "stdout",
     "output_type": "stream",
     "text": [
      "35\n"
     ]
    }
   ],
   "source": [
    "# Count the number of dogs that have \"English\" in their breed name\n",
    "print(dogs[dogs[\"breed\"].str.contains(\"English\", regex=False)].shape[0])"
   ]
  },
  {
   "cell_type": "markdown",
   "id": "fd5af7f8",
   "metadata": {},
   "source": [
    "## 3. Visualizing Categorical Data"
   ]
  },
  {
   "cell_type": "markdown",
   "id": "632d7742",
   "metadata": {},
   "source": [
    "Answer: Three of the five traveler types have outliers as indicated by the black dots lying outside of the black bands of the box plot."
   ]
  },
  {
   "cell_type": "code",
   "execution_count": 70,
   "id": "b0f61f55",
   "metadata": {},
   "outputs": [
    {
     "data": {
      "text/html": [
       "<div>\n",
       "<style scoped>\n",
       "    .dataframe tbody tr th:only-of-type {\n",
       "        vertical-align: middle;\n",
       "    }\n",
       "\n",
       "    .dataframe tbody tr th {\n",
       "        vertical-align: top;\n",
       "    }\n",
       "\n",
       "    .dataframe thead th {\n",
       "        text-align: right;\n",
       "    }\n",
       "</style>\n",
       "<table border=\"1\" class=\"dataframe\">\n",
       "  <thead>\n",
       "    <tr style=\"text-align: right;\">\n",
       "      <th></th>\n",
       "      <th>User country</th>\n",
       "      <th>Nr. reviews</th>\n",
       "      <th>Nr. hotel reviews</th>\n",
       "      <th>Helpful votes</th>\n",
       "      <th>Score</th>\n",
       "      <th>Period of stay</th>\n",
       "      <th>Traveler type</th>\n",
       "      <th>Pool</th>\n",
       "      <th>Gym</th>\n",
       "      <th>Tennis court</th>\n",
       "      <th>Spa</th>\n",
       "      <th>Casino</th>\n",
       "      <th>Free internet</th>\n",
       "      <th>Hotel name</th>\n",
       "      <th>Hotel stars</th>\n",
       "      <th>Nr. rooms</th>\n",
       "      <th>User continent</th>\n",
       "      <th>Member years</th>\n",
       "      <th>Review month</th>\n",
       "      <th>Review weekday</th>\n",
       "    </tr>\n",
       "  </thead>\n",
       "  <tbody>\n",
       "    <tr>\n",
       "      <th>0</th>\n",
       "      <td>USA</td>\n",
       "      <td>11</td>\n",
       "      <td>4</td>\n",
       "      <td>13</td>\n",
       "      <td>5</td>\n",
       "      <td>Dec-Feb</td>\n",
       "      <td>Friends</td>\n",
       "      <td>NO</td>\n",
       "      <td>YES</td>\n",
       "      <td>NO</td>\n",
       "      <td>NO</td>\n",
       "      <td>YES</td>\n",
       "      <td>YES</td>\n",
       "      <td>Circus Circus Hotel &amp; Casino Las Vegas</td>\n",
       "      <td>3</td>\n",
       "      <td>3773</td>\n",
       "      <td>North America</td>\n",
       "      <td>9</td>\n",
       "      <td>January</td>\n",
       "      <td>Thursday</td>\n",
       "    </tr>\n",
       "    <tr>\n",
       "      <th>1</th>\n",
       "      <td>USA</td>\n",
       "      <td>119</td>\n",
       "      <td>21</td>\n",
       "      <td>75</td>\n",
       "      <td>3</td>\n",
       "      <td>Dec-Feb</td>\n",
       "      <td>Business</td>\n",
       "      <td>NO</td>\n",
       "      <td>YES</td>\n",
       "      <td>NO</td>\n",
       "      <td>NO</td>\n",
       "      <td>YES</td>\n",
       "      <td>YES</td>\n",
       "      <td>Circus Circus Hotel &amp; Casino Las Vegas</td>\n",
       "      <td>3</td>\n",
       "      <td>3773</td>\n",
       "      <td>North America</td>\n",
       "      <td>3</td>\n",
       "      <td>January</td>\n",
       "      <td>Friday</td>\n",
       "    </tr>\n",
       "    <tr>\n",
       "      <th>2</th>\n",
       "      <td>USA</td>\n",
       "      <td>36</td>\n",
       "      <td>9</td>\n",
       "      <td>25</td>\n",
       "      <td>5</td>\n",
       "      <td>Mar-May</td>\n",
       "      <td>Families</td>\n",
       "      <td>NO</td>\n",
       "      <td>YES</td>\n",
       "      <td>NO</td>\n",
       "      <td>NO</td>\n",
       "      <td>YES</td>\n",
       "      <td>YES</td>\n",
       "      <td>Circus Circus Hotel &amp; Casino Las Vegas</td>\n",
       "      <td>3</td>\n",
       "      <td>3773</td>\n",
       "      <td>North America</td>\n",
       "      <td>2</td>\n",
       "      <td>February</td>\n",
       "      <td>Saturday</td>\n",
       "    </tr>\n",
       "    <tr>\n",
       "      <th>3</th>\n",
       "      <td>UK</td>\n",
       "      <td>14</td>\n",
       "      <td>7</td>\n",
       "      <td>14</td>\n",
       "      <td>4</td>\n",
       "      <td>Mar-May</td>\n",
       "      <td>Friends</td>\n",
       "      <td>NO</td>\n",
       "      <td>YES</td>\n",
       "      <td>NO</td>\n",
       "      <td>NO</td>\n",
       "      <td>YES</td>\n",
       "      <td>YES</td>\n",
       "      <td>Circus Circus Hotel &amp; Casino Las Vegas</td>\n",
       "      <td>3</td>\n",
       "      <td>3773</td>\n",
       "      <td>Europe</td>\n",
       "      <td>6</td>\n",
       "      <td>February</td>\n",
       "      <td>Friday</td>\n",
       "    </tr>\n",
       "    <tr>\n",
       "      <th>4</th>\n",
       "      <td>Canada</td>\n",
       "      <td>5</td>\n",
       "      <td>5</td>\n",
       "      <td>2</td>\n",
       "      <td>4</td>\n",
       "      <td>Mar-May</td>\n",
       "      <td>Solo</td>\n",
       "      <td>NO</td>\n",
       "      <td>YES</td>\n",
       "      <td>NO</td>\n",
       "      <td>NO</td>\n",
       "      <td>YES</td>\n",
       "      <td>YES</td>\n",
       "      <td>Circus Circus Hotel &amp; Casino Las Vegas</td>\n",
       "      <td>3</td>\n",
       "      <td>3773</td>\n",
       "      <td>North America</td>\n",
       "      <td>7</td>\n",
       "      <td>March</td>\n",
       "      <td>Tuesday</td>\n",
       "    </tr>\n",
       "  </tbody>\n",
       "</table>\n",
       "</div>"
      ],
      "text/plain": [
       "  User country  Nr. reviews  Nr. hotel reviews  Helpful votes  Score  \\\n",
       "0          USA           11                  4             13      5   \n",
       "1          USA          119                 21             75      3   \n",
       "2          USA           36                  9             25      5   \n",
       "3           UK           14                  7             14      4   \n",
       "4       Canada            5                  5              2      4   \n",
       "\n",
       "  Period of stay Traveler type Pool  Gym Tennis court Spa Casino  \\\n",
       "0        Dec-Feb       Friends   NO  YES           NO  NO    YES   \n",
       "1        Dec-Feb      Business   NO  YES           NO  NO    YES   \n",
       "2        Mar-May      Families   NO  YES           NO  NO    YES   \n",
       "3        Mar-May       Friends   NO  YES           NO  NO    YES   \n",
       "4        Mar-May          Solo   NO  YES           NO  NO    YES   \n",
       "\n",
       "  Free internet                              Hotel name  Hotel stars  \\\n",
       "0           YES  Circus Circus Hotel & Casino Las Vegas            3   \n",
       "1           YES  Circus Circus Hotel & Casino Las Vegas            3   \n",
       "2           YES  Circus Circus Hotel & Casino Las Vegas            3   \n",
       "3           YES  Circus Circus Hotel & Casino Las Vegas            3   \n",
       "4           YES  Circus Circus Hotel & Casino Las Vegas            3   \n",
       "\n",
       "   Nr. rooms User continent  Member years Review month Review weekday  \n",
       "0       3773  North America             9      January       Thursday  \n",
       "1       3773  North America             3      January         Friday  \n",
       "2       3773  North America             2     February       Saturday  \n",
       "3       3773         Europe             6     February         Friday  \n",
       "4       3773  North America             7        March        Tuesday  "
      ]
     },
     "execution_count": 70,
     "metadata": {},
     "output_type": "execute_result"
    }
   ],
   "source": [
    "reviews = pd.read_csv('lasvegas_tripadvisor.csv')\n",
    "reviews.head()"
   ]
  },
  {
   "cell_type": "code",
   "execution_count": 72,
   "id": "c967db9e",
   "metadata": {},
   "outputs": [
    {
     "data": {
      "image/png": "[encoded data removed]",
      "text/plain": [
       "<Figure size 360x360 with 1 Axes>"
      ]
     },
     "metadata": {
      "needs_background": "light"
     },
     "output_type": "display_data"
    }
   ],
   "source": [
    "import matplotlib.pyplot as plt\n",
    "import seaborn as sns\n",
    "\n",
    "# Set the font size to 1.25\n",
    "sns.set(font_scale=1.25)\n",
    "\n",
    "# Set the background to \"darkgrid\"\n",
    "sns.set_style(\"darkgrid\")\n",
    "\n",
    "# Create a boxplot\n",
    "sns.catplot(data=reviews, x=\"Traveler type\", y=\"Helpful votes\", kind='box')\n",
    "\n",
    "plt.show()"
   ]
  },
  {
   "cell_type": "code",
   "execution_count": 73,
   "id": "2f769e91",
   "metadata": {},
   "outputs": [
    {
     "name": "stdout",
     "output_type": "stream",
     "text": [
      "Mar-May    128\n",
      "Jun-Aug    126\n",
      "Sep-Nov    126\n",
      "Dec-Feb    124\n",
      "Name: Period of stay, dtype: int64\n"
     ]
    },
    {
     "data": {
      "image/png": "[encoded data removed]",
      "text/plain": [
       "<Figure size 360x360 with 1 Axes>"
      ]
     },
     "metadata": {},
     "output_type": "display_data"
    }
   ],
   "source": [
    "# Print the frequency counts of \"Period of stay\"\n",
    "print(reviews[\"Period of stay\"].value_counts())\n",
    "\n",
    "sns.set(font_scale=1.4)\n",
    "sns.set_style(\"whitegrid\")\n",
    "\n",
    "# Create a bar plot of \"Helpful votes\" by \"Period of stay\"\n",
    "sns.catplot(data=reviews, x=\"Period of stay\", y=\"Helpful votes\", kind='bar')\n",
    "plt.show()"
   ]
  },
  {
   "cell_type": "code",
   "execution_count": 74,
   "id": "334f82df",
   "metadata": {},
   "outputs": [
    {
     "data": {
      "image/png": "[encoded data removed]",
      "text/plain": [
       "<Figure size 360x360 with 1 Axes>"
      ]
     },
     "metadata": {},
     "output_type": "display_data"
    }
   ],
   "source": [
    "# Create a bar chart\n",
    "sns.set(font_scale=.9)\n",
    "sns.set_style(\"whitegrid\")\n",
    "sns.catplot(x=\"User continent\", y=\"Score\", data=reviews, kind=\"bar\")\n",
    "plt.show()"
   ]
  },
  {
   "cell_type": "code",
   "execution_count": 75,
   "id": "5bc22766",
   "metadata": {},
   "outputs": [
    {
     "name": "stdout",
     "output_type": "stream",
     "text": [
      "North America    295\n",
      "Europe           118\n",
      "Oceania           41\n",
      "Asia              36\n",
      "Africa             7\n",
      "South America      7\n",
      "Name: User continent, dtype: int64\n"
     ]
    },
    {
     "data": {
      "image/png": "[encoded data removed]",
      "text/plain": [
       "<Figure size 360x360 with 1 Axes>"
      ]
     },
     "metadata": {},
     "output_type": "display_data"
    }
   ],
   "source": [
    "# Create a bar chart\n",
    "sns.set(font_scale=.9)\n",
    "sns.set_style(\"whitegrid\")\n",
    "sns.catplot(x=\"User continent\", y=\"Score\", data=reviews, kind=\"bar\")\n",
    "\n",
    "# Print the frequency counts for \"User continent\"\n",
    "print(reviews[\"User continent\"].value_counts())"
   ]
  },
  {
   "cell_type": "code",
   "execution_count": 76,
   "id": "69d3f16d",
   "metadata": {},
   "outputs": [
    {
     "name": "stdout",
     "output_type": "stream",
     "text": [
      "North America    295\n",
      "Europe           118\n",
      "Oceania           41\n",
      "Asia              36\n",
      "Africa             7\n",
      "South America      7\n",
      "Name: User continent, dtype: int64\n"
     ]
    },
    {
     "data": {
      "image/png": "[encoded data removed]",
      "text/plain": [
       "<Figure size 360x360 with 1 Axes>"
      ]
     },
     "metadata": {},
     "output_type": "display_data"
    }
   ],
   "source": [
    "# Set style\n",
    "sns.set(font_scale=.9)\n",
    "sns.set_style(\"whitegrid\")\n",
    "\n",
    "# Print the frequency counts for \"User continent\"\n",
    "print(reviews[\"User continent\"].value_counts())\n",
    "\n",
    "# Convert \"User continent\" to a categorical variable\n",
    "reviews[\"User continent\"] = reviews[\"User continent\"].astype(\"category\")\n",
    "sns.catplot(x=\"User continent\", y=\"Score\", data=reviews, kind=\"bar\")\n",
    "plt.show()"
   ]
  },
  {
   "cell_type": "code",
   "execution_count": 77,
   "id": "f49d187b",
   "metadata": {},
   "outputs": [
    {
     "name": "stdout",
     "output_type": "stream",
     "text": [
      "North America    295\n",
      "Europe           118\n",
      "Oceania           41\n",
      "Asia              36\n",
      "Africa             7\n",
      "South America      7\n",
      "Name: User continent, dtype: int64\n"
     ]
    },
    {
     "data": {
      "image/png": "[encoded data removed]",
      "text/plain": [
       "<Figure size 360x360 with 1 Axes>"
      ]
     },
     "metadata": {},
     "output_type": "display_data"
    }
   ],
   "source": [
    "# Set style\n",
    "sns.set(font_scale=.9)\n",
    "sns.set_style(\"whitegrid\")\n",
    "\n",
    "# Print the frequency counts for \"User continent\"\n",
    "print(reviews[\"User continent\"].value_counts())\n",
    "\n",
    "# Convert \"User continent\" to a categorical variable\n",
    "reviews[\"User continent\"] = reviews[\"User continent\"].astype(\"category\")\n",
    "\n",
    "# Reorder \"User continent\" using continent_categories and rerun the graphic\n",
    "continent_categories = list(reviews[\"User continent\"].value_counts().index)\n",
    "reviews[\"User continent\"] = reviews[\"User continent\"].cat.reorder_categories(new_categories=continent_categories)\n",
    "sns.catplot(x=\"User continent\", y=\"Score\", data=reviews, kind=\"bar\")\n",
    "plt.show()"
   ]
  },
  {
   "cell_type": "code",
   "execution_count": 78,
   "id": "1c74652e",
   "metadata": {},
   "outputs": [
    {
     "data": {
      "image/png": "[encoded data removed]",
      "text/plain": [
       "<Figure size 513.725x360 with 1 Axes>"
      ]
     },
     "metadata": {},
     "output_type": "display_data"
    }
   ],
   "source": [
    "# Add a second category to split the data on: \"Free internet\"\n",
    "sns.set(font_scale=2)\n",
    "sns.set_style(\"darkgrid\")\n",
    "sns.catplot(x=\"Casino\", y=\"Score\", data=reviews, kind=\"bar\", hue=\"Free internet\")\n",
    "plt.show()"
   ]
  },
  {
   "cell_type": "code",
   "execution_count": 79,
   "id": "c64cb53e",
   "metadata": {},
   "outputs": [
    {
     "data": {
      "image/png": "[encoded data removed]",
      "text/plain": [
       "<Figure size 483.2x360 with 1 Axes>"
      ]
     },
     "metadata": {},
     "output_type": "display_data"
    }
   ],
   "source": [
    "# Switch the x and hue categories\n",
    "sns.set(font_scale=2)\n",
    "sns.set_style(\"darkgrid\")\n",
    "sns.catplot(x=\"Free internet\", y=\"Score\", data=reviews, kind=\"bar\", hue=\"Casino\")\n",
    "plt.show()"
   ]
  },
  {
   "cell_type": "code",
   "execution_count": 80,
   "id": "e43a3b4c",
   "metadata": {},
   "outputs": [
    {
     "data": {
      "image/png": "[encoded data removed]",
      "text/plain": [
       "<Figure size 483.2x360 with 1 Axes>"
      ]
     },
     "metadata": {},
     "output_type": "display_data"
    }
   ],
   "source": [
    "# Update x to be \"User continent\"\n",
    "sns.set(font_scale=2)\n",
    "sns.set_style(\"darkgrid\")\n",
    "sns.catplot(x=\"User continent\", y=\"Score\", data=reviews, kind=\"bar\", hue=\"Casino\")\n",
    "plt.show()"
   ]
  },
  {
   "cell_type": "code",
   "execution_count": 81,
   "id": "e6fe5688",
   "metadata": {},
   "outputs": [
    {
     "data": {
      "image/png": "[encoded data removed]",
      "text/plain": [
       "<Figure size 421.6x360 with 1 Axes>"
      ]
     },
     "metadata": {},
     "output_type": "display_data"
    }
   ],
   "source": [
    "# Lower the font size so that all text fits on the screen.\n",
    "sns.set(font_scale=1.0)\n",
    "sns.set_style(\"darkgrid\")\n",
    "sns.catplot(x=\"User continent\", y=\"Score\", data=reviews, kind=\"bar\", hue=\"Casino\")\n",
    "plt.show()"
   ]
  },
  {
   "cell_type": "code",
   "execution_count": 82,
   "id": "44d82aa8",
   "metadata": {},
   "outputs": [
    {
     "data": {
      "image/png": "[encoded data removed]",
      "text/plain": [
       "<Figure size 421.6x360 with 1 Axes>"
      ]
     },
     "metadata": {},
     "output_type": "display_data"
    }
   ],
   "source": [
    "# Create a point plot with catplot using \"Hotel stars\" and \"Nr. reviews\"\n",
    "sns.catplot(\n",
    "  # Split the data across Hotel stars and summarize Nr. reviews\n",
    "  x=\"Hotel stars\",\n",
    "  y=\"Nr. reviews\",\n",
    "  data=reviews,\n",
    "  # Specify a point plot\n",
    "  kind=\"point\",\n",
    "  hue=\"Pool\",\n",
    "  # Make sure the lines and points don't overlap\n",
    "  dodge=True\n",
    ")\n",
    "plt.show()"
   ]
  },
  {
   "cell_type": "code",
   "execution_count": 83,
   "id": "a2119ed7",
   "metadata": {},
   "outputs": [
    {
     "data": {
      "image/png": "[encoded data removed]",
      "text/plain": [
       "<Figure size 477.94x360 with 1 Axes>"
      ]
     },
     "metadata": {},
     "output_type": "display_data"
    }
   ],
   "source": [
    "sns.set(font_scale=1.4)\n",
    "sns.set_style(\"darkgrid\")\n",
    "\n",
    "# Create a catplot that will count the frequency of \"Score\" across \"Traveler type\"\n",
    "sns.catplot(\n",
    "  x=\"Score\",\n",
    "  data=reviews,\n",
    "  kind=\"count\",\n",
    "  hue=\"Traveler type\"\n",
    ")\n",
    "plt.show()"
   ]
  },
  {
   "cell_type": "markdown",
   "id": "77b81d52",
   "metadata": {},
   "source": [
    "Answer:\n",
    "\n",
    "1. a graphical form of a frequency table -> count\n",
    "2. has the parameters, join and dodge, which can update the look of the lines in the plot -> point\n",
    "3. can be used to see the distribution and outliers of a numeric column -> box\n",
    "4. is similar to a point plot and can be used to see the central tendency of numerical data -> bar"
   ]
  },
  {
   "cell_type": "code",
   "execution_count": 84,
   "id": "5e923488",
   "metadata": {},
   "outputs": [
    {
     "data": {
      "image/png": "[encoded data removed]",
      "text/plain": [
       "<Figure size 720x720 with 4 Axes>"
      ]
     },
     "metadata": {},
     "output_type": "display_data"
    }
   ],
   "source": [
    "# Create a catplot for each \"Period of stay\" broken down by \"Review weekday\"\n",
    "ax = sns.catplot(\n",
    "  # Make sure Review weekday is along the x-axis\n",
    "  x=\"Review weekday\",\n",
    "  # Specify Period of stay as the column to create individual graphics for\n",
    "  col=\"Period of stay\",\n",
    "  # Specify that a count plot should be created\n",
    "  kind=\"count\",\n",
    "  # Wrap the plots after every 2nd graphic.\n",
    "  col_wrap=2,\n",
    "  data=reviews\n",
    ")\n",
    "plt.show()"
   ]
  },
  {
   "cell_type": "code",
   "execution_count": 85,
   "id": "6fc9fd9a",
   "metadata": {},
   "outputs": [
    {
     "data": {
      "image/png": "[encoded data removed]",
      "text/plain": [
       "<Figure size 477.94x360 with 1 Axes>"
      ]
     },
     "metadata": {},
     "output_type": "display_data"
    }
   ],
   "source": [
    "# Adjust the color\n",
    "ax = sns.catplot(\n",
    "  x=\"Free internet\", y=\"Score\",\n",
    "  hue=\"Traveler type\", kind=\"bar\",\n",
    "  data=reviews,\n",
    "  palette=sns.color_palette(\"Set2\")\n",
    ")"
   ]
  },
  {
   "cell_type": "code",
   "execution_count": 86,
   "id": "944fcb56",
   "metadata": {},
   "outputs": [
    {
     "data": {
      "text/plain": [
       "Text(0.5, 0.98, 'Hotel Score by Traveler Type and Free Internet Access')"
      ]
     },
     "execution_count": 86,
     "metadata": {},
     "output_type": "execute_result"
    },
    {
     "data": {
      "image/png": "[encoded data removed]",
      "text/plain": [
       "<Figure size 477.94x360 with 1 Axes>"
      ]
     },
     "metadata": {},
     "output_type": "display_data"
    }
   ],
   "source": [
    "# Adjust the color\n",
    "ax = sns.catplot(\n",
    "  x=\"Free internet\", y=\"Score\",\n",
    "  hue=\"Traveler type\", kind=\"bar\",\n",
    "  data=reviews,\n",
    "  palette=sns.color_palette(\"Set2\")\n",
    ")\n",
    "\n",
    "# Add a title\n",
    "ax.fig.suptitle(\"Hotel Score by Traveler Type and Free Internet Access\")"
   ]
  },
  {
   "cell_type": "code",
   "execution_count": 87,
   "id": "5b4bd95d",
   "metadata": {},
   "outputs": [
    {
     "data": {
      "text/plain": [
       "<seaborn.axisgrid.FacetGrid at 0x1e3e7c32260>"
      ]
     },
     "execution_count": 87,
     "metadata": {},
     "output_type": "execute_result"
    },
    {
     "data": {
      "image/png": "[encoded data removed]",
      "text/plain": [
       "<Figure size 477.94x360 with 1 Axes>"
      ]
     },
     "metadata": {},
     "output_type": "display_data"
    }
   ],
   "source": [
    "# Adjust the color\n",
    "ax = sns.catplot(\n",
    "  x=\"Free internet\", y=\"Score\",\n",
    "  hue=\"Traveler type\", kind=\"bar\",\n",
    "  data=reviews,\n",
    "  palette=sns.color_palette(\"Set2\")\n",
    ")\n",
    "\n",
    "# Add a title\n",
    "ax.fig.suptitle(\"Hotel Score by Traveler Type and Free Internet Access\")\n",
    "\n",
    "# Update the axis labels\n",
    "ax.set_axis_labels(\"Free Internet\", \"Average Review Rating\")"
   ]
  },
  {
   "cell_type": "code",
   "execution_count": 88,
   "id": "84fe67b8",
   "metadata": {},
   "outputs": [
    {
     "data": {
      "image/png": "[encoded data removed]",
      "text/plain": [
       "<Figure size 477.94x360 with 1 Axes>"
      ]
     },
     "metadata": {},
     "output_type": "display_data"
    }
   ],
   "source": [
    "# Adjust the color\n",
    "ax = sns.catplot(\n",
    "  x=\"Free internet\", y=\"Score\",\n",
    "  hue=\"Traveler type\", kind=\"bar\",\n",
    "  data=reviews,\n",
    "  palette=sns.color_palette(\"Set2\")\n",
    ")\n",
    "\n",
    "# Add a title\n",
    "ax.fig.suptitle(\"Hotel Score by Traveler Type and Free Internet Access\")\n",
    "# Update the axis labels\n",
    "ax.set_axis_labels(\"Free Internet\", \"Average Review Rating\")\n",
    "\n",
    "# Adjust the starting height of the graphic\n",
    "plt.subplots_adjust(top=0.93)\n",
    "plt.show()"
   ]
  },
  {
   "cell_type": "markdown",
   "id": "f559731b",
   "metadata": {},
   "source": [
    "## 4. Pitfalls and Encoding"
   ]
  },
  {
   "cell_type": "markdown",
   "id": "7ac38099",
   "metadata": {},
   "source": [
    "used_cars[\"price_usd\"].value_counts()\n",
    "\n",
    "used_cars[\"drivetrain\"].value_counts()\n",
    "\n",
    "used_cars[\"model_name\"].value_counts()\n",
    "\n",
    "Answer: drivetrain"
   ]
  },
  {
   "cell_type": "code",
   "execution_count": 91,
   "id": "04aa4abf",
   "metadata": {},
   "outputs": [
    {
     "data": {
      "text/html": [
       "<div>\n",
       "<style scoped>\n",
       "    .dataframe tbody tr th:only-of-type {\n",
       "        vertical-align: middle;\n",
       "    }\n",
       "\n",
       "    .dataframe tbody tr th {\n",
       "        vertical-align: top;\n",
       "    }\n",
       "\n",
       "    .dataframe thead th {\n",
       "        text-align: right;\n",
       "    }\n",
       "</style>\n",
       "<table border=\"1\" class=\"dataframe\">\n",
       "  <thead>\n",
       "    <tr style=\"text-align: right;\">\n",
       "      <th></th>\n",
       "      <th>manufacturer_name</th>\n",
       "      <th>model_name</th>\n",
       "      <th>transmission</th>\n",
       "      <th>color</th>\n",
       "      <th>odometer_value</th>\n",
       "      <th>year_produced</th>\n",
       "      <th>engine_fuel</th>\n",
       "      <th>engine_has_gas</th>\n",
       "      <th>engine_type</th>\n",
       "      <th>engine_capacity</th>\n",
       "      <th>...</th>\n",
       "      <th>feature_1</th>\n",
       "      <th>feature_2</th>\n",
       "      <th>feature_3</th>\n",
       "      <th>feature_4</th>\n",
       "      <th>feature_5</th>\n",
       "      <th>feature_6</th>\n",
       "      <th>feature_7</th>\n",
       "      <th>feature_8</th>\n",
       "      <th>feature_9</th>\n",
       "      <th>duration_listed</th>\n",
       "    </tr>\n",
       "  </thead>\n",
       "  <tbody>\n",
       "    <tr>\n",
       "      <th>0</th>\n",
       "      <td>Subaru</td>\n",
       "      <td>Outback</td>\n",
       "      <td>automatic</td>\n",
       "      <td>silver</td>\n",
       "      <td>190000</td>\n",
       "      <td>2010</td>\n",
       "      <td>gasoline</td>\n",
       "      <td>False</td>\n",
       "      <td>gasoline</td>\n",
       "      <td>2.5</td>\n",
       "      <td>...</td>\n",
       "      <td>True</td>\n",
       "      <td>True</td>\n",
       "      <td>True</td>\n",
       "      <td>False</td>\n",
       "      <td>True</td>\n",
       "      <td>False</td>\n",
       "      <td>True</td>\n",
       "      <td>True</td>\n",
       "      <td>True</td>\n",
       "      <td>16</td>\n",
       "    </tr>\n",
       "    <tr>\n",
       "      <th>1</th>\n",
       "      <td>Subaru</td>\n",
       "      <td>Outback</td>\n",
       "      <td>automatic</td>\n",
       "      <td>blue</td>\n",
       "      <td>290000</td>\n",
       "      <td>2002</td>\n",
       "      <td>gasoline</td>\n",
       "      <td>False</td>\n",
       "      <td>gasoline</td>\n",
       "      <td>3.0</td>\n",
       "      <td>...</td>\n",
       "      <td>True</td>\n",
       "      <td>False</td>\n",
       "      <td>False</td>\n",
       "      <td>True</td>\n",
       "      <td>True</td>\n",
       "      <td>False</td>\n",
       "      <td>False</td>\n",
       "      <td>False</td>\n",
       "      <td>True</td>\n",
       "      <td>83</td>\n",
       "    </tr>\n",
       "    <tr>\n",
       "      <th>2</th>\n",
       "      <td>Subaru</td>\n",
       "      <td>Forester</td>\n",
       "      <td>automatic</td>\n",
       "      <td>red</td>\n",
       "      <td>402000</td>\n",
       "      <td>2001</td>\n",
       "      <td>gasoline</td>\n",
       "      <td>False</td>\n",
       "      <td>gasoline</td>\n",
       "      <td>2.5</td>\n",
       "      <td>...</td>\n",
       "      <td>True</td>\n",
       "      <td>False</td>\n",
       "      <td>False</td>\n",
       "      <td>False</td>\n",
       "      <td>False</td>\n",
       "      <td>False</td>\n",
       "      <td>False</td>\n",
       "      <td>True</td>\n",
       "      <td>True</td>\n",
       "      <td>151</td>\n",
       "    </tr>\n",
       "    <tr>\n",
       "      <th>3</th>\n",
       "      <td>Subaru</td>\n",
       "      <td>Impreza</td>\n",
       "      <td>mechanical</td>\n",
       "      <td>blue</td>\n",
       "      <td>10000</td>\n",
       "      <td>1999</td>\n",
       "      <td>gasoline</td>\n",
       "      <td>False</td>\n",
       "      <td>gasoline</td>\n",
       "      <td>3.0</td>\n",
       "      <td>...</td>\n",
       "      <td>False</td>\n",
       "      <td>False</td>\n",
       "      <td>False</td>\n",
       "      <td>False</td>\n",
       "      <td>False</td>\n",
       "      <td>False</td>\n",
       "      <td>False</td>\n",
       "      <td>False</td>\n",
       "      <td>False</td>\n",
       "      <td>86</td>\n",
       "    </tr>\n",
       "    <tr>\n",
       "      <th>4</th>\n",
       "      <td>Subaru</td>\n",
       "      <td>Legacy</td>\n",
       "      <td>automatic</td>\n",
       "      <td>black</td>\n",
       "      <td>280000</td>\n",
       "      <td>2001</td>\n",
       "      <td>gasoline</td>\n",
       "      <td>False</td>\n",
       "      <td>gasoline</td>\n",
       "      <td>2.5</td>\n",
       "      <td>...</td>\n",
       "      <td>True</td>\n",
       "      <td>False</td>\n",
       "      <td>True</td>\n",
       "      <td>True</td>\n",
       "      <td>False</td>\n",
       "      <td>False</td>\n",
       "      <td>False</td>\n",
       "      <td>False</td>\n",
       "      <td>True</td>\n",
       "      <td>7</td>\n",
       "    </tr>\n",
       "  </tbody>\n",
       "</table>\n",
       "<p>5 rows × 30 columns</p>\n",
       "</div>"
      ],
      "text/plain": [
       "  manufacturer_name model_name transmission   color  odometer_value  \\\n",
       "0            Subaru    Outback    automatic  silver          190000   \n",
       "1            Subaru    Outback    automatic    blue          290000   \n",
       "2            Subaru   Forester    automatic     red          402000   \n",
       "3            Subaru    Impreza   mechanical    blue           10000   \n",
       "4            Subaru     Legacy    automatic   black          280000   \n",
       "\n",
       "   year_produced engine_fuel  engine_has_gas engine_type  engine_capacity  \\\n",
       "0           2010    gasoline           False    gasoline              2.5   \n",
       "1           2002    gasoline           False    gasoline              3.0   \n",
       "2           2001    gasoline           False    gasoline              2.5   \n",
       "3           1999    gasoline           False    gasoline              3.0   \n",
       "4           2001    gasoline           False    gasoline              2.5   \n",
       "\n",
       "   ... feature_1  feature_2 feature_3 feature_4  feature_5  feature_6  \\\n",
       "0  ...      True       True      True     False       True      False   \n",
       "1  ...      True      False     False      True       True      False   \n",
       "2  ...      True      False     False     False      False      False   \n",
       "3  ...     False      False     False     False      False      False   \n",
       "4  ...      True      False      True      True      False      False   \n",
       "\n",
       "  feature_7  feature_8  feature_9  duration_listed  \n",
       "0      True       True       True               16  \n",
       "1     False      False       True               83  \n",
       "2     False       True       True              151  \n",
       "3     False      False      False               86  \n",
       "4     False      False       True                7  \n",
       "\n",
       "[5 rows x 30 columns]"
      ]
     },
     "execution_count": 91,
     "metadata": {},
     "output_type": "execute_result"
    }
   ],
   "source": [
    "used_cars = pd.read_csv(\"cars.csv\")\n",
    "used_cars.head()"
   ]
  },
  {
   "cell_type": "code",
   "execution_count": 92,
   "id": "35b81355",
   "metadata": {},
   "outputs": [
    {
     "name": "stdout",
     "output_type": "stream",
     "text": [
      "sedan        13011\n",
      "hatchback     7644\n",
      "universal     5507\n",
      "suv           5164\n",
      "minivan       3608\n",
      "minibus       1369\n",
      "van            808\n",
      "coupe          652\n",
      "liftback       552\n",
      "pickup         129\n",
      "cabriolet       75\n",
      "limousine       12\n",
      "Name: body_type, dtype: int64\n",
      "object\n"
     ]
    }
   ],
   "source": [
    "# Print the frequency table of body_type and include NaN values\n",
    "print(used_cars[\"body_type\"].value_counts(dropna=False))\n",
    "\n",
    "# Update NaN values\n",
    "used_cars.loc[used_cars[\"body_type\"].isna(), \"body_type\"] = \"other\"\n",
    "\n",
    "# Convert body_type to title case\n",
    "used_cars[\"body_type\"] = used_cars[\"body_type\"].str.title()\n",
    "\n",
    "# Check the dtype\n",
    "print(used_cars[\"body_type\"].dtype)"
   ]
  },
  {
   "cell_type": "code",
   "execution_count": 96,
   "id": "add0ddf6",
   "metadata": {},
   "outputs": [],
   "source": [
    "import numpy as np\n",
    "from random import randint\n",
    "\n",
    "used_cars[\"Sale Rating\"] = np.array([randint(1, 5) for _ in range(38531)])"
   ]
  },
  {
   "cell_type": "code",
   "execution_count": 97,
   "id": "0c5d8d49",
   "metadata": {},
   "outputs": [
    {
     "name": "stdout",
     "output_type": "stream",
     "text": [
      "1    7774\n",
      "4    7694\n",
      "5    7692\n",
      "2    7691\n",
      "3    7680\n",
      "Name: Sale Rating, dtype: int64\n"
     ]
    }
   ],
   "source": [
    "# Print the frequency table of Sale Rating\n",
    "print(used_cars[\"Sale Rating\"].value_counts())"
   ]
  },
  {
   "cell_type": "markdown",
   "id": "2eee004f",
   "metadata": {},
   "source": [
    "average_score = used_cars[\"Sale Rating\"].mean()\n",
    "\n",
    "Answer: A type error, because numpy doesn't understand the categorical dtype."
   ]
  },
  {
   "cell_type": "code",
   "execution_count": 98,
   "id": "8ab86fe9",
   "metadata": {},
   "outputs": [
    {
     "name": "stdout",
     "output_type": "stream",
     "text": [
      "1    7774\n",
      "4    7694\n",
      "5    7692\n",
      "2    7691\n",
      "3    7680\n",
      "Name: Sale Rating, dtype: int64\n",
      "2.995821546287405\n"
     ]
    }
   ],
   "source": [
    "# Print the frequency table of Sale Rating\n",
    "print(used_cars[\"Sale Rating\"].value_counts())\n",
    "\n",
    "# Find the average score\n",
    "average_score = used_cars[\"Sale Rating\"].astype(int).mean()\n",
    "\n",
    "# Print the average\n",
    "print(average_score)"
   ]
  },
  {
   "cell_type": "code",
   "execution_count": 101,
   "id": "4fd5ba11",
   "metadata": {},
   "outputs": [
    {
     "name": "stdout",
     "output_type": "stream",
     "text": [
      "black     7705\n",
      "silver    6852\n",
      "blue      5802\n",
      "white     4212\n",
      "grey      3751\n",
      "red       2925\n",
      "green     2760\n",
      "other     2688\n",
      "brown      886\n",
      "violet     463\n",
      "yellow     303\n",
      "orange     184\n",
      "Name: color, dtype: int64\n",
      "{8: 'silver', 1: 'blue', 7: 'red', 0: 'black', 4: 'grey', 6: 'other', 2: 'brown', 10: 'white', 3: 'green', 9: 'violet', 5: 'orange', 11: 'yellow'}\n"
     ]
    }
   ],
   "source": [
    "# Convert to categorical and print the frequency table\n",
    "used_cars[\"color\"] = used_cars[\"color\"].astype(\"category\")\n",
    "print(used_cars[\"color\"].value_counts())\n",
    "\n",
    "# Create a label encoding\n",
    "used_cars[\"color_code\"] = used_cars[\"color\"].cat.codes\n",
    "\n",
    "# Create codes and categories objects\n",
    "codes = used_cars['color_code']\n",
    "categories = used_cars[\"color\"]\n",
    "color_map = dict(zip(codes, categories))\n",
    "\n",
    "# Print the map\n",
    "print(color_map)"
   ]
  },
  {
   "cell_type": "code",
   "execution_count": 107,
   "id": "af9b8d02",
   "metadata": {},
   "outputs": [
    {
     "data": {
      "text/html": [
       "<div>\n",
       "<style scoped>\n",
       "    .dataframe tbody tr th:only-of-type {\n",
       "        vertical-align: middle;\n",
       "    }\n",
       "\n",
       "    .dataframe tbody tr th {\n",
       "        vertical-align: top;\n",
       "    }\n",
       "\n",
       "    .dataframe thead th {\n",
       "        text-align: right;\n",
       "    }\n",
       "</style>\n",
       "<table border=\"1\" class=\"dataframe\">\n",
       "  <thead>\n",
       "    <tr style=\"text-align: right;\">\n",
       "      <th></th>\n",
       "      <th>engine_fuel</th>\n",
       "      <th>color</th>\n",
       "      <th>transmission</th>\n",
       "      <th>price_usd</th>\n",
       "    </tr>\n",
       "  </thead>\n",
       "  <tbody>\n",
       "    <tr>\n",
       "      <th>0</th>\n",
       "      <td>gasoline</td>\n",
       "      <td>silver</td>\n",
       "      <td>automatic</td>\n",
       "      <td>10900.00</td>\n",
       "    </tr>\n",
       "    <tr>\n",
       "      <th>1</th>\n",
       "      <td>gasoline</td>\n",
       "      <td>blue</td>\n",
       "      <td>automatic</td>\n",
       "      <td>5000.00</td>\n",
       "    </tr>\n",
       "    <tr>\n",
       "      <th>2</th>\n",
       "      <td>gasoline</td>\n",
       "      <td>red</td>\n",
       "      <td>automatic</td>\n",
       "      <td>2800.00</td>\n",
       "    </tr>\n",
       "    <tr>\n",
       "      <th>3</th>\n",
       "      <td>gasoline</td>\n",
       "      <td>blue</td>\n",
       "      <td>mechanical</td>\n",
       "      <td>9999.00</td>\n",
       "    </tr>\n",
       "    <tr>\n",
       "      <th>4</th>\n",
       "      <td>gasoline</td>\n",
       "      <td>black</td>\n",
       "      <td>automatic</td>\n",
       "      <td>2134.11</td>\n",
       "    </tr>\n",
       "  </tbody>\n",
       "</table>\n",
       "</div>"
      ],
      "text/plain": [
       "  engine_fuel   color transmission  price_usd\n",
       "0    gasoline  silver    automatic   10900.00\n",
       "1    gasoline    blue    automatic    5000.00\n",
       "2    gasoline     red    automatic    2800.00\n",
       "3    gasoline    blue   mechanical    9999.00\n",
       "4    gasoline   black    automatic    2134.11"
      ]
     },
     "execution_count": 107,
     "metadata": {},
     "output_type": "execute_result"
    }
   ],
   "source": [
    "used_cars_updated = used_cars[['engine_fuel', 'color', 'transmission', 'price_usd']]\n",
    "used_cars_updated.head()"
   ]
  },
  {
   "cell_type": "code",
   "execution_count": 115,
   "id": "283c9e65",
   "metadata": {},
   "outputs": [],
   "source": [
    "color_map = {1: 'other', 0: 'black', 2: 'white'}\n",
    "fuel_map = {3: 'gasoline', 2: 'gas', 0: 'diesel', 5: 'hybrid-petrol', 4: 'hybrid-diesel', 1: 'electric'}\n",
    "transmission_map = {0: 'automatic', 1: 'mechanical'}"
   ]
  },
  {
   "cell_type": "code",
   "execution_count": 116,
   "id": "13b7d5a9",
   "metadata": {},
   "outputs": [
    {
     "name": "stdout",
     "output_type": "stream",
     "text": [
      "<class 'pandas.core.frame.DataFrame'>\n",
      "RangeIndex: 38531 entries, 0 to 38530\n",
      "Data columns (total 5 columns):\n",
      " #   Column        Non-Null Count  Dtype  \n",
      "---  ------        --------------  -----  \n",
      " 0   engine_fuel   0 non-null      object \n",
      " 1   color         0 non-null      object \n",
      " 2   transmission  0 non-null      object \n",
      " 3   price_usd     38531 non-null  float64\n",
      " 4   nan           0 non-null      float64\n",
      "dtypes: float64(2), object(3)\n",
      "memory usage: 1.5+ MB\n"
     ]
    },
    {
     "name": "stderr",
     "output_type": "stream",
     "text": [
      "C:\\Users\\Erturk Memmedli\\AppData\\Local\\Temp\\ipykernel_9208\\1259570369.py:2: SettingWithCopyWarning: \n",
      "A value is trying to be set on a copy of a slice from a DataFrame.\n",
      "Try using .loc[row_indexer,col_indexer] = value instead\n",
      "\n",
      "See the caveats in the documentation: https://pandas.pydata.org/pandas-docs/stable/user_guide/indexing.html#returning-a-view-versus-a-copy\n",
      "  used_cars_updated[\"color\"] = used_cars_updated[\"color\"].map(color_map)\n",
      "C:\\Users\\Erturk Memmedli\\AppData\\Local\\Temp\\ipykernel_9208\\1259570369.py:4: SettingWithCopyWarning: \n",
      "A value is trying to be set on a copy of a slice from a DataFrame.\n",
      "Try using .loc[row_indexer,col_indexer] = value instead\n",
      "\n",
      "See the caveats in the documentation: https://pandas.pydata.org/pandas-docs/stable/user_guide/indexing.html#returning-a-view-versus-a-copy\n",
      "  used_cars_updated[\"engine_fuel\"] = used_cars_updated[\"engine_fuel\"].map(fuel_map)\n",
      "C:\\Users\\Erturk Memmedli\\AppData\\Local\\Temp\\ipykernel_9208\\1259570369.py:6: SettingWithCopyWarning: \n",
      "A value is trying to be set on a copy of a slice from a DataFrame.\n",
      "Try using .loc[row_indexer,col_indexer] = value instead\n",
      "\n",
      "See the caveats in the documentation: https://pandas.pydata.org/pandas-docs/stable/user_guide/indexing.html#returning-a-view-versus-a-copy\n",
      "  used_cars_updated[\"transmission\"] = used_cars_updated[\"transmission\"].map(transmission_map)\n"
     ]
    }
   ],
   "source": [
    "# Update the color column using the color_map\n",
    "used_cars_updated[\"color\"] = used_cars_updated[\"color\"].map(color_map)\n",
    "# Update the engine fuel column using the fuel_map\n",
    "used_cars_updated[\"engine_fuel\"] = used_cars_updated[\"engine_fuel\"].map(fuel_map)\n",
    "# Update the transmission column using the transmission_map\n",
    "used_cars_updated[\"transmission\"] = used_cars_updated[\"transmission\"].map(transmission_map)\n",
    "\n",
    "# Print the info statement\n",
    "used_cars_updated.info()"
   ]
  },
  {
   "cell_type": "code",
   "execution_count": 119,
   "id": "92aa1d25",
   "metadata": {},
   "outputs": [
    {
     "name": "stdout",
     "output_type": "stream",
     "text": [
      "Volkswagen       4243\n",
      "Opel             2759\n",
      "BMW              2610\n",
      "Ford             2566\n",
      "Renault          2493\n",
      "Audi             2468\n",
      "Mercedes-Benz    2237\n",
      "Peugeot          1909\n",
      "Citroen          1562\n",
      "Nissan           1361\n",
      "Mazda            1328\n",
      "Toyota           1246\n",
      "Hyundai          1116\n",
      "Skoda            1089\n",
      "Kia               912\n",
      "Mitsubishi        887\n",
      "Fiat              824\n",
      "Honda             797\n",
      "Volvo             721\n",
      "ВАЗ               481\n",
      "Chevrolet         436\n",
      "Chrysler          410\n",
      "Seat              303\n",
      "Dodge             297\n",
      "Subaru            291\n",
      "Rover             235\n",
      "Suzuki            234\n",
      "Daewoo            221\n",
      "Lexus             213\n",
      "Alfa Romeo        207\n",
      "ГАЗ               200\n",
      "Land Rover        184\n",
      "Infiniti          162\n",
      "LADA              146\n",
      "Iveco             139\n",
      "Saab              108\n",
      "Jeep              107\n",
      "Lancia             92\n",
      "SsangYong          79\n",
      "УАЗ                74\n",
      "Geely              71\n",
      "Mini               68\n",
      "Acura              66\n",
      "Porsche            61\n",
      "Dacia              59\n",
      "Chery              58\n",
      "Москвич            55\n",
      "Jaguar             53\n",
      "Buick              47\n",
      "Lifan              47\n",
      "Cadillac           43\n",
      "Pontiac            42\n",
      "ЗАЗ                42\n",
      "Lincoln            36\n",
      "Great Wall         36\n",
      "Name: manufacturer_name, dtype: int64\n"
     ]
    }
   ],
   "source": [
    "# Print the manufacturer name frequency table\n",
    "print(used_cars[\"manufacturer_name\"].value_counts())"
   ]
  },
  {
   "cell_type": "code",
   "execution_count": 120,
   "id": "93616c9f",
   "metadata": {},
   "outputs": [
    {
     "data": {
      "text/plain": [
       "False    34288\n",
       "True      4243\n",
       "Name: is_volkswagen, dtype: int64"
      ]
     },
     "execution_count": 120,
     "metadata": {},
     "output_type": "execute_result"
    }
   ],
   "source": [
    "# Create a Boolean column based on if the manufacturer name that contain Volkswagen\n",
    "used_cars[\"is_volkswagen\"] = np.where(\n",
    "  used_cars[\"manufacturer_name\"].str.contains('Volkswagen', regex=False), True, False\n",
    ")\n",
    "\n",
    "used_cars[\"is_volkswagen\"].value_counts()"
   ]
  },
  {
   "cell_type": "code",
   "execution_count": 121,
   "id": "d901b38c",
   "metadata": {},
   "outputs": [
    {
     "data": {
      "text/plain": [
       "0    34288\n",
       "1     4243\n",
       "Name: is_volkswagen, dtype: int64"
      ]
     },
     "execution_count": 121,
     "metadata": {},
     "output_type": "execute_result"
    }
   ],
   "source": [
    "# Create a Boolean column based on if the manufacturer name that contain Volkswagen: using 0s an 1s\n",
    "used_cars[\"is_volkswagen\"] = np.where(\n",
    "  used_cars[\"manufacturer_name\"].str.contains(\"Volkswagen\", regex=False), 1, 0\n",
    ")\n",
    "\n",
    "used_cars[\"is_volkswagen\"].value_counts()"
   ]
  },
  {
   "cell_type": "code",
   "execution_count": 122,
   "id": "af5ed816",
   "metadata": {},
   "outputs": [
    {
     "name": "stdout",
     "output_type": "stream",
     "text": [
      "Volkswagen       4243\n",
      "Opel             2759\n",
      "BMW              2610\n",
      "Ford             2566\n",
      "Renault          2493\n",
      "Audi             2468\n",
      "Mercedes-Benz    2237\n",
      "Peugeot          1909\n",
      "Citroen          1562\n",
      "Nissan           1361\n",
      "Mazda            1328\n",
      "Toyota           1246\n",
      "Hyundai          1116\n",
      "Skoda            1089\n",
      "Kia               912\n",
      "Mitsubishi        887\n",
      "Fiat              824\n",
      "Honda             797\n",
      "Volvo             721\n",
      "ВАЗ               481\n",
      "Chevrolet         436\n",
      "Chrysler          410\n",
      "Seat              303\n",
      "Dodge             297\n",
      "Subaru            291\n",
      "Rover             235\n",
      "Suzuki            234\n",
      "Daewoo            221\n",
      "Lexus             213\n",
      "Alfa Romeo        207\n",
      "ГАЗ               200\n",
      "Land Rover        184\n",
      "Infiniti          162\n",
      "LADA              146\n",
      "Iveco             139\n",
      "Saab              108\n",
      "Jeep              107\n",
      "Lancia             92\n",
      "SsangYong          79\n",
      "УАЗ                74\n",
      "Geely              71\n",
      "Mini               68\n",
      "Acura              66\n",
      "Porsche            61\n",
      "Dacia              59\n",
      "Chery              58\n",
      "Москвич            55\n",
      "Jaguar             53\n",
      "Buick              47\n",
      "Lifan              47\n",
      "Cadillac           43\n",
      "Pontiac            42\n",
      "ЗАЗ                42\n",
      "Lincoln            36\n",
      "Great Wall         36\n",
      "Name: manufacturer_name, dtype: int64\n",
      "0    34288\n",
      "1     4243\n",
      "Name: is_volkswagen, dtype: int64\n"
     ]
    }
   ],
   "source": [
    "# Print the \"manufacturer_name\" frequency table.\n",
    "print(used_cars[\"manufacturer_name\"].value_counts())\n",
    "\n",
    "# Create a Boolean column for the most common manufacturer name\n",
    "used_cars[\"is_volkswagen\"] = np.where(\n",
    "  used_cars[\"manufacturer_name\"].str.contains(\"Volkswagen\", regex=False), 1, 0\n",
    ")\n",
    "  \n",
    "# Check the final frequency table\n",
    "print(used_cars['is_volkswagen'].value_counts())"
   ]
  },
  {
   "cell_type": "code",
   "execution_count": null,
   "id": "2fb4949c",
   "metadata": {},
   "outputs": [],
   "source": [
    "soda_onehot = pd.get_dummies(\n",
    "  soda[[\"favorite_soda\"]], \n",
    "  columns=[\"favorite_soda\"]\n",
    ")\n",
    "\n",
    "soda_onehot"
   ]
  },
  {
   "cell_type": "markdown",
   "id": "7dcc8072",
   "metadata": {},
   "source": [
    "Answer: Two: one for Coke and one for Pepsi. We can tell if a person did not respond if both columns are 0."
   ]
  },
  {
   "cell_type": "code",
   "execution_count": 123,
   "id": "982a5130",
   "metadata": {},
   "outputs": [
    {
     "name": "stdout",
     "output_type": "stream",
     "text": [
      "(38531, 88)\n"
     ]
    }
   ],
   "source": [
    "# Create one-hot encoding for just two columns\n",
    "used_cars_simple = pd.get_dummies(\n",
    "  used_cars,\n",
    "  # Specify the columns from the instructions\n",
    "  columns=[\"manufacturer_name\", \"transmission\"],\n",
    "  # Set the prefix\n",
    "  prefix=\"dummy\"\n",
    ")\n",
    "\n",
    "# Print the shape of the new dataset\n",
    "print(used_cars_simple.shape)"
   ]
  }
 ],
 "metadata": {
  "kernelspec": {
   "display_name": "Python 3 (ipykernel)",
   "language": "python",
   "name": "python3"
  },
  "language_info": {
   "codemirror_mode": {
    "name": "ipython",
    "version": 3
   },
   "file_extension": ".py",
   "mimetype": "text/x-python",
   "name": "python",
   "nbconvert_exporter": "python",
   "pygments_lexer": "ipython3",
   "version": "3.10.5"
  }
 },
 "nbformat": 4,
 "nbformat_minor": 5
}
