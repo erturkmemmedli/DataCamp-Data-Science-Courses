{
 "cells": [
  {
   "cell_type": "markdown",
   "metadata": {},
   "source": [
    "# Introduction to Python"
   ]
  },
  {
   "cell_type": "markdown",
   "metadata": {},
   "source": [
    "## 1. Python Basics"
   ]
  },
  {
   "cell_type": "code",
   "execution_count": 1,
   "metadata": {},
   "outputs": [
    {
     "name": "stdout",
     "output_type": "stream",
     "text": [
      "0.625\n",
      "17\n"
     ]
    }
   ],
   "source": [
    "# Example, do not modify!\n",
    "print(5 / 8)\n",
    "\n",
    "# Print the sum of 7 and 10\n",
    "print(7+10)"
   ]
  },
  {
   "cell_type": "markdown",
   "metadata": {},
   "source": [
    "Answer: All of the above."
   ]
  },
  {
   "cell_type": "code",
   "execution_count": 2,
   "metadata": {},
   "outputs": [
    {
     "name": "stdout",
     "output_type": "stream",
     "text": [
      "0.625\n",
      "17\n"
     ]
    }
   ],
   "source": [
    "# Division\n",
    "print(5 / 8)\n",
    "\n",
    "# Addition\n",
    "print(7 + 10)"
   ]
  },
  {
   "cell_type": "code",
   "execution_count": 3,
   "metadata": {},
   "outputs": [
    {
     "name": "stdout",
     "output_type": "stream",
     "text": [
      "10\n",
      "0\n",
      "15\n",
      "5.0\n",
      "4\n",
      "16\n",
      "194.87171000000012\n"
     ]
    }
   ],
   "source": [
    "# Addition, subtraction\n",
    "print(5 + 5)\n",
    "print(5 - 5)\n",
    "\n",
    "# Multiplication, division, modulo, and exponentiation\n",
    "print(3 * 5)\n",
    "print(10 / 2)\n",
    "print(18 % 7)\n",
    "print(4 ** 2)\n",
    "\n",
    "# How much is your $100 worth after 7 years?\n",
    "print(100 * 1.1 ** 7)"
   ]
  },
  {
   "cell_type": "code",
   "execution_count": 4,
   "metadata": {},
   "outputs": [
    {
     "name": "stdout",
     "output_type": "stream",
     "text": [
      "100\n"
     ]
    }
   ],
   "source": [
    "# Create a variable savings\n",
    "savings= 100\n",
    "\n",
    "# Print out savings\n",
    "print(savings)"
   ]
  },
  {
   "cell_type": "code",
   "execution_count": 5,
   "metadata": {},
   "outputs": [
    {
     "name": "stdout",
     "output_type": "stream",
     "text": [
      "194.87171000000012\n"
     ]
    }
   ],
   "source": [
    "# Create a variable savings\n",
    "savings = 100\n",
    "\n",
    "# Create a variable growth_multiplier\n",
    "growth_multiplier = 1.1\n",
    "\n",
    "# Calculate result\n",
    "result=savings*growth_multiplier**7\n",
    "\n",
    "# Print out result\n",
    "print(result)"
   ]
  },
  {
   "cell_type": "code",
   "execution_count": 6,
   "metadata": {},
   "outputs": [],
   "source": [
    "# Create a variable desc\n",
    "desc=\"compound interest\"\n",
    "\n",
    "# Create a variable profitable\n",
    "profitable=True"
   ]
  },
  {
   "cell_type": "markdown",
   "metadata": {},
   "source": [
    "type(a)\n",
    "\n",
    "type(b)\n",
    "\n",
    "type(c)\n",
    "\n",
    "Answer: is of type float, b is of type str, c is of type bool"
   ]
  },
  {
   "cell_type": "code",
   "execution_count": 7,
   "metadata": {},
   "outputs": [
    {
     "name": "stdout",
     "output_type": "stream",
     "text": [
      "<class 'float'>\n",
      "compound interestcompound interest\n"
     ]
    }
   ],
   "source": [
    "savings = 100\n",
    "growth_multiplier = 1.1\n",
    "desc = \"compound interest\"\n",
    "\n",
    "# Assign product of savings and growth_multiplier to year1\n",
    "year1=savings*growth_multiplier\n",
    "\n",
    "# Print the type of year1\n",
    "print(type(year1))\n",
    "\n",
    "# Assign sum of desc and desc to doubledesc\n",
    "doubledesc=desc+desc\n",
    "\n",
    "# Print out doubledesc\n",
    "print(doubledesc)"
   ]
  },
  {
   "cell_type": "code",
   "execution_count": 8,
   "metadata": {},
   "outputs": [
    {
     "name": "stdout",
     "output_type": "stream",
     "text": [
      "I started with $100 and now have $194.87171000000012. Awesome!\n"
     ]
    }
   ],
   "source": [
    "# Definition of savings and result\n",
    "savings = 100\n",
    "result = 100 * 1.10 ** 7\n",
    "\n",
    "# Fix the printout\n",
    "print(\"I started with $\" + str(savings) + \" and now have $\" + str(result) + \". Awesome!\")\n",
    "\n",
    "# Definition of pi_string\n",
    "pi_string = \"3.1415926\"\n",
    "\n",
    "# Convert pi_string into float: pi_float\n",
    "pi_float=float(pi_string)"
   ]
  },
  {
   "cell_type": "markdown",
   "metadata": {},
   "source": [
    "Answer: \"The correct answer to this multiple choice exercise is answer number \" + 2"
   ]
  },
  {
   "cell_type": "markdown",
   "metadata": {},
   "source": [
    "## 2. Python Lists"
   ]
  },
  {
   "cell_type": "code",
   "execution_count": 9,
   "metadata": {},
   "outputs": [
    {
     "name": "stdout",
     "output_type": "stream",
     "text": [
      "[11.25, 18.0, 20.0, 10.75, 9.5]\n"
     ]
    }
   ],
   "source": [
    "# area variables (in square meters)\n",
    "hall = 11.25\n",
    "kit = 18.0\n",
    "liv = 20.0\n",
    "bed = 10.75\n",
    "bath = 9.50\n",
    "\n",
    "# Create list areas\n",
    "areas=[hall,kit,liv,bed, bath]\n",
    "\n",
    "# Print areas\n",
    "\n",
    "print(areas)"
   ]
  },
  {
   "cell_type": "code",
   "execution_count": 10,
   "metadata": {},
   "outputs": [
    {
     "name": "stdout",
     "output_type": "stream",
     "text": [
      "['hallway', 11.25, 'kitchen', 18.0, 'living room', 20.0, 'bedroom', 10.75, 'bathroom', 9.5]\n"
     ]
    }
   ],
   "source": [
    "# area variables (in square meters)\n",
    "hall = 11.25\n",
    "kit = 18.0\n",
    "liv = 20.0\n",
    "bed = 10.75\n",
    "bath = 9.50\n",
    "\n",
    "# Adapt list areas\n",
    "areas = [\"hallway\",hall,\"kitchen\", kit, \"living room\", liv,\"bedroom\", bed, \"bathroom\", bath]\n",
    "\n",
    "# Print areas\n",
    "print(areas)"
   ]
  },
  {
   "cell_type": "markdown",
   "metadata": {},
   "source": [
    "A = [1, 3, 4, 2]\n",
    "\n",
    "B = [[1, 2, 3], [4, 5, 7]]\n",
    "\n",
    "C = [1 + 2, \"a\" * 5, 3]\n",
    "\n",
    "Answer: A, B and C"
   ]
  },
  {
   "cell_type": "code",
   "execution_count": 11,
   "metadata": {},
   "outputs": [
    {
     "name": "stdout",
     "output_type": "stream",
     "text": [
      "[['hallway', 11.25], ['kitchen', 18.0], ['living room', 20.0], ['bedroom', 10.75], ['bathroom', 9.5]]\n",
      "<class 'list'>\n"
     ]
    }
   ],
   "source": [
    "# area variables (in square meters)\n",
    "hall = 11.25\n",
    "kit = 18.0\n",
    "liv = 20.0\n",
    "bed = 10.75\n",
    "bath = 9.50\n",
    "\n",
    "# house information as list of lists\n",
    "house = [[\"hallway\", hall],\n",
    "         [\"kitchen\", kit],\n",
    "         [\"living room\", liv],\n",
    "        [\"bedroom\",bed],\n",
    "        [\"bathroom\",bath]]\n",
    "\n",
    "# Print out house\n",
    "print(house)\n",
    "\n",
    "# Print out the type of house\n",
    "print(type(house))"
   ]
  },
  {
   "cell_type": "code",
   "execution_count": 12,
   "metadata": {},
   "outputs": [
    {
     "name": "stdout",
     "output_type": "stream",
     "text": [
      "11.25\n",
      "9.5\n",
      "20.0\n"
     ]
    }
   ],
   "source": [
    "# Create the areas list\n",
    "areas = [\"hallway\", 11.25, \"kitchen\", 18.0, \"living room\", 20.0, \"bedroom\", 10.75, \"bathroom\", 9.50]\n",
    "\n",
    "# Print out second element from areas\n",
    "print(areas[1])\n",
    "\n",
    "# Print out last element from areas\n",
    "print(areas[-1])\n",
    "\n",
    "# Print out the area of the living room\n",
    "print(areas[5])"
   ]
  },
  {
   "cell_type": "code",
   "execution_count": 13,
   "metadata": {},
   "outputs": [
    {
     "name": "stdout",
     "output_type": "stream",
     "text": [
      "28.75\n"
     ]
    }
   ],
   "source": [
    "# Create the areas list\n",
    "areas = [\"hallway\", 11.25, \"kitchen\", 18.0, \"living room\", 20.0, \"bedroom\", 10.75, \"bathroom\", 9.50]\n",
    "\n",
    "# Sum of kitchen and bedroom area: eat_sleep_area\n",
    "eat_sleep_area=areas[3]+areas[7]\n",
    "\n",
    "# Print the variable eat_sleep_area\n",
    "print(eat_sleep_area)"
   ]
  },
  {
   "cell_type": "code",
   "execution_count": 14,
   "metadata": {},
   "outputs": [
    {
     "name": "stdout",
     "output_type": "stream",
     "text": [
      "['hallway', 11.25, 'kitchen', 18.0, 'living room', 20.0] ['bedroom', 10.75, 'bathroom', 9.5]\n"
     ]
    }
   ],
   "source": [
    "# Create the areas list\n",
    "areas = [\"hallway\", 11.25, \"kitchen\", 18.0, \"living room\", 20.0, \"bedroom\", 10.75, \"bathroom\", 9.50]\n",
    "\n",
    "# Use slicing to create downstairs\n",
    "downstairs=areas[:6]\n",
    "\n",
    "# Use slicing to create upstairs\n",
    "upstairs=areas[-4:]\n",
    "\n",
    "# Print out downstairs and upstairs\n",
    "print (downstairs,upstairs)"
   ]
  },
  {
   "cell_type": "code",
   "execution_count": 15,
   "metadata": {},
   "outputs": [],
   "source": [
    "# Create the areas list\n",
    "areas = [\"hallway\", 11.25, \"kitchen\", 18.0, \"living room\", 20.0, \"bedroom\", 10.75, \"bathroom\", 9.50]\n",
    "\n",
    "# Alternative slicing to create downstairs\n",
    "downstairs=areas[:6]\n",
    "\n",
    "# Alternative slicing to create upstairs\n",
    "upstairs=areas[-4:]"
   ]
  },
  {
   "cell_type": "markdown",
   "metadata": {},
   "source": [
    "house[-1][1]\n",
    "\n",
    "Answer: A float: the bathroom area"
   ]
  },
  {
   "cell_type": "code",
   "execution_count": 16,
   "metadata": {},
   "outputs": [],
   "source": [
    "# Create the areas list\n",
    "areas = [\"hallway\", 11.25, \"kitchen\", 18.0, \"living room\", 20.0, \"bedroom\", 10.75, \"bathroom\", 9.50]\n",
    "\n",
    "# Correct the bathroom area\n",
    "areas[-1]=10.5\n",
    "\n",
    "# Change \"living room\" to \"chill zone\"\n",
    "areas[4]=\"chill zone\""
   ]
  },
  {
   "cell_type": "code",
   "execution_count": 17,
   "metadata": {},
   "outputs": [],
   "source": [
    "# Create the areas list and make some changes\n",
    "areas = [\"hallway\", 11.25, \"kitchen\", 18.0, \"chill zone\", 20.0,\n",
    "         \"bedroom\", 10.75, \"bathroom\", 10.50]\n",
    "\n",
    "# Add poolhouse data to areas, new list is areas_1\n",
    "areas_1=areas+ [\"poolhouse\", 24.5]\n",
    "\n",
    "# Add garage data to areas_1, new list is areas_2\n",
    "areas_2=areas_1+ [ \"garage\", 15.45]"
   ]
  },
  {
   "cell_type": "markdown",
   "metadata": {},
   "source": [
    "Answer: del(areas[-4:-2])"
   ]
  },
  {
   "cell_type": "code",
   "execution_count": 18,
   "metadata": {},
   "outputs": [
    {
     "name": "stdout",
     "output_type": "stream",
     "text": [
      "[11.25, 18.0, 20.0, 10.75, 9.5]\n"
     ]
    }
   ],
   "source": [
    "# Create list areas\n",
    "areas = [11.25, 18.0, 20.0, 10.75, 9.50]\n",
    "\n",
    "# Create areas_copy\n",
    "areas_copy = areas[:]\n",
    "\n",
    "# Change areas_copy\n",
    "areas_copy[0] = 5.0\n",
    "\n",
    "# Print areas\n",
    "print(areas)"
   ]
  },
  {
   "cell_type": "markdown",
   "metadata": {},
   "source": [
    "## 3. Functions and Packages"
   ]
  },
  {
   "cell_type": "code",
   "execution_count": 19,
   "metadata": {},
   "outputs": [
    {
     "name": "stdout",
     "output_type": "stream",
     "text": [
      "<class 'list'>\n",
      "[1, 2, 3, 4]\n"
     ]
    }
   ],
   "source": [
    "# Create variables var1 and var2\n",
    "var1 = [1, 2, 3, 4]\n",
    "var2 = True\n",
    "\n",
    "# Print out type of var1\n",
    "print(type(var1))\n",
    "\n",
    "# Print out length of var1\n",
    "print(var1)\n",
    "\n",
    "# Convert var2 to an integer: out2\n",
    "out2 = int(var2)"
   ]
  },
  {
   "cell_type": "markdown",
   "metadata": {},
   "source": [
    "help(pow)\n",
    "\n",
    "Answer: pow() takes three arguments: base, exp, and mod. base and exp are required arguments, mod is an optional argument."
   ]
  },
  {
   "cell_type": "code",
   "execution_count": 20,
   "metadata": {},
   "outputs": [
    {
     "name": "stdout",
     "output_type": "stream",
     "text": [
      "[20.0, 18.0, 11.25, 10.75, 9.5]\n"
     ]
    }
   ],
   "source": [
    "# Create lists first and second\n",
    "first = [11.25, 18.0, 20.0]\n",
    "second = [10.75, 9.50]\n",
    "\n",
    "# Paste together first and second: full\n",
    "full = first + second\n",
    "\n",
    "# Sort full in descending order: full_sorted\n",
    "full_sorted = sorted(full, reverse = True)\n",
    "\n",
    "# Print out full_sorted\n",
    "print(full_sorted)"
   ]
  },
  {
   "cell_type": "code",
   "execution_count": 21,
   "metadata": {},
   "outputs": [
    {
     "name": "stdout",
     "output_type": "stream",
     "text": [
      "poolhouse POOLHOUSE\n",
      "3\n"
     ]
    }
   ],
   "source": [
    "# string to experiment with: place\n",
    "place = \"poolhouse\"\n",
    "\n",
    "# Use upper() on place: place_up\n",
    "place_up = place.upper()\n",
    "\n",
    "# Print out place and place_up\n",
    "print(place, place_up)\n",
    "\n",
    "# Print out the number of o's in place\n",
    "print(place.count('o'))"
   ]
  },
  {
   "cell_type": "code",
   "execution_count": 23,
   "metadata": {},
   "outputs": [
    {
     "name": "stdout",
     "output_type": "stream",
     "text": [
      "2\n",
      "1\n"
     ]
    }
   ],
   "source": [
    "# Create list areas\n",
    "areas = [11.25, 18.0, 20.0, 10.75, 9.50]\n",
    "\n",
    "# Print out the index of the element 20.0\n",
    "print(areas.index(20.0))\n",
    "\n",
    "# Print out how often 9.50 appears in areas\n",
    "print(areas.count(9.50))"
   ]
  },
  {
   "cell_type": "code",
   "execution_count": 24,
   "metadata": {},
   "outputs": [
    {
     "name": "stdout",
     "output_type": "stream",
     "text": [
      "[11.25, 18.0, 20.0, 10.75, 9.5, 24.5, 15.45]\n",
      "[15.45, 24.5, 9.5, 10.75, 20.0, 18.0, 11.25]\n"
     ]
    }
   ],
   "source": [
    "# Create list areas\n",
    "areas = [11.25, 18.0, 20.0, 10.75, 9.50]\n",
    "\n",
    "# Use append twice to add poolhouse and garage size\n",
    "areas.append(24.5)\n",
    "areas.append(15.45)\n",
    "\n",
    "# Print out areas\n",
    "print(areas)\n",
    "\n",
    "# Reverse the orders of the elements in areas\n",
    "areas.reverse()\n",
    "\n",
    "# Print out areas\n",
    "print(areas)"
   ]
  },
  {
   "cell_type": "code",
   "execution_count": 25,
   "metadata": {},
   "outputs": [
    {
     "name": "stdout",
     "output_type": "stream",
     "text": [
      "Circumference: 2.701769682087222\n",
      "Area: 0.5808804816487527\n"
     ]
    }
   ],
   "source": [
    "# Definition of radius\n",
    "r = 0.43\n",
    "\n",
    "# Import the math package\n",
    "import math\n",
    "\n",
    "# Calculate C\n",
    "C = 2 * math.pi * r\n",
    "\n",
    "# Calculate A\n",
    "A = math.pi * r ** 2\n",
    "\n",
    "# Build printout\n",
    "print(\"Circumference: \" + str(C))\n",
    "print(\"Area: \" + str(A))"
   ]
  },
  {
   "cell_type": "code",
   "execution_count": 26,
   "metadata": {},
   "outputs": [
    {
     "name": "stdout",
     "output_type": "stream",
     "text": [
      "40317.10572106901\n"
     ]
    }
   ],
   "source": [
    "# Definition of radius\n",
    "r = 192500\n",
    "\n",
    "# Import radians function of math package\n",
    "from math import radians\n",
    "\n",
    "# Travel distance of Moon over 12 degrees. Store in dist.\n",
    "dist = radians(12) * r\n",
    "\n",
    "# Print out dist\n",
    "print(dist)"
   ]
  },
  {
   "cell_type": "markdown",
   "metadata": {},
   "source": [
    "Answer: from scipy.linalg import inv as my_inv"
   ]
  },
  {
   "cell_type": "markdown",
   "metadata": {},
   "source": [
    "## 4. NumPy"
   ]
  },
  {
   "cell_type": "code",
   "execution_count": 27,
   "metadata": {},
   "outputs": [
    {
     "name": "stdout",
     "output_type": "stream",
     "text": [
      "<class 'numpy.ndarray'>\n"
     ]
    }
   ],
   "source": [
    "# Create list baseball\n",
    "baseball = [180, 215, 210, 210, 188, 176, 209, 200]\n",
    "\n",
    "# Import the numpy package as np\n",
    "import numpy as np\n",
    "\n",
    "# Create a numpy array from baseball: np_baseball\n",
    "np_baseball = np.array(baseball)\n",
    "\n",
    "# Print out type of np_baseball\n",
    "print(type(np_baseball))"
   ]
  },
  {
   "cell_type": "code",
   "execution_count": 30,
   "metadata": {},
   "outputs": [],
   "source": [
    "height_in = [74, 74, 72, 72, 73, 69, 69, 71, 76, 71, 73, 73, 74, 74, 69, 70, 73, 75, 78, 79, 76, \n",
    "             74, 76, 72, 71, 75, 77, 74, 73, 74, 78, 73, 75, 73, 75, 75, 74, 69, 71, 74, 73, 73, \n",
    "             76, 74, 74, 70, 72, 77, 74, 70, 73, 75, 76, 76, 78, 74, 74, 76, 77, 81, 78, 75, 77, \n",
    "             75, 76, 74, 72, 72, 75, 73, 73, 73, 70, 70, 70, 76, 68, 71, 72, 75, 75, 75, 75, 68, \n",
    "             74, 78, 71, 73, 76, 74, 74, 79, 75, 73, 76, 74, 74, 73, 72, 74, 73, 74, 72, 73, 69, \n",
    "             72, 73, 75, 75, 73, 72, 72, 76, 74, 72, 77, 74, 77, 75, 76, 80, 74, 74, 75, 78, 73, \n",
    "             73, 74, 75, 76, 71, 73, 74, 76, 76, 74, 73, 74, 70, 72, 73, 73, 73, 73, 71, 74, 74, \n",
    "             72, 74, 71, 74, 73, 75, 75, 79, 73, 75, 76, 74, 76, 78, 74, 76, 72, 74, 76, 74, 75, \n",
    "             78, 75, 72, 74, 72, 74, 70, 71, 70, 75, 71, 71, 73, 72, 71, 73, 72, 75, 74, 74, 75, \n",
    "             73, 77, 73, 76, 75, 74, 76, 75, 73, 71, 76, 75, 72, 71, 77, 73, 74, 71, 72, 74, 75, \n",
    "             73, 72, 75, 75, 74, 72, 74, 71, 70, 74, 77, 77, 75, 75, 78, 75, 76, 73, 75, 75, 79, \n",
    "             77, 76, 71, 75, 74, 69, 71, 76, 72, 72, 70, 72, 73, 71, 72, 71, 73, 72, 73, 74, 74, \n",
    "             72, 75, 74, 74, 77, 75, 73, 72, 71, 74, 77, 75, 75, 75, 78, 78, 74, 76, 78, 76, 70, \n",
    "             72, 80, 74, 74, 71, 70, 72, 71, 74, 71, 72, 71, 74, 69, 76, 75, 75, 76, 73, 76, 73, \n",
    "             77, 73, 72, 72, 77, 77, 71, 74, 74, 73, 78, 75, 73, 70, 74, 72, 73, 73, 75, 75, 74, \n",
    "             76, 73, 74, 75, 75, 72, 73, 73, 72, 74, 78, 76, 73, 74, 75, 70, 75, 71, 72, 78, 75, \n",
    "             73, 73, 71, 75, 77, 72, 69, 73, 74, 72, 70, 75, 70, 72, 72, 74, 73, 74, 76, 75, 80, \n",
    "             72, 75, 73, 74, 74, 73, 75, 75, 71, 73, 75, 74, 74, 72, 74, 74, 74, 73, 76, 75, 72, \n",
    "             73, 73, 73, 72, 72, 72, 72, 71, 75, 75, 74, 73, 75, 79, 74, 76, 73, 74, 74, 72, 74, \n",
    "             74, 75, 78, 74, 74, 74, 77, 70, 73, 74, 73, 71, 75, 71, 72, 77, 74, 70, 77, 73, 72, \n",
    "             76, 71, 76, 78, 75, 73, 78, 74, 79, 75, 76, 72, 75, 75, 70, 72, 70, 74, 71, 76, 73, \n",
    "             76, 71, 69, 72, 72, 69, 73, 69, 73, 74, 74, 72, 71, 72, 72, 76, 76, 76, 74, 76, 75, \n",
    "             71, 72, 71, 73, 75, 76, 75, 71, 75, 74, 72, 73, 73, 73, 73, 76, 72, 76, 73, 73, 73, \n",
    "             75, 75, 77, 73, 72, 75, 70, 74, 72, 80, 71, 71, 74, 74, 73, 75, 76, 73, 77, 72, 73, \n",
    "             77, 76, 71, 75, 73, 74, 77, 71, 72, 73, 69, 73, 70, 74, 76, 73, 73, 75, 73, 79, 74, \n",
    "             73, 74, 77, 75, 74, 73, 77, 73, 77, 74, 74, 73, 77, 74, 77, 75, 77, 75, 71, 74, 70, \n",
    "             79, 72, 72, 70, 74, 74, 72, 73, 72, 74, 74, 76, 82, 74, 74, 70, 73, 73, 74, 77, 72, \n",
    "             76, 73, 73, 72, 74, 74, 71, 72, 75, 74, 74, 77, 70, 71, 73, 76, 71, 75, 74, 72, 76, \n",
    "             79, 76, 73, 76, 78, 75, 76, 72, 72, 73, 73, 75, 71, 76, 70, 75, 74, 75, 73, 71, 71, \n",
    "             72, 73, 73, 72, 69, 73, 78, 71, 73, 75, 76, 70, 74, 77, 75, 79, 72, 77, 73, 75, 75, \n",
    "             75, 73, 73, 76, 77, 75, 70, 71, 71, 75, 74, 69, 70, 75, 72, 75, 73, 72, 72, 72, 76, \n",
    "             75, 74, 69, 73, 72, 72, 75, 77, 76, 80, 77, 76, 79, 71, 75, 73, 76, 77, 73, 76, 70, \n",
    "             75, 73, 75, 70, 69, 71, 72, 72, 73, 70, 70, 73, 76, 75, 72, 73, 79, 71, 72, 74, 74, \n",
    "             74, 72, 76, 76, 72, 72, 71, 72, 72, 70, 77, 74, 72, 76, 71, 76, 71, 73, 70, 73, 73, \n",
    "             72, 71, 71, 71, 72, 72, 74, 74, 74, 71, 72, 75, 72, 71, 72, 72, 72, 72, 74, 74, 77, \n",
    "             75, 73, 75, 73, 76, 72, 77, 75, 72, 71, 71, 75, 72, 73, 73, 71, 70, 75, 71, 76, 73, \n",
    "             68, 71, 72, 74, 77, 72, 76, 78, 81, 72, 73, 76, 72, 72, 74, 76, 73, 76, 75, 70, 71, \n",
    "             74, 72, 73, 76, 76, 73, 71, 68, 71, 71, 74, 77, 69, 72, 76, 75, 76, 75, 76, 72, 74, \n",
    "             76, 74, 72, 75, 78, 77, 70, 72, 79, 74, 71, 68, 77, 75, 71, 72, 70, 72, 72, 73, 72, \n",
    "             74, 72, 72, 75, 72, 73, 74, 72, 78, 75, 72, 74, 75, 75, 76, 74, 74, 73, 74, 71, 74, \n",
    "             75, 76, 74, 76, 76, 73, 75, 75, 74, 68, 72, 75, 71, 70, 72, 73, 72, 75, 74, 70, 76, \n",
    "             71, 82, 72, 73, 74, 71, 75, 77, 72, 74, 72, 73, 78, 77, 73, 73, 73, 73, 73, 76, 75, \n",
    "             70, 73, 72, 73, 75, 74, 73, 73, 76, 73, 75, 70, 77, 72, 77, 74, 75, 75, 75, 75, 72, \n",
    "             74, 71, 76, 71, 75, 76, 83, 75, 74, 76, 72, 72, 75, 75, 72, 77, 73, 72, 70, 74, 72,\n",
    "             74, 72, 71, 70, 71, 76, 74, 76, 74, 74, 74, 75, 75, 71, 71, 74, 77, 71, 74, 75, 77, \n",
    "             76, 74, 76, 72, 71, 72, 75, 73, 68, 72, 69, 73, 73, 75, 70, 70, 74, 75, 74, 74, 73, \n",
    "             74, 75, 77, 73, 74, 76, 74, 75, 73, 76, 78, 75, 73, 77, 74, 72, 74, 72, 71, 73, 75, \n",
    "             73, 67, 67, 76, 74, 73, 70, 75, 70, 72, 77, 79, 78, 74, 75, 75, 78, 76, 75, 69, 75, \n",
    "             72, 75, 73, 74, 75, 75, 73]"
   ]
  },
  {
   "cell_type": "code",
   "execution_count": 31,
   "metadata": {},
   "outputs": [
    {
     "name": "stdout",
     "output_type": "stream",
     "text": [
      "[74 74 72 ... 75 75 73]\n",
      "[1.8796 1.8796 1.8288 ... 1.905  1.905  1.8542]\n"
     ]
    }
   ],
   "source": [
    "# height_in is available as a regular list\n",
    "\n",
    "# Import numpy\n",
    "import numpy as np\n",
    "\n",
    "# Create a numpy array from height_in: np_height_in\n",
    "np_height_in = np.array(height_in)\n",
    "\n",
    "# Print out np_height_in\n",
    "print(np_height_in)\n",
    "\n",
    "# Convert np_height_in to m: np_height_m\n",
    "np_height_m = np_height_in * 0.0254\n",
    "\n",
    "# Print np_height_m\n",
    "print(np_height_m)"
   ]
  },
  {
   "cell_type": "code",
   "execution_count": 33,
   "metadata": {},
   "outputs": [],
   "source": [
    "weight_lb = [180, 215, 210, 210, 188, 176, 209, 200, 231, 180, 188, 180, 185, 160, 180, 185, 189, 185, 219, 230, \n",
    "             205, 230, 195, 180, 192, 225, 203, 195, 182, 188, 200, 180, 200, 200, 245, 240, 215, 185, 175, 199, \n",
    "             200, 215, 200, 205, 206, 186, 188, 220, 210, 195, 200, 200, 212, 224, 210, 205, 220, 195, 200, 260, \n",
    "             228, 270, 200, 210, 190, 220, 180, 205, 210, 220, 211, 200, 180, 190, 170, 230, 155, 185, 185, 200, \n",
    "             225, 225, 220, 160, 205, 235, 250, 210, 190, 160, 200, 205, 222, 195, 205, 220, 220, 170, 185, 195, \n",
    "             220, 230, 180, 220, 180, 180, 170, 210, 215, 200, 213, 180, 192, 235, 185, 235, 210, 222, 210, 230, \n",
    "             220, 180, 190, 200, 210, 194, 180, 190, 240, 200, 198, 200, 195, 210, 220, 190, 210, 225, 180, 185, \n",
    "             170, 185, 185, 180, 178, 175, 200, 204, 211, 190, 210, 190, 190, 185, 290, 175, 185, 200, 220, 170, \n",
    "             220, 190, 220, 205, 200, 250, 225, 215, 210, 215, 195, 200, 194, 220, 180, 180, 170, 195, 180, 170, \n",
    "             206, 205, 200, 225, 201, 225, 233, 180, 225, 180, 220, 180, 237, 215, 190, 235, 190, 180, 165, 195, \n",
    "             200, 190, 190, 185, 185, 205, 190, 205, 206, 220, 208, 170, 195, 210, 190, 211, 230, 170, 185, 185, \n",
    "             241, 225, 210, 175, 230, 200, 215, 198, 226, 278, 215, 230, 240, 184, 219, 170, 218, 190, 225, 220, \n",
    "             176, 190, 197, 204, 167, 180, 195, 220, 215, 185, 190, 205, 205, 200, 210, 215, 200, 205, 211, 190, \n",
    "             208, 200, 210, 232, 230, 210, 220, 210, 202, 212, 225, 170, 190, 200, 237, 220, 170, 193, 190, 150, \n",
    "             220, 200, 190, 185, 185, 200, 172, 220, 225, 190, 195, 219, 190, 197, 200, 195, 210, 177, 220, 235, \n",
    "             180, 195, 195, 190, 230, 190, 200, 190, 190, 200, 200, 184, 200, 180, 219, 187, 200, 220, 205, 190, \n",
    "             170, 160, 215, 175, 205, 200, 214, 200, 190, 180, 205, 220, 190, 215, 235, 191, 200, 181, 200, 210, \n",
    "             240, 185, 165, 190, 185, 175, 155, 210, 170, 175, 220, 210, 205, 200, 205, 195, 240, 150, 200, 215, \n",
    "             202, 200, 190, 205, 190, 160, 215, 185, 200, 190, 210, 185, 220, 190, 202, 205, 220, 175, 160, 190, \n",
    "             200, 229, 206, 220, 180, 195, 175, 188, 230, 190, 200, 190, 219, 235, 180, 180, 180, 200, 234, 185, \n",
    "             220, 223, 200, 210, 200, 210, 190, 177, 227, 180, 195, 199, 175, 185, 240, 210, 180, 194, 225, 180, \n",
    "             205, 193, 230, 230, 220, 200, 249, 190, 208, 245, 250, 160, 192, 220, 170, 197, 155, 190, 200, 220, \n",
    "             210, 228, 190, 160, 184, 180, 180, 200, 176, 160, 222, 211, 195, 200, 175, 206, 240, 185, 260, 185, \n",
    "             221, 205, 200, 170, 201, 205, 185, 205, 245, 220, 210, 220, 185, 175, 170, 180, 200, 210, 175, 220, \n",
    "             206, 180, 210, 195, 200, 200, 164, 180, 220, 195, 205, 170, 240, 210, 195, 200, 205, 192, 190, 170, \n",
    "             240, 200, 205, 175, 250, 220, 224, 210, 195, 180, 245, 175, 180, 215, 175, 180, 195, 230, 230, 205, \n",
    "             215, 195, 180, 205, 180, 190, 180, 190, 190, 220, 210, 255, 190, 230, 200, 205, 210, 225, 215, 220, \n",
    "             205, 200, 220, 197, 225, 187, 245, 185, 185, 175, 200, 180, 188, 225, 200, 210, 245, 213, 231, 165, \n",
    "             228, 210, 250, 191, 190, 200, 215, 254, 232, 180, 215, 220, 180, 200, 170, 195, 210, 200, 220, 165, \n",
    "             180, 200, 200, 170, 224, 220, 180, 198, 240, 239, 185, 210, 220, 200, 195, 220, 230, 170, 220, 230, \n",
    "             165, 205, 192, 210, 205, 200, 210, 185, 195, 202, 205, 195, 180, 200, 185, 240, 185, 220, 205, 205, \n",
    "             180, 201, 190, 208, 240, 180, 230, 195, 215, 190, 195, 215, 215, 220, 220, 230, 195, 190, 195, 209, \n",
    "             204, 170, 185, 205, 175, 210, 190, 180, 180, 160, 235, 200, 210, 180, 190, 197, 203, 205, 170, 200, \n",
    "             250, 200, 220, 200, 190, 170, 190, 220, 215, 206, 215, 185, 235, 188, 230, 195, 168, 190, 160, 200, \n",
    "             200, 189, 180, 190, 200, 220, 187, 240, 190, 180, 185, 210, 220, 219, 190, 193, 175, 180, 215, 210, \n",
    "             200, 190, 185, 220, 170, 195, 205, 195, 210, 190, 190, 180, 220, 190, 186, 185, 190, 180, 190, 170, \n",
    "             210, 240, 220, 180, 210, 210, 195, 160, 180, 205, 200, 185, 245, 190, 210, 200, 200, 222, 215, 240, \n",
    "             170, 220, 156, 190, 202, 221, 200, 190, 210, 190, 200, 165, 190, 185, 230, 208, 209, 175, 180, 200, \n",
    "             205, 200, 250, 210, 230, 244, 202, 240, 200, 215, 177, 210, 170, 215, 217, 198, 200, 220, 170, 200, \n",
    "             230, 231, 183, 192, 167, 190, 180, 180, 215, 160, 205, 223, 175, 170, 190, 240, 175, 230, 223, 196, \n",
    "             167, 195, 190, 250, 190, 190, 190, 170, 160, 150, 225, 220, 209, 210, 176, 260, 195, 190, 184, 180, \n",
    "             195, 195, 219, 225, 212, 202, 185, 200, 209, 200, 195, 228, 210, 190, 212, 190, 218, 220, 190, 235, \n",
    "             210, 200, 188, 210, 235, 188, 215, 216, 220, 180, 185, 200, 210, 220, 185, 231, 210, 195, 200, 205, \n",
    "             200, 190, 250, 185, 180, 170, 180, 208, 235, 215, 244, 220, 185, 230, 190, 200, 180, 190, 196, 180, \n",
    "             230, 224, 160, 178, 205, 185, 210, 180, 190, 200, 257, 190, 220, 165, 205, 200, 208, 185, 215, 170, \n",
    "             235, 210, 170, 180, 170, 190, 150, 230, 203, 260, 246, 186, 210, 198, 210, 215, 180, 200, 245, 200, \n",
    "             192, 192, 200, 192, 205, 190, 186, 170, 197, 219, 200, 220, 207, 225, 207, 212, 225, 170, 190, 210, \n",
    "             230, 210, 200, 238, 234, 222, 200, 190, 170, 220, 223, 210, 215, 196, 175, 175, 189, 205, 210, 180, \n",
    "             180, 197, 220, 228, 190, 204, 165, 216, 220, 208, 210, 215, 195, 200, 215, 229, 240, 207, 205, 208, \n",
    "             185, 190, 170, 208, 225, 190, 225, 185, 180, 165, 240, 220, 212, 163, 215, 175, 205, 210, 205, 208, \n",
    "             215, 180, 200, 230, 211, 230, 190, 220, 180, 205, 190, 180, 205, 190, 195]"
   ]
  },
  {
   "cell_type": "code",
   "execution_count": 34,
   "metadata": {},
   "outputs": [
    {
     "name": "stdout",
     "output_type": "stream",
     "text": [
      "[23.11037639 27.60406069 28.48080465 ... 25.62295933 23.74810865\n",
      " 25.72686361]\n"
     ]
    }
   ],
   "source": [
    "# height_in and weight_lb are available as regular lists\n",
    "\n",
    "# Import numpy\n",
    "import numpy as np\n",
    "\n",
    "# Create array from height_in with metric units: np_height_m\n",
    "np_height_m = np.array(height_in) * 0.0254\n",
    "\n",
    "# Create array from weight_lb with metric units: np_weight_kg\n",
    "np_weight_kg = np.array(weight_lb) * 0.453592\n",
    "\n",
    "# Calculate the BMI: bmi\n",
    "bmi = np_weight_kg / np_height_m ** 2\n",
    "\n",
    "# Print out bmi\n",
    "print(bmi)"
   ]
  },
  {
   "cell_type": "code",
   "execution_count": 35,
   "metadata": {},
   "outputs": [
    {
     "name": "stdout",
     "output_type": "stream",
     "text": [
      "[False False False ... False False False]\n",
      "[20.54255679 20.54255679 20.69282047 20.69282047 20.34343189 20.34343189\n",
      " 20.69282047 20.15883472 19.4984471  20.69282047 20.9205219 ]\n"
     ]
    }
   ],
   "source": [
    "# height_in and weight_lb are available as a regular lists\n",
    "\n",
    "# Import numpy\n",
    "import numpy as np\n",
    "\n",
    "# Calculate the BMI: bmi\n",
    "np_height_m = np.array(height_in) * 0.0254\n",
    "np_weight_kg = np.array(weight_lb) * 0.453592\n",
    "bmi = np_weight_kg / np_height_m ** 2\n",
    "\n",
    "# Create the light array\n",
    "light = bmi < 21\n",
    "\n",
    "# Print out light\n",
    "print(light)\n",
    "\n",
    "# Print out BMIs of all baseball players whose BMI is below 21\n",
    "print(bmi[bmi < 21])"
   ]
  },
  {
   "cell_type": "markdown",
   "metadata": {},
   "source": [
    "np.array([True, 1, 2]) + np.array([3, 4, False])\n",
    "\n",
    "Answer: np.array([4, 3, 0]) + np.array([0, 2, 2])"
   ]
  },
  {
   "cell_type": "code",
   "execution_count": 36,
   "metadata": {},
   "outputs": [
    {
     "name": "stdout",
     "output_type": "stream",
     "text": [
      "200\n",
      "[73 74 72 73 69 72 73 75 75 73 72]\n"
     ]
    }
   ],
   "source": [
    "# height_in and weight_lb are available as a regular lists\n",
    "\n",
    "# Import numpy\n",
    "import numpy as np\n",
    "\n",
    "# Store weight and height lists as numpy arrays\n",
    "np_weight_lb = np.array(weight_lb)\n",
    "np_height_in = np.array(height_in)\n",
    "\n",
    "# Print out the weight at index 50\n",
    "print(np_weight_lb[50])\n",
    "\n",
    "# Print out sub-array of np_height_in: index 100 up to and including index 110\n",
    "print(np_height_in[100:111])"
   ]
  },
  {
   "cell_type": "code",
   "execution_count": 37,
   "metadata": {},
   "outputs": [
    {
     "name": "stdout",
     "output_type": "stream",
     "text": [
      "<class 'numpy.ndarray'>\n",
      "(4, 2)\n"
     ]
    }
   ],
   "source": [
    "# Create baseball, a list of lists\n",
    "baseball = [[180, 78.4],\n",
    "            [215, 102.7],\n",
    "            [210, 98.5],\n",
    "            [188, 75.2]]\n",
    "\n",
    "# Import numpy\n",
    "import numpy as np\n",
    "\n",
    "# Create a 2D numpy array from baseball: np_baseball\n",
    "np_baseball = np.array(baseball)\n",
    "\n",
    "# Print out the type of np_baseball\n",
    "print(type(np_baseball))\n",
    "\n",
    "# Print out the shape of np_baseball\n",
    "print(np_baseball.shape)"
   ]
  },
  {
   "cell_type": "code",
   "execution_count": 4,
   "metadata": {},
   "outputs": [],
   "source": [
    "baseball = [[74, 180], [74, 215], [72, 210], [72, 210], [73, 188], [69, 176], [69, 209], [71, 200], [76, 231], [71, 180], \n",
    "            [73, 188], [73, 180], [74, 185], [74, 160], [69, 180], [70, 185], [73, 189], [75, 185], [78, 219], [79, 230], \n",
    "            [76, 205], [74, 230], [76, 195], [72, 180], [71, 192], [75, 225], [77, 203], [74, 195], [73, 182], [74, 188], \n",
    "            [78, 200], [73, 180], [75, 200], [73, 200], [75, 245], [75, 240], [74, 215], [69, 185], [71, 175], [74, 199], \n",
    "            [73, 200], [73, 215], [76, 200], [74, 205], [74, 206], [70, 186], [72, 188], [77, 220], [74, 210], [70, 195], \n",
    "            [73, 200], [75, 200], [76, 212], [76, 224], [78, 210], [74, 205], [74, 220], [76, 195], [77, 200], [81, 260], \n",
    "            [78, 228], [75, 270], [77, 200], [75, 210], [76, 190], [74, 220], [72, 180], [72, 205], [75, 210], [73, 220], \n",
    "            [73, 211], [73, 200], [70, 180], [70, 190], [70, 170], [76, 230], [68, 155], [71, 185], [72, 185], [75, 200], \n",
    "            [75, 225], [75, 225], [75, 220], [68, 160], [74, 205], [78, 235], [71, 250], [73, 210], [76, 190], [74, 160], \n",
    "            [74, 200], [79, 205], [75, 222], [73, 195], [76, 205], [74, 220], [74, 220], [73, 170], [72, 185], [74, 195], \n",
    "            [73, 220], [74, 230], [72, 180], [73, 220], [69, 180], [72, 180], [73, 170], [75, 210], [75, 215], [73, 200], \n",
    "            [72, 213], [72, 180], [76, 192], [74, 235], [72, 185], [77, 235], [74, 210], [77, 222], [75, 210], [76, 230], \n",
    "            [80, 220], [74, 180], [74, 190], [75, 200], [78, 210], [73, 194], [73, 180], [74, 190], [75, 240], [76, 200], \n",
    "            [71, 198], [73, 200], [74, 195], [76, 210], [76, 220], [74, 190], [73, 210], [74, 225], [70, 180], [72, 185], \n",
    "            [73, 170], [73, 185], [73, 185], [73, 180], [71, 178], [74, 175], [74, 200], [72, 204], [74, 211], [71, 190], \n",
    "            [74, 210], [73, 190], [75, 190], [75, 185], [79, 290], [73, 175], [75, 185], [76, 200], [74, 220], [76, 170], \n",
    "            [78, 220], [74, 190], [76, 220], [72, 205], [74, 200], [76, 250], [74, 225], [75, 215], [78, 210], [75, 215], \n",
    "            [72, 195], [74, 200], [72, 194], [74, 220], [70, 180], [71, 180], [70, 170], [75, 195], [71, 180], [71, 170], \n",
    "            [73, 206], [72, 205], [71, 200], [73, 225], [72, 201], [75, 225], [74, 233], [74, 180], [75, 225], [73, 180], \n",
    "            [77, 220], [73, 180], [76, 237], [75, 215], [74, 190], [76, 235], [75, 190], [73, 180], [71, 165], [76, 195], \n",
    "            [75, 200], [72, 190], [71, 190], [77, 185], [73, 185], [74, 205], [71, 190], [72, 205], [74, 206], [75, 220], \n",
    "            [73, 208], [72, 170], [75, 195], [75, 210], [74, 190], [72, 211], [74, 230], [71, 170], [70, 185], [74, 185], \n",
    "            [77, 241], [77, 225], [75, 210], [75, 175], [78, 230], [75, 200], [76, 215], [73, 198], [75, 226], [75, 278], \n",
    "            [79, 215], [77, 230], [76, 240], [71, 184], [75, 219], [74, 170], [69, 218], [71, 190], [76, 225], [72, 220], \n",
    "            [72, 176], [70, 190], [72, 197], [73, 204], [71, 167], [72, 180], [71, 195], [73, 220], [72, 215], [73, 185], \n",
    "            [74, 190], [74, 205], [72, 205], [75, 200], [74, 210], [74, 215], [77, 200], [75, 205], [73, 211], [72, 190], \n",
    "            [71, 208], [74, 200], [77, 210], [75, 232], [75, 230], [75, 210], [78, 220], [78, 210], [74, 202], [76, 212], \n",
    "            [78, 225], [76, 170], [70, 190], [72, 200], [80, 237], [74, 220], [74, 170], [71, 193], [70, 190], [72, 150], \n",
    "            [71, 220], [74, 200], [71, 190], [72, 185], [71, 185], [74, 200], [69, 172], [76, 220], [75, 225], [75, 190], \n",
    "            [76, 195], [73, 219], [76, 190], [73, 197], [77, 200], [73, 195], [72, 210], [72, 177], [77, 220], [77, 235], \n",
    "            [71, 180], [74, 195], [74, 195], [73, 190], [78, 230], [75, 190], [73, 200], [70, 190], [74, 190], [72, 200], \n",
    "            [73, 200], [73, 184], [75, 200], [75, 180], [74, 219], [76, 187], [73, 200], [74, 220], [75, 205], [75, 190],\n",
    "            [72, 170], [73, 160], [73, 215], [72, 175], [74, 205], [78, 200], [76, 214], [73, 200], [74, 190], [75, 180], \n",
    "            [70, 205], [75, 220], [71, 190], [72, 215], [78, 235], [75, 191], [73, 200], [73, 181], [71, 200], [75, 210], \n",
    "            [77, 240], [72, 185], [69, 165], [73, 190], [74, 185], [72, 175], [70, 155], [75, 210], [70, 170], [72, 175], \n",
    "            [72, 220], [74, 210], [73, 205], [74, 200], [76, 205], [75, 195], [80, 240], [72, 150], [75, 200], [73, 215], \n",
    "            [74, 202], [74, 200], [73, 190], [75, 205], [75, 190], [71, 160], [73, 215], [75, 185], [74, 200], [74, 190], \n",
    "            [72, 210], [74, 185], [74, 220], [74, 190], [73, 202], [76, 205], [75, 220], [72, 175], [73, 160], [73, 190], \n",
    "            [73, 200], [72, 229], [72, 206], [72, 220], [72, 180], [71, 195], [75, 175], [75, 188], [74, 230], [73, 190], \n",
    "            [75, 200], [79, 190], [74, 219], [76, 235], [73, 180], [74, 180], [74, 180], [72, 200], [74, 234], [74, 185], \n",
    "            [75, 220], [78, 223], [74, 200], [74, 210], [74, 200], [77, 210], [70, 190], [73, 177], [74, 227], [73, 180],\n",
    "            [71, 195], [75, 199], [71, 175], [72, 185], [77, 240], [74, 210], [70, 180], [77, 194], [73, 225], [72, 180], \n",
    "            [76, 205], [71, 193], [76, 230], [78, 230], [75, 220], [73, 200], [78, 249], [74, 190], [79, 208], [75, 245], \n",
    "            [76, 250], [72, 160], [75, 192], [75, 220], [70, 170], [72, 197], [70, 155], [74, 190], [71, 200], [76, 220],\n",
    "            [73, 210], [76, 228], [71, 190], [69, 160], [72, 184], [72, 180], [69, 180], [73, 200], [69, 176], [73, 160], \n",
    "            [74, 222], [74, 211], [72, 195], [71, 200], [72, 175], [72, 206], [76, 240], [76, 185], [76, 260], [74, 185],\n",
    "            [76, 221], [75, 205], [71, 200], [72, 170], [71, 201], [73, 205], [75, 185], [76, 205], [75, 245], [71, 220], \n",
    "            [75, 210], [74, 220], [72, 185], [73, 175], [73, 170], [73, 180], [73, 200], [76, 210], [72, 175], [76, 220], \n",
    "            [73, 206], [73, 180], [73, 210], [75, 195], [75, 200], [77, 200], [73, 164], [72, 180], [75, 220], [70, 195], \n",
    "            [74, 205], [72, 170], [80, 240], [71, 210], [71, 195], [74, 200], [74, 205], [73, 192], [75, 190], [76, 170],\n",
    "            [73, 240], [77, 200], [72, 205], [73, 175], [77, 250], [76, 220], [71, 224], [75, 210], [73, 195], [74, 180],\n",
    "            [77, 245], [71, 175], [72, 180], [73, 215], [69, 175], [73, 180], [70, 195], [74, 230], [76, 230], [73, 205], \n",
    "            [73, 215], [75, 195], [73, 180], [79, 205], [74, 180], [73, 190], [74, 180], [77, 190], [75, 190], [74, 220], \n",
    "            [73, 210], [77, 255], [73, 190], [77, 230], [74, 200], [74, 205], [73, 210], [77, 225], [74, 215], [77, 220], \n",
    "            [75, 205], [77, 200], [75, 220], [71, 197], [74, 225], [70, 187], [79, 245], [72, 185], [72, 185], [70, 175], \n",
    "            [74, 200], [74, 180], [72, 188], [73, 225], [72, 200], [74, 210], [74, 245], [76, 213], [82, 231], [74, 165], \n",
    "            [74, 228], [70, 210], [73, 250], [73, 191], [74, 190], [77, 200], [72, 215], [76, 254], [73, 232], [73, 180], \n",
    "            [72, 215], [74, 220], [74, 180], [71, 200], [72, 170], [75, 195], [74, 210], [74, 200], [77, 220], [70, 165],\n",
    "            [71, 180], [73, 200], [76, 200], [71, 170], [75, 224], [74, 220], [72, 180], [76, 198], [79, 240], [76, 239], \n",
    "            [73, 185], [76, 210], [78, 220], [75, 200], [76, 195], [72, 220], [72, 230], [73, 170], [73, 220], [75, 230], \n",
    "            [71, 165], [76, 205], [70, 192], [75, 210], [74, 205], [75, 200], [73, 210], [71, 185], [71, 195], [72, 202], \n",
    "            [73, 205], [73, 195], [72, 180], [69, 200], [73, 185], [78, 240], [71, 185], [73, 220], [75, 205], [76, 205], \n",
    "            [70, 180], [74, 201], [77, 190], [75, 208], [79, 240], [72, 180], [77, 230], [73, 195], [75, 215], [75, 190],\n",
    "            [75, 195], [73, 215], [73, 215], [76, 220], [77, 220], [75, 230], [70, 195], [71, 190], [71, 195], [75, 209], \n",
    "            [74, 204], [69, 170], [70, 185], [75, 205], [72, 175], [75, 210], [73, 190], [72, 180], [72, 180], [72, 160], \n",
    "            [76, 235], [75, 200], [74, 210], [69, 180], [73, 190], [72, 197], [72, 203], [75, 205], [77, 170], [76, 200], \n",
    "            [80, 250], [77, 200], [76, 220], [79, 200], [71, 190], [75, 170], [73, 190], [76, 220], [77, 215], [73, 206], \n",
    "            [76, 215], [70, 185], [75, 235], [73, 188], [75, 230], [70, 195], [69, 168], [71, 190], [72, 160], [72, 200], \n",
    "            [73, 200], [70, 189], [70, 180], [73, 190], [76, 200], [75, 220], [72, 187], [73, 240], [79, 190], [71, 180], \n",
    "            [72, 185], [74, 210], [74, 220], [74, 219], [72, 190], [76, 193], [76, 175], [72, 180], [72, 215], [71, 210],\n",
    "            [72, 200], [72, 190], [70, 185], [77, 220], [74, 170], [72, 195], [76, 205], [71, 195], [76, 210], [71, 190],\n",
    "            [73, 190], [70, 180], [73, 220], [73, 190], [72, 186], [71, 185], [71, 190], [71, 180], [72, 190], [72, 170], \n",
    "            [74, 210], [74, 240], [74, 220], [71, 180], [72, 210], [75, 210], [72, 195], [71, 160], [72, 180], [72, 205],\n",
    "            [72, 200], [72, 185], [74, 245], [74, 190], [77, 210], [75, 200], [73, 200], [75, 222], [73, 215], [76, 240],\n",
    "            [72, 170], [77, 220], [75, 156], [72, 190], [71, 202], [71, 221], [75, 200], [72, 190], [73, 210], [73, 190], \n",
    "            [71, 200], [70, 165], [75, 190], [71, 185], [76, 230], [73, 208], [68, 209], [71, 175], [72, 180], [74, 200], \n",
    "            [77, 205], [72, 200], [76, 250], [78, 210], [81, 230], [72, 244], [73, 202], [76, 240], [72, 200], [72, 215], \n",
    "            [74, 177], [76, 210], [73, 170], [76, 215], [75, 217], [70, 198], [71, 200], [74, 220], [72, 170], [73, 200], \n",
    "            [76, 230], [76, 231], [73, 183], [71, 192], [68, 167], [71, 190], [71, 180], [74, 180], [77, 215], [69, 160], \n",
    "            [72, 205], [76, 223], [75, 175], [76, 170], [75, 190], [76, 240], [72, 175], [74, 230], [76, 223], [74, 196], \n",
    "            [72, 167], [75, 195], [78, 190], [77, 250], [70, 190], [72, 190], [79, 190], [74, 170], [71, 160], [68, 150], \n",
    "            [77, 225], [75, 220], [71, 209], [72, 210], [70, 176], [72, 260], [72, 195], [73, 190], [72, 184], [74, 180],\n",
    "            [72, 195], [72, 195], [75, 219], [72, 225], [73, 212], [74, 202], [72, 185], [78, 200], [75, 209], [72, 200],\n",
    "            [74, 195], [75, 228], [75, 210], [76, 190], [74, 212], [74, 190], [73, 218], [74, 220], [71, 190], [74, 235], \n",
    "            [75, 210], [76, 200], [74, 188], [76, 210], [76, 235], [73, 188], [75, 215], [75, 216], [74, 220], [68, 180],\n",
    "            [72, 185], [75, 200], [71, 210], [70, 220], [72, 185], [73, 231], [72, 210], [75, 195], [74, 200], [70, 205], \n",
    "            [76, 200], [71, 190], [82, 250], [72, 185], [73, 180], [74, 170], [71, 180], [75, 208], [77, 235], [72, 215], \n",
    "            [74, 244], [72, 220], [73, 185], [78, 230], [77, 190], [73, 200], [73, 180], [73, 190], [73, 196], [73, 180], \n",
    "            [76, 230], [75, 224], [70, 160], [73, 178], [72, 205], [73, 185], [75, 210], [74, 180], [73, 190], [73, 200],\n",
    "            [76, 257], [73, 190], [75, 220], [70, 165], [77, 205], [72, 200], [77, 208], [74, 185], [75, 215], [75, 170],\n",
    "            [75, 235], [75, 210], [72, 170], [74, 180], [71, 170], [76, 190], [71, 150], [75, 230], [76, 203], [83, 260], \n",
    "            [75, 246], [74, 186], [76, 210], [72, 198], [72, 210], [75, 215], [75, 180], [72, 200], [77, 245], [73, 200], \n",
    "            [72, 192], [70, 192], [74, 200], [72, 192], [74, 205], [72, 190], [71, 186], [70, 170], [71, 197], [76, 219], \n",
    "            [74, 200], [76, 220], [74, 207], [74, 225], [74, 207], [75, 212], [75, 225], [71, 170], [71, 190], [74, 210], \n",
    "            [77, 230], [71, 210], [74, 200], [75, 238], [77, 234], [76, 222], [74, 200], [76, 190], [72, 170], [71, 220], \n",
    "            [72, 223], [75, 210], [73, 215], [68, 196], [72, 175], [69, 175], [73, 189], [73, 205], [75, 210], [70, 180],\n",
    "            [70, 180], [74, 197], [75, 220], [74, 228], [74, 190], [73, 204], [74, 165], [75, 216], [77, 220], [73, 208],\n",
    "            [74, 210], [76, 215], [74, 195], [75, 200], [73, 215], [76, 229], [78, 240], [75, 207], [73, 205], [77, 208],\n",
    "            [74, 185], [72, 190], [74, 170], [72, 208], [71, 225], [73, 190], [75, 225], [73, 185], [67, 180], [67, 165], \n",
    "            [76, 240], [74, 220], [73, 212], [70, 163], [75, 215], [70, 175], [72, 205], [77, 210], [79, 205], [78, 208], \n",
    "            [74, 215], [75, 180], [75, 200], [78, 230], [76, 211], [75, 230], [69, 190], [75, 220], [72, 180], [75, 205], \n",
    "            [73, 190], [74, 180], [75, 205], [75, 190], [73, 195]]"
   ]
  },
  {
   "cell_type": "code",
   "execution_count": 5,
   "metadata": {},
   "outputs": [
    {
     "name": "stdout",
     "output_type": "stream",
     "text": [
      "(1015, 2)\n"
     ]
    }
   ],
   "source": [
    "# baseball is available as a regular list of lists\n",
    "\n",
    "# Import numpy package\n",
    "import numpy as np\n",
    "\n",
    "# Create a 2D numpy array from baseball: np_baseball\n",
    "np_baseball = np.array(baseball)\n",
    "\n",
    "# Print out the shape of np_baseball\n",
    "print(np_baseball.shape)"
   ]
  },
  {
   "cell_type": "code",
   "execution_count": 6,
   "metadata": {},
   "outputs": [
    {
     "name": "stdout",
     "output_type": "stream",
     "text": [
      "[ 70 195]\n",
      "75\n"
     ]
    }
   ],
   "source": [
    "# baseball is available as a regular list of lists\n",
    "\n",
    "# Import numpy package\n",
    "import numpy as np\n",
    "\n",
    "# Create np_baseball (2 cols)\n",
    "np_baseball = np.array(baseball)\n",
    "\n",
    "# Print out the 50th row of np_baseball\n",
    "print(np_baseball[49,:])\n",
    "\n",
    "# Select the entire second column of np_baseball: np_weight_lb\n",
    "np_weight_lb = np_baseball[:, 1]\n",
    "\n",
    "# Print out height of 124th player\n",
    "print(np_baseball[123][0])"
   ]
  },
  {
   "cell_type": "code",
   "execution_count": 7,
   "metadata": {},
   "outputs": [],
   "source": [
    "baseball = [[74.0, 180.0, 22.99], [74.0, 215.0, 34.69], [72.0, 210.0, 30.78], [72.0, 210.0, 35.43], [73.0, 188.0, 35.71], \n",
    "            [69.0, 176.0, 29.39], [69.0, 209.0, 30.77], [71.0, 200.0, 35.07], [76.0, 231.0, 30.19], [71.0, 180.0, 27.05], \n",
    "            [73.0, 188.0, 23.88], [73.0, 180.0, 26.96], [74.0, 185.0, 23.29], [74.0, 160.0, 26.11], [69.0, 180.0, 27.55], \n",
    "            [70.0, 185.0, 34.27], [73.0, 189.0, 27.99], [75.0, 185.0, 22.38], [78.0, 219.0, 22.89], [79.0, 230.0, 25.76], \n",
    "            [76.0, 205.0, 36.33], [74.0, 230.0, 31.17], [76.0, 195.0, 32.31], [72.0, 180.0, 31.03], [71.0, 192.0, 29.26], \n",
    "            [75.0, 225.0, 29.47], [77.0, 203.0, 32.46], [74.0, 195.0, 35.67], [73.0, 182.0, 25.89], [74.0, 188.0, 26.55], \n",
    "            [78.0, 200.0, 24.17], [73.0, 180.0, 26.69], [75.0, 200.0, 25.13], [73.0, 200.0, 27.9], [75.0, 245.0, 30.17], \n",
    "            [75.0, 240.0, 31.36], [74.0, 215.0, 30.99], [69.0, 185.0, 32.24], [71.0, 175.0, 27.61], [74.0, 199.0, 28.2], \n",
    "            [73.0, 200.0, 28.85], [73.0, 215.0, 24.21], [76.0, 200.0, 22.02], [74.0, 205.0, 24.97], [74.0, 206.0, 26.78], \n",
    "            [70.0, 186.0, 32.51], [72.0, 188.0, 30.95], [77.0, 220.0, 33.09], [74.0, 210.0, 32.74], [70.0, 195.0, 30.69],\n",
    "            [73.0, 200.0, 23.45], [75.0, 200.0, 24.94], [76.0, 212.0, 24.09], [76.0, 224.0, 35.23], [78.0, 210.0, 27.43], \n",
    "            [74.0, 205.0, 30.6], [74.0, 220.0, 27.94], [76.0, 195.0, 29.99], [77.0, 200.0, 25.17], [81.0, 260.0, 24.13], \n",
    "            [78.0, 228.0, 30.46], [75.0, 270.0, 25.96], [77.0, 200.0, 22.55], [75.0, 210.0, 26.29], [76.0, 190.0, 24.79], \n",
    "            [74.0, 220.0, 31.74], [72.0, 180.0, 23.92], [72.0, 205.0, 25.33], [75.0, 210.0, 24.02], [73.0, 220.0, 23.7], \n",
    "            [73.0, 211.0, 31.59], [73.0, 200.0, 29.95], [70.0, 180.0, 23.64], [70.0, 190.0, 32.33], [70.0, 170.0, 23.13],\n",
    "            [76.0, 230.0, 26.6], [68.0, 155.0, 26.46], [71.0, 185.0, 25.75], [72.0, 185.0, 27.51], [75.0, 200.0, 25.11],\n",
    "            [75.0, 225.0, 32.51], [75.0, 225.0, 34.67], [75.0, 220.0, 31.06], [68.0, 160.0, 29.1], [74.0, 205.0, 28.66], \n",
    "            [78.0, 235.0, 28.35], [71.0, 250.0, 33.77], [73.0, 210.0, 30.89], [76.0, 190.0, 37.74], [74.0, 160.0, 24.14],\n",
    "            [74.0, 200.0, 25.71], [79.0, 205.0, 24.41], [75.0, 222.0, 24.32], [73.0, 195.0, 28.09], [76.0, 205.0, 33.31],\n",
    "            [74.0, 220.0, 36.4], [74.0, 220.0, 37.36], [73.0, 170.0, 31.61], [72.0, 185.0, 25.14], [74.0, 195.0, 30.29], \n",
    "            [73.0, 220.0, 36.37], [74.0, 230.0, 34.89], [72.0, 180.0, 23.79], [73.0, 220.0, 27.96], [69.0, 180.0, 23.54], \n",
    "            [72.0, 180.0, 31.37], [73.0, 170.0, 31.29], [75.0, 210.0, 33.01], [75.0, 215.0, 25.1], [73.0, 200.0, 31.28], \n",
    "            [72.0, 213.0, 34.75], [72.0, 180.0, 23.46], [76.0, 192.0, 25.37], [74.0, 235.0, 29.57], [72.0, 185.0, 27.33],\n",
    "            [77.0, 235.0, 40.29], [74.0, 210.0, 40.58], [77.0, 222.0, 26.79], [75.0, 210.0, 32.55], [76.0, 230.0, 26.27], \n",
    "            [80.0, 220.0, 29.47], [74.0, 180.0, 29.07], [74.0, 190.0, 23.15], [75.0, 200.0, 24.9], [78.0, 210.0, 23.29], \n",
    "            [73.0, 194.0, 31.18], [73.0, 180.0, 26.56], [74.0, 190.0, 25.03], [75.0, 240.0, 35.66], [76.0, 200.0, 29.64],\n",
    "            [71.0, 198.0, 30.74], [73.0, 200.0, 28.43], [74.0, 195.0, 33.77], [76.0, 210.0, 40.97], [76.0, 220.0, 23.52], \n",
    "            [74.0, 190.0, 28.19], [73.0, 210.0, 26.84], [74.0, 225.0, 26.16], [70.0, 180.0, 28.67], [72.0, 185.0, 24.2], \n",
    "            [73.0, 170.0, 27.08], [73.0, 185.0, 24.76], [73.0, 185.0, 23.36], [73.0, 180.0, 25.35], [71.0, 178.0, 24.63],\n",
    "            [74.0, 175.0, 24.02], [74.0, 200.0, 24.58], [72.0, 204.0, 30.82], [74.0, 211.0, 32.89], [71.0, 190.0, 33.33],\n",
    "            [74.0, 210.0, 33.52], [73.0, 190.0, 36.24], [75.0, 190.0, 28.5], [75.0, 185.0, 29.42], [79.0, 290.0, 26.61], \n",
    "            [73.0, 175.0, 23.79], [75.0, 185.0, 24.96], [76.0, 200.0, 25.93], [74.0, 220.0, 22.81], [76.0, 170.0, 25.29],\n",
    "            [78.0, 220.0, 26.07], [74.0, 190.0, 26.09], [76.0, 220.0, 23.23], [72.0, 205.0, 33.49], [74.0, 200.0, 31.84],\n",
    "            [76.0, 250.0, 42.3], [74.0, 225.0, 35.82], [75.0, 215.0, 35.27], [78.0, 210.0, 26.81], [75.0, 215.0, 38.49], \n",
    "            [72.0, 195.0, 32.68], [74.0, 200.0, 34.93], [72.0, 194.0, 26.26], [74.0, 220.0, 27.56], [70.0, 180.0, 23.98], \n",
    "            [71.0, 180.0, 29.73], [70.0, 170.0, 31.33], [75.0, 195.0, 27.13], [71.0, 180.0, 26.75], [71.0, 170.0, 27.09], \n",
    "            [73.0, 206.0, 29.23], [72.0, 205.0, 28.88], [71.0, 200.0, 33.01], [73.0, 225.0, 30.57], [72.0, 201.0, 31.24], \n",
    "            [75.0, 225.0, 24.95], [74.0, 233.0, 24.62], [74.0, 180.0, 24.98], [75.0, 225.0, 26.22], [73.0, 180.0, 26.04], \n",
    "            [77.0, 220.0, 26.45], [73.0, 180.0, 25.25], [76.0, 237.0, 27.77], [75.0, 215.0, 35.16], [74.0, 190.0, 37.1], \n",
    "            [76.0, 235.0, 34.51], [75.0, 190.0, 29.28], [73.0, 180.0, 32.14], [71.0, 165.0, 23.94], [76.0, 195.0, 27.45],\n",
    "            [75.0, 200.0, 28.77], [72.0, 190.0, 23.58], [71.0, 190.0, 27.56], [77.0, 185.0, 24.01], [73.0, 185.0, 26.52], \n",
    "            [74.0, 205.0, 35.54], [71.0, 190.0, 29.43], [72.0, 205.0, 29.9], [74.0, 206.0, 32.7], [75.0, 220.0, 28.8],\n",
    "            [73.0, 208.0, 32.82], [72.0, 170.0, 24.36], [75.0, 195.0, 32.68], [75.0, 210.0, 31.59], [74.0, 190.0, 33.32],\n",
    "            [72.0, 211.0, 32.97], [74.0, 230.0, 32.72], [71.0, 170.0, 22.55], [70.0, 185.0, 27.45], [74.0, 185.0, 38.23], \n",
    "            [77.0, 241.0, 31.14], [77.0, 225.0, 34.71], [75.0, 210.0, 26.13], [75.0, 175.0, 24.43], [78.0, 230.0, 23.76], \n",
    "            [75.0, 200.0, 26.92], [76.0, 215.0, 25.85], [73.0, 198.0, 30.16], [75.0, 226.0, 25.03], [75.0, 278.0, 24.21], \n",
    "            [79.0, 215.0, 26.51], [77.0, 230.0, 26.36], [76.0, 240.0, 30.88], [71.0, 184.0, 32.57], [75.0, 219.0, 37.68], \n",
    "            [74.0, 170.0, 37.25], [69.0, 218.0, 35.25], [71.0, 190.0, 33.95], [76.0, 225.0, 32.66], [72.0, 220.0, 26.68], \n",
    "            [72.0, 176.0, 25.18], [70.0, 190.0, 31.39], [72.0, 197.0, 33.74], [73.0, 204.0, 31.42], [71.0, 167.0, 27.5], \n",
    "            [72.0, 180.0, 24.25], [71.0, 195.0, 29.78], [73.0, 220.0, 30.0], [72.0, 215.0, 33.09], [73.0, 185.0, 25.96], \n",
    "            [74.0, 190.0, 23.34], [74.0, 205.0, 29.98], [72.0, 205.0, 38.28], [75.0, 200.0, 24.97], [74.0, 210.0, 24.34],\n",
    "            [74.0, 215.0, 29.49], [77.0, 200.0, 24.02], [75.0, 205.0, 24.73], [73.0, 211.0, 42.3], [72.0, 190.0, 29.54], \n",
    "            [71.0, 208.0, 29.95], [74.0, 200.0, 29.24], [77.0, 210.0, 30.3], [75.0, 232.0, 40.77], [75.0, 230.0, 38.85], \n",
    "            [75.0, 210.0, 22.31], [78.0, 220.0, 25.44], [78.0, 210.0, 21.78], [74.0, 202.0, 22.64], [76.0, 212.0, 26.11],\n",
    "            [78.0, 225.0, 27.55], [76.0, 170.0, 24.63], [70.0, 190.0, 23.58], [72.0, 200.0, 30.73], [80.0, 237.0, 32.17],\n",
    "            [74.0, 220.0, 30.43], [74.0, 170.0, 23.27], [71.0, 193.0, 32.51], [70.0, 190.0, 25.08], [72.0, 150.0, 22.41], \n",
    "            [71.0, 220.0, 27.9], [74.0, 200.0, 34.74], [71.0, 190.0, 30.79], [72.0, 185.0, 25.71], [71.0, 185.0, 29.26], \n",
    "            [74.0, 200.0, 21.58], [69.0, 172.0, 33.36], [76.0, 220.0, 24.94], [75.0, 225.0, 20.9], [75.0, 190.0, 21.52], \n",
    "            [76.0, 195.0, 25.85], [73.0, 219.0, 27.27], [76.0, 190.0, 26.75], [73.0, 197.0, 36.03], [77.0, 200.0, 30.52], \n",
    "            [73.0, 195.0, 32.55], [72.0, 210.0, 29.86], [72.0, 177.0, 29.58], [77.0, 220.0, 30.02], [77.0, 235.0, 29.16], \n",
    "            [71.0, 180.0, 22.3], [74.0, 195.0, 22.06], [74.0, 195.0, 25.65], [73.0, 190.0, 25.49], [78.0, 230.0, 27.86], \n",
    "            [75.0, 190.0, 23.73], [73.0, 200.0, 31.78], [70.0, 190.0, 23.06], [74.0, 190.0, 26.6], [72.0, 200.0, 29.39], \n",
    "            [73.0, 200.0, 26.51], [73.0, 184.0, 25.08], [75.0, 200.0, 25.76], [75.0, 180.0, 22.52], [74.0, 219.0, 25.57],\n",
    "            [76.0, 187.0, 25.43], [73.0, 200.0, 34.65], [74.0, 220.0, 22.68], [75.0, 205.0, 21.46], [75.0, 190.0, 23.47],\n",
    "            [72.0, 170.0, 23.1], [73.0, 160.0, 29.14], [73.0, 215.0, 29.77], [72.0, 175.0, 23.85], [74.0, 205.0, 28.88], \n",
    "            [78.0, 200.0, 24.49], [76.0, 214.0, 25.19], [73.0, 200.0, 27.48], [74.0, 190.0, 28.31], [75.0, 180.0, 26.54],\n",
    "            [70.0, 205.0, 26.77], [75.0, 220.0, 23.75], [71.0, 190.0, 26.41], [72.0, 215.0, 36.47], [78.0, 235.0, 26.06], \n",
    "            [75.0, 191.0, 27.55], [73.0, 200.0, 31.28], [73.0, 181.0, 29.04], [71.0, 200.0, 32.95], [75.0, 210.0, 26.65], \n",
    "            [77.0, 240.0, 27.5], [72.0, 185.0, 30.9], [69.0, 165.0, 29.09], [73.0, 190.0, 36.67], [74.0, 185.0, 23.44], \n",
    "            [72.0, 175.0, 29.09], [70.0, 155.0, 22.89], [75.0, 210.0, 25.48], [70.0, 170.0, 25.84], [72.0, 175.0, 27.2], \n",
    "            [72.0, 220.0, 25.22], [74.0, 210.0, 24.67], [73.0, 205.0, 39.25], [74.0, 200.0, 32.17], [76.0, 205.0, 32.77], \n",
    "            [75.0, 195.0, 29.83], [80.0, 240.0, 31.02], [72.0, 150.0, 29.73], [75.0, 200.0, 28.48], [73.0, 215.0, 26.51], \n",
    "            [74.0, 202.0, 26.0], [74.0, 200.0, 23.36], [73.0, 190.0, 25.9], [75.0, 205.0, 28.5], [75.0, 190.0, 25.62], \n",
    "            [71.0, 160.0, 30.94], [73.0, 215.0, 26.59], [75.0, 185.0, 22.78], [74.0, 200.0, 32.26], [74.0, 190.0, 30.35],\n",
    "            [72.0, 210.0, 33.26], [74.0, 185.0, 32.35], [74.0, 220.0, 27.3], [74.0, 190.0, 32.08], [73.0, 202.0, 25.25],\n",
    "            [76.0, 205.0, 25.03], [75.0, 220.0, 26.89], [72.0, 175.0, 24.69], [73.0, 160.0, 22.44], [73.0, 190.0, 30.36],\n",
    "            [73.0, 200.0, 26.27], [72.0, 229.0, 29.5], [72.0, 206.0, 29.75], [72.0, 220.0, 38.3], [72.0, 180.0, 39.75],\n",
    "            [71.0, 195.0, 32.84], [75.0, 175.0, 26.66], [75.0, 188.0, 24.94], [74.0, 230.0, 27.76], [73.0, 190.0, 23.66], \n",
    "            [75.0, 200.0, 24.96], [79.0, 190.0, 23.65], [74.0, 219.0, 29.42], [76.0, 235.0, 32.18], [73.0, 180.0, 26.66], \n",
    "            [74.0, 180.0, 27.47], [74.0, 180.0, 25.66], [72.0, 200.0, 35.13], [74.0, 234.0, 31.15], [74.0, 185.0, 35.67],\n",
    "            [75.0, 220.0, 29.6], [78.0, 223.0, 30.14], [74.0, 200.0, 24.53], [74.0, 210.0, 24.49], [74.0, 200.0, 26.28], \n",
    "            [77.0, 210.0, 24.06], [70.0, 190.0, 35.88], [73.0, 177.0, 30.42], [74.0, 227.0, 30.09], [73.0, 180.0, 26.5],\n",
    "            [71.0, 195.0, 24.94], [75.0, 199.0, 29.6], [71.0, 175.0, 32.43], [72.0, 185.0, 37.16], [77.0, 240.0, 30.57], \n",
    "            [74.0, 210.0, 27.01], [70.0, 180.0, 30.23], [77.0, 194.0, 26.03], [73.0, 225.0, 28.23], [72.0, 180.0, 25.21], \n",
    "            [76.0, 205.0, 25.45], [71.0, 193.0, 26.24], [76.0, 230.0, 30.15], [78.0, 230.0, 29.8], [75.0, 220.0, 33.41], \n",
    "            [73.0, 200.0, 30.95], [78.0, 249.0, 31.17], [74.0, 190.0, 30.95], [79.0, 208.0, 29.44], [75.0, 245.0, 27.14],\n",
    "            [76.0, 250.0, 26.21], [72.0, 160.0, 24.08], [75.0, 192.0, 23.96], [75.0, 220.0, 24.94], [70.0, 170.0, 29.56],\n",
    "            [72.0, 197.0, 26.42], [70.0, 155.0, 23.92], [74.0, 190.0, 25.23], [71.0, 200.0, 35.82], [76.0, 220.0, 23.87],\n",
    "            [73.0, 210.0, 32.57], [76.0, 228.0, 25.79], [71.0, 190.0, 31.47], [69.0, 160.0, 22.61], [72.0, 184.0, 24.85], \n",
    "            [72.0, 180.0, 27.33], [69.0, 180.0, 26.67], [73.0, 200.0, 37.43], [69.0, 176.0, 29.31], [73.0, 160.0, 29.85], \n",
    "            [74.0, 222.0, 27.93], [74.0, 211.0, 31.62], [72.0, 195.0, 30.55], [71.0, 200.0, 24.77], [72.0, 175.0, 33.77], \n",
    "            [72.0, 206.0, 27.97], [76.0, 240.0, 27.85], [76.0, 185.0, 23.26], [76.0, 260.0, 25.38], [74.0, 185.0, 23.35],\n",
    "            [76.0, 221.0, 25.45], [75.0, 205.0, 26.49], [71.0, 200.0, 24.0], [72.0, 170.0, 24.16], [71.0, 201.0, 28.1], \n",
    "            [73.0, 205.0, 25.65], [75.0, 185.0, 28.58], [76.0, 205.0, 32.27], [75.0, 245.0, 29.86], [71.0, 220.0, 25.14],\n",
    "            [75.0, 210.0, 23.03], [74.0, 220.0, 30.25], [72.0, 185.0, 30.67], [73.0, 175.0, 27.73], [73.0, 170.0, 23.34], \n",
    "            [73.0, 180.0, 25.94], [73.0, 200.0, 31.56], [76.0, 210.0, 34.85], [72.0, 175.0, 23.98], [76.0, 220.0, 23.14],\n",
    "            [73.0, 206.0, 28.99], [73.0, 180.0, 25.02], [73.0, 210.0, 29.85], [75.0, 195.0, 27.03], [75.0, 200.0, 25.15],\n",
    "            [77.0, 200.0, 27.12], [73.0, 164.0, 31.63], [72.0, 180.0, 32.62], [75.0, 220.0, 39.79], [70.0, 195.0, 34.47], \n",
    "            [74.0, 205.0, 23.47], [72.0, 170.0, 25.31], [80.0, 240.0, 27.1], [71.0, 210.0, 24.35], [71.0, 195.0, 23.45], \n",
    "            [74.0, 200.0, 28.24], [74.0, 205.0, 28.77], [73.0, 192.0, 26.53], [75.0, 190.0, 25.64], [76.0, 170.0, 25.83],\n",
    "            [73.0, 240.0, 38.06], [77.0, 200.0, 36.38], [72.0, 205.0, 25.27], [73.0, 175.0, 27.2], [77.0, 250.0, 31.59], \n",
    "            [76.0, 220.0, 29.56], [71.0, 224.0, 35.5], [75.0, 210.0, 30.35], [73.0, 195.0, 24.11], [74.0, 180.0, 23.29], \n",
    "            [77.0, 245.0, 31.48], [71.0, 175.0, 27.23], [72.0, 180.0, 24.07], [73.0, 215.0, 28.68], [69.0, 175.0, 27.05],\n",
    "            [73.0, 180.0, 31.15], [70.0, 195.0, 31.85], [74.0, 230.0, 31.68], [76.0, 230.0, 34.23], [73.0, 205.0, 32.01], \n",
    "            [73.0, 215.0, 25.41], [75.0, 195.0, 24.73], [73.0, 180.0, 25.66], [79.0, 205.0, 24.5], [74.0, 180.0, 24.38], \n",
    "            [73.0, 190.0, 26.89], [74.0, 180.0, 24.2], [77.0, 190.0, 26.97], [75.0, 190.0, 25.21], [74.0, 220.0, 30.46],\n",
    "            [73.0, 210.0, 28.53], [77.0, 255.0, 25.75], [73.0, 190.0, 31.15], [77.0, 230.0, 26.48], [74.0, 200.0, 26.93],\n",
    "            [74.0, 205.0, 29.55], [73.0, 210.0, 34.75], [77.0, 225.0, 29.71], [74.0, 215.0, 29.83], [77.0, 220.0, 33.57], \n",
    "            [75.0, 205.0, 28.21], [77.0, 200.0, 27.54], [75.0, 220.0, 26.05], [71.0, 197.0, 23.64], [74.0, 225.0, 24.82], \n",
    "            [70.0, 187.0, 29.8], [79.0, 245.0, 34.71], [72.0, 185.0, 29.22], [72.0, 185.0, 23.96], [70.0, 175.0, 23.87], \n",
    "            [74.0, 200.0, 26.77], [74.0, 180.0, 23.49], [72.0, 188.0, 26.77], [73.0, 225.0, 24.51], [72.0, 200.0, 33.23], \n",
    "            [74.0, 210.0, 31.04], [74.0, 245.0, 32.02], [76.0, 213.0, 31.44], [82.0, 231.0, 43.47], [74.0, 165.0, 28.38], \n",
    "            [74.0, 228.0, 27.81], [70.0, 210.0, 24.57], [73.0, 250.0, 23.34], [73.0, 191.0, 27.09], [74.0, 190.0, 25.14], \n",
    "            [77.0, 200.0, 27.07], [72.0, 215.0, 24.02], [76.0, 254.0, 27.6], [73.0, 232.0, 27.99], [73.0, 180.0, 27.56], \n",
    "            [72.0, 215.0, 28.63], [74.0, 220.0, 30.99], [74.0, 180.0, 26.33], [71.0, 200.0, 26.97], [72.0, 170.0, 22.85],\n",
    "            [75.0, 195.0, 23.19], [74.0, 210.0, 23.87], [74.0, 200.0, 33.98], [77.0, 220.0, 28.26], [70.0, 165.0, 29.12], \n",
    "            [71.0, 180.0, 26.18], [73.0, 200.0, 28.03], [76.0, 200.0, 23.08], [71.0, 170.0, 26.24], [75.0, 224.0, 26.63],\n",
    "            [74.0, 220.0, 24.21], [72.0, 180.0, 23.01], [76.0, 198.0, 23.13], [79.0, 240.0, 23.08], [76.0, 239.0, 25.13], \n",
    "            [73.0, 185.0, 24.66], [76.0, 210.0, 26.03], [78.0, 220.0, 28.7], [75.0, 200.0, 25.57], [76.0, 195.0, 24.65], \n",
    "            [72.0, 220.0, 25.55], [72.0, 230.0, 22.27], [73.0, 170.0, 24.76], [73.0, 220.0, 23.98], [75.0, 230.0, 27.85],\n",
    "            [71.0, 165.0, 22.14], [76.0, 205.0, 27.05], [70.0, 192.0, 31.45], [75.0, 210.0, 32.03], [74.0, 205.0, 29.95], \n",
    "            [75.0, 200.0, 23.47], [73.0, 210.0, 37.21], [71.0, 185.0, 25.67], [71.0, 195.0, 34.69], [72.0, 202.0, 30.04],\n",
    "            [73.0, 205.0, 32.52], [73.0, 195.0, 24.15], [72.0, 180.0, 26.86], [69.0, 200.0, 27.94], [73.0, 185.0, 26.63],\n",
    "            [78.0, 240.0, 27.31], [71.0, 185.0, 30.55], [73.0, 220.0, 40.68], [75.0, 205.0, 37.27], [76.0, 205.0, 25.78],\n",
    "            [70.0, 180.0, 30.98], [74.0, 201.0, 28.41], [77.0, 190.0, 30.01], [75.0, 208.0, 31.57], [79.0, 240.0, 28.81], \n",
    "            [72.0, 180.0, 24.09], [77.0, 230.0, 26.47], [73.0, 195.0, 30.5], [75.0, 215.0, 23.74], [75.0, 190.0, 24.49],\n",
    "            [75.0, 195.0, 26.73], [73.0, 215.0, 27.01], [73.0, 215.0, 39.75], [76.0, 220.0, 27.16], [77.0, 220.0, 25.74],\n",
    "            [75.0, 230.0, 37.43], [70.0, 195.0, 39.85], [71.0, 190.0, 28.62], [71.0, 195.0, 23.9], [75.0, 209.0, 25.18], \n",
    "            [74.0, 204.0, 33.53], [69.0, 170.0, 33.03], [70.0, 185.0, 31.35], [75.0, 205.0, 22.39], [72.0, 175.0, 27.99],\n",
    "            [75.0, 210.0, 27.22], [73.0, 190.0, 27.49], [72.0, 180.0, 27.53], [72.0, 180.0, 26.26], [72.0, 160.0, 25.18], \n",
    "            [76.0, 235.0, 27.12], [75.0, 200.0, 27.69], [74.0, 210.0, 25.69], [69.0, 180.0, 28.11], [73.0, 190.0, 31.21], \n",
    "            [72.0, 197.0, 30.8], [72.0, 203.0, 30.21], [75.0, 205.0, 28.06], [77.0, 170.0, 26.52], [76.0, 200.0, 23.1], \n",
    "            [80.0, 250.0, 25.02], [77.0, 200.0, 26.14], [76.0, 220.0, 25.38], [79.0, 200.0, 27.6], [71.0, 190.0, 25.5], \n",
    "            [75.0, 170.0, 24.24], [73.0, 190.0, 23.32], [76.0, 220.0, 31.56], [77.0, 215.0, 34.19], [73.0, 206.0, 36.78],\n",
    "            [76.0, 215.0, 27.73], [70.0, 185.0, 34.88], [75.0, 235.0, 31.0], [73.0, 188.0, 48.52], [75.0, 230.0, 34.68], \n",
    "            [70.0, 195.0, 37.38], [69.0, 168.0, 24.33], [71.0, 190.0, 37.3], [72.0, 160.0, 23.72], [72.0, 200.0, 24.19], \n",
    "            [73.0, 200.0, 25.7], [70.0, 189.0, 29.06], [70.0, 180.0, 33.48], [73.0, 190.0, 29.85], [76.0, 200.0, 34.3], \n",
    "            [75.0, 220.0, 40.66], [72.0, 187.0, 21.9], [73.0, 240.0, 27.39], [79.0, 190.0, 23.13], [71.0, 180.0, 35.35],\n",
    "            [72.0, 185.0, 40.93], [74.0, 210.0, 33.67], [74.0, 220.0, 37.39], [74.0, 219.0, 27.97], [72.0, 190.0, 25.54], \n",
    "            [76.0, 193.0, 25.81], [76.0, 175.0, 22.53], [72.0, 180.0, 22.86], [72.0, 215.0, 24.07], [71.0, 210.0, 29.5], \n",
    "            [72.0, 200.0, 30.03], [72.0, 190.0, 27.38], [70.0, 185.0, 30.51], [77.0, 220.0, 28.3], [74.0, 170.0, 29.84], \n",
    "            [72.0, 195.0, 33.41], [76.0, 205.0, 33.6], [71.0, 195.0, 35.6], [76.0, 210.0, 24.19], [71.0, 190.0, 37.88], \n",
    "            [73.0, 190.0, 27.56], [70.0, 180.0, 24.42], [73.0, 220.0, 31.05], [73.0, 190.0, 31.56], [72.0, 186.0, 35.55],\n",
    "            [71.0, 185.0, 41.21], [71.0, 190.0, 27.12], [71.0, 180.0, 26.97], [72.0, 190.0, 28.92], [72.0, 170.0, 30.06],\n",
    "            [74.0, 210.0, 31.51], [74.0, 240.0, 30.69], [74.0, 220.0, 30.19], [71.0, 180.0, 38.11], [72.0, 210.0, 28.68],\n",
    "            [75.0, 210.0, 27.44], [72.0, 195.0, 24.63], [71.0, 160.0, 28.11], [72.0, 180.0, 28.9], [72.0, 205.0, 24.11], \n",
    "            [72.0, 200.0, 40.53], [72.0, 185.0, 29.5], [74.0, 245.0, 28.62], [74.0, 190.0, 26.42], [77.0, 210.0, 30.18], \n",
    "            [75.0, 200.0, 33.75], [73.0, 200.0, 30.06], [75.0, 222.0, 29.22], [73.0, 215.0, 24.47], [76.0, 240.0, 24.94],\n",
    "            [72.0, 170.0, 28.77], [77.0, 220.0, 28.54], [75.0, 156.0, 27.32], [72.0, 190.0, 35.12], [71.0, 202.0, 24.04],\n",
    "            [71.0, 221.0, 36.39], [75.0, 200.0, 22.81], [72.0, 190.0, 33.6], [73.0, 210.0, 38.98], [73.0, 190.0, 34.39],\n",
    "            [71.0, 200.0, 33.15], [70.0, 165.0, 29.35], [75.0, 190.0, 26.59], [71.0, 185.0, 23.46], [76.0, 230.0, 22.43], \n",
    "            [73.0, 208.0, 24.89], [68.0, 209.0, 24.67], [71.0, 175.0, 26.17], [72.0, 180.0, 29.54], [74.0, 200.0, 39.49],\n",
    "            [77.0, 205.0, 34.08], [72.0, 200.0, 30.52], [76.0, 250.0, 28.77], [78.0, 210.0, 33.75], [81.0, 230.0, 32.69],\n",
    "            [72.0, 244.0, 22.59], [73.0, 202.0, 37.04], [76.0, 240.0, 22.7], [72.0, 200.0, 25.6], [72.0, 215.0, 27.23],\n",
    "            [74.0, 177.0, 25.74], [76.0, 210.0, 30.29], [73.0, 170.0, 26.72], [76.0, 215.0, 33.9], [75.0, 217.0, 29.86], \n",
    "            [70.0, 198.0, 36.13], [71.0, 200.0, 27.54], [74.0, 220.0, 31.49], [72.0, 170.0, 28.1], [73.0, 200.0, 34.07], \n",
    "            [76.0, 230.0, 27.28], [76.0, 231.0, 30.8], [73.0, 183.0, 28.2], [71.0, 192.0, 27.9], [68.0, 167.0, 28.26],\n",
    "            [71.0, 190.0, 30.96], [71.0, 180.0, 24.18], [74.0, 180.0, 27.52], [77.0, 215.0, 27.78], [69.0, 160.0, 26.25], \n",
    "            [72.0, 205.0, 29.5], [76.0, 223.0, 30.39], [75.0, 175.0, 23.18], [76.0, 170.0, 25.81], [75.0, 190.0, 23.01], \n",
    "            [76.0, 240.0, 31.72], [72.0, 175.0, 44.28], [74.0, 230.0, 36.91], [76.0, 223.0, 26.54], [74.0, 196.0, 29.27], \n",
    "            [72.0, 167.0, 30.51], [75.0, 195.0, 31.28], [78.0, 190.0, 26.51], [77.0, 250.0, 34.87], [70.0, 190.0, 39.28],\n",
    "            [72.0, 190.0, 28.56], [79.0, 190.0, 27.82], [74.0, 170.0, 25.94], [71.0, 160.0, 28.53], [68.0, 150.0, 22.11], \n",
    "            [77.0, 225.0, 27.71], [75.0, 220.0, 37.38], [71.0, 209.0, 30.67], [72.0, 210.0, 30.48], [70.0, 176.0, 27.12],\n",
    "            [72.0, 260.0, 22.81], [72.0, 195.0, 24.46], [73.0, 190.0, 34.73], [72.0, 184.0, 36.53], [74.0, 180.0, 24.53],\n",
    "            [72.0, 195.0, 27.17], [72.0, 195.0, 26.9], [75.0, 219.0, 33.67], [72.0, 225.0, 29.14], [73.0, 212.0, 32.61],\n",
    "            [74.0, 202.0, 33.87], [72.0, 185.0, 24.41], [78.0, 200.0, 24.94], [75.0, 209.0, 27.36], [72.0, 200.0, 26.33],\n",
    "            [74.0, 195.0, 25.72], [75.0, 228.0, 28.7], [75.0, 210.0, 28.53], [76.0, 190.0, 26.07], [74.0, 212.0, 27.31], \n",
    "            [74.0, 190.0, 23.26], [73.0, 218.0, 28.62], [74.0, 220.0, 32.16], [71.0, 190.0, 38.43], [74.0, 235.0, 31.81], \n",
    "            [75.0, 210.0, 29.1], [76.0, 200.0, 31.28], [74.0, 188.0, 29.17], [76.0, 210.0, 25.89], [76.0, 235.0, 26.13], \n",
    "            [73.0, 188.0, 29.13], [75.0, 215.0, 28.92], [75.0, 216.0, 26.01], [74.0, 220.0, 24.81], [68.0, 180.0, 28.79],\n",
    "            [72.0, 185.0, 33.77], [75.0, 200.0, 33.85], [71.0, 210.0, 27.36], [70.0, 220.0, 26.01], [72.0, 185.0, 29.95], \n",
    "            [73.0, 231.0, 28.12], [72.0, 210.0, 32.87], [75.0, 195.0, 31.2], [74.0, 200.0, 34.14], [70.0, 205.0, 36.11], \n",
    "            [76.0, 200.0, 26.31], [71.0, 190.0, 27.5], [82.0, 250.0, 27.77], [72.0, 185.0, 40.88], [73.0, 180.0, 25.75], \n",
    "            [74.0, 170.0, 31.41], [71.0, 180.0, 30.84], [75.0, 208.0, 30.57], [77.0, 235.0, 39.79], [72.0, 215.0, 39.38], \n",
    "            [74.0, 244.0, 29.42], [72.0, 220.0, 26.19], [73.0, 185.0, 23.74], [78.0, 230.0, 26.03], [77.0, 190.0, 28.59],\n",
    "            [73.0, 200.0, 26.77], [73.0, 180.0, 27.21], [73.0, 190.0, 24.87], [73.0, 196.0, 30.26], [73.0, 180.0, 22.34], \n",
    "            [76.0, 230.0, 26.2], [75.0, 224.0, 28.45], [70.0, 160.0, 27.63], [73.0, 178.0, 25.93], [72.0, 205.0, 28.94],\n",
    "            [73.0, 185.0, 26.8], [75.0, 210.0, 22.42], [74.0, 180.0, 27.26], [73.0, 190.0, 28.38], [73.0, 200.0, 25.23],\n",
    "            [76.0, 257.0, 28.16], [73.0, 190.0, 28.48], [75.0, 220.0, 26.78], [70.0, 165.0, 25.24], [77.0, 205.0, 27.45],\n",
    "            [72.0, 200.0, 29.05], [77.0, 208.0, 29.08], [74.0, 185.0, 25.84], [75.0, 215.0, 25.4], [75.0, 170.0, 26.54], \n",
    "            [75.0, 235.0, 22.73], [75.0, 210.0, 28.53], [72.0, 170.0, 25.37], [74.0, 180.0, 25.35], [71.0, 170.0, 26.43],\n",
    "            [76.0, 190.0, 25.43], [71.0, 150.0, 29.23], [75.0, 230.0, 30.22], [76.0, 203.0, 32.3], [83.0, 260.0, 28.42], \n",
    "            [75.0, 246.0, 25.24], [74.0, 186.0, 29.13], [76.0, 210.0, 24.63], [72.0, 198.0, 24.95], [72.0, 210.0, 28.06],\n",
    "            [75.0, 215.0, 25.86], [75.0, 180.0, 27.32], [72.0, 200.0, 25.91], [77.0, 245.0, 26.63], [73.0, 200.0, 25.95],\n",
    "            [72.0, 192.0, 29.17], [70.0, 192.0, 29.19], [74.0, 200.0, 28.44], [72.0, 192.0, 26.36], [74.0, 205.0, 28.29],\n",
    "            [72.0, 190.0, 29.45], [71.0, 186.0, 25.34], [70.0, 170.0, 26.86], [71.0, 197.0, 26.36], [76.0, 219.0, 27.39], \n",
    "            [74.0, 200.0, 25.84], [76.0, 220.0, 25.08], [74.0, 207.0, 23.87], [74.0, 225.0, 24.68], [74.0, 207.0, 24.64], \n",
    "            [75.0, 212.0, 29.19], [75.0, 225.0, 28.84], [71.0, 170.0, 25.33], [71.0, 190.0, 24.45], [74.0, 210.0, 28.32], \n",
    "            [77.0, 230.0, 32.34], [71.0, 210.0, 34.97], [74.0, 200.0, 32.04], [75.0, 238.0, 23.49], [77.0, 234.0, 26.09], \n",
    "            [76.0, 222.0, 26.41], [74.0, 200.0, 26.55], [76.0, 190.0, 24.62], [72.0, 170.0, 28.49], [71.0, 220.0, 32.61], \n",
    "            [72.0, 223.0, 28.06], [75.0, 210.0, 28.08], [73.0, 215.0, 37.34], [68.0, 196.0, 35.25], [72.0, 175.0, 24.77], \n",
    "            [69.0, 175.0, 39.85], [73.0, 189.0, 35.49], [73.0, 205.0, 31.84], [75.0, 210.0, 26.67], [70.0, 180.0, 34.75], \n",
    "            [70.0, 180.0, 28.91], [74.0, 197.0, 32.73], [75.0, 220.0, 35.72], [74.0, 228.0, 42.6], [74.0, 190.0, 26.22],\n",
    "            [73.0, 204.0, 21.85], [74.0, 165.0, 24.28], [75.0, 216.0, 22.41], [77.0, 220.0, 32.56], [73.0, 208.0, 32.74], \n",
    "            [74.0, 210.0, 26.39], [76.0, 215.0, 28.8], [74.0, 195.0, 28.2], [75.0, 200.0, 26.52], [73.0, 215.0, 34.52],\n",
    "            [76.0, 229.0, 34.32], [78.0, 240.0, 26.98], [75.0, 207.0, 28.86], [73.0, 205.0, 24.96], [77.0, 208.0, 25.3],\n",
    "            [74.0, 185.0, 27.06], [72.0, 190.0, 25.44], [74.0, 170.0, 25.53], [72.0, 208.0, 34.87], [71.0, 225.0, 24.63],\n",
    "            [73.0, 190.0, 27.99], [75.0, 225.0, 27.12], [73.0, 185.0, 31.14], [67.0, 180.0, 30.21], [67.0, 165.0, 32.11],\n",
    "            [76.0, 240.0, 31.91], [74.0, 220.0, 34.44], [73.0, 212.0, 36.68], [70.0, 163.0, 37.66], [75.0, 215.0, 30.98],\n",
    "            [70.0, 175.0, 27.07], [72.0, 205.0, 29.11], [77.0, 210.0, 25.82], [79.0, 205.0, 25.5], [78.0, 208.0, 29.57], \n",
    "            [74.0, 215.0, 25.37], [75.0, 180.0, 33.99], [75.0, 200.0, 29.86], [78.0, 230.0, 31.84], [76.0, 211.0, 38.31],\n",
    "            [75.0, 230.0, 34.48], [69.0, 190.0, 36.88], [75.0, 220.0, 32.34], [72.0, 180.0, 31.58], [75.0, 205.0, 28.89],\n",
    "            [73.0, 190.0, 25.08], [74.0, 180.0, 25.73], [75.0, 205.0, 25.19], [75.0, 190.0, 31.01], [73.0, 195.0, 27.92]]"
   ]
  },
  {
   "cell_type": "code",
   "execution_count": 8,
   "metadata": {},
   "outputs": [],
   "source": [
    "updated = np.array([[ 1.23035590e+00, -1.11622490e+01,  1.00000000e+00], [ 1.02614252e+00,  1.60973231e+01,  1.00000000e+00], [ 1.15442280e+00,  5.08167641e+00,  1.00000000e+00], [ 6.44275321e-01, -5.09538071e+00,  1.00000000e+00], [ 1.00590086e+00,  2.24342718e+00,  1.00000000e+00], [ 9.79535475e-01,  1.21984176e+01,  1.00000000e+00], [ 6.28743238e-01,  1.37232422e+01,  1.00000000e+00], [ 1.27075194e+00, -8.87946313e+00,  1.00000000e+00], [ 4.76559454e-01, -1.08249554e+01,  1.00000000e+00], [ 9.16993762e-01, -7.01116249e+00,  1.00000000e+00], [ 1.17179326e+00,  1.19946614e+00,  1.00000000e+00], [ 1.14509104e+00, -1.20038568e+01,  1.00000000e+00], [ 1.20684945e+00, -1.32983065e+01,  1.00000000e+00], [ 1.03436155e+00,  3.01324251e+00,  1.00000000e+00], [ 8.77474537e-01,  1.05177950e+01,  1.00000000e+00], [ 9.81330796e-01, -1.55666485e+00,  1.00000000e+00], [ 1.03051228e+00,  4.47971582e+00,  1.00000000e+00], [ 1.21042271e+00, -1.90450274e+01,  1.00000000e+00], [ 1.34612414e+00,  6.74418894e+00,  1.00000000e+00], [ 9.75447264e-01,  7.27211497e+00,  1.00000000e+00], [ 8.47118513e-01,  2.28271492e-02,  1.00000000e+00], [ 8.26148637e-01,  4.64024712e+00,  1.00000000e+00], [ 5.53648712e-01, -2.94317618e+00,  1.00000000e+00], [ 7.55670499e-01,  1.11495499e+01,  1.00000000e+00], [ 9.85196660e-01, -2.56945239e+01,  1.00000000e+00], [ 8.62126373e-01,  2.01882766e+00,  1.00000000e+00], \n",
    "                    [ 7.19775782e-01,  1.48238842e+01,  1.00000000e+00], [ 8.44751158e-01,  5.92416221e+00,  1.00000000e+00], [ 9.91904732e-01, -9.42474862e+00,  1.00000000e+00], [ 1.04509915e+00, -1.28390028e+01,  1.00000000e+00], [ 1.01190093e+00, -6.61469619e+00,  1.00000000e+00], [ 7.44336986e-01, -1.41233042e+01,  1.00000000e+00], [ 8.53119610e-01,  4.59921617e+00,  1.00000000e+00], [ 7.59425518e-01,  8.02401300e+00,  1.00000000e+00], [ 5.87570351e-01,  1.12257852e+01,  1.00000000e+00], [ 1.24227730e+00,  7.85257416e+00,  1.00000000e+00], [ 9.82614944e-01,  6.34371387e+00,  1.00000000e+00], [ 1.01614715e+00,  5.40345796e+00,  1.00000000e+00], [ 1.18089923e+00, -1.46176192e-01,  1.00000000e+00], [ 1.17378685e+00,  2.17293935e+01,  1.00000000e+00], [ 1.21762004e+00, -5.59877709e+00,  1.00000000e+00], [ 1.33124703e+00,  9.74917744e-01,  1.00000000e+00], [ 9.58079791e-01, -1.79901724e+01,  1.00000000e+00], [ 9.74026483e-01,  3.14487561e+00,  1.00000000e+00], [ 1.06126875e+00,  8.32652888e+00,  1.00000000e+00], [ 8.47865074e-01,  7.83194047e+00,  1.00000000e+00], [ 9.42908091e-01, -1.18734385e+01,  1.00000000e+00], [ 7.76138097e-01, -9.22310373e+00,  1.00000000e+00], [ 7.68684276e-01, -4.21309427e+00,  1.00000000e+00], [ 7.85187650e-01, -1.68954696e+01,  1.00000000e+00], [ 9.15848886e-01, -5.96619357e+00,  1.00000000e+00], [ 9.84531183e-01, -1.46762139e+01,  1.00000000e+00], \n",
    "                    [ 1.10626605e+00,  3.45103902e+00,  1.00000000e+00], [ 8.53100164e-01,  5.69577055e-01,  1.00000000e+00], [ 1.12869803e+00, -3.96011563e+00,  1.00000000e+00], [ 9.28513292e-01, -1.23132496e+00,  1.00000000e+00], [ 1.07512017e+00,  1.72924292e+01,  1.00000000e+00], [ 7.35910830e-01,  1.77271806e+01,  1.00000000e+00], [ 9.81241889e-01, -7.83222849e+00,  1.00000000e+00], [ 1.22849824e+00, -2.41199106e+00,  1.00000000e+00], [ 9.68632665e-01, -5.49584278e+00,  1.00000000e+00], [ 8.22116396e-01, -2.02656475e+01,  1.00000000e+00], [ 1.35300136e+00, -7.89083698e+00,  1.00000000e+00], [ 1.27588359e+00, -4.07022942e+00,  1.00000000e+00], [ 1.12014611e+00, -5.25433720e+00,  1.00000000e+00], [ 1.20086535e+00, -4.35920475e+00,  1.00000000e+00], [ 1.01474253e+00,  1.07527743e+01,  1.00000000e+00], [ 1.30559742e+00,  2.01574420e+00,  1.00000000e+00], [ 1.11458670e+00,  9.13482984e+00,  1.00000000e+00], [ 9.83138560e-01,  1.13273019e+00,  1.00000000e+00], [ 1.28281453e+00, -1.77704107e+01,  1.00000000e+00], [ 7.80627425e-01, -1.26665317e+01,  1.00000000e+00], [ 1.24417229e+00,  6.09616799e+00,  1.00000000e+00], [ 9.02237548e-01, -1.43521786e+01,  1.00000000e+00], [ 1.00096375e+00, -1.21000577e+01,  1.00000000e+00], [ 1.37301747e+00, -1.15534412e+01,  1.00000000e+00], [ 1.23565502e+00, -4.91764512e+00,  1.00000000e+00], [ 1.36885262e+00,  2.24273925e-01,  1.00000000e+00], \n",
    "                    [ 8.04011455e-01, -4.68100488e+00,  1.00000000e+00], [ 8.99834673e-01, -1.54869364e+01,  1.00000000e+00], [ 7.81903076e-01,  2.59105269e+00,  1.00000000e+00], [ 1.04114399e+00,  2.64632863e+00,  1.00000000e+00], [ 1.29785513e+00,  8.92850440e-01,  1.00000000e+00], [ 1.07116337e+00,  1.34762494e+00,  1.00000000e+00], [ 1.13793746e+00,  6.38742629e+00,  1.00000000e+00], [ 1.21981376e+00,  1.52186430e+01,  1.00000000e+00], [ 9.06611798e-01,  1.41982744e+01,  1.00000000e+00], [ 1.16829089e+00,  1.73070332e+01,  1.00000000e+00], [ 1.10037453e+00,  3.96675508e+00,  1.00000000e+00], [ 1.15409938e+00,  9.59207164e+00,  1.00000000e+00], [ 1.30192549e+00,  1.32382588e+01,  1.00000000e+00], [ 7.50917082e-01, -7.44871258e+00,  1.00000000e+00], [ 8.62049287e-01, -1.06911035e+00,  1.00000000e+00], [ 1.57365214e+00,  7.24248138e-01,  1.00000000e+00], [ 1.32624369e+00, -1.01004475e+01,  1.00000000e+00], [ 1.26514287e+00,  7.93447934e+00,  1.00000000e+00], [ 1.01105831e+00,  9.48770909e+00,  1.00000000e+00], [ 8.55912489e-01, -5.69631504e+00,  1.00000000e+00], [ 9.65513218e-01,  5.75500942e+00,  1.00000000e+00], [ 1.16848557e+00, -9.01626266e+00,  1.00000000e+00], [ 1.01293558e+00, -6.95968852e+00,  1.00000000e+00], [ 7.63964809e-01, -4.18809722e+00,  1.00000000e+00], [ 9.29891391e-01, -1.44010570e+01,  1.00000000e+00], [ 1.18950323e+00, -2.62295720e+00,  1.00000000e+00], \n",
    "                    [ 9.70249120e-01, -1.66534480e+01,  1.00000000e+00], [ 9.89598009e-01, -7.11283119e+00,  1.00000000e+00], [ 1.18648060e+00, -5.52771440e+00,  1.00000000e+00], [ 1.01864209e+00, -8.08163260e+00,  1.00000000e+00], [ 9.67307658e-01, -8.80011111e+00,  1.00000000e+00], [ 1.28034779e+00,  3.85942772e+00,  1.00000000e+00], [ 5.15423464e-01,  1.20508640e+00,  1.00000000e+00], [ 1.03332146e+00, -4.97468670e+00,  1.00000000e+00], [ 9.51165635e-01,  2.74427276e+00,  1.00000000e+00], [ 8.09929412e-01, -2.14157409e+00,  1.00000000e+00], [ 8.83008878e-01, -2.22054922e+01,  1.00000000e+00], [ 1.10549185e+00, -1.29494823e+01,  1.00000000e+00], [ 7.78641485e-01, -6.70594750e+00,  1.00000000e+00], [ 9.17178328e-01,  6.83862615e-02,  1.00000000e+00], [ 9.29118207e-01,  1.28526879e+01,  1.00000000e+00], [ 9.70893714e-01, -1.22617037e+01,  1.00000000e+00], [ 1.19649132e+00, -1.47529111e+00,  1.00000000e+00], [ 1.16328581e+00, -1.04808629e+01,  1.00000000e+00], [ 7.09738932e-01,  4.54818041e+00,  1.00000000e+00], [ 8.90284399e-01, -2.03046159e-01,  1.00000000e+00], [ 1.38702901e+00,  1.06814137e+01,  1.00000000e+00], [ 1.08198633e+00,  3.68343478e+00,  1.00000000e+00], [ 7.65635969e-01, -3.63954289e+00,  1.00000000e+00], [ 1.22937497e+00, -1.28068163e+01,  1.00000000e+00], [ 1.43298260e+00, -1.01949975e+00,  1.00000000e+00], [ 1.01237228e+00,  2.73456147e+01,  1.00000000e+00], \n",
    "                    [ 9.64115352e-01, -1.09861514e+01,  1.00000000e+00], [ 1.00310698e+00,  2.19956942e+00,  1.00000000e+00], [ 1.17226982e+00, -1.21592034e+01,  1.00000000e+00], [ 1.09358637e+00,  9.79234201e+00,  1.00000000e+00], [ 1.16036905e+00,  5.77730234e+00,  1.00000000e+00], [ 9.06951986e-01, -1.04359480e+00,  1.00000000e+00], [ 1.26638874e+00, -1.33911465e+01,  1.00000000e+00], [ 1.04407613e+00, -9.63173441e-02,  1.00000000e+00], [ 1.00529206e+00,  6.00578038e+00,  1.00000000e+00], [ 8.50427980e-01,  7.87816608e+00,  1.00000000e+00], [ 1.43911179e+00, -7.07929758e+00,  1.00000000e+00], [ 1.17875604e+00, -1.93047833e+01,  1.00000000e+00], [ 8.75633488e-01,  5.75314210e+00,  1.00000000e+00], [ 1.06821690e+00, -1.29560196e+01,  1.00000000e+00], [ 9.26089220e-01, -2.45039365e+00,  1.00000000e+00], [ 1.10738229e+00,  8.77411029e-02,  1.00000000e+00], [ 1.31569805e+00,  2.48448312e-03,  1.00000000e+00], [ 1.08509415e+00,  6.04013293e+00,  1.00000000e+00], [ 9.67425562e-01, -8.32530035e+00,  1.00000000e+00], [ 8.87943767e-01, -7.80131670e+00,  1.00000000e+00], [ 1.40225358e+00, -4.97747379e+00,  1.00000000e+00], [ 8.38666150e-01, -1.01121426e+01,  1.00000000e+00], [ 1.07986872e+00,  9.94275024e+00,  1.00000000e+00], [ 1.18274127e+00,  6.23527473e+00,  1.00000000e+00], [ 8.83802888e-01,  1.25516304e+01,  1.00000000e+00], [ 1.18472791e+00,  1.03586289e+01,  1.00000000e+00], \n",
    "                    [ 1.06628647e+00,  1.07617611e+01,  1.00000000e+00], [ 1.09895831e+00, -7.79048569e-01,  1.00000000e+00], [ 7.81757514e-01, -6.08810116e+00,  1.00000000e+00], [ 8.45031969e-01,  4.10655550e+00,  1.00000000e+00], [ 1.10070330e+00, -8.36011415e+00,  1.00000000e+00], [ 1.09720842e+00,  1.55708570e+01,  1.00000000e+00], [ 1.51228454e+00,  1.62084372e+00,  1.00000000e+00], [ 9.15417111e-01, -2.22590604e+01,  1.00000000e+00], [ 1.41187694e+00, -1.82815123e+01,  1.00000000e+00], [ 8.88623955e-01, -6.43936562e+00,  1.00000000e+00], [ 9.02122719e-01, -2.00768689e+01,  1.00000000e+00], [ 9.14638997e-01,  1.07176480e+01,  1.00000000e+00], [ 1.20891164e+00,  5.87631471e+00,  1.00000000e+00], [ 1.12670523e+00, -6.16196302e+00,  1.00000000e+00], [ 1.11083364e+00, -1.87413955e+01,  1.00000000e+00], [ 7.98033574e-01,  6.11685464e+00,  1.00000000e+00], [ 1.34366323e+00, -1.19219285e+01,  1.00000000e+00], [ 1.16134840e+00,  1.03248366e+01,  1.00000000e+00], [ 1.25420453e+00, -7.59790666e-01,  1.00000000e+00], [ 8.99744243e-01,  1.26501499e+01,  1.00000000e+00], [ 1.14383365e+00,  5.34644949e-02,  1.00000000e+00], [ 8.55825310e-01, -2.32647198e+01,  1.00000000e+00], [ 1.22296211e+00, -7.98519320e-01,  1.00000000e+00], [ 9.21723625e-01,  1.45011203e+00,  1.00000000e+00], [ 9.76309579e-01, -1.57207328e+01,  1.00000000e+00], [ 9.67147416e-01, -3.39598454e+00,  1.00000000e+00], \n",
    "                    [ 9.66943931e-01, -5.80002664e+00,  1.00000000e+00], [ 9.85536119e-01,  6.86117639e+00,  1.00000000e+00], [ 1.20361515e+00, -1.73314575e+00,  1.00000000e+00], [ 8.19398247e-01,  2.83143606e-01,  1.00000000e+00], [ 1.12256634e+00,  7.18331943e-01,  1.00000000e+00], [ 7.84622007e-01,  1.24142567e+01,  1.00000000e+00], [ 9.24921511e-01,  2.12446028e+01,  1.00000000e+00], [ 9.36246335e-01,  2.49080332e+00,  1.00000000e+00], [ 1.08455248e+00,  2.46445253e+01,  1.00000000e+00], [ 8.83228947e-01, -1.81054094e+01,  1.00000000e+00], [ 1.06422551e+00, -1.44339134e+01,  1.00000000e+00], [ 7.81345689e-01, -8.44362920e-01,  1.00000000e+00], [ 1.18269706e+00,  1.36630874e+01,  1.00000000e+00], [ 8.00324642e-01, -3.45137707e+00,  1.00000000e+00], [ 8.13150389e-01, -1.22527305e+00,  1.00000000e+00], [ 1.19148807e+00, -3.37761255e+00,  1.00000000e+00], [ 1.05022766e+00,  1.46476333e+01,  1.00000000e+00], [ 7.85396904e-01, -1.98680264e+01,  1.00000000e+00], [ 1.16151403e+00, -5.07562914e+00,  1.00000000e+00], [ 8.78650374e-01,  3.66742523e+00,  1.00000000e+00], [ 1.19608780e+00, -1.10377730e+01,  1.00000000e+00], [ 1.18155398e+00, -3.50606827e+00,  1.00000000e+00], [ 8.39959489e-01,  1.13935565e+01,  1.00000000e+00], [ 1.22276108e+00, -1.71092659e+00,  1.00000000e+00], [ 1.21208070e+00,  5.26035165e+00,  1.00000000e+00], [ 9.82421960e-01,  5.26301160e+00,  1.00000000e+00], \n",
    "                    [ 8.31628773e-01, -6.24054635e+00,  1.00000000e+00], [ 9.55529864e-01, -9.87448955e+00,  1.00000000e+00], [ 6.42655183e-01,  1.23374425e+01,  1.00000000e+00], [ 9.88086103e-01,  5.42622509e+00,  1.00000000e+00], [ 9.60923362e-01,  8.69194784e-01,  1.00000000e+00], [ 1.16040929e+00, -7.76782163e-01,  1.00000000e+00], [ 8.75957056e-01, -7.71231563e-01,  1.00000000e+00], [ 1.18175238e+00,  6.59684037e+00,  1.00000000e+00], [ 1.29473351e+00, -4.37023665e+00,  1.00000000e+00], [ 9.30119334e-01, -6.43018153e+00,  1.00000000e+00], [ 6.19757920e-01, -4.08795510e+00,  1.00000000e+00], [ 9.44446979e-01,  5.80680906e-03,  1.00000000e+00], [ 9.82654489e-01, -8.54508981e+00,  1.00000000e+00], [ 1.09380186e+00,  1.28006522e+01,  1.00000000e+00], [ 5.07324203e-01,  8.65243410e+00,  1.00000000e+00], [ 1.04430850e+00,  2.07287581e+01,  1.00000000e+00], [ 1.03884026e+00, -1.99239939e+01,  1.00000000e+00], [ 1.05767037e+00,  6.98604981e-02,  1.00000000e+00], [ 9.12771682e-01, -9.83247421e+00,  1.00000000e+00], [ 1.46795881e+00,  7.56705247e-01,  1.00000000e+00], [ 8.90699502e-01, -7.40619422e+00,  1.00000000e+00], [ 1.09670271e+00,  8.71434036e+00,  1.00000000e+00], [ 9.76197007e-01,  1.34409756e+01,  1.00000000e+00], [ 1.28303922e+00,  1.72502172e+00,  1.00000000e+00], [ 1.07354148e+00, -3.02227874e-01,  1.00000000e+00], [ 1.10406628e+00, -1.55364676e+01,  1.00000000e+00], \n",
    "                    [ 8.22912996e-01, -1.37976691e+01,  1.00000000e+00], [ 6.95875925e-01,  1.82815534e+01,  1.00000000e+00], [ 7.89996123e-01, -8.28777759e+00,  1.00000000e+00], [ 1.33529029e+00,  5.23855023e-01,  1.00000000e+00], [ 1.37724928e+00, -3.15432245e+01,  1.00000000e+00], [ 1.13188395e+00, -1.87545051e-01,  1.00000000e+00], [ 9.81345093e-01, -5.96598135e+00,  1.00000000e+00], [ 8.85838275e-01,  6.49574896e+00,  1.00000000e+00], [ 1.10544746e+00, -4.73772946e+00,  1.00000000e+00], [ 7.37800563e-01, -3.11040858e+00,  1.00000000e+00], [ 1.15800960e+00,  5.15995306e+00,  1.00000000e+00], [ 9.54850109e-01,  6.13379149e+00,  1.00000000e+00], [ 7.93945241e-01,  2.79101476e-01,  1.00000000e+00], [ 1.28826526e+00, -3.54865622e+00,  1.00000000e+00], [ 1.21116417e+00, -3.37233767e+00,  1.00000000e+00], [ 7.12952793e-01, -3.74691790e+00,  1.00000000e+00], [ 1.10116658e+00,  2.03871325e+01,  1.00000000e+00], [ 1.03101841e+00, -7.64444368e+00,  1.00000000e+00], [ 1.23441898e+00,  3.01095435e+00,  1.00000000e+00], [ 7.09368328e-01,  3.52401185e+00,  1.00000000e+00], [ 7.72836880e-01,  1.40298213e+01,  1.00000000e+00], [ 1.20491144e+00,  9.22880630e+00,  1.00000000e+00], [ 7.40532943e-01, -1.18575367e-01,  1.00000000e+00], [ 9.67953086e-01, -5.88067911e+00,  1.00000000e+00], [ 1.30315386e+00, -7.86659777e+00,  1.00000000e+00], [ 1.14416698e+00, -1.99982567e+01,  1.00000000e+00], \n",
    "                    [ 1.24885026e+00,  1.77151886e+01,  1.00000000e+00], [ 7.90233557e-01,  1.34620963e+01,  1.00000000e+00], [ 5.43226810e-01, -6.99583760e-01,  1.00000000e+00], [ 7.16781444e-01,  2.58432892e+01,  1.00000000e+00], [ 9.98245215e-01, -2.26647353e+00,  1.00000000e+00], [ 1.05558500e+00,  1.75654219e+01,  1.00000000e+00], [ 1.16394380e+00, -1.31763160e+01,  1.00000000e+00], [ 1.00447615e+00,  2.10534198e+00,  1.00000000e+00], [ 5.60770095e-01, -7.29722999e+00,  1.00000000e+00], [ 9.72939673e-01,  3.87254052e+00,  1.00000000e+00], [ 8.97650646e-01,  1.62259374e+00,  1.00000000e+00], [ 1.42819133e+00,  7.20008101e+00,  1.00000000e+00], [ 8.21308449e-01,  4.33466166e+00,  1.00000000e+00], [ 7.94843020e-01,  1.12923073e+01,  1.00000000e+00], [ 1.19564207e+00,  2.15660775e+01,  1.00000000e+00], [ 8.45355642e-01,  1.06109173e-01,  1.00000000e+00], [ 9.96497983e-01, -1.09772301e+01,  1.00000000e+00], [ 9.87378250e-01,  1.23134939e+01,  1.00000000e+00], [ 7.07294182e-01,  1.56637214e+01,  1.00000000e+00], [ 9.44137598e-01, -4.61763512e+00,  1.00000000e+00], [ 7.27707226e-01,  2.08694754e+00,  1.00000000e+00], [ 9.23726971e-01,  1.02699816e+00,  1.00000000e+00], [ 9.49220057e-01,  2.22545587e+00,  1.00000000e+00], [ 9.42379303e-01,  4.77229513e+00,  1.00000000e+00], [ 9.24710637e-01,  1.17688147e+00,  1.00000000e+00], [ 9.27229672e-01,  9.32112917e+00,  1.00000000e+00], \n",
    "                    [ 7.38415928e-01,  6.15668350e+00,  1.00000000e+00], [ 8.35762324e-01, -1.11713015e+01,  1.00000000e+00], [ 1.13774662e+00, -1.98198053e+01,  1.00000000e+00], [ 1.06097710e+00, -1.58378078e+00,  1.00000000e+00], [ 1.02104879e+00, -9.75009952e+00,  1.00000000e+00], [ 8.93070102e-01,  1.04041595e+01,  1.00000000e+00], [ 1.18129810e+00, -7.05787665e+00,  1.00000000e+00], [ 7.34274727e-01, -9.32202962e+00,  1.00000000e+00], [ 1.02172310e+00, -1.17447512e+01,  1.00000000e+00], [ 7.54098721e-01,  1.60200506e+01,  1.00000000e+00], [ 1.37437533e+00,  4.61187946e+00,  1.00000000e+00], [ 1.27827810e+00, -6.16769799e+00,  1.00000000e+00], [ 8.08029491e-01,  2.02470307e+01,  1.00000000e+00], [ 1.10672134e+00,  1.85224203e+00,  1.00000000e+00], [  0.75453538,  -0.87912144,   1.        ], [  0.68532478,   4.04549016,   1.        ], [  0.78291243,   1.73467977,   1.        ], [  1.05160066,   5.58308777,   1.        ], [  1.25612247,   6.20099419,   1.        ], [  1.14419009,   6.02907542,   1.        ], [  0.64354272,  -3.88433134,   1.        ], [  1.12142621,   5.65503384,   1.        ], [  0.70272522,   9.99907525,   1.        ], [  1.0961204 ,   6.46291253,   1.        ], [  0.98670667,  -5.93614663,   1.        ], [  0.81871771,   7.40393907,   1.        ], [  1.08913462,  -5.89520247,   1.        ], [  0.67354991, -15.72611319,   1.        ], [  1.30101316,   6.78682325,   1.        ], \n",
    "                    [  0.66534569,  10.98917369,   1.        ], [  0.64720789,  -5.95154512,   1.        ], [  1.10791135,   2.66077474,   1.        ], [  1.18454114,   4.69574222,   1.        ], [  0.83419872,  -2.29530523,   1.        ], [  0.99835304,   2.10669295,   1.        ], [  0.97153784,   1.33361864,   1.        ], [  0.82671949,   0.34505783,   1.        ], [  1.30146475,  13.84533457,   1.        ], [  1.25415933,  -5.74056173,   1.        ], [  1.2730586 ,   8.94552176,   1.        ], [  0.90954177, -15.47539306,   1.        ], [  0.70278906,   0.96125447,   1.        ], [  0.87395466,  -5.16482264,   1.        ], [  1.16908602,   2.80413027,   1.        ], [  1.03912684, -10.70928719,   1.        ], [  0.88669291,  10.05584679,   1.        ], [  0.76260699,  -8.7758038 ,   1.        ], [  0.87031071,   6.46064216,   1.        ], [  1.04477418,   5.15460079,   1.        ], [  1.0875493 , -10.62241559,   1.        ], [  0.83386738, -15.33892231,   1.        ], [  1.16215216,  -5.10819977,   1.        ], [  1.0054793 ,  -1.82098198,   1.        ], [  0.75844194,  -2.4415105 ,   1.        ], [  0.93329968,  11.77057557,   1.        ], [  0.92372085,   0.64863651,   1.        ], [  1.15454426,  -6.84924339,   1.        ], [  0.97070677, -11.91485235,   1.        ], [  0.72110165, -13.37999778,   1.        ], [  1.1786155 ,   3.59578788,   1.        ], [  1.18709659,   3.1095577 ,   1.        ], \n",
    "                    [  1.03373832,  -7.31619133,   1.        ], [  0.80074611, -13.84098074,   1.        ], [  0.71741433,  -2.89096045,   1.        ], [  1.04251668, -12.8502816 ,   1.        ], [  0.68421015,   8.60396458,   1.        ], [  0.99297664,   5.22409493,   1.        ], [  1.04652662,  -6.66473273,   1.        ], [  0.51606618,  10.94908664,   1.        ], [  0.94702751,   0.1747297 ,   1.        ], [  1.03613273, -11.70434385,   1.        ], [  0.99966687,  -6.53842605,   1.        ], [  0.74860045,   4.94152504,   1.        ], [  0.89176616,   9.871648  ,   1.        ], [  1.03841706,  -3.68670426,   1.        ], [  1.07849177,  -0.74975432,   1.        ], [  1.00900045,   8.79151881,   1.        ], [  0.42367859,   7.09085715,   1.        ], [  1.26468514,   7.44263733,   1.        ], [  1.0758365 ,   4.08441519,   1.        ], [  1.00886759,  11.02517735,   1.        ], [  0.76377341, -11.76432768,   1.        ], [  1.10805559,  12.31695721,   1.        ], [  0.70570231,   5.9509547 ,   1.        ], [  1.39712548,  -1.29203926,   1.        ], [  0.95159159,  -3.80577044,   1.        ], [  1.1006803 ,   2.15622773,   1.        ], [  1.55218141,   2.02229264,   1.        ], [  0.90864049,  -1.12847277,   1.        ], [  0.96922243,  -8.49430692,   1.        ], [  0.85111814, -22.49819861,   1.        ], [  0.84592201,   5.56157857,   1.        ], [  0.86075936,   5.2766625 ,   1.        ], \n",
    "                    [  0.99114169,   1.2103746 ,   1.        ], [  1.17100546, -16.73324598,   1.        ], [  1.30167279,   5.30543094,   1.        ], [  1.1224347 ,   6.5704791 ,   1.        ], [  1.28760186,   9.31387707,   1.        ], [  0.95353455,   5.62765545,   1.        ], [  1.23226025,  -3.34361968,   1.        ], [  0.95082084,  -1.53135163,   1.        ], [  0.87116282,  -0.03232178,   1.        ], [  1.03926633,  -1.71739963,   1.        ], [  1.35266074,  -2.97273227,   1.        ], [  0.69829668,   6.99433823,   1.        ], [  0.97068573,  12.81487423,   1.        ], [  1.08086885,   0.19955414,   1.        ], [  1.53633936,   3.24962514,   1.        ], [  1.24882668, -15.14797521,   1.        ], [  1.15889799,  21.41389214,   1.        ], [  0.96171718,  -5.03285282,   1.        ], [  0.85421804,  10.95855448,   1.        ], [  0.73504065,   1.48880096,   1.        ], [  1.09305687,  -6.46621685,   1.        ], [  0.98932994,   8.94953783,   1.        ], [  0.97293899, -11.19232561,   1.        ], [  0.96610713,   5.93202339,   1.        ], [  0.9684787 ,  10.59497087,   1.        ], [  0.59985774,   5.74298658,   1.        ], [  1.03812225,  -3.65485916,   1.        ], [  0.7853144 ,  -3.66275037,   1.        ], [  1.12374247,  13.05814611,   1.        ], [  1.43528171,   1.15092519,   1.        ], [  1.03905474, -14.90236815,   1.        ], [  0.94336819,   8.1128994 ,   1.        ], \n",
    "                    [  1.22167285, -10.90330997,   1.        ], [  1.14785   ,  -0.81099452,   1.        ], [  0.85366197,  16.49827867,   1.        ], [  1.00295192,  34.64496287,   1.        ], [  1.31787235,   3.1586076 ,   1.        ], [  1.02283805,  16.54967229,   1.        ], [  1.03147671,  -5.26879864,   1.        ], [  0.76581066,  12.84096293,   1.        ], [  0.7779436 ,   8.32536381,   1.        ], [  1.0798399 ,  -2.11012045,   1.        ], [  1.31036948,  -1.11182074,   1.        ], [  1.29808461,  -2.77349267,   1.        ], [  0.79037494,  13.45051825,   1.        ], [  1.00276705, -23.48980714,   1.        ], [  0.91357375, -13.63941683,   1.        ], [  1.14830248,  -1.76295417,   1.        ], [  1.00282954,   2.70568222,   1.        ], [  0.86250319,  -1.95212069,   1.        ], [  1.013751  ,  -6.61194582,   1.        ], [  1.03873425,   5.50732232,   1.        ], [  0.53644585,  -0.78191657,   1.        ], [  1.17205291,  -8.45218098,   1.        ], [  1.08849826,   5.05257524,   1.        ], [  1.14303239,  -2.74565719,   1.        ], [  1.37784077,   4.05637895,   1.        ], [  1.36957632,   2.09262988,   1.        ], [  1.51399103,   1.05189754,   1.        ], [  1.11131264, -22.0473087 ,   1.        ], [  1.27923097,   0.6030637 ,   1.        ], [  1.24418468,   9.59976314,   1.        ], [  0.91240997,  -7.11491468,   1.        ], [  0.81489118,  -1.28409914,   1.        ], \n",
    "                    [  0.87702826,  -1.81363266,   1.        ], [  1.06621881,  -9.53265987,   1.        ], [  1.49001324,  -6.5359022 ,   1.        ], [  1.2427316 ,  24.85268836,   1.        ], [  1.04684969,  -6.12866558,   1.        ], [  0.5662154 ,   4.54666387,   1.        ], [  1.02819736,  -4.39118008,   1.        ], [  1.30421113,   1.24177551,   1.        ], [  0.97918474,   6.24386281,   1.        ], [  0.76810722, -12.39610445,   1.        ], [  0.99780856,  -7.01958196,   1.        ], [  1.14046573, -19.70140194,   1.        ], [  1.31457237, -15.44526188,   1.        ], [  0.97608291,  -9.13807992,   1.        ], [  1.0128414 ,  17.14058505,   1.        ], [  1.21740653,  20.80372288,   1.        ], [  1.00810857, -13.31309207,   1.        ], [  1.03943815,  -0.59654041,   1.        ], [  1.18292977,   0.47785865,   1.        ], [  0.80464358,   9.56112976,   1.        ], [  0.95584119,  -0.48843893,   1.        ], [  0.82503946,  -8.38533241,   1.        ], [  0.89614671, -29.82282151,   1.        ], [  0.76594958, -19.64878219,   1.        ], [  1.03934896,   1.14893191,   1.        ], [  1.22280375,  11.63702369,   1.        ], [  1.09563549,  11.47512122,   1.        ], [  0.93841915,   3.59955939,   1.        ], [  1.03103115, -16.06906354,   1.        ], [  1.0500736 ,  14.15073059,   1.        ], [  1.01598551, -11.94055581,   1.        ], [  0.8568628 ,  -8.86746421,   1.        ], \n",
    "                    [  1.1512113 , -15.15063126,   1.        ], [  0.60594557,  -0.41931958,   1.        ], [  1.34381616,  14.16929568,   1.        ], [  0.865752  ,   5.5523679 ,   1.        ], [  1.09106874,  -5.96263794,   1.        ], [  1.18212183,  10.57420138,   1.        ], [  1.40215345,   9.30698523,   1.        ], [  0.77952793,  15.29336073,   1.        ], [  1.15349391,  -2.34436131,   1.        ], [  1.26951459,  13.65202225,   1.        ], [  1.16575564,  -1.7581552 ,   1.        ], [  0.96368384, -22.65227552,   1.        ], [  0.86751036,  -6.50307355,   1.        ], [  0.77050131,   3.06679982,   1.        ], [  1.0883783 ,   1.13843691,   1.        ], [  1.17540363,   9.28048228,   1.        ], [  1.09651453,   5.20236705,   1.        ], [  1.05237303,  -3.74192536,   1.        ], [  0.93107414, -35.21206538,   1.        ], [  1.61343854,   3.54308197,   1.        ], [  1.09762609, -15.03719459,   1.        ], [  1.13130137, -10.89877518,   1.        ], [  0.81714205,  -8.81486561,   1.        ], [  1.17050449,  14.16165615,   1.        ], [  0.9722288 , -16.71262649,   1.        ], [  0.98674502,   2.92770215,   1.        ], [  1.03989836,  15.3933276 ,   1.        ], [  1.21691486,   7.69787835,   1.        ], [  0.87487015,  11.83086436,   1.        ], [  1.17151643,   1.19239058,   1.        ], [  0.76563512,  -9.27565037,   1.        ], [  1.11509772,   0.51818013,   1.        ], \n",
    "                    [  1.17636082,  17.88747232,   1.        ], [  1.08322013,  -2.80880298,   1.        ], [  1.20873349,  20.76323468,   1.        ], [  0.6902273 ,  -1.88912385,   1.        ], [  1.05865809, -19.02778705,   1.        ], [  0.66820439,  -6.155403  ,   1.        ], [  1.06554183,  14.06449405,   1.        ], [  1.17880724,  11.55304621,   1.        ], [  1.09920494,  -1.92221728,   1.        ], [  0.79585212,   2.85738221,   1.        ], [  0.88382816, -14.82086944,   1.        ], [  0.95450509,   4.85408721,   1.        ], [  0.5488583 ,  -0.46939842,   1.        ], [  0.94406311,  16.42647536,   1.        ], [  0.7145557 ,   4.98530356,   1.        ], [  1.03069806,  -7.87887865,   1.        ], [  0.96047151, -10.5096112 ,   1.        ], [  0.78991282,   8.24211815,   1.        ], [  0.92776992,   3.62487535,   1.        ], [  0.72719147,   4.72589262,   1.        ], [  0.95859185,  11.02765896,   1.        ], [  1.09339652,  -7.45238865,   1.        ], [  1.2399866 ,   1.27954304,   1.        ], [  0.90054838, -14.69665308,   1.        ], [  0.92185672,  10.9596158 ,   1.        ], [  1.03877884, -14.37977338,   1.        ], [  1.21712993,  17.46210207,   1.        ], [  0.99854825, -14.64760635,   1.        ], [  0.65089946,  -0.84336472,   1.        ], [  1.1380791 ,  -1.50266345,   1.        ], [  0.99174148,  -4.231056  ,   1.        ], [  1.32683519,  -8.07916914,   1.        ], \n",
    "                    [  1.13673325, -11.36742009,   1.        ], [  1.05864199,  -9.19140063,   1.        ], [  0.8212941 , -11.33209344,   1.        ], [  0.87141781,  13.97359108,   1.        ], [  0.94220245, -15.01822991,   1.        ], [  1.10558175,   8.72247172,   1.        ], [  0.89415329,   3.48581478,   1.        ], [  0.97874785,   0.04724697,   1.        ], [  0.94141423,   5.75699841,   1.        ], [  1.09488767,  -2.95344327,   1.        ], [  0.83893633,  -6.29659496,   1.        ], [  0.86253551,  17.78507514,   1.        ], [  0.99008129, -12.06669437,   1.        ], [  0.79058953,  -7.65422179,   1.        ], [  1.19487282, -12.94026043,   1.        ], [  1.06841534,  27.09765151,   1.        ], [  0.92929481, -11.85703612,   1.        ], [  0.83969176,  -6.34221154,   1.        ], [  1.53111371, -20.10468795,   1.        ], [  0.94482096,  -6.60513306,   1.        ], [  1.04738517,   2.80848708,   1.        ], [  0.77281598,  -5.88534891,   1.        ], [  0.68780344,   1.0415012 ,   1.        ], [  1.38930299,  -3.69166132,   1.        ], [  0.70982345,   8.80982596,   1.        ], [  0.88762111,  -4.30262939,   1.        ], [  0.95263296,   6.8898687 ,   1.        ], [  0.79324434, -15.3292008 ,   1.        ], [  1.08616654,   8.19774983,   1.        ], [  1.05053116,  10.5602157 ,   1.        ], [  0.98030225,  10.01814168,   1.        ], [  0.85091403,   0.12276145,   1.        ], \n",
    "                    [  0.80898073,  12.28276634,   1.        ], [  0.95238363,  -0.59071497,   1.        ], [  0.90534167,   8.82677429,   1.        ], [  0.86911941,   3.81637772,   1.        ], [  0.8432487 ,   3.59828326,   1.        ], [  0.64557202,  -3.81808969,   1.        ], [  1.06571671,   0.63360278,   1.        ], [  0.80574009,  -5.90387075,   1.        ], [  1.15092807,  -8.22861368,   1.        ], [  0.85983301,  -5.88920606,   1.        ], [  0.60729069,   0.12327551,   1.        ], [  0.86068999, -11.59070028,   1.        ], [  0.85885553,  -2.60558168,   1.        ], [  0.95242344,  -1.21738824,   1.        ], [  1.2469052 , -13.37026255,   1.        ], [  1.12910036, -27.09012367,   1.        ], [  1.34237667,  -6.52373641,   1.        ], [  1.17850351,  -3.87186046,   1.        ], [  1.04190231, -16.35047672,   1.        ], [  1.07120976, -18.34309732,   1.        ], [  0.96837425, -11.93397366,   1.        ], [  0.91520347,   0.33519527,   1.        ], [  1.12158918,   1.07530279,   1.        ], [  1.22635367,  14.74324592,   1.        ], [  1.04599829,  13.49739817,   1.        ], [  1.18056149, -16.23497574,   1.        ], [  1.10154815,  -7.31876064,   1.        ], [  1.27910346,   4.24224912,   1.        ], [  1.0556853 ,   7.79754703,   1.        ], [  0.74162487,   8.32687391,   1.        ], [  1.06134853,  -7.17945456,   1.        ], [  1.28264159,  -4.84678028,   1.        ], \n",
    "                    [  1.13868585,   0.1432825 ,   1.        ], [  0.75740564,  -8.7072825 ,   1.        ], [  1.10286004,  -1.26749937,   1.        ], [  1.10407127, -10.79335839,   1.        ], [  1.27358663,  10.6799301 ,   1.        ], [  0.82907062,   2.07367224,   1.        ], [  0.75935834, -27.34603132,   1.        ], [  1.21559108,   1.92497181,   1.        ], [  0.99804664,   2.12121452,   1.        ], [  0.79901981,  10.59063023,   1.        ], [  1.31271221,  -4.50166135,   1.        ], [  1.0888381 ,  -3.25973405,   1.        ], [  1.00170661, -14.42314285,   1.        ], [  1.25330409,   6.99368742,   1.        ], [  1.37153985,  -4.92014053,   1.        ], [  0.89622604,   5.60893236,   1.        ], [  1.01578037, -21.47573735,   1.        ], [  1.24905597,   3.80230553,   1.        ], [  0.79112116, -11.6046266 ,   1.        ], [  0.84667732,   9.64974017,   1.        ], [  1.16807303,  -3.80398551,   1.        ], [  1.18981166,  -4.56958697,   1.        ], [  0.87873754,   6.91159546,   1.        ], [  1.06568382,  10.09626184,   1.        ], [  1.2242415 ,   8.05490123,   1.        ], [  0.9797915 ,  14.33591989,   1.        ], [  1.08147564,   3.2066683 ,   1.        ], [  1.23100365,  -2.61628299,   1.        ], [  1.18487157,   1.96264358,   1.        ], [  1.18514135, -13.58569804,   1.        ], [  1.06662911, -11.19852886,   1.        ], [  0.93330874,  -8.76657661,   1.        ], \n",
    "                    [  1.07916364, -21.36908792,   1.        ], [  0.67508356,   6.89958046,   1.        ], [  0.86775105,   6.95527478,   1.        ], [  1.6259783 , -28.69550786,   1.        ], [  0.85058789,  -1.17592996,   1.        ], [  0.83646383,  -8.60124687,   1.        ], [  1.12986573,  -4.40574183,   1.        ], [  0.88960861,  16.55283489,   1.        ], [  1.09102541, -12.99936741,   1.        ], [  1.19497691, -10.76108289,   1.        ], [  1.07086855,  -5.12382368,   1.        ], [  1.08761425,  -3.04798417,   1.        ], [  1.30719003, -14.22071349,   1.        ], [  0.69881192,  -2.24210297,   1.        ], [  1.05179142, -10.78317264,   1.        ], [  1.15844769,   5.10134028,   1.        ], [  0.95518768,  -0.9566366 ,   1.        ], [  0.81368811, -13.94996   ,   1.        ], [  1.13339459,   9.55073692,   1.        ], [  1.39316798, -18.56125664,   1.        ], [  1.08418725,  26.91338535,   1.        ], [  0.65740885,  12.56864718,   1.        ], [  1.14639349,   8.10148036,   1.        ], [  1.11017231,  -5.34822793,   1.        ], [  1.01779817,  -5.69424865,   1.        ], [  1.10517044,  -4.6188217 ,   1.        ], [  0.92796013,  -6.23292921,   1.        ], [  0.81078775, -12.75656439,   1.        ], [  0.97570253,  -3.62474596,   1.        ], [  1.3388846 ,   3.30687276,   1.        ], [  0.79088371,   5.65630108,   1.        ], [  0.84571857, -14.73899128,   1.        ], \n",
    "                    [  1.06010516,   0.40985395,   1.        ], [  1.03712289,  -3.63867275,   1.        ], [  1.0456184 ,  -0.74178146,   1.        ], [  1.0742478 ,  -8.75143053,   1.        ], [  1.13565605, -12.40233464,   1.        ], [  0.69872069,  12.33023887,   1.        ], [  1.16949206, -10.53890339,   1.        ], [  0.91136673, -17.22130521,   1.        ], [  1.27348362,  -0.61768239,   1.        ], [  0.99775415,   7.30221357,   1.        ], [  0.75252588, -10.93702027,   1.        ], [  1.04975703,  -9.13603757,   1.        ], [  0.60403797,  -1.36154284,   1.        ], [  0.86110539,  -1.69258187,   1.        ], [  1.24043694,   2.53860931,   1.        ], [  1.05129963,   6.69799857,   1.        ], [  1.21404727,   4.65180615,   1.        ], [  0.97347144,  -4.28011104,   1.        ], [  1.27303012,  -0.78160273,   1.        ], [  0.55763832,  -4.30864973,   1.        ], [  1.04799936,   9.69673976,   1.        ], [  1.02160937,   6.85262234,   1.        ], [  0.82393688, -12.03031379,   1.        ], [  0.90433481,   2.04443496,   1.        ], [  0.87077737, -13.03381489,   1.        ], [  1.01954648,   5.0205305 ,   1.        ], [  1.23746334, -11.96491761,   1.        ], [  0.99648959,   0.87705781,   1.        ], [  1.09764531,   5.34203624,   1.        ], [  1.11986062,  -7.95751792,   1.        ], [  0.56969435,  -4.4455656 ,   1.        ], [  1.17176388,   1.66200449,   1.        ], \n",
    "                    [  0.99720291,  13.74328862,   1.        ], [  1.28369033,  -8.77524448,   1.        ], [  1.05131794,  14.68755857,   1.        ], [  0.90584798,  -3.04417859,   1.        ], [  0.45749342,   1.68247612,   1.        ], [  1.14726388,   2.59404984,   1.        ], [  1.19183662,   2.09802358,   1.        ], [  0.79267007,   4.14916292,   1.        ], [  0.84819875,   2.47001018,   1.        ], [  0.90884816,   2.95895359,   1.        ], [  1.07532825,   6.36402513,   1.        ], [  1.14416568,   2.34229759,   1.        ], [  0.69007387,  -2.0036294 ,   1.        ], [  1.13239872, -11.42878435,   1.        ], [  0.7940586 ,   7.47097818,   1.        ], [  0.83270025,  -1.44909913,   1.        ], [  0.91497114,   7.50587573,   1.        ], [  0.87623615,  -6.28543383,   1.        ], [  1.03328623,   3.41545941,   1.        ], [  1.30430223,   6.22058698,   1.        ], [  1.25517965,  -8.03978447,   1.        ], [  0.96862517,  -4.86265128,   1.        ], [  1.16681976,   5.37331176,   1.        ], [  1.02801788,   0.04089125,   1.        ], [  1.68760573,  -8.28554687,   1.        ], [  0.86934767, -12.13315993,   1.        ], [  1.10375821,   6.57254252,   1.        ], [  1.02817549,   3.72120799,   1.        ], [  1.203623  ,  -2.6927178 ,   1.        ], [  0.73425093,  -7.70608653,   1.        ], [  0.88995898,   0.34190988,   1.        ], [  0.92384163,   1.8484438 ,   1.        ], \n",
    "                    [  0.68195189,  -1.31797592,   1.        ], [  1.10606051,  -4.67117448,   1.        ], [  1.05399987,  -9.76631291,   1.        ], [  1.2213585 ,  17.67676604,   1.        ], [  0.88144114,   2.37677021,   1.        ], [  0.90770938,  -0.45895203,   1.        ], [  1.05838894,  -4.56236209,   1.        ], [  0.59625858, -17.75198463,   1.        ], [  1.1120207 ,  27.23342722,   1.        ], [  0.59255091,   6.56915487,   1.        ], [  0.64044019, -17.05465377,   1.        ], [  0.90357355,  -6.8738099 ,   1.        ], [  0.91388616,   7.74247643,   1.        ], [  1.04183359,  10.07335315,   1.        ], [  0.87290355,  -6.19744728,   1.        ], [  0.79432459,  -3.4559358 ,   1.        ], [  0.97328905,  15.1911051 ,   1.        ], [  1.32941789,  -1.69463014,   1.        ], [  0.94467068,   8.4541718 ,   1.        ], [  0.93485197,  12.78747914,   1.        ], [  0.93693236,   2.16106736,   1.        ], [  1.31860792, -12.62194572,   1.        ], [  1.27973939, -10.71878284,   1.        ], [  1.16702534,  -3.35736752,   1.        ], [  1.05721007,  -1.36863278,   1.        ], [  1.03745953, -11.27303764,   1.        ], [  1.14110264,   4.19627477,   1.        ], [  0.68721351,   7.55030167,   1.        ], [  1.21940751,  20.51668451,   1.        ], [  1.11739936,  11.0907168 ,   1.        ], [  0.84869177,  -7.4773004 ,   1.        ], [  1.14704155,  13.73903422,   1.        ], \n",
    "                    [  0.96255815,   5.06939395,   1.        ], [  1.1596224 ,  -6.22100735,   1.        ], [  1.2401542 ,  -3.74470933,   1.        ], [  0.71915937,   0.04906602,   1.        ], [  0.90169146,  -8.22834825,   1.        ], [  0.71737121,   9.11909425,   1.        ], [  0.60605874,   9.32464271,   1.        ], [  0.82898041,  -7.01801251,   1.        ], [  0.99253247,  -2.51510682,   1.        ], [  1.00194493,  -3.81437544,   1.        ], [  0.6308927 ,   0.71678613,   1.        ], [  1.07749796,   6.32219797,   1.        ], [  0.98343308,   3.74182255,   1.        ], [  0.87012779,  -6.33027871,   1.        ], [  0.90466689,  -9.03469684,   1.        ], [  0.61315636,  -5.49372984,   1.        ], [  0.94035698,  -7.74154757,   1.        ], [  0.73358478,  -5.58490803,   1.        ], [  0.91862637, -10.68452574,   1.        ], [  0.77172426,   2.38324356,   1.        ], [  1.05400038,   8.15134669,   1.        ], [  1.01520744,   3.87712137,   1.        ], [  1.21092516,  10.79581427,   1.        ], [  0.85483032,  -5.53961856,   1.        ], [  1.53630144,  -1.82448841,   1.        ], [  1.1021962 ,   0.55335337,   1.        ], [  1.01710277,  -6.6206261 ,   1.        ], [  1.0834897 ,   8.54499395,   1.        ], [  1.06844772, -16.01399787,   1.        ], [  0.63724362, -13.05723649,   1.        ], [  1.05564651,  -8.4589414 ,   1.        ], [  1.08016975,  10.68382362,   1.        ], \n",
    "                    [  1.59850093,   1.08716624,   1.        ], [  1.01273973,   4.05435593,   1.        ], [  1.235335  ,   8.35970177,   1.        ], [  0.85483957,  -2.37719616,   1.        ], [  0.95335837, -13.54334931,   1.        ], [  1.02212932,  -1.95665435,   1.        ], [  0.78293529,  -4.3003606 ,   1.        ], [  1.22959069,  16.33159172,   1.        ], [  0.92837711,  -1.87552469,   1.        ], [  1.28328233, -10.14233973,   1.        ], [  1.03036382,   6.07661576,   1.        ], [  1.12087032,  10.38987475,   1.        ], [  0.77892799,  12.34361109,   1.        ], [  0.78702956,  -4.5192688 ,   1.        ], [  0.95666115, -20.9058371 ,   1.        ], [  0.99292677, -10.60412087,   1.        ], [  1.00279766,  -6.23278471,   1.        ], [  1.13750163,  13.37435579,   1.        ], [  0.77879497,  -8.52836163,   1.        ], [  1.21115621,   6.57259301,   1.        ], [  0.91721498,  -6.54536537,   1.        ], [  0.77842342, -12.04332177,   1.        ], [  1.04278136,   3.67407692,   1.        ], [  1.24412178,   2.29617743,   1.        ], [  0.80034838,   6.7325109 ,   1.        ], [  1.18065584,   6.66943275,   1.        ], [  0.90828311,   7.08800132,   1.        ], [  0.70854798,   6.07350332,   1.        ], [  0.97652329, -14.61363623,   1.        ], [  0.63023726,  -4.46507013,   1.        ], [  1.6290221 ,  -8.30061878,   1.        ], [  1.01831112,   6.64804161,   1.        ], \n",
    "                    [  0.94854753, -15.36302854,   1.        ], [  0.90088326,   0.29299092,   1.        ], [  0.9015652 ,  12.55032668,   1.        ], [  1.03967649,  10.95364   ,   1.        ], [  1.14872969, -10.6038036 ,   1.        ], [  0.99427371,   1.09913535,   1.        ], [  1.18877877,  -2.2656108 ,   1.        ], [  1.03747731,  14.69685239,   1.        ], [  1.04439174,   1.48678701,   1.        ], [  0.63571867,   2.4478986 ,   1.        ], [  1.23605739,   0.8568751 ,   1.        ], [  0.86502111,   6.42912229,   1.        ], [  0.98793362,  -8.71816235,   1.        ], [  0.88478959,   4.03211761,   1.        ], [  1.1384563 ,   8.38170492,   1.        ], [  1.08698976,  -7.13387924,   1.        ], [  0.51972279,  -6.33117378,   1.        ], [  0.9124269 ,  -0.94203435,   1.        ], [  0.96195336,  17.41551962,   1.        ], [  1.30754593,  10.18696367,   1.        ], [  0.98368953,  -2.16329401,   1.        ], [  0.93480622,   0.75048125,   1.        ], [  1.02407254,  13.61371019,   1.        ], [  0.87630042,  18.44157396,   1.        ], [  1.08464527, -10.00165461,   1.        ], [  0.83045485,   3.04908066,   1.        ], [  1.18513196,   3.15824441,   1.        ], [  0.67127936,  -8.75780259,   1.        ], [  0.95780404,   4.88044345,   1.        ], [  1.07110392, -10.13584605,   1.        ], [  0.95468773,   7.55040328,   1.        ], [  0.73143137,   1.64770564,   1.        ], \n",
    "                    [  0.84061971,  13.17968246,   1.        ], [  1.42027777,  -4.35614245,   1.        ], [  1.05816901,   8.93649623,   1.        ], [  1.05681925, -20.67069914,   1.        ], [  0.61699871,  12.9787793 ,   1.        ], [  0.8803742 ,  15.55417404,   1.        ], [  0.94289261,  -2.11654854,   1.        ], [  1.07737015, -11.3220557 ,   1.        ], [  1.10495478,   6.02255451,   1.        ], [  1.06283805,   1.43397068,   1.        ], [  1.46950154,  -5.70922579,   1.        ], [  0.94107194,  12.54393708,   1.        ], [  1.18303169, -21.52983619,   1.        ], [  1.11887241, -24.94595881,   1.        ], [  1.4097549 ,   0.62317308,   1.        ], [  1.52199926,  -8.32295658,   1.        ], [  1.25859348,  21.67215916,   1.        ], [  1.36788897,  15.78128905,   1.        ], [  1.02482304,  14.59689188,   1.        ], [  0.85159641, -10.3905101 ,   1.        ], [  1.07881448,   7.03752613,   1.        ], [  1.20899516,  13.17971493,   1.        ], [  1.0153463 ,  19.36689633,   1.        ], [  0.99021996,   6.02350291,   1.        ], [  0.84065449, -11.37562914,   1.        ], [  0.74076339,   1.77947469,   1.        ], [  1.25307262,  -9.44982475,   1.        ], [  1.03625968,  -6.07610822,   1.        ], [  1.08870434, -25.19145599,   1.        ], [  1.28770623,   7.68637723,   1.        ], [  0.99868284,   8.28738598,   1.        ], [  1.059997  ,  -3.91079413,   1.        ], \n",
    "                    [  0.53527098,   3.26921242,   1.        ], [  0.83629239,  18.78079659,   1.        ], [  0.98377912,   1.36898885,   1.        ], [  0.86948059,  -3.04545922,   1.        ], [  0.99955722,   1.51137303,   1.        ], [  0.96384416,   6.46433039,   1.        ], [  0.91465909,  -9.82214473,   1.        ], [  0.85148831, -18.29945237,   1.        ], [  0.88268222,  18.11902021,   1.        ], [  1.53983256,  -6.85673121,   1.        ], [  0.82256262,   2.76717299,   1.        ], [  1.23400858, -15.32269447,   1.        ], [  0.55715858,   3.21328803,   1.        ], [  0.91917337,  12.7119543 ,   1.        ], [  1.30750478,   3.33867324,   1.        ], [  1.06585467,   5.87625845,   1.        ], [  0.67497361,  11.42917682,   1.        ], [  1.00511065,  18.1927816 ,   1.        ], [  1.21601819,   8.65975744,   1.        ], [  1.051607  , -11.0155722 ,   1.        ], [  1.00065631,  -7.08140064,   1.        ], [  1.01363553,   6.13833429,   1.        ], [  1.12092609,   1.52184783,   1.        ], [  1.02006569,   2.46758632,   1.        ], [  0.84311223,   9.36497278,   1.        ], [  1.01444283,  14.56475176,   1.        ], [  1.00051842,  13.3619887 ,   1.        ], [  1.21981054,  -6.60871251,   1.        ], [  0.71720581,  -9.39999475,   1.        ], [  1.09957029,   4.79416197,   1.        ], [  0.76572589,   6.22805318,   1.        ], [  1.07707224,   2.2264148 ,   1.        ], \n",
    "                    [  0.67119984,   1.29277711,   1.        ], [  0.97826096,  -5.06230634,   1.        ], [  1.17116846,  -7.65284505,   1.        ], [  0.94808079,   2.85508498,   1.        ], [  1.03758626,   2.9256645 ,   1.        ], [  0.892548  ,  12.25159874,   1.        ], [  1.07870416,   6.68298563,   1.        ], [  1.01871879,   0.58188053,   1.        ], [  0.79426053,  16.17428266,   1.        ], [  0.83761159,   8.91562854,   1.        ], [  0.9279927 ,   6.04111821,   1.        ], [  1.32221161,   6.35136852,   1.        ], [  1.34639172,   1.02874338,   1.        ], [  1.02693717,   4.89107032,   1.        ], [  1.02757583,   0.9038895 ,   1.        ], [  1.02738144,   1.86691939,   1.        ], [  0.99891948,  11.52047194,   1.        ], [  1.17397808,   2.51207966,   1.        ], [  1.43204755,  14.00683394,   1.        ], [  1.05414937,  -4.26757614,   1.        ], [  0.94248259,  -2.30110696,   1.        ], [  1.01076449,  16.95686939,   1.        ], [  1.35488762,  -1.67690144,   1.        ], [  0.83595234, -13.22264357,   1.        ], [  1.03068003,  -1.33747755,   1.        ], [  0.89815873, -17.44461194,   1.        ], [  0.98488853,  16.01131153,   1.        ], [  1.22907883,   7.68448609,   1.        ], [  0.79964037,  11.33377942,   1.        ], [  0.90030943,  -6.23742019,   1.        ], [  1.33453388,  -8.75849334,   1.        ], [  0.77320853,  -5.30680951,   1.        ], \n",
    "                    [  0.97620205,  -7.48258271,   1.        ], [  1.02994886,   9.94335529,   1.        ], [  1.26105368, -10.98957679,   1.        ], [  1.19121251,   5.43898031,   1.        ], [  1.29707015,  -2.67841811,   1.        ], [  0.78024158,  -1.97580943,   1.        ], [  0.68726194,  13.10137058,   1.        ], [  0.67570942,  -4.29441944,   1.        ], [  0.74200264,  23.38174543,   1.        ], [  0.9782207 ,   4.09158209,   1.        ], [  0.58137588,  25.53557998,   1.        ], [  1.46606791,  13.72841455,   1.        ], [  0.87356464,  -0.04858455,   1.        ], [  1.1893091 ,  -1.12792634,   1.        ], [  0.90364144,  -8.91591674,   1.        ], [  1.21379884,  -2.72929419,   1.        ], [  0.89889178,   2.04329127,   1.        ], [  0.88649215,  -5.11405051,   1.        ], [  0.84740461,  -3.40334836,   1.        ], [  0.92311012,   0.59413095,   1.        ], [  1.14370226,   3.42707869,   1.        ], [  1.01806156, -28.31319089,   1.        ], [  0.97369722,   6.33894807,   1.        ], [  0.95803096,  17.02707756,   1.        ], [  1.30041618,  -3.98444434,   1.        ], [  0.96317352,   1.55843869,   1.        ], [  1.33999175, -16.69614598,   1.        ], [  1.10152092,   6.77126599,   1.        ], [  1.39429764,  -5.5103621 ,   1.        ], [  0.94912666,  11.39450277,   1.        ], [  0.95801302,  18.55746424,   1.        ], [  0.85253869, -10.59406739,   1.        ], \n",
    "                    [  1.05826928,  -0.11320141,   1.        ], [  1.19720575, -15.55665161,   1.        ], [  0.69641881, -10.08327574,   1.        ], [  1.14883098,  -0.87937816,   1.        ], [  1.11735134,   5.57742498,   1.        ], [  1.10002593,  -2.02013865,   1.        ], [  0.95228193, -21.79625121,   1.        ], [  1.12831437,   4.18244437,   1.        ], [  0.93871806,  -2.29042927,   1.        ], [  0.95499765,  -7.47673766,   1.        ], [  0.80315582,  13.87745681,   1.        ], [  1.33382549,  16.24074151,   1.        ], [  0.7641248 , -11.00348197,   1.        ], [  0.96610931,  14.08885827,   1.        ], [  1.12114646,  14.19486777,   1.        ], [  0.91439849, -12.10402404,   1.        ], [  1.01649758,  20.76715361,   1.        ], [  0.71758574,  -4.19999538,   1.        ], [  0.99066992,  -8.51489349,   1.        ], [  1.06855771,   8.09310354,   1.        ], [  1.02473067,   9.0764394 ,   1.        ], [  0.77057749,  -4.39503371,   1.        ], [  1.23448862, -13.38362438,   1.        ], [  0.9871871 ,   5.66665564,   1.        ], [  1.20596869,  -4.52780692,   1.        ], [  1.09349925,   4.23890778,   1.        ], [  0.82285669, -17.78200035,   1.        ], [  0.99484223,   8.14402711,   1.        ]])"
   ]
  },
  {
   "cell_type": "code",
   "execution_count": 9,
   "metadata": {},
   "outputs": [
    {
     "name": "stdout",
     "output_type": "stream",
     "text": [
      "[[ 75.2303559  168.837751    23.99      ]\n",
      " [ 75.02614252 231.0973231   35.69      ]\n",
      " [ 73.1544228  215.08167641  31.78      ]\n",
      " ...\n",
      " [ 76.09349925 209.23890778  26.19      ]\n",
      " [ 75.82285669 172.21799965  32.01      ]\n",
      " [ 73.99484223 203.14402711  28.92      ]]\n",
      "[[ 1.8796  81.64656 22.99   ]\n",
      " [ 1.8796  97.52228 34.69   ]\n",
      " [ 1.8288  95.25432 30.78   ]\n",
      " ...\n",
      " [ 1.905   92.98636 25.19   ]\n",
      " [ 1.905   86.18248 31.01   ]\n",
      " [ 1.8542  88.45044 27.92   ]]\n"
     ]
    }
   ],
   "source": [
    "# baseball is available as a regular list of lists\n",
    "# updated is available as 2D numpy array\n",
    "\n",
    "# Import numpy package\n",
    "import numpy as np\n",
    "\n",
    "# Create np_baseball (3 cols)\n",
    "np_baseball = np.array(baseball)\n",
    "\n",
    "# Print out addition of np_baseball and updated\n",
    "print(np_baseball + updated)\n",
    "\n",
    "# Create numpy array: conversion\n",
    "conversion = np.array([0.0254, 0.453592, 1])\n",
    "\n",
    "# Print out product of np_baseball and conversion\n",
    "print(np_baseball * conversion)"
   ]
  },
  {
   "cell_type": "code",
   "execution_count": 10,
   "metadata": {},
   "outputs": [],
   "source": [
    "np_baseball = np.array([[7.400e+04, 1.800e+02, 2.299e+01], [7.400e+01, 2.150e+02, 3.469e+01], [7.200e+01, 2.100e+02, 3.078e+01], [7.200e+01, 2.100e+02, 3.543e+01], [7.300e+01, 1.880e+02, 3.571e+01], [6.900e+01, 1.760e+02, 2.939e+01], [6.900e+01, 2.090e+02, 3.077e+01], [7.100e+01, 2.000e+02, 3.507e+01], [7.600e+01, 2.310e+02, 3.019e+01], [7.100e+01, 1.800e+02, 2.705e+01], [7.300e+01, 1.880e+02, 2.388e+01], [7.300e+01, 1.800e+02, 2.696e+01], [7.400e+01, 1.850e+02, 2.329e+01], [7.400e+01, 1.600e+02, 2.611e+01], [6.900e+01, 1.800e+02, 2.755e+01], [7.000e+01, 1.850e+02, 3.427e+01], [7.300e+01, 1.890e+02, 2.799e+01], [7.500e+01, 1.850e+02, 2.238e+01], [7.800e+01, 2.190e+02, 2.289e+01], [7.900e+01, 2.300e+02, 2.576e+01], [7.600e+01, 2.050e+02, 3.633e+01], [7.400e+01, 2.300e+02, 3.117e+01], [7.600e+01, 1.950e+02, 3.231e+01], [7.200e+01, 1.800e+02, 3.103e+01], [7.100e+01, 1.920e+02, 2.926e+01], [7.500e+01, 2.250e+02, 2.947e+01], [7.700e+01, 2.030e+02, 3.246e+01], [7.400e+01, 1.950e+02, 3.567e+01], [7.300e+01, 1.820e+02, 2.589e+01], [7.400e+01, 1.880e+02, 2.655e+01], [7.800e+01, 2.000e+02, 2.417e+01], [7.300e+01, 1.800e+02, 2.669e+01], [7.500e+01, 2.000e+02, 2.513e+01], [7.300e+01, 2.000e+02, 2.790e+01], [7.500e+01, 2.450e+02, 3.017e+01], [7.500e+01, 2.400e+02, 3.136e+01], [7.400e+01, 2.150e+02, 3.099e+01], [6.900e+01, 1.850e+02, 3.224e+01], \n",
    "                        [7.100e+01, 1.750e+02, 2.761e+01], [7.400e+01, 1.990e+02, 2.820e+01], [7.300e+01, 2.000e+02, 2.885e+01], [7.300e+01, 2.150e+02, 2.421e+01], [7.600e+01, 2.000e+02, 2.202e+01], [7.400e+01, 2.050e+02, 2.497e+01], [7.400e+01, 2.060e+02, 2.678e+01], [7.000e+01, 1.860e+02, 3.251e+01], [7.200e+01, 1.880e+02, 3.095e+01], [7.700e+01, 2.200e+02, 3.309e+01], [7.400e+01, 2.100e+02, 3.274e+01], [7.000e+01, 1.950e+02, 3.069e+01], [7.300e+04, 2.000e+02, 2.345e+01], [7.500e+01, 2.000e+02, 2.494e+01], [7.600e+01, 2.120e+02, 2.409e+01], [7.600e+01, 2.240e+02, 3.523e+01], [7.800e+01, 2.100e+02, 2.743e+01], [7.400e+01, 2.050e+02, 3.060e+01], [7.400e+01, 2.200e+02, 2.794e+01], [7.600e+01, 1.950e+02, 2.999e+01], [7.700e+01, 2.000e+02, 2.517e+01], [8.100e+01, 2.600e+02, 2.413e+01], [7.800e+01, 2.280e+02, 3.046e+01], [7.500e+01, 2.700e+02, 2.596e+01], [7.700e+01, 2.000e+02, 2.255e+01], [7.500e+01, 2.100e+02, 2.629e+01], [7.600e+01, 1.900e+02, 2.479e+01], [7.400e+01, 2.200e+02, 3.174e+01], [7.200e+01, 1.800e+02, 2.392e+01], [7.200e+01, 2.050e+02, 2.533e+01], [7.500e+01, 2.100e+02, 2.402e+01], [7.300e+01, 2.200e+02, 2.370e+01], [7.300e+01, 2.110e+02, 3.159e+01], [7.300e+01, 2.000e+02, 2.995e+01], [7.000e+01, 1.800e+02, 2.364e+01], [7.000e+01, 1.900e+02, 3.233e+01], [7.000e+01, 1.700e+02, 2.313e+01], [7.600e+01, 2.300e+02, 2.660e+01], \n",
    "                        [6.800e+01, 1.550e+02, 2.646e+01], [7.100e+01, 1.850e+02, 2.575e+01], [7.200e+01, 1.850e+02, 2.751e+01], [7.500e+01, 2.000e+02, 2.511e+01], [7.500e+01, 2.250e+02, 3.251e+01], [7.500e+01, 2.250e+02, 3.467e+01], [7.500e+01, 2.200e+02, 3.106e+01], [6.800e+01, 1.600e+02, 2.910e+01], [7.400e+01, 2.050e+02, 2.866e+01], [7.800e+01, 2.350e+02, 2.835e+01], [7.100e+01, 2.500e+02, 3.377e+01], [7.300e+01, 2.100e+02, 3.089e+01], [7.600e+01, 1.900e+02, 3.774e+01], [7.400e+01, 1.600e+02, 2.414e+01], [7.400e+01, 2.000e+02, 2.571e+01], [7.900e+01, 2.050e+02, 2.441e+01], [7.500e+01, 2.220e+02, 2.432e+01], [7.300e+01, 1.950e+02, 2.809e+01], [7.600e+01, 2.050e+02, 3.331e+01], [7.400e+01, 2.200e+02, 3.640e+01], [7.400e+01, 2.200e+02, 3.736e+01], [7.300e+01, 1.700e+02, 3.161e+01], [7.200e+01, 1.850e+02, 2.514e+01], [7.400e+01, 1.950e+02, 3.029e+01], [7.300e+04, 2.200e+02, 3.637e+01], [7.400e+01, 2.300e+02, 3.489e+01], [7.200e+01, 1.800e+02, 2.379e+01], [7.300e+01, 2.200e+02, 2.796e+01], [6.900e+01, 1.800e+02, 2.354e+01], [7.200e+01, 1.800e+02, 3.137e+01], [7.300e+01, 1.700e+02, 3.129e+01], [7.500e+01, 2.100e+02, 3.301e+01], [7.500e+01, 2.150e+02, 2.510e+01], [7.300e+01, 2.000e+02, 3.128e+01], [7.200e+01, 2.130e+02, 3.475e+01], [7.200e+01, 1.800e+02, 2.346e+01], [7.600e+01, 1.920e+02, 2.537e+01], [7.400e+01, 2.350e+02, 2.957e+01], \n",
    "                        [7.200e+01, 1.850e+02, 2.733e+01], [7.700e+01, 2.350e+02, 4.029e+01], [7.400e+01, 2.100e+02, 4.058e+01], [7.700e+01, 2.220e+02, 2.679e+01], [7.500e+01, 2.100e+02, 3.255e+01], [7.600e+01, 2.300e+02, 2.627e+01], [8.000e+01, 2.200e+02, 2.947e+01], [7.400e+01, 1.800e+02, 2.907e+01], [7.400e+01, 1.900e+02, 2.315e+01], [7.500e+01, 2.000e+02, 2.490e+01], [7.800e+01, 2.100e+02, 2.329e+01], [7.300e+01, 1.940e+02, 3.118e+01], [7.300e+01, 1.800e+02, 2.656e+01], [7.400e+01, 1.900e+02, 2.503e+01], [7.500e+01, 2.400e+02, 3.566e+01], [7.600e+01, 2.000e+02, 2.964e+01], [7.100e+01, 1.980e+02, 3.074e+01], [7.300e+01, 2.000e+02, 2.843e+01], [7.400e+01, 1.950e+02, 3.377e+01], [7.600e+01, 2.100e+02, 4.097e+01], [7.600e+01, 2.200e+02, 2.352e+01], [7.400e+01, 1.900e+02, 2.819e+01], [7.300e+01, 2.100e+02, 2.684e+01], [7.400e+01, 2.250e+02, 2.616e+01], [7.000e+01, 1.800e+02, 2.867e+01], [7.200e+01, 1.850e+02, 2.420e+01], [7.300e+01, 1.700e+02, 2.708e+01], [7.300e+01, 1.850e+02, 2.476e+01], [7.300e+01, 1.850e+02, 2.336e+01], [7.300e+01, 1.800e+02, 2.535e+01], [7.100e+01, 1.780e+02, 2.463e+01], [7.400e+01, 1.750e+02, 2.402e+01], [7.400e+01, 2.000e+02, 2.458e+01], [7.200e+01, 2.040e+02, 3.082e+01], [7.400e+01, 2.110e+02, 3.289e+01], [7.100e+01, 1.900e+02, 3.333e+01], [7.400e+04, 2.100e+02, 3.352e+01], [7.300e+01, 1.900e+02, 3.624e+01], \n",
    "                        [7.500e+01, 1.900e+02, 2.850e+01], [7.500e+01, 1.850e+02, 2.942e+01], [7.900e+01, 2.900e+02, 2.661e+01], [7.300e+01, 1.750e+02, 2.379e+01], [7.500e+01, 1.850e+02, 2.496e+01], [7.600e+01, 2.000e+02, 2.593e+01], [7.400e+01, 2.200e+02, 2.281e+01], [7.600e+01, 1.700e+02, 2.529e+01], [7.800e+01, 2.200e+02, 2.607e+01], [7.400e+01, 1.900e+02, 2.609e+01], [7.600e+01, 2.200e+02, 2.323e+01], [7.200e+01, 2.050e+02, 3.349e+01], [7.400e+01, 2.000e+02, 3.184e+01], [7.600e+01, 2.500e+02, 4.230e+01], [7.400e+01, 2.250e+02, 3.582e+01], [7.500e+01, 2.150e+02, 3.527e+01], [7.800e+01, 2.100e+02, 2.681e+01], [7.500e+01, 2.150e+02, 3.849e+01], [7.200e+01, 1.950e+02, 3.268e+01], [7.400e+01, 2.000e+02, 3.493e+01], [7.200e+01, 1.940e+02, 2.626e+01], [7.400e+01, 2.200e+02, 2.756e+01], [7.000e+01, 1.800e+02, 2.398e+01], [7.100e+01, 1.800e+02, 2.973e+01], [7.000e+01, 1.700e+02, 3.133e+01], [7.500e+01, 1.950e+02, 2.713e+01], [7.100e+01, 1.800e+02, 2.675e+01], [7.100e+01, 1.700e+02, 2.709e+01], [7.300e+01, 2.060e+02, 2.923e+01], [7.200e+01, 2.050e+02, 2.888e+01], [7.100e+01, 2.000e+02, 3.301e+01], [7.300e+01, 2.250e+02, 3.057e+01], [7.200e+01, 2.010e+02, 3.124e+01], [7.500e+01, 2.250e+02, 2.495e+01], [7.400e+01, 2.330e+02, 2.462e+01], [7.400e+01, 1.800e+02, 2.498e+01], [7.500e+01, 2.250e+02, 2.622e+01], [7.300e+01, 1.800e+02, 2.604e+01], \n",
    "                        [7.700e+01, 2.200e+02, 2.645e+01], [7.300e+01, 1.800e+02, 2.525e+01], [7.600e+01, 2.370e+02, 2.777e+01], [7.500e+01, 2.150e+02, 3.516e+01], [7.400e+01, 1.900e+02, 3.710e+01], [7.600e+01, 2.350e+02, 3.451e+01], [7.500e+01, 1.900e+02, 2.928e+01], [7.300e+01, 1.800e+02, 3.214e+01], [7.100e+01, 1.650e+02, 2.394e+01], [7.600e+01, 1.950e+02, 2.745e+01], [7.500e+04, 2.000e+02, 2.877e+01], [7.200e+01, 1.900e+02, 2.358e+01], [7.100e+01, 1.900e+02, 2.756e+01], [7.700e+01, 1.850e+02, 2.401e+01], [7.300e+01, 1.850e+02, 2.652e+01], [7.400e+01, 2.050e+02, 3.554e+01], [7.100e+01, 1.900e+02, 2.943e+01], [7.200e+01, 2.050e+02, 2.990e+01], [7.400e+01, 2.060e+02, 3.270e+01], [7.500e+01, 2.200e+02, 2.880e+01], [7.300e+01, 2.080e+02, 3.282e+01], [7.200e+01, 1.700e+02, 2.436e+01], [7.500e+01, 1.950e+02, 3.268e+01], [7.500e+01, 2.100e+02, 3.159e+01], [7.400e+01, 1.900e+02, 3.332e+01], [7.200e+01, 2.110e+02, 3.297e+01], [7.400e+01, 2.300e+02, 3.272e+01], [7.100e+01, 1.700e+02, 2.255e+01], [7.000e+01, 1.850e+02, 2.745e+01], [7.400e+01, 1.850e+02, 3.823e+01], [7.700e+01, 2.410e+02, 3.114e+01], [7.700e+01, 2.250e+02, 3.471e+01], [7.500e+01, 2.100e+02, 2.613e+01], [7.500e+01, 1.750e+02, 2.443e+01], [7.800e+01, 2.300e+02, 2.376e+01], [7.500e+01, 2.000e+02, 2.692e+01], [7.600e+01, 2.150e+02, 2.585e+01], [7.300e+01, 1.980e+02, 3.016e+01], \n",
    "                        [7.500e+01, 2.260e+02, 2.503e+01], [7.500e+01, 2.780e+02, 2.421e+01], [7.900e+01, 2.150e+02, 2.651e+01], [7.700e+01, 2.300e+02, 2.636e+01], [7.600e+01, 2.400e+02, 3.088e+01], [7.100e+01, 1.840e+02, 3.257e+01], [7.500e+01, 2.190e+02, 3.768e+01], [7.400e+01, 1.700e+02, 3.725e+01], [6.900e+01, 2.180e+02, 3.525e+01], [7.100e+01, 1.900e+02, 3.395e+01], [7.600e+01, 2.250e+02, 3.266e+01], [7.200e+01, 2.200e+02, 2.668e+01], [7.200e+01, 1.760e+02, 2.518e+01], [7.000e+01, 1.900e+02, 3.139e+01], [7.200e+01, 1.970e+02, 3.374e+01], [7.300e+01, 2.040e+02, 3.142e+01], [7.100e+01, 1.670e+02, 2.750e+01], [7.200e+01, 1.800e+02, 2.425e+01], [7.100e+01, 1.950e+02, 2.978e+01], [7.300e+01, 2.200e+02, 3.000e+01], [7.200e+01, 2.150e+02, 3.309e+01], [7.300e+01, 1.850e+02, 2.596e+01], [7.400e+04, 1.900e+02, 2.334e+01], [7.400e+01, 2.050e+02, 2.998e+01], [7.200e+01, 2.050e+02, 3.828e+01], [7.500e+01, 2.000e+02, 2.497e+01], [7.400e+01, 2.100e+02, 2.434e+01], [7.400e+01, 2.150e+02, 2.949e+01], [7.700e+01, 2.000e+02, 2.402e+01], [7.500e+01, 2.050e+02, 2.473e+01], [7.300e+01, 2.110e+02, 4.230e+01], [7.200e+01, 1.900e+02, 2.954e+01], [7.100e+01, 2.080e+02, 2.995e+01], [7.400e+01, 2.000e+02, 2.924e+01], [7.700e+01, 2.100e+02, 3.030e+01], [7.500e+01, 2.320e+02, 4.077e+01], [7.500e+01, 2.300e+02, 3.885e+01], [7.500e+01, 2.100e+02, 2.231e+01], \n",
    "                        [7.800e+01, 2.200e+02, 2.544e+01], [7.800e+01, 2.100e+02, 2.178e+01], [7.400e+01, 2.020e+02, 2.264e+01], [7.600e+01, 2.120e+02, 2.611e+01], [7.800e+01, 2.250e+02, 2.755e+01], [7.600e+01, 1.700e+02, 2.463e+01], [7.000e+01, 1.900e+02, 2.358e+01], [7.200e+01, 2.000e+02, 3.073e+01], [8.000e+01, 2.370e+02, 3.217e+01], [7.400e+01, 2.200e+02, 3.043e+01], [7.400e+01, 1.700e+02, 2.327e+01], [7.100e+01, 1.930e+02, 3.251e+01], [7.000e+01, 1.900e+02, 2.508e+01], [7.200e+01, 1.500e+02, 2.241e+01], [7.100e+01, 2.200e+02, 2.790e+01], [7.400e+01, 2.000e+02, 3.474e+01], [7.100e+01, 1.900e+02, 3.079e+01], [7.200e+01, 1.850e+02, 2.571e+01], [7.100e+01, 1.850e+02, 2.926e+01], [7.400e+01, 2.000e+02, 2.158e+01], [6.900e+01, 1.720e+02, 3.336e+01], [7.600e+01, 2.200e+02, 2.494e+01], [7.500e+01, 2.250e+02, 2.090e+01], [7.500e+01, 1.900e+02, 2.152e+01], [7.600e+01, 1.950e+02, 2.585e+01], [7.300e+01, 2.190e+02, 2.727e+01], [7.600e+01, 1.900e+02, 2.675e+01], [7.300e+01, 1.970e+02, 3.603e+01], [7.700e+01, 2.000e+02, 3.052e+01], [7.300e+01, 1.950e+02, 3.255e+01], [7.200e+01, 2.100e+02, 2.986e+01], [7.200e+01, 1.770e+02, 2.958e+01], [7.700e+01, 2.200e+02, 3.002e+01], [7.700e+01, 2.350e+02, 2.916e+01], [7.100e+04, 1.800e+02, 2.230e+01], [7.400e+01, 1.950e+02, 2.206e+01], [7.400e+01, 1.950e+02, 2.565e+01], [7.300e+01, 1.900e+02, 2.549e+01], \n",
    "                        [7.800e+01, 2.300e+02, 2.786e+01], [7.500e+01, 1.900e+02, 2.373e+01], [7.300e+01, 2.000e+02, 3.178e+01], [7.000e+01, 1.900e+02, 2.306e+01], [7.400e+01, 1.900e+02, 2.660e+01], [7.200e+01, 2.000e+02, 2.939e+01], [7.300e+01, 2.000e+02, 2.651e+01], [7.300e+01, 1.840e+02, 2.508e+01], [7.500e+01, 2.000e+02, 2.576e+01], [7.500e+01, 1.800e+02, 2.252e+01], [7.400e+01, 2.190e+02, 2.557e+01], [7.600e+01, 1.870e+02, 2.543e+01], [7.300e+01, 2.000e+02, 3.465e+01], [7.400e+01, 2.200e+02, 2.268e+01], [7.500e+01, 2.050e+02, 2.146e+01], [7.500e+01, 1.900e+02, 2.347e+01], [7.200e+01, 1.700e+02, 2.310e+01], [7.300e+01, 1.600e+02, 2.914e+01], [7.300e+01, 2.150e+02, 2.977e+01], [7.200e+01, 1.750e+02, 2.385e+01], [7.400e+01, 2.050e+02, 2.888e+01], [7.800e+01, 2.000e+02, 2.449e+01], [7.600e+01, 2.140e+02, 2.519e+01], [7.300e+01, 2.000e+02, 2.748e+01], [7.400e+01, 1.900e+02, 2.831e+01], [7.500e+01, 1.800e+02, 2.654e+01], [7.000e+01, 2.050e+02, 2.677e+01], [7.500e+01, 2.200e+02, 2.375e+01], [7.100e+01, 1.900e+02, 2.641e+01], [7.200e+01, 2.150e+02, 3.647e+01], [7.800e+01, 2.350e+02, 2.606e+01], [7.500e+01, 1.910e+02, 2.755e+01], [7.300e+01, 2.000e+02, 3.128e+01], [7.300e+01, 1.810e+02, 2.904e+01], [7.100e+01, 2.000e+02, 3.295e+01], [7.500e+01, 2.100e+02, 2.665e+01], [7.700e+01, 2.400e+02, 2.750e+01], [7.200e+01, 1.850e+02, 3.090e+01], \n",
    "                        [6.900e+01, 1.650e+02, 2.909e+01], [7.300e+01, 1.900e+02, 3.667e+01], [7.400e+01, 1.850e+02, 2.344e+01], [7.200e+01, 1.750e+02, 2.909e+01], [7.000e+01, 1.550e+02, 2.289e+01], [7.500e+01, 2.100e+02, 2.548e+01], [7.000e+01, 1.700e+02, 2.584e+01], [7.200e+01, 1.750e+02, 2.720e+01], [7.200e+04, 2.200e+02, 2.522e+01], [7.400e+01, 2.100e+02, 2.467e+01], [7.300e+01, 2.050e+02, 3.925e+01], [7.400e+01, 2.000e+02, 3.217e+01], [7.600e+01, 2.050e+02, 3.277e+01], [7.500e+01, 1.950e+02, 2.983e+01], [8.000e+01, 2.400e+02, 3.102e+01], [7.200e+01, 1.500e+02, 2.973e+01], [7.500e+01, 2.000e+02, 2.848e+01], [7.300e+01, 2.150e+02, 2.651e+01], [7.400e+01, 2.020e+02, 2.600e+01], [7.400e+01, 2.000e+02, 2.336e+01], [7.300e+01, 1.900e+02, 2.590e+01], [7.500e+01, 2.050e+02, 2.850e+01], [7.500e+01, 1.900e+02, 2.562e+01], [7.100e+01, 1.600e+02, 3.094e+01], [7.300e+01, 2.150e+02, 2.659e+01], [7.500e+01, 1.850e+02, 2.278e+01], [7.400e+01, 2.000e+02, 3.226e+01], [7.400e+01, 1.900e+02, 3.035e+01], [7.200e+01, 2.100e+02, 3.326e+01], [7.400e+01, 1.850e+02, 3.235e+01], [7.400e+01, 2.200e+02, 2.730e+01], [7.400e+01, 1.900e+02, 3.208e+01], [7.300e+01, 2.020e+02, 2.525e+01], [7.600e+01, 2.050e+02, 2.503e+01], [7.500e+01, 2.200e+02, 2.689e+01], [7.200e+01, 1.750e+02, 2.469e+01], [7.300e+01, 1.600e+02, 2.244e+01], [7.300e+01, 1.900e+02, 3.036e+01], \n",
    "                        [7.300e+01, 2.000e+02, 2.627e+01], [7.200e+01, 2.290e+02, 2.950e+01], [7.200e+01, 2.060e+02, 2.975e+01], [7.200e+01, 2.200e+02, 3.830e+01], [7.200e+01, 1.800e+02, 3.975e+01], [7.100e+01, 1.950e+02, 3.284e+01], [7.500e+01, 1.750e+02, 2.666e+01], [7.500e+01, 1.880e+02, 2.494e+01], [7.400e+01, 2.300e+02, 2.776e+01], [7.300e+01, 1.900e+02, 2.366e+01], [7.500e+01, 2.000e+02, 2.496e+01], [7.900e+01, 1.900e+02, 2.365e+01], [7.400e+01, 2.190e+02, 2.942e+01], [7.600e+01, 2.350e+02, 3.218e+01], [7.300e+01, 1.800e+02, 2.666e+01], [7.400e+01, 1.800e+02, 2.747e+01], [7.400e+01, 1.800e+02, 2.566e+01], [7.200e+01, 2.000e+02, 3.513e+01], [7.400e+01, 2.340e+02, 3.115e+01], [7.400e+01, 1.850e+02, 3.567e+01], [7.500e+04, 2.200e+02, 2.960e+01], [7.800e+01, 2.230e+02, 3.014e+01], [7.400e+01, 2.000e+02, 2.453e+01], [7.400e+01, 2.100e+02, 2.449e+01], [7.400e+01, 2.000e+02, 2.628e+01], [7.700e+01, 2.100e+02, 2.406e+01], [7.000e+01, 1.900e+02, 3.588e+01], [7.300e+01, 1.770e+02, 3.042e+01], [7.400e+01, 2.270e+02, 3.009e+01], [7.300e+01, 1.800e+02, 2.650e+01], [7.100e+01, 1.950e+02, 2.494e+01], [7.500e+01, 1.990e+02, 2.960e+01], [7.100e+01, 1.750e+02, 3.243e+01], [7.200e+01, 1.850e+02, 3.716e+01], [7.700e+01, 2.400e+02, 3.057e+01], [7.400e+01, 2.100e+02, 2.701e+01], [7.000e+01, 1.800e+02, 3.023e+01], [7.700e+01, 1.940e+02, 2.603e+01], \n",
    "                        [7.300e+01, 2.250e+02, 2.823e+01], [7.200e+01, 1.800e+02, 2.521e+01], [7.600e+01, 2.050e+02, 2.545e+01], [7.100e+01, 1.930e+02, 2.624e+01], [7.600e+01, 2.300e+02, 3.015e+01], [7.800e+01, 2.300e+02, 2.980e+01], [7.500e+01, 2.200e+02, 3.341e+01], [7.300e+01, 2.000e+02, 3.095e+01], [7.800e+01, 2.490e+02, 3.117e+01], [7.400e+01, 1.900e+02, 3.095e+01], [7.900e+01, 2.080e+02, 2.944e+01], [7.500e+01, 2.450e+02, 2.714e+01], [7.600e+01, 2.500e+02, 2.621e+01], [7.200e+01, 1.600e+02, 2.408e+01], [7.500e+01, 1.920e+02, 2.396e+01], [7.500e+01, 2.200e+02, 2.494e+01], [7.000e+01, 1.700e+02, 2.956e+01], [7.200e+01, 1.970e+02, 2.642e+01], [7.000e+01, 1.550e+02, 2.392e+01], [7.400e+01, 1.900e+02, 2.523e+01], [7.100e+01, 2.000e+02, 3.582e+01], [7.600e+01, 2.200e+02, 2.387e+01], [7.300e+01, 2.100e+02, 3.257e+01], [7.600e+01, 2.280e+02, 2.579e+01], [7.100e+01, 1.900e+02, 3.147e+01], [6.900e+01, 1.600e+02, 2.261e+01], [7.200e+01, 1.840e+02, 2.485e+01], [7.200e+01, 1.800e+02, 2.733e+01], [6.900e+01, 1.800e+02, 2.667e+01], [7.300e+01, 2.000e+02, 3.743e+01], [6.900e+01, 1.760e+02, 2.931e+01], [7.300e+01, 1.600e+02, 2.985e+01], [7.400e+04, 2.220e+02, 2.793e+01], [7.400e+01, 2.110e+02, 3.162e+01], [7.200e+01, 1.950e+02, 3.055e+01], [7.100e+01, 2.000e+02, 2.477e+01], [7.200e+01, 1.750e+02, 3.377e+01], [7.200e+01, 2.060e+02, 2.797e+01], \n",
    "                        [7.600e+01, 2.400e+02, 2.785e+01], [7.600e+01, 1.850e+02, 2.326e+01], [7.600e+01, 2.600e+02, 2.538e+01], [7.400e+01, 1.850e+02, 2.335e+01], [7.600e+01, 2.210e+02, 2.545e+01], [7.500e+01, 2.050e+02, 2.649e+01], [7.100e+01, 2.000e+02, 2.400e+01], [7.200e+01, 1.700e+02, 2.416e+01], [7.100e+01, 2.010e+02, 2.810e+01], [7.300e+01, 2.050e+02, 2.565e+01], [7.500e+01, 1.850e+02, 2.858e+01], [7.600e+01, 2.050e+02, 3.227e+01], [7.500e+01, 2.450e+02, 2.986e+01], [7.100e+01, 2.200e+02, 2.514e+01], [7.500e+01, 2.100e+02, 2.303e+01], [7.400e+01, 2.200e+02, 3.025e+01], [7.200e+01, 1.850e+02, 3.067e+01], [7.300e+01, 1.750e+02, 2.773e+01], [7.300e+01, 1.700e+02, 2.334e+01], [7.300e+01, 1.800e+02, 2.594e+01], [7.300e+01, 2.000e+02, 3.156e+01], [7.600e+01, 2.100e+02, 3.485e+01], [7.200e+01, 1.750e+02, 2.398e+01], [7.600e+01, 2.200e+02, 2.314e+01], [7.300e+01, 2.060e+02, 2.899e+01], [7.300e+01, 1.800e+02, 2.502e+01], [7.300e+01, 2.100e+02, 2.985e+01], [7.500e+01, 1.950e+02, 2.703e+01], [7.500e+01, 2.000e+02, 2.515e+01], [7.700e+01, 2.000e+02, 2.712e+01], [7.300e+01, 1.640e+02, 3.163e+01], [7.200e+01, 1.800e+02, 3.262e+01], [7.500e+01, 2.200e+02, 3.979e+01], [7.000e+01, 1.950e+02, 3.447e+01], [7.400e+01, 2.050e+02, 2.347e+01], [7.200e+01, 1.700e+02, 2.531e+01], [8.000e+01, 2.400e+02, 2.710e+01], [7.100e+01, 2.100e+02, 2.435e+01], \n",
    "                        [7.100e+01, 1.950e+02, 2.345e+01], [7.400e+01, 2.000e+02, 2.824e+01], [7.400e+01, 2.050e+02, 2.877e+01], [7.300e+01, 1.920e+02, 2.653e+01], [7.500e+01, 1.900e+02, 2.564e+01], [7.600e+01, 1.700e+02, 2.583e+01], [7.300e+04, 2.400e+02, 3.806e+01], [7.700e+01, 2.000e+02, 3.638e+01], [7.200e+01, 2.050e+02, 2.527e+01], [7.300e+01, 1.750e+02, 2.720e+01], [7.700e+01, 2.500e+02, 3.159e+01], [7.600e+01, 2.200e+02, 2.956e+01], [7.100e+01, 2.240e+02, 3.550e+01], [7.500e+01, 2.100e+02, 3.035e+01], [7.300e+01, 1.950e+02, 2.411e+01], [7.400e+01, 1.800e+02, 2.329e+01], [7.700e+01, 2.450e+02, 3.148e+01], [7.100e+01, 1.750e+02, 2.723e+01], [7.200e+01, 1.800e+02, 2.407e+01], [7.300e+01, 2.150e+02, 2.868e+01], [6.900e+01, 1.750e+02, 2.705e+01], [7.300e+01, 1.800e+02, 3.115e+01], [7.000e+01, 1.950e+02, 3.185e+01], [7.400e+01, 2.300e+02, 3.168e+01], [7.600e+01, 2.300e+02, 3.423e+01], [7.300e+01, 2.050e+02, 3.201e+01], [7.300e+01, 2.150e+02, 2.541e+01], [7.500e+01, 1.950e+02, 2.473e+01], [7.300e+01, 1.800e+02, 2.566e+01], [7.900e+01, 2.050e+02, 2.450e+01], [7.400e+01, 1.800e+02, 2.438e+01], [7.300e+01, 1.900e+02, 2.689e+01], [7.400e+01, 1.800e+02, 2.420e+01], [7.700e+01, 1.900e+02, 2.697e+01], [7.500e+01, 1.900e+02, 2.521e+01], [7.400e+01, 2.200e+02, 3.046e+01], [7.300e+01, 2.100e+02, 2.853e+01], [7.700e+01, 2.550e+02, 2.575e+01], \n",
    "                        [7.300e+01, 1.900e+02, 3.115e+01], [7.700e+01, 2.300e+02, 2.648e+01], [7.400e+01, 2.000e+02, 2.693e+01], [7.400e+01, 2.050e+02, 2.955e+01], [7.300e+01, 2.100e+02, 3.475e+01], [7.700e+01, 2.250e+02, 2.971e+01], [7.400e+01, 2.150e+02, 2.983e+01], [7.700e+01, 2.200e+02, 3.357e+01], [7.500e+01, 2.050e+02, 2.821e+01], [7.700e+01, 2.000e+02, 2.754e+01], [7.500e+01, 2.200e+02, 2.605e+01], [7.100e+01, 1.970e+02, 2.364e+01], [7.400e+01, 2.250e+02, 2.482e+01], [7.000e+01, 1.870e+02, 2.980e+01], [7.900e+01, 2.450e+02, 3.471e+01], [7.200e+01, 1.850e+02, 2.922e+01], [7.200e+01, 1.850e+02, 2.396e+01], [7.000e+01, 1.750e+02, 2.387e+01], [7.400e+04, 2.000e+02, 2.677e+01], [7.400e+01, 1.800e+02, 2.349e+01], [7.200e+01, 1.880e+02, 2.677e+01], [7.300e+01, 2.250e+02, 2.451e+01], [7.200e+01, 2.000e+02, 3.323e+01], [7.400e+01, 2.100e+02, 3.104e+01], [7.400e+01, 2.450e+02, 3.202e+01], [7.600e+01, 2.130e+02, 3.144e+01], [8.200e+01, 2.310e+02, 4.347e+01], [7.400e+01, 1.650e+02, 2.838e+01], [7.400e+01, 2.280e+02, 2.781e+01], [7.000e+01, 2.100e+02, 2.457e+01], [7.300e+01, 2.500e+02, 2.334e+01], [7.300e+01, 1.910e+02, 2.709e+01], [7.400e+01, 1.900e+02, 2.514e+01], [7.700e+01, 2.000e+02, 2.707e+01], [7.200e+01, 2.150e+02, 2.402e+01], [7.600e+01, 2.540e+02, 2.760e+01], [7.300e+01, 2.320e+02, 2.799e+01], [7.300e+01, 1.800e+02, 2.756e+01], \n",
    "                        [7.200e+01, 2.150e+02, 2.863e+01], [7.400e+01, 2.200e+02, 3.099e+01], [7.400e+01, 1.800e+02, 2.633e+01], [7.100e+01, 2.000e+02, 2.697e+01], [7.200e+01, 1.700e+02, 2.285e+01], [7.500e+01, 1.950e+02, 2.319e+01], [7.400e+01, 2.100e+02, 2.387e+01], [7.400e+01, 2.000e+02, 3.398e+01], [7.700e+01, 2.200e+02, 2.826e+01], [7.000e+01, 1.650e+02, 2.912e+01], [7.100e+01, 1.800e+02, 2.618e+01], [7.300e+01, 2.000e+02, 2.803e+01], [7.600e+01, 2.000e+02, 2.308e+01], [7.100e+01, 1.700e+02, 2.624e+01], [7.500e+01, 2.240e+02, 2.663e+01], [7.400e+01, 2.200e+02, 2.421e+01], [7.200e+01, 1.800e+02, 2.301e+01], [7.600e+01, 1.980e+02, 2.313e+01], [7.900e+01, 2.400e+02, 2.308e+01], [7.600e+01, 2.390e+02, 2.513e+01], [7.300e+01, 1.850e+02, 2.466e+01], [7.600e+01, 2.100e+02, 2.603e+01], [7.800e+01, 2.200e+02, 2.870e+01], [7.500e+01, 2.000e+02, 2.557e+01], [7.600e+01, 1.950e+02, 2.465e+01], [7.200e+01, 2.200e+02, 2.555e+01], [7.200e+01, 2.300e+02, 2.227e+01], [7.300e+01, 1.700e+02, 2.476e+01], [7.300e+01, 2.200e+02, 2.398e+01], [7.500e+01, 2.300e+02, 2.785e+01], [7.100e+04, 1.650e+02, 2.214e+01], [7.600e+01, 2.050e+02, 2.705e+01], [7.000e+01, 1.920e+02, 3.145e+01], [7.500e+01, 2.100e+02, 3.203e+01], [7.400e+01, 2.050e+02, 2.995e+01], [7.500e+01, 2.000e+02, 2.347e+01], [7.300e+01, 2.100e+02, 3.721e+01], [7.100e+01, 1.850e+02, 2.567e+01], \n",
    "                        [7.100e+01, 1.950e+02, 3.469e+01], [7.200e+01, 2.020e+02, 3.004e+01], [7.300e+01, 2.050e+02, 3.252e+01], [7.300e+01, 1.950e+02, 2.415e+01], [7.200e+01, 1.800e+02, 2.686e+01], [6.900e+01, 2.000e+02, 2.794e+01], [7.300e+01, 1.850e+02, 2.663e+01], [7.800e+01, 2.400e+02, 2.731e+01], [7.100e+01, 1.850e+02, 3.055e+01], [7.300e+01, 2.200e+02, 4.068e+01], [7.500e+01, 2.050e+02, 3.727e+01], [7.600e+01, 2.050e+02, 2.578e+01], [7.000e+01, 1.800e+02, 3.098e+01], [7.400e+01, 2.010e+02, 2.841e+01], [7.700e+01, 1.900e+02, 3.001e+01], [7.500e+01, 2.080e+02, 3.157e+01], [7.900e+01, 2.400e+02, 2.881e+01], [7.200e+01, 1.800e+02, 2.409e+01], [7.700e+01, 2.300e+02, 2.647e+01], [7.300e+01, 1.950e+02, 3.050e+01], [7.500e+01, 2.150e+02, 2.374e+01], [7.500e+01, 1.900e+02, 2.449e+01], [7.500e+01, 1.950e+02, 2.673e+01], [7.300e+01, 2.150e+02, 2.701e+01], [7.300e+01, 2.150e+02, 3.975e+01], [7.600e+01, 2.200e+02, 2.716e+01], [7.700e+01, 2.200e+02, 2.574e+01], [7.500e+01, 2.300e+02, 3.743e+01], [7.000e+01, 1.950e+02, 3.985e+01], [7.100e+01, 1.900e+02, 2.862e+01], [7.100e+01, 1.950e+02, 2.390e+01], [7.500e+01, 2.090e+02, 2.518e+01], [7.400e+01, 2.040e+02, 3.353e+01], [6.900e+01, 1.700e+02, 3.303e+01], [7.000e+01, 1.850e+02, 3.135e+01], [7.500e+01, 2.050e+02, 2.239e+01], [7.200e+01, 1.750e+02, 2.799e+01], [7.500e+01, 2.100e+02, 2.722e+01], \n",
    "                        [7.300e+01, 1.900e+02, 2.749e+01], [7.200e+01, 1.800e+02, 2.753e+01], [7.200e+01, 1.800e+02, 2.626e+01], [7.200e+01, 1.600e+02, 2.518e+01], [7.600e+04, 2.350e+02, 2.712e+01], [7.500e+01, 2.000e+02, 2.769e+01], [7.400e+01, 2.100e+02, 2.569e+01], [6.900e+01, 1.800e+02, 2.811e+01], [7.300e+01, 1.900e+02, 3.121e+01], [7.200e+01, 1.970e+02, 3.080e+01], [7.200e+01, 2.030e+02, 3.021e+01], [7.500e+01, 2.050e+02, 2.806e+01], [7.700e+01, 1.700e+02, 2.652e+01], [7.600e+01, 2.000e+02, 2.310e+01], [8.000e+01, 2.500e+02, 2.502e+01], [7.700e+01, 2.000e+02, 2.614e+01], [7.600e+01, 2.200e+02, 2.538e+01], [7.900e+01, 2.000e+02, 2.760e+01], [7.100e+01, 1.900e+02, 2.550e+01], [7.500e+01, 1.700e+02, 2.424e+01], [7.300e+01, 1.900e+02, 2.332e+01], [7.600e+01, 2.200e+02, 3.156e+01], [7.700e+01, 2.150e+02, 3.419e+01], [7.300e+01, 2.060e+02, 3.678e+01], [7.600e+01, 2.150e+02, 2.773e+01], [7.000e+01, 1.850e+02, 3.488e+01], [7.500e+01, 2.350e+02, 3.100e+01], [7.300e+01, 1.880e+02, 4.852e+01], [7.500e+01, 2.300e+02, 3.468e+01], [7.000e+01, 1.950e+02, 3.738e+01], [6.900e+01, 1.680e+02, 2.433e+01], [7.100e+01, 1.900e+02, 3.730e+01], [7.200e+01, 1.600e+02, 2.372e+01], [7.200e+01, 2.000e+02, 2.419e+01], [7.300e+01, 2.000e+02, 2.570e+01], [7.000e+01, 1.890e+02, 2.906e+01], [7.000e+01, 1.800e+02, 3.348e+01], [7.300e+01, 1.900e+02, 2.985e+01], \n",
    "                        [7.600e+01, 2.000e+02, 3.430e+01], [7.500e+01, 2.200e+02, 4.066e+01], [7.200e+01, 1.870e+02, 2.190e+01], [7.300e+01, 2.400e+02, 2.739e+01], [7.900e+01, 1.900e+02, 2.313e+01], [7.100e+01, 1.800e+02, 3.535e+01], [7.200e+01, 1.850e+02, 4.093e+01], [7.400e+01, 2.100e+02, 3.367e+01], [7.400e+01, 2.200e+02, 3.739e+01], [7.400e+01, 2.190e+02, 2.797e+01], [7.200e+01, 1.900e+02, 2.554e+01], [7.600e+01, 1.930e+02, 2.581e+01], [7.600e+01, 1.750e+02, 2.253e+01], [7.200e+01, 1.800e+02, 2.286e+01], [7.200e+01, 2.150e+02, 2.407e+01], [7.100e+01, 2.100e+02, 2.950e+01], [7.200e+04, 2.000e+02, 3.003e+01], [7.200e+01, 1.900e+02, 2.738e+01], [7.000e+01, 1.850e+02, 3.051e+01], [7.700e+01, 2.200e+02, 2.830e+01], [7.400e+01, 1.700e+02, 2.984e+01], [7.200e+01, 1.950e+02, 3.341e+01], [7.600e+01, 2.050e+02, 3.360e+01], [7.100e+01, 1.950e+02, 3.560e+01], [7.600e+01, 2.100e+02, 2.419e+01], [7.100e+01, 1.900e+02, 3.788e+01], [7.300e+01, 1.900e+02, 2.756e+01], [7.000e+01, 1.800e+02, 2.442e+01], [7.300e+01, 2.200e+02, 3.105e+01], [7.300e+01, 1.900e+02, 3.156e+01], [7.200e+01, 1.860e+02, 3.555e+01], [7.100e+01, 1.850e+02, 4.121e+01], [7.100e+01, 1.900e+02, 2.712e+01], [7.100e+01, 1.800e+02, 2.697e+01], [7.200e+01, 1.900e+02, 2.892e+01], [7.200e+01, 1.700e+02, 3.006e+01], [7.400e+01, 2.100e+02, 3.151e+01], [7.400e+01, 2.400e+02, 3.069e+01], \n",
    "                        [7.400e+01, 2.200e+02, 3.019e+01], [7.100e+01, 1.800e+02, 3.811e+01], [7.200e+01, 2.100e+02, 2.868e+01], [7.500e+01, 2.100e+02, 2.744e+01], [7.200e+01, 1.950e+02, 2.463e+01], [7.100e+01, 1.600e+02, 2.811e+01], [7.200e+01, 1.800e+02, 2.890e+01], [7.200e+01, 2.050e+02, 2.411e+01], [7.200e+01, 2.000e+02, 4.053e+01], [7.200e+01, 1.850e+02, 2.950e+01], [7.400e+01, 2.450e+02, 2.862e+01], [7.400e+01, 1.900e+02, 2.642e+01], [7.700e+01, 2.100e+02, 3.018e+01], [7.500e+01, 2.000e+02, 3.375e+01], [7.300e+01, 2.000e+02, 3.006e+01], [7.500e+01, 2.220e+02, 2.922e+01], [7.300e+01, 2.150e+02, 2.447e+01], [7.600e+01, 2.400e+02, 2.494e+01], [7.200e+01, 1.700e+02, 2.877e+01], [7.700e+01, 2.200e+02, 2.854e+01], [7.500e+01, 1.560e+02, 2.732e+01], [7.200e+01, 1.900e+02, 3.512e+01], [7.100e+01, 2.020e+02, 2.404e+01], [7.100e+01, 2.210e+02, 3.639e+01], [7.500e+01, 2.000e+02, 2.281e+01], [7.200e+01, 1.900e+02, 3.360e+01], [7.300e+01, 2.100e+02, 3.898e+01], [7.300e+01, 1.900e+02, 3.439e+01], [7.100e+04, 2.000e+02, 3.315e+01], [7.000e+01, 1.650e+02, 2.935e+01], [7.500e+01, 1.900e+02, 2.659e+01], [7.100e+01, 1.850e+02, 2.346e+01], [7.600e+01, 2.300e+02, 2.243e+01], [7.300e+01, 2.080e+02, 2.489e+01], [6.800e+01, 2.090e+02, 2.467e+01], [7.100e+01, 1.750e+02, 2.617e+01], [7.200e+01, 1.800e+02, 2.954e+01], [7.400e+01, 2.000e+02, 3.949e+01], \n",
    "                        [7.700e+01, 2.050e+02, 3.408e+01], [7.200e+01, 2.000e+02, 3.052e+01], [7.600e+01, 2.500e+02, 2.877e+01], [7.800e+01, 2.100e+02, 3.375e+01], [8.100e+01, 2.300e+02, 3.269e+01], [7.200e+01, 2.440e+02, 2.259e+01], [7.300e+01, 2.020e+02, 3.704e+01], [7.600e+01, 2.400e+02, 2.270e+01], [7.200e+01, 2.000e+02, 2.560e+01], [7.200e+01, 2.150e+02, 2.723e+01], [7.400e+01, 1.770e+02, 2.574e+01], [7.600e+01, 2.100e+02, 3.029e+01], [7.300e+01, 1.700e+02, 2.672e+01], [7.600e+01, 2.150e+02, 3.390e+01], [7.500e+01, 2.170e+02, 2.986e+01], [7.000e+01, 1.980e+02, 3.613e+01], [7.100e+01, 2.000e+02, 2.754e+01], [7.400e+01, 2.200e+02, 3.149e+01], [7.200e+01, 1.700e+02, 2.810e+01], [7.300e+01, 2.000e+02, 3.407e+01], [7.600e+01, 2.300e+02, 2.728e+01], [7.600e+01, 2.310e+02, 3.080e+01], [7.300e+01, 1.830e+02, 2.820e+01], [7.100e+01, 1.920e+02, 2.790e+01], [6.800e+01, 1.670e+02, 2.826e+01], [7.100e+01, 1.900e+02, 3.096e+01], [7.100e+01, 1.800e+02, 2.418e+01], [7.400e+01, 1.800e+02, 2.752e+01], [7.700e+01, 2.150e+02, 2.778e+01], [6.900e+01, 1.600e+02, 2.625e+01], [7.200e+01, 2.050e+02, 2.950e+01], [7.600e+01, 2.230e+02, 3.039e+01], [7.500e+01, 1.750e+02, 2.318e+01], [7.600e+01, 1.700e+02, 2.581e+01], [7.500e+01, 1.900e+02, 2.301e+01], [7.600e+01, 2.400e+02, 3.172e+01], [7.200e+01, 1.750e+02, 4.428e+01], [7.400e+01, 2.300e+02, 3.691e+01], \n",
    "                        [7.600e+01, 2.230e+02, 2.654e+01], [7.400e+01, 1.960e+02, 2.927e+01], [7.200e+04, 1.670e+02, 3.051e+01], [7.500e+01, 1.950e+02, 3.128e+01], [7.800e+01, 1.900e+02, 2.651e+01], [7.700e+01, 2.500e+02, 3.487e+01], [7.000e+01, 1.900e+02, 3.928e+01], [7.200e+01, 1.900e+02, 2.856e+01], [7.900e+01, 1.900e+02, 2.782e+01], [7.400e+01, 1.700e+02, 2.594e+01], [7.100e+01, 1.600e+02, 2.853e+01], [6.800e+01, 1.500e+02, 2.211e+01], [7.700e+01, 2.250e+02, 2.771e+01], [7.500e+01, 2.200e+02, 3.738e+01], [7.100e+01, 2.090e+02, 3.067e+01], [7.200e+01, 2.100e+02, 3.048e+01], [7.000e+01, 1.760e+02, 2.712e+01], [7.200e+01, 2.600e+02, 2.281e+01], [7.200e+01, 1.950e+02, 2.446e+01], [7.300e+01, 1.900e+02, 3.473e+01], [7.200e+01, 1.840e+02, 3.653e+01], [7.400e+01, 1.800e+02, 2.453e+01], [7.200e+01, 1.950e+02, 2.717e+01], [7.200e+01, 1.950e+02, 2.690e+01], [7.500e+01, 2.190e+02, 3.367e+01], [7.200e+01, 2.250e+02, 2.914e+01], [7.300e+01, 2.120e+02, 3.261e+01], [7.400e+01, 2.020e+02, 3.387e+01], [7.200e+01, 1.850e+02, 2.441e+01], [7.800e+01, 2.000e+02, 2.494e+01], [7.500e+01, 2.090e+02, 2.736e+01], [7.200e+01, 2.000e+02, 2.633e+01], [7.400e+01, 1.950e+02, 2.572e+01], [7.500e+01, 2.280e+02, 2.870e+01], [7.500e+01, 2.100e+02, 2.853e+01], [7.600e+01, 1.900e+02, 2.607e+01], [7.400e+01, 2.120e+02, 2.731e+01], [7.400e+01, 1.900e+02, 2.326e+01], \n",
    "                        [7.300e+01, 2.180e+02, 2.862e+01], [7.400e+01, 2.200e+02, 3.216e+01], [7.100e+01, 1.900e+02, 3.843e+01], [7.400e+01, 2.350e+02, 3.181e+01], [7.500e+01, 2.100e+02, 2.910e+01], [7.600e+01, 2.000e+02, 3.128e+01], [7.400e+01, 1.880e+02, 2.917e+01], [7.600e+01, 2.100e+02, 2.589e+01], [7.600e+01, 2.350e+02, 2.613e+01], [7.300e+01, 1.880e+02, 2.913e+01], [7.500e+01, 2.150e+02, 2.892e+01], [7.500e+01, 2.160e+02, 2.601e+01], [7.400e+01, 2.200e+02, 2.481e+01], [6.800e+01, 1.800e+02, 2.879e+01], [7.200e+04, 1.850e+02, 3.377e+01], [7.500e+01, 2.000e+02, 3.385e+01], [7.100e+01, 2.100e+02, 2.736e+01], [7.000e+01, 2.200e+02, 2.601e+01], [7.200e+01, 1.850e+02, 2.995e+01], [7.300e+01, 2.310e+02, 2.812e+01], [7.200e+01, 2.100e+02, 3.287e+01], [7.500e+01, 1.950e+02, 3.120e+01], [7.400e+01, 2.000e+02, 3.414e+01], [7.000e+01, 2.050e+02, 3.611e+01], [7.600e+01, 2.000e+02, 2.631e+01], [7.100e+01, 1.900e+02, 2.750e+01], [8.200e+01, 2.500e+02, 2.777e+01], [7.200e+01, 1.850e+02, 4.088e+01], [7.300e+01, 1.800e+02, 2.575e+01], [7.400e+01, 1.700e+02, 3.141e+01], [7.100e+01, 1.800e+02, 3.084e+01], [7.500e+01, 2.080e+02, 3.057e+01], [7.700e+01, 2.350e+02, 3.979e+01], [7.200e+01, 2.150e+02, 3.938e+01], [7.400e+01, 2.440e+02, 2.942e+01], [7.200e+01, 2.200e+02, 2.619e+01], [7.300e+01, 1.850e+02, 2.374e+01], [7.800e+01, 2.300e+02, 2.603e+01], \n",
    "                        [7.700e+01, 1.900e+02, 2.859e+01], [7.300e+01, 2.000e+02, 2.677e+01], [7.300e+01, 1.800e+02, 2.721e+01], [7.300e+01, 1.900e+02, 2.487e+01], [7.300e+01, 1.960e+02, 3.026e+01], [7.300e+01, 1.800e+02, 2.234e+01], [7.600e+01, 2.300e+02, 2.620e+01], [7.500e+01, 2.240e+02, 2.845e+01], [7.000e+01, 1.600e+02, 2.763e+01], [7.300e+01, 1.780e+02, 2.593e+01], [7.200e+01, 2.050e+02, 2.894e+01], [7.300e+01, 1.850e+02, 2.680e+01], [7.500e+01, 2.100e+02, 2.242e+01], [7.400e+01, 1.800e+02, 2.726e+01], [7.300e+01, 1.900e+02, 2.838e+01], [7.300e+01, 2.000e+02, 2.523e+01], [7.600e+01, 2.570e+02, 2.816e+01], [7.300e+01, 1.900e+02, 2.848e+01], [7.500e+01, 2.200e+02, 2.678e+01], [7.000e+01, 1.650e+02, 2.524e+01], [7.700e+01, 2.050e+02, 2.745e+01], [7.200e+01, 2.000e+02, 2.905e+01], [7.700e+01, 2.080e+02, 2.908e+01], [7.400e+01, 1.850e+02, 2.584e+01], [7.500e+01, 2.150e+02, 2.540e+01], [7.500e+01, 1.700e+02, 2.654e+01], [7.500e+04, 2.350e+02, 2.273e+01], [7.500e+01, 2.100e+02, 2.853e+01], [7.200e+01, 1.700e+02, 2.537e+01], [7.400e+01, 1.800e+02, 2.535e+01], [7.100e+01, 1.700e+02, 2.643e+01], [7.600e+01, 1.900e+02, 2.543e+01], [7.100e+01, 1.500e+02, 2.923e+01], [7.500e+01, 2.300e+02, 3.022e+01], [7.600e+01, 2.030e+02, 3.230e+01], [8.300e+01, 2.600e+02, 2.842e+01], [7.500e+01, 2.460e+02, 2.524e+01], [7.400e+01, 1.860e+02, 2.913e+01], \n",
    "                        [7.600e+01, 2.100e+02, 2.463e+01], [7.200e+01, 1.980e+02, 2.495e+01], [7.200e+01, 2.100e+02, 2.806e+01], [7.500e+01, 2.150e+02, 2.586e+01], [7.500e+01, 1.800e+02, 2.732e+01], [7.200e+01, 2.000e+02, 2.591e+01], [7.700e+01, 2.450e+02, 2.663e+01], [7.300e+01, 2.000e+02, 2.595e+01], [7.200e+01, 1.920e+02, 2.917e+01], [7.000e+01, 1.920e+02, 2.919e+01], [7.400e+01, 2.000e+02, 2.844e+01], [7.200e+01, 1.920e+02, 2.636e+01], [7.400e+01, 2.050e+02, 2.829e+01], [7.200e+01, 1.900e+02, 2.945e+01], [7.100e+01, 1.860e+02, 2.534e+01], [7.000e+01, 1.700e+02, 2.686e+01], [7.100e+01, 1.970e+02, 2.636e+01], [7.600e+01, 2.190e+02, 2.739e+01], [7.400e+01, 2.000e+02, 2.584e+01], [7.600e+01, 2.200e+02, 2.508e+01], [7.400e+01, 2.070e+02, 2.387e+01], [7.400e+01, 2.250e+02, 2.468e+01], [7.400e+01, 2.070e+02, 2.464e+01], [7.500e+01, 2.120e+02, 2.919e+01], [7.500e+01, 2.250e+02, 2.884e+01], [7.100e+01, 1.700e+02, 2.533e+01], [7.100e+01, 1.900e+02, 2.445e+01], [7.400e+01, 2.100e+02, 2.832e+01], [7.700e+01, 2.300e+02, 3.234e+01], [7.100e+01, 2.100e+02, 3.497e+01], [7.400e+01, 2.000e+02, 3.204e+01], [7.500e+01, 2.380e+02, 2.349e+01], [7.700e+01, 2.340e+02, 2.609e+01], [7.600e+01, 2.220e+02, 2.641e+01], [7.400e+01, 2.000e+02, 2.655e+01], [7.600e+01, 1.900e+02, 2.462e+01], [7.200e+01, 1.700e+02, 2.849e+01], [7.100e+01, 2.200e+02, 3.261e+01], \n",
    "                        [7.200e+04, 2.230e+02, 2.806e+01], [7.500e+01, 2.100e+02, 2.808e+01], [7.300e+01, 2.150e+02, 3.734e+01], [6.800e+01, 1.960e+02, 3.525e+01], [7.200e+01, 1.750e+02, 2.477e+01], [6.900e+01, 1.750e+02, 3.985e+01], [7.300e+01, 1.890e+02, 3.549e+01], [7.300e+01, 2.050e+02, 3.184e+01], [7.500e+01, 2.100e+02, 2.667e+01], [7.000e+01, 1.800e+02, 3.475e+01], [7.000e+01, 1.800e+02, 2.891e+01], [7.400e+01, 1.970e+02, 3.273e+01], [7.500e+01, 2.200e+02, 3.572e+01], [7.400e+01, 2.280e+02, 4.260e+01], [7.400e+01, 1.900e+02, 2.622e+01], [7.300e+01, 2.040e+02, 2.185e+01], [7.400e+01, 1.650e+02, 2.428e+01], [7.500e+01, 2.160e+02, 2.241e+01], [7.700e+01, 2.200e+02, 3.256e+01], [7.300e+01, 2.080e+02, 3.274e+01], [7.400e+01, 2.100e+02, 2.639e+01], [7.600e+01, 2.150e+02, 2.880e+01], [7.400e+01, 1.950e+02, 2.820e+01], [7.500e+01, 2.000e+02, 2.652e+01], [7.300e+01, 2.150e+02, 3.452e+01], [7.600e+01, 2.290e+02, 3.432e+01], [7.800e+01, 2.400e+02, 2.698e+01], [7.500e+01, 2.070e+02, 2.886e+01], [7.300e+01, 2.050e+02, 2.496e+01], [7.700e+01, 2.080e+02, 2.530e+01], [7.400e+01, 1.850e+02, 2.706e+01], [7.200e+01, 1.900e+02, 2.544e+01], [7.400e+01, 1.700e+02, 2.553e+01], [7.200e+01, 2.080e+02, 3.487e+01], [7.100e+01, 2.250e+02, 2.463e+01], [7.300e+01, 1.900e+02, 2.799e+01], [7.500e+01, 2.250e+02, 2.712e+01], [7.300e+01, 1.850e+02, 3.114e+01], \n",
    "                        [6.700e+01, 1.800e+02, 3.021e+01], [6.700e+01, 1.650e+02, 3.211e+01], [7.600e+01, 2.400e+02, 3.191e+01], [7.400e+01, 2.200e+02, 3.444e+01], [7.300e+01, 2.120e+02, 3.668e+01], [7.000e+01, 1.630e+02, 3.766e+01], [7.500e+01, 2.150e+02, 3.098e+01], [7.000e+01, 1.750e+02, 2.707e+01], [7.200e+01, 2.050e+02, 2.911e+01], [7.700e+01, 2.100e+02, 2.582e+01], [7.900e+01, 2.050e+02, 2.550e+01], [7.800e+01, 2.080e+02, 2.957e+01], [7.400e+04, 2.150e+02, 2.537e+01], [7.500e+01, 1.800e+02, 3.399e+01], [7.500e+01, 2.000e+02, 2.986e+01], [7.800e+01, 2.300e+02, 3.184e+01], [7.600e+01, 2.110e+02, 3.831e+01], [7.500e+01, 2.300e+02, 3.448e+01], [6.900e+01, 1.900e+02, 3.688e+01], [7.500e+01, 2.200e+02, 3.234e+01], [7.200e+01, 1.800e+02, 3.158e+01], [7.500e+01, 2.050e+02, 2.889e+01], [7.300e+01, 1.900e+02, 2.508e+01], [7.400e+01, 1.800e+02, 2.573e+01], [7.500e+01, 2.050e+02, 2.519e+01], [7.500e+01, 1.900e+02, 3.101e+01], [7.300e+01, 1.950e+02, 2.792e+01]])"
   ]
  },
  {
   "cell_type": "code",
   "execution_count": 11,
   "metadata": {},
   "outputs": [
    {
     "name": "stdout",
     "output_type": "stream",
     "text": [
      "1586.4610837438424\n",
      "74.0\n"
     ]
    }
   ],
   "source": [
    "# np_baseball is available\n",
    "\n",
    "# Import numpy\n",
    "import numpy as np\n",
    "\n",
    "# Create np_height_in from np_baseball\n",
    "np_height_in = np_baseball[:, 0]\n",
    "\n",
    "# Print out the mean of np_height_in\n",
    "print(np.mean(np_height_in))\n",
    "\n",
    "# Print out the median of np_height_in\n",
    "print(np.median(np_height_in))"
   ]
  },
  {
   "cell_type": "code",
   "execution_count": 49,
   "metadata": {},
   "outputs": [],
   "source": [
    "np_baseball = np.array([[ 74.  , 180.  ,  22.99], [ 74.  , 215.  ,  34.69], [ 72.  , 210.  ,  30.78], [ 72.  , 210.  ,  35.43], [ 73.  , 188.  ,  35.71], [ 69.  , 176.  ,  29.39], [ 69.  , 209.  ,  30.77], [ 71.  , 200.  ,  35.07], [ 76.  , 231.  ,  30.19], [ 71.  , 180.  ,  27.05], [ 73.  , 188.  ,  23.88], [ 73.  , 180.  ,  26.96], [ 74.  , 185.  ,  23.29], [ 74.  , 160.  ,  26.11], [ 69.  , 180.  ,  27.55], [ 70.  , 185.  ,  34.27], [ 73.  , 189.  ,  27.99], [ 75.  , 185.  ,  22.38], [ 78.  , 219.  ,  22.89], [ 79.  , 230.  ,  25.76], [ 76.  , 205.  ,  36.33], [ 74.  , 230.  ,  31.17], [ 76.  , 195.  ,  32.31], [ 72.  , 180.  ,  31.03], [ 71.  , 192.  ,  29.26], [ 75.  , 225.  ,  29.47], [ 77.  , 203.  ,  32.46], [ 74.  , 195.  ,  35.67], [ 73.  , 182.  ,  25.89], [ 74.  , 188.  ,  26.55], [ 78.  , 200.  ,  24.17], [ 73.  , 180.  ,  26.69], [ 75.  , 200.  ,  25.13], [ 73.  , 200.  ,  27.9 ], [ 75.  , 245.  ,  30.17], [ 75.  , 240.  ,  31.36], [ 74.  , 215.  ,  30.99], [ 69.  , 185.  ,  32.24], [ 71.  , 175.  ,  27.61], [ 74.  , 199.  ,  28.2 ], [ 73.  , 200.  ,  28.85], [ 73.  , 215.  ,  24.21], [ 76.  , 200.  ,  22.02], [ 74.  , 205.  ,  24.97], [ 74.  , 206.  ,  26.78], [ 70.  , 186.  ,  32.51], [ 72.  , 188.  ,  30.95], [ 77.  , 220.  ,  33.09], [ 74.  , 210.  ,  32.74], [ 70.  , 195.  ,  30.69], [ 73.  , 200.  ,  23.45], [ 75.  , 200.  ,  24.94], [ 76.  , 212.  ,  24.09], [ 76.  , 224.  ,  35.23], [ 78.  , 210.  ,  27.43], [ 74.  , 205.  ,  30.6 ], [ 74.  , 220.  ,  27.94], [ 76.  , 195.  ,  29.99], [ 77.  , 200.  ,  25.17], [ 81.  , 260.  ,  24.13], [ 78.  , 228.  ,  30.46], [ 75.  , 270.  ,  25.96], [ 77.  , 200.  ,  22.55], [ 75.  , 210.  ,  26.29], [ 76.  , 190.  ,  24.79], [ 74.  , 220.  ,  31.74], [ 72.  , 180.  ,  23.92], [ 72.  , 205.  ,  25.33], [ 75.  , 210.  ,  24.02], [ 73.  , 220.  ,  23.7 ], [ 73.  , 211.  ,  31.59], [ 73.  , 200.  ,  29.95], [ 70.  , 180.  ,  23.64], [ 70.  , 190.  ,  32.33], [ 70.  , 170.  ,  23.13], [ 76.  , 230.  ,  26.6 ], [ 68.  , 155.  ,  26.46], [ 71.  , 185.  ,  25.75], [ 72.  , 185.  ,  27.51], [ 75.  , 200.  ,  25.11], [ 75.  , 225.  ,  32.51], [ 75.  , 225.  ,  34.67], [ 75.  , 220.  ,  31.06], [ 68.  , 160.  ,  29.1 ], [ 74.  , 205.  ,  28.66], [ 78.  , 235.  ,  28.35], [ 71.  , 250.  ,  33.77], [ 73.  , 210.  ,  30.89], [ 76.  , 190.  ,  37.74], [ 74.  , 160.  ,  24.14], [ 74.  , 200.  ,  25.71], [ 79.  , 205.  ,  24.41], [ 75.  , 222.  ,  24.32], [ 73.  , 195.  ,  28.09], [ 76.  , 205.  ,  33.31], [ 74.  , 220.  ,  36.4 ], [ 74.  , 220.  ,  37.36], [ 73.  , 170.  ,  31.61], [ 72.  , 185.  ,  25.14], [ 74.  , 195.  ,  30.29],\n",
    "                        [ 73.  , 220.  ,  36.37], [ 74.  , 230.  ,  34.89], [ 72.  , 180.  ,  23.79], [ 73.  , 220.  ,  27.96], [ 69.  , 180.  ,  23.54], [ 72.  , 180.  ,  31.37], [ 73.  , 170.  ,  31.29], [ 75.  , 210.  ,  33.01], [ 75.  , 215.  ,  25.1 ], [ 73.  , 200.  ,  31.28], [ 72.  , 213.  ,  34.75], [ 72.  , 180.  ,  23.46], [ 76.  , 192.  ,  25.37], [ 74.  , 235.  ,  29.57], [ 72.  , 185.  ,  27.33], [ 77.  , 235.  ,  40.29], [ 74.  , 210.  ,  40.58], [ 77.  , 222.  ,  26.79], [ 75.  , 210.  ,  32.55], [ 76.  , 230.  ,  26.27], [ 80.  , 220.  ,  29.47], [ 74.  , 180.  ,  29.07], [ 74.  , 190.  ,  23.15], [ 75.  , 200.  ,  24.9 ], [ 78.  , 210.  ,  23.29], [ 73.  , 194.  ,  31.18], [ 73.  , 180.  ,  26.56], [ 74.  , 190.  ,  25.03], [ 75.  , 240.  ,  35.66], [ 76.  , 200.  ,  29.64], [ 71.  , 198.  ,  30.74], [ 73.  , 200.  ,  28.43], [ 74.  , 195.  ,  33.77], [ 76.  , 210.  ,  40.97], [ 76.  , 220.  ,  23.52], [ 74.  , 190.  ,  28.19], [ 73.  , 210.  ,  26.84], [ 74.  , 225.  ,  26.16], [ 70.  , 180.  ,  28.67], [ 72.  , 185.  ,  24.2 ], [ 73.  , 170.  ,  27.08], [ 73.  , 185.  ,  24.76], [ 73.  , 185.  ,  23.36], [ 73.  , 180.  ,  25.35], [ 71.  , 178.  ,  24.63], [ 74.  , 175.  ,  24.02], [ 74.  , 200.  ,  24.58], [ 72.  , 204.  ,  30.82], [ 74.  , 211.  ,  32.89], [ 71.  , 190.  ,  33.33], [ 74.  , 210.  ,  33.52], [ 73.  , 190.  ,  36.24], [ 75.  , 190.  ,  28.5 ], [ 75.  , 185.  ,  29.42], [ 79.  , 290.  ,  26.61], [ 73.  , 175.  ,  23.79], [ 75.  , 185.  ,  24.96], [ 76.  , 200.  ,  25.93], [ 74.  , 220.  ,  22.81], [ 76.  , 170.  ,  25.29], [ 78.  , 220.  ,  26.07], [ 74.  , 190.  ,  26.09], [ 76.  , 220.  ,  23.23], [ 72.  , 205.  ,  33.49], [ 74.  , 200.  ,  31.84], [ 76.  , 250.  ,  42.3 ], [ 74.  , 225.  ,  35.82], [ 75.  , 215.  ,  35.27], [ 78.  , 210.  ,  26.81], [ 75.  , 215.  ,  38.49], [ 72.  , 195.  ,  32.68], [ 74.  , 200.  ,  34.93], [ 72.  , 194.  ,  26.26], [ 74.  , 220.  ,  27.56], [ 70.  , 180.  ,  23.98], [ 71.  , 180.  ,  29.73], [ 70.  , 170.  ,  31.33], [ 75.  , 195.  ,  27.13], [ 71.  , 180.  ,  26.75], [ 71.  , 170.  ,  27.09], [ 73.  , 206.  ,  29.23], [ 72.  , 205.  ,  28.88], [ 71.  , 200.  ,  33.01], [ 73.  , 225.  ,  30.57], [ 72.  , 201.  ,  31.24], [ 75.  , 225.  ,  24.95], [ 74.  , 233.  ,  24.62], [ 74.  , 180.  ,  24.98], [ 75.  , 225.  ,  26.22], [ 73.  , 180.  ,  26.04], [ 77.  , 220.  ,  26.45], [ 73.  , 180.  ,  25.25], [ 76.  , 237.  ,  27.77], [ 75.  , 215.  ,  35.16], [ 74.  , 190.  ,  37.1 ], [ 76.  , 235.  ,  34.51], [ 75.  , 190.  ,  29.28], [ 73.  , 180.  ,  32.14], [ 71.  , 165.  ,  23.94], [ 76.  , 195.  ,  27.45],\n",
    "                        [ 75.  , 200.  ,  28.77], [ 72.  , 190.  ,  23.58], [ 71.  , 190.  ,  27.56], [ 77.  , 185.  ,  24.01], [ 73.  , 185.  ,  26.52], [ 74.  , 205.  ,  35.54], [ 71.  , 190.  ,  29.43], [ 72.  , 205.  ,  29.9 ], [ 74.  , 206.  ,  32.7 ], [ 75.  , 220.  ,  28.8 ], [ 73.  , 208.  ,  32.82], [ 72.  , 170.  ,  24.36], [ 75.  , 195.  ,  32.68], [ 75.  , 210.  ,  31.59], [ 74.  , 190.  ,  33.32], [ 72.  , 211.  ,  32.97], [ 74.  , 230.  ,  32.72], [ 71.  , 170.  ,  22.55], [ 70.  , 185.  ,  27.45], [ 74.  , 185.  ,  38.23], [ 77.  , 241.  ,  31.14], [ 77.  , 225.  ,  34.71], [ 75.  , 210.  ,  26.13], [ 75.  , 175.  ,  24.43], [ 78.  , 230.  ,  23.76], [ 75.  , 200.  ,  26.92], [ 76.  , 215.  ,  25.85], [ 73.  , 198.  ,  30.16], [ 75.  , 226.  ,  25.03], [ 75.  , 278.  ,  24.21], [ 79.  , 215.  ,  26.51], [ 77.  , 230.  ,  26.36], [ 76.  , 240.  ,  30.88], [ 71.  , 184.  ,  32.57], [ 75.  , 219.  ,  37.68], [ 74.  , 170.  ,  37.25], [ 69.  , 218.  ,  35.25], [ 71.  , 190.  ,  33.95], [ 76.  , 225.  ,  32.66], [ 72.  , 220.  ,  26.68], [ 72.  , 176.  ,  25.18], [ 70.  , 190.  ,  31.39], [ 72.  , 197.  ,  33.74], [ 73.  , 204.  ,  31.42], [ 71.  , 167.  ,  27.5 ], [ 72.  , 180.  ,  24.25], [ 71.  , 195.  ,  29.78], [ 73.  , 220.  ,  30.  ], [ 72.  , 215.  ,  33.09], [ 73.  , 185.  ,  25.96], [ 74.  , 190.  ,  23.34], [ 74.  , 205.  ,  29.98], [ 72.  , 205.  ,  38.28], [ 75.  , 200.  ,  24.97], [ 74.  , 210.  ,  24.34], [ 74.  , 215.  ,  29.49], [ 77.  , 200.  ,  24.02], [ 75.  , 205.  ,  24.73], [ 73.  , 211.  ,  42.3 ], [ 72.  , 190.  ,  29.54], [ 71.  , 208.  ,  29.95], [ 74.  , 200.  ,  29.24], [ 77.  , 210.  ,  30.3 ], [ 75.  , 232.  ,  40.77], [ 75.  , 230.  ,  38.85], [ 75.  , 210.  ,  22.31], [ 78.  , 220.  ,  25.44], [ 78.  , 210.  ,  21.78], [ 74.  , 202.  ,  22.64], [ 76.  , 212.  ,  26.11], [ 78.  , 225.  ,  27.55], [ 76.  , 170.  ,  24.63], [ 70.  , 190.  ,  23.58], [ 72.  , 200.  ,  30.73], [ 80.  , 237.  ,  32.17], [ 74.  , 220.  ,  30.43], [ 74.  , 170.  ,  23.27], [ 71.  , 193.  ,  32.51], [ 70.  , 190.  ,  25.08], [ 72.  , 150.  ,  22.41], [ 71.  , 220.  ,  27.9 ], [ 74.  , 200.  ,  34.74], [ 71.  , 190.  ,  30.79], [ 72.  , 185.  ,  25.71], [ 71.  , 185.  ,  29.26], [ 74.  , 200.  ,  21.58], [ 69.  , 172.  ,  33.36], [ 76.  , 220.  ,  24.94], [ 75.  , 225.  ,  20.9 ], [ 75.  , 190.  ,  21.52], [ 76.  , 195.  ,  25.85], [ 73.  , 219.  ,  27.27], [ 76.  , 190.  ,  26.75], [ 73.  , 197.  ,  36.03], [ 77.  , 200.  ,  30.52], [ 73.  , 195.  ,  32.55], [ 72.  , 210.  ,  29.86], [ 72.  , 177.  ,  29.58], [ 77.  , 220.  ,  30.02], [ 77.  , 235.  ,  29.16],\n",
    "                        [ 71.  , 180.  ,  22.3 ], [ 74.  , 195.  ,  22.06], [ 74.  , 195.  ,  25.65], [ 73.  , 190.  ,  25.49], [ 78.  , 230.  ,  27.86], [ 75.  , 190.  ,  23.73], [ 73.  , 200.  ,  31.78], [ 70.  , 190.  ,  23.06], [ 74.  , 190.  ,  26.6 ], [ 72.  , 200.  ,  29.39], [ 73.  , 200.  ,  26.51], [ 73.  , 184.  ,  25.08], [ 75.  , 200.  ,  25.76], [ 75.  , 180.  ,  22.52], [ 74.  , 219.  ,  25.57], [ 76.  , 187.  ,  25.43], [ 73.  , 200.  ,  34.65], [ 74.  , 220.  ,  22.68], [ 75.  , 205.  ,  21.46], [ 75.  , 190.  ,  23.47], [ 72.  , 170.  ,  23.1 ], [ 73.  , 160.  ,  29.14], [ 73.  , 215.  ,  29.77], [ 72.  , 175.  ,  23.85], [ 74.  , 205.  ,  28.88], [ 78.  , 200.  ,  24.49], [ 76.  , 214.  ,  25.19], [ 73.  , 200.  ,  27.48], [ 74.  , 190.  ,  28.31], [ 75.  , 180.  ,  26.54], [ 70.  , 205.  ,  26.77], [ 75.  , 220.  ,  23.75], [ 71.  , 190.  ,  26.41], [ 72.  , 215.  ,  36.47], [ 78.  , 235.  ,  26.06], [ 75.  , 191.  ,  27.55], [ 73.  , 200.  ,  31.28], [ 73.  , 181.  ,  29.04], [ 71.  , 200.  ,  32.95], [ 75.  , 210.  ,  26.65], [ 77.  , 240.  ,  27.5 ], [ 72.  , 185.  ,  30.9 ], [ 69.  , 165.  ,  29.09], [ 73.  , 190.  ,  36.67], [ 74.  , 185.  ,  23.44], [ 72.  , 175.  ,  29.09], [ 70.  , 155.  ,  22.89], [ 75.  , 210.  ,  25.48], [ 70.  , 170.  ,  25.84], [ 72.  , 175.  ,  27.2 ], [ 72.  , 220.  ,  25.22], [ 74.  , 210.  ,  24.67], [ 73.  , 205.  ,  39.25], [ 74.  , 200.  ,  32.17], [ 76.  , 205.  ,  32.77], [ 75.  , 195.  ,  29.83], [ 80.  , 240.  ,  31.02], [ 72.  , 150.  ,  29.73], [ 75.  , 200.  ,  28.48], [ 73.  , 215.  ,  26.51], [ 74.  , 202.  ,  26.  ], [ 74.  , 200.  ,  23.36], [ 73.  , 190.  ,  25.9 ], [ 75.  , 205.  ,  28.5 ], [ 75.  , 190.  ,  25.62], [ 71.  , 160.  ,  30.94], [ 73.  , 215.  ,  26.59], [ 75.  , 185.  ,  22.78], [ 74.  , 200.  ,  32.26], [ 74.  , 190.  ,  30.35], [ 72.  , 210.  ,  33.26], [ 74.  , 185.  ,  32.35], [ 74.  , 220.  ,  27.3 ], [ 74.  , 190.  ,  32.08], [ 73.  , 202.  ,  25.25], [ 76.  , 205.  ,  25.03], [ 75.  , 220.  ,  26.89], [ 72.  , 175.  ,  24.69], [ 73.  , 160.  ,  22.44], [ 73.  , 190.  ,  30.36], [ 73.  , 200.  ,  26.27], [ 72.  , 229.  ,  29.5 ], [ 72.  , 206.  ,  29.75], [ 72.  , 220.  ,  38.3 ], [ 72.  , 180.  ,  39.75], [ 71.  , 195.  ,  32.84], [ 75.  , 175.  ,  26.66], [ 75.  , 188.  ,  24.94], [ 74.  , 230.  ,  27.76], [ 73.  , 190.  ,  23.66], [ 75.  , 200.  ,  24.96], [ 79.  , 190.  ,  23.65], [ 74.  , 219.  ,  29.42], [ 76.  , 235.  ,  32.18], [ 73.  , 180.  ,  26.66], [ 74.  , 180.  ,  27.47], [ 74.  , 180.  ,  25.66], [ 72.  , 200.  ,  35.13], [ 74.  , 234.  ,  31.15], [ 74.  , 185.  ,  35.67],\n",
    "                        [ 75.  , 220.  ,  29.6 ], [ 78.  , 223.  ,  30.14], [ 74.  , 200.  ,  24.53], [ 74.  , 210.  ,  24.49], [ 74.  , 200.  ,  26.28], [ 77.  , 210.  ,  24.06], [ 70.  , 190.  ,  35.88], [ 73.  , 177.  ,  30.42], [ 74.  , 227.  ,  30.09], [ 73.  , 180.  ,  26.5 ], [ 71.  , 195.  ,  24.94], [ 75.  , 199.  ,  29.6 ], [ 71.  , 175.  ,  32.43], [ 72.  , 185.  ,  37.16], [ 77.  , 240.  ,  30.57], [ 74.  , 210.  ,  27.01], [ 70.  , 180.  ,  30.23], [ 77.  , 194.  ,  26.03], [ 73.  , 225.  ,  28.23], [ 72.  , 180.  ,  25.21], [ 76.  , 205.  ,  25.45], [ 71.  , 193.  ,  26.24], [ 76.  , 230.  ,  30.15], [ 78.  , 230.  ,  29.8 ], [ 75.  , 220.  ,  33.41], [ 73.  , 200.  ,  30.95], [ 78.  , 249.  ,  31.17], [ 74.  , 190.  ,  30.95], [ 79.  , 208.  ,  29.44], [ 75.  , 245.  ,  27.14], [ 76.  , 250.  ,  26.21], [ 72.  , 160.  ,  24.08], [ 75.  , 192.  ,  23.96], [ 75.  , 220.  ,  24.94], [ 70.  , 170.  ,  29.56], [ 72.  , 197.  ,  26.42], [ 70.  , 155.  ,  23.92], [ 74.  , 190.  ,  25.23], [ 71.  , 200.  ,  35.82], [ 76.  , 220.  ,  23.87], [ 73.  , 210.  ,  32.57], [ 76.  , 228.  ,  25.79], [ 71.  , 190.  ,  31.47], [ 69.  , 160.  ,  22.61], [ 72.  , 184.  ,  24.85], [ 72.  , 180.  ,  27.33], [ 69.  , 180.  ,  26.67], [ 73.  , 200.  ,  37.43], [ 69.  , 176.  ,  29.31], [ 73.  , 160.  ,  29.85], [ 74.  , 222.  ,  27.93], [ 74.  , 211.  ,  31.62], [ 72.  , 195.  ,  30.55], [ 71.  , 200.  ,  24.77], [ 72.  , 175.  ,  33.77], [ 72.  , 206.  ,  27.97], [ 76.  , 240.  ,  27.85], [ 76.  , 185.  ,  23.26], [ 76.  , 260.  ,  25.38], [ 74.  , 185.  ,  23.35], [ 76.  , 221.  ,  25.45], [ 75.  , 205.  ,  26.49], [ 71.  , 200.  ,  24.  ], [ 72.  , 170.  ,  24.16], [ 71.  , 201.  ,  28.1 ], [ 73.  , 205.  ,  25.65], [ 75.  , 185.  ,  28.58], [ 76.  , 205.  ,  32.27], [ 75.  , 245.  ,  29.86], [ 71.  , 220.  ,  25.14], [ 75.  , 210.  ,  23.03], [ 74.  , 220.  ,  30.25], [ 72.  , 185.  ,  30.67], [ 73.  , 175.  ,  27.73], [ 73.  , 170.  ,  23.34], [ 73.  , 180.  ,  25.94], [ 73.  , 200.  ,  31.56], [ 76.  , 210.  ,  34.85], [ 72.  , 175.  ,  23.98], [ 76.  , 220.  ,  23.14], [ 73.  , 206.  ,  28.99], [ 73.  , 180.  ,  25.02], [ 73.  , 210.  ,  29.85], [ 75.  , 195.  ,  27.03], [ 75.  , 200.  ,  25.15], [ 77.  , 200.  ,  27.12], [ 73.  , 164.  ,  31.63], [ 72.  , 180.  ,  32.62], [ 75.  , 220.  ,  39.79], [ 70.  , 195.  ,  34.47], [ 74.  , 205.  ,  23.47], [ 72.  , 170.  ,  25.31], [ 80.  , 240.  ,  27.1 ], [ 71.  , 210.  ,  24.35], [ 71.  , 195.  ,  23.45], [ 74.  , 200.  ,  28.24], [ 74.  , 205.  ,  28.77], [ 73.  , 192.  ,  26.53], [ 75.  , 190.  ,  25.64], [ 76.  , 170.  ,  25.83], \n",
    "                        [ 73.  , 240.  ,  38.06], [ 77.  , 200.  ,  36.38], [ 72.  , 205.  ,  25.27], [ 73.  , 175.  ,  27.2 ], [ 77.  , 250.  ,  31.59], [ 76.  , 220.  ,  29.56], [ 71.  , 224.  ,  35.5 ], [ 75.  , 210.  ,  30.35], [ 73.  , 195.  ,  24.11], [ 74.  , 180.  ,  23.29], [ 77.  , 245.  ,  31.48], [ 71.  , 175.  ,  27.23], [ 72.  , 180.  ,  24.07], [ 73.  , 215.  ,  28.68], [ 69.  , 175.  ,  27.05], [ 73.  , 180.  ,  31.15], [ 70.  , 195.  ,  31.85], [ 74.  , 230.  ,  31.68], [ 76.  , 230.  ,  34.23], [ 73.  , 205.  ,  32.01], [ 73.  , 215.  ,  25.41], [ 75.  , 195.  ,  24.73], [ 73.  , 180.  ,  25.66], [ 79.  , 205.  ,  24.5 ], [ 74.  , 180.  ,  24.38], [ 73.  , 190.  ,  26.89], [ 74.  , 180.  ,  24.2 ], [ 77.  , 190.  ,  26.97], [ 75.  , 190.  ,  25.21], [ 74.  , 220.  ,  30.46], [ 73.  , 210.  ,  28.53], [ 77.  , 255.  ,  25.75], [ 73.  , 190.  ,  31.15], [ 77.  , 230.  ,  26.48], [ 74.  , 200.  ,  26.93], [ 74.  , 205.  ,  29.55], [ 73.  , 210.  ,  34.75], [ 77.  , 225.  ,  29.71], [ 74.  , 215.  ,  29.83], [ 77.  , 220.  ,  33.57], [ 75.  , 205.  ,  28.21], [ 77.  , 200.  ,  27.54], [ 75.  , 220.  ,  26.05], [ 71.  , 197.  ,  23.64], [ 74.  , 225.  ,  24.82], [ 70.  , 187.  ,  29.8 ], [ 79.  , 245.  ,  34.71], [ 72.  , 185.  ,  29.22], [ 72.  , 185.  ,  23.96], [ 70.  , 175.  ,  23.87], [ 74.  , 200.  ,  26.77], [ 74.  , 180.  ,  23.49], [ 72.  , 188.  ,  26.77], [ 73.  , 225.  ,  24.51], [ 72.  , 200.  ,  33.23], [ 74.  , 210.  ,  31.04], [ 74.  , 245.  ,  32.02], [ 76.  , 213.  ,  31.44], [ 82.  , 231.  ,  43.47], [ 74.  , 165.  ,  28.38], [ 74.  , 228.  ,  27.81], [ 70.  , 210.  ,  24.57], [ 73.  , 250.  ,  23.34], [ 73.  , 191.  ,  27.09], [ 74.  , 190.  ,  25.14], [ 77.  , 200.  ,  27.07], [ 72.  , 215.  ,  24.02], [ 76.  , 254.  ,  27.6 ], [ 73.  , 232.  ,  27.99], [ 73.  , 180.  ,  27.56], [ 72.  , 215.  ,  28.63], [ 74.  , 220.  ,  30.99], [ 74.  , 180.  ,  26.33], [ 71.  , 200.  ,  26.97], [ 72.  , 170.  ,  22.85], [ 75.  , 195.  ,  23.19], [ 74.  , 210.  ,  23.87], [ 74.  , 200.  ,  33.98], [ 77.  , 220.  ,  28.26], [ 70.  , 165.  ,  29.12], [ 71.  , 180.  ,  26.18], [ 73.  , 200.  ,  28.03], [ 76.  , 200.  ,  23.08], [ 71.  , 170.  ,  26.24], [ 75.  , 224.  ,  26.63], [ 74.  , 220.  ,  24.21], [ 72.  , 180.  ,  23.01], [ 76.  , 198.  ,  23.13], [ 79.  , 240.  ,  23.08], [ 76.  , 239.  ,  25.13], [ 73.  , 185.  ,  24.66], [ 76.  , 210.  ,  26.03], [ 78.  , 220.  ,  28.7 ], [ 75.  , 200.  ,  25.57], [ 76.  , 195.  ,  24.65], [ 72.  , 220.  ,  25.55], [ 72.  , 230.  ,  22.27], [ 73.  , 170.  ,  24.76], [ 73.  , 220.  ,  23.98], [ 75.  , 230.  ,  27.85], \n",
    "                        [ 71.  , 165.  ,  22.14], [ 76.  , 205.  ,  27.05], [ 70.  , 192.  ,  31.45], [ 75.  , 210.  ,  32.03], [ 74.  , 205.  ,  29.95], [ 75.  , 200.  ,  23.47], [ 73.  , 210.  ,  37.21], [ 71.  , 185.  ,  25.67], [ 71.  , 195.  ,  34.69], [ 72.  , 202.  ,  30.04], [ 73.  , 205.  ,  32.52], [ 73.  , 195.  ,  24.15], [ 72.  , 180.  ,  26.86], [ 69.  , 200.  ,  27.94], [ 73.  , 185.  ,  26.63], [ 78.  , 240.  ,  27.31], [ 71.  , 185.  ,  30.55], [ 73.  , 220.  ,  40.68], [ 75.  , 205.  ,  37.27], [ 76.  , 205.  ,  25.78], [ 70.  , 180.  ,  30.98], [ 74.  , 201.  ,  28.41], [ 77.  , 190.  ,  30.01], [ 75.  , 208.  ,  31.57], [ 79.  , 240.  ,  28.81], [ 72.  , 180.  ,  24.09], [ 77.  , 230.  ,  26.47], [ 73.  , 195.  ,  30.5 ], [ 75.  , 215.  ,  23.74], [ 75.  , 190.  ,  24.49], [ 75.  , 195.  ,  26.73], [ 73.  , 215.  ,  27.01], [ 73.  , 215.  ,  39.75], [ 76.  , 220.  ,  27.16], [ 77.  , 220.  ,  25.74], [ 75.  , 230.  ,  37.43], [ 70.  , 195.  ,  39.85], [ 71.  , 190.  ,  28.62], [ 71.  , 195.  ,  23.9 ], [ 75.  , 209.  ,  25.18], [ 74.  , 204.  ,  33.53], [ 69.  , 170.  ,  33.03], [ 70.  , 185.  ,  31.35], [ 75.  , 205.  ,  22.39], [ 72.  , 175.  ,  27.99], [ 75.  , 210.  ,  27.22], [ 73.  , 190.  ,  27.49], [ 72.  , 180.  ,  27.53], [ 72.  , 180.  ,  26.26], [ 72.  , 160.  ,  25.18], [ 76.  , 235.  ,  27.12], [ 75.  , 200.  ,  27.69], [ 74.  , 210.  ,  25.69], [ 69.  , 180.  ,  28.11], [ 73.  , 190.  ,  31.21], [ 72.  , 197.  ,  30.8 ], [ 72.  , 203.  ,  30.21], [ 75.  , 205.  ,  28.06], [ 77.  , 170.  ,  26.52], [ 76.  , 200.  ,  23.1 ], [ 80.  , 250.  ,  25.02], [ 77.  , 200.  ,  26.14], [ 76.  , 220.  ,  25.38], [ 79.  , 200.  ,  27.6 ], [ 71.  , 190.  ,  25.5 ], [ 75.  , 170.  ,  24.24], [ 73.  , 190.  ,  23.32], [ 76.  , 220.  ,  31.56], [ 77.  , 215.  ,  34.19], [ 73.  , 206.  ,  36.78], [ 76.  , 215.  ,  27.73], [ 70.  , 185.  ,  34.88], [ 75.  , 235.  ,  31.  ], [ 73.  , 188.  ,  48.52], [ 75.  , 230.  ,  34.68], [ 70.  , 195.  ,  37.38], [ 69.  , 168.  ,  24.33], [ 71.  , 190.  ,  37.3 ], [ 72.  , 160.  ,  23.72], [ 72.  , 200.  ,  24.19], [ 73.  , 200.  ,  25.7 ], [ 70.  , 189.  ,  29.06], [ 70.  , 180.  ,  33.48], [ 73.  , 190.  ,  29.85], [ 76.  , 200.  ,  34.3 ], [ 75.  , 220.  ,  40.66], [ 72.  , 187.  ,  21.9 ], [ 73.  , 240.  ,  27.39], [ 79.  , 190.  ,  23.13], [ 71.  , 180.  ,  35.35], [ 72.  , 185.  ,  40.93], [ 74.  , 210.  ,  33.67], [ 74.  , 220.  ,  37.39], [ 74.  , 219.  ,  27.97], [ 72.  , 190.  ,  25.54], [ 76.  , 193.  ,  25.81], [ 76.  , 175.  ,  22.53], [ 72.  , 180.  ,  22.86], [ 72.  , 215.  ,  24.07], [ 71.  , 210.  ,  29.5 ],\n",
    "                        [ 72.  , 200.  ,  30.03], [ 72.  , 190.  ,  27.38], [ 70.  , 185.  ,  30.51], [ 77.  , 220.  ,  28.3 ], [ 74.  , 170.  ,  29.84], [ 72.  , 195.  ,  33.41], [ 76.  , 205.  ,  33.6 ], [ 71.  , 195.  ,  35.6 ], [ 76.  , 210.  ,  24.19], [ 71.  , 190.  ,  37.88], [ 73.  , 190.  ,  27.56], [ 70.  , 180.  ,  24.42], [ 73.  , 220.  ,  31.05], [ 73.  , 190.  ,  31.56], [ 72.  , 186.  ,  35.55], [ 71.  , 185.  ,  41.21], [ 71.  , 190.  ,  27.12], [ 71.  , 180.  ,  26.97], [ 72.  , 190.  ,  28.92], [ 72.  , 170.  ,  30.06], [ 74.  , 210.  ,  31.51], [ 74.  , 240.  ,  30.69], [ 74.  , 220.  ,  30.19], [ 71.  , 180.  ,  38.11], [ 72.  , 210.  ,  28.68], [ 75.  , 210.  ,  27.44], [ 72.  , 195.  ,  24.63], [ 71.  , 160.  ,  28.11], [ 72.  , 180.  ,  28.9 ], [ 72.  , 205.  ,  24.11], [ 72.  , 200.  ,  40.53], [ 72.  , 185.  ,  29.5 ], [ 74.  , 245.  ,  28.62], [ 74.  , 190.  ,  26.42], [ 77.  , 210.  ,  30.18], [ 75.  , 200.  ,  33.75], [ 73.  , 200.  ,  30.06], [ 75.  , 222.  ,  29.22], [ 73.  , 215.  ,  24.47], [ 76.  , 240.  ,  24.94], [ 72.  , 170.  ,  28.77], [ 77.  , 220.  ,  28.54], [ 75.  , 156.  ,  27.32], [ 72.  , 190.  ,  35.12], [ 71.  , 202.  ,  24.04], [ 71.  , 221.  ,  36.39], [ 75.  , 200.  ,  22.81], [ 72.  , 190.  ,  33.6 ], [ 73.  , 210.  ,  38.98], [ 73.  , 190.  ,  34.39], [ 71.  , 200.  ,  33.15], [ 70.  , 165.  ,  29.35], [ 75.  , 190.  ,  26.59], [ 71.  , 185.  ,  23.46], [ 76.  , 230.  ,  22.43], [ 73.  , 208.  ,  24.89], [ 68.  , 209.  ,  24.67], [ 71.  , 175.  ,  26.17], [ 72.  , 180.  ,  29.54], [ 74.  , 200.  ,  39.49], [ 77.  , 205.  ,  34.08], [ 72.  , 200.  ,  30.52], [ 76.  , 250.  ,  28.77], [ 78.  , 210.  ,  33.75], [ 81.  , 230.  ,  32.69], [ 72.  , 244.  ,  22.59], [ 73.  , 202.  ,  37.04], [ 76.  , 240.  ,  22.7 ], [ 72.  , 200.  ,  25.6 ], [ 72.  , 215.  ,  27.23], [ 74.  , 177.  ,  25.74], [ 76.  , 210.  ,  30.29], [ 73.  , 170.  ,  26.72], [ 76.  , 215.  ,  33.9 ], [ 75.  , 217.  ,  29.86], [ 70.  , 198.  ,  36.13], [ 71.  , 200.  ,  27.54], [ 74.  , 220.  ,  31.49], [ 72.  , 170.  ,  28.1 ], [ 73.  , 200.  ,  34.07], [ 76.  , 230.  ,  27.28], [ 76.  , 231.  ,  30.8 ], [ 73.  , 183.  ,  28.2 ], [ 71.  , 192.  ,  27.9 ], [ 68.  , 167.  ,  28.26], [ 71.  , 190.  ,  30.96], [ 71.  , 180.  ,  24.18], [ 74.  , 180.  ,  27.52], [ 77.  , 215.  ,  27.78], [ 69.  , 160.  ,  26.25], [ 72.  , 205.  ,  29.5 ], [ 76.  , 223.  ,  30.39], [ 75.  , 175.  ,  23.18], [ 76.  , 170.  ,  25.81], [ 75.  , 190.  ,  23.01], [ 76.  , 240.  ,  31.72], [ 72.  , 175.  ,  44.28], [ 74.  , 230.  ,  36.91], [ 76.  , 223.  ,  26.54], [ 74.  , 196.  ,  29.27],\n",
    "                        [ 72.  , 167.  ,  30.51], [ 75.  , 195.  ,  31.28], [ 78.  , 190.  ,  26.51], [ 77.  , 250.  ,  34.87], [ 70.  , 190.  ,  39.28], [ 72.  , 190.  ,  28.56], [ 79.  , 190.  ,  27.82], [ 74.  , 170.  ,  25.94], [ 71.  , 160.  ,  28.53], [ 68.  , 150.  ,  22.11], [ 77.  , 225.  ,  27.71], [ 75.  , 220.  ,  37.38], [ 71.  , 209.  ,  30.67], [ 72.  , 210.  ,  30.48], [ 70.  , 176.  ,  27.12], [ 72.  , 260.  ,  22.81], [ 72.  , 195.  ,  24.46], [ 73.  , 190.  ,  34.73], [ 72.  , 184.  ,  36.53], [ 74.  , 180.  ,  24.53], [ 72.  , 195.  ,  27.17], [ 72.  , 195.  ,  26.9 ], [ 75.  , 219.  ,  33.67], [ 72.  , 225.  ,  29.14], [ 73.  , 212.  ,  32.61], [ 74.  , 202.  ,  33.87], [ 72.  , 185.  ,  24.41], [ 78.  , 200.  ,  24.94], [ 75.  , 209.  ,  27.36], [ 72.  , 200.  ,  26.33], [ 74.  , 195.  ,  25.72], [ 75.  , 228.  ,  28.7 ], [ 75.  , 210.  ,  28.53], [ 76.  , 190.  ,  26.07], [ 74.  , 212.  ,  27.31], [ 74.  , 190.  ,  23.26], [ 73.  , 218.  ,  28.62], [ 74.  , 220.  ,  32.16], [ 71.  , 190.  ,  38.43], [ 74.  , 235.  ,  31.81], [ 75.  , 210.  ,  29.1 ], [ 76.  , 200.  ,  31.28], [ 74.  , 188.  ,  29.17], [ 76.  , 210.  ,  25.89], [ 76.  , 235.  ,  26.13], [ 73.  , 188.  ,  29.13], [ 75.  , 215.  ,  28.92], [ 75.  , 216.  ,  26.01], [ 74.  , 220.  ,  24.81], [ 68.  , 180.  ,  28.79], [ 72.  , 185.  ,  33.77], [ 75.  , 200.  ,  33.85], [ 71.  , 210.  ,  27.36], [ 70.  , 220.  ,  26.01], [ 72.  , 185.  ,  29.95], [ 73.  , 231.  ,  28.12], [ 72.  , 210.  ,  32.87], [ 75.  , 195.  ,  31.2 ], [ 74.  , 200.  ,  34.14], [ 70.  , 205.  ,  36.11], [ 76.  , 200.  ,  26.31], [ 71.  , 190.  ,  27.5 ], [ 82.  , 250.  ,  27.77], [ 72.  , 185.  ,  40.88], [ 73.  , 180.  ,  25.75], [ 74.  , 170.  ,  31.41], [ 71.  , 180.  ,  30.84], [ 75.  , 208.  ,  30.57], [ 77.  , 235.  ,  39.79], [ 72.  , 215.  ,  39.38], [ 74.  , 244.  ,  29.42], [ 72.  , 220.  ,  26.19], [ 73.  , 185.  ,  23.74], [ 78.  , 230.  ,  26.03], [ 77.  , 190.  ,  28.59], [ 73.  , 200.  ,  26.77], [ 73.  , 180.  ,  27.21], [ 73.  , 190.  ,  24.87], [ 73.  , 196.  ,  30.26], [ 73.  , 180.  ,  22.34], [ 76.  , 230.  ,  26.2 ], [ 75.  , 224.  ,  28.45], [ 70.  , 160.  ,  27.63], [ 73.  , 178.  ,  25.93], [ 72.  , 205.  ,  28.94], [ 73.  , 185.  ,  26.8 ], [ 75.  , 210.  ,  22.42], [ 74.  , 180.  ,  27.26], [ 73.  , 190.  ,  28.38], [ 73.  , 200.  ,  25.23], [ 76.  , 257.  ,  28.16], [ 73.  , 190.  ,  28.48], [ 75.  , 220.  ,  26.78], [ 70.  , 165.  ,  25.24], [ 77.  , 205.  ,  27.45], [ 72.  , 200.  ,  29.05], [ 77.  , 208.  ,  29.08], [ 74.  , 185.  ,  25.84], [ 75.  , 215.  ,  25.4 ], [ 75.  , 170.  ,  26.54], \n",
    "                        [ 75.  , 235.  ,  22.73], [ 75.  , 210.  ,  28.53], [ 72.  , 170.  ,  25.37], [ 74.  , 180.  ,  25.35], [ 71.  , 170.  ,  26.43], [ 76.  , 190.  ,  25.43], [ 71.  , 150.  ,  29.23], [ 75.  , 230.  ,  30.22], [ 76.  , 203.  ,  32.3 ], [ 83.  , 260.  ,  28.42], [ 75.  , 246.  ,  25.24], [ 74.  , 186.  ,  29.13], [ 76.  , 210.  ,  24.63], [ 72.  , 198.  ,  24.95], [ 72.  , 210.  ,  28.06], [ 75.  , 215.  ,  25.86], [ 75.  , 180.  ,  27.32], [ 72.  , 200.  ,  25.91], [ 77.  , 245.  ,  26.63], [ 73.  , 200.  ,  25.95], [ 72.  , 192.  ,  29.17], [ 70.  , 192.  ,  29.19], [ 74.  , 200.  ,  28.44], [ 72.  , 192.  ,  26.36], [ 74.  , 205.  ,  28.29], [ 72.  , 190.  ,  29.45], [ 71.  , 186.  ,  25.34], [ 70.  , 170.  ,  26.86], [ 71.  , 197.  ,  26.36], [ 76.  , 219.  ,  27.39], [ 74.  , 200.  ,  25.84], [ 76.  , 220.  ,  25.08], [ 74.  , 207.  ,  23.87], [ 74.  , 225.  ,  24.68], [ 74.  , 207.  ,  24.64], [ 75.  , 212.  ,  29.19], [ 75.  , 225.  ,  28.84], [ 71.  , 170.  ,  25.33], [ 71.  , 190.  ,  24.45], [ 74.  , 210.  ,  28.32], [ 77.  , 230.  ,  32.34], [ 71.  , 210.  ,  34.97], [ 74.  , 200.  ,  32.04], [ 75.  , 238.  ,  23.49], [ 77.  , 234.  ,  26.09], [ 76.  , 222.  ,  26.41], [ 74.  , 200.  ,  26.55], [ 76.  , 190.  ,  24.62], [ 72.  , 170.  ,  28.49], [ 71.  , 220.  ,  32.61], [ 72.  , 223.  ,  28.06], [ 75.  , 210.  ,  28.08], [ 73.  , 215.  ,  37.34], [ 68.  , 196.  ,  35.25], [ 72.  , 175.  ,  24.77], [ 69.  , 175.  ,  39.85], [ 73.  , 189.  ,  35.49], [ 73.  , 205.  ,  31.84], [ 75.  , 210.  ,  26.67], [ 70.  , 180.  ,  34.75], [ 70.  , 180.  ,  28.91], [ 74.  , 197.  ,  32.73], [ 75.  , 220.  ,  35.72], [ 74.  , 228.  ,  42.6 ], [ 74.  , 190.  ,  26.22], [ 73.  , 204.  ,  21.85], [ 74.  , 165.  ,  24.28], [ 75.  , 216.  ,  22.41], [ 77.  , 220.  ,  32.56], [ 73.  , 208.  ,  32.74], [ 74.  , 210.  ,  26.39], [ 76.  , 215.  ,  28.8 ], [ 74.  , 195.  ,  28.2 ], [ 75.  , 200.  ,  26.52], [ 73.  , 215.  ,  34.52], [ 76.  , 229.  ,  34.32], [ 78.  , 240.  ,  26.98], [ 75.  , 207.  ,  28.86], [ 73.  , 205.  ,  24.96], [ 77.  , 208.  ,  25.3 ], [ 74.  , 185.  ,  27.06], [ 72.  , 190.  ,  25.44], [ 74.  , 170.  ,  25.53], [ 72.  , 208.  ,  34.87], [ 71.  , 225.  ,  24.63], [ 73.  , 190.  ,  27.99], [ 75.  , 225.  ,  27.12], [ 73.  , 185.  ,  31.14], [ 67.  , 180.  ,  30.21], [ 67.  , 165.  ,  32.11], [ 76.  , 240.  ,  31.91], [ 74.  , 220.  ,  34.44], [ 73.  , 212.  ,  36.68], [ 70.  , 163.  ,  37.66], [ 75.  , 215.  ,  30.98], [ 70.  , 175.  ,  27.07], [ 72.  , 205.  ,  29.11], [ 77.  , 210.  ,  25.82], [ 79.  , 205.  ,  25.5 ], [ 78.  , 208.  ,  29.57],\n",
    "                        [ 74.  , 215.  ,  25.37], [ 75.  , 180.  ,  33.99], [ 75.  , 200.  ,  29.86], [ 78.  , 230.  ,  31.84], [ 76.  , 211.  ,  38.31], [ 75.  , 230.  ,  34.48], [ 69.  , 190.  ,  36.88], [ 75.  , 220.  ,  32.34], [ 72.  , 180.  ,  31.58], [ 75.  , 205.  ,  28.89], [ 73.  , 190.  ,  25.08], [ 74.  , 180.  ,  25.73], [ 75.  , 205.  ,  25.19], [ 75.  , 190.  ,  31.01], [ 73.  , 195.  ,  27.92]])"
   ]
  },
  {
   "cell_type": "code",
   "execution_count": 50,
   "metadata": {},
   "outputs": [
    {
     "name": "stdout",
     "output_type": "stream",
     "text": [
      "Average: 73.6896551724138\n",
      "Median: 74.0\n",
      "Standard Deviation: 2.312791881046546\n",
      "Correlation: [[1.         0.53153932]\n",
      " [0.53153932 1.        ]]\n"
     ]
    }
   ],
   "source": [
    "# np_baseball is available\n",
    "\n",
    "# Import numpy\n",
    "import numpy as np\n",
    "\n",
    "# Print mean height (first column)\n",
    "avg = np.mean(np_baseball[:,0])\n",
    "print(\"Average: \" + str(avg))\n",
    "\n",
    "# Print median height. Replace 'None'\n",
    "med = np.median(np_baseball[:,0])\n",
    "print(\"Median: \" + str(med))\n",
    "\n",
    "# Print out the standard deviation on height. Replace 'None'\n",
    "stddev = np.std(np_baseball[:,0])\n",
    "print(\"Standard Deviation: \" + str(stddev))\n",
    "\n",
    "# Print out correlation between first and second column. Replace 'None'\n",
    "corr = np.corrcoef(np_baseball[:,0], np_baseball[:,1])\n",
    "print(\"Correlation: \" + str(corr))"
   ]
  },
  {
   "cell_type": "code",
   "execution_count": 52,
   "metadata": {},
   "outputs": [],
   "source": [
    "heights = [191, 184, 185, 180, 181, 187, 170, 179, 183, 186, 185, 170, 187, 183, 173, 188, 183, 180, 188, 175, 193, 180, 185, 170, 183, 173, 185, 185, 168, 190, 178, 185, 185, 193, 183, 184, 178, 180, 177, 188, 177, 187, 186, 183, 189, 179, 196, 190, 189, 188, 188, 188, 182, 185, 184, 178, 185, 193, 188, 179, 189, 188, 180, 178, 186, 188, 180, 185, 172, 179, 180, 174, 183, 178, 187, 178, 193, 181, 180, 187, 179, 173, 175, 188, 187, 175, 171, 179, 180, 188, 185, 196, 183, 184, 186, 178, 188, 168, 176, 178, 178, 192, 172, 170, 190, 175, 174, 179, 177, 187, 184, 185, 175, 193, 185, 191, 181, 183, 176, 176, 182, 192, 187, 170, 189, 171, 181, 183, 178, 182, 186, 191, 175, 179, 180, 181, 178, 193, 179, 181, 186, 190, 190, 192, 185, 178, 182, 171, 182, 173, 192, 175, 183, 183, 184, 176, 183, 186, 178, 185, 188, 193, 193, 170, 188, 196, 175, 180, 184, 173, 180, 190, 186, 182, 183, 195, 188, 187, 190, 180, 194, 182, 182, 183, 178, 183, 171, 185, 177, 180, 195, 173, 185, 186, 187, 178, 185, 174, 175, 176, 191, 170, 183, 180, 174, 191, 179, 178, 187, 191, 183, 180, 184, 183, 180, 185, 184, 181, 186, 185, 182, 175, 173, 175, 176, 174, 184, 177, 185, 162, 180, 171, 183, 180, 180, 191, 196, 191, 176, 186, 171, 190, 188, 180, 185, 176, 187, 188, 182, 178, 176, 175, 177, 191, 183, 189, 173, 180, 180, 185, 185, 180, 181, 183, 180, 185, 175, 175, 177, 177, 182, 167, 176, 180, 194, 180, 187, 174, 182, 174, 181, 188, 188, 180, 183, 183, 184, 188, 170, 182, 183, 170, 186, 191, 187, 188, 177, 180, 182, 174, 183, 178, 182, 190, 180, 182, 181, 180, 176, 172, 186, 180, 185, 186, 179, 185, 180, 187, 181, 185, 181, 183, 181, 175, 187, 178, 182, 182, 183, 184, 170, 178, 175, 186, 175, 178, 185, 178, 190, 187, 173, 186, 177, 193, 183, 175, 185, 179, 167, 175, 183, 188, 184, 191, 184, 170, 169, 175, 175, 185, 193, 172, 179, 180, 179, 186, 180, 176, 190, 175, 175, 186, 196, 186, 187, 182, 178, 185, 183, 191, 183, 185, 186, 180, 169, 185, 194, 186, 183, 183, 191, 189, 194, 174, 168, 185, 160, 191, 185, 186, 179, 188, 185, 189, 183, 183, 176, 183, 180, 171, 187, 175, 190, 178, 175, 181, 185, 188, 180, 171, 184, 176, 181, 183, 178, 171, 187, 186, 186, 174, 174, 186, 193, 191, 180, 181, 177, 195, 190, 185, 168, 183, 175, 191, 184, 182, 188, 182, 180, 192, 191, 185, 188, 180, 179, 183, 192, 183, 183, 180, 173, 180, 190, 183, 182, 175, 180, 178, 181, 188, 175, 180, 183, 191, 183, 180, 182, 178, 189, 183, 183, 178, 170, 178, 173, 180, 184, 180, 188, 180, 184, 191, 188, 195, 197, 186, 191, 189, 196, 185, 178, 200, 176, 184, 189, 181, 185, 184, 191, 191, 184, 190, 190, 170, 183, 183, 169, 183, 185, 178, 183, 186, 190, 186, 188, 186, 183, 179, 172, 185, 180, 183, 189, 180, 182, 185, 180, 193, 185, 175, 182, 182, 180, 185, 180, 188, 175, 183, 185, 185, 176, 189, 186, 181, 181, 185, 188, 176, 179, 178, 178, 180, 185, 183, 183, 185, 186, 185, 188, 172, 175, 186, 181, 190, 177, 184, 191, 173, 178, 180, 185, 183, 186, 175, 189, 189, 189, 189, 183, 166, 178, 175, 179, 185, 180, 190, 181, 185, 179, 185, 188, 183, 173, 180, 181, 175, 182, 177, 182, 180, 182, 184, 181, 177, 178, 180, 183, 194, 185, 191, 180, 187, 181, 183, 183, 180, 185, 178, 177, 183, 178, 173, 183, 191, 188, 188, 178, 175, 186, 183, 180, 184, 184, 194, 174, 178, 193, 175, 190, 186, 186, 180, 186, 183, 177, 180, 175, 184, 184, 178, 166, 183, 186, 168, 178, 181, 188, 187, 180, 172, 185, 186, 191, 172, 184, 186, 192, 180, 177, 183, 175, 180, 170, 180, 188, 180, 178, 196, 192, 186, 175, 184, 175, 171, 187, 170, 183, 184, 178, 187, 179, 177, 172, 180, 170, 177, 184, 185, 191, 188, 193, 183, 188, 185, 183, 185, 187, 189, 188, 174, 173, 172, 179, 171, 176, 173, 185, 183, 187, 178, 176, 187, 171, 185, 174, 186, \n",
    "           179, 192, 173, 183, 183, 183, 186, 184, 185, 171, 184, 189, 183, 173, 184, 183, 184, 184, 179, 184, 185, 181, 170, 176, 191, 173, 183, 178, 189, 183, 187, 202, 180, 183, 186, 182, 186, 182, 190, 178, 185, 181, 186, 171, 183, 185, 184, 190, 167, 175, 172, 190, 168, 180, 188, 191, 178, 178, 175, 183, 191, 183, 182, 187, 181, 175, 186, 175, 189, 180, 188, 180, 183, 179, 184, 178, 185, 185, 182, 179, 183, 170, 183, 178, 187, 184, 168, 186, 183, 179, 186, 170, 178, 184, 191, 187, 174, 178, 186, 184, 193, 188, 185, 188, 173, 175, 195, 180, 187, 182, 183, 188, 173, 197, 173, 187, 184, 190, 188, 174, 190, 185, 182, 191, 187, 193, 173, 180, 172, 176, 191, 187, 184, 184, 199, 175, 191, 190, 183, 192, 191, 189, 174, 185, 184, 185, 185, 193, 183, 189, 177, 183, 188, 170, 185, 178, 188, 178, 170, 193, 173, 173, 180, 180, 175, 173, 185, 185, 189, 176, 173, 183, 175, 179, 193, 188, 183, 183, 175, 183, 176, 180, 185, 180, 187, 180, 177, 196, 175, 176, 188, 187, 183, 173, 191, 183, 188, 186, 176, 173, 171, 179, 173, 192, 182, 180, 191, 182, 192, 185, 192, 186, 179, 178, 186, 179, 176, 182, 184, 178, 182, 182, 190, 183, 188, 187, 183, 172, 175, 182, 179, 174, 188, 186, 174, 191, 180, 188, 183, 183, 184, 180, 175, 188, 181, 188, 186, 188, 175, 188, 178, 180, 175, 185, 185, 176, 184, 173, 182, 176, 185, 194, 185, 177, 184, 171, 186, 184, 178, 180, 187, 186, 180, 190, 188, 182, 174, 193, 178, 184, 170, 166, 176, 168, 200, 180, 182, 192, 167, 186, 178, 175, 174, 188, 184, 189, 174, 193, 182, 194, 183, 170, 170, 173, 184, 178, 177, 178, 172, 169, 191, 175, 176, 178, 183, 181, 175, 191, 181, 177, 170, 180, 184, 186, 178, 191, 183, 178, 188, 180, 178, 178, 193, 177, 183, 179, 170, 183, 179, 184, 184, 174, 190, 191, 188, 180, 185, 183, 194, 183, 178, 180, 183, 171, 178, 184, 190, 185, 185, 173, 188, 185, 178, 173, 189, 194, 169, 179, 170, 183, 188, 173, 190, 182, 191, 176, 179, 192, 189, 183, 180, 178, 194, 178, 180, 185, 183, 184, 181, 184, 170, 183, 179, 179, 172, 178, 188, 187, 170, 178, 186, 180, 185, 175, 173, 175, 173, 167, 173, 181, 188, 180, 180, 184, 164, 170, 179, 179, 173, 178, 182, 187, 179, 175, 191, 180, 180, 183, 172, 187, 179, 184, 167, 182, 175, 193, 188, 189, 182, 165, 173, 181, 183, 180, 180, 183, 183, 183, 180, 173, 180, 190, 185, 183, 167, 191, 185, 185, 182, 178, 183, 183, 184, 189, 182, 186, 178, 187, 182, 185, 182, 191, 185, 185, 191, 173, 180, 168, 187, 182, 183, 183, 186, 174, 193, 188, 185, 199, 186, 174, 170, 189, 186, 176, 178, 188, 175, 178, 173, 177, 189, 178, 183, 176, 185, 198, 175, 183, 180, 194, 175, 181, 174, 183, 188, 185, 175, 174, 171, 175, 189, 182, 189, 177, 183, 185, 183, 178, 185, 177, 175, 172, 181, 170, 179, 170, 164, 166, 176, 176, 191, 169, 175, 184, 184, 168, 178, 179, 177, 185, 171, 179, 173, 182, 183, 193, 191, 189, 176, 185, 177, 172, 177, 188, 178, 185, 181, 175, 181, 183, 175, 177, 180, 181, 174, 182, 185, 173, 185, 173, 188, 189, 188, 173, 180, 182, 190, 180, 181, 174, 184, 182, 177, 182, 188, 175, 176, 184, 187, 193, 175, 185, 181, 186, 182, 180, 178, 182, 175, 184, 184, 182, 180, 182, 178, 183, 168, 183, 186, 191, 185, 177, 186, 172, 181, 176, 181, 185, 185, 182, 185, 177, 177, 180, 175, 188, 174, 177, 179, 171, 170, 185, 186, 168, 180, 185, 176, 182, 188, 180, 179, 194, 181, 181, 181, 188, 182, 177, 191, 176, 182, 183, 176, 184, 175, 196, 177, 175, 179, 187, 181, 175, 174, 178, 192, 178, 183, 182, 167, 187, 185, 179, 166, 180, 190, 176, 177, 171, 181, 187, 185, 176, 174, 179, 188, 178, 173, 188, 180, 178, 185, 177, 172, 178, 184, 193, 185, 187, 190, 188, 189, 177, 180, 175, 180, 178, 185, 194, 188, 182, 170, 176, 190, 168, 186, 172, 177, 176, 181, 185, 175, 180, 185, 186, 193, 178, \n",
    "           185, 189, 190, 185, 182, 191, 178, 187, 175, 193, 178, 182, 179, 178, 187, 174, 179, 191, 170, 178, 180, 193, 182, 176, 176, 176, 186, 187, 175, 187, 187, 176, 184, 173, 186, 190, 191, 187, 186, 196, 186, 175, 194, 184, 193, 192, 172, 179, 190, 183, 192, 182, 184, 183, 186, 172, 172, 175, 192, 187, 198, 178, 172, 190, 185, 182, 196, 185, 182, 183, 184, 188, 181, 175, 176, 175, 191, 190, 174, 184, 180, 181, 184, 177, 183, 174, 180, 175, 179, 179, 177, 177, 175, 175, 182, 188, 172, 181, 185, 176, 180, 180, 195, 178, 180, 183, 186, 185, 175, 181, 180, 186, 188, 189, 193, 190, 185, 189, 191, 187, 182, 192, 181, 170, 183, 176, 188, 191, 177, 172, 177, 188, 181, 178, 178, 168, 178, 182, 189, 174, 185, 185, 183, 186, 188, 182, 186, 174, 179, 187, 185, 177, 188, 192, 183, 172, 191, 184, 168, 186, 177, 180, 199, 189, 180, 189, 178, 172, 185, 180, 171, 190, 186, 185, 173, 178, 179, 182, 184, 182, 179, 196, 182, 185, 184, 180, 179, 178, 185, 178, 184, 173, 171, 172, 185, 184, 178, 180, 175, 185, 188, 196, 180, 173, 178, 175, 182, 188, 183, 185, 177, 183, 190, 184, 186, 175, 188, 188, 171, 183, 185, 196, 185, 170, 183, 183, 170, 173, 180, 180, 188, 185, 178, 173, 185, 185, 180, 188, 185, 177, 182, 185, 184, 177, 168, 183, 188, 188, 171, 188, 191, 186, 183, 184, 180, 177, 187, 178, 180, 179, 189, 192, 187, 186, 185, 193, 179, 185, 190, 182, 185, 180, 185, 191, 173, 191, 177, 183, 175, 198, 185, 173, 178, 180, 193, 178, 176, 175, 180, 182, 191, 175, 177, 184, 185, 185, 198, 180, 188, 176, 185, 193, 173, 173, 185, 191, 188, 178, 183, 191, 192, 178, 183, 192, 175, 180, 165, 180, 180, 178, 182, 181, 192, 186, 186, 170, 183, 186, 185, 178, 189, 189, 181, 175, 172, 187, 185, 175, 180, 178, 191, 180, 188, 193, 169, 180, 170, 185, 185, 188, 180, 175, 180, 183, 175, 177, 174, 182, 184, 180, 184, 180, 178, 183, 184, 193, 175, 174, 175, 188, 183, 185, 178, 188, 175, 172, 185, 186, 186, 182, 177, 185, 176, 175, 180, 172, 175, 182, 186, 176, 182, 175, 183, 180, 184, 190, 188, 186, 185, 172, 175, 172, 172, 182, 174, 188, 190, 194, 168, 185, 188, 183, 185, 185, 178, 171, 173, 180, 200, 178, 178, 164, 182, 186, 195, 191, 186, 185, 173, 180, 185, 177, 178, 180, 184, 186, 183, 186, 183, 174, 178, 181, 183, 185, 174, 184, 192, 181, 174, 186, 191, 180, 188, 188, 188, 182, 193, 193, 179, 183, 182, 182, 183, 184, 184, 185, 168, 175, 185, 173, 181, 184, 186, 191, 179, 181, 183, 181, 196, 184, 186, 184, 181, 188, 180, 186, 180, 183, 184, 189, 182, 185, 183, 186, 193, 188, 188, 188, 180, 193, 186, 185, 185, 183, 180, 198, 178, 178, 185, 180, 182, 182, 185, 173, 180, 185, 191, 175, 180, 174, 183, 183, 181, 190, 169, 170, 182, 172, 180, 182, 186, 183, 191, 185, 185, 178, 188, 187, 175, 180, 198, 190, 192, 183, 190, 181, 170, 189, 186, 188, 178, 186, 180, 175, 180, 163, 182, 177, 183, 177, 172, 173, 165, 172, 173, 177, 184, 183, 179, 174, 170, 192, 188, 191, 191, 185, 191, 175, 185, 185, 178, 165, 163, 180, 178, 180, 175, 179, 176, 183, 186, 180, 187, 171, 170, 177, 185, 176, 182, 176, 180, 170, 183, 183, 180, 192, 178, 178, 180, 180, 165, 168, 192, 178, 185, 179, 181, 193, 186, 175, 175, 191, 190, 175, 172, 176, 189, 184, 166, 180, 183, 193, 187, 175, 190, 184, 184, 177, 178, 176, 171, 183, 184, 176, 189, 180, 181, 170, 187, 185, 173, 183, 180, 172, 178, 183, 180, 180, 187, 178, 179, 187, 179, 181, 182, 182, 187, 180, 190, 178, 174, 190, 173, 185, 173, 189, 193, 184, 185, 171, 192, 177, 180, 174, 179, 180, 172, 196, 175, 185, 178, 175, 186, 178, 185, 188, 182, 188, 183, 189, 185, 193, 190, 177, 193, 184, 176, 181, 192, 185, 174, 193, 176, 185, 188, 179, 187, 192, 183, 188, 178, 185, 178, 169, 184, 193, 173, 185, 177, 178, 185, 186, 183, 182, 183, 178, \n",
    "           183, 165, 178, 177, 182, 180, 190, 179, 177, 184, 183, 183, 177, 179, 188, 186, 187, 175, 186, 182, 182, 189, 184, 176, 180, 172, 189, 174, 185, 190, 186, 177, 183, 180, 178, 191, 185, 178, 189, 189, 190, 185, 187, 185, 178, 176, 176, 173, 176, 188, 178, 193, 181, 197, 180, 186, 178, 184, 187, 184, 190, 185, 190, 187, 180, 184, 171, 196, 185, 176, 186, 193, 173, 178, 183, 168, 186, 184, 189, 177, 170, 189, 188, 176, 183, 178, 183, 173, 180, 181, 178, 179, 190, 177, 187, 174, 184, 179, 188, 190, 190, 176, 187, 173, 180, 168, 170, 188, 184, 180, 185, 176, 179, 180, 176, 185, 175, 170, 170, 180, 187, 172, 178, 182, 180, 181, 180, 180, 200, 186, 178, 186, 191, 176, 178, 183, 184, 175, 181, 165, 173, 171, 180, 178, 175, 185, 180, 177, 190, 178, 191, 185, 188, 173, 183, 184, 176, 177, 184, 178, 183, 180, 187, 182, 172, 166, 185, 185, 180, 197, 181, 188, 181, 178, 183, 176, 185, 178, 190, 178, 196, 188, 187, 183, 172, 183, 198, 186, 191, 184, 189, 178, 182, 182, 178, 180, 169, 177, 172, 175, 178, 187, 187, 185, 187, 173, 188, 176, 170, 185, 184, 173, 185, 180, 187, 180, 190, 180, 183, 176, 167, 171, 185, 175, 182, 186, 178, 172, 177, 175, 181, 185, 189, 182, 182, 182, 178, 185, 183, 188, 177, 178, 192, 182, 195, 183, 180, 177, 180, 178, 178, 182, 188, 182, 188, 188, 178, 178, 183, 175, 183, 179, 178, 191, 197, 180, 178, 188, 187, 185, 188, 187, 184, 183, 171, 184, 188, 185, 175, 191, 185, 183, 173, 180, 191, 183, 186, 180, 183, 193, 176, 185, 188, 188, 191, 185, 184, 176, 188, 187, 176, 193, 181, 177, 183, 184, 181, 185, 183, 192, 185, 175, 180, 183, 182, 173, 196, 180, 188, 185, 194, 172, 175, 178, 182, 193, 188, 178, 178, 178, 180, 189, 177, 186, 185, 183, 186, 176, 185, 183, 175, 178, 187, 190, 190, 184, 187, 173, 185, 173, 193, 188, 183, 185, 174, 183, 175, 180, 186, 180, 185, 178, 188, 178, 186, 188, 180, 183, 192, 185, 188, 180, 183, 185, 183, 188, 180, 174, 175, 178, 185, 180, 188, 180, 180, 185, 185, 173, 180, 183, 174, 186, 183, 180, 188, 176, 184, 180, 188, 176, 188, 173, 188, 180, 180, 178, 186, 187, 188, 176, 182, 189, 187, 184, 188, 180, 197, 178, 174, 180, 175, 170, 180, 183, 185, 180, 185, 179, 183, 185, 193, 188, 175, 190, 180, 170, 175, 185, 170, 187, 180, 179, 165, 184, 184, 183, 186, 174, 170, 180, 185, 172, 175, 175, 175, 173, 185, 173, 185, 188, 188, 185, 180, 173, 183, 181, 174, 187, 179, 194, 183, 170, 170, 173, 180, 187, 187, 187, 185, 185, 182, 170, 186, 178, 187, 180, 179, 178, 180, 180, 171, 188, 180, 186, 185, 178, 188, 187, 180, 175, 170, 183, 179, 186, 191, 172, 193, 191, 186, 175, 187, 182, 181, 169, 188, 186, 183, 183, 180, 184, 183, 171, 183, 183, 174, 191, 193, 183, 178, 167, 178, 183, 173, 180, 163, 188, 181, 188, 188, 188, 184, 191, 178, 175, 193, 185, 165, 175, 183, 191, 183, 185, 183, 185, 180, 178, 180, 174, 180, 180, 191, 178, 185, 183, 178, 178, 183, 188, 183, 183, 180, 168, 183, 183, 191, 183, 185, 182, 185, 173, 188, 178, 175, 188, 190, 182, 174, 175, 176, 188, 183, 185, 180, 182, 194, 175, 185, 176, 180, 192, 184, 183, 173, 189, 190, 187, 179, 171, 185, 178, 189, 175, 181, 196, 176, 177, 184, 183, 184, 187, 188, 183, 183, 175, 196, 188, 183, 185, 192, 191, 183, 185, 177, 174, 176, 182, 183, 181, 177, 176, 187, 180, 182, 168, 180, 183, 173, 185, 178, 172, 178, 183, 180, 174, 185, 183, 174, 186, 183, 184, 178, 184, 188, 180, 162, 183, 183, 170, 177, 190, 175, 183, 179, 175, 188, 176, 180, 188, 180, 190, 180, 175, 191, 196, 185, 175, 167, 186, 167, 185, 186, 186, 168, 165, 179, 170, 189, 175, 184, 169, 186, 182, 175, 186, 172, 181, 177, 186, 176, 193, 175, 189, 180, 170, 184, 169, 178, 173, 186, 192, 173, 184, 185, 188, 180, 175, 190, 175, 181, 166, 191, 174, 180, 185, 193, 180, \n",
    "           183, 176, 180, 178, 193, 185, 175, 185, 190, 185, 188, 185, 188, 182, 176, 193, 180, 182, 183, 184, 185, 187, 185, 172, 188, 180, 174, 176, 181, 180, 179, 171, 184, 187, 193, 193, 187, 183, 180, 184, 202, 182, 176, 175, 176, 180, 180, 185, 177, 185, 167, 178, 184, 183, 181, 190, 184, 180, 180, 183, 178, 176, 187, 171, 185, 189, 193, 184, 174, 187, 192, 180, 178, 175, 188, 175, 177, 188, 185, 180, 192, 182, 178, 185, 173, 180, 178, 170, 193, 178, 176, 181, 178, 180, 178, 178, 188, 178, 183, 188, 175, 180, 188, 189, 195, 176, 178, 173, 182, 187, 183, 176, 187, 191, 180, 185, 189, 180, 186, 182, 188, 191, 195, 186, 191, 186, 177, 179, 185, 179, 192, 180, 186, 171, 178, 178, 181, 175, 182, 185, 190, 183, 193, 182, 178, 179, 172, 185, 176, 183, 175, 185, 184, 176, 180, 186, 185, 172, 186, 173, 184, 191, 196, 188, 188, 182, 186, 184, 176, 185, 178, 184, 181, 180, 180, 174, 183, 182, 173, 175, 178, 185, 175, 190, 180, 188, 178, 182, 175, 170, 181, 186, 170, 169, 177, 180, 183, 178, 177, 172, 175, 189, 180, 182, 179, 178, 188, 197, 168, 180, 187, 173, 180, 178, 175, 183, 198, 191, 191, 169, 179, 173, 178, 174, 182, 176, 186, 178, 175, 174, 180, 185, 185, 177, 183, 187, 185, 183, 185, 178, 188, 189, 191, 178, 178, 185, 193, 178, 180, 175, 178, 183, 172, 188, 183, 183, 185, 173, 191, 183, 174, 180, 178, 185, 185, 184, 184, 198, 178, 175, 180, 180, 175, 178, 183, 186, 185, 180, 178, 179, 183, 194, 171, 183, 181, 192, 191, 176, 178, 183, 172, 174, 185, 176, 188, 193, 175, 185, 180, 193, 191, 173, 175, 175, 181, 184, 176, 175, 185, 173, 193, 180, 180, 185, 185, 191, 180, 178, 178, 183, 174, 180, 185, 175, 196, 188, 186, 180, 176, 188, 175, 185, 185, 178, 191, 185, 178, 178, 183, 175, 175, 185, 186, 181, 185, 191, 186, 176, 178, 183, 171, 172, 190, 183, 184, 175, 185, 182, 188, 183, 187, 188, 181, 178, 174, 172, 178, 173, 185, 187, 188, 174, 179, 185, 185, 175, 183, 178, 161, 172, 179, 187, 177, 184, 185, 168, 180, 178, 185, 179, 172, 185, 190, 184, 174, 185, 193, 185, 175, 176, 173, 175, 181, 178, 185, 183, 170, 187, 182, 182, 185, 184, 189, 188, 178, 196, 186, 183, 179, 169, 181, 186, 187, 158, 188, 180, 174, 178, 185, 178, 191, 180, 180, 173, 173, 173, 175, 173, 173, 171, 169, 177, 178, 190, 181, 182, 180, 180, 190, 189, 181, 177, 183, 191, 181, 180, 185, 170, 185, 178, 187, 179, 172, 185, 183, 170, 187, 175, 193, 192, 184, 188, 183, 183, 178, 178, 173, 186, 169, 188, 191, 198, 190, 178, 183, 178, 183, 179, 183, 187, 181, 178, 181, 180, 178, 174, 167, 180, 170, 183, 177, 178, 187, 176, 186, 177, 191, 178, 175, 169, 188, 168, 180, 179, 182, 180, 181, 171, 178, 176, 186, 178, 180, 178, 191, 186, 183, 179, 201, 188, 178, 176, 190, 177, 181, 180, 188, 188, 186, 188, 189, 184, 188, 177, 176, 182, 188, 178, 170, 185, 190, 190, 187, 183, 176, 176, 181, 185, 173, 184, 176, 180, 177, 184, 179, 182, 183, 181, 185, 190, 181, 172, 196, 184, 190, 178, 183, 183, 190, 185, 180, 183, 181, 188, 185, 180, 170, 188, 186, 178, 180, 175, 182, 176, 189, 183, 174, 182, 192, 188, 180, 189, 193, 188, 188, 185, 173, 188, 183, 187, 180, 188, 179, 173, 183, 178, 173, 190, 170, 181, 186, 180, 178, 178, 183, 180, 175, 183, 180, 181, 181, 180, 187, 185, 188, 184, 183, 179, 177, 184, 180, 184, 188, 170, 178, 175, 188, 175, 183, 175, 192, 186, 185, 192, 193, 182, 175, 165, 188, 182, 165, 172, 172, 185, 178, 183, 180, 187, 183, 193, 191, 182, 191, 181, 180, 176, 187, 167, 178, 186, 185, 188, 182, 178, 175, 170, 170, 178, 184, 168, 183, 187, 183, 188, 175, 180, 175, 183, 184, 180, 188, 180, 188, 183, 178, 193, 180, 186, 192, 180, 180, 175, 194, 170, 173, 178, 183, 185, 191, 176, 180, 185, 185, 193, 187, 177, 176, 180, 184, 178, 184, 176, 172, 178, 175, 170, \n",
    "           175, 187, 171, 175, 181, 180, 178, 178, 171, 185, 180, 188, 170, 184, 180, 175, 183, 178, 181, 172, 181, 174, 173, 182, 175, 196, 187, 185, 178, 173, 185, 178, 188, 192, 179, 177, 177, 185, 186, 188, 186, 182, 169, 176, 188, 189, 175, 186, 173, 174, 176, 180, 179, 178, 188, 172, 175, 190, 185, 188, 186, 183, 180, 190, 185, 185, 175, 184, 175, 178, 188, 178, 195, 192, 184, 184, 181, 185, 177, 178, 188, 173, 180, 183, 183, 183, 178, 188, 180, 185, 186, 175, 183, 192, 190, 188, 179, 185, 190, 171, 182, 175, 180, 185, 180, 180, 185, 177, 168, 168, 190, 175, 188, 182, 178, 183, 183, 173, 187, 182, 173, 186, 185, 188, 178, 178, 176, 180, 181, 185, 166, 189, 182, 179, 184, 173, 174, 178, 185, 182, 169, 183, 192, 180, 179, 180, 183, 181, 168, 185, 182, 188, 172, 183, 191, 180, 176, 173, 181, 183, 181, 179, 194, 172, 174, 173, 183, 181, 185, 181, 168, 181, 180, 193, 188, 172, 187, 180, 191, 175, 182, 172, 186, 186, 184, 174, 189, 172, 185, 185, 181, 185, 173, 185, 190, 191, 180, 179, 193, 169, 185, 188, 180, 178, 170, 183, 172, 174, 175, 187, 178, 189, 194, 170, 188, 179, 194, 187, 183, 183, 191, 170, 183, 173, 175, 185, 178, 180, 189, 168, 172, 184, 192, 174, 184, 177, 176, 179, 187, 182, 188, 184, 189, 168, 183, 178, 180, 180, 176, 174, 189, 179, 183, 186, 183, 173, 175, 183, 173, 187, 171, 178, 190, 183, 175, 191, 180, 178, 190, 167, 171, 181, 184, 173, 185, 182, 185, 175, 173, 184, 166, 181, 192, 174, 178, 178, 189, 184, 193, 183, 186, 191, 180, 183, 180, 189, 184, 185, 172, 183, 180, 185, 176, 170, 188, 187, 184, 184, 183, 185, 190, 182, 186, 190, 180, 182, 180, 183, 185, 191, 189, 178, 188, 180, 183, 173, 174, 173, 169, 178, 173, 185, 180, 186, 190, 194, 178, 193, 179, 185, 178, 184, 188, 175, 166, 179, 178, 175, 190, 183, 174, 172, 172, 187, 172, 180, 182, 193, 199, 192, 192, 167, 184, 185, 190, 184, 183, 189, 183, 183, 182, 168, 173, 184, 168, 183, 183, 179, 187, 180, 189, 185, 178, 176, 179, 182, 178, 188, 187, 182, 183, 191, 179, 190, 169, 186, 172, 186, 186, 185, 192, 186, 193, 174, 184, 187, 180, 180, 182, 172, 176, 183, 185, 179, 176, 182, 187, 184, 188, 184, 181, 190, 185, 180, 182, 183, 184, 190, 186, 176, 182, 182, 170, 186, 168, 178, 183, 198, 189, 182, 192, 165, 179, 190, 178, 170, 177, 171, 186, 183, 185, 186, 185, 187, 183, 190, 184, 181, 182, 185, 183, 184, 182, 188, 185, 184, 192, 191, 183, 173, 163, 183, 170, 180, 186, 189, 176, 183, 174, 183, 178, 175, 175, 183, 175, 178, 184, 192, 183, 170, 186, 178, 186, 180, 178, 190, 180, 180, 191, 176, 180, 170, 181, 180, 189, 188, 180, 196, 202, 195, 180, 187, 190, 178, 178, 191, 186, 175, 180, 184, 185, 186, 174, 172, 176, 191, 178, 183, 178, 184, 168, 192, 177, 177, 184, 175, 180, 179, 182, 184, 173, 180, 180, 178, 174, 186, 184, 188, 181, 173, 183, 175, 192, 183, 183, 183, 183, 196, 172, 191, 192, 170, 178, 187, 188, 185, 176, 184, 189, 180, 194, 177, 168, 184, 174, 188, 180, 184, 184, 188, 180, 185, 180, 177, 170, 194, 202, 176, 180, 170, 175, 170, 175, 188, 174, 173, 186, 178, 185, 180, 180, 174, 186, 183, 183, 177, 183, 183, 180, 180, 172, 189, 180, 178, 180, 180, 183, 187, 182, 188, 193, 183, 179, 178, 180, 179, 182, 183, 178, 176, 170, 188, 178, 185, 180, 188, 185, 192, 183, 193, 181, 175, 185, 178, 194, 187, 178, 188, 170, 170, 180, 184, 185, 175, 180, 186, 189, 195, 188, 168, 183, 193, 183, 185, 188, 183, 186, 186, 174, 175, 180, 184, 175, 175, 175, 184, 170, 180, 176, 187, 193, 184, 183, 189, 191, 178, 185, 180, 180, 191, 183, 178, 193, 178, 184, 179, 173, 188, 180, 178, 187, 179, 187, 178, 183, 175, 187, 171, 188, 171, 183, 187, 188, 176, 169, 174, 191, 177, 168, 184, 183, 191, 191, 179, 170, 177, 191, 180, 186, 196, 171, 178, 185, 186, 180, 181, \n",
    "           187, 179, 175, 172, 188, 191, 197, 193, 165, 186, 195, 186, 181, 186, 185, 182, 175, 180, 174, 180, 180, 185, 185, 173, 178, 174, 193, 181, 172, 193, 187, 186, 168, 178, 183, 178, 169, 182, 176, 174, 179, 181, 179, 183, 188, 185, 193, 185, 181, 185, 183, 183, 175, 181, 172, 181, 178, 172, 184, 188, 186, 175, 178, 160, 184, 174, 178, 191, 176, 188, 171, 177, 181, 189, 175, 181, 183, 174, 186, 187, 181, 188, 187, 186, 173, 177, 187, 179, 188, 170, 178, 185, 175, 191, 185, 183, 173, 175, 182, 184, 185, 180, 183, 188, 171, 176, 180, 186, 178, 188, 186, 186, 193, 185, 181, 178, 183, 177, 183, 183, 176, 180, 183, 185, 172, 186, 177, 188, 168, 190, 188, 176, 195, 178, 181, 179, 187, 180, 179, 182, 184, 187, 180, 170, 195, 181, 178, 190, 169, 173, 181, 191, 193, 187, 183, 191, 188, 175, 192, 181, 183, 180, 185, 182, 185, 188, 184, 182, 191, 183, 190, 194, 177, 182, 184, 181, 175, 180, 178, 184, 175, 180, 181, 170, 183, 189, 176, 183, 174, 186, 194, 184, 181, 187, 181, 180, 181, 184, 191, 180, 175, 185, 168, 176, 180, 173, 176, 179, 182, 173, 181, 188, 186, 174, 183, 175, 183, 173, 181, 189, 188, 190, 174, 174, 186, 180, 180, 188, 175, 185, 190, 183, 183, 173, 180, 188, 183, 193, 178, 177, 187, 179, 184, 187, 180, 182, 191, 180, 176, 175, 170, 190, 184, 188, 184, 187, 175, 185, 173, 183, 187, 194, 180, 183, 175, 186, 184, 180, 183, 181, 173, 183, 190, 190, 182, 188, 173, 183, 190, 173, 183, 180, 184, 188, 188, 187, 183, 184, 188, 192, 178, 190, 172, 180, 176, 186, 174, 190, 183, 186, 184, 182, 180, 173, 182, 184, 178, 188, 182, 178, 184, 193, 186, 186, 191, 180, 188, 182, 191, 189, 184, 193, 177, 177, 183, 186, 173, 185, 171, 168, 184, 170, 175, 180, 173, 170, 188, 185, 190, 179, 193, 178, 182, 180, 190, 189, 183, 181, 186, 188, 189, 188, 187, 193, 191, 186, 168, 183, 182, 192, 193, 188, 191, 180, 188, 186, 176, 184, 182, 192, 184, 180, 175, 184, 173, 177, 182, 187, 192, 185, 170, 180, 171, 174, 183, 186, 188, 182, 190, 186, 180, 190, 175, 185, 181, 172, 189, 165, 173, 170, 189, 183, 180, 174, 173, 170, 182, 181, 160, 176, 178, 163, 179, 174, 191, 176, 171, 180, 173, 190, 193, 186, 183, 181, 178, 167, 179, 178, 180, 183, 182, 171, 188, 175, 182, 180, 183, 191, 183, 188, 172, 176, 180, 194, 196, 170, 186, 175, 186, 180, 192, 169, 179, 183, 175, 183, 173, 190, 191, 180, 174, 185, 184, 186, 173, 188, 192, 176, 181, 197, 169, 174, 171, 178, 175, 174, 188, 181, 180, 175, 193, 186, 184, 175, 180, 171, 188, 180, 178, 171, 192, 194, 180, 183, 175, 180, 183, 185, 176, 185, 170, 185, 186, 183, 190, 178, 183, 179, 174, 179, 182, 183, 183, 187, 181, 164, 178, 190, 183, 191, 172, 188, 190, 183, 180, 186, 186, 183, 178, 170, 179, 175, 193, 183, 183, 175, 186, 178, 182, 183, 184, 170, 183, 182, 193, 188, 184, 187, 182, 178, 178, 183, 183, 183, 188, 194, 182, 174, 185, 175, 185, 193, 182, 187, 180, 175, 182, 187, 168, 173, 178, 191, 168, 180, 172, 178, 178, 178, 176, 183, 190, 187, 183, 185, 193, 178, 188, 170, 185, 187, 175, 175, 184, 176, 183, 185, 187, 174, 175, 190, 173, 187, 186, 178, 189, 178, 182, 178, 182, 191, 197, 176, 168, 180, 173, 183, 177, 184, 180, 186, 191, 180, 194, 182, 180, 182, 177, 178, 187, 184, 190, 185, 175, 175, 178, 184, 188, 184, 180, 187, 186, 193, 186, 195, 184, 191, 183, 168, 178, 184, 170, 187, 180, 187, 190, 173, 181, 185, 183, 188, 189, 181, 184, 178, 187, 187, 184, 173, 186, 168, 184, 181, 175, 185, 175, 208, 191, 176, 178, 192, 174, 181, 192, 176, 193, 185, 182, 179, 185, 178, 183, 180, 188, 180, 183, 184, 191, 171, 183, 178, 178, 177, 183, 178, 174, 175, 178, 185, 175, 172, 185, 185, 188, 180, 195, 180, 194, 180, 170, 183, 188, 175, 194, 180, 173, 175, 179, 184, 183, 185, 187, 182, 189, 190, 174, 170, \n",
    "           179, 174, 191, 179, 173, 172, 188, 188, 198, 172, 175, 185, 185, 173, 183, 188, 194, 183, 176, 193, 175, 187, 182, 185, 176, 178, 191, 185, 178, 185, 191, 185, 181, 178, 180, 182, 183, 177, 185, 175, 175, 185, 185, 183, 191, 184, 187, 180, 175, 180, 179, 167, 180, 180, 182, 188, 179, 178, 192, 185, 178, 183, 180, 182, 178, 188, 179, 185, 186, 186, 174, 179, 180, 179, 170, 186, 186, 189, 191, 182, 196, 185, 175, 178, 188, 180, 170, 188, 191, 179, 175, 185, 196, 181, 189, 185, 186, 178, 185, 185, 183, 193, 185, 178, 177, 174, 188, 193, 183, 183, 180, 186, 180, 185, 183, 168, 187, 191, 172, 178, 185, 185, 193, 175, 191, 165, 179, 169, 166, 180, 178, 188, 173, 179, 192, 178, 170, 176, 180, 180, 191, 185, 186, 180, 172, 170, 185, 187, 184, 190, 180, 180, 183, 174, 177, 174, 171, 186, 183, 178, 185, 185, 180, 182, 183, 184, 187, 169, 180, 175, 178, 178, 170, 193, 183, 176, 185, 188, 182, 177, 183, 191, 185, 183, 189, 177, 183, 194, 176, 171, 179, 186, 188, 165, 181, 186, 180, 183, 185, 184, 185, 180, 174, 173, 194, 182, 176, 185, 177, 176, 183, 187, 183, 184, 183, 190, 190, 181, 182, 181, 171, 183, 177, 178, 180, 180, 172, 176, 178, 179, 194, 191, 175, 188, 186, 183, 184, 186, 188, 193, 173, 181, 180, 178, 173, 183, 168, 182, 190, 188, 180, 177, 182, 180, 195, 196, 176, 182, 196, 174, 173, 182, 176, 175, 186, 180, 173, 180, 190, 176, 182, 182, 180, 162, 174, 192, 180, 183, 170, 185, 180, 187, 181, 188, 172, 172, 179, 182, 180, 181, 175, 169, 199, 180, 173, 181, 192, 177, 178, 173, 185, 179, 196, 176, 185, 187, 184, 179, 183, 188, 192, 188, 190, 185, 180, 180, 187, 182, 194, 177, 180, 183, 168, 186, 173, 197, 182, 179, 183, 194, 176, 181, 165, 186, 180, 186, 178, 187, 171, 180, 178, 177, 183, 179, 192, 189, 180, 190, 180, 168, 183, 185, 186, 183, 178, 185, 185, 180, 183, 182, 185, 183, 178, 184, 183, 181, 168, 185, 190, 165, 188, 185, 177, 192, 181, 182, 185, 190, 180, 185, 180, 185, 182, 185, 188, 182, 183, 191, 175, 172, 183, 193, 178, 183, 186, 186, 176, 187, 181, 179, 183, 179, 179, 186, 178, 183, 184, 176, 181, 185, 178, 178, 180, 188, 190, 182, 197, 172, 189, 178, 186, 192, 186, 180, 184, 185, 186, 186, 178, 190, 202, 183, 174, 166, 176, 178, 186, 189, 180, 176, 168, 175, 174, 196, 185, 190, 182, 188, 178, 173, 190, 178, 180, 180, 188, 174, 180, 188, 192, 180, 188, 176, 193, 180, 183, 187, 184, 170, 190, 173, 183, 175, 187, 182, 185, 178, 188, 170, 183, 177, 190, 173, 179, 169, 183, 191, 180, 183, 195, 178, 182, 185, 174, 173, 183, 193, 189, 171, 189, 187, 186, 179, 180, 181, 174, 183, 188, 178, 177, 183, 190, 180, 180, 175, 178, 183, 193, 170, 171, 192, 196, 179, 172, 180, 170, 186, 188, 176, 184, 192, 181, 191, 183, 189, 188, 180, 186, 177, 186, 172, 183, 185, 178, 173, 187, 180, 177, 173, 172, 185, 177, 172, 175, 187, 172, 188, 174, 177, 173, 176, 189, 167, 175, 169, 174, 178, 172, 176, 189, 180, 182, 177, 170, 173, 187, 178, 181, 187, 190, 186, 187, 187, 169, 185, 196, 188, 180, 186, 195, 181, 186, 180, 170, 183, 180, 193, 181, 189, 189, 184, 184, 179, 176, 172, 172, 180, 177, 176, 178, 190, 183, 183, 177, 188, 190, 186, 196, 186, 187, 192, 186, 180, 179, 175, 186, 176, 185, 185, 185, 181, 184, 180, 195, 183, 179, 186, 188, 188, 183, 188, 183, 175, 180, 175, 181, 181, 193, 175, 185, 175, 180, 177, 178, 172, 179, 174, 180, 176, 170, 192, 176, 177, 185, 180, 189, 188, 188, 183, 179, 189, 187, 179, 181, 180, 183, 201, 178, 180, 184, 175, 176, 198, 190, 179, 181, 177, 178, 185, 187, 185, 180, 171, 188, 177, 176, 184, 185, 191, 192, 175, 185, 172, 183, 172, 173, 182, 180, 189, 185, 183, 185, 192, 188, 183, 184, 173, 177, 176, 174, 178, 183, 192, 174, 191, 173, 173, 180, 174, 174, 176, 188, 188, 188, 173, 185, 180, \n",
    "           191, 193, 185, 186, 182, 177, 178, 178, 178, 181, 188, 175, 177, 186, 180, 178, 170, 186, 191, 174, 177, 183, 182, 183, 185, 180, 185, 175, 172, 184, 177, 187, 181, 167, 182, 182, 190, 187, 185, 183, 178, 187, 178, 188, 196, 175, 183, 175, 175, 173, 180, 180, 185, 191, 179, 176, 182, 180, 175, 180, 180, 180, 181, 179, 182, 178, 183, 173, 180, 180, 180, 190, 185, 197, 174, 187, 171, 186, 183, 183, 176, 183, 186, 180, 177, 173, 185, 177, 175, 180, 193, 179, 178, 180, 177, 183, 193, 192, 180, 175, 195, 184, 180, 181, 183, 189, 176, 190, 187, 180, 188, 185, 183, 178, 180, 188, 179, 188, 181, 198, 191, 193, 180, 180, 173, 186, 193, 173, 180, 170, 188, 180, 177, 186, 176, 178, 175, 190, 188, 180, 173, 188, 179, 185, 187, 173, 180, 171, 173, 176, 174, 183, 178, 179, 186, 184, 175, 184, 174, 188, 185, 184, 186, 191, 185, 178, 182, 186, 185, 185, 178, 193, 183, 182, 185, 185, 196, 180, 178, 191, 187, 177, 170, 190, 181, 188, 194, 180, 175, 181, 188, 178, 192, 178, 185, 190, 183, 172, 181, 192, 190, 182, 185, 188, 181, 185, 168, 180, 176, 180, 174, 178, 179, 187, 183, 180, 184, 173, 183, 177, 172, 171, 186, 190, 187, 191, 187, 189, 177, 182, 187, 178, 184, 173, 188, 184, 175, 170, 186, 184, 189, 195, 182, 175, 175, 186, 174, 178, 174, 196, 192, 176, 182, 182, 194, 175, 175, 182, 184, 177, 178, 177, 182, 175, 185, 170, 185, 173, 188, 185, 173, 179, 177, 183, 178, 182, 185, 197, 191, 173, 171, 183, 181, 180, 181, 178, 189, 180, 172, 184, 188, 173, 183, 174, 190, 187, 182, 178, 174, 165, 187, 176, 176, 183, 188, 175, 183, 182, 186, 180, 183, 192, 185, 168, 184, 174, 176, 184, 186, 193, 185, 180, 174, 191, 190, 189, 190, 183, 177, 183, 183, 186, 180, 185, 185, 170, 176, 186, 175, 191, 173, 173, 176, 185, 176, 175, 183, 175, 189, 184, 181, 183, 175, 184, 190, 179, 178, 192, 184, 173, 180, 188, 188, 190, 179, 177, 190, 182, 203, 190, 183, 180, 189, 194, 180, 184, 185, 180, 187, 194, 173, 187, 173, 180, 185, 190, 179, 178, 194, 186, 180, 186, 176, 195, 182, 170, 163, 175, 178, 176, 181, 178, 178, 180, 185, 179, 192, 190, 177, 185, 175, 178, 176, 175, 172, 187, 190, 167, 193, 183, 173, 183, 175, 196, 180, 172, 187, 182, 180, 175, 171, 190, 180, 184, 177, 191, 186, 183, 185, 181, 192, 176, 166, 187, 180, 174, 181, 194, 176, 184, 187, 183, 183, 184, 180, 191, 178, 172, 174, 185, 178, 185, 172, 181, 183, 170, 175, 189, 191, 180, 176, 177, 184, 173, 178, 175, 194, 196, 184, 180, 181, 188, 180, 187, 175, 176, 179, 189, 177, 181, 177, 179, 193, 196, 187, 183, 179, 183, 182, 173, 188, 188, 175, 191, 185, 186, 187, 174, 188, 184, 182, 193, 175, 191, 185, 183, 185, 192, 177, 181, 182, 189, 184, 183, 169, 173, 197, 182, 178, 181, 185, 185, 173, 175, 181, 178, 179, 170, 180, 182, 169, 185, 185, 173, 174, 186, 178, 190, 178, 194, 180, 180, 189, 172, 171, 173, 186, 178, 178, 190, 175, 178, 179, 185, 191, 172, 179, 178, 172, 184, 183, 178, 178, 178, 186, 178, 185, 188, 186, 187, 188, 181, 193, 184, 187, 181, 181, 174, 175, 178, 178, 193, 173, 188, 176, 178, 173, 178, 185, 178, 178, 175, 180, 169, 192, 181, 176, 193, 185, 176, 185, 176, 180, 179, 187, 184, 178, 170, 175, 178, 178, 185, 180, 175, 185, 176, 175, 179, 177, 175, 180, 185, 191, 181, 171, 188, 188, 196, 187, 185, 192, 169, 190, 196, 179, 182, 180, 192, 186, 180, 191, 179, 169, 167, 183, 175, 180, 193, 191, 187, 190, 180, 191, 188, 181, 177, 173, 170, 184, 185, 175, 194, 180, 174, 180, 190, 191, 170, 182, 185, 174, 191, 181, 180, 188, 183, 183, 183, 167, 191, 170, 191, 191, 180, 181, 165, 176, 191, 191, 170, 190, 185, 183, 186, 176, 181, 188, 170, 178, 178, 188, 188, 183, 175, 175, 187, 191, 173, 184, 183, 191, 194, 184, 176, 180, 175, 181, 182, 178, 170, 183, 177, 191, 191, 176, 177, \n",
    "           178, 181, 183, 173, 188, 173, 180, 191, 175, 185, 175, 188, 193, 176, 186, 178, 185, 183, 194, 183, 184, 188, 188, 180, 188, 182, 188, 185, 168, 176, 196, 178, 185, 185, 172, 183, 188, 181, 184, 188, 183, 171, 184, 183, 193, 188, 168, 183, 181, 178, 182, 178, 180, 188, 191, 168, 185, 190, 175, 181, 182, 180, 177, 181, 163, 183, 182, 180, 178, 178, 178, 171, 182, 180, 193, 180, 178, 177, 175, 183, 193, 188, 180, 185, 190, 193, 190, 166, 182, 178, 167, 176, 173, 175, 185, 177, 178, 186, 173, 180, 183, 191, 187, 183, 180, 183, 181, 177, 177, 190, 180, 185, 186, 187, 196, 189, 173, 185, 183, 175, 188, 193, 180, 185, 170, 178, 182, 188, 175, 172, 183, 175, 181, 178, 182, 183, 175, 187, 170, 188, 178, 182, 188, 167, 188, 185, 187, 184, 183, 180, 191, 183, 175, 182, 191, 178, 172, 185, 180, 190, 191, 180, 175, 173, 178, 185, 188, 179, 177, 185, 193, 180, 183, 185, 188, 190, 187, 179, 189, 178, 182, 189, 184, 186, 178, 192, 184, 175, 187, 185, 180, 177, 185, 183, 185, 175, 187, 188, 184, 183, 179, 182, 193, 189, 183, 180, 194, 187, 165, 177, 180, 190, 174, 178, 178, 185, 185, 194, 185, 191, 193, 173, 185, 180, 178, 185, 188, 186, 180, 180, 180, 180, 190, 179, 179, 192, 197, 183, 168, 180, 180, 188, 179, 178, 180, 183, 178, 185, 177, 185, 180, 179, 190, 180, 183, 192, 189, 178, 178, 174, 170, 176, 170, 195, 178, 187, 178, 183, 167, 178, 178, 170, 180, 180, 180, 185, 175, 183, 180, 173, 185, 180, 175, 185, 178, 175, 184, 184, 179, 174, 189, 176, 184, 180, 182, 188, 180, 173, 186, 179, 188, 184, 180, 178, 178, 181, 185, 182, 180, 180, 188, 172, 183, 191, 181, 178, 191, 191, 178, 173, 188, 179, 180, 193, 179, 185, 178, 179, 183, 168, 183, 184, 180, 203, 173, 180, 170, 193, 175, 175, 178, 191, 174, 188, 167, 173, 183, 184, 183, 187, 177, 176, 184, 185, 184, 180, 181, 193, 175, 177, 184, 185, 189, 179, 182, 173, 165, 184, 191, 175, 185, 187, 170, 184, 178, 174, 179, 178, 181, 194, 179, 185, 180, 178, 184, 178, 188, 176, 191, 174, 180, 180, 182, 180, 192, 188, 172, 168, 177, 165, 194, 174, 181, 177, 174, 180, 177, 191, 179, 194, 185, 176, 194, 187, 187, 173, 188, 178, 185, 180, 177, 176, 185, 182, 182, 185, 169, 179, 179, 182, 176, 172, 171, 190, 175, 178, 190, 180, 191, 179, 187, 189, 180, 188, 178, 187, 181, 189, 185, 178, 190, 189, 175, 185, 176, 180, 185, 186, 188, 198, 182, 192, 182, 190, 182, 189, 191, 183, 192, 181, 180, 178, 181, 191, 182, 178, 173, 192, 188, 180, 175, 187, 187, 182, 185, 182, 185, 180, 189, 177, 182, 172, 184, 174, 184, 168, 175, 180, 183, 175, 174, 185, 185, 195, 178, 180, 180, 182, 179, 172, 187, 181, 165, 177, 198, 180, 179, 174, 180, 183, 191, 196, 182, 180, 185, 181, 178, 176, 179, 191, 188, 176, 175, 178, 190, 192, 185, 180, 174, 175, 175, 178, 181, 193, 173, 185, 170, 190, 189, 182, 180, 180, 175, 180, 179, 185, 182, 179, 182, 185, 174, 177, 173, 186, 182, 191, 171, 183, 192, 185, 184, 180, 183, 178, 170, 183, 185, 190, 179, 191, 173, 182, 191, 171, 186, 173, 175, 183, 187, 180, 178, 197, 187, 171, 179, 186, 178, 180, 175, 177, 176, 183, 183, 173, 180, 170, 178, 170, 176, 189, 185, 180, 180, 178, 176, 175, 180, 183, 170, 178, 180, 184, 181, 178, 180, 177, 178, 178, 176, 179, 188, 184, 185, 179, 190, 170, 190, 187, 183, 185, 185, 187, 177, 185, 175, 179, 181, 180, 176, 162, 179, 193, 185, 176, 178, 183, 177, 182, 177, 182, 174, 175, 180, 184, 178, 188, 180, 183, 185, 182, 177, 176, 183, 187, 197, 187, 180, 182, 182, 182, 186, 185, 172, 174, 181, 186, 189, 175, 178, 193, 180, 174, 182, 180, 193, 180, 181, 173, 188, 187, 174, 171, 180, 178, 180, 179, 191, 183, 185, 178, 183, 178, 191, 181, 184, 172, 187, 180, 180, 190, 184, 188, 188, 188, 183, 179, 182, 176, 178, 173, 185, 185, 189, 178, 188, 178, \n",
    "           176, 181, 167, 180, 185, 180, 183, 189, 194, 185, 190, 185, 179, 178, 173, 177, 180, 178, 175, 183, 170, 179, 186, 188, 186, 175, 179, 177, 186, 176, 173, 183, 178, 178, 186, 180, 185, 173, 171, 172, 188, 183, 182, 187, 176, 173, 185, 180, 183, 170, 180, 193, 175, 174, 177, 188, 180, 182, 186, 187, 186, 180, 184, 190, 165, 193, 189, 180, 175, 188, 180, 169, 183, 173, 183, 179, 189, 182, 186, 179, 182, 179, 181, 182, 181, 175, 190, 184, 183, 183, 186, 186, 173, 180, 188, 175, 181, 179, 183, 186, 173, 168, 184, 183, 178, 193, 178, 177, 189, 178, 176, 182, 174, 180, 179, 180, 183, 173, 183, 185, 185, 188, 188, 173, 160, 174, 182, 178, 183, 178, 183, 193, 188, 175, 196, 175, 185, 185, 183, 185, 183, 180, 165, 175, 183, 183, 183, 178, 180, 178, 173, 179, 186, 187, 185, 175, 173, 175, 191, 188, 195, 191, 185, 187, 178, 176, 184, 185, 177, 175, 170, 175, 181, 194, 186, 175, 174, 176, 188, 174, 173, 191, 182, 176, 173, 190, 181, 173, 188, 170, 194, 178, 177, 181, 186, 180, 191, 179, 178, 180, 178, 175, 181, 170, 182, 184, 182, 180, 175, 178, 168, 175, 188, 183, 184, 188, 185, 185, 190, 172, 183, 168, 180, 185, 173, 184, 172, 164, 185, 183, 191, 181, 175, 191, 178, 180, 180, 180, 175, 182, 185, 191, 175, 185, 183, 176, 173, 182, 183, 179, 192, 183, 182, 199, 188, 185, 196, 185, 178, 183, 188, 187, 183, 184, 184, 185, 188, 177, 180, 194, 187, 175, 191, 186, 178, 178, 191, 185, 180, 173, 179, 170, 183, 196, 180, 193, 188, 178, 173, 178, 179, 181, 178, 179, 176, 181, 194, 177, 184, 184, 179, 178, 180, 185, 178, 188, 174, 187, 177, 179, 170, 181, 186, 176, 180, 177, 190, 185, 180, 179, 189, 185, 175, 182, 184, 180, 182, 180, 187, 184, 187, 177, 194, 186, 176, 179, 184, 170, 185, 175, 177, 178, 182, 174, 180, 188, 175, 189, 180, 188, 183, 191, 172, 183, 189, 179, 188, 171, 180, 193, 183, 176, 182, 170, 183, 182, 178, 183, 179, 179, 178, 178, 188, 186, 175, 193, 178, 180, 176, 180, 186, 170, 169, 180, 179, 178, 180, 186, 178, 180, 178, 185, 178, 188, 193, 180, 178, 189, 180, 175, 192, 191, 183, 185, 180, 182, 183, 189, 176, 178, 183, 188, 170, 182, 183, 171, 171, 180, 178, 178, 176, 174, 187, 180, 187, 175, 188, 184, 194, 175, 173, 193, 176, 174, 197, 191, 173, 177, 175, 182, 181, 179, 189, 176, 172, 175, 186, 170, 178, 181, 180, 185, 178, 185, 185, 192, 187, 185, 185, 180, 182, 185, 180, 177, 190, 179, 190, 192, 183, 179, 183, 193, 193, 187, 178, 183, 168, 182, 186, 177, 189, 175, 183, 172, 168, 180, 193, 193, 193, 180, 181, 193, 175, 171, 183, 178, 183, 184, 178, 180, 180, 180, 180, 178, 177, 189, 175, 180, 183, 186, 178, 191, 184, 190, 181, 177, 178, 172, 189, 193, 187, 193, 181, 185, 193, 183, 192, 175, 171, 190, 169, 181, 188, 187, 188, 183, 182, 179, 178, 170, 190, 199, 180, 190, 186, 183, 190, 181, 180, 175, 177, 190, 178, 181, 182, 178, 191, 184, 181, 187, 174, 178, 183, 184, 180, 185, 185, 199, 173, 180, 180, 172, 183, 175, 175, 181, 184, 182, 182, 184, 174, 180, 178, 186, 187, 180, 183, 185, 183, 193, 185, 179, 197, 185, 171, 188, 183, 187, 188, 175, 186, 188, 188, 165, 184, 180, 191, 194, 182, 169, 191, 176, 183, 173, 182, 184, 191, 173, 173, 180, 171, 174, 170, 191, 186, 190, 188, 180, 186, 182, 173, 180, 175, 190, 183, 180, 195, 175, 182, 186, 172, 189, 170, 182, 185, 182, 170, 192, 175, 183, 187, 190, 175, 178, 191, 170, 180, 183, 174, 186, 186, 185, 180, 180, 175, 182, 193, 177, 176, 178, 180, 170, 190, 183, 178, 185, 177, 180, 180, 190, 185, 193, 180, 195, 182, 187, 189, 176, 179, 178, 180, 194, 194, 183, 171, 185, 189, 185, 183, 190, 181, 186, 175, 185, 179, 178, 181, 182, 188, 176, 182, 175, 188, 188, 178, 196, 173, 180, 190, 166, 176, 180, 185, 188, 174, 185, 189, 188, 176, 181, 190, 175, 180, 178, 188, 178, \n",
    "           178, 181, 189, 185, 178, 175, 183, 188, 186, 173, 191, 185, 195, 184, 175, 198, 185, 185, 170, 180, 185, 175, 185, 179, 186, 183, 176, 183, 180, 177, 187, 171, 183, 183, 185, 170, 181, 188, 177, 181, 183, 191, 195, 178, 194, 182, 174, 187, 182, 183, 193, 182, 185, 183, 176, 177, 178, 177, 179, 186, 185, 180, 184, 178, 180, 178, 185, 183, 185, 178, 188, 178, 187, 187, 178, 170, 180, 181, 192, 173, 183, 183, 180, 185, 183, 175, 183, 187, 171, 182, 185, 191, 179, 185, 183, 180, 190, 176, 175, 175, 182, 179, 175, 192, 179, 178, 182, 176, 180, 187, 185, 183, 180, 186, 171, 189, 191, 184, 186, 189, 180, 180, 192, 188, 176, 190, 183, 181, 178, 183, 178, 180, 183, 184, 180, 177, 193, 172, 191, 180, 184, 190, 178, 178, 182, 193, 184, 194, 180, 182, 186, 183, 166, 177, 190, 185, 187, 190, 178, 196, 190, 182, 183, 183, 173, 185, 184, 195, 181, 183, 183, 191, 186, 182, 191, 175, 172, 190, 185, 183, 187, 185, 179, 186, 184, 167, 184, 174, 184, 179, 185, 185, 180, 190, 191, 185, 185, 180, 191, 188, 190, 186, 173, 188, 193, 188, 179, 180, 175, 186, 187, 186, 183, 175, 181, 179, 190, 169, 184, 196, 183, 190, 189, 194, 186, 170, 175, 180, 181, 187, 184, 187, 166, 185, 183, 177, 184, 175, 178, 186, 186, 183, 187, 173, 180, 172, 185, 182, 184, 188, 175, 175, 182, 175, 188, 185, 188, 183, 182, 180, 194, 186, 187, 173, 190, 182, 185, 187, 180, 177, 180, 196, 177, 191, 190, 193, 182, 169, 190, 175, 182, 193, 170, 174, 174, 170, 181, 181, 191, 180, 183, 171, 180, 180, 191, 178, 178, 188, 180, 175, 169, 191, 180, 188, 173, 188, 191, 189, 188, 185, 196, 188, 188, 188, 176, 191, 171, 180, 183, 180, 196, 183, 180, 170, 182, 181, 193, 172, 175, 194, 178, 189, 184, 185, 185, 177, 163, 190, 175, 201, 191, 184, 193, 175, 183, 183, 178, 191, 193, 194, 178, 181, 180, 183, 175, 182, 183, 178, 178, 178, 181, 173, 186, 184, 193, 175, 175, 185, 179, 175, 182, 178, 175, 187, 173, 180, 180, 185, 178, 176, 179, 189, 183, 184, 173, 178, 178, 176, 193, 183, 182, 170, 185, 185, 198, 180, 173, 182, 187, 188, 175, 168, 185, 182, 174, 190, 179, 181, 183, 185, 180, 185, 178, 188, 182, 179, 175, 189, 179, 179, 181, 193, 188, 186, 188, 183, 183, 178, 182, 180, 177, 179, 181, 177, 181, 175, 175, 185, 191, 188, 181, 186, 194, 191, 179, 188, 193, 185, 178, 185, 191, 180, 164, 186, 190, 174, 181, 173, 191, 182, 178, 178, 173, 178, 180, 177, 193, 168, 184, 185, 185, 175, 191, 180, 184, 190, 188, 185, 188, 170, 180, 177, 188, 196, 168, 183, 191, 191, 185, 188, 174, 170, 178, 180, 193, 170, 182, 176, 173, 170, 183, 180, 183, 173, 183, 185, 191, 179, 180, 173, 183, 173, 181, 185, 192, 191, 198, 185, 183, 178, 191, 185, 174, 178, 180, 191, 181, 191, 178, 182, 178, 175, 174, 175, 190, 175, 183, 175, 193, 173, 184, 178, 183, 191, 178, 174, 189, 174, 193, 180, 178, 189, 175, 185, 180, 185, 177, 173, 186, 173, 178, 175, 175, 183, 188, 188, 193, 188, 170, 183, 175, 175, 183, 180, 185, 185, 185, 173, 180, 180, 178, 182, 183, 185, 180, 175, 178, 193, 183, 185, 183, 178, 180, 187, 178, 180, 178, 191, 188, 185, 183, 177, 170, 188, 173, 182, 186, 185, 185, 186, 185, 184, 182, 188, 192, 183, 185, 173, 196, 182, 176, 181, 185, 188, 185, 183, 184, 188, 173, 186, 178, 188, 179, 191, 191, 188, 183, 176, 186, 175, 180, 183, 180, 185, 185, 187, 183, 180, 170, 181, 182, 181, 185, 168, 184, 191, 184, 183, 194, 190, 189, 181, 177, 190, 179, 186, 178, 190, 175, 192, 191, 183, 191, 184, 174, 192, 187, 178, 176, 175, 191, 179, 188, 178, 171, 180, 182, 173, 177, 192, 183, 175, 182, 178, 188, 192, 183, 186, 188, 180, 191, 180, 173, 191, 185, 181, 175, 180, 178, 175, 184, 179, 171, 180, 182, 174, 190, 170, 179, 175, 178, 177, 178, 171, 188, 173, 179, 182, 183, 185, 165, 182, 194, 181, 176, 180, \n",
    "           172, 187, 178, 187, 180, 182, 174, 196, 196, 175, 189, 175, 183, 179, 179]"
   ]
  },
  {
   "cell_type": "code",
   "execution_count": 53,
   "metadata": {},
   "outputs": [],
   "source": [
    "positions = ['GK', 'M', 'A', 'D', 'M', 'D', 'M', 'M', 'M', 'A', 'M', 'M', 'A', 'A', 'A', 'M', 'D', 'A', 'D', 'M', 'GK', 'D', 'D', 'M', 'M', 'M', 'M', 'D', 'M', 'GK', 'D', 'GK', 'D', 'D', 'M', 'A', 'M', 'D', 'M', 'GK', 'M', 'GK', 'A', 'D', 'GK', 'A', 'GK', 'GK', 'GK', 'GK', 'A', 'D', 'A', 'D', 'D', 'M', 'D', 'M', 'D', 'D', 'GK', 'GK', 'D', 'M', 'M', 'GK', 'M', 'D', 'M', 'M', 'D', 'D', 'M', 'M', 'D', 'A', 'A', 'M', 'M', 'M', 'A', 'D', 'D', 'A', 'A', 'M', 'M', 'M', 'D', 'D', 'A', 'A', 'D', 'M', 'M', 'M', 'D', 'M', 'M', 'D', 'M', 'A', 'M', 'M', 'GK', 'M', 'D', 'M', 'M', 'D', 'M', 'M', 'A', 'GK', 'D', 'M', 'GK', 'M', 'M', 'M', 'M', 'D', 'D', 'M', 'D', 'M', 'D', 'M', 'M', 'A', 'M', 'GK', 'A', 'M', 'D', 'M', 'D', 'GK', 'D', 'D', 'M', 'A', 'GK', 'M', 'D', 'A', 'D', 'A', 'A', 'M', 'D', 'M', 'A', 'GK', 'D', 'M', 'GK', 'A', 'D', 'D', 'D', 'GK', 'GK', 'M', 'D', 'GK', 'D', 'M', 'GK', 'A', 'D', 'GK', 'GK', 'D', 'M', 'GK', 'D', 'D', 'D', 'M', 'D', 'M', 'D', 'D', 'A', 'D', 'D', 'D', 'M', 'M', 'A', 'D', 'M', 'M', 'D', 'M', 'A', 'A', 'D', 'A', 'GK', 'M', 'A', 'A', 'D', 'D', 'A', 'D', 'GK', 'D', 'M', 'D', 'D', 'M', 'M', 'GK', 'D', 'M', 'GK', 'GK', 'D', 'M', 'D', 'D', 'M', 'A', 'D', 'D', 'M', 'A', 'A', 'A', 'A', 'A', 'M', 'D', 'D', 'A', 'M', 'GK', 'M', 'GK', 'A', 'A', 'GK', 'M', 'D', 'M', 'D', 'D', 'M', 'M', 'A', 'A', 'D', 'D', 'D', 'M', 'M', 'GK', 'D', 'M', 'M', 'D', 'D', 'D', 'M', 'M', 'M', 'D', 'M', 'A', 'A', 'D', 'D', 'M', 'GK', 'A', 'D', 'D', 'D', 'GK', 'D', 'M', 'D', 'A', 'A', 'GK', 'A', 'D', 'M', 'M', 'GK', 'A', 'A', 'M', 'D', 'A', 'M', 'M', 'M', 'D', 'D', 'D', 'M', 'D', 'A', 'M', 'M', 'M', 'A', 'M', 'M', 'D', 'M', 'D', 'M', 'M', 'A', 'D', 'D', 'M', 'A', 'D', 'D', 'M', 'M', 'M', 'D', 'M', 'D', 'A', 'D', 'D', 'M', 'D', 'A', 'D', 'D', 'GK', 'M', 'M', 'M', 'GK', 'M', 'A', 'D', 'D', 'M', 'A', 'GK', 'M', 'D', 'A', 'M', 'A', 'A', 'A', 'M', 'GK', 'A', 'A', 'M', 'A', 'D', 'D', 'D', 'A', 'GK', 'D', 'D', 'D', 'D', 'GK', 'A', 'GK', 'D', 'D', 'M', 'GK', 'D', 'D', 'D', 'A', 'D', 'D', 'GK', 'D', 'D', 'D', 'GK', 'D', 'GK', 'A', 'M', 'A', 'M', 'A', 'D', 'D', 'D', 'GK', 'GK', 'GK', 'M', 'A', 'M', 'D', 'M', 'A', 'GK', 'M', 'D', 'M', 'M', 'D', 'A', 'GK', 'M', 'A', 'GK', 'GK', 'M', 'A', 'A', 'M', 'GK', 'GK', 'D', 'M', 'A', 'D', 'A', 'D', 'D', 'A', 'D', 'M', 'D', 'D', 'M', 'D', 'A', 'GK', 'D', 'D', 'GK', 'A', 'D', 'D', 'GK', 'D', 'A', 'M', 'A', 'A', 'GK', 'D', 'A', 'D', 'A', 'D', 'GK', 'D', 'D', 'A', 'A', 'M', 'A', 'GK', 'M', 'D', 'A', 'D', 'M', 'M', 'D', 'M', 'GK', 'D', 'M', 'A', 'A', 'M', 'M', 'M', 'GK', 'GK', 'D', 'A', 'M', 'GK', 'D', 'M', 'GK', 'M', 'M', 'GK', 'M', 'D', 'A', 'D', 'M', 'M', 'A', 'M', 'GK', 'A', 'GK', 'A', 'M', 'GK', 'GK', 'D', 'D', 'M', 'M', 'D', 'GK', 'A', 'M', 'GK', 'A', 'GK', 'D', 'D', 'M', 'M', 'M', 'D', 'M', 'M', 'GK', 'M', 'D', 'M', 'D', 'GK', 'M', 'A', 'GK', 'A', 'M', 'M', 'A', 'M', 'M', 'A', 'A', 'A', 'M', 'GK', 'D', 'D', 'M', 'D', 'GK', 'D', 'M', 'M', 'M', 'A', 'D', 'A', 'D', 'A', 'M', 'M', 'D', 'M', 'M', 'D', 'D', 'GK', 'M', 'A', 'GK', 'A', 'A', 'M', 'D', 'GK', 'D', 'M', 'M', 'GK', 'GK', 'D', 'D', 'M', 'D', 'M', 'M', 'M', 'M', 'GK', 'M', 'D', 'M', 'D', 'GK', 'A', 'M', 'D', 'M', 'A', 'A', 'D', 'D', 'D', 'M', 'GK', 'D', 'A', 'M', 'D', 'A', 'GK', 'M', 'D', 'M', 'D', 'A', 'A', 'M', 'A', 'D', 'D', 'M', 'A', 'M', 'M', 'A', 'D', 'GK', 'A', 'M', 'D', 'M', 'A', 'D', 'D', 'D', 'GK', 'D', 'M', 'GK', 'M', 'M', 'GK', 'M', 'M', 'D', 'M', 'D', 'D', 'M', 'D', 'A', 'M', 'D', 'D', 'GK', 'D', 'M', 'M', 'GK', 'GK', 'M', 'D', 'D', 'A', 'GK', 'D', 'D', 'D', 'GK', 'A', 'A', 'D', 'A', 'D', 'M', 'D', 'D', 'A', 'M', 'GK', 'D', 'M', 'D', 'M', 'A', 'A', 'GK', 'M', 'D', 'A', 'D', 'D', 'M', 'A', 'A', 'D', 'M', 'M', 'D', 'A', 'D', 'M', 'A', 'M', 'D', 'D', 'D', 'A', 'GK', 'D', 'D', 'M', 'M', 'A', 'M', 'A', 'D', 'M', 'A', 'A', 'GK', 'A', 'D', 'A', 'M', 'A', 'D', 'D', 'D', 'GK', 'A', 'D', 'D', 'D', 'A', 'A', 'A', 'M', 'GK', 'GK', 'D', 'A', 'GK', 'D', 'A', 'M', 'M', 'D', 'GK', 'M', 'A', 'M', 'D', 'M', 'M', 'M', 'D', 'A', 'GK', 'GK', 'D', 'M', 'D', 'D', 'D', 'M', 'GK', 'M', 'D', 'D', 'D', 'A', 'A', 'GK', 'D', 'D', 'M', 'M', 'D', 'D', 'M', 'M', 'D', 'A', 'M', 'D', 'M', 'M', 'M', 'A', 'GK', 'D', 'D', 'D', 'A', 'M', 'M', 'A', 'M', 'M', 'D', 'M', 'D', 'M', 'A', 'D', 'D', 'M', 'M', 'M', 'D', 'M', 'M', 'D', 'M', 'M', 'M', 'D', 'D', 'A', 'D', 'A', 'A', 'D', 'D', 'M', 'M', 'A', 'A', 'GK', 'A', 'GK', 'M', 'M', 'GK', 'D', 'GK', 'A', 'GK', \n",
    "             'D', 'M', 'GK', 'M', 'D', 'D', 'D', 'GK', 'M', 'GK', 'D', 'D', 'D', 'D', 'GK', 'A', 'M', 'M', 'D', 'GK', 'GK', 'GK', 'D', 'D', 'M', 'D', 'D', 'GK', 'D', 'A', 'D', 'M', 'D', 'D', 'D', 'M', 'D', 'M', 'D', 'M', 'D', 'D', 'M', 'M', 'D', 'D', 'A', 'M', 'D', 'M', 'A', 'M', 'D', 'A', 'M', 'D', 'GK', 'D', 'D', 'A', 'D', 'M', 'D', 'GK', 'A', 'D', 'A', 'M', 'A', 'A', 'GK', 'D', 'M', 'D', 'A', 'D', 'A', 'M', 'M', 'D', 'D', 'D', 'A', 'GK', 'A', 'D', 'M', 'M', 'M', 'D', 'A', 'A', 'D', 'D', 'M', 'D', 'D', 'D', 'GK', 'D', 'M', 'D', 'D', 'A', 'D', 'M', 'M', 'M', 'M', 'A', 'M', 'M', 'D', 'A', 'M', 'D', 'M', 'M', 'M', 'M', 'M', 'GK', 'D', 'M', 'A', 'D', 'D', 'M', 'M', 'M', 'A', 'M', 'GK', 'A', 'A', 'GK', 'A', 'A', 'GK', 'M', 'D', 'M', 'D', 'A', 'D', 'D', 'M', 'D', 'M', 'D', 'D', 'M', 'D', 'D', 'A', 'A', 'A', 'M', 'A', 'D', 'D', 'M', 'A', 'GK', 'D', 'M', 'A', 'D', 'GK', 'D', 'M', 'M', 'A', 'D', 'M', 'D', 'D', 'D', 'GK', 'M', 'A', 'A', 'A', 'D', 'GK', 'M', 'GK', 'M', 'GK', 'GK', 'M', 'M', 'M', 'D', 'GK', 'D', 'A', 'A', 'A', 'A', 'A', 'D', 'M', 'D', 'D', 'M', 'D', 'A', 'A', 'M', 'D', 'GK', 'D', 'M', 'A', 'D', 'D', 'A', 'M', 'M', 'D', 'D', 'A', 'D', 'M', 'D', 'A', 'A', 'D', 'M', 'M', 'GK', 'D', 'A', 'A', 'A', 'D', 'D', 'GK', 'M', 'M', 'A', 'M', 'M', 'GK', 'D', 'D', 'D', 'A', 'GK', 'M', 'D', 'M', 'D', 'GK', 'M', 'A', 'M', 'D', 'A', 'M', 'GK', 'D', 'D', 'A', 'M', 'D', 'M', 'GK', 'M', 'M', 'GK', 'A', 'M', 'D', 'D', 'A', 'D', 'A', 'D', 'D', 'M', 'M', 'D', 'M', 'GK', 'D', 'M', 'M', 'D', 'GK', 'M', 'M', 'GK', 'D', 'D', 'M', 'M', 'D', 'D', 'A', 'M', 'A', 'M', 'A', 'D', 'D', 'D', 'A', 'D', 'GK', 'A', 'M', 'D', 'D', 'D', 'GK', 'M', 'A', 'D', 'GK', 'M', 'D', 'A', 'GK', 'GK', 'A', 'D', 'M', 'A', 'D', 'GK', 'D', 'D', 'A', 'D', 'D', 'A', 'M', 'M', 'GK', 'D', 'D', 'M', 'GK', 'D', 'D', 'D', 'D', 'D', 'D', 'D', 'D', 'A', 'D', 'M', 'A', 'M', 'M', 'M', 'A', 'D', 'D', 'D', 'M', 'D', 'A', 'D', 'A', 'D', 'D', 'D', 'D', 'D', 'M', 'D', 'GK', 'D', 'M', 'A', 'M', 'GK', 'M', 'M', 'M', 'D', 'M', 'M', 'M', 'M', 'A', 'D', 'M', 'A', 'GK', 'M', 'M', 'D', 'D', 'M', 'A', 'A', 'A', 'GK', 'M', 'D', 'M', 'M', 'D', 'GK', 'D', 'GK', 'D', 'M', 'M', 'A', 'D', 'GK', 'A', 'D', 'A', 'A', 'D', 'A', 'M', 'A', 'M', 'M', 'M', 'D', 'M', 'M', 'D', 'D', 'M', 'D', 'D', 'D', 'A', 'M', 'D', 'M', 'A', 'A', 'GK', 'GK', 'M', 'A', 'M', 'D', 'D', 'D', 'GK', 'A', 'GK', 'D', 'M', 'D', 'M', 'D', 'A', 'M', 'D', 'M', 'D', 'GK', 'M', 'D', 'D', 'M', 'D', 'GK', 'A', 'D', 'D', 'GK', 'GK', 'D', 'A', 'A', 'M', 'A', 'D', 'GK', 'A', 'M', 'GK', 'GK', 'D', 'M', 'D', 'M', 'D', 'M', 'M', 'M', 'M', 'A', 'D', 'A', 'D', 'M', 'M', 'M', 'A', 'M', 'GK', 'M', 'A', 'M', 'M', 'A', 'D', 'GK', 'M', 'M', 'D', 'D', 'M', 'M', 'M', 'D', 'D', 'M', 'A', 'M', 'D', 'GK', 'D', 'M', 'D', 'D', 'M', 'A', 'GK', 'A', 'GK', 'GK', 'D', 'M', 'A', 'M', 'D', 'M', 'GK', 'D', 'M', 'D', 'A', 'D', 'D', 'D', 'GK', 'D', 'GK', 'M', 'D', 'A', 'A', 'M', 'M', 'M', 'A', 'GK', 'M', 'D', 'A', 'A', 'GK', 'A', 'M', 'M', 'D', 'D', 'D', 'D', 'A', 'D', 'GK', 'D', 'M', 'A', 'M', 'A', 'M', 'M', 'M', 'M', 'M', 'M', 'A', 'M', 'M', 'D', 'GK', 'M', 'A', 'GK', 'A', 'GK', 'M', 'M', 'M', 'M', 'A', 'A', 'GK', 'GK', 'A', 'M', 'M', 'A', 'M', 'D', 'A', 'M', 'M', 'M', 'GK', 'M', 'M', 'A', 'D', 'GK', 'D', 'GK', 'D', 'D', 'D', 'A', 'M', 'M', 'M', 'D', 'A', 'D', 'M', 'M', 'D', 'D', 'A', 'A', 'A', 'A', 'M', 'A', 'GK', 'M', 'D', 'M', 'M', 'A', 'D', 'M', 'M', 'GK', 'M', 'A', 'M', 'D', 'M', 'A', 'M', 'M', 'GK', 'D', 'D', 'GK', 'D', 'M', 'D', 'D', 'M', 'D', 'D', 'D', 'M', 'M', 'M', 'A', 'M', 'A', 'M', 'D', 'M', 'GK', 'D', 'A', 'M', 'A', 'M', 'GK', 'A', 'D', 'D', 'D', 'GK', 'D', 'A', 'A', 'M', 'M', 'D', 'M', 'A', 'M', 'M', 'M', 'M', 'D', 'A', 'D', 'A', 'M', 'A', 'M', 'M', 'M', 'M', 'M', 'GK', 'A', 'M', 'D', 'M', 'D', 'A', 'GK', 'D', 'M', 'A', 'A', 'A', 'A', 'M', 'D', 'GK', 'A', 'M', 'A', 'GK', 'D', 'D', 'D', 'D', 'A', 'D', 'M', 'D', 'D', 'A', 'M', 'GK', 'D', 'M', 'M', 'GK', 'A', 'M', 'D', 'M', 'M', 'M', 'A', 'A', 'A', 'D', 'M', 'A', 'D', 'M', 'A', 'D', 'A', 'GK', 'A', 'A', 'GK', 'GK', 'M', 'M', 'D', 'M', 'M', 'D', 'M', 'D', 'GK', 'D', 'M', 'A', 'D', 'M', 'GK', 'D', 'M', 'GK', 'D', 'GK', 'A', 'D', 'M', 'A', 'A', 'M', 'M', 'D', 'D', 'M', 'A', 'D', 'M', 'A', 'D', 'D', 'A', 'M', 'M', 'M', 'M', 'A', 'M', 'D', 'M', 'D', 'GK', 'GK', 'A', 'A', 'A', 'A', 'D', 'D', 'A', 'D', 'M', 'M', 'A', 'A', 'D', 'D', 'M', 'GK', 'A', 'D', 'A', 'GK', 'GK', 'A', 'D', \n",
    "             'M', 'A', 'D', 'M', 'M', 'A', 'D', 'M', 'M', 'D', 'D', 'M', 'D', 'GK', 'M', 'A', 'A', 'D', 'A', 'D', 'D', 'GK', 'D', 'D', 'GK', 'D', 'A', 'D', 'D', 'D', 'M', 'D', 'M', 'M', 'GK', 'A', 'D', 'GK', 'D', 'M', 'A', 'M', 'M', 'GK', 'M', 'GK', 'D', 'D', 'D', 'M', 'A', 'D', 'D', 'D', 'GK', 'M', 'A', 'D', 'M', 'GK', 'M', 'D', 'M', 'M', 'A', 'A', 'M', 'D', 'M', 'A', 'M', 'A', 'M', 'D', 'M', 'D', 'GK', 'M', 'A', 'D', 'A', 'A', 'D', 'M', 'D', 'D', 'M', 'D', 'D', 'M', 'M', 'M', 'M', 'M', 'A', 'D', 'A', 'D', 'M', 'A', 'M', 'M', 'M', 'D', 'M', 'D', 'M', 'M', 'M', 'A', 'D', 'M', 'M', 'M', 'M', 'D', 'D', 'GK', 'D', 'M', 'D', 'M', 'A', 'D', 'GK', 'D', 'A', 'A', 'A', 'M', 'M', 'M', 'M', 'M', 'GK', 'D', 'D', 'A', 'M', 'D', 'D', 'M', 'A', 'A', 'D', 'GK', 'GK', 'M', 'D', 'A', 'M', 'GK', 'GK', 'GK', 'D', 'M', 'M', 'A', 'D', 'D', 'M', 'M', 'D', 'A', 'M', 'D', 'M', 'A', 'GK', 'GK', 'D', 'GK', 'M', 'M', 'M', 'M', 'D', 'M', 'D', 'A', 'D', 'M', 'D', 'D', 'GK', 'A', 'A', 'M', 'D', 'D', 'A', 'M', 'M', 'D', 'A', 'M', 'M', 'M', 'D', 'A', 'M', 'GK', 'D', 'D', 'A', 'A', 'M', 'A', 'M', 'D', 'D', 'GK', 'M', 'D', 'M', 'M', 'D', 'D', 'D', 'D', 'D', 'A', 'M', 'M', 'M', 'D', 'M', 'GK', 'A', 'D', 'D', 'GK', 'M', 'M', 'A', 'A', 'M', 'M', 'A', 'D', 'A', 'D', 'M', 'GK', 'M', 'D', 'D', 'M', 'M', 'A', 'M', 'M', 'GK', 'A', 'A', 'GK', 'D', 'D', 'M', 'D', 'D', 'D', 'A', 'D', 'GK', 'M', 'A', 'D', 'D', 'GK', 'GK', 'GK', 'D', 'M', 'GK', 'M', 'D', 'M', 'M', 'A', 'GK', 'M', 'D', 'D', 'M', 'GK', 'A', 'GK', 'A', 'A', 'M', 'D', 'A', 'M', 'A', 'M', 'D', 'GK', 'D', 'M', 'A', 'A', 'M', 'M', 'D', 'GK', 'D', 'D', 'A', 'A', 'A', 'GK', 'D', 'M', 'D', 'GK', 'D', 'D', 'D', 'GK', 'M', 'M', 'D', 'D', 'D', 'A', 'A', 'D', 'A', 'A', 'D', 'D', 'M', 'GK', 'M', 'M', 'D', 'M', 'A', 'M', 'A', 'GK', 'D', 'D', 'M', 'M', 'A', 'GK', 'D', 'GK', 'D', 'D', 'M', 'A', 'M', 'M', 'M', 'A', 'A', 'D', 'M', 'M', 'M', 'M', 'A', 'D', 'D', 'M', 'M', 'M', 'GK', 'M', 'A', 'M', 'A', 'D', 'M', 'D', 'D', 'A', 'D', 'M', 'M', 'D', 'M', 'A', 'D', 'M', 'D', 'M', 'M', 'M', 'GK', 'A', 'D', 'M', 'D', 'D', 'M', 'D', 'A', 'GK', 'D', 'D', 'A', 'D', 'D', 'GK', 'M', 'D', 'D', 'M', 'M', 'M', 'M', 'M', 'D', 'A', 'A', 'A', 'A', 'M', 'M', 'A', 'A', 'A', 'D', 'M', 'M', 'A', 'A', 'A', 'D', 'M', 'M', 'M', 'GK', 'M', 'M', 'M', 'M', 'A', 'M', 'D', 'D', 'D', 'D', 'A', 'M', 'M', 'M', 'A', 'M', 'D', 'M', 'D', 'M', 'M', 'M', 'M', 'M', 'D', 'A', 'M', 'M', 'M', 'D', 'M', 'A', 'D', 'D', 'D', 'D', 'A', 'D', 'A', 'A', 'D', 'A', 'GK', 'M', 'M', 'A', 'D', 'D', 'M', 'A', 'M', 'A', 'A', 'GK', 'A', 'D', 'D', 'M', 'A', 'M', 'D', 'A', 'GK', 'A', 'A', 'D', 'D', 'M', 'A', 'GK', 'A', 'D', 'M', 'M', 'M', 'M', 'M', 'D', 'D', 'M', 'GK', 'D', 'M', 'M', 'A', 'D', 'M', 'D', 'GK', 'A', 'D', 'D', 'A', 'M', 'D', 'D', 'M', 'M', 'A', 'M', 'D', 'M', 'D', 'D', 'D', 'M', 'M', 'M', 'D', 'GK', 'D', 'D', 'GK', 'D', 'D', 'A', 'A', 'D', 'A', 'A', 'D', 'M', 'D', 'D', 'D', 'A', 'A', 'GK', 'M', 'A', 'D', 'M', 'M', 'M', 'D', 'M', 'GK', 'A', 'GK', 'M', 'M', 'GK', 'D', 'D', 'M', 'GK', 'M', 'M', 'M', 'M', 'GK', 'D', 'GK', 'M', 'M', 'M', 'D', 'D', 'D', 'M', 'A', 'M', 'M', 'A', 'M', 'M', 'A', 'M', 'D', 'A', 'D', 'A', 'D', 'D', 'M', 'A', 'GK', 'A', 'M', 'D', 'M', 'D', 'A', 'M', 'D', 'M', 'M', 'M', 'M', 'GK', 'M', 'M', 'A', 'A', 'GK', 'M', 'D', 'M', 'A', 'M', 'M', 'D', 'D', 'M', 'GK', 'A', 'D', 'A', 'M', 'A', 'D', 'D', 'M', 'A', 'M', 'M', 'D', 'M', 'D', 'D', 'D', 'M', 'A', 'M', 'D', 'A', 'D', 'A', 'D', 'GK', 'M', 'A', 'D', 'M', 'M', 'M', 'GK', 'D', 'M', 'A', 'A', 'A', 'D', 'D', 'D', 'D', 'M', 'D', 'M', 'A', 'A', 'GK', 'D', 'D', 'GK', 'D', 'A', 'D', 'M', 'A', 'D', 'A', 'A', 'D', 'GK', 'A', 'D', 'D', 'A', 'A', 'M', 'A', 'M', 'A', 'M', 'D', 'D', 'D', 'M', 'A', 'GK', 'M', 'M', 'A', 'D', 'D', 'M', 'A', 'A', 'D', 'D', 'M', 'D', 'D', 'A', 'M', 'D', 'M', 'A', 'D', 'D', 'M', 'A', 'D', 'M', 'A', 'D', 'D', 'GK', 'D', 'M', 'D', 'GK', 'A', 'M', 'D', 'D', 'M', 'A', 'M', 'M', 'M', 'M', 'M', 'M', 'A', 'M', 'M', 'GK', 'M', 'M', 'M', 'A', 'A', 'A', 'D', 'M', 'GK', 'GK', 'A', 'M', 'D', 'GK', 'M', 'A', 'M', 'D', 'D', 'M', 'D', 'A', 'D', 'D', 'GK', 'D', 'M', 'A', 'A', 'D', 'A', 'M', 'D', 'A', 'GK', 'A', 'D', 'A', 'D', 'GK', 'GK', 'GK', 'M', 'D', 'D', 'M', 'GK', 'D', 'A', 'D', 'GK', 'D', 'M', 'M', 'D', 'M', 'M', 'M', 'A', 'D', 'M', 'GK', 'D', 'D', 'A', 'GK', 'M', 'M', 'M', 'D', 'GK', 'D', 'D', 'M', 'D', 'D', 'GK', 'A', 'GK', 'D', 'A', 'D', 'M', 'D', 'A', 'A', 'M',\n",
    "             'D', 'D', 'D', 'M', 'GK', 'M', 'D', 'D', 'GK', 'D', 'M', 'D', 'A', 'D', 'A', 'M', 'M', 'M', 'D', 'A', 'GK', 'M', 'M', 'D', 'D', 'A', 'A', 'GK', 'GK', 'D', 'A', 'M', 'GK', 'M', 'M', 'A', 'D', 'M', 'A', 'A', 'GK', 'M', 'A', 'A', 'D', 'M', 'M', 'D', 'A', 'D', 'A', 'A', 'D', 'M', 'D', 'A', 'D', 'D', 'M', 'M', 'M', 'M', 'M', 'A', 'D', 'D', 'M', 'D', 'D', 'GK', 'D', 'M', 'D', 'M', 'GK', 'D', 'M', 'A', 'M', 'M', 'M', 'M', 'D', 'D', 'D', 'A', 'GK', 'A', 'GK', 'M', 'D', 'GK', 'GK', 'A', 'M', 'A', 'D', 'D', 'D', 'M', 'M', 'D', 'D', 'A', 'M', 'A', 'M', 'M', 'GK', 'M', 'D', 'A', 'M', 'A', 'M', 'D', 'D', 'D', 'D', 'D', 'D', 'A', 'D', 'GK', 'M', 'M', 'GK', 'GK', 'D', 'D', 'M', 'A', 'D', 'D', 'D', 'GK', 'GK', 'M', 'M', 'M', 'GK', 'D', 'M', 'M', 'M', 'M', 'D', 'D', 'A', 'D', 'A', 'A', 'GK', 'M', 'D', 'D', 'M', 'M', 'M', 'D', 'A', 'M', 'GK', 'M', 'GK', 'GK', 'D', 'M', 'GK', 'D', 'M', 'M', 'D', 'M', 'D', 'A', 'D', 'D', 'D', 'A', 'M', 'A', 'D', 'D', 'A', 'D', 'D', 'M', 'M', 'D', 'A', 'D', 'A', 'D', 'A', 'A', 'M', 'A', 'D', 'M', 'M', 'M', 'GK', 'GK', 'M', 'M', 'D', 'A', 'D', 'D', 'M', 'A', 'A', 'M', 'D', 'D', 'D', 'D', 'GK', 'M', 'M', 'D', 'D', 'D', 'D', 'M', 'D', 'D', 'D', 'M', 'D', 'M', 'D', 'A', 'D', 'D', 'A', 'A', 'D', 'D', 'M', 'D', 'GK', 'D', 'M', 'A', 'M', 'GK', 'D', 'D', 'M', 'A', 'M', 'A', 'M', 'A', 'A', 'A', 'M', 'D', 'M', 'D', 'M', 'D', 'A', 'M', 'D', 'M', 'A', 'M', 'M', 'D', 'A', 'A', 'A', 'D', 'A', 'M', 'D', 'M', 'A', 'M', 'D', 'A', 'M', 'A', 'GK', 'D', 'M', 'D', 'M', 'D', 'A', 'M', 'A', 'D', 'M', 'M', 'D', 'GK', 'A', 'M', 'M', 'M', 'M', 'D', 'D', 'M', 'A', 'M', 'M', 'D', 'M', 'M', 'D', 'GK', 'D', 'D', 'M', 'M', 'D', 'M', 'A', 'D', 'GK', 'A', 'M', 'D', 'A', 'A', 'A', 'A', 'GK', 'M', 'D', 'M', 'M', 'D', 'A', 'M', 'GK', 'D', 'M', 'A', 'M', 'GK', 'M', 'A', 'GK', 'A', 'D', 'A', 'M', 'M', 'D', 'M', 'D', 'M', 'D', 'A', 'M', 'A', 'D', 'D', 'M', 'GK', 'D', 'D', 'M', 'M', 'A', 'M', 'D', 'A', 'A', 'D', 'GK', 'GK', 'D', 'A', 'M', 'D', 'D', 'M', 'GK', 'D', 'M', 'M', 'D', 'M', 'GK', 'D', 'A', 'M', 'GK', 'M', 'M', 'M', 'A', 'M', 'M', 'GK', 'M', 'D', 'D', 'D', 'D', 'D', 'M', 'D', 'M', 'D', 'A', 'GK', 'M', 'D', 'D', 'A', 'GK', 'D', 'M', 'A', 'M', 'D', 'M', 'D', 'GK', 'M', 'GK', 'A', 'D', 'D', 'A', 'D', 'A', 'M', 'M', 'M', 'D', 'D', 'D', 'M', 'D', 'D', 'M', 'D', 'D', 'M', 'M', 'GK', 'M', 'GK', 'M', 'M', 'D', 'D', 'GK', 'D', 'M', 'D', 'D', 'A', 'M', 'GK', 'D', 'M', 'D', 'D', 'D', 'M', 'M', 'M', 'D', 'A', 'A', 'A', 'A', 'GK', 'D', 'GK', 'A', 'A', 'D', 'M', 'M', 'A', 'A', 'D', 'M', 'M', 'GK', 'M', 'D', 'D', 'M', 'D', 'GK', 'D', 'GK', 'M', 'D', 'D', 'GK', 'D', 'A', 'M', 'D', 'GK', 'D', 'A', 'A', 'A', 'D', 'GK', 'D', 'D', 'GK', 'GK', 'A', 'A', 'M', 'D', 'D', 'D', 'GK', 'A', 'M', 'M', 'M', 'A', 'A', 'M', 'D', 'D', 'D', 'D', 'M', 'D', 'A', 'A', 'D', 'D', 'D', 'D', 'M', 'M', 'M', 'D', 'D', 'M', 'A', 'M', 'D', 'D', 'A', 'GK', 'D', 'D', 'GK', 'M', 'D', 'M', 'A', 'A', 'A', 'A', 'GK', 'A', 'D', 'D', 'M', 'M', 'A', 'A', 'A', 'D', 'M', 'A', 'A', 'A', 'D', 'GK', 'D', 'M', 'D', 'M', 'M', 'M', 'A', 'A', 'A', 'D', 'A', 'A', 'D', 'A', 'A', 'M', 'D', 'M', 'A', 'A', 'M', 'A', 'M', 'M', 'D', 'D', 'M', 'D', 'GK', 'D', 'A', 'D', 'M', 'D', 'A', 'A', 'D', 'M', 'A', 'D', 'M', 'D', 'D', 'M', 'D', 'A', 'D', 'M', 'D', 'M', 'GK', 'A', 'D', 'GK', 'A', 'D', 'A', 'A', 'D', 'M', 'M', 'M', 'D', 'M', 'A', 'D', 'M', 'D', 'D', 'M', 'D', 'M', 'D', 'D', 'M', 'D', 'M', 'D', 'M', 'GK', 'D', 'M', 'M', 'M', 'M', 'M', 'D', 'M', 'GK', 'M', 'M', 'D', 'M', 'D', 'M', 'D', 'D', 'GK', 'A', 'D', 'A', 'A', 'M', 'D', 'M', 'M', 'GK', 'D', 'D', 'GK', 'A', 'GK', 'D', 'A', 'A', 'A', 'D', 'GK', 'A', 'M', 'A', 'A', 'GK', 'M', 'A', 'D', 'GK', 'D', 'M', 'A', 'M', 'A', 'A', 'M', 'D', 'M', 'GK', 'D', 'D', 'M', 'A', 'D', 'M', 'D', 'M', 'M', 'D', 'D', 'A', 'A', 'M', 'D', 'A', 'M', 'D', 'A', 'D', 'D', 'M', 'D', 'M', 'M', 'A', 'M', 'A', 'D', 'M', 'D', 'A', 'D', 'D', 'A', 'A', 'GK', 'D', 'M', 'A', 'A', 'A', 'M', 'D', 'D', 'GK', 'M', 'A', 'D', 'GK', 'M', 'D', 'A', 'M', 'M', 'A', 'D', 'M', 'D', 'A', 'M', 'M', 'D', 'D', 'M', 'M', 'GK', 'D', 'A', 'M', 'A', 'D', 'M', 'M', 'M', 'M', 'M', 'D', 'M', 'D', 'A', 'A', 'D', 'D', 'A', 'GK', 'D', 'M', 'GK', 'M', 'GK', 'D', 'D', 'A', 'A', 'D', 'D', 'A', 'M', 'D', 'M', 'M', 'M', 'D', 'M', 'D', 'A', 'M', 'M', 'A', 'A', 'M', 'M', 'D', 'D', 'D', 'D', 'D', 'A', 'M', 'M', 'M', 'D', 'GK', 'GK', 'A', 'D', 'M', 'M', 'M', 'M', 'M', 'A', 'D', 'M', \n",
    "             'D', 'D', 'A', 'D', 'D', 'M', 'D', 'A', 'D', 'D', 'D', 'A', 'M', 'M', 'D', 'A', 'A', 'D', 'A', 'A', 'D', 'D', 'D', 'M', 'M', 'M', 'D', 'A', 'A', 'A', 'M', 'M', 'D', 'GK', 'M', 'A', 'A', 'D', 'D', 'D', 'A', 'A', 'A', 'M', 'D', 'A', 'GK', 'A', 'M', 'A', 'D', 'A', 'D', 'D', 'M', 'A', 'M', 'M', 'M', 'M', 'M', 'A', 'M', 'A', 'A', 'D', 'GK', 'M', 'GK', 'D', 'A', 'M', 'GK', 'D', 'M', 'D', 'M', 'A', 'A', 'D', 'D', 'M', 'D', 'M', 'M', 'D', 'M', 'GK', 'A', 'D', 'D', 'D', 'A', 'D', 'M', 'D', 'D', 'A', 'M', 'D', 'A', 'D', 'M', 'D', 'A', 'GK', 'D', 'D', 'A', 'GK', 'M', 'M', 'GK', 'A', 'D', 'M', 'M', 'A', 'D', 'M', 'A', 'M', 'D', 'M', 'M', 'A', 'M', 'D', 'D', 'M', 'D', 'A', 'D', 'D', 'D', 'D', 'M', 'M', 'D', 'M', 'A', 'M', 'D', 'M', 'D', 'A', 'A', 'GK', 'M', 'D', 'D', 'M', 'D', 'M', 'A', 'A', 'D', 'GK', 'A', 'D', 'D', 'A', 'M', 'M', 'M', 'A', 'M', 'M', 'M', 'M', 'M', 'A', 'D', 'D', 'D', 'D', 'D', 'M', 'D', 'D', 'M', 'D', 'M', 'D', 'D', 'M', 'D', 'M', 'M', 'M', 'GK', 'D', 'GK', 'GK', 'GK', 'D', 'M', 'A', 'D', 'A', 'D', 'M', 'M', 'A', 'M', 'M', 'D', 'D', 'A', 'GK', 'GK', 'M', 'D', 'M', 'GK', 'M', 'D', 'D', 'D', 'D', 'D', 'GK', 'M', 'D', 'M', 'A', 'D', 'M', 'A', 'M', 'GK', 'M', 'M', 'D', 'D', 'D', 'M', 'M', 'D', 'M', 'GK', 'M', 'D', 'GK', 'A', 'M', 'A', 'D', 'D', 'D', 'A', 'A', 'GK', 'A', 'M', 'M', 'D', 'M', 'M', 'D', 'A', 'GK', 'A', 'D', 'GK', 'M', 'A', 'M', 'GK', 'D', 'GK', 'M', 'A', 'M', 'M', 'A', 'D', 'M', 'D', 'D', 'D', 'D', 'M', 'M', 'M', 'A', 'A', 'M', 'D', 'A', 'M', 'A', 'M', 'M', 'A', 'M', 'A', 'A', 'A', 'M', 'M', 'GK', 'D', 'D', 'D', 'D', 'D', 'M', 'GK', 'A', 'D', 'D', 'D', 'M', 'GK', 'M', 'D', 'GK', 'A', 'D', 'D', 'M', 'M', 'M', 'M', 'M', 'M', 'A', 'D', 'M', 'A', 'A', 'M', 'M', 'A', 'A', 'M', 'A', 'D', 'A', 'D', 'D', 'M', 'M', 'M', 'D', 'D', 'M', 'GK', 'A', 'A', 'M', 'A', 'D', 'A', 'D', 'D', 'A', 'M', 'A', 'A', 'M', 'M', 'D', 'M', 'A', 'A', 'D', 'D', 'D', 'A', 'D', 'M', 'A', 'D', 'D', 'D', 'M', 'M', 'D', 'D', 'D', 'GK', 'M', 'M', 'A', 'A', 'A', 'D', 'M', 'M', 'GK', 'GK', 'D', 'D', 'A', 'D', 'D', 'M', 'D', 'A', 'D', 'A', 'M', 'M', 'D', 'M', 'GK', 'A', 'M', 'D', 'M', 'M', 'M', 'GK', 'D', 'A', 'D', 'A', 'D', 'M', 'D', 'D', 'A', 'A', 'M', 'D', 'M', 'M', 'GK', 'M', 'D', 'M', 'D', 'M', 'GK', 'A', 'M', 'D', 'A', 'D', 'M', 'D', 'M', 'A', 'M', 'M', 'M', 'D', 'GK', 'GK', 'D', 'GK', 'D', 'D', 'A', 'D', 'A', 'M', 'D', 'A', 'M', 'A', 'A', 'GK', 'M', 'A', 'GK', 'M', 'M', 'A', 'M', 'A', 'GK', 'A', 'M', 'A', 'M', 'D', 'A', 'M', 'GK', 'M', 'M', 'A', 'GK', 'A', 'D', 'M', 'M', 'A', 'M', 'D', 'D', 'A', 'D', 'D', 'A', 'GK', 'M', 'M', 'GK', 'M', 'M', 'A', 'A', 'D', 'A', 'M', 'A', 'M', 'M', 'M', 'M', 'M', 'A', 'M', 'M', 'A', 'D', 'M', 'M', 'D', 'A', 'D', 'M', 'GK', 'D', 'M', 'A', 'D', 'M', 'D', 'A', 'M', 'D', 'A', 'M', 'D', 'M', 'D', 'A', 'A', 'A', 'M', 'A', 'D', 'M', 'M', 'D', 'M', 'A', 'D', 'M', 'A', 'A', 'D', 'D', 'D', 'M', 'D', 'M', 'M', 'A', 'M', 'M', 'M', 'A', 'A', 'M', 'M', 'GK', 'M', 'M', 'M', 'M', 'GK', 'D', 'D', 'M', 'A', 'D', 'GK', 'D', 'A', 'GK', 'D', 'A', 'D', 'M', 'M', 'A', 'M', 'A', 'M', 'D', 'A', 'M', 'D', 'M', 'A', 'M', 'D', 'M', 'D', 'D', 'M', 'D', 'D', 'D', 'A', 'D', 'M', 'A', 'A', 'M', 'A', 'M', 'A', 'M', 'D', 'A', 'D', 'A', 'M', 'M', 'M', 'M', 'A', 'M', 'D', 'M', 'D', 'A', 'GK', 'D', 'GK', 'M', 'D', 'A', 'D', 'GK', 'GK', 'M', 'M', 'A', 'GK', 'M', 'D', 'M', 'A', 'A', 'D', 'D', 'A', 'D', 'D', 'M', 'M', 'D', 'M', 'A', 'M', 'D', 'GK', 'A', 'M', 'GK', 'A', 'D', 'M', 'A', 'M', 'M', 'D', 'A', 'A', 'D', 'D', 'M', 'M', 'D', 'M', 'M', 'A', 'M', 'A', 'D', 'M', 'A', 'M', 'M', 'D', 'M', 'A', 'A', 'M', 'GK', 'M', 'M', 'D', 'M', 'D', 'D', 'M', 'M', 'D', 'M', 'M', 'M', 'A', 'M', 'A', 'A', 'D', 'M', 'GK', 'A', 'M', 'GK', 'A', 'A', 'A', 'A', 'A', 'A', 'D', 'M', 'D', 'D', 'M', 'GK', 'D', 'A', 'M', 'D', 'M', 'A', 'M', 'D', 'D', 'A', 'A', 'A', 'D', 'M', 'M', 'M', 'M', 'M', 'GK', 'M', 'A', 'A', 'D', 'D', 'D', 'M', 'A', 'M', 'D', 'A', 'D', 'D', 'A', 'M', 'GK', 'M', 'GK', 'D', 'A', 'GK', 'A', 'A', 'D', 'M', 'D', 'A', 'GK', 'M', 'M', 'D', 'D', 'D', 'GK', 'GK', 'A', 'D', 'D', 'M', 'A', 'D', 'D', 'D', 'M', 'D', 'GK', 'M', 'M', 'M', 'M', 'GK', 'D', 'GK', 'M', 'A', 'A', 'A', 'M', 'M', 'M', 'M', 'A', 'A', 'A', 'GK', 'D', 'D', 'D', 'M', 'M', 'D', 'GK', 'D', 'A', 'A', 'M', 'M', 'D', 'M', 'M', 'M', 'A', 'D', 'A', 'D', 'D', 'M', 'D', 'M', 'M', 'D', 'A', 'D', 'GK', 'A', 'GK', 'M', 'M', 'D', 'A', 'GK', 'A', 'A', 'M', 'M', \n",
    "             'M', 'GK', 'A', 'M', 'M', 'GK', 'A', 'A', 'D', 'A', 'A', 'M', 'A', 'D', 'A', 'A', 'M', 'A', 'A', 'M', 'M', 'A', 'GK', 'M', 'M', 'D', 'M', 'M', 'M', 'A', 'M', 'D', 'M', 'M', 'A', 'M', 'M', 'D', 'M', 'GK', 'GK', 'M', 'M', 'A', 'M', 'D', 'D', 'D', 'M', 'M', 'M', 'A', 'M', 'D', 'M', 'A', 'A', 'A', 'D', 'GK', 'M', 'M', 'M', 'A', 'GK', 'D', 'M', 'A', 'D', 'M', 'M', 'A', 'GK', 'A', 'D', 'A', 'M', 'D', 'A', 'M', 'A', 'D', 'A', 'D', 'A', 'D', 'A', 'D', 'A', 'D', 'M', 'A', 'M', 'M', 'A', 'D', 'M', 'D', 'M', 'D', 'GK', 'A', 'M', 'D', 'A', 'A', 'GK', 'A', 'A', 'A', 'D', 'M', 'D', 'A', 'D', 'A', 'M', 'D', 'M', 'M', 'D', 'M', 'A', 'M', 'D', 'A', 'D', 'A', 'M', 'M', 'M', 'A', 'A', 'M', 'A', 'M', 'D', 'A', 'A', 'M', 'M', 'D', 'D', 'D', 'M', 'A', 'A', 'M', 'D', 'D', 'A', 'D', 'D', 'A', 'D', 'D', 'D', 'A', 'D', 'M', 'D', 'GK', 'GK', 'D', 'M', 'D', 'D', 'GK', 'D', 'D', 'GK', 'D', 'M', 'D', 'M', 'M', 'A', 'GK', 'A', 'M', 'A', 'M', 'A', 'A', 'M', 'D', 'D', 'A', 'D', 'M', 'A', 'M', 'M', 'M', 'M', 'D', 'M', 'A', 'A', 'D', 'D', 'GK', 'D', 'M', 'M', 'D', 'M', 'D', 'D', 'M', 'D', 'M', 'M', 'M', 'D', 'M', 'M', 'A', 'M', 'M', 'D', 'A', 'A', 'A', 'M', 'D', 'M', 'M', 'M', 'D', 'A', 'D', 'M', 'M', 'D', 'GK', 'D', 'D', 'M', 'D', 'M', 'M', 'D', 'A', 'M', 'D', 'M', 'D', 'D', 'A', 'A', 'GK', 'M', 'A', 'A', 'D', 'A', 'M', 'D', 'GK', 'A', 'M', 'M', 'D', 'D', 'A', 'A', 'D', 'D', 'A', 'D', 'D', 'D', 'D', 'A', 'M', 'M', 'M', 'D', 'GK', 'M', 'A', 'M', 'GK', 'M', 'GK', 'D', 'A', 'D', 'A', 'M', 'A', 'D', 'D', 'M', 'M', 'D', 'GK', 'M', 'M', 'D', 'D', 'D', 'D', 'M', 'M', 'D', 'GK', 'D', 'A', 'M', 'GK', 'D', 'D', 'GK', 'A', 'M', 'A', 'D', 'D', 'D', 'M', 'GK', 'M', 'D', 'A', 'D', 'M', 'A', 'A', 'M', 'M', 'D', 'M', 'M', 'M', 'M', 'M', 'D', 'A', 'M', 'D', 'A', 'M', 'D', 'D', 'GK', 'D', 'D', 'A', 'D', 'A', 'GK', 'D', 'A', 'A', 'M', 'A', 'M', 'M', 'M', 'D', 'A', 'M', 'M', 'A', 'M', 'M', 'M', 'D', 'M', 'M', 'M', 'A', 'A', 'GK', 'A', 'A', 'D', 'A', 'GK', 'D', 'A', 'D', 'M', 'D', 'GK', 'A', 'M', 'D', 'A', 'D', 'M', 'M', 'M', 'M', 'A', 'M', 'D', 'GK', 'M', 'M', 'D', 'A', 'M', 'A', 'A', 'D', 'A', 'D', 'D', 'D', 'M', 'D', 'A', 'A', 'GK', 'GK', 'D', 'D', 'M', 'D', 'M', 'D', 'M', 'M', 'D', 'M', 'D', 'D', 'M', 'D', 'D', 'A', 'D', 'A', 'M', 'M', 'GK', 'A', 'A', 'M', 'D', 'GK', 'D', 'D', 'A', 'D', 'M', 'M', 'M', 'D', 'M', 'M', 'A', 'D', 'D', 'A', 'D', 'M', 'A', 'A', 'A', 'M', 'A', 'M', 'M', 'GK', 'GK', 'D', 'D', 'M', 'A', 'D', 'D', 'GK', 'M', 'GK', 'D', 'D', 'A', 'M', 'M', 'D', 'M', 'M', 'M', 'M', 'D', 'A', 'M', 'M', 'GK', 'M', 'D', 'A', 'D', 'D', 'D', 'D', 'D', 'A', 'M', 'M', 'D', 'A', 'GK', 'D', 'M', 'D', 'D', 'D', 'D', 'M', 'M', 'D', 'GK', 'M', 'D', 'M', 'M', 'A', 'A', 'M', 'M', 'GK', 'A', 'D', 'M', 'M', 'M', 'A', 'M', 'A', 'A', 'D', 'M', 'D', 'D', 'M', 'D', 'D', 'D', 'M', 'GK', 'D', 'D', 'GK', 'A', 'A', 'D', 'A', 'D', 'M', 'D', 'A', 'D', 'D', 'A', 'A', 'M', 'A', 'M', 'M', 'M', 'A', 'A', 'M', 'A', 'A', 'D', 'M', 'M', 'D', 'A', 'A', 'M', 'M', 'M', 'D', 'A', 'M', 'D', 'A', 'D', 'D', 'A', 'D', 'A', 'D', 'A', 'M', 'D', 'D', 'D', 'GK', 'M', 'M', 'M', 'A', 'M', 'M', 'D', 'M', 'D', 'D', 'A', 'D', 'M', 'M', 'M', 'M', 'M', 'GK', 'GK', 'A', 'A', 'GK', 'GK', 'D', 'D', 'D', 'A', 'A', 'M', 'GK', 'A', 'M', 'A', 'M', 'A', 'M', 'A', 'A', 'M', 'A', 'D', 'M', 'M', 'M', 'M', 'A', 'GK', 'D', 'M', 'M', 'D', 'A', 'A', 'A', 'M', 'D', 'D', 'D', 'M', 'M', 'M', 'D', 'M', 'A', 'D', 'M', 'M', 'M', 'M', 'M', 'D', 'A', 'GK', 'M', 'M', 'M', 'D', 'A', 'D', 'GK', 'M', 'D', 'A', 'D', 'D', 'A', 'A', 'D', 'M', 'M', 'D', 'D', 'M', 'D', 'A', 'M', 'M', 'A', 'M', 'D', 'D', 'M', 'D', 'D', 'M', 'A', 'GK', 'A', 'A', 'D', 'M', 'A', 'A', 'A', 'D', 'GK', 'M', 'A', 'A', 'M', 'A', 'GK', 'D', 'A', 'M', 'M', 'A', 'D', 'A', 'D', 'A', 'A', 'M', 'M', 'A', 'A', 'M', 'D', 'D', 'D', 'D', 'GK', 'A', 'GK', 'A', 'D', 'D', 'D', 'A', 'D', 'A', 'M', 'M', 'M', 'M', 'M', 'A', 'M', 'D', 'D', 'D', 'A', 'D', 'M', 'GK', 'M', 'D', 'D', 'M', 'D', 'GK', 'M', 'A', 'M', 'M', 'D', 'D', 'M', 'A', 'D', 'A', 'M', 'GK', 'M', 'D', 'A', 'D', 'A', 'D', 'M', 'GK', 'D', 'M', 'A', 'A', 'A', 'A', 'D', 'A', 'D', 'D', 'D', 'D', 'GK', 'D', 'GK', 'D', 'D', 'A', 'A', 'A', 'GK', 'D', 'M', 'GK', 'M', 'M', 'GK', 'D', 'A', 'A', 'D', 'M', 'M', 'M', 'A', 'D', 'M', 'D', 'M', 'A', 'D', 'M', 'D', 'A', 'GK', 'D', 'M', 'D', 'GK', 'D', 'M', 'GK', 'M', 'D', 'A', 'A', 'D', 'A', 'D', 'A', 'D', 'A', 'D', 'M', 'M', 'D', 'M', 'A', 'D', 'M', \n",
    "             'D', 'D', 'M', 'A', 'A', 'M', 'A', 'M', 'M', 'A', 'GK', 'GK', 'M', 'GK', 'D', 'D', 'A', 'M', 'D', 'GK', 'D', 'GK', 'D', 'A', 'M', 'A', 'GK', 'D', 'GK', 'A', 'M', 'M', 'M', 'D', 'M', 'M', 'M', 'GK', 'D', 'D', 'M', 'M', 'D', 'D', 'A', 'M', 'M', 'M', 'A', 'GK', 'D', 'A', 'M', 'M', 'GK', 'A', 'A', 'M', 'A', 'M', 'M', 'M', 'M', 'M', 'M', 'GK', 'M', 'M', 'D', 'M', 'M', 'D', 'D', 'GK', 'M', 'D', 'GK', 'D', 'M', 'M', 'A', 'D', 'M', 'M', 'D', 'D', 'D', 'M', 'M', 'M', 'A', 'D', 'A', 'GK', 'M', 'A', 'M', 'D', 'M', 'M', 'D', 'M', 'M', 'M', 'M', 'D', 'M', 'D', 'M', 'A', 'GK', 'A', 'A', 'D', 'D', 'D', 'A', 'M', 'D', 'D', 'M', 'M', 'M', 'M', 'M', 'D', 'D', 'GK', 'GK', 'D', 'M', 'D', 'A', 'D', 'D', 'M', 'D', 'M', 'M', 'A', 'A', 'D', 'D', 'D', 'M', 'D', 'D', 'A', 'D', 'M', 'A', 'A', 'D', 'D', 'A', 'A', 'D', 'GK', 'M', 'M', 'A', 'A', 'M', 'A', 'A', 'M', 'GK', 'M', 'D', 'A', 'A', 'A', 'M', 'M', 'M', 'D', 'M', 'A', 'M', 'A', 'A', 'M', 'D', 'A', 'GK', 'M', 'D', 'A', 'D', 'D', 'M', 'M', 'A', 'D', 'M', 'D', 'A', 'M', 'M', 'M', 'A', 'M', 'M', 'M', 'M', 'A', 'A', 'M', 'A', 'A', 'D', 'D', 'GK', 'A', 'M', 'A', 'D', 'A', 'M', 'GK', 'D', 'M', 'M', 'D', 'M', 'D', 'D', 'A', 'M', 'A', 'GK', 'A', 'A', 'D', 'M', 'D', 'A', 'D', 'M', 'D', 'M', 'A', 'GK', 'M', 'M', 'M', 'M', 'A', 'M', 'M', 'D', 'M', 'M', 'D', 'M', 'M', 'A', 'M', 'M', 'M', 'M', 'D', 'M', 'M', 'D', 'A', 'A', 'D', 'D', 'M', 'M', 'M', 'M', 'GK', 'GK', 'A', 'M', 'M', 'A', 'M', 'M', 'M', 'D', 'M', 'D', 'M', 'M', 'A', 'M', 'GK', 'A', 'A', 'A', 'GK', 'M', 'A', 'M', 'D', 'M', 'M', 'A', 'M', 'M', 'M', 'M', 'M', 'M', 'M', 'M', 'M', 'GK', 'D', 'M', 'M', 'D', 'GK', 'GK', 'D', 'M', 'A', 'A', 'M', 'A', 'M', 'M', 'M', 'A', 'GK', 'M', 'M', 'A', 'D', 'M', 'M', 'M', 'D', 'M', 'A', 'M', 'D', 'M', 'A', 'A', 'A', 'D', 'D', 'D', 'D', 'A', 'D', 'M', 'D', 'M', 'D', 'A', 'M', 'D', 'A', 'D', 'A', 'GK', 'A', 'D', 'M', 'A', 'M', 'D', 'M', 'D', 'M', 'M', 'D', 'A', 'M', 'A', 'D', 'M', 'D', 'D', 'A', 'GK', 'A', 'A', 'M', 'M', 'M', 'M', 'A', 'M', 'A', 'A', 'D', 'M', 'GK', 'M', 'D', 'A', 'M', 'A', 'M', 'GK', 'A', 'M', 'D', 'M', 'D', 'A', 'A', 'D', 'M', 'A', 'M', 'M', 'A', 'M', 'A', 'M', 'M', 'A', 'D', 'D', 'D', 'GK', 'D', 'A', 'D', 'D', 'M', 'D', 'A', 'D', 'D', 'D', 'M', 'M', 'A', 'D', 'M', 'D', 'A', 'D', 'M', 'M', 'D', 'D', 'M', 'M', 'D', 'GK', 'D', 'D', 'D', 'M', 'D', 'A', 'D', 'A', 'D', 'M', 'M', 'GK', 'A', 'A', 'M', 'D', 'GK', 'D', 'M', 'D', 'M', 'A', 'GK', 'GK', 'M', 'M', 'A', 'M', 'M', 'A', 'M', 'GK', 'D', 'D', 'M', 'M', 'D', 'M', 'A', 'M', 'GK', 'D', 'D', 'D', 'A', 'A', 'GK', 'D', 'GK', 'D', 'D', 'GK', 'D', 'A', 'A', 'M', 'D', 'A', 'D', 'D', 'M', 'D', 'A', 'A', 'M', 'M', 'A', 'D', 'M', 'M', 'A', 'D', 'M', 'M', 'A', 'A', 'M', 'M', 'A', 'D', 'M', 'M', 'D', 'M', 'D', 'GK', 'A', 'M', 'A', 'A', 'D', 'A', 'M', 'M', 'M', 'D', 'D', 'D', 'M', 'D', 'A', 'M', 'GK', 'M', 'A', 'GK', 'M', 'M', 'M', 'A', 'M', 'GK', 'D', 'A', 'D', 'D', 'D', 'D', 'D', 'M', 'M', 'M', 'GK', 'A', 'D', 'A', 'M', 'A', 'A', 'M', 'A', 'D', 'M', 'M', 'A', 'M', 'A', 'D', 'M', 'D', 'A', 'D', 'M', 'M', 'M', 'A', 'D', 'A', 'D', 'A', 'M', 'M', 'M', 'A', 'M', 'M', 'A', 'D', 'M', 'D', 'D', 'M', 'M', 'D', 'M', 'A', 'D', 'M', 'A', 'M', 'GK', 'D', 'M', 'A', 'GK', 'M', 'A', 'A', 'D', 'M', 'A', 'D', 'A', 'GK', 'D', 'D', 'A', 'M', 'A', 'D', 'D', 'D', 'A', 'M', 'D', 'GK', 'A', 'A', 'M', 'D', 'D', 'GK', 'D', 'M', 'M', 'D', 'M', 'A', 'A', 'M', 'M', 'A', 'D', 'M', 'M', 'M', 'D', 'M', 'D', 'M', 'M', 'A', 'A', 'D', 'A', 'A', 'A', 'M', 'M', 'A', 'M', 'M', 'GK', 'M', 'D', 'D', 'M', 'A', 'M', 'M', 'M', 'A', 'A', 'A', 'A', 'D', 'D', 'A', 'D', 'D', 'M', 'D', 'GK', 'GK', 'M', 'D', 'D', 'A', 'D', 'M', 'GK', 'A', 'M', 'M', 'A', 'M', 'A', 'A', 'D', 'A', 'D', 'A', 'D', 'D', 'D', 'D', 'D', 'M', 'GK', 'M', 'A', 'M', 'M', 'M', 'D', 'M', 'M', 'A', 'M', 'D', 'D', 'D', 'M', 'D', 'M', 'M', 'D', 'GK', 'GK', 'D', 'M', 'M', 'M', 'D', 'M', 'M', 'D', 'GK', 'A', 'GK', 'D', 'M', 'A', 'M', 'M', 'M', 'A', 'A', 'A', 'M', 'M', 'A', 'D', 'A', 'A', 'D', 'M', 'D', 'D', 'M', 'A', 'D', 'A', 'D', 'M', 'A', 'A', 'M', 'A', 'A', 'M', 'D', 'M', 'A', 'M', 'M', 'M', 'A', 'D', 'A', 'A', 'A', 'D', 'D', 'M', 'M', 'M', 'D', 'D', 'M', 'A', 'M', 'M', 'A', 'M', 'D', 'D', 'A', 'M', 'A', 'M', 'D', 'D', 'M', 'M', 'GK', 'D', 'M', 'D', 'M', 'D', 'D', 'D', 'A', 'A', 'M', 'M', 'M', 'A', 'D', 'A', 'D', 'M', 'D', 'M', 'A', 'A', 'D', 'M', 'A', 'A', 'D', 'A', 'GK', 'D', 'M', 'M', 'M', 'A', \n",
    "             'M', 'A', 'A', 'GK', 'M', 'D', 'A', 'A', 'A', 'GK', 'GK', 'M', 'M', 'D', 'D', 'M', 'M', 'D', 'GK', 'M', 'GK', 'M', 'M', 'A', 'M', 'A', 'M', 'D', 'M', 'M', 'D', 'A', 'GK', 'D', 'GK', 'M', 'D', 'A', 'M', 'D', 'D', 'D', 'A', 'D', 'M', 'M', 'M', 'A', 'M', 'A', 'M', 'D', 'M', 'A', 'A', 'D', 'M', 'M', 'M', 'M', 'A', 'D', 'M', 'A', 'D', 'D', 'A', 'D', 'M', 'M', 'D', 'M', 'A', 'M', 'M', 'A', 'A', 'M', 'A', 'GK', 'M', 'GK', 'A', 'A', 'A', 'M', 'A', 'GK', 'M', 'A', 'D', 'M', 'D', 'M', 'D', 'A', 'A', 'D', 'M', 'M', 'D', 'D', 'D', 'D', 'M', 'M', 'A', 'D', 'GK', 'M', 'M', 'A', 'GK', 'D', 'A', 'M', 'D', 'D', 'GK', 'A', 'D', 'D', 'M', 'M', 'A', 'D', 'GK', 'D', 'M', 'M', 'M', 'A', 'M', 'M', 'A', 'D', 'GK', 'GK', 'D', 'D', 'M', 'D', 'M', 'D', 'M', 'GK', 'A', 'A', 'D', 'A', 'M', 'D', 'D', 'D', 'GK', 'D', 'A', 'A', 'D', 'D', 'D', 'M', 'A', 'D', 'M', 'A', 'M', 'GK', 'A', 'M', 'A', 'D', 'D', 'M', 'D', 'D', 'A', 'M', 'M', 'D', 'D', 'D', 'D', 'M', 'M', 'A', 'A', 'D', 'D', 'M', 'GK', 'A', 'A', 'A', 'M', 'D', 'M', 'D', 'M', 'M', 'M', 'D', 'D', 'A', 'D', 'M', 'M', 'D', 'M', 'M', 'A', 'A', 'A', 'GK', 'M', 'D', 'D', 'M', 'M', 'D', 'M', 'D', 'D', 'M', 'D', 'A', 'M', 'D', 'M', 'A', 'A', 'GK', 'D', 'M', 'M', 'A', 'A', 'A', 'GK', 'A', 'M', 'M', 'M', 'A', 'D', 'M', 'D', 'A', 'A', 'A', 'M', 'A', 'A', 'M', 'GK', 'A', 'A', 'A', 'M', 'D', 'M', 'D', 'D', 'D', 'A', 'M', 'A', 'GK', 'M', 'D', 'D', 'D', 'M', 'A', 'GK', 'M', 'D', 'M', 'M', 'M', 'M', 'GK', 'D', 'M', 'A', 'D', 'D', 'D', 'A', 'GK', 'M', 'D', 'M', 'M', 'A', 'A', 'M', 'M', 'D', 'D', 'D', 'GK', 'GK', 'M', 'A', 'D', 'A', 'D', 'D', 'M', 'GK', 'D', 'M', 'A', 'M', 'A', 'M', 'D', 'D', 'M', 'A', 'D', 'M', 'D', 'D', 'M', 'M', 'D', 'M', 'A', 'A', 'D', 'M', 'A', 'M', 'M', 'GK', 'M', 'M', 'M', 'D', 'GK', 'D', 'A', 'M', 'M', 'GK', 'M', 'A', 'A', 'D', 'D', 'D', 'GK', 'M', 'M', 'A', 'M', 'M', 'M', 'D', 'M', 'A', 'M', 'D', 'D', 'A', 'M', 'GK', 'D', 'D', 'M', 'D', 'A', 'GK', 'D', 'A', 'M', 'A', 'D', 'D', 'GK', 'A', 'D', 'M', 'M', 'A', 'M', 'M', 'D', 'GK', 'M', 'M', 'D', 'GK', 'M', 'GK', 'A', 'D', 'M', 'M', 'A', 'A', 'M', 'A', 'M', 'GK', 'D', 'D', 'M', 'M', 'M', 'M', 'A', 'D', 'A', 'GK', 'D', 'D', 'D', 'M', 'GK', 'D', 'GK', 'GK', 'A', 'D', 'GK', 'GK', 'A', 'GK', 'M', 'A', 'M', 'M', 'M', 'M', 'M', 'D', 'GK', 'M', 'D', 'D', 'A', 'A', 'D', 'D', 'GK', 'M', 'A', 'M', 'M', 'D', 'M', 'D', 'D', 'A', 'M', 'M', 'M', 'D', 'A', 'D', 'GK', 'M', 'D', 'M', 'A', 'A', 'D', 'A', 'M', 'A', 'D', 'M', 'A', 'M', 'GK', 'D', 'A', 'A', 'M', 'A', 'D', 'A', 'A', 'M', 'D', 'M', 'D', 'D', 'M', 'GK', 'A', 'A', 'D', 'D', 'D', 'M', 'M', 'M', 'A', 'M', 'D', 'A', 'M', 'D', 'M', 'M', 'A', 'D', 'GK', 'M', 'A', 'D', 'M', 'A', 'D', 'M', 'M', 'D', 'M', 'D', 'A', 'M', 'A', 'M', 'GK', 'A', 'M', 'M', 'D', 'M', 'M', 'D', 'D', 'A', 'M', 'M', 'M', 'M', 'A', 'M', 'M', 'D', 'A', 'D', 'A', 'M', 'A', 'D', 'GK', 'A', 'D', 'M', 'GK', 'D', 'D', 'D', 'A', 'D', 'M', 'M', 'A', 'M', 'A', 'M', 'M', 'D', 'A', 'A', 'D', 'D', 'M', 'D', 'GK', 'A', 'D', 'A', 'D', 'M', 'D', 'D', 'D', 'GK', 'D', 'D', 'A', 'GK', 'D', 'D', 'D', 'A', 'A', 'GK', 'D', 'D', 'D', 'A', 'A', 'M', 'M', 'D', 'D', 'D', 'GK', 'A', 'D', 'M', 'D', 'A', 'D', 'M', 'D', 'A', 'D', 'M', 'A', 'A', 'D', 'A', 'M', 'M', 'A', 'D', 'A', 'A', 'M', 'D', 'GK', 'M', 'A', 'M', 'D', 'D', 'D', 'A', 'D', 'M', 'D', 'A', 'M', 'D', 'D', 'D', 'D', 'M', 'A', 'M', 'M', 'GK', 'D', 'M', 'GK', 'A', 'A', 'D', 'M', 'M', 'A', 'D', 'M', 'M', 'M', 'A', 'A', 'M', 'A', 'A', 'D', 'A', 'A', 'D', 'M', 'M', 'D', 'D', 'M', 'M', 'GK', 'M', 'D', 'D', 'M', 'GK', 'A', 'D', 'D', 'A', 'A', 'D', 'A', 'M', 'GK', 'A', 'D', 'M', 'M', 'M', 'GK', 'A', 'M', 'A', 'A', 'A', 'A', 'M', 'A', 'A', 'M', 'D', 'M', 'M', 'A', 'D', 'D', 'A', 'A', 'M', 'M', 'M', 'M', 'D', 'D', 'A', 'M', 'D', 'A', 'D', 'D', 'D', 'A', 'M', 'M', 'M', 'D', 'M', 'M', 'M', 'M', 'M', 'M', 'A', 'A', 'A', 'D', 'GK', 'M', 'M', 'M', 'A', 'A', 'M', 'M', 'M', 'A', 'M', 'M', 'GK', 'M', 'D', 'A', 'M', 'D', 'GK', 'M', 'GK', 'M', 'M', 'A', 'M', 'D', 'A', 'M', 'M', 'A', 'M', 'M', 'A', 'M', 'M', 'A', 'D', 'M', 'M', 'D', 'D', 'M', 'D', 'A', 'D', 'A', 'A', 'D', 'A', 'M', 'A', 'M', 'GK', 'A', 'M', 'M', 'A', 'D', 'D', 'A', 'A', 'A', 'A', 'A', 'D', 'M', 'D', 'M', 'M', 'GK', 'D', 'D', 'A', 'GK', 'M', 'D', 'D', 'M', 'D', 'D', 'M', 'D', 'M', 'M', 'M', 'M', 'M', 'M', 'M', 'D', 'M', 'M', 'A', 'M', 'D', 'D', 'D', 'D', 'M', 'A', 'D', 'D', 'D', 'A', 'D', 'A', 'A', 'D', 'D', 'D', \n",
    "             'A', 'D', 'M', 'M', 'D', 'M', 'A', 'D', 'M', 'D', 'A', 'D', 'A', 'D', 'A', 'M', 'GK', 'D', 'GK', 'M', 'D', 'M', 'A', 'D', 'A', 'D', 'A', 'M', 'D', 'GK', 'A', 'A', 'M', 'M', 'M', 'M', 'M', 'M', 'M', 'A', 'D', 'M', 'D', 'D', 'D', 'A', 'A', 'A', 'M', 'M', 'D', 'GK', 'A', 'A', 'M', 'A', 'A', 'M', 'D', 'M', 'M', 'M', 'M', 'M', 'M', 'A', 'A', 'D', 'A', 'A', 'M', 'M', 'M', 'M', 'M', 'D', 'D', 'A', 'A', 'M', 'D', 'D', 'M', 'A', 'M', 'D', 'M', 'M', 'D', 'D', 'M', 'D', 'M', 'M', 'A', 'A', 'D', 'A', 'A', 'D', 'A', 'A', 'M', 'D', 'M', 'GK', 'A', 'D', 'D', 'GK', 'GK', 'D', 'D', 'M', 'M', 'A', 'A', 'A', 'D', 'M', 'D', 'M', 'D', 'D', 'A', 'A', 'A', 'A', 'D', 'A', 'A', 'M', 'M', 'D', 'A', 'M', 'M', 'M', 'A', 'M', 'M', 'D', 'GK', 'A', 'M', 'GK', 'D', 'D', 'M', 'A', 'GK', 'M', 'M', 'M', 'D', 'M', 'M', 'M', 'M', 'A', 'M', 'GK', 'M', 'A', 'M', 'M', 'M', 'M', 'A', 'A', 'A', 'M', 'D', 'M', 'D', 'D', 'M', 'M', 'A', 'D', 'M', 'D', 'M', 'A', 'M', 'A', 'D', 'A', 'GK', 'M', 'M', 'D', 'M', 'A', 'M', 'M', 'M', 'D', 'GK', 'GK', 'D', 'M', 'D', 'A', 'M', 'A', 'GK', 'D', 'D', 'M', 'GK', 'D', 'D', 'A', 'M', 'D', 'A', 'M', 'M', 'M', 'D', 'M', 'D', 'A', 'M', 'A', 'A', 'M', 'M', 'A', 'M', 'M', 'A', 'GK', 'D', 'GK', 'D', 'A', 'D', 'M', 'GK', 'D', 'M', 'M', 'GK', 'M', 'M', 'A', 'A', 'M', 'GK', 'D', 'GK', 'A', 'D', 'M', 'A', 'D', 'A', 'A', 'A', 'A', 'M', 'A', 'D', 'A', 'A', 'GK', 'M', 'M', 'D', 'D', 'D', 'A', 'GK', 'GK', 'D', 'M', 'D', 'GK', 'M', 'GK', 'M', 'D', 'A', 'M', 'D', 'M', 'M', 'A', 'D', 'A', 'A', 'M', 'D', 'A', 'GK', 'A', 'A', 'M', 'GK', 'M', 'M', 'A', 'D', 'M', 'M', 'GK', 'D', 'M', 'M', 'M', 'M', 'A', 'D', 'GK', 'A', 'M', 'D', 'M', 'A', 'M', 'D', 'D', 'M', 'M', 'A', 'GK', 'GK', 'A', 'D', 'M', 'M', 'M', 'M', 'D', 'D', 'D', 'M', 'M', 'D', 'D', 'D', 'GK', 'D', 'D', 'M', 'D', 'D', 'D', 'M', 'M', 'A', 'A', 'M', 'A', 'GK', 'D', 'D', 'M', 'M', 'A', 'D', 'GK', 'A', 'M', 'D', 'A', 'D', 'GK', 'GK', 'M', 'D', 'A', 'M', 'D', 'A', 'A', 'M', 'M', 'D', 'D', 'D', 'A', 'GK', 'A', 'A', 'M', 'M', 'M', 'M', 'D', 'A', 'M', 'A', 'A', 'D', 'D', 'D', 'A', 'M', 'D', 'D', 'D', 'D', 'D', 'A', 'A', 'A', 'M', 'D', 'A', 'A', 'M', 'M', 'D', 'D', 'A', 'M', 'M', 'A', 'A', 'M', 'D', 'D', 'A', 'A', 'GK', 'A', 'A', 'M', 'A', 'D', 'GK', 'D', 'M', 'A', 'M', 'A', 'M', 'D', 'M', 'D', 'D', 'GK', 'M', 'D', 'A', 'M', 'D', 'D', 'M', 'A', 'D', 'M', 'M', 'D', 'D', 'D', 'A', 'D', 'D', 'M', 'M', 'M', 'A', 'GK', 'GK', 'M', 'D', 'M', 'A', 'D', 'A', 'GK', 'M', 'A', 'A', 'A', 'GK', 'M', 'M', 'M', 'M', 'M', 'D', 'M', 'GK', 'A', 'A', 'M', 'A', 'A', 'A', 'M', 'D', 'M', 'D', 'A', 'M', 'M', 'GK', 'M', 'D', 'GK', 'D', 'D', 'M', 'D', 'A', 'M', 'A', 'M', 'D', 'D', 'GK', 'D', 'D', 'M', 'D', 'M', 'A', 'M', 'D', 'GK', 'A', 'M', 'GK', 'A', 'A', 'A', 'M', 'M', 'GK', 'M', 'D', 'M', 'D', 'GK', 'GK', 'D', 'D', 'M', 'A', 'M', 'D', 'A', 'A', 'D', 'A', 'M', 'D', 'M', 'A', 'A', 'GK', 'M', 'D', 'M', 'A', 'M', 'A', 'A', 'A', 'D', 'D', 'M', 'M', 'M', 'A', 'A', 'A', 'GK', 'M', 'A', 'D', 'D', 'M', 'D', 'M', 'A', 'M', 'M', 'A', 'A', 'D', 'D', 'D', 'A', 'D', 'A', 'D', 'D', 'A', 'GK', 'D', 'M', 'M', 'GK', 'M', 'M', 'D', 'A', 'A', 'M', 'D', 'M', 'D', 'D', 'D', 'A', 'GK', 'D', 'GK', 'M', 'D', 'M', 'A', 'A', 'D', 'M', 'D', 'D', 'A', 'A', 'M', 'M', 'D', 'D', 'D', 'D', 'M', 'M', 'D', 'A', 'M', 'D', 'D', 'M', 'A', 'M', 'M', 'D', 'A', 'M', 'D', 'M', 'D', 'M', 'D', 'D', 'D', 'M', 'A', 'M', 'A', 'A', 'GK', 'A', 'D', 'M', 'A', 'D', 'GK', 'D', 'A', 'M', 'M', 'M', 'M', 'M', 'M', 'M', 'M', 'A', 'D', 'A', 'D', 'M', 'M', 'A', 'D', 'D', 'D', 'D', 'D', 'A', 'A', 'A', 'A', 'A', 'M', 'GK', 'M', 'M', 'D', 'M', 'M', 'M', 'M', 'M', 'M', 'D', 'D', 'M', 'M', 'M', 'D', 'M', 'M', 'A', 'M', 'M', 'M', 'D', 'A', 'M', 'GK', 'A', 'D', 'A', 'M', 'M', 'D', 'M', 'A', 'M', 'A', 'A', 'M', 'D', 'A', 'A', 'A', 'M', 'A', 'M', 'D', 'M', 'D', 'A', 'D', 'M', 'A', 'D', 'GK', 'D', 'D', 'A', 'A', 'A', 'M', 'M', 'A', 'M', 'M', 'M', 'A', 'D', 'D', 'A', 'A', 'GK', 'A', 'D', 'GK', 'M', 'M', 'D', 'M', 'GK', 'D', 'GK', 'D', 'M', 'A', 'M', 'A', 'M', 'A', 'D', 'D', 'D', 'D', 'D', 'GK', 'A', 'A', 'A', 'D', 'D', 'M', 'M', 'D', 'M', 'GK', 'M', 'A', 'GK', 'M', 'M', 'D', 'A', 'A', 'M', 'GK', 'D', 'A', 'A', 'M', 'A', 'D', 'GK', 'M', 'GK', 'M', 'A', 'D', 'A', 'D', 'A', 'A', 'M', 'A', 'A', 'GK', 'M', 'D', 'D', 'M', 'A', 'A', 'GK', 'D', 'M', 'M', 'M', 'A', 'A', 'A', 'D', 'GK', 'A', 'D', 'M', 'A', 'GK', 'A', 'A', 'GK', 'D', 'M', 'A', 'A', 'D', \n",
    "             'M', 'D', 'D', 'A', 'M', 'M', 'GK', 'D', 'D', 'A', 'A', 'M', 'D', 'A', 'A', 'M', 'D', 'M', 'A', 'D', 'D', 'D', 'M', 'M', 'D', 'D', 'M', 'M', 'A', 'D', 'A', 'M', 'D', 'D', 'M', 'M', 'A', 'A', 'D', 'M', 'M', 'D', 'A', 'A', 'M', 'D', 'D', 'D', 'M', 'GK', 'D', 'A', 'M', 'D', 'A', 'M', 'M', 'A', 'M', 'A', 'GK', 'A', 'D', 'D', 'M', 'A', 'A', 'A', 'D', 'D', 'A', 'D', 'D', 'M', 'GK', 'D', 'D', 'M', 'M', 'M', 'M', 'A', 'D', 'M', 'D', 'D', 'M', 'A', 'D', 'M', 'D', 'A', 'A', 'A', 'A', 'M', 'GK', 'M', 'A', 'A', 'D', 'D', 'M', 'M', 'M', 'A', 'D', 'A', 'GK', 'D', 'D', 'A', 'M', 'M', 'D', 'A', 'GK', 'D', 'M', 'M', 'M', 'A', 'M', 'D', 'D', 'M', 'D', 'GK', 'GK', 'D', 'D', 'M', 'D', 'M', 'M', 'M', 'M', 'M', 'D', 'M', 'M', 'D', 'M', 'M', 'GK', 'D', 'GK', 'A', 'M', 'M', 'D', 'D', 'M', 'M', 'D', 'M', 'D', 'D', 'M', 'D', 'D', 'A', 'GK', 'A', 'M', 'A', 'D', 'D', 'A', 'M', 'GK', 'D', 'A', 'D', 'A', 'M', 'D', 'A', 'M', 'GK', 'M', 'A', 'A', 'GK', 'M', 'D', 'M', 'A', 'M', 'D', 'M', 'M', 'GK', 'D', 'M', 'A', 'A', 'A', 'M', 'A', 'D', 'M', 'M', 'A', 'M', 'A', 'M', 'GK', 'M', 'A', 'D', 'M', 'A', 'M', 'D', 'GK', 'A', 'A', 'D', 'D', 'D', 'M', 'D', 'A', 'A', 'A', 'M', 'M', 'D', 'A', 'A', 'A', 'M', 'A', 'M', 'A', 'D', 'GK', 'GK', 'M', 'D', 'GK', 'A', 'A', 'M', 'M', 'D', 'D', 'M', 'M', 'GK', 'D', 'D', 'GK', 'M', 'M', 'M', 'A', 'GK', 'A', 'M', 'A', 'M', 'D', 'M', 'M', 'GK', 'M', 'A', 'GK', 'D', 'GK', 'GK', 'A', 'D', 'A', 'GK', 'M', 'M', 'A', 'GK', 'A', 'M', 'M', 'A', 'M', 'D', 'D', 'M', 'M', 'A', 'M', 'M', 'M', 'A', 'A', 'M', 'A', 'D', 'D', 'GK', 'A', 'D', 'D', 'D', 'D', 'M', 'D', 'M', 'A', 'GK', 'A', 'D', 'A', 'A', 'A', 'A', 'D', 'GK', 'D', 'M', 'D', 'M', 'A', 'D', 'A', 'M', 'D', 'GK', 'A', 'M', 'D', 'D', 'GK', 'D', 'A', 'M', 'M', 'D', 'M', 'A', 'M', 'M', 'M', 'M', 'M', 'D', 'M', 'A', 'D', 'M', 'D', 'A', 'GK', 'D', 'A', 'M', 'D', 'D', 'GK', 'A', 'M', 'M', 'D', 'D', 'M', 'D', 'D', 'D', 'GK', 'A', 'M', 'M', 'D', 'M', 'D', 'M', 'D', 'A', 'A', 'M', 'D', 'GK', 'D', 'D', 'A', 'D', 'GK', 'D', 'GK', 'M', 'M', 'GK', 'A', 'D', 'M', 'D', 'D', 'A', 'GK', 'GK', 'D', 'A', 'A', 'D', 'D', 'M', 'M', 'D', 'M', 'M', 'D', 'M', 'D', 'M', 'M', 'D', 'D', 'D', 'M', 'D', 'D', 'GK', 'GK', 'M', 'GK', 'D', 'A', 'M', 'D', 'GK', 'M', 'GK', 'D', 'M', 'D', 'M', 'D', 'D', 'A', 'D', 'M', 'M', 'M', 'D', 'M', 'M', 'D', 'D', 'A', 'D', 'A', 'A', 'M', 'D', 'A', 'M', 'D', 'D', 'D', 'D', 'M', 'D', 'D', 'A', 'M', 'D', 'M', 'A', 'M', 'D', 'M', 'M', 'M', 'A', 'M', 'D', 'GK', 'M', 'M', 'A', 'D', 'D', 'D', 'D', 'A', 'D', 'D', 'D', 'M', 'D', 'D', 'D', 'A', 'D', 'M', 'A', 'D', 'M', 'M', 'GK', 'M', 'A', 'M', 'M', 'M', 'D', 'M', 'M', 'M', 'D', 'A', 'M', 'D', 'M', 'A', 'D', 'D', 'A', 'D', 'M', 'M', 'M', 'GK', 'M', 'D', 'M', 'A', 'D', 'D', 'M', 'A', 'M', 'A', 'M', 'A', 'D', 'A', 'M', 'M', 'M', 'M', 'D', 'A', 'A', 'M', 'GK', 'A', 'D', 'D', 'M', 'D', 'M', 'D', 'M', 'D', 'M', 'A', 'M', 'D', 'M', 'M', 'D', 'M', 'D', 'A', 'A', 'D', 'A', 'D', 'GK', 'D', 'M', 'D', 'M', 'D', 'D', 'D', 'M', 'M', 'M', 'D', 'A', 'D', 'GK', 'D', 'M', 'D', 'A', 'M', 'GK', 'D', 'M', 'D', 'M', 'D', 'M', 'GK', 'GK', 'D', 'M', 'A', 'D', 'GK', 'M', 'M', 'D', 'M', 'D', 'GK', 'GK', 'D', 'A', 'M', 'GK', 'A', 'M', 'M', 'M', 'M', 'D', 'GK', 'D', 'M', 'D', 'M', 'D', 'A', 'A', 'GK', 'GK', 'A', 'D', 'A', 'GK', 'M', 'A', 'A', 'M', 'GK', 'GK', 'D', 'M', 'D', 'M', 'A', 'D', 'D', 'M', 'GK', 'D', 'A', 'M', 'M', 'M', 'M', 'A', 'D', 'GK', 'GK', 'D', 'M', 'D', 'M', 'A', 'D', 'A', 'M', 'D', 'M', 'M', 'D', 'A', 'M', 'D', 'M', 'M', 'D', 'A', 'GK', 'M', 'GK', 'D', 'D', 'D', 'GK', 'D', 'M', 'M', 'M', 'D', 'GK', 'M', 'D', 'A', 'M', 'M', 'A', 'GK', 'M', 'D', 'D', 'M', 'M', 'D', 'M', 'M', 'GK', 'A', 'M', 'A', 'A', 'A', 'GK', 'D', 'D', 'D', 'D', 'GK', 'D', 'GK', 'D', 'D', 'GK', 'M', 'D', 'D', 'M', 'D', 'M', 'GK', 'A', 'M', 'M', 'A', 'D', 'D', 'D', 'D', 'GK', 'A', 'D', 'M', 'D', 'D', 'A', 'M', 'M', 'M', 'A', 'GK', 'M', 'D', 'M', 'D', 'M', 'M', 'GK', 'D', 'GK', 'A', 'D', 'GK', 'M', 'M', 'M', 'M', 'M', 'A', 'M', 'D', 'M', 'D', 'D', 'GK', 'M', 'D', 'GK', 'M', 'D', 'D', 'M', 'D', 'GK', 'A', 'A', 'D', 'D', 'M', 'M', 'M', 'M', 'D', 'A', 'M', 'M', 'D', 'A', 'GK', 'D', 'D', 'D', 'M', 'GK', 'D', 'D', 'D', 'M', 'M', 'D', 'M', 'M', 'D', 'D', 'M', 'D', 'M', 'A', 'M', 'M', 'D', 'M', 'D', 'D', 'GK', 'A', 'M', 'GK', 'M', 'M', 'D', 'M', 'GK', 'M', 'D', 'A', 'D', 'M', 'D', 'M', 'A', 'A', 'M', 'M', 'M', 'M', 'D', 'D', 'D', 'A', 'D', 'A', \n",
    "             'D', 'A', 'A', 'D', 'GK', 'A', 'D', 'A', 'D', 'A', 'A', 'D', 'M', 'M', 'D', 'M', 'A', 'M', 'D', 'M', 'M', 'A', 'A', 'D', 'GK', 'A', 'M', 'M', 'D', 'M', 'D', 'D', 'D', 'GK', 'D', 'GK', 'A', 'M', 'M', 'D', 'A', 'D', 'M', 'D', 'D', 'D', 'A', 'D', 'M', 'M', 'M', 'D', 'GK', 'M', 'M', 'M', 'M', 'M', 'D', 'D', 'GK', 'M', 'M', 'A', 'A', 'M', 'A', 'M', 'D', 'M', 'A', 'M', 'D', 'A', 'D', 'D', 'M', 'A', 'M', 'D', 'M', 'M', 'GK', 'GK', 'GK', 'A', 'A', 'M', 'A', 'M', 'A', 'M', 'GK', 'D', 'GK', 'M', 'GK', 'M', 'D', 'D', 'A', 'GK', 'D', 'M', 'D', 'M', 'A', 'A', 'D', 'D', 'A', 'D', 'M', 'A', 'M', 'M', 'D', 'M', 'M', 'M', 'A', 'M', 'GK', 'D', 'GK', 'M', 'D', 'A', 'M', 'D', 'D', 'D', 'A', 'M', 'GK', 'A', 'A', 'D', 'M', 'A', 'GK', 'D', 'D', 'A', 'M', 'D', 'M', 'D', 'D', 'D', 'D', 'D', 'A', 'M', 'M', 'M', 'M', 'GK', 'D', 'A', 'A', 'GK', 'A', 'M', 'D', 'D', 'D', 'GK', 'D', 'M', 'GK', 'M', 'A', 'M', 'GK', 'M', 'A', 'M', 'A', 'D', 'M', 'D', 'A', 'D', 'A', 'GK', 'D', 'A', 'M', 'GK', 'M', 'GK', 'D', 'GK', 'D', 'M', 'M', 'D', 'D', 'M', 'M', 'D', 'A', 'A', 'M', 'D', 'M', 'A', 'D', 'D', 'GK', 'M', 'D', 'A', 'D', 'M', 'GK', 'D', 'GK', 'M', 'D', 'D', 'M', 'D', 'A', 'D', 'M', 'D', 'GK', 'M', 'GK', 'A', 'M', 'GK', 'GK', 'D', 'D', 'A', 'D', 'M', 'GK', 'D', 'A', 'D', 'A', 'A', 'M', 'A', 'A', 'M', 'D', 'M', 'A', 'GK', 'D', 'M', 'D', 'M', 'GK', 'A', 'A', 'GK', 'A', 'A', 'A', 'D', 'D', 'A', 'GK', 'M', 'A', 'M', 'M', 'D', 'D', 'M', 'M', 'M', 'D', 'D', 'M', 'M', 'D', 'M', 'M', 'D', 'M', 'D', 'M', 'GK', 'GK', 'M', 'M', 'M', 'A', 'A', 'M', 'D', 'A', 'M', 'M', 'GK', 'M', 'A', 'A', 'A', 'D', 'D', 'M']"
   ]
  },
  {
   "cell_type": "code",
   "execution_count": 54,
   "metadata": {},
   "outputs": [
    {
     "name": "stdout",
     "output_type": "stream",
     "text": [
      "Median height of goalkeepers: 188.0\n",
      "Median height of other players: 181.0\n"
     ]
    }
   ],
   "source": [
    "# heights and positions are available as lists\n",
    "\n",
    "# Import numpy\n",
    "import numpy as np\n",
    "\n",
    "# Convert positions and heights to numpy arrays: np_positions, np_heights\n",
    "np_positions = np.array(positions)\n",
    "np_heights = np.array(heights)\n",
    "\n",
    "# Heights of the goalkeepers: gk_heights\n",
    "gk_heights = np_heights[np_positions == 'GK']\n",
    "\n",
    "# Heights of the other players: other_heights\n",
    "other_heights = np_heights[np_positions != 'GK']\n",
    "\n",
    "# Print out the median height of goalkeepers. Replace 'None'\n",
    "print(\"Median height of goalkeepers: \" + str(np.median(gk_heights)))\n",
    "\n",
    "# Print out the median height of other players. Replace 'None'\n",
    "print(\"Median height of other players: \" + str(np.median(other_heights)))"
   ]
  }
 ],
 "metadata": {
  "kernelspec": {
   "display_name": "Python 3",
   "language": "python",
   "name": "python3"
  },
  "language_info": {
   "codemirror_mode": {
    "name": "ipython",
    "version": 3
   },
   "file_extension": ".py",
   "mimetype": "text/x-python",
   "name": "python",
   "nbconvert_exporter": "python",
   "pygments_lexer": "ipython3",
   "version": "3.8.3"
  }
 },
 "nbformat": 4,
 "nbformat_minor": 4
}
