{
 "cells": [
  {
   "cell_type": "markdown",
   "id": "a3c55e20",
   "metadata": {},
   "source": [
    "# Hyperparameter Tuning in Python\n"
   ]
  },
  {
   "cell_type": "markdown",
   "id": "2bdf1c62",
   "metadata": {},
   "source": [
    "## 1. Hyperparameters and Parameters\n"
   ]
  },
  {
   "cell_type": "markdown",
   "id": "2644b902",
   "metadata": {},
   "source": [
    "Answer: coef_"
   ]
  },
  {
   "cell_type": "code",
   "execution_count": 33,
   "id": "e0a1a07d",
   "metadata": {},
   "outputs": [],
   "source": [
    "import pandas as pd\n",
    "import numpy as np\n",
    "\n",
    "df = pd.read_csv('credit-card-full.csv')\n",
    "df_encoded = pd.get_dummies(df, columns=['SEX', 'EDUCATION', 'MARRIAGE'], prefix=['SEX', 'EDUCATION', 'MARRIAGE'])\n",
    "\n",
    "X = df_encoded.drop(['EDUCATION_0', 'ID', 'MARRIAGE_0', 'SEX_1', 'default payment next month'], axis=1)\n",
    "y = df_encoded['default payment next month']\n",
    "\n",
    "random_seed = 42\n",
    "sample_size = 1600\n",
    "sampled_indices = df_encoded.sample(n=sample_size, random_state=random_seed).index\n",
    "\n",
    "X_train = X.loc[sampled_indices]\n",
    "y_train = y.loc[sampled_indices]"
   ]
  },
  {
   "cell_type": "code",
   "execution_count": 35,
   "id": "9ffdd59e",
   "metadata": {},
   "outputs": [
    {
     "data": {
      "text/html": [
       "<style>#sk-container-id-2 {color: black;background-color: white;}#sk-container-id-2 pre{padding: 0;}#sk-container-id-2 div.sk-toggleable {background-color: white;}#sk-container-id-2 label.sk-toggleable__label {cursor: pointer;display: block;width: 100%;margin-bottom: 0;padding: 0.3em;box-sizing: border-box;text-align: center;}#sk-container-id-2 label.sk-toggleable__label-arrow:before {content: \"▸\";float: left;margin-right: 0.25em;color: #696969;}#sk-container-id-2 label.sk-toggleable__label-arrow:hover:before {color: black;}#sk-container-id-2 div.sk-estimator:hover label.sk-toggleable__label-arrow:before {color: black;}#sk-container-id-2 div.sk-toggleable__content {max-height: 0;max-width: 0;overflow: hidden;text-align: left;background-color: #f0f8ff;}#sk-container-id-2 div.sk-toggleable__content pre {margin: 0.2em;color: black;border-radius: 0.25em;background-color: #f0f8ff;}#sk-container-id-2 input.sk-toggleable__control:checked~div.sk-toggleable__content {max-height: 200px;max-width: 100%;overflow: auto;}#sk-container-id-2 input.sk-toggleable__control:checked~label.sk-toggleable__label-arrow:before {content: \"▾\";}#sk-container-id-2 div.sk-estimator input.sk-toggleable__control:checked~label.sk-toggleable__label {background-color: #d4ebff;}#sk-container-id-2 div.sk-label input.sk-toggleable__control:checked~label.sk-toggleable__label {background-color: #d4ebff;}#sk-container-id-2 input.sk-hidden--visually {border: 0;clip: rect(1px 1px 1px 1px);clip: rect(1px, 1px, 1px, 1px);height: 1px;margin: -1px;overflow: hidden;padding: 0;position: absolute;width: 1px;}#sk-container-id-2 div.sk-estimator {font-family: monospace;background-color: #f0f8ff;border: 1px dotted black;border-radius: 0.25em;box-sizing: border-box;margin-bottom: 0.5em;}#sk-container-id-2 div.sk-estimator:hover {background-color: #d4ebff;}#sk-container-id-2 div.sk-parallel-item::after {content: \"\";width: 100%;border-bottom: 1px solid gray;flex-grow: 1;}#sk-container-id-2 div.sk-label:hover label.sk-toggleable__label {background-color: #d4ebff;}#sk-container-id-2 div.sk-serial::before {content: \"\";position: absolute;border-left: 1px solid gray;box-sizing: border-box;top: 0;bottom: 0;left: 50%;z-index: 0;}#sk-container-id-2 div.sk-serial {display: flex;flex-direction: column;align-items: center;background-color: white;padding-right: 0.2em;padding-left: 0.2em;position: relative;}#sk-container-id-2 div.sk-item {position: relative;z-index: 1;}#sk-container-id-2 div.sk-parallel {display: flex;align-items: stretch;justify-content: center;background-color: white;position: relative;}#sk-container-id-2 div.sk-item::before, #sk-container-id-2 div.sk-parallel-item::before {content: \"\";position: absolute;border-left: 1px solid gray;box-sizing: border-box;top: 0;bottom: 0;left: 50%;z-index: -1;}#sk-container-id-2 div.sk-parallel-item {display: flex;flex-direction: column;z-index: 1;position: relative;background-color: white;}#sk-container-id-2 div.sk-parallel-item:first-child::after {align-self: flex-end;width: 50%;}#sk-container-id-2 div.sk-parallel-item:last-child::after {align-self: flex-start;width: 50%;}#sk-container-id-2 div.sk-parallel-item:only-child::after {width: 0;}#sk-container-id-2 div.sk-dashed-wrapped {border: 1px dashed gray;margin: 0 0.4em 0.5em 0.4em;box-sizing: border-box;padding-bottom: 0.4em;background-color: white;}#sk-container-id-2 div.sk-label label {font-family: monospace;font-weight: bold;display: inline-block;line-height: 1.2em;}#sk-container-id-2 div.sk-label-container {text-align: center;}#sk-container-id-2 div.sk-container {/* jupyter's `normalize.less` sets `[hidden] { display: none; }` but bootstrap.min.css set `[hidden] { display: none !important; }` so we also need the `!important` here to be able to override the default hidden behavior on the sphinx rendered scikit-learn.org. See: https://github.com/scikit-learn/scikit-learn/issues/21755 */display: inline-block !important;position: relative;}#sk-container-id-2 div.sk-text-repr-fallback {display: none;}</style><div id=\"sk-container-id-2\" class=\"sk-top-container\"><div class=\"sk-text-repr-fallback\"><pre>LogisticRegression()</pre><b>In a Jupyter environment, please rerun this cell to show the HTML representation or trust the notebook. <br />On GitHub, the HTML representation is unable to render, please try loading this page with nbviewer.org.</b></div><div class=\"sk-container\" hidden><div class=\"sk-item\"><div class=\"sk-estimator sk-toggleable\"><input class=\"sk-toggleable__control sk-hidden--visually\" id=\"sk-estimator-id-2\" type=\"checkbox\" checked><label for=\"sk-estimator-id-2\" class=\"sk-toggleable__label sk-toggleable__label-arrow\">LogisticRegression</label><div class=\"sk-toggleable__content\"><pre>LogisticRegression()</pre></div></div></div></div></div>"
      ],
      "text/plain": [
       "LogisticRegression()"
      ]
     },
     "execution_count": 35,
     "metadata": {},
     "output_type": "execute_result"
    }
   ],
   "source": [
    "import warnings\n",
    "from sklearn.linear_model import LogisticRegression\n",
    "\n",
    "warnings.filterwarnings(\"ignore\")\n",
    "\n",
    "logreg_params = {'C': 1.0, 'class_weight': None, 'dual': False, 'fit_intercept': True, 'intercept_scaling': 1, \n",
    "                 'l1_ratio': None, 'max_iter': 100, 'multi_class': 'auto', 'n_jobs': None, 'penalty': 'l2', \n",
    "                 'random_state': None, 'solver': 'lbfgs', 'tol': 0.0001, 'verbose': 0, 'warm_start': False}\n",
    "\n",
    "log_reg_clf = LogisticRegression(**logreg_params)\n",
    "log_reg_clf.fit(X_train, y_train)"
   ]
  },
  {
   "cell_type": "code",
   "execution_count": 38,
   "id": "e16264e1",
   "metadata": {},
   "outputs": [
    {
     "name": "stdout",
     "output_type": "stream",
     "text": [
      "       Variable   Coefficient\n",
      "0     LIMIT_BAL -3.434585e-06\n",
      "1           AGE -4.708308e-06\n",
      "2         PAY_0  3.112030e-07\n",
      "3         PAY_2  2.012498e-07\n",
      "4         PAY_3  1.855993e-07\n",
      "5         PAY_4  1.771854e-07\n",
      "6         PAY_5  1.777204e-07\n",
      "7         PAY_6  1.734323e-07\n",
      "8     BILL_AMT1 -2.084619e-05\n",
      "9     BILL_AMT2  2.244620e-05\n",
      "10    BILL_AMT3 -7.660850e-06\n",
      "11    BILL_AMT4  1.212736e-05\n",
      "12    BILL_AMT5 -1.887515e-05\n",
      "13    BILL_AMT6  2.303987e-05\n",
      "14     PAY_AMT1 -1.034822e-04\n",
      "15     PAY_AMT2 -3.787531e-05\n",
      "16     PAY_AMT3 -5.279833e-05\n",
      "17     PAY_AMT4 -3.180241e-05\n",
      "18     PAY_AMT5 -4.678413e-05\n",
      "19     PAY_AMT6 -6.334266e-06\n",
      "20        SEX_2 -1.157515e-07\n",
      "21  EDUCATION_1 -2.700824e-08\n",
      "22  EDUCATION_2 -9.808612e-08\n",
      "23  EDUCATION_3 -1.568191e-08\n",
      "24  EDUCATION_4 -2.121665e-09\n",
      "25  EDUCATION_5 -3.886356e-09\n",
      "26  EDUCATION_6 -7.516344e-10\n",
      "27   MARRIAGE_1 -2.987857e-08\n",
      "28   MARRIAGE_2 -1.182870e-07\n",
      "29   MARRIAGE_3  2.902203e-09\n"
     ]
    }
   ],
   "source": [
    "# Create a list of original variable names from the training DataFrame\n",
    "original_variables = X_train.columns\n",
    "\n",
    "# Extract the coefficients of the logistic regression estimator\n",
    "model_coefficients = log_reg_clf.coef_[0]\n",
    "\n",
    "# Create a dataframe of the variables and coefficients & print it out\n",
    "coefficient_df = pd.DataFrame({\"Variable\" : original_variables, \"Coefficient\": model_coefficients})\n",
    "print(coefficient_df)"
   ]
  },
  {
   "cell_type": "code",
   "execution_count": 39,
   "id": "99c7011c",
   "metadata": {},
   "outputs": [
    {
     "name": "stdout",
     "output_type": "stream",
     "text": [
      "     Variable  Coefficient\n",
      "13  BILL_AMT6     0.000023\n",
      "9   BILL_AMT2     0.000022\n",
      "11  BILL_AMT4     0.000012\n"
     ]
    }
   ],
   "source": [
    "# Print out the top 3 positive variables\n",
    "top_three_df = coefficient_df.sort_values(by='Coefficient', axis=0, ascending=False)[0:3]\n",
    "print(top_three_df)"
   ]
  },
  {
   "cell_type": "code",
   "execution_count": 42,
   "id": "0668621b",
   "metadata": {},
   "outputs": [
    {
     "data": {
      "text/html": [
       "<style>#sk-container-id-3 {color: black;background-color: white;}#sk-container-id-3 pre{padding: 0;}#sk-container-id-3 div.sk-toggleable {background-color: white;}#sk-container-id-3 label.sk-toggleable__label {cursor: pointer;display: block;width: 100%;margin-bottom: 0;padding: 0.3em;box-sizing: border-box;text-align: center;}#sk-container-id-3 label.sk-toggleable__label-arrow:before {content: \"▸\";float: left;margin-right: 0.25em;color: #696969;}#sk-container-id-3 label.sk-toggleable__label-arrow:hover:before {color: black;}#sk-container-id-3 div.sk-estimator:hover label.sk-toggleable__label-arrow:before {color: black;}#sk-container-id-3 div.sk-toggleable__content {max-height: 0;max-width: 0;overflow: hidden;text-align: left;background-color: #f0f8ff;}#sk-container-id-3 div.sk-toggleable__content pre {margin: 0.2em;color: black;border-radius: 0.25em;background-color: #f0f8ff;}#sk-container-id-3 input.sk-toggleable__control:checked~div.sk-toggleable__content {max-height: 200px;max-width: 100%;overflow: auto;}#sk-container-id-3 input.sk-toggleable__control:checked~label.sk-toggleable__label-arrow:before {content: \"▾\";}#sk-container-id-3 div.sk-estimator input.sk-toggleable__control:checked~label.sk-toggleable__label {background-color: #d4ebff;}#sk-container-id-3 div.sk-label input.sk-toggleable__control:checked~label.sk-toggleable__label {background-color: #d4ebff;}#sk-container-id-3 input.sk-hidden--visually {border: 0;clip: rect(1px 1px 1px 1px);clip: rect(1px, 1px, 1px, 1px);height: 1px;margin: -1px;overflow: hidden;padding: 0;position: absolute;width: 1px;}#sk-container-id-3 div.sk-estimator {font-family: monospace;background-color: #f0f8ff;border: 1px dotted black;border-radius: 0.25em;box-sizing: border-box;margin-bottom: 0.5em;}#sk-container-id-3 div.sk-estimator:hover {background-color: #d4ebff;}#sk-container-id-3 div.sk-parallel-item::after {content: \"\";width: 100%;border-bottom: 1px solid gray;flex-grow: 1;}#sk-container-id-3 div.sk-label:hover label.sk-toggleable__label {background-color: #d4ebff;}#sk-container-id-3 div.sk-serial::before {content: \"\";position: absolute;border-left: 1px solid gray;box-sizing: border-box;top: 0;bottom: 0;left: 50%;z-index: 0;}#sk-container-id-3 div.sk-serial {display: flex;flex-direction: column;align-items: center;background-color: white;padding-right: 0.2em;padding-left: 0.2em;position: relative;}#sk-container-id-3 div.sk-item {position: relative;z-index: 1;}#sk-container-id-3 div.sk-parallel {display: flex;align-items: stretch;justify-content: center;background-color: white;position: relative;}#sk-container-id-3 div.sk-item::before, #sk-container-id-3 div.sk-parallel-item::before {content: \"\";position: absolute;border-left: 1px solid gray;box-sizing: border-box;top: 0;bottom: 0;left: 50%;z-index: -1;}#sk-container-id-3 div.sk-parallel-item {display: flex;flex-direction: column;z-index: 1;position: relative;background-color: white;}#sk-container-id-3 div.sk-parallel-item:first-child::after {align-self: flex-end;width: 50%;}#sk-container-id-3 div.sk-parallel-item:last-child::after {align-self: flex-start;width: 50%;}#sk-container-id-3 div.sk-parallel-item:only-child::after {width: 0;}#sk-container-id-3 div.sk-dashed-wrapped {border: 1px dashed gray;margin: 0 0.4em 0.5em 0.4em;box-sizing: border-box;padding-bottom: 0.4em;background-color: white;}#sk-container-id-3 div.sk-label label {font-family: monospace;font-weight: bold;display: inline-block;line-height: 1.2em;}#sk-container-id-3 div.sk-label-container {text-align: center;}#sk-container-id-3 div.sk-container {/* jupyter's `normalize.less` sets `[hidden] { display: none; }` but bootstrap.min.css set `[hidden] { display: none !important; }` so we also need the `!important` here to be able to override the default hidden behavior on the sphinx rendered scikit-learn.org. See: https://github.com/scikit-learn/scikit-learn/issues/21755 */display: inline-block !important;position: relative;}#sk-container-id-3 div.sk-text-repr-fallback {display: none;}</style><div id=\"sk-container-id-3\" class=\"sk-top-container\"><div class=\"sk-text-repr-fallback\"><pre>RandomForestClassifier(max_depth=2, max_features=&#x27;auto&#x27;)</pre><b>In a Jupyter environment, please rerun this cell to show the HTML representation or trust the notebook. <br />On GitHub, the HTML representation is unable to render, please try loading this page with nbviewer.org.</b></div><div class=\"sk-container\" hidden><div class=\"sk-item\"><div class=\"sk-estimator sk-toggleable\"><input class=\"sk-toggleable__control sk-hidden--visually\" id=\"sk-estimator-id-3\" type=\"checkbox\" checked><label for=\"sk-estimator-id-3\" class=\"sk-toggleable__label sk-toggleable__label-arrow\">RandomForestClassifier</label><div class=\"sk-toggleable__content\"><pre>RandomForestClassifier(max_depth=2, max_features=&#x27;auto&#x27;)</pre></div></div></div></div></div>"
      ],
      "text/plain": [
       "RandomForestClassifier(max_depth=2, max_features='auto')"
      ]
     },
     "execution_count": 42,
     "metadata": {},
     "output_type": "execute_result"
    }
   ],
   "source": [
    "from sklearn.ensemble import RandomForestClassifier\n",
    "\n",
    "rf_params = {'bootstrap': True, 'ccp_alpha': 0.0, 'class_weight': None, 'criterion': 'gini', 'max_depth': 2, \n",
    "             'max_features': 'auto', 'max_leaf_nodes': None, 'max_samples': None, 'min_impurity_decrease': 0.0, \n",
    "             'min_samples_leaf': 1, 'min_samples_split': 2, 'min_weight_fraction_leaf': 0.0, 'n_estimators': 100, \n",
    "             'n_jobs': None, 'oob_score': False, 'random_state': None, 'verbose': 0, 'warm_start': False}\n",
    "\n",
    "rf_clf = RandomForestClassifier(**rf_params)\n",
    "rf_clf.fit(X_train, y_train)"
   ]
  },
  {
   "cell_type": "code",
   "execution_count": 45,
   "id": "5fb73393",
   "metadata": {},
   "outputs": [
    {
     "data": {
      "image/png": "[encoded data removed]",
      "text/plain": [
       "<Figure size 432x288 with 1 Axes>"
      ]
     },
     "metadata": {
      "needs_background": "light"
     },
     "output_type": "display_data"
    },
    {
     "name": "stdout",
     "output_type": "stream",
     "text": [
      "This node split on feature PAY_0, at a value of 1.5\n"
     ]
    }
   ],
   "source": [
    "import matplotlib.pyplot as plt\n",
    "\n",
    "tree_viz_image = plt.imread('tree_viz_image.png')\n",
    "\n",
    "# Extract the 7th (index 6) tree from the random forest\n",
    "chosen_tree = rf_clf.estimators_[6]\n",
    "\n",
    "# Visualize the graph using the provided image\n",
    "imgplot = plt.imshow(tree_viz_image)\n",
    "plt.show()\n",
    "\n",
    "# Extract the parameters and level of the top (index 0) node\n",
    "split_column = chosen_tree.tree_.feature[0]\n",
    "split_column_name = X_train.columns[split_column]\n",
    "split_value = chosen_tree.tree_.threshold[0]\n",
    "\n",
    "# Print out the feature and level\n",
    "print(\"This node split on feature {}, at a value of {}\".format(split_column_name, split_value))"
   ]
  },
  {
   "cell_type": "markdown",
   "id": "16d4ff7a",
   "metadata": {},
   "source": [
    "Answer: oob_score"
   ]
  },
  {
   "cell_type": "code",
   "execution_count": 46,
   "id": "be939ea4",
   "metadata": {},
   "outputs": [
    {
     "data": {
      "text/html": [
       "<div>\n",
       "<style scoped>\n",
       "    .dataframe tbody tr th:only-of-type {\n",
       "        vertical-align: middle;\n",
       "    }\n",
       "\n",
       "    .dataframe tbody tr th {\n",
       "        vertical-align: top;\n",
       "    }\n",
       "\n",
       "    .dataframe thead th {\n",
       "        text-align: right;\n",
       "    }\n",
       "</style>\n",
       "<table border=\"1\" class=\"dataframe\">\n",
       "  <thead>\n",
       "    <tr style=\"text-align: right;\">\n",
       "      <th></th>\n",
       "      <th>LIMIT_BAL</th>\n",
       "      <th>AGE</th>\n",
       "      <th>PAY_0</th>\n",
       "      <th>PAY_2</th>\n",
       "      <th>PAY_3</th>\n",
       "      <th>PAY_4</th>\n",
       "      <th>PAY_5</th>\n",
       "      <th>PAY_6</th>\n",
       "      <th>BILL_AMT1</th>\n",
       "      <th>BILL_AMT2</th>\n",
       "      <th>...</th>\n",
       "      <th>SEX_2</th>\n",
       "      <th>EDUCATION_1</th>\n",
       "      <th>EDUCATION_2</th>\n",
       "      <th>EDUCATION_3</th>\n",
       "      <th>EDUCATION_4</th>\n",
       "      <th>EDUCATION_5</th>\n",
       "      <th>EDUCATION_6</th>\n",
       "      <th>MARRIAGE_1</th>\n",
       "      <th>MARRIAGE_2</th>\n",
       "      <th>MARRIAGE_3</th>\n",
       "    </tr>\n",
       "  </thead>\n",
       "  <tbody>\n",
       "    <tr>\n",
       "      <th>7907</th>\n",
       "      <td>50000</td>\n",
       "      <td>29</td>\n",
       "      <td>0</td>\n",
       "      <td>0</td>\n",
       "      <td>2</td>\n",
       "      <td>2</td>\n",
       "      <td>2</td>\n",
       "      <td>0</td>\n",
       "      <td>24043</td>\n",
       "      <td>26806</td>\n",
       "      <td>...</td>\n",
       "      <td>0</td>\n",
       "      <td>0</td>\n",
       "      <td>1</td>\n",
       "      <td>0</td>\n",
       "      <td>0</td>\n",
       "      <td>0</td>\n",
       "      <td>0</td>\n",
       "      <td>0</td>\n",
       "      <td>1</td>\n",
       "      <td>0</td>\n",
       "    </tr>\n",
       "    <tr>\n",
       "      <th>5190</th>\n",
       "      <td>100000</td>\n",
       "      <td>30</td>\n",
       "      <td>1</td>\n",
       "      <td>-2</td>\n",
       "      <td>-2</td>\n",
       "      <td>-1</td>\n",
       "      <td>2</td>\n",
       "      <td>0</td>\n",
       "      <td>0</td>\n",
       "      <td>0</td>\n",
       "      <td>...</td>\n",
       "      <td>1</td>\n",
       "      <td>0</td>\n",
       "      <td>1</td>\n",
       "      <td>0</td>\n",
       "      <td>0</td>\n",
       "      <td>0</td>\n",
       "      <td>0</td>\n",
       "      <td>0</td>\n",
       "      <td>1</td>\n",
       "      <td>0</td>\n",
       "    </tr>\n",
       "    <tr>\n",
       "      <th>23872</th>\n",
       "      <td>230000</td>\n",
       "      <td>30</td>\n",
       "      <td>-1</td>\n",
       "      <td>0</td>\n",
       "      <td>-1</td>\n",
       "      <td>0</td>\n",
       "      <td>0</td>\n",
       "      <td>0</td>\n",
       "      <td>9125</td>\n",
       "      <td>7795</td>\n",
       "      <td>...</td>\n",
       "      <td>0</td>\n",
       "      <td>0</td>\n",
       "      <td>1</td>\n",
       "      <td>0</td>\n",
       "      <td>0</td>\n",
       "      <td>0</td>\n",
       "      <td>0</td>\n",
       "      <td>0</td>\n",
       "      <td>1</td>\n",
       "      <td>0</td>\n",
       "    </tr>\n",
       "    <tr>\n",
       "      <th>16770</th>\n",
       "      <td>40000</td>\n",
       "      <td>38</td>\n",
       "      <td>3</td>\n",
       "      <td>2</td>\n",
       "      <td>0</td>\n",
       "      <td>0</td>\n",
       "      <td>2</td>\n",
       "      <td>0</td>\n",
       "      <td>38291</td>\n",
       "      <td>37380</td>\n",
       "      <td>...</td>\n",
       "      <td>0</td>\n",
       "      <td>0</td>\n",
       "      <td>1</td>\n",
       "      <td>0</td>\n",
       "      <td>0</td>\n",
       "      <td>0</td>\n",
       "      <td>0</td>\n",
       "      <td>1</td>\n",
       "      <td>0</td>\n",
       "      <td>0</td>\n",
       "    </tr>\n",
       "    <tr>\n",
       "      <th>19295</th>\n",
       "      <td>360000</td>\n",
       "      <td>41</td>\n",
       "      <td>-1</td>\n",
       "      <td>-1</td>\n",
       "      <td>-1</td>\n",
       "      <td>-1</td>\n",
       "      <td>-1</td>\n",
       "      <td>-1</td>\n",
       "      <td>3640</td>\n",
       "      <td>1436</td>\n",
       "      <td>...</td>\n",
       "      <td>1</td>\n",
       "      <td>0</td>\n",
       "      <td>1</td>\n",
       "      <td>0</td>\n",
       "      <td>0</td>\n",
       "      <td>0</td>\n",
       "      <td>0</td>\n",
       "      <td>0</td>\n",
       "      <td>1</td>\n",
       "      <td>0</td>\n",
       "    </tr>\n",
       "    <tr>\n",
       "      <th>...</th>\n",
       "      <td>...</td>\n",
       "      <td>...</td>\n",
       "      <td>...</td>\n",
       "      <td>...</td>\n",
       "      <td>...</td>\n",
       "      <td>...</td>\n",
       "      <td>...</td>\n",
       "      <td>...</td>\n",
       "      <td>...</td>\n",
       "      <td>...</td>\n",
       "      <td>...</td>\n",
       "      <td>...</td>\n",
       "      <td>...</td>\n",
       "      <td>...</td>\n",
       "      <td>...</td>\n",
       "      <td>...</td>\n",
       "      <td>...</td>\n",
       "      <td>...</td>\n",
       "      <td>...</td>\n",
       "      <td>...</td>\n",
       "      <td>...</td>\n",
       "    </tr>\n",
       "    <tr>\n",
       "      <th>9920</th>\n",
       "      <td>200000</td>\n",
       "      <td>34</td>\n",
       "      <td>1</td>\n",
       "      <td>2</td>\n",
       "      <td>2</td>\n",
       "      <td>3</td>\n",
       "      <td>2</td>\n",
       "      <td>2</td>\n",
       "      <td>138839</td>\n",
       "      <td>142121</td>\n",
       "      <td>...</td>\n",
       "      <td>0</td>\n",
       "      <td>0</td>\n",
       "      <td>0</td>\n",
       "      <td>1</td>\n",
       "      <td>0</td>\n",
       "      <td>0</td>\n",
       "      <td>0</td>\n",
       "      <td>0</td>\n",
       "      <td>1</td>\n",
       "      <td>0</td>\n",
       "    </tr>\n",
       "    <tr>\n",
       "      <th>5105</th>\n",
       "      <td>80000</td>\n",
       "      <td>45</td>\n",
       "      <td>0</td>\n",
       "      <td>0</td>\n",
       "      <td>0</td>\n",
       "      <td>0</td>\n",
       "      <td>0</td>\n",
       "      <td>0</td>\n",
       "      <td>28219</td>\n",
       "      <td>29276</td>\n",
       "      <td>...</td>\n",
       "      <td>0</td>\n",
       "      <td>0</td>\n",
       "      <td>1</td>\n",
       "      <td>0</td>\n",
       "      <td>0</td>\n",
       "      <td>0</td>\n",
       "      <td>0</td>\n",
       "      <td>0</td>\n",
       "      <td>0</td>\n",
       "      <td>1</td>\n",
       "    </tr>\n",
       "    <tr>\n",
       "      <th>26758</th>\n",
       "      <td>50000</td>\n",
       "      <td>27</td>\n",
       "      <td>0</td>\n",
       "      <td>0</td>\n",
       "      <td>0</td>\n",
       "      <td>0</td>\n",
       "      <td>0</td>\n",
       "      <td>0</td>\n",
       "      <td>19657</td>\n",
       "      <td>20723</td>\n",
       "      <td>...</td>\n",
       "      <td>0</td>\n",
       "      <td>0</td>\n",
       "      <td>1</td>\n",
       "      <td>0</td>\n",
       "      <td>0</td>\n",
       "      <td>0</td>\n",
       "      <td>0</td>\n",
       "      <td>0</td>\n",
       "      <td>1</td>\n",
       "      <td>0</td>\n",
       "    </tr>\n",
       "    <tr>\n",
       "      <th>11093</th>\n",
       "      <td>210000</td>\n",
       "      <td>40</td>\n",
       "      <td>0</td>\n",
       "      <td>0</td>\n",
       "      <td>0</td>\n",
       "      <td>0</td>\n",
       "      <td>0</td>\n",
       "      <td>0</td>\n",
       "      <td>60183</td>\n",
       "      <td>63035</td>\n",
       "      <td>...</td>\n",
       "      <td>0</td>\n",
       "      <td>1</td>\n",
       "      <td>0</td>\n",
       "      <td>0</td>\n",
       "      <td>0</td>\n",
       "      <td>0</td>\n",
       "      <td>0</td>\n",
       "      <td>1</td>\n",
       "      <td>0</td>\n",
       "      <td>0</td>\n",
       "    </tr>\n",
       "    <tr>\n",
       "      <th>5053</th>\n",
       "      <td>320000</td>\n",
       "      <td>32</td>\n",
       "      <td>0</td>\n",
       "      <td>0</td>\n",
       "      <td>0</td>\n",
       "      <td>0</td>\n",
       "      <td>0</td>\n",
       "      <td>0</td>\n",
       "      <td>75122</td>\n",
       "      <td>70308</td>\n",
       "      <td>...</td>\n",
       "      <td>0</td>\n",
       "      <td>0</td>\n",
       "      <td>1</td>\n",
       "      <td>0</td>\n",
       "      <td>0</td>\n",
       "      <td>0</td>\n",
       "      <td>0</td>\n",
       "      <td>0</td>\n",
       "      <td>1</td>\n",
       "      <td>0</td>\n",
       "    </tr>\n",
       "  </tbody>\n",
       "</table>\n",
       "<p>2000 rows × 31 columns</p>\n",
       "</div>"
      ],
      "text/plain": [
       "       LIMIT_BAL  AGE  PAY_0  PAY_2  PAY_3  PAY_4  PAY_5  PAY_6  BILL_AMT1  \\\n",
       "7907       50000   29      0      0      2      2      2      0      24043   \n",
       "5190      100000   30      1     -2     -2     -1      2      0          0   \n",
       "23872     230000   30     -1      0     -1      0      0      0       9125   \n",
       "16770      40000   38      3      2      0      0      2      0      38291   \n",
       "19295     360000   41     -1     -1     -1     -1     -1     -1       3640   \n",
       "...          ...  ...    ...    ...    ...    ...    ...    ...        ...   \n",
       "9920      200000   34      1      2      2      3      2      2     138839   \n",
       "5105       80000   45      0      0      0      0      0      0      28219   \n",
       "26758      50000   27      0      0      0      0      0      0      19657   \n",
       "11093     210000   40      0      0      0      0      0      0      60183   \n",
       "5053      320000   32      0      0      0      0      0      0      75122   \n",
       "\n",
       "       BILL_AMT2  ...  SEX_2  EDUCATION_1  EDUCATION_2  EDUCATION_3  \\\n",
       "7907       26806  ...      0            0            1            0   \n",
       "5190           0  ...      1            0            1            0   \n",
       "23872       7795  ...      0            0            1            0   \n",
       "16770      37380  ...      0            0            1            0   \n",
       "19295       1436  ...      1            0            1            0   \n",
       "...          ...  ...    ...          ...          ...          ...   \n",
       "9920      142121  ...      0            0            0            1   \n",
       "5105       29276  ...      0            0            1            0   \n",
       "26758      20723  ...      0            0            1            0   \n",
       "11093      63035  ...      0            1            0            0   \n",
       "5053       70308  ...      0            0            1            0   \n",
       "\n",
       "       EDUCATION_4  EDUCATION_5  EDUCATION_6  MARRIAGE_1  MARRIAGE_2  \\\n",
       "7907             0            0            0           0           1   \n",
       "5190             0            0            0           0           1   \n",
       "23872            0            0            0           0           1   \n",
       "16770            0            0            0           1           0   \n",
       "19295            0            0            0           0           1   \n",
       "...            ...          ...          ...         ...         ...   \n",
       "9920             0            0            0           0           1   \n",
       "5105             0            0            0           0           0   \n",
       "26758            0            0            0           0           1   \n",
       "11093            0            0            0           1           0   \n",
       "5053             0            0            0           0           1   \n",
       "\n",
       "       MARRIAGE_3  \n",
       "7907            0  \n",
       "5190            0  \n",
       "23872           0  \n",
       "16770           0  \n",
       "19295           0  \n",
       "...           ...  \n",
       "9920            0  \n",
       "5105            1  \n",
       "26758           0  \n",
       "11093           0  \n",
       "5053            0  \n",
       "\n",
       "[2000 rows x 31 columns]"
      ]
     },
     "execution_count": 46,
     "metadata": {},
     "output_type": "execute_result"
    }
   ],
   "source": [
    "import pandas as pd\n",
    "import numpy as np\n",
    "\n",
    "df = pd.read_csv('credit-card-full.csv')\n",
    "df_encoded = pd.get_dummies(df, columns=['SEX', 'EDUCATION', 'MARRIAGE'], prefix=['SEX', 'EDUCATION', 'MARRIAGE'])\n",
    "df_final = df_encoded.drop(['EDUCATION_0', 'ID', 'MARRIAGE_0', 'SEX_1'], axis=1)\n",
    "\n",
    "df_sample = df_final.sample(2000)\n",
    "df_sample"
   ]
  },
  {
   "cell_type": "code",
   "execution_count": 48,
   "id": "9a3a3586",
   "metadata": {},
   "outputs": [],
   "source": [
    "from sklearn.model_selection import train_test_split\n",
    "\n",
    "X = df_sample.drop(['default payment next month'], axis=1)\n",
    "y = df_sample['default payment next month']\n",
    "\n",
    "X_train, X_test, y_train, y_test = train_test_split(X, y, test_size=0.2, random_state=31)"
   ]
  },
  {
   "cell_type": "code",
   "execution_count": 49,
   "id": "3d0a0571",
   "metadata": {},
   "outputs": [],
   "source": [
    "rf_clf_old = RandomForestClassifier(n_estimators=5, random_state=42)\n",
    "rf_clf_old.fit(X_train, y_train)\n",
    "rf_old_predictions = rf_clf_old.predict(X_test)"
   ]
  },
  {
   "cell_type": "code",
   "execution_count": 52,
   "id": "6f43a9f7",
   "metadata": {},
   "outputs": [
    {
     "name": "stdout",
     "output_type": "stream",
     "text": [
      "RandomForestClassifier(n_estimators=5, random_state=42)\n",
      "Confusion Matrix: \n",
      "\n",
      " [[274  33]\n",
      " [ 68  25]] \n",
      " Accuracy Score: \n",
      "\n",
      " 0.7475\n",
      "Confusion Matrix: \n",
      "\n",
      " [[288  19]\n",
      " [ 67  26]]\n",
      "Accuracy Score: \n",
      "\n",
      " 0.785\n"
     ]
    }
   ],
   "source": [
    "from sklearn.metrics import confusion_matrix, accuracy_score\n",
    "\n",
    "# Print out the old estimator, notice which hyperparameter is badly set\n",
    "print(rf_clf_old)\n",
    "\n",
    "# Get confusion matrix & accuracy for the old rf_model\n",
    "print(\"Confusion Matrix: \\n\\n {} \\n Accuracy Score: \\n\\n {}\".format(\n",
    "  confusion_matrix(y_test, rf_old_predictions),\n",
    "  accuracy_score(y_test, rf_old_predictions))) \n",
    "\n",
    "# Create a new random forest classifier with better hyperparamaters\n",
    "rf_clf_new = RandomForestClassifier(n_estimators=500)\n",
    "\n",
    "# Fit this to the data and obtain predictions\n",
    "rf_new_predictions = rf_clf_new.fit(X_train, y_train).predict(X_test)\n",
    "\n",
    "# Assess the new model (using new predictions!)\n",
    "print(\"Confusion Matrix: \\n\\n\", confusion_matrix(y_test, rf_new_predictions))\n",
    "print(\"Accuracy Score: \\n\\n\", accuracy_score(y_test, rf_new_predictions))"
   ]
  },
  {
   "cell_type": "code",
   "execution_count": 54,
   "id": "13e027f0",
   "metadata": {},
   "outputs": [
    {
     "name": "stdout",
     "output_type": "stream",
     "text": [
      "The accuracy of 5, 10, 20 neighbours was 0.73, 0.7575, 0.77\n"
     ]
    }
   ],
   "source": [
    "from sklearn.neighbors import KNeighborsClassifier\n",
    "\n",
    "# Build a knn estimator for each value of n_neighbours\n",
    "knn_5 = KNeighborsClassifier(n_neighbors=5)\n",
    "knn_10 = KNeighborsClassifier(n_neighbors=10)\n",
    "knn_20 = KNeighborsClassifier(n_neighbors=20)\n",
    "\n",
    "# Fit each to the training data & produce predictions\n",
    "knn_5_predictions = knn_5.fit(X_train, y_train).predict(X_test)\n",
    "knn_10_predictions = knn_10.fit(X_train, y_train).predict(X_test)\n",
    "knn_20_predictions = knn_20.fit(X_train, y_train).predict(X_test)\n",
    "\n",
    "# Get an accuracy score for each of the models\n",
    "knn_5_accuracy = accuracy_score(y_test, knn_5_predictions)\n",
    "knn_10_accuracy = accuracy_score(y_test, knn_10_predictions)\n",
    "knn_20_accuracy = accuracy_score(y_test, knn_20_predictions)\n",
    "print(\"The accuracy of 5, 10, 20 neighbours was {}, {}, {}\".format(knn_5_accuracy, knn_10_accuracy, knn_20_accuracy))"
   ]
  },
  {
   "cell_type": "code",
   "execution_count": 56,
   "id": "61de7948",
   "metadata": {},
   "outputs": [
    {
     "name": "stdout",
     "output_type": "stream",
     "text": [
      "   learning_rate  accuracy\n",
      "0          0.001    0.7675\n",
      "1          0.010    0.7875\n",
      "2          0.050    0.7950\n",
      "3          0.100    0.7800\n",
      "4          0.200    0.7750\n",
      "5          0.500    0.7575\n"
     ]
    }
   ],
   "source": [
    "from sklearn.ensemble import GradientBoostingClassifier\n",
    "\n",
    "# Set the learning rates & results storage\n",
    "learning_rates = [ 0.001, 0.01, 0.05, 0.1, 0.2, 0.5]\n",
    "results_list = []\n",
    "\n",
    "# Create the for loop to evaluate model predictions for each learning rate\n",
    "for learning_rate in learning_rates:\n",
    "    model = GradientBoostingClassifier(learning_rate=learning_rate)\n",
    "    predictions = model.fit(X_train, y_train).predict(X_test)\n",
    "    # Save the learning rate and accuracy score\n",
    "    results_list.append([learning_rate, accuracy_score(y_test, predictions)])\n",
    "\n",
    "# Gather everything into a DataFrame\n",
    "results_df = pd.DataFrame(results_list, columns=['learning_rate', 'accuracy'])\n",
    "print(results_df)"
   ]
  },
  {
   "cell_type": "code",
   "execution_count": 57,
   "id": "49b8873e",
   "metadata": {},
   "outputs": [
    {
     "data": {
      "image/png": "[encoded data removed]",
      "text/plain": [
       "<Figure size 432x288 with 1 Axes>"
      ]
     },
     "metadata": {
      "needs_background": "light"
     },
     "output_type": "display_data"
    }
   ],
   "source": [
    "# Set the learning rates & accuracies list\n",
    "learn_rates = np.linspace(0.01, 2, num=30)\n",
    "accuracies = []\n",
    "\n",
    "# Create the for loop\n",
    "for learn_rate in learn_rates:\n",
    "    # Create the model, predictions & save the accuracies as before\n",
    "    model = GradientBoostingClassifier(learning_rate=learn_rate)\n",
    "    predictions = model.fit(X_train, y_train).predict(X_test)\n",
    "    accuracies.append(accuracy_score(y_test, predictions))\n",
    "\n",
    "# Plot results    \n",
    "plt.plot(learn_rates, accuracies)\n",
    "plt.gca().set(xlabel='learning_rate', ylabel='Accuracy', title='Accuracy for different learning_rates')\n",
    "plt.show()"
   ]
  },
  {
   "cell_type": "markdown",
   "id": "55b0d0d9",
   "metadata": {},
   "source": [
    "## 2. Grid Search"
   ]
  },
  {
   "cell_type": "code",
   "execution_count": 58,
   "id": "7fad5c02",
   "metadata": {},
   "outputs": [],
   "source": [
    "df_sample = df_final.sample(500)\n",
    "\n",
    "X = df_sample.drop(['default payment next month'], axis=1)\n",
    "y = df_sample['default payment next month']\n",
    "\n",
    "X_train, X_test, y_train, y_test = train_test_split(X, y, test_size=0.2, random_state=31)"
   ]
  },
  {
   "cell_type": "code",
   "execution_count": 59,
   "id": "efcfdfb5",
   "metadata": {},
   "outputs": [],
   "source": [
    "# Create the function\n",
    "def gbm_grid_search(learning_rate, max_depth):\n",
    "\n",
    "    # Create the model\n",
    "    model = GradientBoostingClassifier(learning_rate=learning_rate, max_depth=max_depth)\n",
    "    \n",
    "    # Use the model to make predictions\n",
    "    predictions = model.fit(X_train, y_train).predict(X_test)\n",
    "    \n",
    "    # Return the hyperparameters and score\n",
    "    return([learning_rate, max_depth, accuracy_score(y_test, predictions)])"
   ]
  },
  {
   "cell_type": "code",
   "execution_count": 60,
   "id": "c7249004",
   "metadata": {},
   "outputs": [
    {
     "name": "stdout",
     "output_type": "stream",
     "text": [
      "[[0.01, 2, 0.78], [0.01, 4, 0.77], [0.01, 6, 0.77], [0.1, 2, 0.76], [0.1, 4, 0.75], [0.1, 6, 0.72], [0.5, 2, 0.73], [0.5, 4, 0.69], [0.5, 6, 0.74]]\n"
     ]
    }
   ],
   "source": [
    "# Create the relevant lists\n",
    "results_list = []\n",
    "learn_rate_list = (0.01, 0.1, 0.5)\n",
    "max_depth_list = (2, 4, 6)\n",
    "\n",
    "# Create the for loop\n",
    "for learn_rate in learn_rate_list:\n",
    "    for max_depth in max_depth_list:\n",
    "        results_list.append(gbm_grid_search(learn_rate,max_depth))\n",
    "\n",
    "# Print the results\n",
    "print(results_list)   "
   ]
  },
  {
   "cell_type": "code",
   "execution_count": 61,
   "id": "d2a6d3e8",
   "metadata": {},
   "outputs": [],
   "source": [
    "results_list = []\n",
    "learn_rate_list = [0.01, 0.1, 0.5]\n",
    "max_depth_list = [2,4,6]\n",
    "\n",
    "# Extend the function input\n",
    "def gbm_grid_search_extended(learn_rate, max_depth, subsample):\n",
    "\n",
    "    # Extend the model creation section\n",
    "    model = GradientBoostingClassifier(learning_rate=learn_rate, max_depth=max_depth, subsample=subsample)\n",
    "    \n",
    "    predictions = model.fit(X_train, y_train).predict(X_test)\n",
    "    \n",
    "    # Extend the return part\n",
    "    return([learn_rate, max_depth, subsample, accuracy_score(y_test, predictions)])       "
   ]
  },
  {
   "cell_type": "code",
   "execution_count": 62,
   "id": "499cca2f",
   "metadata": {},
   "outputs": [
    {
     "name": "stdout",
     "output_type": "stream",
     "text": [
      "[[0.01, 2, 0.4, 0.76], [0.01, 2, 0.6, 0.76], [0.01, 4, 0.4, 0.75], [0.01, 4, 0.6, 0.76], [0.01, 6, 0.4, 0.76], [0.01, 6, 0.6, 0.75], [0.1, 2, 0.4, 0.78], [0.1, 2, 0.6, 0.76], [0.1, 4, 0.4, 0.77], [0.1, 4, 0.6, 0.79], [0.1, 6, 0.4, 0.77], [0.1, 6, 0.6, 0.8], [0.5, 2, 0.4, 0.7], [0.5, 2, 0.6, 0.71], [0.5, 4, 0.4, 0.64], [0.5, 4, 0.6, 0.74], [0.5, 6, 0.4, 0.62], [0.5, 6, 0.6, 0.73]]\n"
     ]
    }
   ],
   "source": [
    "results_list = []\n",
    "\n",
    "# Create the new list to test\n",
    "subsample_list = [0.4 , 0.6]\n",
    "\n",
    "for learn_rate in learn_rate_list:\n",
    "    for max_depth in max_depth_list:\n",
    "    \n",
    "        # Extend the for loop\n",
    "        for subsample in subsample_list:\n",
    "            \n",
    "            # Extend the results to include the new hyperparameter\n",
    "            results_list.append(gbm_grid_search_extended(learn_rate, max_depth, subsample))\n",
    "            \n",
    "# Print results\n",
    "print(results_list)"
   ]
  },
  {
   "cell_type": "markdown",
   "id": "0bf3634e",
   "metadata": {},
   "source": [
    "Answer: 1215"
   ]
  },
  {
   "cell_type": "markdown",
   "id": "899c2c3c",
   "metadata": {},
   "source": [
    "    Model #1:\n",
    "     GridSearchCV(\n",
    "        estimator = RandomForestClassifier(),\n",
    "        param_grid = {'max_depth': [2, 4, 8, 15], 'max_features': ['auto', 'sqrt']},\n",
    "        scoring='roc_auc',\n",
    "        n_jobs=4,\n",
    "        cv=5,\n",
    "        refit=True, return_train_score=True) \n",
    "\n",
    "\n",
    "    Model #2:\n",
    "     GridSearchCV(\n",
    "        estimator = KNeighborsClassifier(),\n",
    "        param_grid = {'n_neighbors': [5, 10, 20], 'algorithm': ['ball_tree', 'brute']},\n",
    "        scoring='accuracy',\n",
    "        n_jobs=8,\n",
    "        cv=10,\n",
    "        refit=False) \n",
    "\n",
    "\n",
    "    Model #3:\n",
    "     GridSearchCV(\n",
    "        estimator = GradientBoostingClassifier(),\n",
    "        param_grid = {'number_attempts': [2, 4, 6], 'max_depth': [3, 6, 9, 12]},\n",
    "        scoring='accuracy',\n",
    "        n_jobs=2,\n",
    "        cv=7,\n",
    "        refit=True) "
   ]
  },
  {
   "cell_type": "markdown",
   "id": "651e08b2",
   "metadata": {},
   "source": [
    "Answer: model_3  would not work when we try to fit it."
   ]
  },
  {
   "cell_type": "code",
   "execution_count": 63,
   "id": "610f914d",
   "metadata": {},
   "outputs": [
    {
     "name": "stdout",
     "output_type": "stream",
     "text": [
      "GridSearchCV(cv=5, estimator=RandomForestClassifier(criterion='entropy'),\n",
      "             n_jobs=4,\n",
      "             param_grid={'max_depth': (2, 4, 8, 15),\n",
      "                         'max_features': ('auto', 'sqrt')},\n",
      "             return_train_score=True, scoring='roc_auc')\n"
     ]
    }
   ],
   "source": [
    "from sklearn.model_selection import GridSearchCV\n",
    "\n",
    "# Create a Random Forest Classifier with specified criterion\n",
    "rf_class = RandomForestClassifier(criterion='entropy')\n",
    "\n",
    "# Create the parameter grid\n",
    "param_grid = {'max_depth' : (2, 4, 8, 15), 'max_features' : ('auto', 'sqrt')} \n",
    "\n",
    "# Create a GridSearchCV object\n",
    "grid_rf_class = GridSearchCV(\n",
    "    estimator=rf_class,\n",
    "    param_grid=param_grid,\n",
    "    scoring='roc_auc',\n",
    "    n_jobs=4,\n",
    "    cv=5,\n",
    "    refit=True, return_train_score=True)\n",
    "print(grid_rf_class)"
   ]
  },
  {
   "cell_type": "markdown",
   "id": "cdbb1fe1",
   "metadata": {},
   "source": [
    "Answer: refit = True"
   ]
  },
  {
   "cell_type": "code",
   "execution_count": 78,
   "id": "076ba2b3",
   "metadata": {},
   "outputs": [],
   "source": [
    "rf_class = RandomForestClassifier(criterion='entropy')\n",
    "param_grid = {'max_depth' : (2, 4, 8, 15), 'max_features' : ('auto', 'sqrt'), 'n_estimators' : (100, 200, 300)} \n",
    "grid_rf_class = GridSearchCV(estimator=rf_class, param_grid=param_grid, scoring='roc_auc', \n",
    "                             n_jobs=4, cv=5, refit=True, return_train_score=True)"
   ]
  },
  {
   "cell_type": "code",
   "execution_count": 79,
   "id": "077b2337",
   "metadata": {
    "scrolled": false
   },
   "outputs": [
    {
     "name": "stdout",
     "output_type": "stream",
     "text": [
      "    mean_fit_time  std_fit_time  mean_score_time  std_score_time  \\\n",
      "0        0.353467      0.022441         0.022152        0.007055   \n",
      "1        0.654546      0.011328         0.044493        0.003847   \n",
      "2        1.037812      0.080116         0.062904        0.016746   \n",
      "3        0.356382      0.034225         0.022947        0.005485   \n",
      "4        0.647901      0.037363         0.051246        0.009350   \n",
      "5        0.981798      0.025119         0.064743        0.015080   \n",
      "6        0.393545      0.016206         0.031023        0.009257   \n",
      "7        0.754373      0.035098         0.045859        0.007437   \n",
      "8        1.103846      0.052606         0.067337        0.022416   \n",
      "9        0.378542      0.054999         0.029330        0.010238   \n",
      "10       0.764557      0.070293         0.044324        0.007789   \n",
      "11       1.056849      0.006882         0.056768        0.009222   \n",
      "12       0.418371      0.012731         0.023794        0.004277   \n",
      "13       0.770378      0.009765         0.039221        0.008722   \n",
      "14       1.158995      0.005652         0.052184        0.006034   \n",
      "15       0.377032      0.010637         0.016901        0.001160   \n",
      "16       0.759823      0.007552         0.035000        0.006402   \n",
      "17       1.117800      0.012260         0.048817        0.008367   \n",
      "18       0.403228      0.009406         0.022936        0.008071   \n",
      "19       0.832679      0.025134         0.045179        0.004928   \n",
      "20       1.299356      0.021681         0.063791        0.008166   \n",
      "21       0.423776      0.010429         0.022899        0.005366   \n",
      "22       0.839691      0.015656         0.039562        0.006033   \n",
      "23       1.339434      0.129523         0.055107        0.011928   \n",
      "\n",
      "   param_max_depth param_max_features param_n_estimators  \\\n",
      "0                2               auto                100   \n",
      "1                2               auto                200   \n",
      "2                2               auto                300   \n",
      "3                2               sqrt                100   \n",
      "4                2               sqrt                200   \n",
      "5                2               sqrt                300   \n",
      "6                4               auto                100   \n",
      "7                4               auto                200   \n",
      "8                4               auto                300   \n",
      "9                4               sqrt                100   \n",
      "10               4               sqrt                200   \n",
      "11               4               sqrt                300   \n",
      "12               8               auto                100   \n",
      "13               8               auto                200   \n",
      "14               8               auto                300   \n",
      "15               8               sqrt                100   \n",
      "16               8               sqrt                200   \n",
      "17               8               sqrt                300   \n",
      "18              15               auto                100   \n",
      "19              15               auto                200   \n",
      "20              15               auto                300   \n",
      "21              15               sqrt                100   \n",
      "22              15               sqrt                200   \n",
      "23              15               sqrt                300   \n",
      "\n",
      "                                               params  split0_test_score  \\\n",
      "0   {'max_depth': 2, 'max_features': 'auto', 'n_es...           0.703192   \n",
      "1   {'max_depth': 2, 'max_features': 'auto', 'n_es...           0.714409   \n",
      "2   {'max_depth': 2, 'max_features': 'auto', 'n_es...           0.724763   \n",
      "3   {'max_depth': 2, 'max_features': 'sqrt', 'n_es...           0.704055   \n",
      "4   {'max_depth': 2, 'max_features': 'sqrt', 'n_es...           0.723037   \n",
      "5   {'max_depth': 2, 'max_features': 'sqrt', 'n_es...           0.710095   \n",
      "6   {'max_depth': 4, 'max_features': 'auto', 'n_es...           0.703192   \n",
      "7   {'max_depth': 4, 'max_features': 'auto', 'n_es...           0.704918   \n",
      "8   {'max_depth': 4, 'max_features': 'auto', 'n_es...           0.714409   \n",
      "9   {'max_depth': 4, 'max_features': 'sqrt', 'n_es...           0.704918   \n",
      "10  {'max_depth': 4, 'max_features': 'sqrt', 'n_es...           0.716997   \n",
      "11  {'max_depth': 4, 'max_features': 'sqrt', 'n_es...           0.699741   \n",
      "12  {'max_depth': 8, 'max_features': 'auto', 'n_es...           0.685073   \n",
      "13  {'max_depth': 8, 'max_features': 'auto', 'n_es...           0.685936   \n",
      "14  {'max_depth': 8, 'max_features': 'auto', 'n_es...           0.719586   \n",
      "15  {'max_depth': 8, 'max_features': 'sqrt', 'n_es...           0.688525   \n",
      "16  {'max_depth': 8, 'max_features': 'sqrt', 'n_es...           0.684211   \n",
      "17  {'max_depth': 8, 'max_features': 'sqrt', 'n_es...           0.710095   \n",
      "18  {'max_depth': 15, 'max_features': 'auto', 'n_e...           0.679465   \n",
      "19  {'max_depth': 15, 'max_features': 'auto', 'n_e...           0.691544   \n",
      "20  {'max_depth': 15, 'max_features': 'auto', 'n_e...           0.708801   \n",
      "21  {'max_depth': 15, 'max_features': 'sqrt', 'n_e...           0.702330   \n",
      "22  {'max_depth': 15, 'max_features': 'sqrt', 'n_e...           0.722174   \n",
      "23  {'max_depth': 15, 'max_features': 'sqrt', 'n_e...           0.696721   \n",
      "\n",
      "    split1_test_score  ...  mean_test_score  std_test_score  rank_test_score  \\\n",
      "0            0.828300  ...         0.794564        0.047693                6   \n",
      "1            0.834340  ...         0.795513        0.042448                5   \n",
      "2            0.831752  ...         0.796894        0.038345                3   \n",
      "3            0.834340  ...         0.789646        0.045710               15   \n",
      "4            0.834340  ...         0.794305        0.038162                7   \n",
      "5            0.840380  ...         0.792580        0.044321               11   \n",
      "6            0.847282  ...         0.793443        0.048304                9   \n",
      "7            0.853322  ...         0.798447        0.050466                1   \n",
      "8            0.851596  ...         0.798447        0.047096                1   \n",
      "9            0.846419  ...         0.793356        0.047299               10   \n",
      "10           0.842105  ...         0.791372        0.041207               12   \n",
      "11           0.849871  ...         0.794305        0.051632                8   \n",
      "12           0.872304  ...         0.786885        0.060550               18   \n",
      "13           0.870578  ...         0.785850        0.059554               19   \n",
      "14           0.874892  ...         0.796549        0.049310                4   \n",
      "15           0.882657  ...         0.790336        0.061837               14   \n",
      "16           0.868852  ...         0.785505        0.059326               20   \n",
      "17           0.861950  ...         0.791027        0.049686               13   \n",
      "18           0.863676  ...         0.774892        0.063730               23   \n",
      "19           0.861087  ...         0.773512        0.055660               24   \n",
      "20           0.863676  ...         0.787403        0.051367               16   \n",
      "21           0.867127  ...         0.780673        0.054419               21   \n",
      "22           0.873598  ...         0.787058        0.053502               17   \n",
      "23           0.855910  ...         0.778775        0.052745               22   \n",
      "\n",
      "    split0_train_score  split1_train_score  split2_train_score  \\\n",
      "0             0.865887            0.837899            0.843130   \n",
      "1             0.869419            0.845476            0.844316   \n",
      "2             0.871387            0.839355            0.842483   \n",
      "3             0.855263            0.843130            0.842537   \n",
      "4             0.868367            0.841350            0.846204   \n",
      "5             0.870201            0.843885            0.846042   \n",
      "6             0.949040            0.927416            0.932539   \n",
      "7             0.953138            0.919219            0.928387   \n",
      "8             0.952114            0.923479            0.930058   \n",
      "9             0.946721            0.928333            0.928171   \n",
      "10            0.952491            0.927632            0.924126   \n",
      "11            0.952761            0.925528            0.928494   \n",
      "12            1.000000            0.998544            1.000000   \n",
      "13            1.000000            0.999569            0.999892   \n",
      "14            0.999838            0.999515            0.999946   \n",
      "15            0.999892            0.999892            1.000000   \n",
      "16            0.999946            0.999461            0.999892   \n",
      "17            0.999946            0.999623            0.999946   \n",
      "18            1.000000            1.000000            1.000000   \n",
      "19            1.000000            1.000000            1.000000   \n",
      "20            1.000000            1.000000            1.000000   \n",
      "21            1.000000            1.000000            1.000000   \n",
      "22            1.000000            1.000000            1.000000   \n",
      "23            1.000000            1.000000            1.000000   \n",
      "\n",
      "    split3_train_score  split4_train_score  mean_train_score  std_train_score  \n",
      "0             0.852297            0.839948          0.847832     1.028428e-02  \n",
      "1             0.846932            0.845907          0.850410     9.541362e-03  \n",
      "2             0.850437            0.845179          0.849768     1.140518e-02  \n",
      "3             0.847498            0.847228          0.847131     4.547374e-03  \n",
      "4             0.845206            0.841997          0.848625     1.004142e-02  \n",
      "5             0.846231            0.852135          0.851699     9.648505e-03  \n",
      "6             0.926769            0.932215          0.933596     8.078984e-03  \n",
      "7             0.933024            0.926445          0.932043     1.144673e-02  \n",
      "8             0.926715            0.927524          0.931978     1.028503e-02  \n",
      "9             0.926931            0.931406          0.932312     7.353818e-03  \n",
      "10            0.937123            0.933024          0.934879     9.867248e-03  \n",
      "11            0.926715            0.932755          0.933251     1.005854e-02  \n",
      "12            1.000000            0.999083          0.999525     6.056998e-04  \n",
      "13            0.999892            0.999029          0.999676     3.544365e-04  \n",
      "14            0.999946            0.999569          0.999763     1.855549e-04  \n",
      "15            0.999569            0.998921          0.999655     3.942120e-04  \n",
      "16            0.999730            0.998868          0.999579     3.939168e-04  \n",
      "17            1.000000            0.999515          0.999806     1.976952e-04  \n",
      "18            1.000000            1.000000          1.000000     0.000000e+00  \n",
      "19            1.000000            1.000000          1.000000     0.000000e+00  \n",
      "20            1.000000            1.000000          1.000000     4.965068e-17  \n",
      "21            1.000000            1.000000          1.000000     0.000000e+00  \n",
      "22            1.000000            1.000000          1.000000     4.965068e-17  \n",
      "23            1.000000            1.000000          1.000000     0.000000e+00  \n",
      "\n",
      "[24 rows x 23 columns]\n",
      "                                               params\n",
      "0   {'max_depth': 2, 'max_features': 'auto', 'n_es...\n",
      "1   {'max_depth': 2, 'max_features': 'auto', 'n_es...\n",
      "2   {'max_depth': 2, 'max_features': 'auto', 'n_es...\n",
      "3   {'max_depth': 2, 'max_features': 'sqrt', 'n_es...\n",
      "4   {'max_depth': 2, 'max_features': 'sqrt', 'n_es...\n",
      "5   {'max_depth': 2, 'max_features': 'sqrt', 'n_es...\n",
      "6   {'max_depth': 4, 'max_features': 'auto', 'n_es...\n",
      "7   {'max_depth': 4, 'max_features': 'auto', 'n_es...\n",
      "8   {'max_depth': 4, 'max_features': 'auto', 'n_es...\n",
      "9   {'max_depth': 4, 'max_features': 'sqrt', 'n_es...\n",
      "10  {'max_depth': 4, 'max_features': 'sqrt', 'n_es...\n",
      "11  {'max_depth': 4, 'max_features': 'sqrt', 'n_es...\n",
      "12  {'max_depth': 8, 'max_features': 'auto', 'n_es...\n",
      "13  {'max_depth': 8, 'max_features': 'auto', 'n_es...\n",
      "14  {'max_depth': 8, 'max_features': 'auto', 'n_es...\n",
      "15  {'max_depth': 8, 'max_features': 'sqrt', 'n_es...\n",
      "16  {'max_depth': 8, 'max_features': 'sqrt', 'n_es...\n",
      "17  {'max_depth': 8, 'max_features': 'sqrt', 'n_es...\n",
      "18  {'max_depth': 15, 'max_features': 'auto', 'n_e...\n",
      "19  {'max_depth': 15, 'max_features': 'auto', 'n_e...\n",
      "20  {'max_depth': 15, 'max_features': 'auto', 'n_e...\n",
      "21  {'max_depth': 15, 'max_features': 'sqrt', 'n_e...\n",
      "22  {'max_depth': 15, 'max_features': 'sqrt', 'n_e...\n",
      "23  {'max_depth': 15, 'max_features': 'sqrt', 'n_e...\n",
      "   mean_fit_time  std_fit_time  mean_score_time  std_score_time  \\\n",
      "7       0.754373      0.035098         0.045859        0.007437   \n",
      "8       1.103846      0.052606         0.067337        0.022416   \n",
      "\n",
      "  param_max_depth param_max_features param_n_estimators  \\\n",
      "7               4               auto                200   \n",
      "8               4               auto                300   \n",
      "\n",
      "                                              params  split0_test_score  \\\n",
      "7  {'max_depth': 4, 'max_features': 'auto', 'n_es...           0.704918   \n",
      "8  {'max_depth': 4, 'max_features': 'auto', 'n_es...           0.714409   \n",
      "\n",
      "   split1_test_score  ...  mean_test_score  std_test_score  rank_test_score  \\\n",
      "7           0.853322  ...         0.798447        0.050466                1   \n",
      "8           0.851596  ...         0.798447        0.047096                1   \n",
      "\n",
      "   split0_train_score  split1_train_score  split2_train_score  \\\n",
      "7            0.953138            0.919219            0.928387   \n",
      "8            0.952114            0.923479            0.930058   \n",
      "\n",
      "   split3_train_score  split4_train_score  mean_train_score  std_train_score  \n",
      "7            0.933024            0.926445          0.932043         0.011447  \n",
      "8            0.926715            0.927524          0.931978         0.010285  \n",
      "\n",
      "[2 rows x 23 columns]\n"
     ]
    }
   ],
   "source": [
    "grid_rf_class.fit(X_train, y_train)\n",
    "\n",
    "# Read the cv_results property into a dataframe & print it out\n",
    "cv_results_df = pd.DataFrame(grid_rf_class.cv_results_)\n",
    "print(cv_results_df)\n",
    "\n",
    "# Extract and print the column with a dictionary of hyperparameters used\n",
    "column = cv_results_df.loc[:, [\"params\"]]\n",
    "print(column)\n",
    "\n",
    "# Extract and print the row that had the best mean test score\n",
    "best_row = cv_results_df[cv_results_df[\"rank_test_score\"] == 1]\n",
    "print(best_row)"
   ]
  },
  {
   "cell_type": "code",
   "execution_count": 80,
   "id": "ea56cd14",
   "metadata": {},
   "outputs": [
    {
     "name": "stdout",
     "output_type": "stream",
     "text": [
      "0.7984469370146678\n",
      "   mean_fit_time  std_fit_time  mean_score_time  std_score_time  \\\n",
      "7       0.754373      0.035098         0.045859        0.007437   \n",
      "\n",
      "  param_max_depth param_max_features param_n_estimators  \\\n",
      "7               4               auto                200   \n",
      "\n",
      "                                              params  split0_test_score  \\\n",
      "7  {'max_depth': 4, 'max_features': 'auto', 'n_es...           0.704918   \n",
      "\n",
      "   split1_test_score  ...  mean_test_score  std_test_score  rank_test_score  \\\n",
      "7           0.853322  ...         0.798447        0.050466                1   \n",
      "\n",
      "   split0_train_score  split1_train_score  split2_train_score  \\\n",
      "7            0.953138            0.919219            0.928387   \n",
      "\n",
      "   split3_train_score  split4_train_score  mean_train_score  std_train_score  \n",
      "7            0.933024            0.926445          0.932043         0.011447  \n",
      "\n",
      "[1 rows x 23 columns]\n",
      "200\n"
     ]
    }
   ],
   "source": [
    "# Print out the ROC_AUC score from the best-performing square\n",
    "best_score = grid_rf_class.best_score_\n",
    "print(best_score)\n",
    "\n",
    "# Create a variable from the row related to the best-performing square\n",
    "cv_results_df = pd.DataFrame(grid_rf_class.cv_results_)\n",
    "best_row = cv_results_df.loc[[grid_rf_class.best_index_]]\n",
    "print(best_row)\n",
    "\n",
    "# Get the n_estimators parameter from the best-performing square and print\n",
    "best_n_estimators = grid_rf_class.best_params_[\"n_estimators\"]\n",
    "print(best_n_estimators)"
   ]
  },
  {
   "cell_type": "code",
   "execution_count": 82,
   "id": "9d8910b1",
   "metadata": {},
   "outputs": [
    {
     "name": "stdout",
     "output_type": "stream",
     "text": [
      "<class 'sklearn.ensemble._forest.RandomForestClassifier'>\n",
      "[0 0 1 0 0]\n",
      "Confusion Matrix \n",
      " [[73  4]\n",
      " [20  3]]\n",
      "ROC-AUC Score \n",
      " 0.6307171089779786\n"
     ]
    }
   ],
   "source": [
    "from sklearn.metrics import roc_auc_score\n",
    "\n",
    "# See what type of object the best_estimator_ property is\n",
    "print(type(grid_rf_class.best_estimator_))\n",
    "\n",
    "# Create an array of predictions directly using the best_estimator_ property\n",
    "predictions = grid_rf_class.best_estimator_.predict(X_test)\n",
    "\n",
    "# Take a look to confirm it worked, this should be an array of 1's and 0's\n",
    "print(predictions[0:5])\n",
    "\n",
    "# Now create a confusion matrix \n",
    "print(\"Confusion Matrix \\n\", confusion_matrix(y_test, predictions))\n",
    "\n",
    "# Get the ROC-AUC score\n",
    "predictions_proba = grid_rf_class.best_estimator_.predict_proba(X_test)[:,1]\n",
    "print(\"ROC-AUC Score \\n\", roc_auc_score(y_test, predictions_proba))"
   ]
  },
  {
   "cell_type": "markdown",
   "id": "dc8ac69a",
   "metadata": {},
   "source": [
    "## 3. Random Search\n"
   ]
  },
  {
   "cell_type": "code",
   "execution_count": 134,
   "id": "917f416f",
   "metadata": {},
   "outputs": [
    {
     "name": "stdout",
     "output_type": "stream",
     "text": [
      "[[1.0657286432160804, 18], [0.5640703517587939, 20], [1.0357788944723618, 17], [0.691356783919598, 29], [0.15226130653266332, 20], [0.8635678391959799, 32], [0.5416080402010051, 31], [0.2720603015075377, 19], [0.8036683417085427, 13], [1.4925125628140703, 13], [0.039949748743718594, 22], [0.18969849246231157, 16], [1.1705527638190953, 39], [0.8710552763819095, 26], [0.5341206030150754, 38], [1.372713567839196, 13], [0.21964824120603016, 11], [0.024974874371859294, 29], [0.5191457286432161, 15], [1.178040201005025, 33], [0.4592462311557789, 34], [1.2828643216080402, 28], [0.287035175879397, 23], [0.9010050251256281, 11], [0.43678391959798996, 16], [0.2421105527638191, 23], [1.0657286432160804, 31], [1.3427638190954774, 17], [0.2945226130653266, 35], [0.08487437185929647, 24], [0.7063316582914573, 25], [1.1031658291457287, 27], [0.8560804020100502, 28], [0.36190954773869344, 27], [0.8111557788944723, 22], [0.23462311557788945, 31], [0.9234673366834171, 11], [0.15974874371859296, 29], [1.1406030150753768, 16], [0.42180904522613066, 33], [1.29035175879397, 20], [0.7063316582914573, 23], [0.18969849246231157, 38], [0.8935175879396985, 16], [1.0807035175879396, 37], [0.818643216080402, 32], [0.9609045226130652, 28], [1.2304522613065327, 13], [0.17472361809045225, 17], [1.3577386934673366, 16], [0.7662311557788944, 12], [0.5490954773869346, 37], [0.24959798994974874, 37], [0.691356783919598, 34], [0.45175879396984925, 18], [0.3993467336683417, 37], [1.1031658291457287, 35], [1.1930150753768844, 27], [0.945929648241206, 12], [1.3577386934673366, 24], [0.7512562814070352, 39], [0.818643216080402, 18], [0.01, 28], [0.9609045226130652, 10], [0.6089949748743718, 19], [0.6614070351758794, 12], [1.2753768844221105, 19], [0.08487437185929647, 13], [1.1256281407035176, 31], [0.7662311557788944, 10], [1.0881909547738693, 23], [1.095678391959799, 29], [1.4475879396984925, 31], [0.8485929648241206, 27], [0.3993467336683417, 18], [1.1855276381909547, 29], [0.21964824120603016, 12], [0.06989949748743718, 17], [0.7662311557788944, 18], [0.8411055276381909, 16], [0.414321608040201, 37], [0.1822110552763819, 15], [0.2720603015075377, 38], [0.3918592964824121, 31], [0.9908542713567839, 10], [1.4850251256281406, 16], [1.0582412060301507, 20], [0.6988442211055276, 19], [1.3352763819095477, 31], [0.4742211055276382, 40], [1.1480904522613065, 31], [1.3876884422110551, 40], [0.15974874371859296, 14], [0.3244723618090452, 38], [0.945929648241206, 29], [0.8411055276381909, 21], [1.1406030150753768, 23], [1.2978391959798994, 10], [1.0282914572864321, 15], [0.5715577889447236, 21], [1.1031658291457287, 17], [0.017487437185929648, 21], [0.691356783919598, 36], [0.40683417085427137, 27], [1.4625628140703517, 14], [0.1672361809045226, 10], [0.20467336683417087, 12], [1.050753768844221, 20], [0.06241206030150754, 31], [0.1672361809045226, 17], [1.178040201005025, 16], [0.5191457286432161, 29], [0.3918592964824121, 32], [0.5940201005025125, 40], [1.2678894472361808, 10], [0.968391959798995, 30], [1.0432663316582915, 33], [0.8411055276381909, 37], [0.8635678391959799, 24], [0.09236180904522612, 13], [0.6539195979899497, 36], [0.1672361809045226, 13], [0.15226130653266332, 38], [1.4700502512562814, 25], [1.07321608040201, 36], [0.5490954773869346, 39], [1.0282914572864321, 36], [0.8860301507537688, 37], [0.5490954773869346, 28], [1.4850251256281406, 29], [0.8336180904522613, 10], [0.8785427135678392, 19], [0.05492462311557789, 30], [0.48170854271356783, 24], [0.6838693467336683, 25], [0.6015075376884422, 22], [0.36939698492462314, 35], [0.7737185929648241, 25], [0.039949748743718594, 17], [0.796180904522613, 11], [0.9234673366834171, 15], [0.10733668341708542, 27], [0.6389447236180904, 20], [1.0582412060301507, 30], [1.455075376884422, 13], [0.07738693467336683, 23], [1.1555778894472362, 25], [0.30201005025125627, 33], [0.3244723618090452, 23], [0.7812060301507537, 11], [1.1106532663316582, 20], [0.4292964824120603, 16], [0.26457286432160804, 19], [0.6763819095477387, 25], [1.2079899497487436, 28], [1.0582412060301507, 33], [1.1630653266331659, 25], [0.5640703517587939, 33], [0.26457286432160804, 12], [1.2529145728643216, 39], [1.0432663316582915, 23], [1.0881909547738693, 30], [1.07321608040201, 24], [1.1331155778894473, 13], [0.7737185929648241, 33], [0.06241206030150754, 29], [0.17472361809045225, 34], [0.4742211055276382, 36], [1.2529145728643216, 40], [1.5, 40], [0.6614070351758794, 28], [0.8485929648241206, 17], [1.1181407035175879, 36], [0.7512562814070352, 35], [1.4850251256281406, 30], [1.1256281407035176, 19], [1.2379396984924622, 15], [0.33195979899497485, 36], [0.2121608040201005, 38], [0.1672361809045226, 15], [1.0357788944723618, 12], [1.0881909547738693, 19], [1.4326130653266331, 22], [0.8336180904522613, 26], [0.414321608040201, 10], [0.1822110552763819, 20], [0.15974874371859296, 30], [1.0058291457286432, 16], [1.3128140703517588, 32], [1.305326633165829, 26], [0.9534170854271357, 14], [0.9908542713567839, 33], [0.4292964824120603, 22], [0.09236180904522612, 31], [1.2978391959798994, 21], [1.1181407035175879, 23], [0.6015075376884422, 36], [0.26457286432160804, 15], [0.36939698492462314, 31], [1.4026633165829145, 21], [0.8036683417085427, 15], [0.818643216080402, 29], [1.0357788944723618, 37], [0.8635678391959799, 15], [1.4925125628140703, 29], [0.03246231155778895, 33], [0.9833668341708542, 13], [0.8111557788944723, 40], [0.2121608040201005, 24], [0.9384422110552764, 28], [0.8785427135678392, 21], [1.1331155778894473, 31], [0.12231155778894472, 24], [0.9084924623115578, 30], [1.1181407035175879, 15], [0.9234673366834171, 18], [0.5865326633165829, 36], [0.6389447236180904, 23], [0.01, 36], [0.4442713567839196, 12], [1.2753768844221105, 13], [1.4176381909547737, 16], [1.0657286432160804, 12], [0.9309547738693467, 40], [0.5940201005025125, 26], [0.13728643216080402, 31], [1.2379396984924622, 34], [0.7662311557788944, 28], [1.2978391959798994, 17], [1.4176381909547737, 20], [0.9084924623115578, 23], [1.222964824120603, 16], [0.2945226130653266, 16], [0.21964824120603016, 32], [0.46673366834170854, 31], [0.6838693467336683, 22], [0.039949748743718594, 12], [0.8560804020100502, 17], [1.2154773869346733, 28], [0.7587437185929649, 34], [0.19718592964824122, 23], [0.9384422110552764, 37], [0.024974874371859294, 35], [0.9833668341708542, 17], [1.07321608040201, 16], [1.0881909547738693, 35], [0.8560804020100502, 32], [0.5416080402010051, 27], [1.3128140703517588, 31], [0.3094974874371859, 22]]\n"
     ]
    }
   ],
   "source": [
    "from itertools import product\n",
    "\n",
    "# Create a list of values for the learning_rate hyperparameter\n",
    "learn_rate_list = list(np.linspace(0.01,1.5,200))\n",
    "\n",
    "# Create a list of values for the min_samples_leaf hyperparameter\n",
    "min_samples_list = list(range(10,41))\n",
    "\n",
    "# Combination list\n",
    "combinations_list = [list(x) for x in product(learn_rate_list, min_samples_list)]\n",
    "\n",
    "# Sample hyperparameter combinations for a random search.\n",
    "random_combinations_index = np.random.choice(range(0, len(combinations_list)), 250, replace=False)\n",
    "combinations_random_chosen = [combinations_list[x] for x in random_combinations_index]\n",
    "\n",
    "# Print the result\n",
    "print(combinations_random_chosen)"
   ]
  },
  {
   "cell_type": "code",
   "execution_count": 142,
   "id": "3f96c7db",
   "metadata": {},
   "outputs": [
    {
     "name": "stdout",
     "output_type": "stream",
     "text": [
      "[['gini', 'log2', 35], ['gini', None, 6], ['gini', None, 37], ['entropy', 'log2', 42], ['entropy', None, 50], ['entropy', 'auto', 14], ['entropy', None, 31], ['gini', 'log2', 10], ['gini', 'auto', 32], ['entropy', None, 36], ['entropy', 'auto', 18], ['gini', None, 52], ['gini', 'log2', 13], ['gini', 'log2', 27], ['gini', 'sqrt', 49], ['entropy', 'auto', 29], ['entropy', None, 52], ['entropy', None, 20], ['entropy', 'auto', 16], ['entropy', 'sqrt', 44], ['entropy', 'auto', 46], ['gini', 'log2', 16], ['entropy', 'auto', 38], ['entropy', 'sqrt', 49], ['entropy', 'log2', 40], ['entropy', None, 24], ['entropy', 'log2', 23], ['entropy', 'auto', 44], ['entropy', 'sqrt', 4], ['gini', 'auto', 17], ['gini', 'auto', 25], ['gini', 'log2', 29], ['gini', 'sqrt', 52], ['gini', None, 47], ['gini', 'sqrt', 55], ['entropy', None, 8], ['entropy', None, 30], ['entropy', None, 48], ['entropy', 'sqrt', 5], ['gini', 'sqrt', 54], ['entropy', 'log2', 38], ['entropy', None, 10], ['gini', 'auto', 38], ['entropy', None, 25], ['entropy', 'auto', 32], ['entropy', 'log2', 34], ['gini', 'sqrt', 29], ['gini', None, 21], ['entropy', 'auto', 13], ['gini', 'sqrt', 38], ['gini', 'auto', 55], ['entropy', 'auto', 11], ['gini', 'auto', 9], ['gini', None, 26], ['gini', 'sqrt', 10], ['entropy', 'sqrt', 52], ['gini', 'sqrt', 50], ['gini', 'sqrt', 14], ['entropy', None, 3], ['gini', 'log2', 25], ['gini', 'auto', 34], ['entropy', None, 11], ['gini', 'log2', 21], ['entropy', 'log2', 30], ['gini', 'sqrt', 28], ['gini', 'sqrt', 25], ['gini', 'log2', 8], ['entropy', 'auto', 52], ['gini', None, 31], ['gini', 'sqrt', 45], ['gini', 'log2', 6], ['gini', 'auto', 6], ['entropy', 'auto', 36], ['gini', 'sqrt', 24], ['gini', None, 40], ['entropy', None, 14], ['gini', 'log2', 23], ['gini', 'sqrt', 48], ['gini', None, 45], ['entropy', 'auto', 22], ['entropy', 'log2', 21], ['entropy', 'auto', 54], ['entropy', 'sqrt', 33], ['gini', 'sqrt', 37], ['entropy', 'log2', 5], ['entropy', 'auto', 8], ['entropy', None, 39], ['gini', 'sqrt', 6], ['gini', None, 30], ['entropy', 'log2', 28], ['entropy', 'log2', 53], ['gini', None, 39], ['gini', 'auto', 40], ['entropy', 'log2', 25], ['gini', None, 27], ['gini', 'auto', 10], ['entropy', 'log2', 14], ['entropy', 'log2', 33], ['entropy', 'sqrt', 29], ['entropy', 'auto', 39], ['gini', 'auto', 24], ['entropy', 'log2', 27], ['entropy', 'sqrt', 55], ['entropy', None, 29], ['entropy', 'sqrt', 20], ['gini', 'auto', 44], ['entropy', 'sqrt', 25], ['gini', 'log2', 40], ['entropy', 'sqrt', 14], ['entropy', 'sqrt', 41], ['entropy', 'auto', 23], ['entropy', 'log2', 46], ['gini', 'log2', 50], ['gini', 'sqrt', 12], ['gini', 'log2', 20], ['entropy', 'sqrt', 38], ['entropy', None, 26], ['gini', 'log2', 30], ['entropy', 'log2', 36], ['gini', 'auto', 53], ['gini', 'auto', 41], ['entropy', 'auto', 31], ['entropy', 'log2', 22], ['entropy', 'sqrt', 22], ['gini', 'auto', 4], ['gini', 'sqrt', 11], ['gini', 'sqrt', 19], ['gini', None, 22], ['gini', None, 14], ['gini', None, 41], ['gini', 'sqrt', 5], ['entropy', 'sqrt', 7], ['entropy', 'log2', 29], ['gini', 'log2', 28], ['entropy', None, 19], ['gini', 'log2', 48], ['entropy', None, 33], ['entropy', 'sqrt', 26], ['gini', 'auto', 22], ['gini', 'sqrt', 20], ['entropy', 'sqrt', 21], ['entropy', None, 9], ['entropy', 'auto', 20], ['gini', None, 5], ['gini', 'log2', 46], ['gini', 'sqrt', 41], ['entropy', 'log2', 9], ['gini', 'auto', 39], ['gini', None, 55], ['gini', 'log2', 12]]\n"
     ]
    }
   ],
   "source": [
    "import random\n",
    "\n",
    "# Create lists for criterion and max_features\n",
    "criterion_list = ['gini', 'entropy']\n",
    "max_feature_list = [\"auto\", \"sqrt\", \"log2\", None]\n",
    "\n",
    "# Create a list of values for the max_depth hyperparameter\n",
    "max_depth_list = list(range(3,56))\n",
    "\n",
    "# Combination list\n",
    "combinations_list = [list(x) for x in product(criterion_list, max_feature_list, max_depth_list)]\n",
    "\n",
    "# Sample hyperparameter combinations for a random search\n",
    "combinations_random_chosen = random.sample(combinations_list, 150)\n",
    "\n",
    "# Print the result\n",
    "print(combinations_random_chosen)"
   ]
  },
  {
   "cell_type": "code",
   "execution_count": 143,
   "id": "0045faea",
   "metadata": {},
   "outputs": [],
   "source": [
    "# print(inspect.getsource(sample_and_visualize_hyperparameters))\n",
    "x_lims = [0.01, 1.5]\n",
    "y_lims = [10, 29]\n",
    "\n",
    "def sample_and_visualize_hyperparameters(n_samples):\n",
    "\n",
    "    # If asking for all combinations, just return the entire list.\n",
    "    if n_samples == len(combinations_list):\n",
    "        combinations_random_chosen = combinations_list\n",
    "    else:\n",
    "        combinations_random_chosen = []\n",
    "        random_combinations_index = np.random.choice(range(0, len(combinations_list)), n_samples, replace=False)\n",
    "        combinations_random_chosen = [combinations_list[x] for x in random_combinations_index]\n",
    "    \n",
    "    # Pull out the X and Y to plot\n",
    "    rand_y, rand_x = [x[0] for x in combinations_random_chosen], [x[1] for x in combinations_random_chosen]\n",
    "\n",
    "    # Plot \n",
    "    plt.clf() \n",
    "    plt.scatter(rand_y, rand_x, c=['blue']*len(combinations_random_chosen))\n",
    "    plt.gca().set(xlabel='learn_rate', ylabel='min_samples_leaf', title='Random Search Hyperparameters')\n",
    "    plt.gca().set_xlim(x_lims)\n",
    "    plt.gca().set_ylim(y_lims)\n",
    "    plt.show()"
   ]
  },
  {
   "cell_type": "code",
   "execution_count": null,
   "id": "705993fe",
   "metadata": {},
   "outputs": [],
   "source": [
    "# Confirm how many hyperparameter combinations & print\n",
    "number_combs = len(combinations_list)\n",
    "print(number_combs)\n",
    "\n",
    "# Sample and visualise specified combinations\n",
    "for x in [50, 500, 1500]:\n",
    "    sample_and_visualize_hyperparameters(x)\n",
    "    \n",
    "# Sample all the hyperparameter combinations & visualise\n",
    "sample_and_visualize_hyperparameters(number_combs)"
   ]
  },
  {
   "cell_type": "markdown",
   "id": "2041f6ea",
   "metadata": {},
   "source": [
    "Answer = n_iter"
   ]
  },
  {
   "cell_type": "code",
   "execution_count": 145,
   "id": "557ecc77",
   "metadata": {},
   "outputs": [
    {
     "name": "stdout",
     "output_type": "stream",
     "text": [
      "[1.948993288590604 1.2604026845637584 1.3114093959731543\n",
      " 1.7449664429530203 1.8724832214765101 0.5845637583892618\n",
      " 0.8268456375838926 0.8651006711409396 0.8140939597315436\n",
      " 0.7630872483221476]\n",
      "[45 41 31 41 56 44 27 37 22 53]\n"
     ]
    }
   ],
   "source": [
    "from sklearn.model_selection import RandomizedSearchCV\n",
    "\n",
    "# Create the parameter grid\n",
    "param_grid = {'learning_rate': np.linspace(0.1,2,150), 'min_samples_leaf': list(range(20,65))} \n",
    "\n",
    "# Create a random search object\n",
    "random_GBM_class = RandomizedSearchCV(\n",
    "    estimator = GradientBoostingClassifier(),\n",
    "    param_distributions = param_grid,\n",
    "    n_iter = 10,\n",
    "    scoring='accuracy', n_jobs=4, cv=5, refit=True, return_train_score=True)\n",
    "\n",
    "# Fit to the training data\n",
    "random_GBM_class.fit(X_train, y_train)\n",
    "\n",
    "# Print the values used for both hyperparameters\n",
    "print(random_GBM_class.cv_results_['param_learning_rate'])\n",
    "print(random_GBM_class.cv_results_['param_min_samples_leaf'])"
   ]
  },
  {
   "cell_type": "code",
   "execution_count": 146,
   "id": "db058ff9",
   "metadata": {},
   "outputs": [
    {
     "name": "stdout",
     "output_type": "stream",
     "text": [
      "[22 21 7 14 24]\n",
      "['auto' 'auto' 'sqrt' 'auto' 'auto']\n"
     ]
    }
   ],
   "source": [
    "# Create the parameter grid\n",
    "param_grid = {'max_depth': list(range(5,26)), 'max_features': ['auto' , 'sqrt']} \n",
    "\n",
    "# Create a random search object\n",
    "random_rf_class = RandomizedSearchCV(\n",
    "    estimator=RandomForestClassifier(n_estimators=80),\n",
    "    param_distributions=param_grid, n_iter=5,\n",
    "    scoring='roc_auc', n_jobs=4, cv=3, refit=True, return_train_score=True)\n",
    "\n",
    "# Fit to the training data\n",
    "random_rf_class.fit(X_train, y_train)\n",
    "\n",
    "# Print the values used for both hyperparameters\n",
    "print(random_rf_class.cv_results_['param_max_depth'])\n",
    "print(random_rf_class.cv_results_['param_max_features'])"
   ]
  },
  {
   "cell_type": "markdown",
   "id": "9995ed58",
   "metadata": {},
   "source": [
    "Answer: It is more computationally efficient than Grid Search.\n"
   ]
  },
  {
   "cell_type": "code",
   "execution_count": 148,
   "id": "cb4a2370",
   "metadata": {},
   "outputs": [],
   "source": [
    "# import inspect\n",
    "# print(inspect.getsource(visualize_search))\n",
    "\n",
    "def visualize_search(grid_combinations_chosen, random_combinations_chosen):\n",
    "    grid_y, grid_x = [x[0] for x in grid_combinations_chosen], [x[1] for x in grid_combinations_chosen]\n",
    "    rand_y, rand_x = [x[0] for x in random_combinations_chosen], [x[1] for x in random_combinations_chosen]\n",
    "\n",
    "    # Plot all together\n",
    "    plt.scatter(grid_y + rand_y, grid_x + rand_x, c=['red']*300 + ['blue']*300)\n",
    "    plt.gca().set(xlabel='learn_rate', ylabel='min_samples_leaf', title='Grid and Random Search Hyperparameters')\n",
    "    plt.gca().set_xlim(x_lims)\n",
    "    plt.gca().set_ylim(y_lims)\n",
    "    plt.show()"
   ]
  },
  {
   "cell_type": "code",
   "execution_count": 152,
   "id": "cca0ce69",
   "metadata": {},
   "outputs": [
    {
     "name": "stdout",
     "output_type": "stream",
     "text": [
      "[['gini', 'auto', 3], ['gini', 'auto', 4], ['gini', 'auto', 5], ['gini', 'auto', 6], ['gini', 'auto', 7], ['gini', 'auto', 8], ['gini', 'auto', 9], ['gini', 'auto', 10], ['gini', 'auto', 11], ['gini', 'auto', 12], ['gini', 'auto', 13], ['gini', 'auto', 14], ['gini', 'auto', 15], ['gini', 'auto', 16], ['gini', 'auto', 17], ['gini', 'auto', 18], ['gini', 'auto', 19], ['gini', 'auto', 20], ['gini', 'auto', 21], ['gini', 'auto', 22], ['gini', 'auto', 23], ['gini', 'auto', 24], ['gini', 'auto', 25], ['gini', 'auto', 26], ['gini', 'auto', 27], ['gini', 'auto', 28], ['gini', 'auto', 29], ['gini', 'auto', 30], ['gini', 'auto', 31], ['gini', 'auto', 32], ['gini', 'auto', 33], ['gini', 'auto', 34], ['gini', 'auto', 35], ['gini', 'auto', 36], ['gini', 'auto', 37], ['gini', 'auto', 38], ['gini', 'auto', 39], ['gini', 'auto', 40], ['gini', 'auto', 41], ['gini', 'auto', 42], ['gini', 'auto', 43], ['gini', 'auto', 44], ['gini', 'auto', 45], ['gini', 'auto', 46], ['gini', 'auto', 47], ['gini', 'auto', 48], ['gini', 'auto', 49], ['gini', 'auto', 50], ['gini', 'auto', 51], ['gini', 'auto', 52], ['gini', 'auto', 53], ['gini', 'auto', 54], ['gini', 'auto', 55], ['gini', 'sqrt', 3], ['gini', 'sqrt', 4], ['gini', 'sqrt', 5], ['gini', 'sqrt', 6], ['gini', 'sqrt', 7], ['gini', 'sqrt', 8], ['gini', 'sqrt', 9], ['gini', 'sqrt', 10], ['gini', 'sqrt', 11], ['gini', 'sqrt', 12], ['gini', 'sqrt', 13], ['gini', 'sqrt', 14], ['gini', 'sqrt', 15], ['gini', 'sqrt', 16], ['gini', 'sqrt', 17], ['gini', 'sqrt', 18], ['gini', 'sqrt', 19], ['gini', 'sqrt', 20], ['gini', 'sqrt', 21], ['gini', 'sqrt', 22], ['gini', 'sqrt', 23], ['gini', 'sqrt', 24], ['gini', 'sqrt', 25], ['gini', 'sqrt', 26], ['gini', 'sqrt', 27], ['gini', 'sqrt', 28], ['gini', 'sqrt', 29], ['gini', 'sqrt', 30], ['gini', 'sqrt', 31], ['gini', 'sqrt', 32], ['gini', 'sqrt', 33], ['gini', 'sqrt', 34], ['gini', 'sqrt', 35], ['gini', 'sqrt', 36], ['gini', 'sqrt', 37], ['gini', 'sqrt', 38], ['gini', 'sqrt', 39], ['gini', 'sqrt', 40], ['gini', 'sqrt', 41], ['gini', 'sqrt', 42], ['gini', 'sqrt', 43], ['gini', 'sqrt', 44], ['gini', 'sqrt', 45], ['gini', 'sqrt', 46], ['gini', 'sqrt', 47], ['gini', 'sqrt', 48], ['gini', 'sqrt', 49], ['gini', 'sqrt', 50], ['gini', 'sqrt', 51], ['gini', 'sqrt', 52], ['gini', 'sqrt', 53], ['gini', 'sqrt', 54], ['gini', 'sqrt', 55], ['gini', 'log2', 3], ['gini', 'log2', 4], ['gini', 'log2', 5], ['gini', 'log2', 6], ['gini', 'log2', 7], ['gini', 'log2', 8], ['gini', 'log2', 9], ['gini', 'log2', 10], ['gini', 'log2', 11], ['gini', 'log2', 12], ['gini', 'log2', 13], ['gini', 'log2', 14], ['gini', 'log2', 15], ['gini', 'log2', 16], ['gini', 'log2', 17], ['gini', 'log2', 18], ['gini', 'log2', 19], ['gini', 'log2', 20], ['gini', 'log2', 21], ['gini', 'log2', 22], ['gini', 'log2', 23], ['gini', 'log2', 24], ['gini', 'log2', 25], ['gini', 'log2', 26], ['gini', 'log2', 27], ['gini', 'log2', 28], ['gini', 'log2', 29], ['gini', 'log2', 30], ['gini', 'log2', 31], ['gini', 'log2', 32], ['gini', 'log2', 33], ['gini', 'log2', 34], ['gini', 'log2', 35], ['gini', 'log2', 36], ['gini', 'log2', 37], ['gini', 'log2', 38], ['gini', 'log2', 39], ['gini', 'log2', 40], ['gini', 'log2', 41], ['gini', 'log2', 42], ['gini', 'log2', 43], ['gini', 'log2', 44], ['gini', 'log2', 45], ['gini', 'log2', 46], ['gini', 'log2', 47], ['gini', 'log2', 48], ['gini', 'log2', 49], ['gini', 'log2', 50], ['gini', 'log2', 51], ['gini', 'log2', 52], ['gini', 'log2', 53], ['gini', 'log2', 54], ['gini', 'log2', 55], ['gini', None, 3], ['gini', None, 4], ['gini', None, 5], ['gini', None, 6], ['gini', None, 7], ['gini', None, 8], ['gini', None, 9], ['gini', None, 10], ['gini', None, 11], ['gini', None, 12], ['gini', None, 13], ['gini', None, 14], ['gini', None, 15], ['gini', None, 16], ['gini', None, 17], ['gini', None, 18], ['gini', None, 19], ['gini', None, 20], ['gini', None, 21], ['gini', None, 22], ['gini', None, 23], ['gini', None, 24], ['gini', None, 25], ['gini', None, 26], ['gini', None, 27], ['gini', None, 28], ['gini', None, 29], ['gini', None, 30], ['gini', None, 31], ['gini', None, 32], ['gini', None, 33], ['gini', None, 34], ['gini', None, 35], ['gini', None, 36], ['gini', None, 37], ['gini', None, 38], ['gini', None, 39], ['gini', None, 40], ['gini', None, 41], ['gini', None, 42], ['gini', None, 43], ['gini', None, 44], ['gini', None, 45], ['gini', None, 46], ['gini', None, 47], ['gini', None, 48], ['gini', None, 49], ['gini', None, 50], ['gini', None, 51], ['gini', None, 52], ['gini', None, 53], ['gini', None, 54], ['gini', None, 55], ['entropy', 'auto', 3], ['entropy', 'auto', 4], ['entropy', 'auto', 5], ['entropy', 'auto', 6], ['entropy', 'auto', 7], ['entropy', 'auto', 8], ['entropy', 'auto', 9], ['entropy', 'auto', 10], ['entropy', 'auto', 11], ['entropy', 'auto', 12], ['entropy', 'auto', 13], ['entropy', 'auto', 14], ['entropy', 'auto', 15], ['entropy', 'auto', 16], ['entropy', 'auto', 17], ['entropy', 'auto', 18], ['entropy', 'auto', 19], ['entropy', 'auto', 20], ['entropy', 'auto', 21], ['entropy', 'auto', 22], ['entropy', 'auto', 23], ['entropy', 'auto', 24], ['entropy', 'auto', 25], ['entropy', 'auto', 26], ['entropy', 'auto', 27], ['entropy', 'auto', 28], ['entropy', 'auto', 29], ['entropy', 'auto', 30], ['entropy', 'auto', 31], ['entropy', 'auto', 32], ['entropy', 'auto', 33], ['entropy', 'auto', 34], ['entropy', 'auto', 35], ['entropy', 'auto', 36], ['entropy', 'auto', 37], ['entropy', 'auto', 38], ['entropy', 'auto', 39], ['entropy', 'auto', 40], ['entropy', 'auto', 41], ['entropy', 'auto', 42], ['entropy', 'auto', 43], ['entropy', 'auto', 44], ['entropy', 'auto', 45], ['entropy', 'auto', 46], ['entropy', 'auto', 47], ['entropy', 'auto', 48], ['entropy', 'auto', 49], ['entropy', 'auto', 50], ['entropy', 'auto', 51], ['entropy', 'auto', 52], ['entropy', 'auto', 53], ['entropy', 'auto', 54], ['entropy', 'auto', 55], ['entropy', 'sqrt', 3], ['entropy', 'sqrt', 4], ['entropy', 'sqrt', 5], ['entropy', 'sqrt', 6], ['entropy', 'sqrt', 7], ['entropy', 'sqrt', 8], ['entropy', 'sqrt', 9], ['entropy', 'sqrt', 10], ['entropy', 'sqrt', 11], ['entropy', 'sqrt', 12], ['entropy', 'sqrt', 13], ['entropy', 'sqrt', 14], ['entropy', 'sqrt', 15], ['entropy', 'sqrt', 16], ['entropy', 'sqrt', 17], ['entropy', 'sqrt', 18], ['entropy', 'sqrt', 19], ['entropy', 'sqrt', 20], ['entropy', 'sqrt', 21], ['entropy', 'sqrt', 22], ['entropy', 'sqrt', 23], ['entropy', 'sqrt', 24], ['entropy', 'sqrt', 25], ['entropy', 'sqrt', 26], ['entropy', 'sqrt', 27], ['entropy', 'sqrt', 28], ['entropy', 'sqrt', 29], ['entropy', 'sqrt', 30], ['entropy', 'sqrt', 31], ['entropy', 'sqrt', 32], ['entropy', 'sqrt', 33], ['entropy', 'sqrt', 34], ['entropy', 'sqrt', 35], ['entropy', 'sqrt', 36], ['entropy', 'sqrt', 37]]\n"
     ]
    }
   ],
   "source": [
    "# Sample grid coordinates\n",
    "grid_combinations_chosen = combinations_list[0:300]\n",
    "\n",
    "# Print result\n",
    "print(grid_combinations_chosen)"
   ]
  },
  {
   "cell_type": "code",
   "execution_count": null,
   "id": "97442410",
   "metadata": {},
   "outputs": [],
   "source": [
    "x_lims = [0.01, 3.0]\n",
    "y_lims = [5, 24]\n",
    "\n",
    "# Sample grid coordinates\n",
    "grid_combinations_chosen = combinations_list[0:300]\n",
    "\n",
    "# Create a list of sample indexes\n",
    "sample_indexes = list(range(0,len(combinations_list)))\n",
    "\n",
    "# Randomly sample 300 indexes\n",
    "random_indexes = np.random.choice(sample_indexes, 300, replace=False)\n",
    "\n",
    "# Use indexes to create random sample\n",
    "random_combinations_chosen = [combinations_list[index] for index in random_indexes]\n",
    "\n",
    "# Call the function to produce the visualization\n",
    "visualize_search(grid_combinations_chosen, random_combinations_chosen)"
   ]
  },
  {
   "cell_type": "markdown",
   "id": "4bc9456f",
   "metadata": {},
   "source": [
    "## 4. Informed Search\n"
   ]
  },
  {
   "cell_type": "code",
   "execution_count": 154,
   "id": "d8245b7c",
   "metadata": {},
   "outputs": [],
   "source": [
    "# import inspect\n",
    "# print(inspect.getsource(visualize_hyperparameter))\n",
    "\n",
    "def visualize_hyperparameter(name):\n",
    "    plt.clf()\n",
    "    plt.scatter(results_df[name],results_df['accuracy'], c=['blue']*500)\n",
    "    plt.gca().set(xlabel='{}'.format(name), ylabel='accuracy', title='Accuracy for different {}s'.format(name))\n",
    "    plt.gca().set_ylim([0,100])\n",
    "    plt.show()"
   ]
  },
  {
   "cell_type": "code",
   "execution_count": null,
   "id": "167190ed",
   "metadata": {},
   "outputs": [],
   "source": [
    "# Confirm the size of the combinations_list\n",
    "print(len(combinations_list))\n",
    "\n",
    "# Sort the results_df by accuracy and print the top 10 rows\n",
    "print(results_df.sort_values(by='accuracy', ascending=False).head(10))\n",
    "\n",
    "# Confirm which hyperparameters were used in this search\n",
    "print(results_df.columns)\n",
    "\n",
    "# Call visualize_hyperparameter() with each hyperparameter in turn\n",
    "visualize_hyperparameter('max_depth')\n",
    "visualize_hyperparameter('min_samples_leaf')\n",
    "visualize_hyperparameter('learn_rate')"
   ]
  },
  {
   "cell_type": "code",
   "execution_count": 156,
   "id": "5e28e5a3",
   "metadata": {},
   "outputs": [],
   "source": [
    "# import inspect\n",
    "# print(inspect.getsource(visualize_first))\n",
    "\n",
    "def visualize_first():\n",
    "    for name in results_df.columns[0:2]:\n",
    "        plt.clf()\n",
    "        plt.scatter(results_df[name],results_df['accuracy'], c=['blue']*500)\n",
    "        plt.gca().set(xlabel='{}'.format(name), ylabel='accuracy', title='Accuracy for different {}s'.format(name))\n",
    "        plt.gca().set_ylim([0,100])\n",
    "        x_line = 20\n",
    "        if name == \"learn_rate\":\n",
    "            x_line = 1\n",
    "        plt.axvline(x=x_line, color=\"red\", linewidth=4)\n",
    "        plt.show() "
   ]
  },
  {
   "cell_type": "code",
   "execution_count": null,
   "id": "617178f6",
   "metadata": {},
   "outputs": [],
   "source": [
    "# Use the provided function to visualize the first results\n",
    "visualize_first()"
   ]
  },
  {
   "cell_type": "code",
   "execution_count": 158,
   "id": "1dc39b16",
   "metadata": {},
   "outputs": [],
   "source": [
    "# Create some combinations lists & combine\n",
    "max_depth_list = list(range(1, 21))\n",
    "learn_rate_list = np.linspace(0.001, 1, 50)"
   ]
  },
  {
   "cell_type": "code",
   "execution_count": 159,
   "id": "292cd75e",
   "metadata": {},
   "outputs": [],
   "source": [
    "# import inspect\n",
    "# print(inspect.getsource(visualize_second))\n",
    "\n",
    "def visualize_second():\n",
    "    for name in results_df2.columns[0:2]:\n",
    "        plt.clf()\n",
    "        plt.scatter(results_df2[name],results_df2['accuracy'], c=['blue']*1000)\n",
    "        plt.gca().set(xlabel='{}'.format(name), ylabel='accuracy', title='Accuracy for different {}s'.format(name))\n",
    "        plt.gca().set_ylim([0,100])\n",
    "        plt.show()"
   ]
  },
  {
   "cell_type": "code",
   "execution_count": null,
   "id": "c33c5b85",
   "metadata": {},
   "outputs": [],
   "source": [
    "# Call the function to visualize the second results\n",
    "visualize_second()"
   ]
  },
  {
   "cell_type": "code",
   "execution_count": 160,
   "id": "c49db62a",
   "metadata": {},
   "outputs": [
    {
     "name": "stdout",
     "output_type": "stream",
     "text": [
      "0.16333333333333336\n"
     ]
    }
   ],
   "source": [
    "# Assign probabilities to variables \n",
    "p_unhappy = 0.15\n",
    "p_unhappy_close = 0.35\n",
    "\n",
    "# Probabiliy someone will close\n",
    "p_close = 0.07\n",
    "\n",
    "# Probability unhappy person will close\n",
    "p_close_unhappy = (p_unhappy_close * p_close) / p_unhappy\n",
    "print(p_close_unhappy)"
   ]
  },
  {
   "cell_type": "code",
   "execution_count": null,
   "id": "cc221fc4",
   "metadata": {},
   "outputs": [],
   "source": [
    "import hyperopt as hp\n",
    "\n",
    "# Set up space dictionary with specified hyperparameters\n",
    "space = {'max_depth': hp.quniform('max_depth', 2, 10, 2),\n",
    "         'learning_rate': hp.uniform('learning_rate', 0.001, 0.9)}\n",
    "\n",
    "# Set up objective function\n",
    "def objective(params):\n",
    "    params = {'max_depth': int(params['max_depth']),'learning_rate': params['learning_rate']}\n",
    "    gbm_clf = GradientBoostingClassifier(n_estimators=100, **params) \n",
    "    best_score = cross_val_score(gbm_clf, X_train, y_train, scoring='accuracy', cv=2, n_jobs=4).mean()\n",
    "    loss = 1 - best_score\n",
    "    return loss\n",
    "\n",
    "# Run the algorithm\n",
    "best = fmin(fn=objective,space=space, max_evals=20, rstate=np.random.default_rng(42), algo=tpe.suggest)\n",
    "print(best)"
   ]
  },
  {
   "cell_type": "code",
   "execution_count": 165,
   "id": "96c8cc13",
   "metadata": {},
   "outputs": [
    {
     "name": "stdout",
     "output_type": "stream",
     "text": [
      "                                                                           \n",
      "Generation 1 - Current best internal CV score: 0.8025\n",
      "                                                                           \n",
      "Generation 2 - Current best internal CV score: 0.8025\n",
      "                                                                            \n",
      "Generation 3 - Current best internal CV score: 0.8025\n",
      "                                                                            \n",
      "Best pipeline: DecisionTreeClassifier(input_matrix, criterion=gini, max_depth=3, min_samples_leaf=10, min_samples_split=9)\n",
      "0.75\n"
     ]
    }
   ],
   "source": [
    "from tpot import TPOTClassifier\n",
    "\n",
    "\n",
    "# Assign the values outlined to the inputs\n",
    "number_generations = 3\n",
    "population_size = 4\n",
    "offspring_size = 3\n",
    "scoring_function = 'accuracy'\n",
    "\n",
    "# Create the tpot classifier\n",
    "tpot_clf = TPOTClassifier(generations=number_generations, population_size=population_size,\n",
    "                          offspring_size=offspring_size, scoring=scoring_function,\n",
    "                          verbosity=2, random_state=2, cv=2)\n",
    "\n",
    "# Fit the classifier to the training data\n",
    "tpot_clf.fit(X_train, y_train)\n",
    "\n",
    "# Score on the test set\n",
    "print(tpot_clf.score(X_test, y_test))"
   ]
  },
  {
   "cell_type": "code",
   "execution_count": 166,
   "id": "2941738b",
   "metadata": {},
   "outputs": [
    {
     "name": "stdout",
     "output_type": "stream",
     "text": [
      "                                                                           \n",
      "Generation 1 - Current best internal CV score: 0.8\n",
      "                                                                            \n",
      "Generation 2 - Current best internal CV score: 0.805\n",
      "                                                                            \n",
      "Best pipeline: ExtraTreesClassifier(input_matrix, bootstrap=True, criterion=entropy, max_features=0.6000000000000001, min_samples_leaf=3, min_samples_split=10, n_estimators=100)\n",
      "0.76\n"
     ]
    }
   ],
   "source": [
    "# Create the tpot classifier \n",
    "tpot_clf = TPOTClassifier(generations=2, population_size=4, offspring_size=3, scoring='accuracy', cv=2,\n",
    "                          verbosity=2, random_state=42)\n",
    "\n",
    "# Fit the classifier to the training data\n",
    "tpot_clf.fit(X_train, y_train)\n",
    "\n",
    "# Score on the test set\n",
    "print(tpot_clf.score(X_test, y_test))"
   ]
  },
  {
   "cell_type": "code",
   "execution_count": 167,
   "id": "17f1d715",
   "metadata": {},
   "outputs": [
    {
     "name": "stdout",
     "output_type": "stream",
     "text": [
      "                                                                           \n",
      "Generation 1 - Current best internal CV score: 0.7949999999999999\n",
      "                                                                           \n",
      "Generation 2 - Current best internal CV score: 0.7949999999999999\n",
      "                                                                            \n",
      "Best pipeline: BernoulliNB(input_matrix, alpha=0.01, fit_prior=True)\n",
      "0.74\n"
     ]
    }
   ],
   "source": [
    "# Create the tpot classifier \n",
    "tpot_clf = TPOTClassifier(generations=2, population_size=4, offspring_size=3, scoring='accuracy', cv=2,\n",
    "                          verbosity=2, random_state=122)\n",
    "\n",
    "# Fit the classifier to the training data\n",
    "tpot_clf.fit(X_train, y_train)\n",
    "\n",
    "# Score on the test set\n",
    "print(tpot_clf.score(X_test, y_test))"
   ]
  },
  {
   "cell_type": "code",
   "execution_count": 168,
   "id": "dec51d9a",
   "metadata": {},
   "outputs": [
    {
     "name": "stdout",
     "output_type": "stream",
     "text": [
      "                                                                           \n",
      "Generation 1 - Current best internal CV score: 0.8\n",
      "                                                                            \n",
      "Generation 2 - Current best internal CV score: 0.8025\n",
      "                                                                            \n",
      "Best pipeline: RandomForestClassifier(StandardScaler(input_matrix), bootstrap=False, criterion=entropy, max_features=0.35000000000000003, min_samples_leaf=14, min_samples_split=4, n_estimators=100)\n",
      "0.76\n"
     ]
    }
   ],
   "source": [
    "# Create the tpot classifier \n",
    "tpot_clf = TPOTClassifier(generations=2, population_size=4, offspring_size=3, scoring='accuracy', cv=2,\n",
    "                          verbosity=2, random_state=99)\n",
    "\n",
    "# Fit the classifier to the training data\n",
    "tpot_clf.fit(X_train, y_train)\n",
    "\n",
    "# Score on the test set\n",
    "print(tpot_clf.score(X_test, y_test))"
   ]
  }
 ],
 "metadata": {
  "kernelspec": {
   "display_name": "Python 3 (ipykernel)",
   "language": "python",
   "name": "python3"
  },
  "language_info": {
   "codemirror_mode": {
    "name": "ipython",
    "version": 3
   },
   "file_extension": ".py",
   "mimetype": "text/x-python",
   "name": "python",
   "nbconvert_exporter": "python",
   "pygments_lexer": "ipython3",
   "version": "3.10.5"
  }
 },
 "nbformat": 4,
 "nbformat_minor": 5
}
